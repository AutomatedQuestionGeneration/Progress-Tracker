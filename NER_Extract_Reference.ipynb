{
  "nbformat": 4,
  "nbformat_minor": 0,
  "metadata": {
    "colab": {
      "name": "NER-Extract-Reference.ipynb",
      "provenance": [],
      "collapsed_sections": [],
      "mount_file_id": "1ssNMRZiUxDLFGCakIPzhYvtiqUtyHl7j",
      "authorship_tag": "ABX9TyPfbVdk4/0PpbSlYQNImQyF"
    },
    "kernelspec": {
      "name": "python3",
      "display_name": "Python 3"
    },
    "language_info": {
      "name": "python"
    }
  },
  "cells": [
    {
      "cell_type": "code",
      "metadata": {
        "id": "7CRKtIkETVBs"
      },
      "source": [
        "import pandas as pd\n",
        "import numpy as np\n",
        "import matplotlib.pyplot as plt\n",
        "%matplotlib inline"
      ],
      "execution_count": null,
      "outputs": []
    },
    {
      "cell_type": "code",
      "metadata": {
        "id": "7WsnWanWWAt7"
      },
      "source": [
        "!pip install spacy\n",
        "!python -m spacy download en_core_web_sm"
      ],
      "execution_count": null,
      "outputs": []
    },
    {
      "cell_type": "code",
      "metadata": {
        "id": "owHtq0utUEj1"
      },
      "source": [
        "df = pd.read_excel(\"/content/drive/MyDrive/AutomatedQuestionGeneration/train.xlsx\")"
      ],
      "execution_count": null,
      "outputs": []
    },
    {
      "cell_type": "code",
      "metadata": {
        "id": "nFWLSFvxUP5Q"
      },
      "source": [
        "df = df.drop(\"Unnamed: 0\",axis = 1)"
      ],
      "execution_count": null,
      "outputs": []
    },
    {
      "cell_type": "code",
      "metadata": {
        "colab": {
          "base_uri": "https://localhost:8080/",
          "height": 200
        },
        "id": "4cJXaHVjUT1Y",
        "outputId": "f38a5e9f-5635-496f-8cf7-83b49429052f"
      },
      "source": [
        "df.head()"
      ],
      "execution_count": null,
      "outputs": [
        {
          "output_type": "execute_result",
          "data": {
            "text/html": [
              "<div>\n",
              "<style scoped>\n",
              "    .dataframe tbody tr th:only-of-type {\n",
              "        vertical-align: middle;\n",
              "    }\n",
              "\n",
              "    .dataframe tbody tr th {\n",
              "        vertical-align: top;\n",
              "    }\n",
              "\n",
              "    .dataframe thead th {\n",
              "        text-align: right;\n",
              "    }\n",
              "</style>\n",
              "<table border=\"1\" class=\"dataframe\">\n",
              "  <thead>\n",
              "    <tr style=\"text-align: right;\">\n",
              "      <th></th>\n",
              "      <th>index</th>\n",
              "      <th>question</th>\n",
              "      <th>context</th>\n",
              "      <th>text</th>\n",
              "      <th>answer_start</th>\n",
              "      <th>c_id</th>\n",
              "    </tr>\n",
              "  </thead>\n",
              "  <tbody>\n",
              "    <tr>\n",
              "      <th>0</th>\n",
              "      <td>56be85543aeaaa14008c9063</td>\n",
              "      <td>When did Beyonce start becoming popular?</td>\n",
              "      <td>Beyoncé Giselle Knowles-Carter (/biːˈjɒnseɪ/ b...</td>\n",
              "      <td>in the late 1990s</td>\n",
              "      <td>269.0</td>\n",
              "      <td>0</td>\n",
              "    </tr>\n",
              "    <tr>\n",
              "      <th>1</th>\n",
              "      <td>56be85543aeaaa14008c9065</td>\n",
              "      <td>What areas did Beyonce compete in when she was...</td>\n",
              "      <td>Beyoncé Giselle Knowles-Carter (/biːˈjɒnseɪ/ b...</td>\n",
              "      <td>singing and dancing</td>\n",
              "      <td>207.0</td>\n",
              "      <td>0</td>\n",
              "    </tr>\n",
              "    <tr>\n",
              "      <th>2</th>\n",
              "      <td>56be85543aeaaa14008c9066</td>\n",
              "      <td>When did Beyonce leave Destiny's Child and bec...</td>\n",
              "      <td>Beyoncé Giselle Knowles-Carter (/biːˈjɒnseɪ/ b...</td>\n",
              "      <td>2003</td>\n",
              "      <td>526.0</td>\n",
              "      <td>0</td>\n",
              "    </tr>\n",
              "    <tr>\n",
              "      <th>3</th>\n",
              "      <td>56bf6b0f3aeaaa14008c9601</td>\n",
              "      <td>In what city and state did Beyonce  grow up?</td>\n",
              "      <td>Beyoncé Giselle Knowles-Carter (/biːˈjɒnseɪ/ b...</td>\n",
              "      <td>Houston, Texas</td>\n",
              "      <td>166.0</td>\n",
              "      <td>0</td>\n",
              "    </tr>\n",
              "    <tr>\n",
              "      <th>4</th>\n",
              "      <td>56bf6b0f3aeaaa14008c9602</td>\n",
              "      <td>In which decade did Beyonce become famous?</td>\n",
              "      <td>Beyoncé Giselle Knowles-Carter (/biːˈjɒnseɪ/ b...</td>\n",
              "      <td>late 1990s</td>\n",
              "      <td>276.0</td>\n",
              "      <td>0</td>\n",
              "    </tr>\n",
              "  </tbody>\n",
              "</table>\n",
              "</div>"
            ],
            "text/plain": [
              "                      index  ... c_id\n",
              "0  56be85543aeaaa14008c9063  ...    0\n",
              "1  56be85543aeaaa14008c9065  ...    0\n",
              "2  56be85543aeaaa14008c9066  ...    0\n",
              "3  56bf6b0f3aeaaa14008c9601  ...    0\n",
              "4  56bf6b0f3aeaaa14008c9602  ...    0\n",
              "\n",
              "[5 rows x 6 columns]"
            ]
          },
          "metadata": {
            "tags": []
          },
          "execution_count": 6
        }
      ]
    },
    {
      "cell_type": "code",
      "metadata": {
        "id": "Id2624NiWLyQ"
      },
      "source": [
        "import spacy\n",
        "nlp = spacy.load(\"en_core_web_sm\")"
      ],
      "execution_count": null,
      "outputs": []
    },
    {
      "cell_type": "code",
      "metadata": {
        "id": "oFx3pajFU_Om"
      },
      "source": [
        "def Sort_Tuple(tup):\n",
        "  # Sorting a list of tuples using the second item  \n",
        "    tup.sort(key = lambda x: x[1]) \n",
        "    return tup \n",
        "\n",
        "split_ratio = 0.6\n",
        "\n",
        "def reference_bifurcate(original_context,answer_start):\n",
        "  # Total sentences in the original_context\n",
        "  n_sentences = original_context.count('. ') + 1\n",
        "  # Number of sentenecs to consider in the reference context --> Half the size of the given context\n",
        "  window_size = int(np.round(n_sentences*split_ratio))\n",
        "  #Perform NER on each sentence and select window_size number of sentences (which have the least number of Named Entities)\n",
        "  context_list = original_context.split(\". \")\n",
        "  context_len_list = [len(x) for x in context_list]\n",
        "  c = 0\n",
        "  answer_sentence_index = 0\n",
        "  for i in context_len_list:\n",
        "    c += i\n",
        "    if c >= answer_start:\n",
        "      break\n",
        "    answer_sentence_index += 1\n",
        "\n",
        "\n",
        "  # Initialising NER list counter\n",
        "  ner_count = []\n",
        "\n",
        "\n",
        "  for i in range(n_sentences):\n",
        "    # Appending the number of entities of each sentence to a list\n",
        "    ner_count.append((i,len(nlp(context_list[i]).ents)))\n",
        "  \n",
        "  ner_count = Sort_Tuple(ner_count)\n",
        "  \n",
        "  j = 0\n",
        "  ref_context = \"\"\n",
        "  given_context = \"\"\n",
        "\n",
        "  ref_context += context_list[answer_sentence_index] # Answer sentence\n",
        "  window_size -= 1\n",
        "\n",
        "  for j in range(n_sentences):\n",
        "    if (context_list[ner_count[j][0]] == context_list[answer_sentence_index]):\n",
        "      continue\n",
        "    if (j < window_size):\n",
        "      ref_context = \". \".join([ref_context,context_list[ner_count[j][0]]])\n",
        "    else:\n",
        "      given_context = \". \".join([given_context,context_list[ner_count[j][0]]])\n",
        "\n",
        "  return given_context, ref_context"
      ],
      "execution_count": null,
      "outputs": []
    },
    {
      "cell_type": "code",
      "metadata": {
        "colab": {
          "base_uri": "https://localhost:8080/",
          "height": 653
        },
        "id": "VbcYGfJ-WURs",
        "outputId": "a047cc68-570a-4470-c977-31fdc75c573c"
      },
      "source": [
        "temp = df[:50]\n",
        "temp.head(20)"
      ],
      "execution_count": null,
      "outputs": [
        {
          "output_type": "execute_result",
          "data": {
            "text/html": [
              "<div>\n",
              "<style scoped>\n",
              "    .dataframe tbody tr th:only-of-type {\n",
              "        vertical-align: middle;\n",
              "    }\n",
              "\n",
              "    .dataframe tbody tr th {\n",
              "        vertical-align: top;\n",
              "    }\n",
              "\n",
              "    .dataframe thead th {\n",
              "        text-align: right;\n",
              "    }\n",
              "</style>\n",
              "<table border=\"1\" class=\"dataframe\">\n",
              "  <thead>\n",
              "    <tr style=\"text-align: right;\">\n",
              "      <th></th>\n",
              "      <th>index</th>\n",
              "      <th>question</th>\n",
              "      <th>context</th>\n",
              "      <th>text</th>\n",
              "      <th>answer_start</th>\n",
              "      <th>c_id</th>\n",
              "    </tr>\n",
              "  </thead>\n",
              "  <tbody>\n",
              "    <tr>\n",
              "      <th>0</th>\n",
              "      <td>56be85543aeaaa14008c9063</td>\n",
              "      <td>When did Beyonce start becoming popular?</td>\n",
              "      <td>Beyoncé Giselle Knowles-Carter (/biːˈjɒnseɪ/ b...</td>\n",
              "      <td>in the late 1990s</td>\n",
              "      <td>269.0</td>\n",
              "      <td>0</td>\n",
              "    </tr>\n",
              "    <tr>\n",
              "      <th>1</th>\n",
              "      <td>56be85543aeaaa14008c9065</td>\n",
              "      <td>What areas did Beyonce compete in when she was...</td>\n",
              "      <td>Beyoncé Giselle Knowles-Carter (/biːˈjɒnseɪ/ b...</td>\n",
              "      <td>singing and dancing</td>\n",
              "      <td>207.0</td>\n",
              "      <td>0</td>\n",
              "    </tr>\n",
              "    <tr>\n",
              "      <th>2</th>\n",
              "      <td>56be85543aeaaa14008c9066</td>\n",
              "      <td>When did Beyonce leave Destiny's Child and bec...</td>\n",
              "      <td>Beyoncé Giselle Knowles-Carter (/biːˈjɒnseɪ/ b...</td>\n",
              "      <td>2003</td>\n",
              "      <td>526.0</td>\n",
              "      <td>0</td>\n",
              "    </tr>\n",
              "    <tr>\n",
              "      <th>3</th>\n",
              "      <td>56bf6b0f3aeaaa14008c9601</td>\n",
              "      <td>In what city and state did Beyonce  grow up?</td>\n",
              "      <td>Beyoncé Giselle Knowles-Carter (/biːˈjɒnseɪ/ b...</td>\n",
              "      <td>Houston, Texas</td>\n",
              "      <td>166.0</td>\n",
              "      <td>0</td>\n",
              "    </tr>\n",
              "    <tr>\n",
              "      <th>4</th>\n",
              "      <td>56bf6b0f3aeaaa14008c9602</td>\n",
              "      <td>In which decade did Beyonce become famous?</td>\n",
              "      <td>Beyoncé Giselle Knowles-Carter (/biːˈjɒnseɪ/ b...</td>\n",
              "      <td>late 1990s</td>\n",
              "      <td>276.0</td>\n",
              "      <td>0</td>\n",
              "    </tr>\n",
              "    <tr>\n",
              "      <th>5</th>\n",
              "      <td>56bf6b0f3aeaaa14008c9603</td>\n",
              "      <td>In what R&amp;B group was she the lead singer?</td>\n",
              "      <td>Beyoncé Giselle Knowles-Carter (/biːˈjɒnseɪ/ b...</td>\n",
              "      <td>Destiny's Child</td>\n",
              "      <td>320.0</td>\n",
              "      <td>0</td>\n",
              "    </tr>\n",
              "    <tr>\n",
              "      <th>6</th>\n",
              "      <td>56bf6b0f3aeaaa14008c9604</td>\n",
              "      <td>What album made her a worldwide known artist?</td>\n",
              "      <td>Beyoncé Giselle Knowles-Carter (/biːˈjɒnseɪ/ b...</td>\n",
              "      <td>Dangerously in Love</td>\n",
              "      <td>505.0</td>\n",
              "      <td>0</td>\n",
              "    </tr>\n",
              "    <tr>\n",
              "      <th>7</th>\n",
              "      <td>56bf6b0f3aeaaa14008c9605</td>\n",
              "      <td>Who managed the Destiny's Child group?</td>\n",
              "      <td>Beyoncé Giselle Knowles-Carter (/biːˈjɒnseɪ/ b...</td>\n",
              "      <td>Mathew Knowles</td>\n",
              "      <td>360.0</td>\n",
              "      <td>0</td>\n",
              "    </tr>\n",
              "    <tr>\n",
              "      <th>8</th>\n",
              "      <td>56d43c5f2ccc5a1400d830a9</td>\n",
              "      <td>When did Beyoncé rise to fame?</td>\n",
              "      <td>Beyoncé Giselle Knowles-Carter (/biːˈjɒnseɪ/ b...</td>\n",
              "      <td>late 1990s</td>\n",
              "      <td>276.0</td>\n",
              "      <td>0</td>\n",
              "    </tr>\n",
              "    <tr>\n",
              "      <th>9</th>\n",
              "      <td>56d43c5f2ccc5a1400d830aa</td>\n",
              "      <td>What role did Beyoncé have in Destiny's Child?</td>\n",
              "      <td>Beyoncé Giselle Knowles-Carter (/biːˈjɒnseɪ/ b...</td>\n",
              "      <td>lead singer</td>\n",
              "      <td>290.0</td>\n",
              "      <td>0</td>\n",
              "    </tr>\n",
              "    <tr>\n",
              "      <th>10</th>\n",
              "      <td>56d43c5f2ccc5a1400d830ab</td>\n",
              "      <td>What was the first album Beyoncé released as a...</td>\n",
              "      <td>Beyoncé Giselle Knowles-Carter (/biːˈjɒnseɪ/ b...</td>\n",
              "      <td>Dangerously in Love</td>\n",
              "      <td>505.0</td>\n",
              "      <td>0</td>\n",
              "    </tr>\n",
              "    <tr>\n",
              "      <th>11</th>\n",
              "      <td>56d43c5f2ccc5a1400d830ac</td>\n",
              "      <td>When did Beyoncé release Dangerously in Love?</td>\n",
              "      <td>Beyoncé Giselle Knowles-Carter (/biːˈjɒnseɪ/ b...</td>\n",
              "      <td>2003</td>\n",
              "      <td>526.0</td>\n",
              "      <td>0</td>\n",
              "    </tr>\n",
              "    <tr>\n",
              "      <th>12</th>\n",
              "      <td>56d43c5f2ccc5a1400d830ad</td>\n",
              "      <td>How many Grammy awards did Beyoncé win for her...</td>\n",
              "      <td>Beyoncé Giselle Knowles-Carter (/biːˈjɒnseɪ/ b...</td>\n",
              "      <td>five</td>\n",
              "      <td>590.0</td>\n",
              "      <td>0</td>\n",
              "    </tr>\n",
              "    <tr>\n",
              "      <th>13</th>\n",
              "      <td>56d43ce42ccc5a1400d830b4</td>\n",
              "      <td>What was Beyoncé's role in Destiny's Child?</td>\n",
              "      <td>Beyoncé Giselle Knowles-Carter (/biːˈjɒnseɪ/ b...</td>\n",
              "      <td>lead singer</td>\n",
              "      <td>290.0</td>\n",
              "      <td>0</td>\n",
              "    </tr>\n",
              "    <tr>\n",
              "      <th>14</th>\n",
              "      <td>56d43ce42ccc5a1400d830b5</td>\n",
              "      <td>What was the name of Beyoncé's first solo album?</td>\n",
              "      <td>Beyoncé Giselle Knowles-Carter (/biːˈjɒnseɪ/ b...</td>\n",
              "      <td>Dangerously in Love</td>\n",
              "      <td>505.0</td>\n",
              "      <td>0</td>\n",
              "    </tr>\n",
              "    <tr>\n",
              "      <th>15</th>\n",
              "      <td>56be86cf3aeaaa14008c9076</td>\n",
              "      <td>After her second solo album, what other entert...</td>\n",
              "      <td>Following the disbandment of Destiny's Child i...</td>\n",
              "      <td>acting</td>\n",
              "      <td>207.0</td>\n",
              "      <td>1</td>\n",
              "    </tr>\n",
              "    <tr>\n",
              "      <th>16</th>\n",
              "      <td>56be86cf3aeaaa14008c9078</td>\n",
              "      <td>Which artist did Beyonce marry?</td>\n",
              "      <td>Following the disbandment of Destiny's Child i...</td>\n",
              "      <td>Jay Z</td>\n",
              "      <td>369.0</td>\n",
              "      <td>1</td>\n",
              "    </tr>\n",
              "    <tr>\n",
              "      <th>17</th>\n",
              "      <td>56be86cf3aeaaa14008c9079</td>\n",
              "      <td>To set the record for Grammys, how many did Be...</td>\n",
              "      <td>Following the disbandment of Destiny's Child i...</td>\n",
              "      <td>six</td>\n",
              "      <td>565.0</td>\n",
              "      <td>1</td>\n",
              "    </tr>\n",
              "    <tr>\n",
              "      <th>18</th>\n",
              "      <td>56bf6e823aeaaa14008c9627</td>\n",
              "      <td>For what movie did Beyonce receive  her first ...</td>\n",
              "      <td>Following the disbandment of Destiny's Child i...</td>\n",
              "      <td>Dreamgirls</td>\n",
              "      <td>260.0</td>\n",
              "      <td>1</td>\n",
              "    </tr>\n",
              "    <tr>\n",
              "      <th>19</th>\n",
              "      <td>56bf6e823aeaaa14008c9629</td>\n",
              "      <td>When did Beyonce take a hiatus in her career a...</td>\n",
              "      <td>Following the disbandment of Destiny's Child i...</td>\n",
              "      <td>2010</td>\n",
              "      <td>586.0</td>\n",
              "      <td>1</td>\n",
              "    </tr>\n",
              "  </tbody>\n",
              "</table>\n",
              "</div>"
            ],
            "text/plain": [
              "                       index  ... c_id\n",
              "0   56be85543aeaaa14008c9063  ...    0\n",
              "1   56be85543aeaaa14008c9065  ...    0\n",
              "2   56be85543aeaaa14008c9066  ...    0\n",
              "3   56bf6b0f3aeaaa14008c9601  ...    0\n",
              "4   56bf6b0f3aeaaa14008c9602  ...    0\n",
              "5   56bf6b0f3aeaaa14008c9603  ...    0\n",
              "6   56bf6b0f3aeaaa14008c9604  ...    0\n",
              "7   56bf6b0f3aeaaa14008c9605  ...    0\n",
              "8   56d43c5f2ccc5a1400d830a9  ...    0\n",
              "9   56d43c5f2ccc5a1400d830aa  ...    0\n",
              "10  56d43c5f2ccc5a1400d830ab  ...    0\n",
              "11  56d43c5f2ccc5a1400d830ac  ...    0\n",
              "12  56d43c5f2ccc5a1400d830ad  ...    0\n",
              "13  56d43ce42ccc5a1400d830b4  ...    0\n",
              "14  56d43ce42ccc5a1400d830b5  ...    0\n",
              "15  56be86cf3aeaaa14008c9076  ...    1\n",
              "16  56be86cf3aeaaa14008c9078  ...    1\n",
              "17  56be86cf3aeaaa14008c9079  ...    1\n",
              "18  56bf6e823aeaaa14008c9627  ...    1\n",
              "19  56bf6e823aeaaa14008c9629  ...    1\n",
              "\n",
              "[20 rows x 6 columns]"
            ]
          },
          "metadata": {
            "tags": []
          },
          "execution_count": 44
        }
      ]
    },
    {
      "cell_type": "code",
      "metadata": {
        "id": "o57K6tN9lG96",
        "colab": {
          "base_uri": "https://localhost:8080/"
        },
        "outputId": "bd845679-0649-4ee9-b081-909aedbffe7e"
      },
      "source": [
        "temp[\"given_context\"] = \"a\"\n",
        "temp[\"reference_context\"] = \"a\""
      ],
      "execution_count": null,
      "outputs": [
        {
          "output_type": "stream",
          "text": [
            "/usr/local/lib/python3.7/dist-packages/ipykernel_launcher.py:1: SettingWithCopyWarning: \n",
            "A value is trying to be set on a copy of a slice from a DataFrame.\n",
            "Try using .loc[row_indexer,col_indexer] = value instead\n",
            "\n",
            "See the caveats in the documentation: https://pandas.pydata.org/pandas-docs/stable/user_guide/indexing.html#returning-a-view-versus-a-copy\n",
            "  \"\"\"Entry point for launching an IPython kernel.\n",
            "/usr/local/lib/python3.7/dist-packages/ipykernel_launcher.py:2: SettingWithCopyWarning: \n",
            "A value is trying to be set on a copy of a slice from a DataFrame.\n",
            "Try using .loc[row_indexer,col_indexer] = value instead\n",
            "\n",
            "See the caveats in the documentation: https://pandas.pydata.org/pandas-docs/stable/user_guide/indexing.html#returning-a-view-versus-a-copy\n",
            "  \n"
          ],
          "name": "stderr"
        }
      ]
    },
    {
      "cell_type": "code",
      "metadata": {
        "id": "wLREORTkiBut",
        "colab": {
          "base_uri": "https://localhost:8080/"
        },
        "outputId": "da886dbf-8191-454f-9e40-4f3fa4c7d2d5"
      },
      "source": [
        "for i in range(len(temp)):\n",
        "  temp[\"given_context\"][i],temp[\"reference_context\"][i] = reference_bifurcate(temp[\"context\"][i],temp[\"answer_start\"][i])\n",
        "temp[\"given_context\"] = temp[\"given_context\"]\n",
        "temp[\"reference_context\"] = temp[\"reference_context\"]"
      ],
      "execution_count": null,
      "outputs": [
        {
          "output_type": "stream",
          "text": [
            "/usr/local/lib/python3.7/dist-packages/ipykernel_launcher.py:2: SettingWithCopyWarning: \n",
            "A value is trying to be set on a copy of a slice from a DataFrame\n",
            "\n",
            "See the caveats in the documentation: https://pandas.pydata.org/pandas-docs/stable/user_guide/indexing.html#returning-a-view-versus-a-copy\n",
            "  \n",
            "/usr/local/lib/python3.7/dist-packages/IPython/core/interactiveshell.py:2882: SettingWithCopyWarning: \n",
            "A value is trying to be set on a copy of a slice from a DataFrame\n",
            "\n",
            "See the caveats in the documentation: https://pandas.pydata.org/pandas-docs/stable/user_guide/indexing.html#returning-a-view-versus-a-copy\n",
            "  exec(code_obj, self.user_global_ns, self.user_ns)\n",
            "/usr/local/lib/python3.7/dist-packages/ipykernel_launcher.py:3: SettingWithCopyWarning: \n",
            "A value is trying to be set on a copy of a slice from a DataFrame.\n",
            "Try using .loc[row_indexer,col_indexer] = value instead\n",
            "\n",
            "See the caveats in the documentation: https://pandas.pydata.org/pandas-docs/stable/user_guide/indexing.html#returning-a-view-versus-a-copy\n",
            "  This is separate from the ipykernel package so we can avoid doing imports until\n",
            "/usr/local/lib/python3.7/dist-packages/ipykernel_launcher.py:4: SettingWithCopyWarning: \n",
            "A value is trying to be set on a copy of a slice from a DataFrame.\n",
            "Try using .loc[row_indexer,col_indexer] = value instead\n",
            "\n",
            "See the caveats in the documentation: https://pandas.pydata.org/pandas-docs/stable/user_guide/indexing.html#returning-a-view-versus-a-copy\n",
            "  after removing the cwd from sys.path.\n"
          ],
          "name": "stderr"
        }
      ]
    },
    {
      "cell_type": "code",
      "metadata": {
        "colab": {
          "base_uri": "https://localhost:8080/",
          "height": 978
        },
        "id": "RpKciq6IiRei",
        "outputId": "f60a4510-ac68-46b9-8ee2-dd3601f35772"
      },
      "source": [
        "temp.head(20)"
      ],
      "execution_count": null,
      "outputs": [
        {
          "output_type": "execute_result",
          "data": {
            "text/html": [
              "<div>\n",
              "<style scoped>\n",
              "    .dataframe tbody tr th:only-of-type {\n",
              "        vertical-align: middle;\n",
              "    }\n",
              "\n",
              "    .dataframe tbody tr th {\n",
              "        vertical-align: top;\n",
              "    }\n",
              "\n",
              "    .dataframe thead th {\n",
              "        text-align: right;\n",
              "    }\n",
              "</style>\n",
              "<table border=\"1\" class=\"dataframe\">\n",
              "  <thead>\n",
              "    <tr style=\"text-align: right;\">\n",
              "      <th></th>\n",
              "      <th>index</th>\n",
              "      <th>question</th>\n",
              "      <th>context</th>\n",
              "      <th>text</th>\n",
              "      <th>answer_start</th>\n",
              "      <th>c_id</th>\n",
              "      <th>given_context</th>\n",
              "      <th>reference_context</th>\n",
              "    </tr>\n",
              "  </thead>\n",
              "  <tbody>\n",
              "    <tr>\n",
              "      <th>0</th>\n",
              "      <td>56be85543aeaaa14008c9063</td>\n",
              "      <td>When did Beyonce start becoming popular?</td>\n",
              "      <td>Beyoncé Giselle Knowles-Carter (/biːˈjɒnseɪ/ b...</td>\n",
              "      <td>in the late 1990s</td>\n",
              "      <td>269.0</td>\n",
              "      <td>0</td>\n",
              "      <td>. Managed by her father, Mathew Knowles, the g...</td>\n",
              "      <td>Born and raised in Houston, Texas, she perform...</td>\n",
              "    </tr>\n",
              "    <tr>\n",
              "      <th>1</th>\n",
              "      <td>56be85543aeaaa14008c9065</td>\n",
              "      <td>What areas did Beyonce compete in when she was...</td>\n",
              "      <td>Beyoncé Giselle Knowles-Carter (/biːˈjɒnseɪ/ b...</td>\n",
              "      <td>singing and dancing</td>\n",
              "      <td>207.0</td>\n",
              "      <td>0</td>\n",
              "      <td>. Managed by her father, Mathew Knowles, the g...</td>\n",
              "      <td>Born and raised in Houston, Texas, she perform...</td>\n",
              "    </tr>\n",
              "    <tr>\n",
              "      <th>2</th>\n",
              "      <td>56be85543aeaaa14008c9066</td>\n",
              "      <td>When did Beyonce leave Destiny's Child and bec...</td>\n",
              "      <td>Beyoncé Giselle Knowles-Carter (/biːˈjɒnseɪ/ b...</td>\n",
              "      <td>2003</td>\n",
              "      <td>526.0</td>\n",
              "      <td>0</td>\n",
              "      <td>. Managed by her father, Mathew Knowles, the g...</td>\n",
              "      <td>Their hiatus saw the release of Beyoncé's debu...</td>\n",
              "    </tr>\n",
              "    <tr>\n",
              "      <th>3</th>\n",
              "      <td>56bf6b0f3aeaaa14008c9601</td>\n",
              "      <td>In what city and state did Beyonce  grow up?</td>\n",
              "      <td>Beyoncé Giselle Knowles-Carter (/biːˈjɒnseɪ/ b...</td>\n",
              "      <td>Houston, Texas</td>\n",
              "      <td>166.0</td>\n",
              "      <td>0</td>\n",
              "      <td>. Managed by her father, Mathew Knowles, the g...</td>\n",
              "      <td>Born and raised in Houston, Texas, she perform...</td>\n",
              "    </tr>\n",
              "    <tr>\n",
              "      <th>4</th>\n",
              "      <td>56bf6b0f3aeaaa14008c9602</td>\n",
              "      <td>In which decade did Beyonce become famous?</td>\n",
              "      <td>Beyoncé Giselle Knowles-Carter (/biːˈjɒnseɪ/ b...</td>\n",
              "      <td>late 1990s</td>\n",
              "      <td>276.0</td>\n",
              "      <td>0</td>\n",
              "      <td>. Managed by her father, Mathew Knowles, the g...</td>\n",
              "      <td>Born and raised in Houston, Texas, she perform...</td>\n",
              "    </tr>\n",
              "    <tr>\n",
              "      <th>5</th>\n",
              "      <td>56bf6b0f3aeaaa14008c9603</td>\n",
              "      <td>In what R&amp;B group was she the lead singer?</td>\n",
              "      <td>Beyoncé Giselle Knowles-Carter (/biːˈjɒnseɪ/ b...</td>\n",
              "      <td>Destiny's Child</td>\n",
              "      <td>320.0</td>\n",
              "      <td>0</td>\n",
              "      <td>. Managed by her father, Mathew Knowles, the g...</td>\n",
              "      <td>Born and raised in Houston, Texas, she perform...</td>\n",
              "    </tr>\n",
              "    <tr>\n",
              "      <th>6</th>\n",
              "      <td>56bf6b0f3aeaaa14008c9604</td>\n",
              "      <td>What album made her a worldwide known artist?</td>\n",
              "      <td>Beyoncé Giselle Knowles-Carter (/biːˈjɒnseɪ/ b...</td>\n",
              "      <td>Dangerously in Love</td>\n",
              "      <td>505.0</td>\n",
              "      <td>0</td>\n",
              "      <td>. Managed by her father, Mathew Knowles, the g...</td>\n",
              "      <td>Their hiatus saw the release of Beyoncé's debu...</td>\n",
              "    </tr>\n",
              "    <tr>\n",
              "      <th>7</th>\n",
              "      <td>56bf6b0f3aeaaa14008c9605</td>\n",
              "      <td>Who managed the Destiny's Child group?</td>\n",
              "      <td>Beyoncé Giselle Knowles-Carter (/biːˈjɒnseɪ/ b...</td>\n",
              "      <td>Mathew Knowles</td>\n",
              "      <td>360.0</td>\n",
              "      <td>0</td>\n",
              "      <td>. Born and raised in Houston, Texas, she perfo...</td>\n",
              "      <td>Managed by her father, Mathew Knowles, the gro...</td>\n",
              "    </tr>\n",
              "    <tr>\n",
              "      <th>8</th>\n",
              "      <td>56d43c5f2ccc5a1400d830a9</td>\n",
              "      <td>When did Beyoncé rise to fame?</td>\n",
              "      <td>Beyoncé Giselle Knowles-Carter (/biːˈjɒnseɪ/ b...</td>\n",
              "      <td>late 1990s</td>\n",
              "      <td>276.0</td>\n",
              "      <td>0</td>\n",
              "      <td>. Managed by her father, Mathew Knowles, the g...</td>\n",
              "      <td>Born and raised in Houston, Texas, she perform...</td>\n",
              "    </tr>\n",
              "    <tr>\n",
              "      <th>9</th>\n",
              "      <td>56d43c5f2ccc5a1400d830aa</td>\n",
              "      <td>What role did Beyoncé have in Destiny's Child?</td>\n",
              "      <td>Beyoncé Giselle Knowles-Carter (/biːˈjɒnseɪ/ b...</td>\n",
              "      <td>lead singer</td>\n",
              "      <td>290.0</td>\n",
              "      <td>0</td>\n",
              "      <td>. Managed by her father, Mathew Knowles, the g...</td>\n",
              "      <td>Born and raised in Houston, Texas, she perform...</td>\n",
              "    </tr>\n",
              "    <tr>\n",
              "      <th>10</th>\n",
              "      <td>56d43c5f2ccc5a1400d830ab</td>\n",
              "      <td>What was the first album Beyoncé released as a...</td>\n",
              "      <td>Beyoncé Giselle Knowles-Carter (/biːˈjɒnseɪ/ b...</td>\n",
              "      <td>Dangerously in Love</td>\n",
              "      <td>505.0</td>\n",
              "      <td>0</td>\n",
              "      <td>. Managed by her father, Mathew Knowles, the g...</td>\n",
              "      <td>Their hiatus saw the release of Beyoncé's debu...</td>\n",
              "    </tr>\n",
              "    <tr>\n",
              "      <th>11</th>\n",
              "      <td>56d43c5f2ccc5a1400d830ac</td>\n",
              "      <td>When did Beyoncé release Dangerously in Love?</td>\n",
              "      <td>Beyoncé Giselle Knowles-Carter (/biːˈjɒnseɪ/ b...</td>\n",
              "      <td>2003</td>\n",
              "      <td>526.0</td>\n",
              "      <td>0</td>\n",
              "      <td>. Managed by her father, Mathew Knowles, the g...</td>\n",
              "      <td>Their hiatus saw the release of Beyoncé's debu...</td>\n",
              "    </tr>\n",
              "    <tr>\n",
              "      <th>12</th>\n",
              "      <td>56d43c5f2ccc5a1400d830ad</td>\n",
              "      <td>How many Grammy awards did Beyoncé win for her...</td>\n",
              "      <td>Beyoncé Giselle Knowles-Carter (/biːˈjɒnseɪ/ b...</td>\n",
              "      <td>five</td>\n",
              "      <td>590.0</td>\n",
              "      <td>0</td>\n",
              "      <td>. Managed by her father, Mathew Knowles, the g...</td>\n",
              "      <td>Their hiatus saw the release of Beyoncé's debu...</td>\n",
              "    </tr>\n",
              "    <tr>\n",
              "      <th>13</th>\n",
              "      <td>56d43ce42ccc5a1400d830b4</td>\n",
              "      <td>What was Beyoncé's role in Destiny's Child?</td>\n",
              "      <td>Beyoncé Giselle Knowles-Carter (/biːˈjɒnseɪ/ b...</td>\n",
              "      <td>lead singer</td>\n",
              "      <td>290.0</td>\n",
              "      <td>0</td>\n",
              "      <td>. Managed by her father, Mathew Knowles, the g...</td>\n",
              "      <td>Born and raised in Houston, Texas, she perform...</td>\n",
              "    </tr>\n",
              "    <tr>\n",
              "      <th>14</th>\n",
              "      <td>56d43ce42ccc5a1400d830b5</td>\n",
              "      <td>What was the name of Beyoncé's first solo album?</td>\n",
              "      <td>Beyoncé Giselle Knowles-Carter (/biːˈjɒnseɪ/ b...</td>\n",
              "      <td>Dangerously in Love</td>\n",
              "      <td>505.0</td>\n",
              "      <td>0</td>\n",
              "      <td>. Managed by her father, Mathew Knowles, the g...</td>\n",
              "      <td>Their hiatus saw the release of Beyoncé's debu...</td>\n",
              "    </tr>\n",
              "    <tr>\n",
              "      <th>15</th>\n",
              "      <td>56be86cf3aeaaa14008c9076</td>\n",
              "      <td>After her second solo album, what other entert...</td>\n",
              "      <td>Following the disbandment of Destiny's Child i...</td>\n",
              "      <td>acting</td>\n",
              "      <td>207.0</td>\n",
              "      <td>1</td>\n",
              "      <td>. Following the disbandment of Destiny's Child...</td>\n",
              "      <td>Beyoncé also ventured into acting, with a Gold...</td>\n",
              "    </tr>\n",
              "    <tr>\n",
              "      <th>16</th>\n",
              "      <td>56be86cf3aeaaa14008c9078</td>\n",
              "      <td>Which artist did Beyonce marry?</td>\n",
              "      <td>Following the disbandment of Destiny's Child i...</td>\n",
              "      <td>Jay Z</td>\n",
              "      <td>369.0</td>\n",
              "      <td>1</td>\n",
              "      <td>. Following the disbandment of Destiny's Child...</td>\n",
              "      <td>Her marriage to rapper Jay Z and portrayal of ...</td>\n",
              "    </tr>\n",
              "    <tr>\n",
              "      <th>17</th>\n",
              "      <td>56be86cf3aeaaa14008c9079</td>\n",
              "      <td>To set the record for Grammys, how many did Be...</td>\n",
              "      <td>Following the disbandment of Destiny's Child i...</td>\n",
              "      <td>six</td>\n",
              "      <td>565.0</td>\n",
              "      <td>1</td>\n",
              "      <td>. Following the disbandment of Destiny's Child...</td>\n",
              "      <td>Sasha Fierce (2008), which saw the birth of he...</td>\n",
              "    </tr>\n",
              "    <tr>\n",
              "      <th>18</th>\n",
              "      <td>56bf6e823aeaaa14008c9627</td>\n",
              "      <td>For what movie did Beyonce receive  her first ...</td>\n",
              "      <td>Following the disbandment of Destiny's Child i...</td>\n",
              "      <td>Dreamgirls</td>\n",
              "      <td>260.0</td>\n",
              "      <td>1</td>\n",
              "      <td>. Following the disbandment of Destiny's Child...</td>\n",
              "      <td>Beyoncé also ventured into acting, with a Gold...</td>\n",
              "    </tr>\n",
              "    <tr>\n",
              "      <th>19</th>\n",
              "      <td>56bf6e823aeaaa14008c9629</td>\n",
              "      <td>When did Beyonce take a hiatus in her career a...</td>\n",
              "      <td>Following the disbandment of Destiny's Child i...</td>\n",
              "      <td>2010</td>\n",
              "      <td>586.0</td>\n",
              "      <td>1</td>\n",
              "      <td>. Following the disbandment of Destiny's Child...</td>\n",
              "      <td>Sasha Fierce (2008), which saw the birth of he...</td>\n",
              "    </tr>\n",
              "  </tbody>\n",
              "</table>\n",
              "</div>"
            ],
            "text/plain": [
              "                       index  ...                                  reference_context\n",
              "0   56be85543aeaaa14008c9063  ...  Born and raised in Houston, Texas, she perform...\n",
              "1   56be85543aeaaa14008c9065  ...  Born and raised in Houston, Texas, she perform...\n",
              "2   56be85543aeaaa14008c9066  ...  Their hiatus saw the release of Beyoncé's debu...\n",
              "3   56bf6b0f3aeaaa14008c9601  ...  Born and raised in Houston, Texas, she perform...\n",
              "4   56bf6b0f3aeaaa14008c9602  ...  Born and raised in Houston, Texas, she perform...\n",
              "5   56bf6b0f3aeaaa14008c9603  ...  Born and raised in Houston, Texas, she perform...\n",
              "6   56bf6b0f3aeaaa14008c9604  ...  Their hiatus saw the release of Beyoncé's debu...\n",
              "7   56bf6b0f3aeaaa14008c9605  ...  Managed by her father, Mathew Knowles, the gro...\n",
              "8   56d43c5f2ccc5a1400d830a9  ...  Born and raised in Houston, Texas, she perform...\n",
              "9   56d43c5f2ccc5a1400d830aa  ...  Born and raised in Houston, Texas, she perform...\n",
              "10  56d43c5f2ccc5a1400d830ab  ...  Their hiatus saw the release of Beyoncé's debu...\n",
              "11  56d43c5f2ccc5a1400d830ac  ...  Their hiatus saw the release of Beyoncé's debu...\n",
              "12  56d43c5f2ccc5a1400d830ad  ...  Their hiatus saw the release of Beyoncé's debu...\n",
              "13  56d43ce42ccc5a1400d830b4  ...  Born and raised in Houston, Texas, she perform...\n",
              "14  56d43ce42ccc5a1400d830b5  ...  Their hiatus saw the release of Beyoncé's debu...\n",
              "15  56be86cf3aeaaa14008c9076  ...  Beyoncé also ventured into acting, with a Gold...\n",
              "16  56be86cf3aeaaa14008c9078  ...  Her marriage to rapper Jay Z and portrayal of ...\n",
              "17  56be86cf3aeaaa14008c9079  ...  Sasha Fierce (2008), which saw the birth of he...\n",
              "18  56bf6e823aeaaa14008c9627  ...  Beyoncé also ventured into acting, with a Gold...\n",
              "19  56bf6e823aeaaa14008c9629  ...  Sasha Fierce (2008), which saw the birth of he...\n",
              "\n",
              "[20 rows x 8 columns]"
            ]
          },
          "metadata": {
            "tags": []
          },
          "execution_count": 56
        }
      ]
    },
    {
      "cell_type": "code",
      "metadata": {
        "colab": {
          "base_uri": "https://localhost:8080/",
          "height": 100
        },
        "id": "bRP3LDcC9TXJ",
        "outputId": "b67d77f8-fcd9-482d-ce76-69a7a703c37c"
      },
      "source": [
        "temp.iloc[15,2]"
      ],
      "execution_count": null,
      "outputs": [
        {
          "output_type": "execute_result",
          "data": {
            "application/vnd.google.colaboratory.intrinsic+json": {
              "type": "string"
            },
            "text/plain": [
              "'Following the disbandment of Destiny\\'s Child in June 2005, she released her second solo album, B\\'Day (2006), which contained hits \"Déjà Vu\", \"Irreplaceable\", and \"Beautiful Liar\". Beyoncé also ventured into acting, with a Golden Globe-nominated performance in Dreamgirls (2006), and starring roles in The Pink Panther (2006) and Obsessed (2009). Her marriage to rapper Jay Z and portrayal of Etta James in Cadillac Records (2008) influenced her third album, I Am... Sasha Fierce (2008), which saw the birth of her alter-ego Sasha Fierce and earned a record-setting six Grammy Awards in 2010, including Song of the Year for \"Single Ladies (Put a Ring on It)\". Beyoncé took a hiatus from music in 2010 and took over management of her career; her fourth album 4 (2011) was subsequently mellower in tone, exploring 1970s funk, 1980s pop, and 1990s soul. Her critically acclaimed fifth studio album, Beyoncé (2013), was distinguished from previous releases by its experimental production and exploration of darker themes.'"
            ]
          },
          "metadata": {
            "tags": []
          },
          "execution_count": 63
        }
      ]
    },
    {
      "cell_type": "code",
      "metadata": {
        "colab": {
          "base_uri": "https://localhost:8080/",
          "height": 35
        },
        "id": "a_B9Ruo64tMv",
        "outputId": "234eb385-de96-4937-f872-44111e79c824"
      },
      "source": [
        "temp.iloc[15,1]"
      ],
      "execution_count": null,
      "outputs": [
        {
          "output_type": "execute_result",
          "data": {
            "application/vnd.google.colaboratory.intrinsic+json": {
              "type": "string"
            },
            "text/plain": [
              "'After her second solo album, what other entertainment venture did Beyonce explore?'"
            ]
          },
          "metadata": {
            "tags": []
          },
          "execution_count": 64
        }
      ]
    },
    {
      "cell_type": "code",
      "metadata": {
        "id": "kcLoZhSmnEct"
      },
      "source": [
        "# Example 1: Given Context"
      ],
      "execution_count": null,
      "outputs": []
    },
    {
      "cell_type": "code",
      "metadata": {
        "colab": {
          "base_uri": "https://localhost:8080/",
          "height": 51
        },
        "id": "v6VZGCyQnEX4",
        "outputId": "a57d1613-6f8e-4df1-960e-251eae116f91"
      },
      "source": [
        "temp.iloc[15,6]"
      ],
      "execution_count": null,
      "outputs": [
        {
          "output_type": "execute_result",
          "data": {
            "application/vnd.google.colaboratory.intrinsic+json": {
              "type": "string"
            },
            "text/plain": [
              "'. Following the disbandment of Destiny\\'s Child in June 2005, she released her second solo album, B\\'Day (2006), which contained hits \"Déjà Vu\", \"Irreplaceable\", and \"Beautiful Liar\". Sasha Fierce (2008), which saw the birth of her alter-ego Sasha Fierce and earned a record-setting six Grammy Awards in 2010, including Song of the Year for \"Single Ladies (Put a Ring on It)\"'"
            ]
          },
          "metadata": {
            "tags": []
          },
          "execution_count": 65
        }
      ]
    },
    {
      "cell_type": "code",
      "metadata": {
        "id": "FAox4jlenJvJ"
      },
      "source": [
        "# Exmaple 1: Reference Context"
      ],
      "execution_count": null,
      "outputs": []
    },
    {
      "cell_type": "code",
      "metadata": {
        "colab": {
          "base_uri": "https://localhost:8080/",
          "height": 67
        },
        "id": "ZwXbXijJnJp9",
        "outputId": "aabeb29f-b7bb-4bec-9f9a-6595fde5c1e2"
      },
      "source": [
        "temp.iloc[15,7]"
      ],
      "execution_count": null,
      "outputs": [
        {
          "output_type": "execute_result",
          "data": {
            "application/vnd.google.colaboratory.intrinsic+json": {
              "type": "string"
            },
            "text/plain": [
              "'Beyoncé also ventured into acting, with a Golden Globe-nominated performance in Dreamgirls (2006), and starring roles in The Pink Panther (2006) and Obsessed (2009). Her critically acclaimed fifth studio album, Beyoncé (2013), was distinguished from previous releases by its experimental production and exploration of darker themes.. Her marriage to rapper Jay Z and portrayal of Etta James in Cadillac Records (2008) influenced her third album, I Am... Beyoncé took a hiatus from music in 2010 and took over management of her career; her fourth album 4 (2011) was subsequently mellower in tone, exploring 1970s funk, 1980s pop, and 1990s soul'"
            ]
          },
          "metadata": {
            "tags": []
          },
          "execution_count": 66
        }
      ]
    },
    {
      "cell_type": "code",
      "metadata": {
        "id": "HXtVkg96lU2G"
      },
      "source": [
        "# Example 2: Given Context"
      ],
      "execution_count": null,
      "outputs": []
    },
    {
      "cell_type": "code",
      "metadata": {
        "colab": {
          "base_uri": "https://localhost:8080/",
          "height": 67
        },
        "id": "BToTvKqQnWzZ",
        "outputId": "df7073f8-0674-4beb-bc24-ce5662def03c"
      },
      "source": [
        "temp.iloc[30,6]"
      ],
      "execution_count": null,
      "outputs": [
        {
          "output_type": "execute_result",
          "data": {
            "application/vnd.google.colaboratory.intrinsic+json": {
              "type": "string"
            },
            "text/plain": [
              "\"Throughout a career spanning 19 years, she has sold over 118 million records as a solo artist, and a further 60 million with Destiny's Child, making her one of the best-selling music artists of all time. The Recording Industry Association of America recognized her as the Top Certified Artist in America during the 2000s decade. Time listed her among the 100 most influential people in the world in 2013 and 2014. In 2009, Billboard named her the Top Radio Songs Artist of the Decade, the Top Female Artist of the 2000s and their Artist of the Millennium in 2011\""
            ]
          },
          "metadata": {
            "tags": []
          },
          "execution_count": 20
        }
      ]
    },
    {
      "cell_type": "code",
      "metadata": {
        "id": "1FrBuAD6nUO4"
      },
      "source": [
        "# Exmaple 2: Reference Context"
      ],
      "execution_count": null,
      "outputs": []
    },
    {
      "cell_type": "code",
      "metadata": {
        "colab": {
          "base_uri": "https://localhost:8080/",
          "height": 67
        },
        "id": "DALwrI9GnWVJ",
        "outputId": "cfae26cf-229b-41bd-da83-feaf8474f64a"
      },
      "source": [
        "temp.iloc[30,7]"
      ],
      "execution_count": null,
      "outputs": [
        {
          "output_type": "execute_result",
          "data": {
            "application/vnd.google.colaboratory.intrinsic+json": {
              "type": "string"
            },
            "text/plain": [
              "'On stage, her dynamic, highly choreographed performances have led to critics hailing her as one of the best entertainers in contemporary popular music. A self-described \"modern-day feminist\", Beyoncé creates songs that are often characterized by themes of love, relationships, and monogamy, as well as female sexuality and empowerment. She has won 20 Grammy Awards and is the most nominated woman in the award\\'s history. Forbes magazine also listed her as the most powerful female musician of 2015.'"
            ]
          },
          "metadata": {
            "tags": []
          },
          "execution_count": 22
        }
      ]
    },
    {
      "cell_type": "code",
      "metadata": {
        "id": "vDFW9xSInbMf"
      },
      "source": [
        ""
      ],
      "execution_count": null,
      "outputs": []
    }
  ]
}