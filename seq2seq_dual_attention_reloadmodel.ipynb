{
  "nbformat": 4,
  "nbformat_minor": 0,
  "metadata": {
    "colab": {
      "name": "seq2seq_with_dual_attention2.ipynb",
      "provenance": [],
      "collapsed_sections": [
        "C2w0wAvhVUtq"
      ]
    },
    "kernelspec": {
      "name": "python3",
      "display_name": "Python 3"
    },
    "accelerator": "GPU"
  },
  "cells": [
    {
      "cell_type": "code",
      "metadata": {
        "id": "Rfbpjs2fgzuT",
        "colab": {
          "base_uri": "https://localhost:8080/"
        },
        "outputId": "95ca6374-9685-47ef-c12f-7d823b701e51"
      },
      "source": [
        "import tensorflow as tf\n",
        "print(tf.__version__)\n",
        "import matplotlib.pyplot as plt\n",
        "import matplotlib.ticker as ticker\n",
        "from sklearn.model_selection import train_test_split\n",
        "\n",
        "import unicodedata\n",
        "import re\n",
        "import numpy as np\n",
        "import os\n",
        "import io\n",
        "import time"
      ],
      "execution_count": 1,
      "outputs": [
        {
          "output_type": "stream",
          "text": [
            "2.6.0\n"
          ],
          "name": "stdout"
        }
      ]
    },
    {
      "cell_type": "code",
      "metadata": {
        "id": "s6Lr8kejxxvj",
        "colab": {
          "base_uri": "https://localhost:8080/"
        },
        "outputId": "968241f4-3959-4c9a-beb4-61acb8e92157"
      },
      "source": [
        "from google.colab import drive\n",
        "drive.mount('/content/drive')"
      ],
      "execution_count": 2,
      "outputs": [
        {
          "output_type": "stream",
          "text": [
            "Mounted at /content/drive\n"
          ],
          "name": "stdout"
        }
      ]
    },
    {
      "cell_type": "code",
      "metadata": {
        "colab": {
          "base_uri": "https://localhost:8080/",
          "height": 371
        },
        "id": "3IeB_gDadfhr",
        "outputId": "11fa3476-e79b-462c-c348-fae212bb465b"
      },
      "source": [
        "import pandas as pd\n",
        "df = pd.read_csv(\"drive/MyDrive/Colab_data/Topic_Bifurcated_SQUAD1.csv\")\n",
        "df.head()"
      ],
      "execution_count": 3,
      "outputs": [
        {
          "output_type": "execute_result",
          "data": {
            "text/html": [
              "<div>\n",
              "<style scoped>\n",
              "    .dataframe tbody tr th:only-of-type {\n",
              "        vertical-align: middle;\n",
              "    }\n",
              "\n",
              "    .dataframe tbody tr th {\n",
              "        vertical-align: top;\n",
              "    }\n",
              "\n",
              "    .dataframe thead th {\n",
              "        text-align: right;\n",
              "    }\n",
              "</style>\n",
              "<table border=\"1\" class=\"dataframe\">\n",
              "  <thead>\n",
              "    <tr style=\"text-align: right;\">\n",
              "      <th></th>\n",
              "      <th>index</th>\n",
              "      <th>question</th>\n",
              "      <th>context</th>\n",
              "      <th>text</th>\n",
              "      <th>answer_start</th>\n",
              "      <th>c_id</th>\n",
              "      <th>given_context</th>\n",
              "      <th>reference_context</th>\n",
              "    </tr>\n",
              "  </thead>\n",
              "  <tbody>\n",
              "    <tr>\n",
              "      <th>0</th>\n",
              "      <td>56be85543aeaaa14008c9063</td>\n",
              "      <td>When did Beyonce start becoming popular?</td>\n",
              "      <td>Beyoncé Giselle Knowles-Carter (/biːˈjɒnseɪ/ b...</td>\n",
              "      <td>in the late 1990s</td>\n",
              "      <td>269.0</td>\n",
              "      <td>0</td>\n",
              "      <td>Born and raised in Houston, Texas, she perform...</td>\n",
              "      <td>Beyoncé Giselle Knowles-Carter (/biːˈjɒnseɪ/ b...</td>\n",
              "    </tr>\n",
              "    <tr>\n",
              "      <th>1</th>\n",
              "      <td>56be85543aeaaa14008c9065</td>\n",
              "      <td>What areas did Beyonce compete in when she was...</td>\n",
              "      <td>Beyoncé Giselle Knowles-Carter (/biːˈjɒnseɪ/ b...</td>\n",
              "      <td>singing and dancing</td>\n",
              "      <td>207.0</td>\n",
              "      <td>0</td>\n",
              "      <td>Beyoncé Giselle Knowles-Carter (/biːˈjɒnseɪ/ b...</td>\n",
              "      <td>Born and raised in Houston, Texas, she perform...</td>\n",
              "    </tr>\n",
              "    <tr>\n",
              "      <th>2</th>\n",
              "      <td>56be85543aeaaa14008c9066</td>\n",
              "      <td>When did Beyonce leave Destiny's Child and bec...</td>\n",
              "      <td>Beyoncé Giselle Knowles-Carter (/biːˈjɒnseɪ/ b...</td>\n",
              "      <td>2003</td>\n",
              "      <td>526.0</td>\n",
              "      <td>0</td>\n",
              "      <td>Born and raised in Houston, Texas, she perform...</td>\n",
              "      <td>Beyoncé Giselle Knowles-Carter (/biːˈjɒnseɪ/ b...</td>\n",
              "    </tr>\n",
              "    <tr>\n",
              "      <th>3</th>\n",
              "      <td>56bf6b0f3aeaaa14008c9601</td>\n",
              "      <td>In what city and state did Beyonce  grow up?</td>\n",
              "      <td>Beyoncé Giselle Knowles-Carter (/biːˈjɒnseɪ/ b...</td>\n",
              "      <td>Houston, Texas</td>\n",
              "      <td>166.0</td>\n",
              "      <td>0</td>\n",
              "      <td>Beyoncé Giselle Knowles-Carter (/biːˈjɒnseɪ/ b...</td>\n",
              "      <td>Born and raised in Houston, Texas, she perform...</td>\n",
              "    </tr>\n",
              "    <tr>\n",
              "      <th>4</th>\n",
              "      <td>56bf6b0f3aeaaa14008c9602</td>\n",
              "      <td>In which decade did Beyonce become famous?</td>\n",
              "      <td>Beyoncé Giselle Knowles-Carter (/biːˈjɒnseɪ/ b...</td>\n",
              "      <td>late 1990s</td>\n",
              "      <td>276.0</td>\n",
              "      <td>0</td>\n",
              "      <td>Beyoncé Giselle Knowles-Carter (/biːˈjɒnseɪ/ b...</td>\n",
              "      <td>Born and raised in Houston, Texas, she perform...</td>\n",
              "    </tr>\n",
              "  </tbody>\n",
              "</table>\n",
              "</div>"
            ],
            "text/plain": [
              "                      index  ...                                  reference_context\n",
              "0  56be85543aeaaa14008c9063  ...  Beyoncé Giselle Knowles-Carter (/biːˈjɒnseɪ/ b...\n",
              "1  56be85543aeaaa14008c9065  ...  Born and raised in Houston, Texas, she perform...\n",
              "2  56be85543aeaaa14008c9066  ...  Beyoncé Giselle Knowles-Carter (/biːˈjɒnseɪ/ b...\n",
              "3  56bf6b0f3aeaaa14008c9601  ...  Born and raised in Houston, Texas, she perform...\n",
              "4  56bf6b0f3aeaaa14008c9602  ...  Born and raised in Houston, Texas, she perform...\n",
              "\n",
              "[5 rows x 8 columns]"
            ]
          },
          "metadata": {},
          "execution_count": 3
        }
      ]
    },
    {
      "cell_type": "code",
      "metadata": {
        "id": "DV3ytfC_eRZt"
      },
      "source": [
        "df = df[:1000]"
      ],
      "execution_count": 4,
      "outputs": []
    },
    {
      "cell_type": "markdown",
      "metadata": {
        "id": "hOsMShvlg4ua"
      },
      "source": [
        "\n",
        "\n",
        "\n",
        "# Load data set\n",
        "\n",
        "\n"
      ]
    },
    {
      "cell_type": "code",
      "metadata": {
        "id": "XeHAlqRBeaPJ"
      },
      "source": [
        "reference_context = df[\"reference_context\"].apply(lambda x: x).tolist()\n",
        "given_context = df[\"given_context\"].apply(lambda x: x).tolist()\n",
        "target_ques = df[\"question\"].apply(lambda x: x).tolist()"
      ],
      "execution_count": 5,
      "outputs": []
    },
    {
      "cell_type": "markdown",
      "metadata": {
        "id": "SDa3tH1hRyNq"
      },
      "source": [
        "*   Clean the sentences by removing special characters.\n",
        "*   Add a start and end token to each sentence.\n",
        "*   Create a word index and reverse word index (dictionaries mapping from word → id and id → word).\n",
        "*   Pad each sentence to a maximum length."
      ]
    },
    {
      "cell_type": "code",
      "metadata": {
        "id": "DKjEWl6WhZyk"
      },
      "source": [
        "# Converts the unicode file to ascii\n",
        "def unicode_to_ascii(s):\n",
        "  return ''.join(c for c in unicodedata.normalize('NFD', s)\n",
        "      if unicodedata.category(c) != 'Mn')\n",
        "\n",
        "\n",
        "def preprocess_sentence(w):\n",
        "  w = unicode_to_ascii(w.lower().strip())\n",
        "\n",
        "  # creating a space between a word and the punctuation following it\n",
        "  # eg: \"he is a boy.\" => \"he is a boy .\"\n",
        "  # Reference:- https://stackoverflow.com/questions/3645931/python-padding-punctuation-with-white-spaces-keeping-punctuation\n",
        "  w = re.sub(r\"([?.!,¿])\", r\" \\1 \", w)\n",
        "  w = re.sub(r'[\" \"]+', \" \", w)\n",
        "\n",
        "  # replacing everything with space except (a-z, A-Z, \".\", \"?\", \"!\", \",\",\"¿\")\n",
        "  w = re.sub(r\"[^a-zA-Z?.!,¿]+\", \" \", w)\n",
        "\n",
        "  # remove extra space\n",
        "  w = w.strip()\n",
        "\n",
        "  # adding a start and an end token to the sentence\n",
        "  # so that the model know when to start and stop predicting.\n",
        "  w = '<start> ' + w + ' <end>'\n",
        "  return w"
      ],
      "execution_count": 6,
      "outputs": []
    },
    {
      "cell_type": "code",
      "metadata": {
        "id": "Xc58-K0XhdCM",
        "colab": {
          "base_uri": "https://localhost:8080/"
        },
        "outputId": "62d3e594-8d87-4fa8-e761-c5766041a2f9"
      },
      "source": [
        "en_sentence = u\"Beyonce's last record was called Lemonade\"\n",
        "sp_sentence = u\"Beyonce was born in 1950\"\n",
        "print(preprocess_sentence(en_sentence))\n",
        "print(preprocess_sentence(sp_sentence))\n",
        "print(preprocess_sentence(sp_sentence).encode(\"UTF-8\"))"
      ],
      "execution_count": 7,
      "outputs": [
        {
          "output_type": "stream",
          "text": [
            "<start> beyonce s last record was called lemonade <end>\n",
            "<start> beyonce was born in <end>\n",
            "b'<start> beyonce was born in <end>'\n"
          ],
          "name": "stdout"
        }
      ]
    },
    {
      "cell_type": "code",
      "metadata": {
        "colab": {
          "base_uri": "https://localhost:8080/"
        },
        "id": "VYdaxYI2df3H",
        "outputId": "771b2803-63a2-4d09-92a9-60db7ad97ac7"
      },
      "source": [
        "reference_context[:1], given_context[:1]"
      ],
      "execution_count": 8,
      "outputs": [
        {
          "output_type": "execute_result",
          "data": {
            "text/plain": [
              "(['Beyoncé Giselle Knowles-Carter (/biːˈjɒnseɪ/ bee-YON-say) (born September 4, 1981) is an American singer, songwriter, record producer and actress. Their hiatus saw the release of Beyoncé\\'s debut album, Dangerously in Love (2003), which established her as a solo artist worldwide, earned five Grammy Awards and featured the Billboard Hot 100 number-one singles \"Crazy in Love\" and \"Baby Boy\". '],\n",
              " [\"Born and raised in Houston, Texas, she performed in various singing and dancing competitions as a child, and rose to fame in the late 1990s as lead singer of R&B girl-group Destiny's Child. Managed by her father, Mathew Knowles, the group became one of the world's best-selling girl groups of all time. \"])"
            ]
          },
          "metadata": {},
          "execution_count": 8
        }
      ]
    },
    {
      "cell_type": "code",
      "metadata": {
        "id": "3Hw9ct4OhsRA",
        "colab": {
          "base_uri": "https://localhost:8080/"
        },
        "outputId": "877464aa-5cdb-43de-d893-76d0e551f513"
      },
      "source": [
        "def create_dataset_squad(context_param, given_param, target_ques):\n",
        "  reference_context = []\n",
        "  given_context = []\n",
        "  question = []\n",
        "  for c,g,q in zip(context_param,given_param, target_ques):\n",
        "    reference_context.append(preprocess_sentence(str(c)))\n",
        "    given_context.append(preprocess_sentence(str(g)))\n",
        "    question.append(preprocess_sentence(q))\n",
        "  return tuple(reference_context), tuple(given_context), tuple(question)\n",
        "\n",
        "r, g, q = create_dataset_squad(reference_context, given_context, target_ques)\n",
        "print(r[-1])\n",
        "print(g[-1])\n",
        "print(q[-1])\n",
        "print(len(r), len(q))"
      ],
      "execution_count": 9,
      "outputs": [
        {
          "output_type": "stream",
          "text": [
            "<start> his fellow student at the warsaw conservatory , julian fontana , had originally tried unsuccessfully to establish himself in england albert grzyma a , who in paris became a wealthy financier and society figure , often acted as chopin s adviser and gradually began to fill the role of elder brother in his life . fontana was to become , in the words of micha owski and samson , chopin s general factotum and copyist . <end>\n",
            "<start> two polish friends in paris were also to play important roles in chopin s life there . <end>\n",
            "<start> who is stated as a jack of all trades in service to frederic ? <end>\n",
            "1000 1000\n"
          ],
          "name": "stdout"
        }
      ]
    },
    {
      "cell_type": "code",
      "metadata": {
        "id": "ZCAYRuTlh5DY"
      },
      "source": [
        "# Tokenize the sentence into list of words(integers) and pad the sequence to the same length\n",
        "def tokenize(lang):\n",
        "  lang_tokenizer = tf.keras.preprocessing.text.Tokenizer(\n",
        "      filters='')\n",
        "  lang_tokenizer.fit_on_texts(lang)\n",
        "\n",
        "  tensor = lang_tokenizer.texts_to_sequences(lang)\n",
        "\n",
        "  tensor = tf.keras.preprocessing.sequence.pad_sequences(tensor,\n",
        "                                                         padding='post')\n",
        "  return tensor, lang_tokenizer"
      ],
      "execution_count": 10,
      "outputs": []
    },
    {
      "cell_type": "code",
      "metadata": {
        "id": "xM87LBJ4ewey"
      },
      "source": [
        "def load_dataset(reference, given, target):\n",
        "  # creating cleaned input, output pairs\n",
        "  #targ_lang, inp_lang = create_dataset(path, num_examples)\n",
        "\n",
        "  reference_tensor, reference_tokenizer = tokenize(reference)\n",
        "  given_tensor, given_tokenizer = tokenize(given)\n",
        "  target_tensor, targ_lang_tokenizer = tokenize(target)\n",
        "\n",
        "  return reference_tensor, given_tensor, target_tensor, reference_tokenizer, given_tokenizer, targ_lang_tokenizer"
      ],
      "execution_count": 11,
      "outputs": []
    },
    {
      "cell_type": "code",
      "metadata": {
        "id": "9EasB_FLig5c",
        "colab": {
          "base_uri": "https://localhost:8080/"
        },
        "outputId": "1c16c422-8bc7-4315-a400-ab595b6b268b"
      },
      "source": [
        "# Try experimenting with the size of that dataset\n",
        "#num_examples = 30000\n",
        "# input_tensor, target_tensor, inp_lang, targ_lang = load_dataset(c,q)\n",
        "reference_tensor, given_tensor, target_tensor, reference_tokenizer, given_tokenizer, targ_tokenizer = load_dataset(r, g, q)\n",
        "\n",
        "# Calculate max_length of the target tensors\n",
        "max_length_targ, max_length_reference, max_length_given = target_tensor.shape[1], reference_tensor.shape[1], given_tensor.shape[1]\n",
        "print(max_length_targ, max_length_reference, max_length_given)"
      ],
      "execution_count": 12,
      "outputs": [
        {
          "output_type": "stream",
          "text": [
            "30 246 150\n"
          ],
          "name": "stdout"
        }
      ]
    },
    {
      "cell_type": "code",
      "metadata": {
        "id": "BMgiyh8igJ-3"
      },
      "source": [
        "# train = zip(reference_tensor, given_tensor)\n",
        "# train = pd.DataFrame(data=train, index=None)\n",
        "# train.head()"
      ],
      "execution_count": 13,
      "outputs": []
    },
    {
      "cell_type": "code",
      "metadata": {
        "id": "6oS6mqluirWG"
      },
      "source": [
        "\n",
        "# Creating training and validation sets using an 80-20 split\n",
        "# input_tensor_train, input_tensor_val, target_tensor_train, target_tensor_val = train_test_split(train, target_tensor, test_size=0.2)\n",
        "reference_tensor_train, reference_tensor_val, given_tensor_train, given_tensor_val, target_tensor_train, target_tensor_val = train_test_split(reference_tensor, given_tensor, target_tensor)\n",
        "\n",
        "# Show length\n",
        "# print(len(input_tensor_train), len(target_tensor_train), len(input_tensor_val), len(target_tensor_val))\n",
        "# print(input_tensor_train[1])\n",
        "# print()\n",
        "# print(target_tensor_train[1])"
      ],
      "execution_count": 14,
      "outputs": []
    },
    {
      "cell_type": "code",
      "metadata": {
        "id": "DKWru44VgqfN"
      },
      "source": [
        "# input_tensor_train\n",
        "# reference_tensor_train = input_tensor_train[0].values\n",
        "# given_tensor_train = input_tensor_train[1].values\n",
        "# \n",
        "# reference_tensor_val = input_tensor_val[0].values\n",
        "# given_tensor_val = input_tensor_val[1].values"
      ],
      "execution_count": 15,
      "outputs": []
    },
    {
      "cell_type": "code",
      "metadata": {
        "colab": {
          "base_uri": "https://localhost:8080/"
        },
        "id": "eJsdHgzbhDMA",
        "outputId": "ac7d596d-bdac-42da-8c13-3dc1989d7fed"
      },
      "source": [
        "given_tensor_train.shape, reference_tensor_train.shape"
      ],
      "execution_count": 16,
      "outputs": [
        {
          "output_type": "execute_result",
          "data": {
            "text/plain": [
              "((750, 150), (750, 246))"
            ]
          },
          "metadata": {},
          "execution_count": 16
        }
      ]
    },
    {
      "cell_type": "code",
      "metadata": {
        "colab": {
          "base_uri": "https://localhost:8080/"
        },
        "id": "qPnFAySumUrp",
        "outputId": "f4fc4468-0f04-43a9-cc21-6e487cf08ae9"
      },
      "source": [
        "type(given_tensor_train[0])"
      ],
      "execution_count": 17,
      "outputs": [
        {
          "output_type": "execute_result",
          "data": {
            "text/plain": [
              "numpy.ndarray"
            ]
          },
          "metadata": {},
          "execution_count": 17
        }
      ]
    },
    {
      "cell_type": "code",
      "metadata": {
        "id": "e0_jqMPO2BIp"
      },
      "source": [
        ""
      ],
      "execution_count": 17,
      "outputs": []
    },
    {
      "cell_type": "code",
      "metadata": {
        "id": "ArdIR9aKiY2q"
      },
      "source": [
        "# np.expand_dims(given_tensor_train, axis=1).shape"
      ],
      "execution_count": 18,
      "outputs": []
    },
    {
      "cell_type": "code",
      "metadata": {
        "id": "AK3NE1vUityv",
        "colab": {
          "base_uri": "https://localhost:8080/"
        },
        "outputId": "84f17e96-6e7e-461d-9ea5-a3a91e6091e2"
      },
      "source": [
        "# Configuration \n",
        "BUFFER_SIZE = len(reference_tensor_train)\n",
        "BATCH_SIZE = 32\n",
        "steps_per_epoch = len(reference_tensor_train)//BATCH_SIZE\n",
        "steps_per_epoch_val = len(reference_tensor_val)//BATCH_SIZE\n",
        "embedding_dim = 256  # for word embedding\n",
        "units = 1024  # dimensionality of the output space of RNN\n",
        "vocab_inp_size = len(given_tokenizer.word_index) + len(reference_tokenizer.word_index) + 1\n",
        "vocab_tar_size = len(targ_tokenizer.word_index)+1\n",
        "\n",
        "dataset = tf.data.Dataset.from_tensor_slices((reference_tensor_train, given_tensor_train, target_tensor_train)).shuffle(BUFFER_SIZE)\n",
        "dataset = dataset.batch(BATCH_SIZE, drop_remainder=True)\n",
        "validation_dataset = tf.data.Dataset.from_tensor_slices((reference_tensor_val, given_tensor_val, target_tensor_val)).shuffle(BUFFER_SIZE)\n",
        "validation_dataset = validation_dataset.batch(BATCH_SIZE, drop_remainder=True)\n",
        "\n",
        "example_reference_batch, example_given_batch, example_target_batch = next(iter(dataset))\n",
        "example_reference_batch.shape, example_given_batch.shape, example_target_batch.shape"
      ],
      "execution_count": 19,
      "outputs": [
        {
          "output_type": "execute_result",
          "data": {
            "text/plain": [
              "(TensorShape([32, 246]), TensorShape([32, 150]), TensorShape([32, 30]))"
            ]
          },
          "metadata": {},
          "execution_count": 19
        }
      ]
    },
    {
      "cell_type": "markdown",
      "metadata": {
        "id": "Jzo3ZvYpv4KE"
      },
      "source": [
        "# Basic seq2seq model: encoder and decoder"
      ]
    },
    {
      "cell_type": "code",
      "metadata": {
        "id": "aFjq9Ta3wA8F"
      },
      "source": [
        "class Encoder(tf.keras.Model):\n",
        "  def __init__(self, vocab_size, embedding_dim, enc_units, batch_sz):\n",
        "    super(Encoder, self).__init__()\n",
        "    self.batch_sz = batch_sz\n",
        "    self.enc_units = enc_units\n",
        "    self.embedding = tf.keras.layers.Embedding(vocab_size, embedding_dim)\n",
        "    self.gru = tf.keras.layers.GRU(self.enc_units,\n",
        "                                   return_sequences=True,  # Whether to return the last output in the output sequence, or the full sequence. \n",
        "                                   return_state=True,  # Whether to return the last state in addition to the output.\n",
        "                                   recurrent_initializer='glorot_uniform')\n",
        "\n",
        "  def call(self, x, hidden):\n",
        "    x = self.embedding(x)\n",
        "    output, state = self.gru(x, initial_state = hidden)\n",
        "    return output, state\n",
        "\n",
        "  def initialize_hidden_state(self):\n",
        "    return tf.zeros((self.batch_sz, self.enc_units))"
      ],
      "execution_count": 20,
      "outputs": []
    },
    {
      "cell_type": "code",
      "metadata": {
        "id": "T4GoRSHSwScu",
        "colab": {
          "base_uri": "https://localhost:8080/"
        },
        "outputId": "b0de6def-abd4-4e88-96f9-7ac6a8112ba9"
      },
      "source": [
        "encoder = Encoder(vocab_inp_size, embedding_dim, units, BATCH_SIZE)\n",
        "\n",
        "# sample input\n",
        "sample_hidden = encoder.initialize_hidden_state()\n",
        "sample_output, sample_hidden = encoder(example_reference_batch, sample_hidden)\n",
        "print ('Encoder output shape: (batch size, sequence length, units) {}'.format(sample_output.shape))\n",
        "print ('Encoder Hidden state shape: (batch size, units) {}'.format(sample_hidden.shape))"
      ],
      "execution_count": 21,
      "outputs": [
        {
          "output_type": "stream",
          "text": [
            "Encoder output shape: (batch size, sequence length, units) (32, 246, 1024)\n",
            "Encoder Hidden state shape: (batch size, units) (32, 1024)\n"
          ],
          "name": "stdout"
        }
      ]
    },
    {
      "cell_type": "code",
      "metadata": {
        "id": "Sy6ualLHwYzY"
      },
      "source": [
        "class Decoder(tf.keras.Model):\n",
        "  def __init__(self, vocab_size, embedding_dim, dec_units, batch_sz):\n",
        "    super(Decoder, self).__init__()\n",
        "    self.batch_sz = batch_sz\n",
        "    self.dec_units = dec_units\n",
        "    self.embedding = tf.keras.layers.Embedding(vocab_size, embedding_dim)\n",
        "    self.gru = tf.keras.layers.GRU(self.dec_units,\n",
        "                                   return_sequences=True,\n",
        "                                   return_state=True,\n",
        "                                   recurrent_initializer='glorot_uniform')\n",
        "    self.fc = tf.keras.layers.Dense(vocab_size)\n",
        "\n",
        "\n",
        "  def call(self, x, hidden):\n",
        "    # x shape after passing through embedding == (batch_size, 1, embedding_dim)\n",
        "    x = self.embedding(x)\n",
        "\n",
        "    # passing the concatenated vector to the GRU\n",
        "    output, state = self.gru(x, initial_state = hidden)\n",
        "\n",
        "    # output shape == (batch_size * 1, hidden_size)\n",
        "    output = tf.reshape(output, (-1, output.shape[2]))\n",
        "\n",
        "    # output shape == (batch_size, vocab)\n",
        "    x = self.fc(output)\n",
        "    return x, state"
      ],
      "execution_count": 22,
      "outputs": []
    },
    {
      "cell_type": "code",
      "metadata": {
        "id": "rUXzFdWhhu1D",
        "colab": {
          "base_uri": "https://localhost:8080/"
        },
        "outputId": "f7dba4eb-3f6b-4d36-8ab2-8c7c6467c023"
      },
      "source": [
        "tf.reshape([[1,2,3],[4,5,6]], (-1, 2))"
      ],
      "execution_count": 23,
      "outputs": [
        {
          "output_type": "execute_result",
          "data": {
            "text/plain": [
              "<tf.Tensor: shape=(3, 2), dtype=int32, numpy=\n",
              "array([[1, 2],\n",
              "       [3, 4],\n",
              "       [5, 6]], dtype=int32)>"
            ]
          },
          "metadata": {},
          "execution_count": 23
        }
      ]
    },
    {
      "cell_type": "code",
      "metadata": {
        "id": "k_z9vs5U06hk",
        "colab": {
          "base_uri": "https://localhost:8080/"
        },
        "outputId": "be8835d8-f1df-4acc-f89e-643e9f705a59"
      },
      "source": [
        "decoder = Decoder(vocab_tar_size, embedding_dim, units, BATCH_SIZE)\n",
        "\n",
        "sample_decoder_output, _ = decoder(tf.random.uniform((BATCH_SIZE, 1)),\n",
        "                                      sample_hidden)\n",
        "\n",
        "print ('Decoder output shape: (batch_size, vocab size) {}'.format(sample_decoder_output.shape))"
      ],
      "execution_count": 24,
      "outputs": [
        {
          "output_type": "stream",
          "text": [
            "Decoder output shape: (batch_size, vocab size) (32, 1526)\n"
          ],
          "name": "stdout"
        }
      ]
    },
    {
      "cell_type": "code",
      "metadata": {
        "id": "4vqqDed3xYH-"
      },
      "source": [
        "class DotProductAttention(tf.keras.layers.Layer):\n",
        "  def call(self, query, values):\n",
        "    # query hidden state shape == (batch_size, hidden size)\n",
        "    # query_with_time_axis shape == (batch_size, 1, hidden size)\n",
        "    # values shape == (batch_size, max_len, hidden size)\n",
        "    # we are doing this to broadcast addition along the time axis to calculate the score\n",
        "    query_with_time_axis = tf.expand_dims(query, 1)\n",
        "\n",
        "    # inner product, score shape == (batch_size, max_length, 1)\n",
        "    score = query_with_time_axis * values\n",
        "    score = tf.reduce_sum(score, axis=2)\n",
        "    score = tf.expand_dims(score, 2)\n",
        "    \n",
        "    # attention_weights shape == (batch_size, max_length, 1)\n",
        "    attention_weights = tf.nn.softmax(score, axis=1)\n",
        "\n",
        "    # context_vector shape after sum == (batch_size, hidden_size)\n",
        "    context_vector = attention_weights * values\n",
        "    context_vector = tf.reduce_sum(context_vector, axis=1)\n",
        "\n",
        "    return context_vector, attention_weights"
      ],
      "execution_count": 25,
      "outputs": []
    },
    {
      "cell_type": "code",
      "metadata": {
        "id": "JlQqI7zA2MTO",
        "colab": {
          "base_uri": "https://localhost:8080/"
        },
        "outputId": "fce404dd-e616-4f18-e77f-22691824f91b"
      },
      "source": [
        "attention_layer = DotProductAttention()\n",
        "attention_result, attention_weights = attention_layer(sample_hidden, sample_output)\n",
        "\n",
        "print(\"Attention result shape: (batch size, units) {}\".format(attention_result.shape))\n",
        "print(\"Attention weights shape: (batch_size, sequence_length, 1) {}\".format(attention_weights.shape))"
      ],
      "execution_count": 26,
      "outputs": [
        {
          "output_type": "stream",
          "text": [
            "Attention result shape: (batch size, units) (32, 1024)\n",
            "Attention weights shape: (batch_size, sequence_length, 1) (32, 246, 1)\n"
          ],
          "name": "stdout"
        }
      ]
    },
    {
      "cell_type": "code",
      "metadata": {
        "id": "U1-eiiJ_xyoM"
      },
      "source": [
        "class BahdanauAttention(tf.keras.layers.Layer):\n",
        "  def __init__(self, units):\n",
        "    super(BahdanauAttention, self).__init__()\n",
        "    self.W1 = tf.keras.layers.Dense(units)\n",
        "    self.W2 = tf.keras.layers.Dense(units)\n",
        "    self.V = tf.keras.layers.Dense(1)\n",
        "\n",
        "  def call(self, query, values):\n",
        "    # query hidden state shape == (batch_size, hidden size)\n",
        "    # query_with_time_axis shape == (batch_size, 1, hidden size)\n",
        "    # values shape == (batch_size, max_len, hidden size)\n",
        "    query_with_time_axis = tf.expand_dims(query, 1)\n",
        "    # values = query_with_time_axis\n",
        "    # print(values.shape)\n",
        "    # print(query_with_time_axis.shape)\n",
        "    # score shape == (batch_size, max_length, 1)\n",
        "    # we get 1 at the last axis because we are applying score to self.V\n",
        "    # the shape of the tensor before applying self.V is (batch_size, max_length, units)\n",
        "    score = self.V(tf.nn.tanh(\n",
        "        self.W1(values) + self.W2(query_with_time_axis)))\n",
        "\n",
        "    # attention_weights shape == (batch_size, max_length, 1)\n",
        "    attention_weights = tf.nn.softmax(score, axis=1)\n",
        "\n",
        "    # context_vector shape after sum == (batch_size, hidden_size)\n",
        "    context_vector = attention_weights * values\n",
        "    context_vector = tf.reduce_sum(context_vector, axis=1)\n",
        "\n",
        "    return context_vector, attention_weights"
      ],
      "execution_count": 27,
      "outputs": []
    },
    {
      "cell_type": "code",
      "metadata": {
        "id": "_RXnJU96LuI0"
      },
      "source": [
        ""
      ],
      "execution_count": 27,
      "outputs": []
    },
    {
      "cell_type": "code",
      "metadata": {
        "id": "D4RxkJgvLe_T"
      },
      "source": [
        ""
      ],
      "execution_count": 27,
      "outputs": []
    },
    {
      "cell_type": "code",
      "metadata": {
        "id": "bXqWOEGh9BAm"
      },
      "source": [
        "class DecoderWithAttention(tf.keras.Model):\n",
        "  def __init__(self, vocab_size, embedding_dim, dec_units, batch_sz, attention_layer = None):\n",
        "    super(DecoderWithAttention, self).__init__()\n",
        "    self.batch_sz = batch_sz\n",
        "    self.dec_units = dec_units\n",
        "    self.embedding = tf.keras.layers.Embedding(vocab_size, embedding_dim)\n",
        "    self.gru = tf.keras.layers.GRU(self.dec_units,\n",
        "                                   return_sequences=True,\n",
        "                                   return_state=True,\n",
        "                                   recurrent_initializer='glorot_uniform')\n",
        "    self.fc = tf.keras.layers.Dense(vocab_size)\n",
        "\n",
        "    # used for attention\n",
        "    self.attention = attention_layer\n",
        "\n",
        "  def call(self, x, hidden, enc_output):\n",
        "    # x shape after passing through embedding == (batch_size, 1, embedding_dim)\n",
        "    x = self.embedding(x)\n",
        "    \n",
        "    attention_weights1 = None\n",
        "    \n",
        "    if self.attention1:\n",
        "      # enc_output shape == (batch_size, max_length, hidden_size)\n",
        "      context_vector1, attention_weights1 = self.attention1(hidden, enc_output)\n",
        "      # x shape after concatenation == (batch_size, 1, embedding_dim + hidden_size)\n",
        "      # print(x.shape)\n",
        "      x = tf.concat([tf.expand_dims(context_vector, 1), x], axis=-1)\n",
        "      \n",
        "\n",
        "    attention_weights2 = None\n",
        "    \n",
        "    if self.attention2:\n",
        "      # enc_output shape == (batch_size, max_length, hidden_size)\n",
        "      context_vector2, attention_weights2 = self.attention2(enc_hidden, enc_output)\n",
        "      # x shape after concatenation == (batch_size, 1, embedding_dim + hidden_size)\n",
        "      x = tf.concat([tf.expand_dims(context_vector, 1), x], axis=-1)\n",
        "    \n",
        "    # passing the concatenated vector to the GRU\n",
        "    output, state = self.gru(x, initial_state = hidden)\n",
        "\n",
        "    # output shape == (batch_size * 1, hidden_size)\n",
        "    output = tf.reshape(output, (-1, output.shape[2]))\n",
        "\n",
        "    # output shape == (batch_size, vocab)\n",
        "    x = self.fc(output)\n",
        "\n",
        "    return x, state, attention_weights"
      ],
      "execution_count": 28,
      "outputs": []
    },
    {
      "cell_type": "code",
      "metadata": {
        "id": "FOzyie8DLjEI"
      },
      "source": [
        "class BahdanauAttention(tf.keras.layers.Layer):\n",
        "  def __init__(self, units):\n",
        "    super(BahdanauAttention, self).__init__()\n",
        "    self.W1 = tf.keras.layers.Dense(units)\n",
        "    self.W2 = tf.keras.layers.Dense(units)\n",
        "    self.V = tf.keras.layers.Dense(1)\n",
        "\n",
        "  def call(self, query, values):\n",
        "    # query hidden state shape == (batch_size, hidden size)\n",
        "    # query_with_time_axis shape == (batch_size, 1, hidden size)\n",
        "    # values shape == (batch_size, max_len, hidden size)\n",
        "    query_with_time_axis = tf.expand_dims(query, 1)\n",
        "    values = query_with_time_axis\n",
        "    # print(\"values.shape\", values.shape)\n",
        "    # print(\"query_with_time_axis.shape\", query_with_time_axis.shape)\n",
        "\n",
        "    # (64, 358, 1024) ->values.shape\n",
        "    # (64, 1, 1024) -> query_with_time_axis.shape\n",
        "\n",
        "    # score shape == (batch_size, max_length, 1)\n",
        "    # we get 1 at the last axis because we are applying score to self.V\n",
        "    # the shape of the tensor before applying self.V is (batch_size, max_length, units)\n",
        "    score = self.V(tf.nn.tanh(\n",
        "        self.W1(values) + self.W2(query_with_time_axis)))\n",
        "    # print(\"self.W1(values).shape ->\", self.W1(values).shape)\n",
        "    # print(\"self.W2(query_with_time_axis).shape\" , self.W2(query_with_time_axis).shape)\n",
        "    # print(\"score.shape\", score.shape)\n",
        "    # (64, 358, 1024) -> self.W1(values).shape\n",
        "    # (64, 1, 1024) -> self.W2(query_with_time_axis).shape\n",
        "    # (64, 358, 1) -> score.shape\n",
        "\n",
        "    # attention_weights shape == (batch_size, max_length, 1)\n",
        "    attention_weights = tf.nn.softmax(score, axis=1)\n",
        "\n",
        "    # context_vector shape after sum == (batch_size, hidden_size)\n",
        "    context_vector = attention_weights * values\n",
        "    # print(context_vector.shape)\n",
        "    # (64, 358, 1024)\n",
        "\n",
        "    context_vector = tf.reduce_sum(context_vector, axis=1)\n",
        "    # print(context_vector.shape)\n",
        "    # (64, 1024)\n",
        "    return context_vector, attention_weights"
      ],
      "execution_count": 37,
      "outputs": []
    },
    {
      "cell_type": "code",
      "metadata": {
        "id": "TNsmnspoSbz8"
      },
      "source": [
        "class DecoderWithDualAttention(tf.keras.Model):\n",
        "  def __init__(self, vocab_size, embedding_dim, dec_units, batch_sz, attention_layer1 = None, attention_layer2 = None):\n",
        "    super(DecoderWithDualAttention, self).__init__()\n",
        "    self.batch_sz = batch_sz\n",
        "    self.dec_units = dec_units\n",
        "    self.embedding = tf.keras.layers.Embedding(vocab_size, embedding_dim)\n",
        "    self.gru = tf.keras.layers.GRU(self.dec_units,\n",
        "                                   return_sequences=True,\n",
        "                                   return_state=True,\n",
        "                                   recurrent_initializer='glorot_uniform')\n",
        "    self.fc = tf.keras.layers.Dense(vocab_size)\n",
        "\n",
        "    # used for attention\n",
        "    self.attention1 = attention_layer1\n",
        "    self.attention2 = attention_layer2\n",
        "\n",
        "  def call(self, x, hidden1, hidden2, enc_output1, enc_output2):\n",
        "    # x shape after passing through embedding == (batch_size, 1, embedding_dim)\n",
        "    x = self.embedding(x)\n",
        "    y = x\n",
        "    attention_weights1 = None   \n",
        "    \n",
        "    if self.attention1:\n",
        "      # enc_output shape == (batch_size, max_length, hidden_size)\n",
        "      context_vector1, attention_weights1 = self.attention1(hidden1, enc_output1)\n",
        "      # x shape after concatenation == (batch_size, 1, embedding_dim + hidden_size)\n",
        "      # print(x.shape)\n",
        "      x = tf.concat([tf.expand_dims(context_vector1, 1), x], axis=-1)\n",
        "      # print(x.shape)\n",
        "    \n",
        "    attention_weights2 = None\n",
        "    \n",
        "    if self.attention2:\n",
        "      # enc_output shape == (batch_size, max_length, hidden_size)\n",
        "      context_vector2, attention_weights2 = self.attention2(hidden2, enc_output2)\n",
        "      # x shape after concatenation == (batch_size, 1, embedding_dim + hidden_size)\n",
        "      y = tf.concat([tf.expand_dims(context_vector2, 1), y], axis=-1)\n",
        "\n",
        "\n",
        "    # passing the concatenated vector to the GRU\n",
        "    output1, state1 = self.gru(x, initial_state = hidden1)\n",
        "    output2, state2 = self.gru(y, initial_state = hidden2)\n",
        "\n",
        "    # output shape == (batch_size * 1, hidden_size)\n",
        "    output1 = tf.reshape(output1, (-1, output1.shape[2]))\n",
        "    output2 = tf.reshape(output2, (-1, output2.shape[2]))\n",
        "\n",
        "    output = tf.concat([output1, output2], axis = 1)\n",
        "\n",
        "    # output shape == (batch_size, vocab)\n",
        "    final_output = self.fc(output)\n",
        "\n",
        "    return final_output, state1, state2, attention_weights1, attention_weights2"
      ],
      "execution_count": 30,
      "outputs": []
    },
    {
      "cell_type": "code",
      "metadata": {
        "id": "F9oozBiV1Khj"
      },
      "source": [
        "loss_object = tf.keras.losses.SparseCategoricalCrossentropy(from_logits=True, reduction='none')\n",
        "\n",
        "def loss_function(real, pred):\n",
        "  mask = tf.math.logical_not(tf.math.equal(real, 0)) \n",
        "  loss_ = loss_object(real, pred)\n",
        "  mask = tf.cast(mask, dtype=loss_.dtype)\n",
        "  loss_ *= mask\n",
        "  return tf.reduce_mean(loss_)"
      ],
      "execution_count": 31,
      "outputs": []
    },
    {
      "cell_type": "code",
      "metadata": {
        "id": "VFLLiTBgnwG-",
        "colab": {
          "base_uri": "https://localhost:8080/"
        },
        "outputId": "1026aac3-2634-4cc8-ac9b-2c7ac04e6143"
      },
      "source": [
        "print(loss_object([1,2],[[0,0.6,0.3,0.1],[0,0.6,0.3,0.1]]))\n",
        "print(loss_function([1,2],[[0,0.6,0.3,0.1],[0,0.6,0.3,0.1]]))"
      ],
      "execution_count": 32,
      "outputs": [
        {
          "output_type": "stream",
          "text": [
            "tf.Tensor([1.063386  1.3633859], shape=(2,), dtype=float32)\n",
            "tf.Tensor(1.2133859, shape=(), dtype=float32)\n"
          ],
          "name": "stdout"
        }
      ]
    },
    {
      "cell_type": "code",
      "metadata": {
        "id": "mz6c3l931TC8"
      },
      "source": [
        "optimizer = tf.keras.optimizers.Adam()\n",
        "\n",
        "def get_train_step_func():\n",
        "\n",
        "  @tf.function\n",
        "  def train_step(inp, targ, aux, enc_hidden1, enc_hidden2, encoder1, encoder2, decoder):\n",
        "    loss = 0\n",
        "\n",
        "    with tf.GradientTape() as tape: # for automatic differentiation\n",
        "      enc_output1, enc_hidden1 = encoder1(inp, enc_hidden1)\n",
        "      enc_output2, enc_hidden2 = encoder2(aux, enc_hidden2)\n",
        "\n",
        "      dec_hidden1 = enc_hidden1\n",
        "      dec_hidden2 = enc_hidden2\n",
        "      # enc_hidden -> \n",
        "\n",
        "      # Check whether we should concatenate dec_hidden and dec_hidden2 or keep it separate\n",
        "      # dec_hidden2 = enc_hidden2\n",
        "\n",
        "      dec_input = tf.expand_dims([targ_tokenizer.word_index['<start>']] * BATCH_SIZE, 1)\n",
        "\n",
        "      # Teacher forcing - feeding the target as the next input\n",
        "      for t in range(1, targ.shape[1]):\n",
        "        # passing enc_output to the decoder\n",
        "        predictions, dec_hidden1, dec_hidden2, _, _ = decoder(dec_input, dec_hidden1, dec_hidden2, enc_output1, enc_output2)\n",
        "        # x, y, hidden1, hidden2, enc_output1, enc_output2\n",
        "\n",
        "        loss += loss_function(targ[:, t], predictions)\n",
        "\n",
        "        # using teacher forcing\n",
        "        dec_input = tf.expand_dims(targ[:, t], 1)\n",
        "\n",
        "    batch_loss = (loss / int(targ.shape[1]))\n",
        "\n",
        "    variables = encoder1.trainable_variables + encoder2.trainable_variables + decoder.trainable_variables\n",
        "\n",
        "    gradients = tape.gradient(loss, variables)\n",
        "\n",
        "    optimizer.apply_gradients(zip(gradients, variables))\n",
        "\n",
        "    return batch_loss\n",
        "    \n",
        "  return train_step"
      ],
      "execution_count": 33,
      "outputs": []
    },
    {
      "cell_type": "code",
      "metadata": {
        "id": "6zym-buZ_TEg"
      },
      "source": [
        "def caculate_validation_loss(inp, targ, aux, enc_hidden1, enc_hidden2, encoder1, encoder2, decoder):\n",
        "  loss = 0\n",
        "  enc_output1, enc_hidden1 = encoder1(inp, enc_hidden1)\n",
        "  enc_output2, enc_hidden2 = encoder2(aux, enc_hidden1)\n",
        "  dec_hidden1 = enc_hidden1\n",
        "  dec_hidden2 = enc_hidden2\n",
        "  dec_input = tf.expand_dims([targ_tokenizer.word_index['<start>']] * BATCH_SIZE, 1)\n",
        "\n",
        "  # Teacher forcing - feeding the target as the next input\n",
        "  # for t in range(1, targ.shape[1]):\n",
        "  #   predictions, dec_hidden, _ = decoder(dec_input, dec_hidden, enc_output)\n",
        "  #   loss += loss_function(targ[:, t], predictions)\n",
        "  #   dec_input = tf.expand_dims(targ[:, t], 1)\n",
        "\n",
        "  # loss = loss / int(targ.shape[1])\n",
        "  # return loss\n",
        "\n",
        "  for t in range(1, targ.shape[1]):\n",
        "        # passing enc_output to the decoder\n",
        "        predictions, dec_hidden1, dec_hidden2, _, _ = decoder(dec_input, dec_hidden1, dec_hidden2, enc_output1, enc_output2)\n",
        "        # x, y, hidden1, hidden2, enc_output1, enc_output2\n",
        "\n",
        "        loss += loss_function(targ[:, t], predictions)\n",
        "\n",
        "        # using teacher forcing\n",
        "        dec_input = tf.expand_dims(targ[:, t], 1)\n",
        "\n",
        "  loss = loss / int(targ.shape[1])\n",
        "  return loss"
      ],
      "execution_count": 34,
      "outputs": []
    },
    {
      "cell_type": "code",
      "metadata": {
        "id": "kMo0_PVaJiP7"
      },
      "source": [
        "def training_seq2seq(epochs, attention1, attention2):\n",
        "  encoder1 = Encoder(vocab_inp_size, embedding_dim, units, BATCH_SIZE)\n",
        "  encoder2 = Encoder(vocab_inp_size, embedding_dim, units, BATCH_SIZE)\n",
        "  decoder = DecoderWithDualAttention(vocab_tar_size, embedding_dim, units, BATCH_SIZE, attention1, attention2)\n",
        "  train_step_func = get_train_step_func()\n",
        "  training_loss = []\n",
        "  validation_loss = []\n",
        "\n",
        "  for epoch in range(epochs):\n",
        "    print()\n",
        "    print(epoch)\n",
        "    start = time.time()\n",
        "    enc_hidden1 = encoder1.initialize_hidden_state()\n",
        "    enc_hidden2 = encoder2.initialize_hidden_state()\n",
        "    total_loss = 0\n",
        "\n",
        "    for (batch, (aux, inp, targ)) in enumerate(dataset.take(steps_per_epoch)):\n",
        "      print(batch)\n",
        "      batch_loss = train_step_func(inp, targ, aux, enc_hidden1, enc_hidden2, encoder1, encoder2, decoder)\n",
        "      # inp, targ, aux, enc_hidden, enc_hidden2, encoder, encoder2, decoder\n",
        "      total_loss += batch_loss\n",
        "\n",
        "      if batch % 100 == 0:\n",
        "        print('Epoch {} Batch {} Loss {:.4f}'.format(epoch + 1, batch, batch_loss))\n",
        "        \n",
        "    enc_hidden1 = encoder1.initialize_hidden_state()\n",
        "    enc_hidden2 = encoder2.initialize_hidden_state()\n",
        "    total_val_loss = 0\n",
        "    for (batch, (aux, inp, targ)) in enumerate(validation_dataset.take(steps_per_epoch)):\n",
        "      val_loss = caculate_validation_loss(inp, targ, aux, enc_hidden1, enc_hidden2, encoder1, encoder2, decoder)\n",
        "      total_val_loss += val_loss\n",
        "\n",
        "    training_loss.append(total_loss / steps_per_epoch)\n",
        "    validation_loss.append(total_val_loss / steps_per_epoch_val)\n",
        "    print('Epoch {} Loss {:.4f} Validation Loss {:.4f}'.format(epoch + 1,\n",
        "                                        training_loss[-1], validation_loss[-1]))\n",
        "    print('Time taken for 1 epoch {} sec\\n'.format(time.time() - start))\n",
        "  return encoder1, encoder2, decoder, training_loss, validation_loss"
      ],
      "execution_count": 35,
      "outputs": []
    },
    {
      "cell_type": "markdown",
      "metadata": {
        "id": "r96cK-kAVLbG"
      },
      "source": [
        "## Training seq2seq without attention\n",
        "\n"
      ]
    },
    {
      "cell_type": "code",
      "metadata": {
        "id": "4knY8jaQ1gcO",
        "colab": {
          "base_uri": "https://localhost:8080/",
          "height": 254
        },
        "outputId": "4e9a705d-f5eb-45e5-8d1e-63ab98dc2c4c"
      },
      "source": [
        "epochs = 10\n",
        "attention = None\n",
        "\n",
        "print(\"Running seq2seq model without attention\")\n",
        "encoder, decoder, training_loss, validation_loss = training_seq2seq(epochs, attention)\n",
        "\n",
        "tloss = training_loss\n",
        "vloss = validation_loss"
      ],
      "execution_count": null,
      "outputs": [
        {
          "output_type": "stream",
          "text": [
            "Running seq2seq model without attention\n"
          ],
          "name": "stdout"
        },
        {
          "output_type": "error",
          "ename": "TypeError",
          "evalue": "ignored",
          "traceback": [
            "\u001b[0;31m---------------------------------------------------------------------------\u001b[0m",
            "\u001b[0;31mTypeError\u001b[0m                                 Traceback (most recent call last)",
            "\u001b[0;32m<ipython-input-77-31cebd880b03>\u001b[0m in \u001b[0;36m<module>\u001b[0;34m()\u001b[0m\n\u001b[1;32m      3\u001b[0m \u001b[0;34m\u001b[0m\u001b[0m\n\u001b[1;32m      4\u001b[0m \u001b[0mprint\u001b[0m\u001b[0;34m(\u001b[0m\u001b[0;34m\"Running seq2seq model without attention\"\u001b[0m\u001b[0;34m)\u001b[0m\u001b[0;34m\u001b[0m\u001b[0;34m\u001b[0m\u001b[0m\n\u001b[0;32m----> 5\u001b[0;31m \u001b[0mencoder\u001b[0m\u001b[0;34m,\u001b[0m \u001b[0mdecoder\u001b[0m\u001b[0;34m,\u001b[0m \u001b[0mtraining_loss\u001b[0m\u001b[0;34m,\u001b[0m \u001b[0mvalidation_loss\u001b[0m \u001b[0;34m=\u001b[0m \u001b[0mtraining_seq2seq\u001b[0m\u001b[0;34m(\u001b[0m\u001b[0mepochs\u001b[0m\u001b[0;34m,\u001b[0m \u001b[0mattention\u001b[0m\u001b[0;34m)\u001b[0m\u001b[0;34m\u001b[0m\u001b[0;34m\u001b[0m\u001b[0m\n\u001b[0m\u001b[1;32m      6\u001b[0m \u001b[0;34m\u001b[0m\u001b[0m\n\u001b[1;32m      7\u001b[0m \u001b[0mtloss\u001b[0m \u001b[0;34m=\u001b[0m \u001b[0mtraining_loss\u001b[0m\u001b[0;34m\u001b[0m\u001b[0;34m\u001b[0m\u001b[0m\n",
            "\u001b[0;31mTypeError\u001b[0m: training_seq2seq() missing 1 required positional argument: 'attention2'"
          ]
        }
      ]
    },
    {
      "cell_type": "markdown",
      "metadata": {
        "id": "C2w0wAvhVUtq"
      },
      "source": [
        "## Training seq2seq with dot product attention"
      ]
    },
    {
      "cell_type": "code",
      "metadata": {
        "id": "alodSzmpX77O",
        "colab": {
          "base_uri": "https://localhost:8080/",
          "height": 1000
        },
        "outputId": "c5c651e8-9c7a-4bfa-86d3-ef331b47f62d"
      },
      "source": [
        "attention = DotProductAttention()\n",
        "print(\"Running seq2seq model with dot product attention\")\n",
        "encoder_dp, decoder_dp, training_loss, validation_loss = training_seq2seq(epochs, attention)\n",
        "\n",
        "tloss = np.vstack((tloss, training_loss))\n",
        "vloss = np.vstack((vloss, validation_loss))"
      ],
      "execution_count": null,
      "outputs": [
        {
          "output_type": "stream",
          "text": [
            "Running seq2seq model with dot product attention\n",
            "Epoch 1 Batch 0 Loss 4.6264\n",
            "Epoch 1 Batch 100 Loss 2.4235\n",
            "Epoch 1 Batch 200 Loss 2.1550\n",
            "Epoch 1 Batch 300 Loss 1.8926\n",
            "Epoch 1 Loss 2.4485 Validation Loss 1.9181\n",
            "Time taken for 1 epoch 42.6515851020813 sec\n",
            "\n",
            "Epoch 2 Batch 0 Loss 1.8629\n",
            "Epoch 2 Batch 100 Loss 1.7040\n",
            "Epoch 2 Batch 200 Loss 1.4752\n",
            "Epoch 2 Batch 300 Loss 1.5064\n",
            "Epoch 2 Loss 1.6576 Validation Loss 1.5580\n",
            "Time taken for 1 epoch 34.465418100357056 sec\n",
            "\n",
            "Epoch 3 Batch 0 Loss 1.3883\n",
            "Epoch 3 Batch 100 Loss 1.3110\n",
            "Epoch 3 Batch 200 Loss 1.4096\n",
            "Epoch 3 Batch 300 Loss 1.3529\n",
            "Epoch 3 Loss 1.3195 Validation Loss 1.3515\n",
            "Time taken for 1 epoch 34.06086468696594 sec\n",
            "\n",
            "Epoch 4 Batch 0 Loss 1.1593\n",
            "Epoch 4 Batch 100 Loss 1.0606\n",
            "Epoch 4 Batch 200 Loss 0.9367\n",
            "Epoch 4 Batch 300 Loss 0.9321\n",
            "Epoch 4 Loss 1.0839 Validation Loss 1.2153\n",
            "Time taken for 1 epoch 34.23249864578247 sec\n",
            "\n",
            "Epoch 5 Batch 0 Loss 0.8570\n",
            "Epoch 5 Batch 100 Loss 0.9223\n",
            "Epoch 5 Batch 200 Loss 0.9343\n",
            "Epoch 5 Batch 300 Loss 0.7972\n",
            "Epoch 5 Loss 0.8963 Validation Loss 1.1206\n",
            "Time taken for 1 epoch 34.13781118392944 sec\n",
            "\n",
            "Epoch 6 Batch 0 Loss 0.6813\n",
            "Epoch 6 Batch 100 Loss 0.7029\n",
            "Epoch 6 Batch 200 Loss 0.7612\n",
            "Epoch 6 Batch 300 Loss 0.7500\n",
            "Epoch 6 Loss 0.7414 Validation Loss 1.0458\n",
            "Time taken for 1 epoch 33.956538677215576 sec\n",
            "\n",
            "Epoch 7 Batch 0 Loss 0.6269\n",
            "Epoch 7 Batch 100 Loss 0.7352\n",
            "Epoch 7 Batch 200 Loss 0.6241\n",
            "Epoch 7 Batch 300 Loss 0.5669\n",
            "Epoch 7 Loss 0.6110 Validation Loss 0.9914\n",
            "Time taken for 1 epoch 33.77721953392029 sec\n",
            "\n",
            "Epoch 8 Batch 0 Loss 0.4866\n",
            "Epoch 8 Batch 100 Loss 0.4470\n",
            "Epoch 8 Batch 200 Loss 0.4653\n",
            "Epoch 8 Batch 300 Loss 0.5365\n",
            "Epoch 8 Loss 0.5020 Validation Loss 0.9507\n",
            "Time taken for 1 epoch 33.88840341567993 sec\n",
            "\n",
            "Epoch 9 Batch 0 Loss 0.4635\n",
            "Epoch 9 Batch 100 Loss 0.4269\n",
            "Epoch 9 Batch 200 Loss 0.4993\n",
            "Epoch 9 Batch 300 Loss 0.4623\n",
            "Epoch 9 Loss 0.4111 Validation Loss 0.9175\n",
            "Time taken for 1 epoch 33.621456146240234 sec\n",
            "\n",
            "Epoch 10 Batch 0 Loss 0.4042\n",
            "Epoch 10 Batch 100 Loss 0.3281\n",
            "Epoch 10 Batch 200 Loss 0.3313\n",
            "Epoch 10 Batch 300 Loss 0.2708\n",
            "Epoch 10 Loss 0.3350 Validation Loss 0.8871\n",
            "Time taken for 1 epoch 33.877196073532104 sec\n",
            "\n"
          ],
          "name": "stdout"
        }
      ]
    },
    {
      "cell_type": "markdown",
      "metadata": {
        "id": "sQKjqurFVY0u"
      },
      "source": [
        "## Training seq2seq with Bahdanau attention"
      ]
    },
    {
      "cell_type": "code",
      "metadata": {
        "id": "7TUKivtyYix6",
        "colab": {
          "base_uri": "https://localhost:8080/"
        },
        "outputId": "ad5269eb-4d5c-464b-a055-d38fbbe58254"
      },
      "source": [
        "epochs = 1\n",
        "\n",
        "attention1 = BahdanauAttention(units)\n",
        "attention2 = BahdanauAttention(units)\n",
        "print(\"Running seq2seq model with Bahdanau attention\")\n",
        "encoder1_bah, encoder_bah2, decoder_bah, training_loss, validation_loss = training_seq2seq(epochs, attention1, attention2)\n",
        "\n",
        "# tloss = np.vstack((tloss, training_loss))\n",
        "# vloss = np.vstack((vloss, validation_loss))"
      ],
      "execution_count": 38,
      "outputs": [
        {
          "output_type": "stream",
          "text": [
            "Running seq2seq model with Bahdanau attention\n",
            "\n",
            "0\n",
            "0\n",
            "Epoch 1 Batch 0 Loss 3.0160\n",
            "1\n",
            "2\n",
            "3\n",
            "4\n",
            "5\n",
            "6\n",
            "7\n",
            "8\n",
            "9\n",
            "10\n",
            "11\n",
            "12\n",
            "13\n",
            "14\n",
            "15\n",
            "16\n",
            "17\n",
            "18\n",
            "19\n",
            "20\n",
            "21\n",
            "22\n",
            "Epoch 1 Loss 2.4843 Validation Loss 2.2662\n",
            "Time taken for 1 epoch 71.1959776878357 sec\n",
            "\n"
          ],
          "name": "stdout"
        }
      ]
    },
    {
      "cell_type": "code",
      "metadata": {
        "colab": {
          "base_uri": "https://localhost:8080/"
        },
        "id": "Ka7xjgYknqQL",
        "outputId": "1d8f8450-4faf-48e3-d714-7c96468f12dc"
      },
      "source": [
        "encoder1_bah.save(\"./encoder1\")"
      ],
      "execution_count": 41,
      "outputs": [
        {
          "output_type": "stream",
          "text": [
            "WARNING:absl:Found untraced functions such as gru_cell_5_layer_call_and_return_conditional_losses, gru_cell_5_layer_call_fn, gru_cell_5_layer_call_fn, gru_cell_5_layer_call_and_return_conditional_losses, gru_cell_5_layer_call_and_return_conditional_losses while saving (showing 5 of 5). These functions will not be directly callable after loading.\n"
          ],
          "name": "stderr"
        },
        {
          "output_type": "stream",
          "text": [
            "INFO:tensorflow:Assets written to: ./encoder1/assets\n"
          ],
          "name": "stdout"
        },
        {
          "output_type": "stream",
          "text": [
            "INFO:tensorflow:Assets written to: ./encoder1/assets\n"
          ],
          "name": "stderr"
        }
      ]
    },
    {
      "cell_type": "code",
      "metadata": {
        "colab": {
          "base_uri": "https://localhost:8080/"
        },
        "id": "QArI_aDtoQu-",
        "outputId": "3b761f4c-0e7f-40e8-a78c-5faddfcb200f"
      },
      "source": [
        "encoder_check = tf.keras.models.load_model(\"./encoder1\")"
      ],
      "execution_count": 42,
      "outputs": [
        {
          "output_type": "stream",
          "text": [
            "WARNING:tensorflow:No training configuration found in save file, so the model was *not* compiled. Compile it manually.\n"
          ],
          "name": "stdout"
        },
        {
          "output_type": "stream",
          "text": [
            "WARNING:tensorflow:No training configuration found in save file, so the model was *not* compiled. Compile it manually.\n"
          ],
          "name": "stderr"
        }
      ]
    },
    {
      "cell_type": "code",
      "metadata": {
        "colab": {
          "base_uri": "https://localhost:8080/"
        },
        "id": "acZQtEXqoe7x",
        "outputId": "d8fd8697-e4fd-46e8-c552-89a53e09cbba"
      },
      "source": [
        "decoder_bah.save(\"./decoder\")"
      ],
      "execution_count": 45,
      "outputs": [
        {
          "output_type": "stream",
          "text": [
            "WARNING:absl:Found untraced functions such as gru_cell_7_layer_call_and_return_conditional_losses, gru_cell_7_layer_call_fn, dense_8_layer_call_and_return_conditional_losses, dense_8_layer_call_fn, dense_9_layer_call_and_return_conditional_losses while saving (showing 5 of 35). These functions will not be directly callable after loading.\n"
          ],
          "name": "stderr"
        },
        {
          "output_type": "stream",
          "text": [
            "INFO:tensorflow:Assets written to: ./decoder/assets\n"
          ],
          "name": "stdout"
        },
        {
          "output_type": "stream",
          "text": [
            "INFO:tensorflow:Assets written to: ./decoder/assets\n"
          ],
          "name": "stderr"
        }
      ]
    },
    {
      "cell_type": "code",
      "metadata": {
        "colab": {
          "base_uri": "https://localhost:8080/"
        },
        "id": "9npH6sRgokHm",
        "outputId": "608de257-d824-41ca-b01d-3bbeab2dbb0b"
      },
      "source": [
        "decoder_check = tf.keras.models.load_model(\"./decoder\")"
      ],
      "execution_count": 46,
      "outputs": [
        {
          "output_type": "stream",
          "text": [
            "WARNING:tensorflow:No training configuration found in save file, so the model was *not* compiled. Compile it manually.\n"
          ],
          "name": "stdout"
        },
        {
          "output_type": "stream",
          "text": [
            "WARNING:tensorflow:No training configuration found in save file, so the model was *not* compiled. Compile it manually.\n"
          ],
          "name": "stderr"
        }
      ]
    },
    {
      "cell_type": "code",
      "metadata": {
        "id": "51rxMYexoxru"
      },
      "source": [
        "# decoder_check.get_weights() == decoder_bah.get_weights()"
      ],
      "execution_count": 54,
      "outputs": []
    },
    {
      "cell_type": "code",
      "metadata": {
        "colab": {
          "base_uri": "https://localhost:8080/"
        },
        "id": "GIPQwmqzpWCL",
        "outputId": "4bf0ba23-ac1d-4ff5-ed44-a3178bc785b8"
      },
      "source": [
        "encoder_bah2.save(\"./encoder2\")\n",
        "encoder_check2 = tf.keras.models.load_model(\"./encoder2\")"
      ],
      "execution_count": 55,
      "outputs": [
        {
          "output_type": "stream",
          "text": [
            "WARNING:absl:Found untraced functions such as gru_cell_6_layer_call_and_return_conditional_losses, gru_cell_6_layer_call_fn, gru_cell_6_layer_call_fn, gru_cell_6_layer_call_and_return_conditional_losses, gru_cell_6_layer_call_and_return_conditional_losses while saving (showing 5 of 5). These functions will not be directly callable after loading.\n"
          ],
          "name": "stderr"
        },
        {
          "output_type": "stream",
          "text": [
            "INFO:tensorflow:Assets written to: ./encoder2/assets\n"
          ],
          "name": "stdout"
        },
        {
          "output_type": "stream",
          "text": [
            "INFO:tensorflow:Assets written to: ./encoder2/assets\n"
          ],
          "name": "stderr"
        },
        {
          "output_type": "stream",
          "text": [
            "WARNING:tensorflow:No training configuration found in save file, so the model was *not* compiled. Compile it manually.\n"
          ],
          "name": "stdout"
        },
        {
          "output_type": "stream",
          "text": [
            "WARNING:tensorflow:No training configuration found in save file, so the model was *not* compiled. Compile it manually.\n"
          ],
          "name": "stderr"
        }
      ]
    },
    {
      "cell_type": "code",
      "metadata": {
        "colab": {
          "base_uri": "https://localhost:8080/"
        },
        "id": "0RxQ6FygpiSG",
        "outputId": "051a20ea-93b4-46cb-efad-2cb90319a52a"
      },
      "source": [
        "encoder_check = Encoder(vocab_inp_size, embedding_dim, units, BATCH_SIZE)\n",
        "encoder_check2 = Encoder(vocab_inp_size, embedding_dim, units, BATCH_SIZE)\n",
        "decoder_check = DecoderWithDualAttention(vocab_tar_size, embedding_dim, units, BATCH_SIZE, attention1, attention2)\n",
        "# encoder_check = tf.keras.models.load_model(\"./encoder1\")\n",
        "# encoder_check2 = tf.keras.models.load_model(\"./encoder2\")\n",
        "# decoder_check = tf.keras.models.load_model(\"./decoder\")\n",
        "encoder_check.load_weights(\"./encoder1\")\n",
        "encoder_check2.load_weights(\"./encoder2\")\n",
        "decoder_check.load_weights(\"./decoder\")"
      ],
      "execution_count": 68,
      "outputs": [
        {
          "output_type": "execute_result",
          "data": {
            "text/plain": [
              "<tensorflow.python.training.tracking.util.CheckpointLoadStatus at 0x7f656edbe850>"
            ]
          },
          "metadata": {},
          "execution_count": 68
        }
      ]
    },
    {
      "cell_type": "code",
      "metadata": {
        "id": "Ad9Fn5HrOO6i"
      },
      "source": [
        "def translate(sentence, encoder, decoder):\n",
        "  attention_plot = np.zeros((max_length_targ, max_length_inp))\n",
        "\n",
        "  sentence = preprocess_sentence(sentence)\n",
        "\n",
        "  inputs = [inp_lang.word_index[i] for i in sentence.split(' ')]\n",
        "  inputs = tf.keras.preprocessing.sequence.pad_sequences([inputs],\n",
        "                                                         maxlen=max_length_inp,\n",
        "                                                         padding='post')\n",
        "  inputs = tf.convert_to_tensor(inputs)\n",
        "\n",
        "  result = ''\n",
        "\n",
        "  hidden = [tf.zeros((1, units))]\n",
        "  enc_out, enc_hidden = encoder(inputs, hidden)\n",
        "\n",
        "  dec_hidden = enc_hidden\n",
        "  dec_input = tf.expand_dims([targ_tokenizer.word_index['<start>']], 0)\n",
        "\n",
        "  for t in range(max_length_targ):\n",
        "    predictions, dec_hidden, attention_weights = decoder(dec_input,\n",
        "                                                         dec_hidden,\n",
        "                                                         enc_out)\n",
        "\n",
        "    predicted_id = tf.argmax(predictions[0]).numpy()\n",
        "\n",
        "    result += targ_tokenizer.index_word[predicted_id] + ' '\n",
        "\n",
        "    # until the predicted word is <end>.\n",
        "    if targ_tokenizer.index_word[predicted_id] == '<end>':\n",
        "      return result, sentence\n",
        "\n",
        "    # the predicted ID is fed back into the model, no teacher forcing.\n",
        "    dec_input = tf.expand_dims([predicted_id], 0)\n",
        "\n",
        "  return result, sentence"
      ],
      "execution_count": 56,
      "outputs": []
    },
    {
      "cell_type": "code",
      "metadata": {
        "id": "WHunNtDSpsD_"
      },
      "source": [
        "def translate(g_context, r_context, encoder1, encoder2, decoder):\n",
        "  attention_plot1 = np.zeros((max_length_targ, max_length_given))\n",
        "  attention_plot2 = np.zeros((max_length_targ, max_length_reference))\n",
        "\n",
        "  g_context = preprocess_sentence(g_context)\n",
        "\n",
        "  given = [given_tokenizer.word_index[i] for i in g_context.split(' ')]\n",
        "  given = tf.keras.preprocessing.sequence.pad_sequences([given],\n",
        "                                                         maxlen=max_length_given,\n",
        "                                                         padding='post')\n",
        "  given = tf.convert_to_tensor(given)\n",
        "\n",
        "  \n",
        "  r_context = preprocess_sentence(r_context)\n",
        "  \n",
        "  ref = [reference_tokenizer.word_index[i] for i in r_context.split(' ')]\n",
        "  ref = tf.keras.preprocessing.sequence.pad_sequences([ref],\n",
        "                                                         maxlen=max_length_reference,\n",
        "                                                         padding='post')\n",
        "  ref = tf.convert_to_tensor(ref)\n",
        "\n",
        "\n",
        "  result = ''\n",
        "\n",
        "  hidden = [tf.zeros((1, units))]\n",
        "  enc_out1, enc_hidden1 = encoder1(given, hidden)\n",
        "  enc_out2, enc_hidden2 = encoder2(ref, hidden)\n",
        "\n",
        "  dec_hidden1 = enc_hidden1\n",
        "  dec_hidden2 = enc_hidden2\n",
        "  dec_input = tf.expand_dims([targ_tokenizer.word_index['<start>']], 0)\n",
        "\n",
        "  for t in range(max_length_targ):\n",
        "    # predictions, dec_hidden, attention_weights = decoder(dec_input,\n",
        "    #                                                      dec_hidden,\n",
        "    #                                                      enc_out)\n",
        "\n",
        "    predictions, dec_hidden1, dec_hidden2, _, _ = decoder(dec_input, dec_hidden1, dec_hidden2, enc_out1, enc_out2)\n",
        "\n",
        "    predicted_id = tf.argmax(predictions[0]).numpy()\n",
        "\n",
        "    result += targ_tokenizer.index_word[predicted_id] + ' '\n",
        "\n",
        "    # until the predicted word is <end>.\n",
        "    if targ_tokenizer.index_word[predicted_id] == '<end>':\n",
        "      return result\n",
        "\n",
        "    # the predicted ID is fed back into the model, no teacher forcing.\n",
        "    dec_input = tf.expand_dims([predicted_id], 0)\n",
        "\n",
        "  return result"
      ],
      "execution_count": 60,
      "outputs": []
    },
    {
      "cell_type": "code",
      "metadata": {
        "colab": {
          "base_uri": "https://localhost:8080/",
          "height": 35
        },
        "id": "_n5m_9B2p49a",
        "outputId": "77c0c49d-a65b-4225-b447-ec70b5fb8eba"
      },
      "source": [
        "translate(\"is my country. \",\"Its a really and beautiful place to live. \", encoder1_bah, encoder_bah2, decoder_bah)"
      ],
      "execution_count": 63,
      "outputs": [
        {
          "output_type": "execute_result",
          "data": {
            "application/vnd.google.colaboratory.intrinsic+json": {
              "type": "string"
            },
            "text/plain": [
              "'what did did did beyonce beyonce beyonce ? ? ? ? ? ? <end> '"
            ]
          },
          "metadata": {},
          "execution_count": 63
        }
      ]
    },
    {
      "cell_type": "code",
      "metadata": {
        "colab": {
          "base_uri": "https://localhost:8080/",
          "height": 35
        },
        "id": "kSrJfyYjqnaO",
        "outputId": "7cb24d29-a4c7-41dc-a427-5f641d028d6f"
      },
      "source": [
        "import warnings\n",
        "warnings.simplefilter(\"ignore\")\n",
        "translate(\"is my country. \",\"Its a really and beautiful place to live. \", encoder_check, encoder_check2, decoder_check)"
      ],
      "execution_count": 71,
      "outputs": [
        {
          "output_type": "execute_result",
          "data": {
            "application/vnd.google.colaboratory.intrinsic+json": {
              "type": "string"
            },
            "text/plain": [
              "'what did did did beyonce beyonce beyonce ? ? ? ? ? ? <end> '"
            ]
          },
          "metadata": {},
          "execution_count": 71
        }
      ]
    },
    {
      "cell_type": "code",
      "metadata": {
        "id": "pjGlZkRj0NuC"
      },
      "source": [
        "# attention = BahdanauAttention(units)\n",
        "# encoder = Encoder(vocab_inp_size, embedding_dim, units, BATCH_SIZE)\n",
        "# decoder = DecoderWithAttention(vocab_tar_size, embedding_dim, units, BATCH_SIZE, attention)\n",
        "# loss = 0\n",
        "# with tf.GradientTape() as tape: # for automatic differentiation\n",
        "#     sample_hidden = encoder.initialize_hidden_state()\n",
        "#     enc_output, enc_hidden = encoder(example_input_batch, sample_hidden)\n",
        "\n",
        "#     dec_hidden = enc_hidden\n",
        "#     dec_input = tf.expand_dims([targ_lang.word_index['<start>']] * BATCH_SIZE, 1)\n",
        "#     # Teacher forcing - feeding the target as the next input\n",
        "#     for t in range(1, example_target_batch.shape[1]):\n",
        "#         # passing enc_output to the decoder\n",
        "#         predictions, dec_hidden, _ = decoder(dec_input, dec_hidden, enc_output)\n",
        "#         loss += loss_function(example_target_batch[:, t], predictions)\n",
        "#         # using teacher forcing\n",
        "#         dec_input = tf.expand_dims(example_target_batch[:, t], 1)"
      ],
      "execution_count": 70,
      "outputs": []
    }
  ]
}