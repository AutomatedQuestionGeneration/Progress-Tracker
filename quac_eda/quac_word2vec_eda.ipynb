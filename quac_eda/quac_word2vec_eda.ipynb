{
  "nbformat": 4,
  "nbformat_minor": 0,
  "metadata": {
    "colab": {
      "name": "scratchpad",
      "provenance": []
    },
    "kernelspec": {
      "display_name": "Python 3",
      "name": "python3"
    },
    "widgets": {
      "application/vnd.jupyter.widget-state+json": {
        "55e636b0e51c4e35a3950bae55f4dd36": {
          "model_module": "@jupyter-widgets/controls",
          "model_name": "HBoxModel",
          "state": {
            "_view_name": "HBoxView",
            "_dom_classes": [],
            "_model_name": "HBoxModel",
            "_view_module": "@jupyter-widgets/controls",
            "_model_module_version": "1.5.0",
            "_view_count": null,
            "_view_module_version": "1.5.0",
            "box_style": "",
            "layout": "IPY_MODEL_fadb5bede33e4f29884999e95d25d57b",
            "_model_module": "@jupyter-widgets/controls",
            "children": [
              "IPY_MODEL_2482cf77b2b843298c68f8d94c78a80c",
              "IPY_MODEL_c3439798894a4d5eaa5fd1d6eb4b5b78"
            ]
          }
        },
        "fadb5bede33e4f29884999e95d25d57b": {
          "model_module": "@jupyter-widgets/base",
          "model_name": "LayoutModel",
          "state": {
            "_view_name": "LayoutView",
            "grid_template_rows": null,
            "right": null,
            "justify_content": null,
            "_view_module": "@jupyter-widgets/base",
            "overflow": null,
            "_model_module_version": "1.2.0",
            "_view_count": null,
            "flex_flow": null,
            "width": null,
            "min_width": null,
            "border": null,
            "align_items": null,
            "bottom": null,
            "_model_module": "@jupyter-widgets/base",
            "top": null,
            "grid_column": null,
            "overflow_y": null,
            "overflow_x": null,
            "grid_auto_flow": null,
            "grid_area": null,
            "grid_template_columns": null,
            "flex": null,
            "_model_name": "LayoutModel",
            "justify_items": null,
            "grid_row": null,
            "max_height": null,
            "align_content": null,
            "visibility": null,
            "align_self": null,
            "height": null,
            "min_height": null,
            "padding": null,
            "grid_auto_rows": null,
            "grid_gap": null,
            "max_width": null,
            "order": null,
            "_view_module_version": "1.2.0",
            "grid_template_areas": null,
            "object_position": null,
            "object_fit": null,
            "grid_auto_columns": null,
            "margin": null,
            "display": null,
            "left": null
          }
        },
        "2482cf77b2b843298c68f8d94c78a80c": {
          "model_module": "@jupyter-widgets/controls",
          "model_name": "FloatProgressModel",
          "state": {
            "_view_name": "ProgressView",
            "style": "IPY_MODEL_fa04e30046d840438a22a1d2e21d4758",
            "_dom_classes": [],
            "description": "Downloading: ",
            "_model_name": "FloatProgressModel",
            "bar_style": "success",
            "max": 2563,
            "_view_module": "@jupyter-widgets/controls",
            "_model_module_version": "1.5.0",
            "value": 2563,
            "_view_count": null,
            "_view_module_version": "1.5.0",
            "orientation": "horizontal",
            "min": 0,
            "description_tooltip": null,
            "_model_module": "@jupyter-widgets/controls",
            "layout": "IPY_MODEL_dd62637cb235448f91165d92781a0332"
          }
        },
        "c3439798894a4d5eaa5fd1d6eb4b5b78": {
          "model_module": "@jupyter-widgets/controls",
          "model_name": "HTMLModel",
          "state": {
            "_view_name": "HTMLView",
            "style": "IPY_MODEL_71b60f6ebfa64acd92c2f44cf9364a47",
            "_dom_classes": [],
            "description": "",
            "_model_name": "HTMLModel",
            "placeholder": "​",
            "_view_module": "@jupyter-widgets/controls",
            "_model_module_version": "1.5.0",
            "value": " 7.88k/? [00:04&lt;00:00, 1.58kB/s]",
            "_view_count": null,
            "_view_module_version": "1.5.0",
            "description_tooltip": null,
            "_model_module": "@jupyter-widgets/controls",
            "layout": "IPY_MODEL_5b3e70d23465439392328d440198cdcf"
          }
        },
        "fa04e30046d840438a22a1d2e21d4758": {
          "model_module": "@jupyter-widgets/controls",
          "model_name": "ProgressStyleModel",
          "state": {
            "_view_name": "StyleView",
            "_model_name": "ProgressStyleModel",
            "description_width": "initial",
            "_view_module": "@jupyter-widgets/base",
            "_model_module_version": "1.5.0",
            "_view_count": null,
            "_view_module_version": "1.2.0",
            "bar_color": null,
            "_model_module": "@jupyter-widgets/controls"
          }
        },
        "dd62637cb235448f91165d92781a0332": {
          "model_module": "@jupyter-widgets/base",
          "model_name": "LayoutModel",
          "state": {
            "_view_name": "LayoutView",
            "grid_template_rows": null,
            "right": null,
            "justify_content": null,
            "_view_module": "@jupyter-widgets/base",
            "overflow": null,
            "_model_module_version": "1.2.0",
            "_view_count": null,
            "flex_flow": null,
            "width": null,
            "min_width": null,
            "border": null,
            "align_items": null,
            "bottom": null,
            "_model_module": "@jupyter-widgets/base",
            "top": null,
            "grid_column": null,
            "overflow_y": null,
            "overflow_x": null,
            "grid_auto_flow": null,
            "grid_area": null,
            "grid_template_columns": null,
            "flex": null,
            "_model_name": "LayoutModel",
            "justify_items": null,
            "grid_row": null,
            "max_height": null,
            "align_content": null,
            "visibility": null,
            "align_self": null,
            "height": null,
            "min_height": null,
            "padding": null,
            "grid_auto_rows": null,
            "grid_gap": null,
            "max_width": null,
            "order": null,
            "_view_module_version": "1.2.0",
            "grid_template_areas": null,
            "object_position": null,
            "object_fit": null,
            "grid_auto_columns": null,
            "margin": null,
            "display": null,
            "left": null
          }
        },
        "71b60f6ebfa64acd92c2f44cf9364a47": {
          "model_module": "@jupyter-widgets/controls",
          "model_name": "DescriptionStyleModel",
          "state": {
            "_view_name": "StyleView",
            "_model_name": "DescriptionStyleModel",
            "description_width": "",
            "_view_module": "@jupyter-widgets/base",
            "_model_module_version": "1.5.0",
            "_view_count": null,
            "_view_module_version": "1.2.0",
            "_model_module": "@jupyter-widgets/controls"
          }
        },
        "5b3e70d23465439392328d440198cdcf": {
          "model_module": "@jupyter-widgets/base",
          "model_name": "LayoutModel",
          "state": {
            "_view_name": "LayoutView",
            "grid_template_rows": null,
            "right": null,
            "justify_content": null,
            "_view_module": "@jupyter-widgets/base",
            "overflow": null,
            "_model_module_version": "1.2.0",
            "_view_count": null,
            "flex_flow": null,
            "width": null,
            "min_width": null,
            "border": null,
            "align_items": null,
            "bottom": null,
            "_model_module": "@jupyter-widgets/base",
            "top": null,
            "grid_column": null,
            "overflow_y": null,
            "overflow_x": null,
            "grid_auto_flow": null,
            "grid_area": null,
            "grid_template_columns": null,
            "flex": null,
            "_model_name": "LayoutModel",
            "justify_items": null,
            "grid_row": null,
            "max_height": null,
            "align_content": null,
            "visibility": null,
            "align_self": null,
            "height": null,
            "min_height": null,
            "padding": null,
            "grid_auto_rows": null,
            "grid_gap": null,
            "max_width": null,
            "order": null,
            "_view_module_version": "1.2.0",
            "grid_template_areas": null,
            "object_position": null,
            "object_fit": null,
            "grid_auto_columns": null,
            "margin": null,
            "display": null,
            "left": null
          }
        },
        "613025d334f146f8ac677cd5c90c6ce6": {
          "model_module": "@jupyter-widgets/controls",
          "model_name": "HBoxModel",
          "state": {
            "_view_name": "HBoxView",
            "_dom_classes": [],
            "_model_name": "HBoxModel",
            "_view_module": "@jupyter-widgets/controls",
            "_model_module_version": "1.5.0",
            "_view_count": null,
            "_view_module_version": "1.5.0",
            "box_style": "",
            "layout": "IPY_MODEL_f94e9bc3c181415f9f8d32b0bc61b154",
            "_model_module": "@jupyter-widgets/controls",
            "children": [
              "IPY_MODEL_08a63dbe78184192be3d80543131475a",
              "IPY_MODEL_d85e515d24ca4e9d8b9578ed967c7523"
            ]
          }
        },
        "f94e9bc3c181415f9f8d32b0bc61b154": {
          "model_module": "@jupyter-widgets/base",
          "model_name": "LayoutModel",
          "state": {
            "_view_name": "LayoutView",
            "grid_template_rows": null,
            "right": null,
            "justify_content": null,
            "_view_module": "@jupyter-widgets/base",
            "overflow": null,
            "_model_module_version": "1.2.0",
            "_view_count": null,
            "flex_flow": null,
            "width": null,
            "min_width": null,
            "border": null,
            "align_items": null,
            "bottom": null,
            "_model_module": "@jupyter-widgets/base",
            "top": null,
            "grid_column": null,
            "overflow_y": null,
            "overflow_x": null,
            "grid_auto_flow": null,
            "grid_area": null,
            "grid_template_columns": null,
            "flex": null,
            "_model_name": "LayoutModel",
            "justify_items": null,
            "grid_row": null,
            "max_height": null,
            "align_content": null,
            "visibility": null,
            "align_self": null,
            "height": null,
            "min_height": null,
            "padding": null,
            "grid_auto_rows": null,
            "grid_gap": null,
            "max_width": null,
            "order": null,
            "_view_module_version": "1.2.0",
            "grid_template_areas": null,
            "object_position": null,
            "object_fit": null,
            "grid_auto_columns": null,
            "margin": null,
            "display": null,
            "left": null
          }
        },
        "08a63dbe78184192be3d80543131475a": {
          "model_module": "@jupyter-widgets/controls",
          "model_name": "FloatProgressModel",
          "state": {
            "_view_name": "ProgressView",
            "style": "IPY_MODEL_00f5d4cdd337465cad8fec1fa55934a4",
            "_dom_classes": [],
            "description": "Downloading: ",
            "_model_name": "FloatProgressModel",
            "bar_style": "success",
            "max": 1725,
            "_view_module": "@jupyter-widgets/controls",
            "_model_module_version": "1.5.0",
            "value": 1725,
            "_view_count": null,
            "_view_module_version": "1.5.0",
            "orientation": "horizontal",
            "min": 0,
            "description_tooltip": null,
            "_model_module": "@jupyter-widgets/controls",
            "layout": "IPY_MODEL_72229b9afbe34bfa8a3f41cf54fb1cb6"
          }
        },
        "d85e515d24ca4e9d8b9578ed967c7523": {
          "model_module": "@jupyter-widgets/controls",
          "model_name": "HTMLModel",
          "state": {
            "_view_name": "HTMLView",
            "style": "IPY_MODEL_cd2d0b274c234fdc82203180695fa800",
            "_dom_classes": [],
            "description": "",
            "_model_name": "HTMLModel",
            "placeholder": "​",
            "_view_module": "@jupyter-widgets/controls",
            "_model_module_version": "1.5.0",
            "value": " 4.90k/? [00:00&lt;00:00, 25.0kB/s]",
            "_view_count": null,
            "_view_module_version": "1.5.0",
            "description_tooltip": null,
            "_model_module": "@jupyter-widgets/controls",
            "layout": "IPY_MODEL_14d9c37676c74cb2bbf8e58cd1bc30d8"
          }
        },
        "00f5d4cdd337465cad8fec1fa55934a4": {
          "model_module": "@jupyter-widgets/controls",
          "model_name": "ProgressStyleModel",
          "state": {
            "_view_name": "StyleView",
            "_model_name": "ProgressStyleModel",
            "description_width": "initial",
            "_view_module": "@jupyter-widgets/base",
            "_model_module_version": "1.5.0",
            "_view_count": null,
            "_view_module_version": "1.2.0",
            "bar_color": null,
            "_model_module": "@jupyter-widgets/controls"
          }
        },
        "72229b9afbe34bfa8a3f41cf54fb1cb6": {
          "model_module": "@jupyter-widgets/base",
          "model_name": "LayoutModel",
          "state": {
            "_view_name": "LayoutView",
            "grid_template_rows": null,
            "right": null,
            "justify_content": null,
            "_view_module": "@jupyter-widgets/base",
            "overflow": null,
            "_model_module_version": "1.2.0",
            "_view_count": null,
            "flex_flow": null,
            "width": null,
            "min_width": null,
            "border": null,
            "align_items": null,
            "bottom": null,
            "_model_module": "@jupyter-widgets/base",
            "top": null,
            "grid_column": null,
            "overflow_y": null,
            "overflow_x": null,
            "grid_auto_flow": null,
            "grid_area": null,
            "grid_template_columns": null,
            "flex": null,
            "_model_name": "LayoutModel",
            "justify_items": null,
            "grid_row": null,
            "max_height": null,
            "align_content": null,
            "visibility": null,
            "align_self": null,
            "height": null,
            "min_height": null,
            "padding": null,
            "grid_auto_rows": null,
            "grid_gap": null,
            "max_width": null,
            "order": null,
            "_view_module_version": "1.2.0",
            "grid_template_areas": null,
            "object_position": null,
            "object_fit": null,
            "grid_auto_columns": null,
            "margin": null,
            "display": null,
            "left": null
          }
        },
        "cd2d0b274c234fdc82203180695fa800": {
          "model_module": "@jupyter-widgets/controls",
          "model_name": "DescriptionStyleModel",
          "state": {
            "_view_name": "StyleView",
            "_model_name": "DescriptionStyleModel",
            "description_width": "",
            "_view_module": "@jupyter-widgets/base",
            "_model_module_version": "1.5.0",
            "_view_count": null,
            "_view_module_version": "1.2.0",
            "_model_module": "@jupyter-widgets/controls"
          }
        },
        "14d9c37676c74cb2bbf8e58cd1bc30d8": {
          "model_module": "@jupyter-widgets/base",
          "model_name": "LayoutModel",
          "state": {
            "_view_name": "LayoutView",
            "grid_template_rows": null,
            "right": null,
            "justify_content": null,
            "_view_module": "@jupyter-widgets/base",
            "overflow": null,
            "_model_module_version": "1.2.0",
            "_view_count": null,
            "flex_flow": null,
            "width": null,
            "min_width": null,
            "border": null,
            "align_items": null,
            "bottom": null,
            "_model_module": "@jupyter-widgets/base",
            "top": null,
            "grid_column": null,
            "overflow_y": null,
            "overflow_x": null,
            "grid_auto_flow": null,
            "grid_area": null,
            "grid_template_columns": null,
            "flex": null,
            "_model_name": "LayoutModel",
            "justify_items": null,
            "grid_row": null,
            "max_height": null,
            "align_content": null,
            "visibility": null,
            "align_self": null,
            "height": null,
            "min_height": null,
            "padding": null,
            "grid_auto_rows": null,
            "grid_gap": null,
            "max_width": null,
            "order": null,
            "_view_module_version": "1.2.0",
            "grid_template_areas": null,
            "object_position": null,
            "object_fit": null,
            "grid_auto_columns": null,
            "margin": null,
            "display": null,
            "left": null
          }
        },
        "0231937c531d46ccacda19823d2214ed": {
          "model_module": "@jupyter-widgets/controls",
          "model_name": "HBoxModel",
          "state": {
            "_view_name": "HBoxView",
            "_dom_classes": [],
            "_model_name": "HBoxModel",
            "_view_module": "@jupyter-widgets/controls",
            "_model_module_version": "1.5.0",
            "_view_count": null,
            "_view_module_version": "1.5.0",
            "box_style": "",
            "layout": "IPY_MODEL_3bbe4ab6bf84440aa7bce286798a4f1c",
            "_model_module": "@jupyter-widgets/controls",
            "children": [
              "IPY_MODEL_a05720b0ea5d4cd7855c790ba1e5ac05",
              "IPY_MODEL_1b567bbd188347bca06810556090785e"
            ]
          }
        },
        "3bbe4ab6bf84440aa7bce286798a4f1c": {
          "model_module": "@jupyter-widgets/base",
          "model_name": "LayoutModel",
          "state": {
            "_view_name": "LayoutView",
            "grid_template_rows": null,
            "right": null,
            "justify_content": null,
            "_view_module": "@jupyter-widgets/base",
            "overflow": null,
            "_model_module_version": "1.2.0",
            "_view_count": null,
            "flex_flow": null,
            "width": null,
            "min_width": null,
            "border": null,
            "align_items": null,
            "bottom": null,
            "_model_module": "@jupyter-widgets/base",
            "top": null,
            "grid_column": null,
            "overflow_y": null,
            "overflow_x": null,
            "grid_auto_flow": null,
            "grid_area": null,
            "grid_template_columns": null,
            "flex": null,
            "_model_name": "LayoutModel",
            "justify_items": null,
            "grid_row": null,
            "max_height": null,
            "align_content": null,
            "visibility": null,
            "align_self": null,
            "height": null,
            "min_height": null,
            "padding": null,
            "grid_auto_rows": null,
            "grid_gap": null,
            "max_width": null,
            "order": null,
            "_view_module_version": "1.2.0",
            "grid_template_areas": null,
            "object_position": null,
            "object_fit": null,
            "grid_auto_columns": null,
            "margin": null,
            "display": null,
            "left": null
          }
        },
        "a05720b0ea5d4cd7855c790ba1e5ac05": {
          "model_module": "@jupyter-widgets/controls",
          "model_name": "FloatProgressModel",
          "state": {
            "_view_name": "ProgressView",
            "style": "IPY_MODEL_9dfd9a5950f74eb59ee496c9853ce2cb",
            "_dom_classes": [],
            "description": "Downloading: 100%",
            "_model_name": "FloatProgressModel",
            "bar_style": "success",
            "max": 68114819,
            "_view_module": "@jupyter-widgets/controls",
            "_model_module_version": "1.5.0",
            "value": 68114819,
            "_view_count": null,
            "_view_module_version": "1.5.0",
            "orientation": "horizontal",
            "min": 0,
            "description_tooltip": null,
            "_model_module": "@jupyter-widgets/controls",
            "layout": "IPY_MODEL_405b76d9cf784d61ac07080952833c48"
          }
        },
        "1b567bbd188347bca06810556090785e": {
          "model_module": "@jupyter-widgets/controls",
          "model_name": "HTMLModel",
          "state": {
            "_view_name": "HTMLView",
            "style": "IPY_MODEL_deed4221a46440aa80e0a2ffda9b0749",
            "_dom_classes": [],
            "description": "",
            "_model_name": "HTMLModel",
            "placeholder": "​",
            "_view_module": "@jupyter-widgets/controls",
            "_model_module_version": "1.5.0",
            "value": " 68.1M/68.1M [00:04&lt;00:00, 16.5MB/s]",
            "_view_count": null,
            "_view_module_version": "1.5.0",
            "description_tooltip": null,
            "_model_module": "@jupyter-widgets/controls",
            "layout": "IPY_MODEL_52230431099b42b68760077f06c480f2"
          }
        },
        "9dfd9a5950f74eb59ee496c9853ce2cb": {
          "model_module": "@jupyter-widgets/controls",
          "model_name": "ProgressStyleModel",
          "state": {
            "_view_name": "StyleView",
            "_model_name": "ProgressStyleModel",
            "description_width": "initial",
            "_view_module": "@jupyter-widgets/base",
            "_model_module_version": "1.5.0",
            "_view_count": null,
            "_view_module_version": "1.2.0",
            "bar_color": null,
            "_model_module": "@jupyter-widgets/controls"
          }
        },
        "405b76d9cf784d61ac07080952833c48": {
          "model_module": "@jupyter-widgets/base",
          "model_name": "LayoutModel",
          "state": {
            "_view_name": "LayoutView",
            "grid_template_rows": null,
            "right": null,
            "justify_content": null,
            "_view_module": "@jupyter-widgets/base",
            "overflow": null,
            "_model_module_version": "1.2.0",
            "_view_count": null,
            "flex_flow": null,
            "width": null,
            "min_width": null,
            "border": null,
            "align_items": null,
            "bottom": null,
            "_model_module": "@jupyter-widgets/base",
            "top": null,
            "grid_column": null,
            "overflow_y": null,
            "overflow_x": null,
            "grid_auto_flow": null,
            "grid_area": null,
            "grid_template_columns": null,
            "flex": null,
            "_model_name": "LayoutModel",
            "justify_items": null,
            "grid_row": null,
            "max_height": null,
            "align_content": null,
            "visibility": null,
            "align_self": null,
            "height": null,
            "min_height": null,
            "padding": null,
            "grid_auto_rows": null,
            "grid_gap": null,
            "max_width": null,
            "order": null,
            "_view_module_version": "1.2.0",
            "grid_template_areas": null,
            "object_position": null,
            "object_fit": null,
            "grid_auto_columns": null,
            "margin": null,
            "display": null,
            "left": null
          }
        },
        "deed4221a46440aa80e0a2ffda9b0749": {
          "model_module": "@jupyter-widgets/controls",
          "model_name": "DescriptionStyleModel",
          "state": {
            "_view_name": "StyleView",
            "_model_name": "DescriptionStyleModel",
            "description_width": "",
            "_view_module": "@jupyter-widgets/base",
            "_model_module_version": "1.5.0",
            "_view_count": null,
            "_view_module_version": "1.2.0",
            "_model_module": "@jupyter-widgets/controls"
          }
        },
        "52230431099b42b68760077f06c480f2": {
          "model_module": "@jupyter-widgets/base",
          "model_name": "LayoutModel",
          "state": {
            "_view_name": "LayoutView",
            "grid_template_rows": null,
            "right": null,
            "justify_content": null,
            "_view_module": "@jupyter-widgets/base",
            "overflow": null,
            "_model_module_version": "1.2.0",
            "_view_count": null,
            "flex_flow": null,
            "width": null,
            "min_width": null,
            "border": null,
            "align_items": null,
            "bottom": null,
            "_model_module": "@jupyter-widgets/base",
            "top": null,
            "grid_column": null,
            "overflow_y": null,
            "overflow_x": null,
            "grid_auto_flow": null,
            "grid_area": null,
            "grid_template_columns": null,
            "flex": null,
            "_model_name": "LayoutModel",
            "justify_items": null,
            "grid_row": null,
            "max_height": null,
            "align_content": null,
            "visibility": null,
            "align_self": null,
            "height": null,
            "min_height": null,
            "padding": null,
            "grid_auto_rows": null,
            "grid_gap": null,
            "max_width": null,
            "order": null,
            "_view_module_version": "1.2.0",
            "grid_template_areas": null,
            "object_position": null,
            "object_fit": null,
            "grid_auto_columns": null,
            "margin": null,
            "display": null,
            "left": null
          }
        },
        "bb67698cb74e40fb86e164e6dbd57a3f": {
          "model_module": "@jupyter-widgets/controls",
          "model_name": "HBoxModel",
          "state": {
            "_view_name": "HBoxView",
            "_dom_classes": [],
            "_model_name": "HBoxModel",
            "_view_module": "@jupyter-widgets/controls",
            "_model_module_version": "1.5.0",
            "_view_count": null,
            "_view_module_version": "1.5.0",
            "box_style": "",
            "layout": "IPY_MODEL_b285b9b31406428db42795fbbd675018",
            "_model_module": "@jupyter-widgets/controls",
            "children": [
              "IPY_MODEL_33333b842bb54d6596b9855da49e34c2",
              "IPY_MODEL_0d2518ac56564bf5b08da8e23cad0c0f"
            ]
          }
        },
        "b285b9b31406428db42795fbbd675018": {
          "model_module": "@jupyter-widgets/base",
          "model_name": "LayoutModel",
          "state": {
            "_view_name": "LayoutView",
            "grid_template_rows": null,
            "right": null,
            "justify_content": null,
            "_view_module": "@jupyter-widgets/base",
            "overflow": null,
            "_model_module_version": "1.2.0",
            "_view_count": null,
            "flex_flow": null,
            "width": null,
            "min_width": null,
            "border": null,
            "align_items": null,
            "bottom": null,
            "_model_module": "@jupyter-widgets/base",
            "top": null,
            "grid_column": null,
            "overflow_y": null,
            "overflow_x": null,
            "grid_auto_flow": null,
            "grid_area": null,
            "grid_template_columns": null,
            "flex": null,
            "_model_name": "LayoutModel",
            "justify_items": null,
            "grid_row": null,
            "max_height": null,
            "align_content": null,
            "visibility": null,
            "align_self": null,
            "height": null,
            "min_height": null,
            "padding": null,
            "grid_auto_rows": null,
            "grid_gap": null,
            "max_width": null,
            "order": null,
            "_view_module_version": "1.2.0",
            "grid_template_areas": null,
            "object_position": null,
            "object_fit": null,
            "grid_auto_columns": null,
            "margin": null,
            "display": null,
            "left": null
          }
        },
        "33333b842bb54d6596b9855da49e34c2": {
          "model_module": "@jupyter-widgets/controls",
          "model_name": "FloatProgressModel",
          "state": {
            "_view_name": "ProgressView",
            "style": "IPY_MODEL_1da00b095c594879bcdd41894dc7b587",
            "_dom_classes": [],
            "description": "Downloading: 100%",
            "_model_name": "FloatProgressModel",
            "bar_style": "success",
            "max": 8929167,
            "_view_module": "@jupyter-widgets/controls",
            "_model_module_version": "1.5.0",
            "value": 8929167,
            "_view_count": null,
            "_view_module_version": "1.5.0",
            "orientation": "horizontal",
            "min": 0,
            "description_tooltip": null,
            "_model_module": "@jupyter-widgets/controls",
            "layout": "IPY_MODEL_a36a49a050884bff959983adf5f192ca"
          }
        },
        "0d2518ac56564bf5b08da8e23cad0c0f": {
          "model_module": "@jupyter-widgets/controls",
          "model_name": "HTMLModel",
          "state": {
            "_view_name": "HTMLView",
            "style": "IPY_MODEL_0dfeefdf90e64d84b0daef41d1bd7dbc",
            "_dom_classes": [],
            "description": "",
            "_model_name": "HTMLModel",
            "placeholder": "​",
            "_view_module": "@jupyter-widgets/controls",
            "_model_module_version": "1.5.0",
            "value": " 8.93M/8.93M [00:00&lt;00:00, 12.2MB/s]",
            "_view_count": null,
            "_view_module_version": "1.5.0",
            "description_tooltip": null,
            "_model_module": "@jupyter-widgets/controls",
            "layout": "IPY_MODEL_e60b14e127f54a64bcc4fc83a1d11e46"
          }
        },
        "1da00b095c594879bcdd41894dc7b587": {
          "model_module": "@jupyter-widgets/controls",
          "model_name": "ProgressStyleModel",
          "state": {
            "_view_name": "StyleView",
            "_model_name": "ProgressStyleModel",
            "description_width": "initial",
            "_view_module": "@jupyter-widgets/base",
            "_model_module_version": "1.5.0",
            "_view_count": null,
            "_view_module_version": "1.2.0",
            "bar_color": null,
            "_model_module": "@jupyter-widgets/controls"
          }
        },
        "a36a49a050884bff959983adf5f192ca": {
          "model_module": "@jupyter-widgets/base",
          "model_name": "LayoutModel",
          "state": {
            "_view_name": "LayoutView",
            "grid_template_rows": null,
            "right": null,
            "justify_content": null,
            "_view_module": "@jupyter-widgets/base",
            "overflow": null,
            "_model_module_version": "1.2.0",
            "_view_count": null,
            "flex_flow": null,
            "width": null,
            "min_width": null,
            "border": null,
            "align_items": null,
            "bottom": null,
            "_model_module": "@jupyter-widgets/base",
            "top": null,
            "grid_column": null,
            "overflow_y": null,
            "overflow_x": null,
            "grid_auto_flow": null,
            "grid_area": null,
            "grid_template_columns": null,
            "flex": null,
            "_model_name": "LayoutModel",
            "justify_items": null,
            "grid_row": null,
            "max_height": null,
            "align_content": null,
            "visibility": null,
            "align_self": null,
            "height": null,
            "min_height": null,
            "padding": null,
            "grid_auto_rows": null,
            "grid_gap": null,
            "max_width": null,
            "order": null,
            "_view_module_version": "1.2.0",
            "grid_template_areas": null,
            "object_position": null,
            "object_fit": null,
            "grid_auto_columns": null,
            "margin": null,
            "display": null,
            "left": null
          }
        },
        "0dfeefdf90e64d84b0daef41d1bd7dbc": {
          "model_module": "@jupyter-widgets/controls",
          "model_name": "DescriptionStyleModel",
          "state": {
            "_view_name": "StyleView",
            "_model_name": "DescriptionStyleModel",
            "description_width": "",
            "_view_module": "@jupyter-widgets/base",
            "_model_module_version": "1.5.0",
            "_view_count": null,
            "_view_module_version": "1.2.0",
            "_model_module": "@jupyter-widgets/controls"
          }
        },
        "e60b14e127f54a64bcc4fc83a1d11e46": {
          "model_module": "@jupyter-widgets/base",
          "model_name": "LayoutModel",
          "state": {
            "_view_name": "LayoutView",
            "grid_template_rows": null,
            "right": null,
            "justify_content": null,
            "_view_module": "@jupyter-widgets/base",
            "overflow": null,
            "_model_module_version": "1.2.0",
            "_view_count": null,
            "flex_flow": null,
            "width": null,
            "min_width": null,
            "border": null,
            "align_items": null,
            "bottom": null,
            "_model_module": "@jupyter-widgets/base",
            "top": null,
            "grid_column": null,
            "overflow_y": null,
            "overflow_x": null,
            "grid_auto_flow": null,
            "grid_area": null,
            "grid_template_columns": null,
            "flex": null,
            "_model_name": "LayoutModel",
            "justify_items": null,
            "grid_row": null,
            "max_height": null,
            "align_content": null,
            "visibility": null,
            "align_self": null,
            "height": null,
            "min_height": null,
            "padding": null,
            "grid_auto_rows": null,
            "grid_gap": null,
            "max_width": null,
            "order": null,
            "_view_module_version": "1.2.0",
            "grid_template_areas": null,
            "object_position": null,
            "object_fit": null,
            "grid_auto_columns": null,
            "margin": null,
            "display": null,
            "left": null
          }
        },
        "94f876ec81ed400e825b7a5c776efbce": {
          "model_module": "@jupyter-widgets/controls",
          "model_name": "HBoxModel",
          "state": {
            "_view_name": "HBoxView",
            "_dom_classes": [],
            "_model_name": "HBoxModel",
            "_view_module": "@jupyter-widgets/controls",
            "_model_module_version": "1.5.0",
            "_view_count": null,
            "_view_module_version": "1.5.0",
            "box_style": "",
            "layout": "IPY_MODEL_b47fce6b4c1744adaaa468df5afdf0e5",
            "_model_module": "@jupyter-widgets/controls",
            "children": [
              "IPY_MODEL_bab798bbecd047369c5d27f6a317b75c",
              "IPY_MODEL_31623f474d3646179a42a4eba660bedf"
            ]
          }
        },
        "b47fce6b4c1744adaaa468df5afdf0e5": {
          "model_module": "@jupyter-widgets/base",
          "model_name": "LayoutModel",
          "state": {
            "_view_name": "LayoutView",
            "grid_template_rows": null,
            "right": null,
            "justify_content": null,
            "_view_module": "@jupyter-widgets/base",
            "overflow": null,
            "_model_module_version": "1.2.0",
            "_view_count": null,
            "flex_flow": null,
            "width": null,
            "min_width": null,
            "border": null,
            "align_items": null,
            "bottom": null,
            "_model_module": "@jupyter-widgets/base",
            "top": null,
            "grid_column": null,
            "overflow_y": null,
            "overflow_x": null,
            "grid_auto_flow": null,
            "grid_area": null,
            "grid_template_columns": null,
            "flex": null,
            "_model_name": "LayoutModel",
            "justify_items": null,
            "grid_row": null,
            "max_height": null,
            "align_content": null,
            "visibility": null,
            "align_self": null,
            "height": null,
            "min_height": null,
            "padding": null,
            "grid_auto_rows": null,
            "grid_gap": null,
            "max_width": null,
            "order": null,
            "_view_module_version": "1.2.0",
            "grid_template_areas": null,
            "object_position": null,
            "object_fit": null,
            "grid_auto_columns": null,
            "margin": null,
            "display": null,
            "left": null
          }
        },
        "bab798bbecd047369c5d27f6a317b75c": {
          "model_module": "@jupyter-widgets/controls",
          "model_name": "FloatProgressModel",
          "state": {
            "_view_name": "ProgressView",
            "style": "IPY_MODEL_cd31403505454b96a668855f8f5842a2",
            "_dom_classes": [],
            "description": "",
            "_model_name": "FloatProgressModel",
            "bar_style": "info",
            "max": 1,
            "_view_module": "@jupyter-widgets/controls",
            "_model_module_version": "1.5.0",
            "value": 1,
            "_view_count": null,
            "_view_module_version": "1.5.0",
            "orientation": "horizontal",
            "min": 0,
            "description_tooltip": null,
            "_model_module": "@jupyter-widgets/controls",
            "layout": "IPY_MODEL_374567f0e4854c6083953d1fe08e8974"
          }
        },
        "31623f474d3646179a42a4eba660bedf": {
          "model_module": "@jupyter-widgets/controls",
          "model_name": "HTMLModel",
          "state": {
            "_view_name": "HTMLView",
            "style": "IPY_MODEL_5cb9ba35d98c48fe8804470c1e4665a9",
            "_dom_classes": [],
            "description": "",
            "_model_name": "HTMLModel",
            "placeholder": "​",
            "_view_module": "@jupyter-widgets/controls",
            "_model_module_version": "1.5.0",
            "value": " 11567/0 [00:05&lt;00:00, 2648.04 examples/s]",
            "_view_count": null,
            "_view_module_version": "1.5.0",
            "description_tooltip": null,
            "_model_module": "@jupyter-widgets/controls",
            "layout": "IPY_MODEL_b4a0f8a471a94cff8430b3ecf280cc61"
          }
        },
        "cd31403505454b96a668855f8f5842a2": {
          "model_module": "@jupyter-widgets/controls",
          "model_name": "ProgressStyleModel",
          "state": {
            "_view_name": "StyleView",
            "_model_name": "ProgressStyleModel",
            "description_width": "initial",
            "_view_module": "@jupyter-widgets/base",
            "_model_module_version": "1.5.0",
            "_view_count": null,
            "_view_module_version": "1.2.0",
            "bar_color": null,
            "_model_module": "@jupyter-widgets/controls"
          }
        },
        "374567f0e4854c6083953d1fe08e8974": {
          "model_module": "@jupyter-widgets/base",
          "model_name": "LayoutModel",
          "state": {
            "_view_name": "LayoutView",
            "grid_template_rows": null,
            "right": null,
            "justify_content": null,
            "_view_module": "@jupyter-widgets/base",
            "overflow": null,
            "_model_module_version": "1.2.0",
            "_view_count": null,
            "flex_flow": null,
            "width": null,
            "min_width": null,
            "border": null,
            "align_items": null,
            "bottom": null,
            "_model_module": "@jupyter-widgets/base",
            "top": null,
            "grid_column": null,
            "overflow_y": null,
            "overflow_x": null,
            "grid_auto_flow": null,
            "grid_area": null,
            "grid_template_columns": null,
            "flex": null,
            "_model_name": "LayoutModel",
            "justify_items": null,
            "grid_row": null,
            "max_height": null,
            "align_content": null,
            "visibility": null,
            "align_self": null,
            "height": null,
            "min_height": null,
            "padding": null,
            "grid_auto_rows": null,
            "grid_gap": null,
            "max_width": null,
            "order": null,
            "_view_module_version": "1.2.0",
            "grid_template_areas": null,
            "object_position": null,
            "object_fit": null,
            "grid_auto_columns": null,
            "margin": null,
            "display": null,
            "left": null
          }
        },
        "5cb9ba35d98c48fe8804470c1e4665a9": {
          "model_module": "@jupyter-widgets/controls",
          "model_name": "DescriptionStyleModel",
          "state": {
            "_view_name": "StyleView",
            "_model_name": "DescriptionStyleModel",
            "description_width": "",
            "_view_module": "@jupyter-widgets/base",
            "_model_module_version": "1.5.0",
            "_view_count": null,
            "_view_module_version": "1.2.0",
            "_model_module": "@jupyter-widgets/controls"
          }
        },
        "b4a0f8a471a94cff8430b3ecf280cc61": {
          "model_module": "@jupyter-widgets/base",
          "model_name": "LayoutModel",
          "state": {
            "_view_name": "LayoutView",
            "grid_template_rows": null,
            "right": null,
            "justify_content": null,
            "_view_module": "@jupyter-widgets/base",
            "overflow": null,
            "_model_module_version": "1.2.0",
            "_view_count": null,
            "flex_flow": null,
            "width": null,
            "min_width": null,
            "border": null,
            "align_items": null,
            "bottom": null,
            "_model_module": "@jupyter-widgets/base",
            "top": null,
            "grid_column": null,
            "overflow_y": null,
            "overflow_x": null,
            "grid_auto_flow": null,
            "grid_area": null,
            "grid_template_columns": null,
            "flex": null,
            "_model_name": "LayoutModel",
            "justify_items": null,
            "grid_row": null,
            "max_height": null,
            "align_content": null,
            "visibility": null,
            "align_self": null,
            "height": null,
            "min_height": null,
            "padding": null,
            "grid_auto_rows": null,
            "grid_gap": null,
            "max_width": null,
            "order": null,
            "_view_module_version": "1.2.0",
            "grid_template_areas": null,
            "object_position": null,
            "object_fit": null,
            "grid_auto_columns": null,
            "margin": null,
            "display": null,
            "left": null
          }
        },
        "c65fc9fa4c384681aba5a60de481afcc": {
          "model_module": "@jupyter-widgets/controls",
          "model_name": "HBoxModel",
          "state": {
            "_view_name": "HBoxView",
            "_dom_classes": [],
            "_model_name": "HBoxModel",
            "_view_module": "@jupyter-widgets/controls",
            "_model_module_version": "1.5.0",
            "_view_count": null,
            "_view_module_version": "1.5.0",
            "box_style": "",
            "layout": "IPY_MODEL_109010ca2293427681f35eb5f5f63041",
            "_model_module": "@jupyter-widgets/controls",
            "children": [
              "IPY_MODEL_17ab3edf170f4751a86a99176453f5b8",
              "IPY_MODEL_61f6faadde644b37a62218d6a61d6c74"
            ]
          }
        },
        "109010ca2293427681f35eb5f5f63041": {
          "model_module": "@jupyter-widgets/base",
          "model_name": "LayoutModel",
          "state": {
            "_view_name": "LayoutView",
            "grid_template_rows": null,
            "right": null,
            "justify_content": null,
            "_view_module": "@jupyter-widgets/base",
            "overflow": null,
            "_model_module_version": "1.2.0",
            "_view_count": null,
            "flex_flow": null,
            "width": null,
            "min_width": null,
            "border": null,
            "align_items": null,
            "bottom": null,
            "_model_module": "@jupyter-widgets/base",
            "top": null,
            "grid_column": null,
            "overflow_y": null,
            "overflow_x": null,
            "grid_auto_flow": null,
            "grid_area": null,
            "grid_template_columns": null,
            "flex": null,
            "_model_name": "LayoutModel",
            "justify_items": null,
            "grid_row": null,
            "max_height": null,
            "align_content": null,
            "visibility": null,
            "align_self": null,
            "height": null,
            "min_height": null,
            "padding": null,
            "grid_auto_rows": null,
            "grid_gap": null,
            "max_width": null,
            "order": null,
            "_view_module_version": "1.2.0",
            "grid_template_areas": null,
            "object_position": null,
            "object_fit": null,
            "grid_auto_columns": null,
            "margin": null,
            "display": null,
            "left": null
          }
        },
        "17ab3edf170f4751a86a99176453f5b8": {
          "model_module": "@jupyter-widgets/controls",
          "model_name": "FloatProgressModel",
          "state": {
            "_view_name": "ProgressView",
            "style": "IPY_MODEL_b522f35f6afa4f20a14f9733a697587c",
            "_dom_classes": [],
            "description": "",
            "_model_name": "FloatProgressModel",
            "bar_style": "info",
            "max": 1,
            "_view_module": "@jupyter-widgets/controls",
            "_model_module_version": "1.5.0",
            "value": 1,
            "_view_count": null,
            "_view_module_version": "1.5.0",
            "orientation": "horizontal",
            "min": 0,
            "description_tooltip": null,
            "_model_module": "@jupyter-widgets/controls",
            "layout": "IPY_MODEL_bc9a60e9d1704285b77baba6f13193d0"
          }
        },
        "61f6faadde644b37a62218d6a61d6c74": {
          "model_module": "@jupyter-widgets/controls",
          "model_name": "HTMLModel",
          "state": {
            "_view_name": "HTMLView",
            "style": "IPY_MODEL_633f14bbbb70437f8d8e93e726d2fb65",
            "_dom_classes": [],
            "description": "",
            "_model_name": "HTMLModel",
            "placeholder": "​",
            "_view_module": "@jupyter-widgets/controls",
            "_model_module_version": "1.5.0",
            "value": " 1000/0 [00:00&lt;00:00, 29.09 examples/s]",
            "_view_count": null,
            "_view_module_version": "1.5.0",
            "description_tooltip": null,
            "_model_module": "@jupyter-widgets/controls",
            "layout": "IPY_MODEL_12eaa9c92f0c454fad78b2ff13f9f499"
          }
        },
        "b522f35f6afa4f20a14f9733a697587c": {
          "model_module": "@jupyter-widgets/controls",
          "model_name": "ProgressStyleModel",
          "state": {
            "_view_name": "StyleView",
            "_model_name": "ProgressStyleModel",
            "description_width": "initial",
            "_view_module": "@jupyter-widgets/base",
            "_model_module_version": "1.5.0",
            "_view_count": null,
            "_view_module_version": "1.2.0",
            "bar_color": null,
            "_model_module": "@jupyter-widgets/controls"
          }
        },
        "bc9a60e9d1704285b77baba6f13193d0": {
          "model_module": "@jupyter-widgets/base",
          "model_name": "LayoutModel",
          "state": {
            "_view_name": "LayoutView",
            "grid_template_rows": null,
            "right": null,
            "justify_content": null,
            "_view_module": "@jupyter-widgets/base",
            "overflow": null,
            "_model_module_version": "1.2.0",
            "_view_count": null,
            "flex_flow": null,
            "width": null,
            "min_width": null,
            "border": null,
            "align_items": null,
            "bottom": null,
            "_model_module": "@jupyter-widgets/base",
            "top": null,
            "grid_column": null,
            "overflow_y": null,
            "overflow_x": null,
            "grid_auto_flow": null,
            "grid_area": null,
            "grid_template_columns": null,
            "flex": null,
            "_model_name": "LayoutModel",
            "justify_items": null,
            "grid_row": null,
            "max_height": null,
            "align_content": null,
            "visibility": null,
            "align_self": null,
            "height": null,
            "min_height": null,
            "padding": null,
            "grid_auto_rows": null,
            "grid_gap": null,
            "max_width": null,
            "order": null,
            "_view_module_version": "1.2.0",
            "grid_template_areas": null,
            "object_position": null,
            "object_fit": null,
            "grid_auto_columns": null,
            "margin": null,
            "display": null,
            "left": null
          }
        },
        "633f14bbbb70437f8d8e93e726d2fb65": {
          "model_module": "@jupyter-widgets/controls",
          "model_name": "DescriptionStyleModel",
          "state": {
            "_view_name": "StyleView",
            "_model_name": "DescriptionStyleModel",
            "description_width": "",
            "_view_module": "@jupyter-widgets/base",
            "_model_module_version": "1.5.0",
            "_view_count": null,
            "_view_module_version": "1.2.0",
            "_model_module": "@jupyter-widgets/controls"
          }
        },
        "12eaa9c92f0c454fad78b2ff13f9f499": {
          "model_module": "@jupyter-widgets/base",
          "model_name": "LayoutModel",
          "state": {
            "_view_name": "LayoutView",
            "grid_template_rows": null,
            "right": null,
            "justify_content": null,
            "_view_module": "@jupyter-widgets/base",
            "overflow": null,
            "_model_module_version": "1.2.0",
            "_view_count": null,
            "flex_flow": null,
            "width": null,
            "min_width": null,
            "border": null,
            "align_items": null,
            "bottom": null,
            "_model_module": "@jupyter-widgets/base",
            "top": null,
            "grid_column": null,
            "overflow_y": null,
            "overflow_x": null,
            "grid_auto_flow": null,
            "grid_area": null,
            "grid_template_columns": null,
            "flex": null,
            "_model_name": "LayoutModel",
            "justify_items": null,
            "grid_row": null,
            "max_height": null,
            "align_content": null,
            "visibility": null,
            "align_self": null,
            "height": null,
            "min_height": null,
            "padding": null,
            "grid_auto_rows": null,
            "grid_gap": null,
            "max_width": null,
            "order": null,
            "_view_module_version": "1.2.0",
            "grid_template_areas": null,
            "object_position": null,
            "object_fit": null,
            "grid_auto_columns": null,
            "margin": null,
            "display": null,
            "left": null
          }
        }
      }
    }
  },
  "cells": [
    {
      "cell_type": "code",
      "metadata": {
        "id": "lIYdn1woOS1n"
      },
      "source": [
        "from boilerplate import *"
      ],
      "execution_count": 2,
      "outputs": []
    },
    {
      "cell_type": "code",
      "metadata": {
        "id": "SvI1BPnfGI6J",
        "outputId": "b8358f53-8dc1-43b2-a7cd-c17a7a5741ce",
        "colab": {
          "base_uri": "https://localhost:8080/",
          "height": 269,
          "referenced_widgets": [
            "55e636b0e51c4e35a3950bae55f4dd36",
            "fadb5bede33e4f29884999e95d25d57b",
            "2482cf77b2b843298c68f8d94c78a80c",
            "c3439798894a4d5eaa5fd1d6eb4b5b78",
            "fa04e30046d840438a22a1d2e21d4758",
            "dd62637cb235448f91165d92781a0332",
            "71b60f6ebfa64acd92c2f44cf9364a47",
            "5b3e70d23465439392328d440198cdcf",
            "613025d334f146f8ac677cd5c90c6ce6",
            "f94e9bc3c181415f9f8d32b0bc61b154",
            "08a63dbe78184192be3d80543131475a",
            "d85e515d24ca4e9d8b9578ed967c7523",
            "00f5d4cdd337465cad8fec1fa55934a4",
            "72229b9afbe34bfa8a3f41cf54fb1cb6",
            "cd2d0b274c234fdc82203180695fa800",
            "14d9c37676c74cb2bbf8e58cd1bc30d8",
            "0231937c531d46ccacda19823d2214ed",
            "3bbe4ab6bf84440aa7bce286798a4f1c",
            "a05720b0ea5d4cd7855c790ba1e5ac05",
            "1b567bbd188347bca06810556090785e",
            "9dfd9a5950f74eb59ee496c9853ce2cb",
            "405b76d9cf784d61ac07080952833c48",
            "deed4221a46440aa80e0a2ffda9b0749",
            "52230431099b42b68760077f06c480f2",
            "bb67698cb74e40fb86e164e6dbd57a3f",
            "b285b9b31406428db42795fbbd675018",
            "33333b842bb54d6596b9855da49e34c2",
            "0d2518ac56564bf5b08da8e23cad0c0f",
            "1da00b095c594879bcdd41894dc7b587",
            "a36a49a050884bff959983adf5f192ca",
            "0dfeefdf90e64d84b0daef41d1bd7dbc",
            "e60b14e127f54a64bcc4fc83a1d11e46",
            "94f876ec81ed400e825b7a5c776efbce",
            "b47fce6b4c1744adaaa468df5afdf0e5",
            "bab798bbecd047369c5d27f6a317b75c",
            "31623f474d3646179a42a4eba660bedf",
            "cd31403505454b96a668855f8f5842a2",
            "374567f0e4854c6083953d1fe08e8974",
            "5cb9ba35d98c48fe8804470c1e4665a9",
            "b4a0f8a471a94cff8430b3ecf280cc61",
            "c65fc9fa4c384681aba5a60de481afcc",
            "109010ca2293427681f35eb5f5f63041",
            "17ab3edf170f4751a86a99176453f5b8",
            "61f6faadde644b37a62218d6a61d6c74",
            "b522f35f6afa4f20a14f9733a697587c",
            "bc9a60e9d1704285b77baba6f13193d0",
            "633f14bbbb70437f8d8e93e726d2fb65",
            "12eaa9c92f0c454fad78b2ff13f9f499"
          ]
        }
      },
      "source": [
        "dataset = get_data(\"quac\")"
      ],
      "execution_count": 5,
      "outputs": [
        {
          "output_type": "display_data",
          "data": {
            "application/vnd.jupyter.widget-view+json": {
              "model_id": "55e636b0e51c4e35a3950bae55f4dd36",
              "version_minor": 0,
              "version_major": 2
            },
            "text/plain": [
              "HBox(children=(FloatProgress(value=0.0, description='Downloading', max=2563.0, style=ProgressStyle(description…"
            ]
          },
          "metadata": {
            "tags": []
          }
        },
        {
          "output_type": "stream",
          "text": [
            "\n"
          ],
          "name": "stdout"
        },
        {
          "output_type": "display_data",
          "data": {
            "application/vnd.jupyter.widget-view+json": {
              "model_id": "613025d334f146f8ac677cd5c90c6ce6",
              "version_minor": 0,
              "version_major": 2
            },
            "text/plain": [
              "HBox(children=(FloatProgress(value=0.0, description='Downloading', max=1725.0, style=ProgressStyle(description…"
            ]
          },
          "metadata": {
            "tags": []
          }
        },
        {
          "output_type": "stream",
          "text": [
            "\n",
            "Downloading and preparing dataset quac/plain_text (download: 73.47 MiB, generated: 62.51 MiB, post-processed: Unknown size, total: 135.99 MiB) to /root/.cache/huggingface/datasets/quac/plain_text/1.1.0/4170258e7e72d7c81bd6441b3f3489ea1544f0ff226ce61e22bb00c6e9d01fb6...\n"
          ],
          "name": "stdout"
        },
        {
          "output_type": "display_data",
          "data": {
            "application/vnd.jupyter.widget-view+json": {
              "model_id": "0231937c531d46ccacda19823d2214ed",
              "version_minor": 0,
              "version_major": 2
            },
            "text/plain": [
              "HBox(children=(FloatProgress(value=0.0, description='Downloading', max=68114819.0, style=ProgressStyle(descrip…"
            ]
          },
          "metadata": {
            "tags": []
          }
        },
        {
          "output_type": "stream",
          "text": [
            "\n"
          ],
          "name": "stdout"
        },
        {
          "output_type": "display_data",
          "data": {
            "application/vnd.jupyter.widget-view+json": {
              "model_id": "bb67698cb74e40fb86e164e6dbd57a3f",
              "version_minor": 0,
              "version_major": 2
            },
            "text/plain": [
              "HBox(children=(FloatProgress(value=0.0, description='Downloading', max=8929167.0, style=ProgressStyle(descript…"
            ]
          },
          "metadata": {
            "tags": []
          }
        },
        {
          "output_type": "stream",
          "text": [
            "\n"
          ],
          "name": "stdout"
        },
        {
          "output_type": "display_data",
          "data": {
            "application/vnd.jupyter.widget-view+json": {
              "model_id": "94f876ec81ed400e825b7a5c776efbce",
              "version_minor": 0,
              "version_major": 2
            },
            "text/plain": [
              "HBox(children=(FloatProgress(value=1.0, bar_style='info', max=1.0), HTML(value='')))"
            ]
          },
          "metadata": {
            "tags": []
          }
        },
        {
          "output_type": "stream",
          "text": [
            "\r"
          ],
          "name": "stdout"
        },
        {
          "output_type": "display_data",
          "data": {
            "application/vnd.jupyter.widget-view+json": {
              "model_id": "c65fc9fa4c384681aba5a60de481afcc",
              "version_minor": 0,
              "version_major": 2
            },
            "text/plain": [
              "HBox(children=(FloatProgress(value=1.0, bar_style='info', max=1.0), HTML(value='')))"
            ]
          },
          "metadata": {
            "tags": []
          }
        },
        {
          "output_type": "stream",
          "text": [
            "\rDataset quac downloaded and prepared to /root/.cache/huggingface/datasets/quac/plain_text/1.1.0/4170258e7e72d7c81bd6441b3f3489ea1544f0ff226ce61e22bb00c6e9d01fb6. Subsequent calls will reuse this data.\n"
          ],
          "name": "stdout"
        }
      ]
    },
    {
      "cell_type": "code",
      "metadata": {
        "id": "NKgo02SmGNvX"
      },
      "source": [
        "df = data_to_dataframe(dataset)"
      ],
      "execution_count": 6,
      "outputs": []
    },
    {
      "cell_type": "code",
      "metadata": {
        "id": "iE1M4CxyGnxx"
      },
      "source": [
        "training = df[2]"
      ],
      "execution_count": 7,
      "outputs": []
    },
    {
      "cell_type": "code",
      "metadata": {
        "id": "8UlEs2gAGpeQ",
        "outputId": "621cb26a-f232-45ed-97bb-64fee340988c",
        "colab": {
          "base_uri": "https://localhost:8080/",
          "height": 206
        }
      },
      "source": [
        "training.head()"
      ],
      "execution_count": 8,
      "outputs": [
        {
          "output_type": "execute_result",
          "data": {
            "text/html": [
              "<div>\n",
              "<style scoped>\n",
              "    .dataframe tbody tr th:only-of-type {\n",
              "        vertical-align: middle;\n",
              "    }\n",
              "\n",
              "    .dataframe tbody tr th {\n",
              "        vertical-align: top;\n",
              "    }\n",
              "\n",
              "    .dataframe thead th {\n",
              "        text-align: right;\n",
              "    }\n",
              "</style>\n",
              "<table border=\"1\" class=\"dataframe\">\n",
              "  <thead>\n",
              "    <tr style=\"text-align: right;\">\n",
              "      <th></th>\n",
              "      <th>source</th>\n",
              "      <th>target</th>\n",
              "    </tr>\n",
              "  </thead>\n",
              "  <tbody>\n",
              "    <tr>\n",
              "      <th>0</th>\n",
              "      <td>According to the Indian census of 2001, there ...</td>\n",
              "      <td>[Where is Malayali located?, What other langua...</td>\n",
              "    </tr>\n",
              "    <tr>\n",
              "      <th>1</th>\n",
              "      <td>Malayalam is the language spoken by the Malaya...</td>\n",
              "      <td>[what language do they speak?, Do they speak a...</td>\n",
              "    </tr>\n",
              "    <tr>\n",
              "      <th>2</th>\n",
              "      <td>After the audition process and several guest v...</td>\n",
              "      <td>[What do we know about Cove Reber?, How did he...</td>\n",
              "    </tr>\n",
              "    <tr>\n",
              "      <th>3</th>\n",
              "      <td>The original lineup for Saosin, consisting of ...</td>\n",
              "      <td>[Who formed Saosin?, When was the band founded...</td>\n",
              "    </tr>\n",
              "    <tr>\n",
              "      <th>4</th>\n",
              "      <td>In 1996, Coolio appeared on the Red Hot Organi...</td>\n",
              "      <td>[How was he associated to Tommy Boy?, Why was ...</td>\n",
              "    </tr>\n",
              "  </tbody>\n",
              "</table>\n",
              "</div>"
            ],
            "text/plain": [
              "                                              source                                             target\n",
              "0  According to the Indian census of 2001, there ...  [Where is Malayali located?, What other langua...\n",
              "1  Malayalam is the language spoken by the Malaya...  [what language do they speak?, Do they speak a...\n",
              "2  After the audition process and several guest v...  [What do we know about Cove Reber?, How did he...\n",
              "3  The original lineup for Saosin, consisting of ...  [Who formed Saosin?, When was the band founded...\n",
              "4  In 1996, Coolio appeared on the Red Hot Organi...  [How was he associated to Tommy Boy?, Why was ..."
            ]
          },
          "metadata": {
            "tags": []
          },
          "execution_count": 8
        }
      ]
    },
    {
      "cell_type": "code",
      "metadata": {
        "id": "ctp8HxJhGroC"
      },
      "source": [
        "import re  # For preprocessing\n",
        "import pandas as pd  # For data handling\n",
        "from time import time  # To time our operations\n",
        "from collections import defaultdict  # For word frequency\n",
        "\n",
        "import spacy  # For preprocessing\n",
        "\n",
        "import logging  # Setting up the loggings to monitor gensim\n",
        "logging.basicConfig(format=\"%(levelname)s - %(asctime)s: %(message)s\", datefmt= '%H:%M:%S', level=logging.INFO)"
      ],
      "execution_count": 9,
      "outputs": []
    },
    {
      "cell_type": "code",
      "metadata": {
        "id": "rXDmcqIpHjKr"
      },
      "source": [
        "nlp = spacy.load('en', disable=['ner', 'parser']) # disabling Named Entity Recognition for speed\n",
        "\n",
        "def cleaning(doc):\n",
        "    # Lemmatizes and removes stopwords\n",
        "    # doc needs to be a spacy Doc object\n",
        "    txt = [token.lemma_ for token in doc if not token.is_stop]\n",
        "    # Word2Vec uses context words to learn the vector representation of a target word,\n",
        "    # if a sentence is only one or two words long,\n",
        "    # the benefit for the training is very small\n",
        "    if len(txt) > 2:\n",
        "        return ' '.join(txt)"
      ],
      "execution_count": 10,
      "outputs": []
    },
    {
      "cell_type": "code",
      "metadata": {
        "id": "Z629H8X9HrJd"
      },
      "source": [
        "brief_cleaning = (re.sub(\"[^A-Za-z']+\", ' ', str(row)).lower() for row in training['source'])"
      ],
      "execution_count": 11,
      "outputs": []
    },
    {
      "cell_type": "code",
      "metadata": {
        "id": "VS2yTyL5Hw5y",
        "outputId": "45d12afb-341b-4e32-9632-e71d4548f507",
        "colab": {
          "base_uri": "https://localhost:8080/"
        }
      },
      "source": [
        "t = time()\n",
        "\n",
        "txt = [cleaning(doc) for doc in nlp.pipe(brief_cleaning, batch_size=5000, n_threads=-1)]\n",
        "\n",
        "print('Time to clean up everything: {} mins'.format(round((time() - t) / 60, 2)))"
      ],
      "execution_count": 12,
      "outputs": [
        {
          "output_type": "stream",
          "text": [
            "Time to clean up everything: 2.5 mins\n"
          ],
          "name": "stdout"
        }
      ]
    },
    {
      "cell_type": "code",
      "metadata": {
        "id": "L95-MyXRH3FK",
        "outputId": "bfd9573e-2a34-4e5d-cfde-c531b5b96709",
        "colab": {
          "base_uri": "https://localhost:8080/"
        }
      },
      "source": [
        "df_clean = pd.DataFrame({'clean': txt})\n",
        "df_clean = df_clean.dropna().drop_duplicates()\n",
        "df_clean.shape"
      ],
      "execution_count": 13,
      "outputs": [
        {
          "output_type": "stream",
          "text": [
            "INFO - 15:13:51: NumExpr defaulting to 2 threads.\n"
          ],
          "name": "stderr"
        },
        {
          "output_type": "execute_result",
          "data": {
            "text/plain": [
              "(6847, 1)"
            ]
          },
          "metadata": {
            "tags": []
          },
          "execution_count": 13
        }
      ]
    },
    {
      "cell_type": "code",
      "metadata": {
        "id": "Uh6eWGp6H74S",
        "outputId": "be9c1a8f-708d-4df1-da98-a1dea555d01e",
        "colab": {
          "base_uri": "https://localhost:8080/"
        }
      },
      "source": [
        "from gensim.models.phrases import Phrases, Phraser"
      ],
      "execution_count": 14,
      "outputs": [
        {
          "output_type": "stream",
          "text": [
            "INFO - 15:13:52: 'pattern' package not found; tag filters are not available for English\n"
          ],
          "name": "stderr"
        }
      ]
    },
    {
      "cell_type": "code",
      "metadata": {
        "id": "eVFoBHQLH8dg"
      },
      "source": [
        "sent = [row.split() for row in df_clean['clean']]"
      ],
      "execution_count": 15,
      "outputs": []
    },
    {
      "cell_type": "code",
      "metadata": {
        "id": "Z00uX1CjH_hy",
        "outputId": "e4102cb6-ec2b-411f-f9d7-bad4254b569a",
        "colab": {
          "base_uri": "https://localhost:8080/"
        }
      },
      "source": [
        "phrases = Phrases(sent, min_count=30, progress_per=10000)"
      ],
      "execution_count": 16,
      "outputs": [
        {
          "output_type": "stream",
          "text": [
            "INFO - 15:13:52: collecting all words and their counts\n",
            "INFO - 15:13:52: PROGRESS: at sentence #0, processed 0 words and 0 word types\n",
            "INFO - 15:13:55: collected 1020124 word types from a corpus of 1476164 words (unigram + bigrams) and 6847 sentences\n",
            "INFO - 15:13:55: using 1020124 counts as vocab in Phrases<0 vocab, min_count=30, threshold=10.0, max_vocab_size=40000000>\n"
          ],
          "name": "stderr"
        }
      ]
    },
    {
      "cell_type": "code",
      "metadata": {
        "id": "twvnXNE3IA9p",
        "outputId": "a31316f2-5c8a-49f9-ae90-5aa0a2e398df",
        "colab": {
          "base_uri": "https://localhost:8080/"
        }
      },
      "source": [
        "bigram = Phraser(phrases)"
      ],
      "execution_count": 17,
      "outputs": [
        {
          "output_type": "stream",
          "text": [
            "INFO - 15:13:55: source_vocab length 1020124\n",
            "INFO - 15:14:06: Phraser built with 548 phrasegrams\n"
          ],
          "name": "stderr"
        }
      ]
    },
    {
      "cell_type": "code",
      "metadata": {
        "id": "PclADazrIDav"
      },
      "source": [
        "sentences = bigram[sent]"
      ],
      "execution_count": 18,
      "outputs": []
    },
    {
      "cell_type": "code",
      "metadata": {
        "id": "2kaDIMaLIExV",
        "outputId": "798b0d41-8041-47e8-c81d-3a19b33676e8",
        "colab": {
          "base_uri": "https://localhost:8080/"
        }
      },
      "source": [
        "word_freq = defaultdict(int)\n",
        "for sent in sentences:\n",
        "    for i in sent:\n",
        "        word_freq[i] += 1\n",
        "len(word_freq)"
      ],
      "execution_count": 19,
      "outputs": [
        {
          "output_type": "execute_result",
          "data": {
            "text/plain": [
              "67443"
            ]
          },
          "metadata": {
            "tags": []
          },
          "execution_count": 19
        }
      ]
    },
    {
      "cell_type": "code",
      "metadata": {
        "id": "tD4ZPKaIIGma",
        "outputId": "a3027e68-a0a7-43f2-bb8d-76abbce5bcee",
        "colab": {
          "base_uri": "https://localhost:8080/"
        }
      },
      "source": [
        "sorted(word_freq, key=word_freq.get, reverse=True)[:10]"
      ],
      "execution_count": 20,
      "outputs": [
        {
          "output_type": "execute_result",
          "data": {
            "text/plain": [
              "['album',\n",
              " 'band',\n",
              " 'release',\n",
              " 'cannotanswer',\n",
              " 'time',\n",
              " 'record',\n",
              " 'year',\n",
              " \"'\",\n",
              " 'play',\n",
              " 'song']"
            ]
          },
          "metadata": {
            "tags": []
          },
          "execution_count": 20
        }
      ]
    },
    {
      "cell_type": "code",
      "metadata": {
        "id": "uXABYK7oIIXF"
      },
      "source": [
        "import multiprocessing\n",
        "\n",
        "from gensim.models import Word2Vec"
      ],
      "execution_count": 21,
      "outputs": []
    },
    {
      "cell_type": "code",
      "metadata": {
        "id": "J57Z6quAIKtL"
      },
      "source": [
        "cores = multiprocessing.cpu_count() # Count the number of cores in a computer"
      ],
      "execution_count": 22,
      "outputs": []
    },
    {
      "cell_type": "code",
      "metadata": {
        "id": "2w9AXfu8IMp5"
      },
      "source": [
        "w2v_model = Word2Vec(min_count=20,\n",
        "                     window=2,\n",
        "                     size=300,\n",
        "                     sample=6e-5, \n",
        "                     alpha=0.03, \n",
        "                     min_alpha=0.0007, \n",
        "                     negative=20,\n",
        "                     workers=cores-1)"
      ],
      "execution_count": 23,
      "outputs": []
    },
    {
      "cell_type": "code",
      "metadata": {
        "id": "DLMqS8EXIOub",
        "outputId": "7ceeabc7-298f-4d18-a191-dd93d1033023",
        "colab": {
          "base_uri": "https://localhost:8080/"
        }
      },
      "source": [
        "t = time()\n",
        "\n",
        "w2v_model.build_vocab(sentences, progress_per=10000)\n",
        "\n",
        "print('Time to build vocab: {} mins'.format(round((time() - t) / 60, 2)))"
      ],
      "execution_count": 24,
      "outputs": [
        {
          "output_type": "stream",
          "text": [
            "INFO - 15:14:11: collecting all words and their counts\n",
            "INFO - 15:14:11: PROGRESS: at sentence #0, processed 0 words, keeping 0 word types\n",
            "INFO - 15:14:15: collected 67443 word types from a corpus of 1429037 raw words and 6847 sentences\n",
            "INFO - 15:14:15: Loading a fresh vocabulary\n",
            "INFO - 15:14:15: effective_min_count=20 retains 8820 unique words (13% of original 67443, drops 58623)\n",
            "INFO - 15:14:15: effective_min_count=20 leaves 1235408 word corpus (86% of original 1429037, drops 193629)\n",
            "INFO - 15:14:15: deleting the raw counts dictionary of 67443 items\n",
            "INFO - 15:14:15: sample=6e-05 downsamples 1303 most-common words\n",
            "INFO - 15:14:15: downsampling leaves estimated 781064 word corpus (63.2% of prior 1235408)\n",
            "INFO - 15:14:15: estimated required memory for 8820 words and 300 dimensions: 25578000 bytes\n",
            "INFO - 15:14:15: resetting layer weights\n"
          ],
          "name": "stderr"
        },
        {
          "output_type": "stream",
          "text": [
            "Time to build vocab: 0.11 mins\n"
          ],
          "name": "stdout"
        }
      ]
    },
    {
      "cell_type": "code",
      "metadata": {
        "id": "ngHuSFuIIQp-",
        "outputId": "9431977f-2168-4c96-8437-36dc7c3b2a5e",
        "colab": {
          "base_uri": "https://localhost:8080/"
        }
      },
      "source": [
        "t = time()\n",
        "\n",
        "w2v_model.train(sentences, total_examples=w2v_model.corpus_count, epochs=30, report_delay=1)\n",
        "\n",
        "print('Time to train the model: {} mins'.format(round((time() - t) / 60, 2)))"
      ],
      "execution_count": 25,
      "outputs": [
        {
          "output_type": "stream",
          "text": [
            "INFO - 15:14:17: training model with 1 workers on 8820 vocabulary and 300 features, using sg=0 hs=0 sample=6e-05 negative=20 window=2\n",
            "INFO - 15:14:18: EPOCH 1 - PROGRESS: at 10.78% examples, 80765 words/s, in_qsize 1, out_qsize 0\n",
            "INFO - 15:14:19: EPOCH 1 - PROGRESS: at 22.26% examples, 82831 words/s, in_qsize 2, out_qsize 0\n",
            "INFO - 15:14:20: EPOCH 1 - PROGRESS: at 34.41% examples, 84342 words/s, in_qsize 1, out_qsize 0\n",
            "INFO - 15:14:21: EPOCH 1 - PROGRESS: at 45.70% examples, 84444 words/s, in_qsize 1, out_qsize 0\n",
            "INFO - 15:14:22: EPOCH 1 - PROGRESS: at 56.67% examples, 84725 words/s, in_qsize 1, out_qsize 0\n",
            "INFO - 15:14:23: EPOCH 1 - PROGRESS: at 67.78% examples, 84819 words/s, in_qsize 1, out_qsize 0\n",
            "INFO - 15:14:24: EPOCH 1 - PROGRESS: at 79.09% examples, 85210 words/s, in_qsize 1, out_qsize 0\n",
            "INFO - 15:14:25: EPOCH 1 - PROGRESS: at 90.35% examples, 85548 words/s, in_qsize 2, out_qsize 0\n",
            "INFO - 15:14:26: worker thread finished; awaiting finish of 0 more threads\n",
            "INFO - 15:14:26: EPOCH - 1 : training on 1429037 raw words (781423 effective words) took 9.1s, 86324 effective words/s\n",
            "INFO - 15:14:27: EPOCH 2 - PROGRESS: at 11.51% examples, 82434 words/s, in_qsize 1, out_qsize 0\n",
            "INFO - 15:14:28: EPOCH 2 - PROGRESS: at 22.94% examples, 83430 words/s, in_qsize 1, out_qsize 0\n",
            "INFO - 15:14:29: EPOCH 2 - PROGRESS: at 34.41% examples, 84215 words/s, in_qsize 1, out_qsize 0\n",
            "INFO - 15:14:30: EPOCH 2 - PROGRESS: at 45.70% examples, 84193 words/s, in_qsize 1, out_qsize 0\n",
            "INFO - 15:14:31: EPOCH 2 - PROGRESS: at 56.67% examples, 84566 words/s, in_qsize 1, out_qsize 0\n",
            "INFO - 15:14:32: EPOCH 2 - PROGRESS: at 68.45% examples, 84730 words/s, in_qsize 1, out_qsize 0\n",
            "INFO - 15:14:34: EPOCH 2 - PROGRESS: at 79.09% examples, 84666 words/s, in_qsize 1, out_qsize 0\n",
            "INFO - 15:14:35: EPOCH 2 - PROGRESS: at 90.35% examples, 84955 words/s, in_qsize 1, out_qsize 0\n",
            "INFO - 15:14:35: worker thread finished; awaiting finish of 0 more threads\n",
            "INFO - 15:14:35: EPOCH - 2 : training on 1429037 raw words (781796 effective words) took 9.1s, 85581 effective words/s\n",
            "INFO - 15:14:36: EPOCH 3 - PROGRESS: at 10.78% examples, 80336 words/s, in_qsize 1, out_qsize 0\n",
            "INFO - 15:14:37: EPOCH 3 - PROGRESS: at 22.26% examples, 83174 words/s, in_qsize 1, out_qsize 0\n",
            "INFO - 15:14:38: EPOCH 3 - PROGRESS: at 33.74% examples, 83610 words/s, in_qsize 1, out_qsize 0\n",
            "INFO - 15:14:40: EPOCH 3 - PROGRESS: at 45.07% examples, 83967 words/s, in_qsize 1, out_qsize 0\n",
            "INFO - 15:14:41: EPOCH 3 - PROGRESS: at 56.02% examples, 84273 words/s, in_qsize 1, out_qsize 0\n",
            "INFO - 15:14:42: EPOCH 3 - PROGRESS: at 67.01% examples, 84394 words/s, in_qsize 1, out_qsize 0\n",
            "INFO - 15:14:43: EPOCH 3 - PROGRESS: at 77.82% examples, 84131 words/s, in_qsize 1, out_qsize 0\n",
            "INFO - 15:14:44: EPOCH 3 - PROGRESS: at 88.33% examples, 84341 words/s, in_qsize 1, out_qsize 0\n",
            "INFO - 15:14:45: EPOCH 3 - PROGRESS: at 98.98% examples, 84521 words/s, in_qsize 1, out_qsize 0\n",
            "INFO - 15:14:45: worker thread finished; awaiting finish of 0 more threads\n",
            "INFO - 15:14:45: EPOCH - 3 : training on 1429037 raw words (781919 effective words) took 9.2s, 84800 effective words/s\n",
            "INFO - 15:14:46: EPOCH 4 - PROGRESS: at 10.78% examples, 80843 words/s, in_qsize 1, out_qsize 0\n",
            "INFO - 15:14:47: EPOCH 4 - PROGRESS: at 22.26% examples, 83136 words/s, in_qsize 1, out_qsize 0\n",
            "INFO - 15:14:48: EPOCH 4 - PROGRESS: at 33.74% examples, 83896 words/s, in_qsize 1, out_qsize 0\n",
            "INFO - 15:14:49: EPOCH 4 - PROGRESS: at 45.07% examples, 83949 words/s, in_qsize 2, out_qsize 0\n",
            "INFO - 15:14:50: EPOCH 4 - PROGRESS: at 56.02% examples, 84235 words/s, in_qsize 1, out_qsize 0\n",
            "INFO - 15:14:51: EPOCH 4 - PROGRESS: at 67.01% examples, 84460 words/s, in_qsize 1, out_qsize 0\n",
            "INFO - 15:14:52: EPOCH 4 - PROGRESS: at 77.82% examples, 84265 words/s, in_qsize 1, out_qsize 0\n",
            "INFO - 15:14:53: EPOCH 4 - PROGRESS: at 88.33% examples, 84385 words/s, in_qsize 1, out_qsize 0\n",
            "INFO - 15:14:54: EPOCH 4 - PROGRESS: at 99.62% examples, 85131 words/s, in_qsize 1, out_qsize 0\n",
            "INFO - 15:14:54: worker thread finished; awaiting finish of 0 more threads\n",
            "INFO - 15:14:54: EPOCH - 4 : training on 1429037 raw words (781079 effective words) took 9.2s, 85211 effective words/s\n",
            "INFO - 15:14:55: EPOCH 5 - PROGRESS: at 10.03% examples, 76038 words/s, in_qsize 1, out_qsize 0\n",
            "INFO - 15:14:56: EPOCH 5 - PROGRESS: at 21.51% examples, 81168 words/s, in_qsize 1, out_qsize 0\n",
            "INFO - 15:14:57: EPOCH 5 - PROGRESS: at 33.11% examples, 82496 words/s, in_qsize 1, out_qsize 0\n",
            "INFO - 15:14:58: EPOCH 5 - PROGRESS: at 44.38% examples, 83227 words/s, in_qsize 1, out_qsize 0\n",
            "INFO - 15:14:59: EPOCH 5 - PROGRESS: at 55.32% examples, 83679 words/s, in_qsize 1, out_qsize 0\n",
            "INFO - 15:15:00: EPOCH 5 - PROGRESS: at 66.34% examples, 83711 words/s, in_qsize 1, out_qsize 0\n",
            "INFO - 15:15:01: EPOCH 5 - PROGRESS: at 77.06% examples, 83985 words/s, in_qsize 1, out_qsize 0\n",
            "INFO - 15:15:02: EPOCH 5 - PROGRESS: at 87.69% examples, 84143 words/s, in_qsize 1, out_qsize 0\n",
            "INFO - 15:15:03: EPOCH 5 - PROGRESS: at 98.98% examples, 84724 words/s, in_qsize 1, out_qsize 0\n",
            "INFO - 15:15:03: worker thread finished; awaiting finish of 0 more threads\n",
            "INFO - 15:15:03: EPOCH - 5 : training on 1429037 raw words (781036 effective words) took 9.2s, 84984 effective words/s\n",
            "INFO - 15:15:04: EPOCH 6 - PROGRESS: at 10.78% examples, 80073 words/s, in_qsize 1, out_qsize 0\n",
            "INFO - 15:15:05: EPOCH 6 - PROGRESS: at 22.26% examples, 82932 words/s, in_qsize 1, out_qsize 0\n",
            "INFO - 15:15:06: EPOCH 6 - PROGRESS: at 33.74% examples, 83960 words/s, in_qsize 1, out_qsize 0\n",
            "INFO - 15:15:07: EPOCH 6 - PROGRESS: at 45.07% examples, 83940 words/s, in_qsize 1, out_qsize 0\n",
            "INFO - 15:15:08: EPOCH 6 - PROGRESS: at 56.67% examples, 84758 words/s, in_qsize 1, out_qsize 0\n",
            "INFO - 15:15:09: EPOCH 6 - PROGRESS: at 67.78% examples, 84616 words/s, in_qsize 1, out_qsize 0\n",
            "INFO - 15:15:10: EPOCH 6 - PROGRESS: at 78.38% examples, 84730 words/s, in_qsize 1, out_qsize 0\n",
            "INFO - 15:15:11: EPOCH 6 - PROGRESS: at 89.03% examples, 84843 words/s, in_qsize 2, out_qsize 0\n",
            "INFO - 15:15:12: worker thread finished; awaiting finish of 0 more threads\n",
            "INFO - 15:15:12: EPOCH - 6 : training on 1429037 raw words (781096 effective words) took 9.1s, 85517 effective words/s\n",
            "INFO - 15:15:13: EPOCH 7 - PROGRESS: at 10.78% examples, 78446 words/s, in_qsize 1, out_qsize 0\n",
            "INFO - 15:15:14: EPOCH 7 - PROGRESS: at 22.26% examples, 81974 words/s, in_qsize 1, out_qsize 0\n",
            "INFO - 15:15:15: EPOCH 7 - PROGRESS: at 33.74% examples, 82792 words/s, in_qsize 1, out_qsize 0\n",
            "INFO - 15:15:16: EPOCH 7 - PROGRESS: at 45.07% examples, 83134 words/s, in_qsize 1, out_qsize 0\n",
            "INFO - 15:15:17: EPOCH 7 - PROGRESS: at 56.02% examples, 83330 words/s, in_qsize 1, out_qsize 0\n",
            "INFO - 15:15:18: EPOCH 7 - PROGRESS: at 67.01% examples, 83542 words/s, in_qsize 1, out_qsize 0\n",
            "INFO - 15:15:19: EPOCH 7 - PROGRESS: at 78.38% examples, 83946 words/s, in_qsize 1, out_qsize 0\n",
            "INFO - 15:15:20: EPOCH 7 - PROGRESS: at 89.03% examples, 84201 words/s, in_qsize 1, out_qsize 0\n",
            "INFO - 15:15:21: worker thread finished; awaiting finish of 0 more threads\n",
            "INFO - 15:15:21: EPOCH - 7 : training on 1429037 raw words (780218 effective words) took 9.2s, 84827 effective words/s\n",
            "INFO - 15:15:22: EPOCH 8 - PROGRESS: at 10.78% examples, 79449 words/s, in_qsize 1, out_qsize 0\n",
            "INFO - 15:15:23: EPOCH 8 - PROGRESS: at 22.26% examples, 82786 words/s, in_qsize 1, out_qsize 0\n",
            "INFO - 15:15:24: EPOCH 8 - PROGRESS: at 33.74% examples, 83700 words/s, in_qsize 1, out_qsize 0\n",
            "INFO - 15:15:26: EPOCH 8 - PROGRESS: at 45.70% examples, 84710 words/s, in_qsize 1, out_qsize 0\n",
            "INFO - 15:15:27: EPOCH 8 - PROGRESS: at 56.67% examples, 84828 words/s, in_qsize 1, out_qsize 0\n",
            "INFO - 15:15:28: EPOCH 8 - PROGRESS: at 67.78% examples, 84724 words/s, in_qsize 1, out_qsize 0\n",
            "INFO - 15:15:29: EPOCH 8 - PROGRESS: at 78.38% examples, 84859 words/s, in_qsize 1, out_qsize 0\n",
            "INFO - 15:15:30: EPOCH 8 - PROGRESS: at 89.03% examples, 84870 words/s, in_qsize 2, out_qsize 0\n",
            "INFO - 15:15:31: worker thread finished; awaiting finish of 0 more threads\n",
            "INFO - 15:15:31: EPOCH - 8 : training on 1429037 raw words (780990 effective words) took 9.1s, 85476 effective words/s\n",
            "INFO - 15:15:32: EPOCH 9 - PROGRESS: at 10.78% examples, 79420 words/s, in_qsize 1, out_qsize 0\n",
            "INFO - 15:15:33: EPOCH 9 - PROGRESS: at 22.26% examples, 82699 words/s, in_qsize 1, out_qsize 0\n",
            "INFO - 15:15:34: EPOCH 9 - PROGRESS: at 33.74% examples, 83865 words/s, in_qsize 1, out_qsize 0\n",
            "INFO - 15:15:35: EPOCH 9 - PROGRESS: at 45.07% examples, 84082 words/s, in_qsize 1, out_qsize 0\n",
            "INFO - 15:15:36: EPOCH 9 - PROGRESS: at 56.67% examples, 84684 words/s, in_qsize 1, out_qsize 0\n",
            "INFO - 15:15:37: EPOCH 9 - PROGRESS: at 67.78% examples, 84507 words/s, in_qsize 1, out_qsize 0\n",
            "INFO - 15:15:38: EPOCH 9 - PROGRESS: at 78.38% examples, 84664 words/s, in_qsize 1, out_qsize 0\n",
            "INFO - 15:15:39: EPOCH 9 - PROGRESS: at 89.03% examples, 84792 words/s, in_qsize 1, out_qsize 0\n",
            "INFO - 15:15:40: worker thread finished; awaiting finish of 0 more threads\n",
            "INFO - 15:15:40: EPOCH - 9 : training on 1429037 raw words (780654 effective words) took 9.2s, 85284 effective words/s\n",
            "INFO - 15:15:41: EPOCH 10 - PROGRESS: at 10.78% examples, 80251 words/s, in_qsize 1, out_qsize 0\n",
            "INFO - 15:15:42: EPOCH 10 - PROGRESS: at 22.26% examples, 83318 words/s, in_qsize 1, out_qsize 0\n",
            "INFO - 15:15:43: EPOCH 10 - PROGRESS: at 33.74% examples, 83984 words/s, in_qsize 1, out_qsize 0\n",
            "INFO - 15:15:44: EPOCH 10 - PROGRESS: at 45.70% examples, 84599 words/s, in_qsize 1, out_qsize 0\n",
            "INFO - 15:15:45: EPOCH 10 - PROGRESS: at 56.67% examples, 84673 words/s, in_qsize 1, out_qsize 0\n",
            "INFO - 15:15:46: EPOCH 10 - PROGRESS: at 67.78% examples, 84626 words/s, in_qsize 1, out_qsize 0\n",
            "INFO - 15:15:47: EPOCH 10 - PROGRESS: at 78.38% examples, 84579 words/s, in_qsize 1, out_qsize 0\n",
            "INFO - 15:15:48: EPOCH 10 - PROGRESS: at 89.03% examples, 84605 words/s, in_qsize 1, out_qsize 0\n",
            "INFO - 15:15:49: worker thread finished; awaiting finish of 0 more threads\n",
            "INFO - 15:15:49: EPOCH - 10 : training on 1429037 raw words (781195 effective words) took 9.1s, 85427 effective words/s\n",
            "INFO - 15:15:50: EPOCH 11 - PROGRESS: at 11.51% examples, 82258 words/s, in_qsize 1, out_qsize 0\n",
            "INFO - 15:15:51: EPOCH 11 - PROGRESS: at 23.67% examples, 84746 words/s, in_qsize 1, out_qsize 0\n",
            "INFO - 15:15:52: EPOCH 11 - PROGRESS: at 35.12% examples, 84862 words/s, in_qsize 1, out_qsize 0\n",
            "INFO - 15:15:53: EPOCH 11 - PROGRESS: at 47.03% examples, 84977 words/s, in_qsize 1, out_qsize 0\n",
            "INFO - 15:15:54: EPOCH 11 - PROGRESS: at 58.07% examples, 84900 words/s, in_qsize 1, out_qsize 0\n",
            "INFO - 15:15:55: EPOCH 11 - PROGRESS: at 69.14% examples, 84920 words/s, in_qsize 1, out_qsize 0\n",
            "INFO - 15:15:56: EPOCH 11 - PROGRESS: at 79.79% examples, 85084 words/s, in_qsize 1, out_qsize 0\n",
            "INFO - 15:15:57: EPOCH 11 - PROGRESS: at 91.03% examples, 85350 words/s, in_qsize 1, out_qsize 0\n",
            "INFO - 15:15:58: worker thread finished; awaiting finish of 0 more threads\n",
            "INFO - 15:15:58: EPOCH - 11 : training on 1429037 raw words (781250 effective words) took 9.1s, 85806 effective words/s\n",
            "INFO - 15:15:59: EPOCH 12 - PROGRESS: at 10.78% examples, 80367 words/s, in_qsize 1, out_qsize 0\n",
            "INFO - 15:16:00: EPOCH 12 - PROGRESS: at 22.26% examples, 82899 words/s, in_qsize 1, out_qsize 0\n",
            "INFO - 15:16:01: EPOCH 12 - PROGRESS: at 33.74% examples, 83943 words/s, in_qsize 1, out_qsize 0\n",
            "INFO - 15:16:02: EPOCH 12 - PROGRESS: at 45.70% examples, 84725 words/s, in_qsize 1, out_qsize 0\n",
            "INFO - 15:16:03: EPOCH 12 - PROGRESS: at 56.67% examples, 84811 words/s, in_qsize 1, out_qsize 0\n",
            "INFO - 15:16:04: EPOCH 12 - PROGRESS: at 68.45% examples, 85296 words/s, in_qsize 1, out_qsize 0\n",
            "INFO - 15:16:05: EPOCH 12 - PROGRESS: at 79.09% examples, 85389 words/s, in_qsize 1, out_qsize 0\n",
            "INFO - 15:16:06: EPOCH 12 - PROGRESS: at 90.35% examples, 85542 words/s, in_qsize 1, out_qsize 0\n",
            "INFO - 15:16:07: worker thread finished; awaiting finish of 0 more threads\n",
            "INFO - 15:16:07: EPOCH - 12 : training on 1429037 raw words (780810 effective words) took 9.1s, 86145 effective words/s\n",
            "INFO - 15:16:08: EPOCH 13 - PROGRESS: at 10.78% examples, 80245 words/s, in_qsize 1, out_qsize 0\n",
            "INFO - 15:16:09: EPOCH 13 - PROGRESS: at 22.26% examples, 83380 words/s, in_qsize 1, out_qsize 0\n",
            "INFO - 15:16:10: EPOCH 13 - PROGRESS: at 34.41% examples, 84726 words/s, in_qsize 1, out_qsize 0\n",
            "INFO - 15:16:11: EPOCH 13 - PROGRESS: at 46.36% examples, 85062 words/s, in_qsize 1, out_qsize 0\n",
            "INFO - 15:16:12: EPOCH 13 - PROGRESS: at 58.07% examples, 85477 words/s, in_qsize 1, out_qsize 0\n",
            "INFO - 15:16:13: EPOCH 13 - PROGRESS: at 69.14% examples, 85227 words/s, in_qsize 2, out_qsize 0\n",
            "INFO - 15:16:14: EPOCH 13 - PROGRESS: at 79.79% examples, 85376 words/s, in_qsize 1, out_qsize 0\n",
            "INFO - 15:16:15: EPOCH 13 - PROGRESS: at 90.35% examples, 85333 words/s, in_qsize 2, out_qsize 0\n",
            "INFO - 15:16:16: worker thread finished; awaiting finish of 0 more threads\n",
            "INFO - 15:16:16: EPOCH - 13 : training on 1429037 raw words (781106 effective words) took 9.1s, 85989 effective words/s\n",
            "INFO - 15:16:17: EPOCH 14 - PROGRESS: at 10.78% examples, 79460 words/s, in_qsize 1, out_qsize 0\n",
            "INFO - 15:16:18: EPOCH 14 - PROGRESS: at 22.94% examples, 83455 words/s, in_qsize 1, out_qsize 0\n",
            "INFO - 15:16:19: EPOCH 14 - PROGRESS: at 34.41% examples, 83860 words/s, in_qsize 1, out_qsize 0\n",
            "INFO - 15:16:20: EPOCH 14 - PROGRESS: at 45.70% examples, 84205 words/s, in_qsize 1, out_qsize 0\n",
            "INFO - 15:16:21: EPOCH 14 - PROGRESS: at 57.30% examples, 84867 words/s, in_qsize 1, out_qsize 0\n",
            "INFO - 15:16:22: EPOCH 14 - PROGRESS: at 68.45% examples, 84940 words/s, in_qsize 1, out_qsize 0\n",
            "INFO - 15:16:23: EPOCH 14 - PROGRESS: at 79.79% examples, 85363 words/s, in_qsize 1, out_qsize 0\n",
            "INFO - 15:16:24: EPOCH 14 - PROGRESS: at 90.35% examples, 85431 words/s, in_qsize 1, out_qsize 0\n",
            "INFO - 15:16:25: worker thread finished; awaiting finish of 0 more threads\n",
            "INFO - 15:16:25: EPOCH - 14 : training on 1429037 raw words (781245 effective words) took 9.1s, 86125 effective words/s\n",
            "INFO - 15:16:26: EPOCH 15 - PROGRESS: at 10.78% examples, 79987 words/s, in_qsize 2, out_qsize 0\n",
            "INFO - 15:16:27: EPOCH 15 - PROGRESS: at 22.94% examples, 84454 words/s, in_qsize 1, out_qsize 0\n",
            "INFO - 15:16:28: EPOCH 15 - PROGRESS: at 34.41% examples, 84897 words/s, in_qsize 1, out_qsize 0\n",
            "INFO - 15:16:29: EPOCH 15 - PROGRESS: at 45.70% examples, 84846 words/s, in_qsize 1, out_qsize 0\n",
            "INFO - 15:16:30: EPOCH 15 - PROGRESS: at 56.67% examples, 85039 words/s, in_qsize 1, out_qsize 0\n",
            "INFO - 15:16:31: EPOCH 15 - PROGRESS: at 68.45% examples, 85200 words/s, in_qsize 1, out_qsize 0\n",
            "INFO - 15:16:32: EPOCH 15 - PROGRESS: at 79.09% examples, 85193 words/s, in_qsize 1, out_qsize 0\n",
            "INFO - 15:16:33: EPOCH 15 - PROGRESS: at 89.73% examples, 85219 words/s, in_qsize 1, out_qsize 0\n",
            "INFO - 15:16:34: worker thread finished; awaiting finish of 0 more threads\n",
            "INFO - 15:16:34: EPOCH - 15 : training on 1429037 raw words (781265 effective words) took 9.1s, 85828 effective words/s\n",
            "INFO - 15:16:35: EPOCH 16 - PROGRESS: at 10.78% examples, 80375 words/s, in_qsize 1, out_qsize 0\n",
            "INFO - 15:16:36: EPOCH 16 - PROGRESS: at 22.26% examples, 83220 words/s, in_qsize 1, out_qsize 0\n",
            "INFO - 15:16:37: EPOCH 16 - PROGRESS: at 34.41% examples, 84642 words/s, in_qsize 1, out_qsize 0\n",
            "INFO - 15:16:38: EPOCH 16 - PROGRESS: at 45.70% examples, 84795 words/s, in_qsize 2, out_qsize 0\n",
            "INFO - 15:16:40: EPOCH 16 - PROGRESS: at 57.30% examples, 85249 words/s, in_qsize 1, out_qsize 0\n",
            "INFO - 15:16:41: EPOCH 16 - PROGRESS: at 68.45% examples, 85004 words/s, in_qsize 1, out_qsize 0\n",
            "INFO - 15:16:42: EPOCH 16 - PROGRESS: at 79.09% examples, 85230 words/s, in_qsize 1, out_qsize 0\n",
            "INFO - 15:16:43: EPOCH 16 - PROGRESS: at 89.73% examples, 85374 words/s, in_qsize 1, out_qsize 0\n",
            "INFO - 15:16:43: worker thread finished; awaiting finish of 0 more threads\n",
            "INFO - 15:16:43: EPOCH - 16 : training on 1429037 raw words (781218 effective words) took 9.1s, 85951 effective words/s\n",
            "INFO - 15:16:44: EPOCH 17 - PROGRESS: at 10.78% examples, 80459 words/s, in_qsize 1, out_qsize 0\n",
            "INFO - 15:16:46: EPOCH 17 - PROGRESS: at 22.26% examples, 82673 words/s, in_qsize 1, out_qsize 0\n",
            "INFO - 15:16:47: EPOCH 17 - PROGRESS: at 33.74% examples, 83754 words/s, in_qsize 1, out_qsize 0\n",
            "INFO - 15:16:48: EPOCH 17 - PROGRESS: at 45.70% examples, 84159 words/s, in_qsize 2, out_qsize 0\n",
            "INFO - 15:16:49: EPOCH 17 - PROGRESS: at 56.67% examples, 84267 words/s, in_qsize 1, out_qsize 0\n",
            "INFO - 15:16:50: EPOCH 17 - PROGRESS: at 67.78% examples, 84378 words/s, in_qsize 1, out_qsize 0\n",
            "INFO - 15:16:51: EPOCH 17 - PROGRESS: at 78.38% examples, 84274 words/s, in_qsize 1, out_qsize 0\n",
            "INFO - 15:16:52: EPOCH 17 - PROGRESS: at 89.73% examples, 84734 words/s, in_qsize 1, out_qsize 0\n",
            "INFO - 15:16:53: worker thread finished; awaiting finish of 0 more threads\n",
            "INFO - 15:16:53: EPOCH - 17 : training on 1429037 raw words (781247 effective words) took 9.2s, 85285 effective words/s\n",
            "INFO - 15:16:54: EPOCH 18 - PROGRESS: at 10.78% examples, 80536 words/s, in_qsize 1, out_qsize 0\n",
            "INFO - 15:16:55: EPOCH 18 - PROGRESS: at 22.26% examples, 83157 words/s, in_qsize 1, out_qsize 0\n",
            "INFO - 15:16:56: EPOCH 18 - PROGRESS: at 33.74% examples, 84010 words/s, in_qsize 1, out_qsize 0\n",
            "INFO - 15:16:57: EPOCH 18 - PROGRESS: at 45.70% examples, 84315 words/s, in_qsize 2, out_qsize 0\n",
            "INFO - 15:16:58: EPOCH 18 - PROGRESS: at 56.67% examples, 84709 words/s, in_qsize 1, out_qsize 0\n",
            "INFO - 15:16:59: EPOCH 18 - PROGRESS: at 68.45% examples, 85119 words/s, in_qsize 1, out_qsize 0\n",
            "INFO - 15:17:00: EPOCH 18 - PROGRESS: at 79.09% examples, 85259 words/s, in_qsize 1, out_qsize 0\n",
            "INFO - 15:17:01: EPOCH 18 - PROGRESS: at 89.73% examples, 85234 words/s, in_qsize 1, out_qsize 0\n",
            "INFO - 15:17:02: worker thread finished; awaiting finish of 0 more threads\n",
            "INFO - 15:17:02: EPOCH - 18 : training on 1429037 raw words (781203 effective words) took 9.1s, 85748 effective words/s\n",
            "INFO - 15:17:03: EPOCH 19 - PROGRESS: at 10.78% examples, 80565 words/s, in_qsize 1, out_qsize 0\n",
            "INFO - 15:17:04: EPOCH 19 - PROGRESS: at 22.26% examples, 83082 words/s, in_qsize 1, out_qsize 0\n",
            "INFO - 15:17:05: EPOCH 19 - PROGRESS: at 33.74% examples, 83762 words/s, in_qsize 1, out_qsize 0\n",
            "INFO - 15:17:06: EPOCH 19 - PROGRESS: at 45.07% examples, 84154 words/s, in_qsize 1, out_qsize 0\n",
            "INFO - 15:17:07: EPOCH 19 - PROGRESS: at 56.02% examples, 84387 words/s, in_qsize 1, out_qsize 0\n",
            "INFO - 15:17:08: EPOCH 19 - PROGRESS: at 67.01% examples, 84506 words/s, in_qsize 1, out_qsize 0\n",
            "INFO - 15:17:09: EPOCH 19 - PROGRESS: at 77.82% examples, 84584 words/s, in_qsize 1, out_qsize 0\n",
            "INFO - 15:17:10: EPOCH 19 - PROGRESS: at 88.33% examples, 84791 words/s, in_qsize 1, out_qsize 0\n",
            "INFO - 15:17:11: EPOCH 19 - PROGRESS: at 99.62% examples, 85499 words/s, in_qsize 1, out_qsize 0\n",
            "INFO - 15:17:11: worker thread finished; awaiting finish of 0 more threads\n",
            "INFO - 15:17:11: EPOCH - 19 : training on 1429037 raw words (781897 effective words) took 9.1s, 85598 effective words/s\n",
            "INFO - 15:17:12: EPOCH 20 - PROGRESS: at 10.78% examples, 78623 words/s, in_qsize 1, out_qsize 0\n",
            "INFO - 15:17:13: EPOCH 20 - PROGRESS: at 22.26% examples, 81914 words/s, in_qsize 2, out_qsize 0\n",
            "INFO - 15:17:14: EPOCH 20 - PROGRESS: at 33.74% examples, 83392 words/s, in_qsize 1, out_qsize 0\n",
            "INFO - 15:17:15: EPOCH 20 - PROGRESS: at 45.70% examples, 84181 words/s, in_qsize 1, out_qsize 0\n",
            "INFO - 15:17:16: EPOCH 20 - PROGRESS: at 56.67% examples, 84571 words/s, in_qsize 1, out_qsize 0\n",
            "INFO - 15:17:17: EPOCH 20 - PROGRESS: at 68.45% examples, 84854 words/s, in_qsize 1, out_qsize 0\n",
            "INFO - 15:17:18: EPOCH 20 - PROGRESS: at 79.09% examples, 85080 words/s, in_qsize 1, out_qsize 0\n",
            "INFO - 15:17:19: EPOCH 20 - PROGRESS: at 90.35% examples, 85346 words/s, in_qsize 1, out_qsize 0\n",
            "INFO - 15:17:20: worker thread finished; awaiting finish of 0 more threads\n",
            "INFO - 15:17:20: EPOCH - 20 : training on 1429037 raw words (781105 effective words) took 9.1s, 86013 effective words/s\n",
            "INFO - 15:17:21: EPOCH 21 - PROGRESS: at 11.51% examples, 81844 words/s, in_qsize 1, out_qsize 0\n",
            "INFO - 15:17:22: EPOCH 21 - PROGRESS: at 22.94% examples, 83200 words/s, in_qsize 1, out_qsize 0\n",
            "INFO - 15:17:23: EPOCH 21 - PROGRESS: at 35.12% examples, 84424 words/s, in_qsize 1, out_qsize 0\n",
            "INFO - 15:17:24: EPOCH 21 - PROGRESS: at 46.36% examples, 84717 words/s, in_qsize 1, out_qsize 0\n",
            "INFO - 15:17:25: EPOCH 21 - PROGRESS: at 57.30% examples, 84889 words/s, in_qsize 1, out_qsize 0\n",
            "INFO - 15:17:26: EPOCH 21 - PROGRESS: at 69.14% examples, 85113 words/s, in_qsize 1, out_qsize 0\n",
            "INFO - 15:17:27: EPOCH 21 - PROGRESS: at 79.79% examples, 85209 words/s, in_qsize 1, out_qsize 0\n",
            "INFO - 15:17:28: EPOCH 21 - PROGRESS: at 91.03% examples, 85319 words/s, in_qsize 2, out_qsize 0\n",
            "INFO - 15:17:29: worker thread finished; awaiting finish of 0 more threads\n",
            "INFO - 15:17:29: EPOCH - 21 : training on 1429037 raw words (781351 effective words) took 9.1s, 85997 effective words/s\n",
            "INFO - 15:17:30: EPOCH 22 - PROGRESS: at 10.78% examples, 79693 words/s, in_qsize 1, out_qsize 0\n",
            "INFO - 15:17:31: EPOCH 22 - PROGRESS: at 22.26% examples, 82882 words/s, in_qsize 1, out_qsize 0\n",
            "INFO - 15:17:32: EPOCH 22 - PROGRESS: at 33.74% examples, 83973 words/s, in_qsize 1, out_qsize 0\n",
            "INFO - 15:17:33: EPOCH 22 - PROGRESS: at 45.07% examples, 84390 words/s, in_qsize 1, out_qsize 0\n",
            "INFO - 15:17:34: EPOCH 22 - PROGRESS: at 56.02% examples, 84711 words/s, in_qsize 1, out_qsize 0\n",
            "INFO - 15:17:35: EPOCH 22 - PROGRESS: at 67.78% examples, 85072 words/s, in_qsize 1, out_qsize 0\n",
            "INFO - 15:17:36: EPOCH 22 - PROGRESS: at 79.09% examples, 85236 words/s, in_qsize 2, out_qsize 0\n",
            "INFO - 15:17:37: EPOCH 22 - PROGRESS: at 90.35% examples, 85511 words/s, in_qsize 1, out_qsize 0\n",
            "INFO - 15:17:38: worker thread finished; awaiting finish of 0 more threads\n",
            "INFO - 15:17:38: EPOCH - 22 : training on 1429037 raw words (780852 effective words) took 9.1s, 86216 effective words/s\n",
            "INFO - 15:17:39: EPOCH 23 - PROGRESS: at 10.78% examples, 81133 words/s, in_qsize 1, out_qsize 0\n",
            "INFO - 15:17:40: EPOCH 23 - PROGRESS: at 22.26% examples, 83751 words/s, in_qsize 1, out_qsize 0\n",
            "INFO - 15:17:41: EPOCH 23 - PROGRESS: at 34.41% examples, 84888 words/s, in_qsize 1, out_qsize 0\n",
            "INFO - 15:17:42: EPOCH 23 - PROGRESS: at 45.70% examples, 84663 words/s, in_qsize 2, out_qsize 0\n",
            "INFO - 15:17:43: EPOCH 23 - PROGRESS: at 56.67% examples, 84772 words/s, in_qsize 1, out_qsize 0\n",
            "INFO - 15:17:44: EPOCH 23 - PROGRESS: at 68.45% examples, 84832 words/s, in_qsize 2, out_qsize 0\n",
            "INFO - 15:17:45: EPOCH 23 - PROGRESS: at 79.79% examples, 85488 words/s, in_qsize 1, out_qsize 0\n",
            "INFO - 15:17:46: EPOCH 23 - PROGRESS: at 91.03% examples, 85798 words/s, in_qsize 1, out_qsize 0\n",
            "INFO - 15:17:47: worker thread finished; awaiting finish of 0 more threads\n",
            "INFO - 15:17:47: EPOCH - 23 : training on 1429037 raw words (781072 effective words) took 9.0s, 86676 effective words/s\n",
            "INFO - 15:17:48: EPOCH 24 - PROGRESS: at 11.51% examples, 81917 words/s, in_qsize 2, out_qsize 0\n",
            "INFO - 15:17:49: EPOCH 24 - PROGRESS: at 22.94% examples, 84344 words/s, in_qsize 1, out_qsize 0\n",
            "INFO - 15:17:50: EPOCH 24 - PROGRESS: at 34.41% examples, 84617 words/s, in_qsize 1, out_qsize 0\n",
            "INFO - 15:17:51: EPOCH 24 - PROGRESS: at 46.36% examples, 84993 words/s, in_qsize 1, out_qsize 0\n",
            "INFO - 15:17:52: EPOCH 24 - PROGRESS: at 57.30% examples, 85290 words/s, in_qsize 1, out_qsize 0\n",
            "INFO - 15:17:53: EPOCH 24 - PROGRESS: at 69.14% examples, 85668 words/s, in_qsize 1, out_qsize 0\n",
            "INFO - 15:17:54: EPOCH 24 - PROGRESS: at 79.79% examples, 85658 words/s, in_qsize 1, out_qsize 0\n",
            "INFO - 15:17:55: EPOCH 24 - PROGRESS: at 91.03% examples, 85927 words/s, in_qsize 1, out_qsize 0\n",
            "INFO - 15:17:56: worker thread finished; awaiting finish of 0 more threads\n",
            "INFO - 15:17:56: EPOCH - 24 : training on 1429037 raw words (781470 effective words) took 9.0s, 86566 effective words/s\n",
            "INFO - 15:17:57: EPOCH 25 - PROGRESS: at 10.78% examples, 79781 words/s, in_qsize 2, out_qsize 0\n",
            "INFO - 15:17:58: EPOCH 25 - PROGRESS: at 22.94% examples, 83845 words/s, in_qsize 2, out_qsize 0\n",
            "INFO - 15:17:59: EPOCH 25 - PROGRESS: at 35.12% examples, 85000 words/s, in_qsize 1, out_qsize 0\n",
            "INFO - 15:18:00: EPOCH 25 - PROGRESS: at 46.36% examples, 85045 words/s, in_qsize 1, out_qsize 0\n",
            "INFO - 15:18:01: EPOCH 25 - PROGRESS: at 58.07% examples, 85452 words/s, in_qsize 1, out_qsize 0\n",
            "INFO - 15:18:02: EPOCH 25 - PROGRESS: at 69.87% examples, 85586 words/s, in_qsize 1, out_qsize 0\n",
            "INFO - 15:18:04: EPOCH 25 - PROGRESS: at 81.06% examples, 85845 words/s, in_qsize 1, out_qsize 0\n",
            "INFO - 15:18:05: EPOCH 25 - PROGRESS: at 91.72% examples, 85857 words/s, in_qsize 1, out_qsize 0\n",
            "INFO - 15:18:05: worker thread finished; awaiting finish of 0 more threads\n",
            "INFO - 15:18:05: EPOCH - 25 : training on 1429037 raw words (780534 effective words) took 9.0s, 86620 effective words/s\n",
            "INFO - 15:18:06: EPOCH 26 - PROGRESS: at 11.51% examples, 82404 words/s, in_qsize 1, out_qsize 0\n",
            "INFO - 15:18:07: EPOCH 26 - PROGRESS: at 23.67% examples, 84822 words/s, in_qsize 1, out_qsize 0\n",
            "INFO - 15:18:08: EPOCH 26 - PROGRESS: at 35.12% examples, 85344 words/s, in_qsize 2, out_qsize 0\n",
            "INFO - 15:18:09: EPOCH 26 - PROGRESS: at 47.03% examples, 86374 words/s, in_qsize 1, out_qsize 0\n",
            "INFO - 15:18:10: EPOCH 26 - PROGRESS: at 58.78% examples, 86693 words/s, in_qsize 1, out_qsize 0\n",
            "INFO - 15:18:11: EPOCH 26 - PROGRESS: at 69.87% examples, 86443 words/s, in_qsize 1, out_qsize 0\n",
            "INFO - 15:18:13: EPOCH 26 - PROGRESS: at 81.06% examples, 86491 words/s, in_qsize 1, out_qsize 0\n",
            "INFO - 15:18:14: EPOCH 26 - PROGRESS: at 92.33% examples, 86433 words/s, in_qsize 2, out_qsize 0\n",
            "INFO - 15:18:14: worker thread finished; awaiting finish of 0 more threads\n",
            "INFO - 15:18:14: EPOCH - 26 : training on 1429037 raw words (781127 effective words) took 9.0s, 87144 effective words/s\n",
            "INFO - 15:18:15: EPOCH 27 - PROGRESS: at 10.78% examples, 80278 words/s, in_qsize 1, out_qsize 0\n",
            "INFO - 15:18:16: EPOCH 27 - PROGRESS: at 22.94% examples, 84621 words/s, in_qsize 1, out_qsize 0\n",
            "INFO - 15:18:17: EPOCH 27 - PROGRESS: at 35.12% examples, 85668 words/s, in_qsize 1, out_qsize 0\n",
            "INFO - 15:18:18: EPOCH 27 - PROGRESS: at 47.03% examples, 86016 words/s, in_qsize 1, out_qsize 0\n",
            "INFO - 15:18:19: EPOCH 27 - PROGRESS: at 58.78% examples, 86293 words/s, in_qsize 1, out_qsize 0\n",
            "INFO - 15:18:20: EPOCH 27 - PROGRESS: at 70.54% examples, 86321 words/s, in_qsize 1, out_qsize 0\n",
            "INFO - 15:18:21: EPOCH 27 - PROGRESS: at 81.06% examples, 86305 words/s, in_qsize 1, out_qsize 0\n",
            "INFO - 15:18:23: EPOCH 27 - PROGRESS: at 91.72% examples, 86187 words/s, in_qsize 1, out_qsize 0\n",
            "INFO - 15:18:23: worker thread finished; awaiting finish of 0 more threads\n",
            "INFO - 15:18:23: EPOCH - 27 : training on 1429037 raw words (781360 effective words) took 9.0s, 86857 effective words/s\n",
            "INFO - 15:18:24: EPOCH 28 - PROGRESS: at 11.51% examples, 82569 words/s, in_qsize 1, out_qsize 0\n",
            "INFO - 15:18:25: EPOCH 28 - PROGRESS: at 22.94% examples, 83985 words/s, in_qsize 1, out_qsize 0\n",
            "INFO - 15:18:26: EPOCH 28 - PROGRESS: at 35.12% examples, 84955 words/s, in_qsize 1, out_qsize 0\n",
            "INFO - 15:18:27: EPOCH 28 - PROGRESS: at 47.03% examples, 85225 words/s, in_qsize 1, out_qsize 0\n",
            "INFO - 15:18:28: EPOCH 28 - PROGRESS: at 58.78% examples, 85693 words/s, in_qsize 1, out_qsize 0\n",
            "INFO - 15:18:30: EPOCH 28 - PROGRESS: at 70.54% examples, 85994 words/s, in_qsize 1, out_qsize 0\n",
            "INFO - 15:18:31: EPOCH 28 - PROGRESS: at 81.06% examples, 85984 words/s, in_qsize 1, out_qsize 0\n",
            "INFO - 15:18:32: EPOCH 28 - PROGRESS: at 92.33% examples, 86142 words/s, in_qsize 1, out_qsize 0\n",
            "INFO - 15:18:32: worker thread finished; awaiting finish of 0 more threads\n",
            "INFO - 15:18:32: EPOCH - 28 : training on 1429037 raw words (780567 effective words) took 9.0s, 86875 effective words/s\n",
            "INFO - 15:18:33: EPOCH 29 - PROGRESS: at 10.78% examples, 80975 words/s, in_qsize 1, out_qsize 0\n",
            "INFO - 15:18:34: EPOCH 29 - PROGRESS: at 22.94% examples, 84785 words/s, in_qsize 1, out_qsize 0\n",
            "INFO - 15:18:35: EPOCH 29 - PROGRESS: at 35.12% examples, 85954 words/s, in_qsize 1, out_qsize 0\n",
            "INFO - 15:18:36: EPOCH 29 - PROGRESS: at 47.03% examples, 85977 words/s, in_qsize 1, out_qsize 0\n",
            "INFO - 15:18:37: EPOCH 29 - PROGRESS: at 58.78% examples, 86326 words/s, in_qsize 1, out_qsize 0\n",
            "INFO - 15:18:38: EPOCH 29 - PROGRESS: at 70.54% examples, 86334 words/s, in_qsize 1, out_qsize 0\n",
            "INFO - 15:18:40: EPOCH 29 - PROGRESS: at 81.69% examples, 86494 words/s, in_qsize 1, out_qsize 0\n",
            "INFO - 15:18:41: EPOCH 29 - PROGRESS: at 93.00% examples, 86682 words/s, in_qsize 1, out_qsize 0\n",
            "INFO - 15:18:41: worker thread finished; awaiting finish of 0 more threads\n",
            "INFO - 15:18:41: EPOCH - 29 : training on 1429037 raw words (780539 effective words) took 8.9s, 87296 effective words/s\n",
            "INFO - 15:18:42: EPOCH 30 - PROGRESS: at 11.51% examples, 82288 words/s, in_qsize 1, out_qsize 0\n",
            "INFO - 15:18:43: EPOCH 30 - PROGRESS: at 22.94% examples, 84367 words/s, in_qsize 1, out_qsize 0\n",
            "INFO - 15:18:44: EPOCH 30 - PROGRESS: at 34.41% examples, 84757 words/s, in_qsize 1, out_qsize 0\n",
            "INFO - 15:18:45: EPOCH 30 - PROGRESS: at 46.36% examples, 85307 words/s, in_qsize 2, out_qsize 0\n",
            "INFO - 15:18:46: EPOCH 30 - PROGRESS: at 58.07% examples, 85521 words/s, in_qsize 2, out_qsize 0\n",
            "INFO - 15:18:47: EPOCH 30 - PROGRESS: at 69.87% examples, 85719 words/s, in_qsize 1, out_qsize 0\n",
            "INFO - 15:18:48: EPOCH 30 - PROGRESS: at 80.40% examples, 85803 words/s, in_qsize 1, out_qsize 0\n",
            "INFO - 15:18:49: EPOCH 30 - PROGRESS: at 91.72% examples, 86222 words/s, in_qsize 1, out_qsize 0\n",
            "INFO - 15:18:50: worker thread finished; awaiting finish of 0 more threads\n",
            "INFO - 15:18:50: EPOCH - 30 : training on 1429037 raw words (781274 effective words) took 9.0s, 87073 effective words/s\n",
            "INFO - 15:18:50: training on a 42871110 raw words (23433898 effective words) took 272.9s, 85860 effective words/s\n"
          ],
          "name": "stderr"
        },
        {
          "output_type": "stream",
          "text": [
            "Time to train the model: 4.55 mins\n"
          ],
          "name": "stdout"
        }
      ]
    },
    {
      "cell_type": "code",
      "metadata": {
        "id": "1f8v7xZBIS3_",
        "outputId": "b7bfd900-5e8c-4c7e-c86a-a790c4277280",
        "colab": {
          "base_uri": "https://localhost:8080/"
        }
      },
      "source": [
        "w2v_model.init_sims(replace=True)"
      ],
      "execution_count": 26,
      "outputs": [
        {
          "output_type": "stream",
          "text": [
            "INFO - 15:18:50: precomputing L2-norms of word weight vectors\n"
          ],
          "name": "stderr"
        }
      ]
    },
    {
      "cell_type": "code",
      "metadata": {
        "id": "GIGoU3-vIXN9",
        "outputId": "de21d7fa-cd0b-4220-b9a3-97ed7acbee2b",
        "colab": {
          "base_uri": "https://localhost:8080/"
        }
      },
      "source": [
        "w2v_model.wv.most_similar(positive=[\"football\"])"
      ],
      "execution_count": 27,
      "outputs": [
        {
          "output_type": "execute_result",
          "data": {
            "text/plain": [
              "[('football_team', 0.5286812782287598),\n",
              " ('ohio_state', 0.5182080268859863),\n",
              " ('professional_football', 0.510517954826355),\n",
              " ('monday_night', 0.507183313369751),\n",
              " ('varsity', 0.4907870292663574),\n",
              " ('football_league', 0.48755940794944763),\n",
              " ('canton', 0.47640755772590637),\n",
              " ('soccer', 0.47064411640167236),\n",
              " ('indoor', 0.4684675931930542),\n",
              " ('pele', 0.466777503490448)]"
            ]
          },
          "metadata": {
            "tags": []
          },
          "execution_count": 27
        }
      ]
    },
    {
      "cell_type": "code",
      "metadata": {
        "id": "T4f2mQuGIdAc",
        "outputId": "23bebfd5-2ae3-43f1-8b7a-c49dc623eb12",
        "colab": {
          "base_uri": "https://localhost:8080/"
        }
      },
      "source": [
        "w2v_model.wv.most_similar(positive=[\"india\"])"
      ],
      "execution_count": 30,
      "outputs": [
        {
          "output_type": "execute_result",
          "data": {
            "text/plain": [
              "[('sri_lanka', 0.6226263046264648),\n",
              " ('delhi', 0.6059539318084717),\n",
              " ('bombay', 0.5406875610351562),\n",
              " ('bangladesh', 0.5384056568145752),\n",
              " ('mumbai', 0.5364909172058105),\n",
              " ('kenya', 0.520317018032074),\n",
              " ('lahore', 0.5196903944015503),\n",
              " ('pakistan', 0.5196082592010498),\n",
              " ('bose', 0.5155715942382812),\n",
              " ('punjab', 0.511029839515686)]"
            ]
          },
          "metadata": {
            "tags": []
          },
          "execution_count": 30
        }
      ]
    },
    {
      "cell_type": "code",
      "metadata": {
        "id": "WvxycAt8IlN-",
        "outputId": "b8790084-5c0c-4add-9c47-f453d7f15f34",
        "colab": {
          "base_uri": "https://localhost:8080/"
        }
      },
      "source": [
        "w2v_model.wv.most_similar(positive=[\"internet\"])"
      ],
      "execution_count": 31,
      "outputs": [
        {
          "output_type": "execute_result",
          "data": {
            "text/plain": [
              "[('leak', 0.6635940670967102),\n",
              " ('retailer', 0.5620056390762329),\n",
              " ('viral', 0.5336290597915649),\n",
              " ('web', 0.5280978679656982),\n",
              " ('circulate', 0.5163200497627258),\n",
              " ('streaming', 0.5133022665977478),\n",
              " ('digital_download', 0.504462718963623),\n",
              " ('youtube', 0.501811146736145),\n",
              " ('online', 0.4969925880432129),\n",
              " ('amazon', 0.49057918787002563)]"
            ]
          },
          "metadata": {
            "tags": []
          },
          "execution_count": 31
        }
      ]
    },
    {
      "cell_type": "code",
      "metadata": {
        "id": "-pxL6Sm1IoMP",
        "outputId": "c879dc59-39e2-4690-ec04-c90ca585d0de",
        "colab": {
          "base_uri": "https://localhost:8080/"
        }
      },
      "source": [
        "w2v_model.wv.most_similar(positive=[\"fraud\"])"
      ],
      "execution_count": 32,
      "outputs": [
        {
          "output_type": "execute_result",
          "data": {
            "text/plain": [
              "[('acquit', 0.5682245492935181),\n",
              " ('cuccinelli', 0.5633305311203003),\n",
              " ('ghomeshi', 0.5527079701423645),\n",
              " ('prosecute', 0.547006368637085),\n",
              " ('corruption', 0.5438084602355957),\n",
              " ('plead_guilty', 0.541864275932312),\n",
              " ('wakefield', 0.5381290912628174),\n",
              " ('adelson', 0.5374290943145752),\n",
              " ('prosecution', 0.5320479273796082),\n",
              " ('investigator', 0.5269956588745117)]"
            ]
          },
          "metadata": {
            "tags": []
          },
          "execution_count": 32
        }
      ]
    },
    {
      "cell_type": "code",
      "metadata": {
        "id": "OYtKptnJIrT6",
        "outputId": "da280860-0a55-4ede-9227-0d76fdfd566f",
        "colab": {
          "base_uri": "https://localhost:8080/"
        }
      },
      "source": [
        "w2v_model.wv.similarity(\"goodbye\", 'hey')"
      ],
      "execution_count": 33,
      "outputs": [
        {
          "output_type": "execute_result",
          "data": {
            "text/plain": [
              "0.3769367"
            ]
          },
          "metadata": {
            "tags": []
          },
          "execution_count": 33
        }
      ]
    },
    {
      "cell_type": "code",
      "metadata": {
        "id": "S18g7342Iw61",
        "outputId": "4e19c6b4-38e4-4fd4-81a9-63e404678aa5",
        "colab": {
          "base_uri": "https://localhost:8080/"
        }
      },
      "source": [
        "w2v_model.wv.similarity('football', 'cricket')"
      ],
      "execution_count": 34,
      "outputs": [
        {
          "output_type": "execute_result",
          "data": {
            "text/plain": [
              "0.3664318"
            ]
          },
          "metadata": {
            "tags": []
          },
          "execution_count": 34
        }
      ]
    },
    {
      "cell_type": "code",
      "metadata": {
        "id": "V2dA2NEnIyly",
        "outputId": "3cb6fbbf-1845-4ed0-ebf4-57c63b428134",
        "colab": {
          "base_uri": "https://localhost:8080/"
        }
      },
      "source": [
        "w2v_model.wv.similarity('politic', 'football')"
      ],
      "execution_count": 36,
      "outputs": [
        {
          "output_type": "execute_result",
          "data": {
            "text/plain": [
              "0.16643819"
            ]
          },
          "metadata": {
            "tags": []
          },
          "execution_count": 36
        }
      ]
    },
    {
      "cell_type": "code",
      "metadata": {
        "id": "X2bDLnUYIz50",
        "outputId": "a733e35e-03c8-46f5-c2be-cd378aa88c23",
        "colab": {
          "base_uri": "https://localhost:8080/",
          "height": 90
        }
      },
      "source": [
        "w2v_model.wv.doesnt_match(['pele', 'politic', 'football'])"
      ],
      "execution_count": 37,
      "outputs": [
        {
          "output_type": "stream",
          "text": [
            "/usr/local/lib/python3.7/dist-packages/gensim/models/keyedvectors.py:895: FutureWarning: arrays to stack must be passed as a \"sequence\" type such as list or tuple. Support for non-sequence iterables such as generators is deprecated as of NumPy 1.16 and will raise an error in the future.\n",
            "  vectors = vstack(self.word_vec(word, use_norm=True) for word in used_words).astype(REAL)\n"
          ],
          "name": "stderr"
        },
        {
          "output_type": "execute_result",
          "data": {
            "application/vnd.google.colaboratory.intrinsic+json": {
              "type": "string"
            },
            "text/plain": [
              "'politic'"
            ]
          },
          "metadata": {
            "tags": []
          },
          "execution_count": 37
        }
      ]
    },
    {
      "cell_type": "code",
      "metadata": {
        "id": "IFduYJ8lI1e5",
        "outputId": "09eb6a09-a3a9-4137-9893-ffd6696647d4",
        "colab": {
          "base_uri": "https://localhost:8080/",
          "height": 90
        }
      },
      "source": [
        "w2v_model.wv.doesnt_match([\"mouse\", \"computer\", \"internet\"])"
      ],
      "execution_count": 43,
      "outputs": [
        {
          "output_type": "stream",
          "text": [
            "/usr/local/lib/python3.7/dist-packages/gensim/models/keyedvectors.py:895: FutureWarning: arrays to stack must be passed as a \"sequence\" type such as list or tuple. Support for non-sequence iterables such as generators is deprecated as of NumPy 1.16 and will raise an error in the future.\n",
            "  vectors = vstack(self.word_vec(word, use_norm=True) for word in used_words).astype(REAL)\n"
          ],
          "name": "stderr"
        },
        {
          "output_type": "execute_result",
          "data": {
            "application/vnd.google.colaboratory.intrinsic+json": {
              "type": "string"
            },
            "text/plain": [
              "'mouse'"
            ]
          },
          "metadata": {
            "tags": []
          },
          "execution_count": 43
        }
      ]
    },
    {
      "cell_type": "code",
      "metadata": {
        "id": "02HvSyrLI3GN",
        "outputId": "dc27192d-88b0-43fa-f363-67b6796c9a2b",
        "colab": {
          "base_uri": "https://localhost:8080/",
          "height": 90
        }
      },
      "source": [
        "w2v_model.wv.doesnt_match(['biology', 'science', 'games'])"
      ],
      "execution_count": 50,
      "outputs": [
        {
          "output_type": "stream",
          "text": [
            "/usr/local/lib/python3.7/dist-packages/gensim/models/keyedvectors.py:895: FutureWarning: arrays to stack must be passed as a \"sequence\" type such as list or tuple. Support for non-sequence iterables such as generators is deprecated as of NumPy 1.16 and will raise an error in the future.\n",
            "  vectors = vstack(self.word_vec(word, use_norm=True) for word in used_words).astype(REAL)\n"
          ],
          "name": "stderr"
        },
        {
          "output_type": "execute_result",
          "data": {
            "application/vnd.google.colaboratory.intrinsic+json": {
              "type": "string"
            },
            "text/plain": [
              "'games'"
            ]
          },
          "metadata": {
            "tags": []
          },
          "execution_count": 50
        }
      ]
    },
    {
      "cell_type": "code",
      "metadata": {
        "id": "s3Lw7eq9I4sY",
        "outputId": "c74f7f3f-18a0-46cd-daac-31e1bc6c11f4",
        "colab": {
          "base_uri": "https://localhost:8080/"
        }
      },
      "source": [
        "w2v_model.wv.most_similar(positive=[\"greek\", \"spain\"], negative=[\"egypt\"], topn=10)"
      ],
      "execution_count": 60,
      "outputs": [
        {
          "output_type": "execute_result",
          "data": {
            "text/plain": [
              "[('latin', 0.4372386336326599),\n",
              " ('fluent', 0.3866032063961029),\n",
              " ('etruscans', 0.36936211585998535),\n",
              " ('fable', 0.367143839597702),\n",
              " ('salvador', 0.36662495136260986),\n",
              " ('greece', 0.36617064476013184),\n",
              " ('sanchez', 0.3596436381340027),\n",
              " ('ancestor', 0.3584829568862915),\n",
              " ('sculpture', 0.3531267046928406),\n",
              " ('bronze', 0.3415820002555847)]"
            ]
          },
          "metadata": {
            "tags": []
          },
          "execution_count": 60
        }
      ]
    },
    {
      "cell_type": "code",
      "metadata": {
        "id": "DDJuNrgbI6yC",
        "outputId": "4d63451e-ff56-4249-88ec-2703f92dd7fd",
        "colab": {
          "base_uri": "https://localhost:8080/"
        }
      },
      "source": [
        "w2v_model.wv.most_similar(positive=[\"biology\", \"bird\", \"india\", \"reserve\", \"sanctuary\"], negative=[\"politic\"], topn=10)"
      ],
      "execution_count": 66,
      "outputs": [
        {
          "output_type": "execute_result",
          "data": {
            "text/plain": [
              "[('buddhist', 0.4592025578022003),\n",
              " ('battalion', 0.44690725207328796),\n",
              " ('underwater', 0.44341516494750977),\n",
              " ('guinea', 0.4393549859523773),\n",
              " ('delhi', 0.43675750494003296),\n",
              " ('mediterranean', 0.43113455176353455),\n",
              " ('tu', 0.4150592088699341),\n",
              " ('mackinac', 0.40869325399398804),\n",
              " ('geography', 0.4080970287322998),\n",
              " ('champlain', 0.4080502390861511)]"
            ]
          },
          "metadata": {
            "tags": []
          },
          "execution_count": 66
        }
      ]
    },
    {
      "cell_type": "code",
      "metadata": {
        "id": "E_gPKRnAI8ce"
      },
      "source": [
        "import numpy as np\n",
        "import matplotlib.pyplot as plt\n",
        "%matplotlib inline\n",
        " \n",
        "import seaborn as sns\n",
        "sns.set_style(\"darkgrid\")\n",
        "\n",
        "from sklearn.decomposition import PCA\n",
        "from sklearn.manifold import TSNE"
      ],
      "execution_count": 67,
      "outputs": []
    },
    {
      "cell_type": "code",
      "metadata": {
        "id": "35EOhX1VI_By"
      },
      "source": [
        "def tsnescatterplot(model, word, list_names):\n",
        "    \"\"\" Plot in seaborn the results from the t-SNE dimensionality reduction algorithm of the vectors of a query word,\n",
        "    its list of most similar words, and a list of words.\n",
        "    \"\"\"\n",
        "    arrays = np.empty((0, 300), dtype='f')\n",
        "    word_labels = [word]\n",
        "    color_list  = ['red']\n",
        "\n",
        "    # adds the vector of the query word\n",
        "    arrays = np.append(arrays, model.wv.__getitem__([word]), axis=0)\n",
        "    \n",
        "    # gets list of most similar words\n",
        "    close_words = model.wv.most_similar([word])\n",
        "    \n",
        "    # adds the vector for each of the closest words to the array\n",
        "    for wrd_score in close_words:\n",
        "        wrd_vector = model.wv.__getitem__([wrd_score[0]])\n",
        "        word_labels.append(wrd_score[0])\n",
        "        color_list.append('blue')\n",
        "        arrays = np.append(arrays, wrd_vector, axis=0)\n",
        "    # adds the vector for each of the words from list_names to the array\n",
        "    for wrd in list_names:\n",
        "        wrd_vector = model.wv.__getitem__([wrd])\n",
        "        word_labels.append(wrd)\n",
        "        color_list.append('green')\n",
        "        arrays = np.append(arrays, wrd_vector, axis=0)\n",
        "        \n",
        "    # Reduces the dimensionality from 300 to 50 dimensions with PCA\n",
        "    reduc = PCA(n_components=19).fit_transform(arrays)    \n",
        "    # Finds t-SNE coordinates for 2 dimensions\n",
        "    np.set_printoptions(suppress=True)\n",
        "    \n",
        "    Y = TSNE(n_components=2, random_state=0, perplexity=15).fit_transform(reduc)\n",
        "    \n",
        "    # Sets everything up to plot\n",
        "    df = pd.DataFrame({'x': [x for x in Y[:, 0]],\n",
        "                       'y': [y for y in Y[:, 1]],\n",
        "                       'words': word_labels,\n",
        "                       'color': color_list})\n",
        "    fig, _ = plt.subplots()\n",
        "    fig.set_size_inches(9, 9)\n",
        "    \n",
        "    # Basic plot\n",
        "    p1 = sns.regplot(data=df,\n",
        "                     x=\"x\",\n",
        "                     y=\"y\",\n",
        "                     fit_reg=False,\n",
        "                     marker=\"o\",\n",
        "                     scatter_kws={'s': 40,\n",
        "                                  'facecolors': df['color']\n",
        "                                 }\n",
        "                    )\n",
        "    \n",
        "    # Adds annotations one by one with a loop\n",
        "    for line in range(0, df.shape[0]):\n",
        "         p1.text(df[\"x\"][line],\n",
        "                 df['y'][line],\n",
        "                 '  ' + df[\"words\"][line].title(),\n",
        "                 horizontalalignment='left',\n",
        "                 verticalalignment='bottom', size='medium',\n",
        "                 color=df['color'][line],\n",
        "                 weight='normal'\n",
        "                ).set_size(15)\n",
        "    plt.xlim(Y[:, 0].min()-50, Y[:, 0].max()+50)\n",
        "    plt.ylim(Y[:, 1].min()-50, Y[:, 1].max()+50)\n",
        "            \n",
        "    plt.title('t-SNE visualization for {}'.format(word.title()))\n",
        "    \n",
        "    "
      ],
      "execution_count": 74,
      "outputs": []
    },
    {
      "cell_type": "code",
      "metadata": {
        "id": "MRvs6TKTJKs3",
        "outputId": "3e173311-0938-4590-aa10-4bcff9fe275c",
        "colab": {
          "base_uri": "https://localhost:8080/",
          "height": 567
        }
      },
      "source": [
        "tsnescatterplot(w2v_model, 'country', ['greece', 'netherlands', 'china', 'usa', 'italy', 'england', 'spain', 'india'])"
      ],
      "execution_count": 75,
      "outputs": [
        {
          "output_type": "display_data",
          "data": {
            "image/png": "[encoded data removed]",
            "text/plain": [
              "<Figure size 648x648 with 1 Axes>"
            ]
          },
          "metadata": {
            "tags": []
          }
        }
      ]
    },
    {
      "cell_type": "code",
      "metadata": {
        "id": "xEhWdrc_JMpD",
        "outputId": "85a7de6b-db2e-4e92-8925-3a64631dcf5d",
        "colab": {
          "base_uri": "https://localhost:8080/",
          "height": 567
        }
      },
      "source": [
        "tsnescatterplot(w2v_model, 'india', [i[0] for i in w2v_model.wv.most_similar(negative=[\"india\"])])"
      ],
      "execution_count": 76,
      "outputs": [
        {
          "output_type": "display_data",
          "data": {
            "image/png": "[encoded data removed]",
            "text/plain": [
              "<Figure size 648x648 with 1 Axes>"
            ]
          },
          "metadata": {
            "tags": []
          }
        }
      ]
    },
    {
      "cell_type": "code",
      "metadata": {
        "id": "zbrmaO9lJQMM",
        "outputId": "cbd31efb-043b-4a01-876b-5113c468c29b",
        "colab": {
          "base_uri": "https://localhost:8080/",
          "height": 567
        }
      },
      "source": [
        "tsnescatterplot(w2v_model, \"football\", [t[0] for t in w2v_model.wv.most_similar(positive=[\"football\"], topn=20)][10:])"
      ],
      "execution_count": 77,
      "outputs": [
        {
          "output_type": "display_data",
          "data": {
            "image/png": "[encoded data removed]",
            "text/plain": [
              "<Figure size 648x648 with 1 Axes>"
            ]
          },
          "metadata": {
            "tags": []
          }
        }
      ]
    },
    {
      "cell_type": "code",
      "metadata": {
        "id": "OEm0fgpgJQg7"
      },
      "source": [
        ""
      ],
      "execution_count": null,
      "outputs": []
    }
  ]
}