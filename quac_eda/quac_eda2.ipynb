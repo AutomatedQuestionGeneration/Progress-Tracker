{
  "nbformat": 4,
  "nbformat_minor": 0,
  "metadata": {
    "colab": {
      "name": "QUAC_eda_plots.ipynb",
      "provenance": []
    },
    "kernelspec": {
      "display_name": "Python 3",
      "name": "python3"
    },
    "widgets": {
      "application/vnd.jupyter.widget-state+json": {
        "5b9895331407467894021666af763926": {
          "model_module": "@jupyter-widgets/controls",
          "model_name": "HBoxModel",
          "state": {
            "_view_name": "HBoxView",
            "_dom_classes": [],
            "_model_name": "HBoxModel",
            "_view_module": "@jupyter-widgets/controls",
            "_model_module_version": "1.5.0",
            "_view_count": null,
            "_view_module_version": "1.5.0",
            "box_style": "",
            "layout": "IPY_MODEL_793dad113e924d30bcb515377c513e24",
            "_model_module": "@jupyter-widgets/controls",
            "children": [
              "IPY_MODEL_b2ef659eb7ef4da6b6ae5099ecf0ba65",
              "IPY_MODEL_9e72f00cf763410b8ee81b19c84e65ad"
            ]
          }
        },
        "793dad113e924d30bcb515377c513e24": {
          "model_module": "@jupyter-widgets/base",
          "model_name": "LayoutModel",
          "state": {
            "_view_name": "LayoutView",
            "grid_template_rows": null,
            "right": null,
            "justify_content": null,
            "_view_module": "@jupyter-widgets/base",
            "overflow": null,
            "_model_module_version": "1.2.0",
            "_view_count": null,
            "flex_flow": null,
            "width": null,
            "min_width": null,
            "border": null,
            "align_items": null,
            "bottom": null,
            "_model_module": "@jupyter-widgets/base",
            "top": null,
            "grid_column": null,
            "overflow_y": null,
            "overflow_x": null,
            "grid_auto_flow": null,
            "grid_area": null,
            "grid_template_columns": null,
            "flex": null,
            "_model_name": "LayoutModel",
            "justify_items": null,
            "grid_row": null,
            "max_height": null,
            "align_content": null,
            "visibility": null,
            "align_self": null,
            "height": null,
            "min_height": null,
            "padding": null,
            "grid_auto_rows": null,
            "grid_gap": null,
            "max_width": null,
            "order": null,
            "_view_module_version": "1.2.0",
            "grid_template_areas": null,
            "object_position": null,
            "object_fit": null,
            "grid_auto_columns": null,
            "margin": null,
            "display": null,
            "left": null
          }
        },
        "b2ef659eb7ef4da6b6ae5099ecf0ba65": {
          "model_module": "@jupyter-widgets/controls",
          "model_name": "FloatProgressModel",
          "state": {
            "_view_name": "ProgressView",
            "style": "IPY_MODEL_e25af4392b374fc0af5ad16529a1e28c",
            "_dom_classes": [],
            "description": "Downloading: ",
            "_model_name": "FloatProgressModel",
            "bar_style": "success",
            "max": 2563,
            "_view_module": "@jupyter-widgets/controls",
            "_model_module_version": "1.5.0",
            "value": 2563,
            "_view_count": null,
            "_view_module_version": "1.5.0",
            "orientation": "horizontal",
            "min": 0,
            "description_tooltip": null,
            "_model_module": "@jupyter-widgets/controls",
            "layout": "IPY_MODEL_0750e119dbf34bb6868f944dc1ab92cb"
          }
        },
        "9e72f00cf763410b8ee81b19c84e65ad": {
          "model_module": "@jupyter-widgets/controls",
          "model_name": "HTMLModel",
          "state": {
            "_view_name": "HTMLView",
            "style": "IPY_MODEL_64d250b5620446bb95c69b373ef84e03",
            "_dom_classes": [],
            "description": "",
            "_model_name": "HTMLModel",
            "placeholder": "​",
            "_view_module": "@jupyter-widgets/controls",
            "_model_module_version": "1.5.0",
            "value": " 7.88k/? [00:04&lt;00:00, 1.93kB/s]",
            "_view_count": null,
            "_view_module_version": "1.5.0",
            "description_tooltip": null,
            "_model_module": "@jupyter-widgets/controls",
            "layout": "IPY_MODEL_15d5f366035c4b24bfc1993d1bf0d278"
          }
        },
        "e25af4392b374fc0af5ad16529a1e28c": {
          "model_module": "@jupyter-widgets/controls",
          "model_name": "ProgressStyleModel",
          "state": {
            "_view_name": "StyleView",
            "_model_name": "ProgressStyleModel",
            "description_width": "initial",
            "_view_module": "@jupyter-widgets/base",
            "_model_module_version": "1.5.0",
            "_view_count": null,
            "_view_module_version": "1.2.0",
            "bar_color": null,
            "_model_module": "@jupyter-widgets/controls"
          }
        },
        "0750e119dbf34bb6868f944dc1ab92cb": {
          "model_module": "@jupyter-widgets/base",
          "model_name": "LayoutModel",
          "state": {
            "_view_name": "LayoutView",
            "grid_template_rows": null,
            "right": null,
            "justify_content": null,
            "_view_module": "@jupyter-widgets/base",
            "overflow": null,
            "_model_module_version": "1.2.0",
            "_view_count": null,
            "flex_flow": null,
            "width": null,
            "min_width": null,
            "border": null,
            "align_items": null,
            "bottom": null,
            "_model_module": "@jupyter-widgets/base",
            "top": null,
            "grid_column": null,
            "overflow_y": null,
            "overflow_x": null,
            "grid_auto_flow": null,
            "grid_area": null,
            "grid_template_columns": null,
            "flex": null,
            "_model_name": "LayoutModel",
            "justify_items": null,
            "grid_row": null,
            "max_height": null,
            "align_content": null,
            "visibility": null,
            "align_self": null,
            "height": null,
            "min_height": null,
            "padding": null,
            "grid_auto_rows": null,
            "grid_gap": null,
            "max_width": null,
            "order": null,
            "_view_module_version": "1.2.0",
            "grid_template_areas": null,
            "object_position": null,
            "object_fit": null,
            "grid_auto_columns": null,
            "margin": null,
            "display": null,
            "left": null
          }
        },
        "64d250b5620446bb95c69b373ef84e03": {
          "model_module": "@jupyter-widgets/controls",
          "model_name": "DescriptionStyleModel",
          "state": {
            "_view_name": "StyleView",
            "_model_name": "DescriptionStyleModel",
            "description_width": "",
            "_view_module": "@jupyter-widgets/base",
            "_model_module_version": "1.5.0",
            "_view_count": null,
            "_view_module_version": "1.2.0",
            "_model_module": "@jupyter-widgets/controls"
          }
        },
        "15d5f366035c4b24bfc1993d1bf0d278": {
          "model_module": "@jupyter-widgets/base",
          "model_name": "LayoutModel",
          "state": {
            "_view_name": "LayoutView",
            "grid_template_rows": null,
            "right": null,
            "justify_content": null,
            "_view_module": "@jupyter-widgets/base",
            "overflow": null,
            "_model_module_version": "1.2.0",
            "_view_count": null,
            "flex_flow": null,
            "width": null,
            "min_width": null,
            "border": null,
            "align_items": null,
            "bottom": null,
            "_model_module": "@jupyter-widgets/base",
            "top": null,
            "grid_column": null,
            "overflow_y": null,
            "overflow_x": null,
            "grid_auto_flow": null,
            "grid_area": null,
            "grid_template_columns": null,
            "flex": null,
            "_model_name": "LayoutModel",
            "justify_items": null,
            "grid_row": null,
            "max_height": null,
            "align_content": null,
            "visibility": null,
            "align_self": null,
            "height": null,
            "min_height": null,
            "padding": null,
            "grid_auto_rows": null,
            "grid_gap": null,
            "max_width": null,
            "order": null,
            "_view_module_version": "1.2.0",
            "grid_template_areas": null,
            "object_position": null,
            "object_fit": null,
            "grid_auto_columns": null,
            "margin": null,
            "display": null,
            "left": null
          }
        },
        "3e146d6370574ba3810faa99bbcf2ede": {
          "model_module": "@jupyter-widgets/controls",
          "model_name": "HBoxModel",
          "state": {
            "_view_name": "HBoxView",
            "_dom_classes": [],
            "_model_name": "HBoxModel",
            "_view_module": "@jupyter-widgets/controls",
            "_model_module_version": "1.5.0",
            "_view_count": null,
            "_view_module_version": "1.5.0",
            "box_style": "",
            "layout": "IPY_MODEL_dde55bb35ecd4ef7aee71f651ee1c399",
            "_model_module": "@jupyter-widgets/controls",
            "children": [
              "IPY_MODEL_939feaee145b491587db916ff8037cd3",
              "IPY_MODEL_5b2a8f2ded924c11ad81010e4e4197ea"
            ]
          }
        },
        "dde55bb35ecd4ef7aee71f651ee1c399": {
          "model_module": "@jupyter-widgets/base",
          "model_name": "LayoutModel",
          "state": {
            "_view_name": "LayoutView",
            "grid_template_rows": null,
            "right": null,
            "justify_content": null,
            "_view_module": "@jupyter-widgets/base",
            "overflow": null,
            "_model_module_version": "1.2.0",
            "_view_count": null,
            "flex_flow": null,
            "width": null,
            "min_width": null,
            "border": null,
            "align_items": null,
            "bottom": null,
            "_model_module": "@jupyter-widgets/base",
            "top": null,
            "grid_column": null,
            "overflow_y": null,
            "overflow_x": null,
            "grid_auto_flow": null,
            "grid_area": null,
            "grid_template_columns": null,
            "flex": null,
            "_model_name": "LayoutModel",
            "justify_items": null,
            "grid_row": null,
            "max_height": null,
            "align_content": null,
            "visibility": null,
            "align_self": null,
            "height": null,
            "min_height": null,
            "padding": null,
            "grid_auto_rows": null,
            "grid_gap": null,
            "max_width": null,
            "order": null,
            "_view_module_version": "1.2.0",
            "grid_template_areas": null,
            "object_position": null,
            "object_fit": null,
            "grid_auto_columns": null,
            "margin": null,
            "display": null,
            "left": null
          }
        },
        "939feaee145b491587db916ff8037cd3": {
          "model_module": "@jupyter-widgets/controls",
          "model_name": "FloatProgressModel",
          "state": {
            "_view_name": "ProgressView",
            "style": "IPY_MODEL_91430a80020f436a9cdf7c1724f133a5",
            "_dom_classes": [],
            "description": "Downloading: ",
            "_model_name": "FloatProgressModel",
            "bar_style": "success",
            "max": 1725,
            "_view_module": "@jupyter-widgets/controls",
            "_model_module_version": "1.5.0",
            "value": 1725,
            "_view_count": null,
            "_view_module_version": "1.5.0",
            "orientation": "horizontal",
            "min": 0,
            "description_tooltip": null,
            "_model_module": "@jupyter-widgets/controls",
            "layout": "IPY_MODEL_53cca01865254349a8fa7a95090120cd"
          }
        },
        "5b2a8f2ded924c11ad81010e4e4197ea": {
          "model_module": "@jupyter-widgets/controls",
          "model_name": "HTMLModel",
          "state": {
            "_view_name": "HTMLView",
            "style": "IPY_MODEL_52cf8c30456e4b00b10a7068c377c986",
            "_dom_classes": [],
            "description": "",
            "_model_name": "HTMLModel",
            "placeholder": "​",
            "_view_module": "@jupyter-widgets/controls",
            "_model_module_version": "1.5.0",
            "value": " 4.90k/? [00:00&lt;00:00, 21.4kB/s]",
            "_view_count": null,
            "_view_module_version": "1.5.0",
            "description_tooltip": null,
            "_model_module": "@jupyter-widgets/controls",
            "layout": "IPY_MODEL_302e5c58bf614b379325726cbd2848fa"
          }
        },
        "91430a80020f436a9cdf7c1724f133a5": {
          "model_module": "@jupyter-widgets/controls",
          "model_name": "ProgressStyleModel",
          "state": {
            "_view_name": "StyleView",
            "_model_name": "ProgressStyleModel",
            "description_width": "initial",
            "_view_module": "@jupyter-widgets/base",
            "_model_module_version": "1.5.0",
            "_view_count": null,
            "_view_module_version": "1.2.0",
            "bar_color": null,
            "_model_module": "@jupyter-widgets/controls"
          }
        },
        "53cca01865254349a8fa7a95090120cd": {
          "model_module": "@jupyter-widgets/base",
          "model_name": "LayoutModel",
          "state": {
            "_view_name": "LayoutView",
            "grid_template_rows": null,
            "right": null,
            "justify_content": null,
            "_view_module": "@jupyter-widgets/base",
            "overflow": null,
            "_model_module_version": "1.2.0",
            "_view_count": null,
            "flex_flow": null,
            "width": null,
            "min_width": null,
            "border": null,
            "align_items": null,
            "bottom": null,
            "_model_module": "@jupyter-widgets/base",
            "top": null,
            "grid_column": null,
            "overflow_y": null,
            "overflow_x": null,
            "grid_auto_flow": null,
            "grid_area": null,
            "grid_template_columns": null,
            "flex": null,
            "_model_name": "LayoutModel",
            "justify_items": null,
            "grid_row": null,
            "max_height": null,
            "align_content": null,
            "visibility": null,
            "align_self": null,
            "height": null,
            "min_height": null,
            "padding": null,
            "grid_auto_rows": null,
            "grid_gap": null,
            "max_width": null,
            "order": null,
            "_view_module_version": "1.2.0",
            "grid_template_areas": null,
            "object_position": null,
            "object_fit": null,
            "grid_auto_columns": null,
            "margin": null,
            "display": null,
            "left": null
          }
        },
        "52cf8c30456e4b00b10a7068c377c986": {
          "model_module": "@jupyter-widgets/controls",
          "model_name": "DescriptionStyleModel",
          "state": {
            "_view_name": "StyleView",
            "_model_name": "DescriptionStyleModel",
            "description_width": "",
            "_view_module": "@jupyter-widgets/base",
            "_model_module_version": "1.5.0",
            "_view_count": null,
            "_view_module_version": "1.2.0",
            "_model_module": "@jupyter-widgets/controls"
          }
        },
        "302e5c58bf614b379325726cbd2848fa": {
          "model_module": "@jupyter-widgets/base",
          "model_name": "LayoutModel",
          "state": {
            "_view_name": "LayoutView",
            "grid_template_rows": null,
            "right": null,
            "justify_content": null,
            "_view_module": "@jupyter-widgets/base",
            "overflow": null,
            "_model_module_version": "1.2.0",
            "_view_count": null,
            "flex_flow": null,
            "width": null,
            "min_width": null,
            "border": null,
            "align_items": null,
            "bottom": null,
            "_model_module": "@jupyter-widgets/base",
            "top": null,
            "grid_column": null,
            "overflow_y": null,
            "overflow_x": null,
            "grid_auto_flow": null,
            "grid_area": null,
            "grid_template_columns": null,
            "flex": null,
            "_model_name": "LayoutModel",
            "justify_items": null,
            "grid_row": null,
            "max_height": null,
            "align_content": null,
            "visibility": null,
            "align_self": null,
            "height": null,
            "min_height": null,
            "padding": null,
            "grid_auto_rows": null,
            "grid_gap": null,
            "max_width": null,
            "order": null,
            "_view_module_version": "1.2.0",
            "grid_template_areas": null,
            "object_position": null,
            "object_fit": null,
            "grid_auto_columns": null,
            "margin": null,
            "display": null,
            "left": null
          }
        },
        "edcc57a811344bf9bf17522b623363de": {
          "model_module": "@jupyter-widgets/controls",
          "model_name": "HBoxModel",
          "state": {
            "_view_name": "HBoxView",
            "_dom_classes": [],
            "_model_name": "HBoxModel",
            "_view_module": "@jupyter-widgets/controls",
            "_model_module_version": "1.5.0",
            "_view_count": null,
            "_view_module_version": "1.5.0",
            "box_style": "",
            "layout": "IPY_MODEL_8acda9a879874c44b7129fae17706e9f",
            "_model_module": "@jupyter-widgets/controls",
            "children": [
              "IPY_MODEL_9af609cc45664956bf5ffad994d9e4c1",
              "IPY_MODEL_433c57419fd3408abb3f8239c790aefc"
            ]
          }
        },
        "8acda9a879874c44b7129fae17706e9f": {
          "model_module": "@jupyter-widgets/base",
          "model_name": "LayoutModel",
          "state": {
            "_view_name": "LayoutView",
            "grid_template_rows": null,
            "right": null,
            "justify_content": null,
            "_view_module": "@jupyter-widgets/base",
            "overflow": null,
            "_model_module_version": "1.2.0",
            "_view_count": null,
            "flex_flow": null,
            "width": null,
            "min_width": null,
            "border": null,
            "align_items": null,
            "bottom": null,
            "_model_module": "@jupyter-widgets/base",
            "top": null,
            "grid_column": null,
            "overflow_y": null,
            "overflow_x": null,
            "grid_auto_flow": null,
            "grid_area": null,
            "grid_template_columns": null,
            "flex": null,
            "_model_name": "LayoutModel",
            "justify_items": null,
            "grid_row": null,
            "max_height": null,
            "align_content": null,
            "visibility": null,
            "align_self": null,
            "height": null,
            "min_height": null,
            "padding": null,
            "grid_auto_rows": null,
            "grid_gap": null,
            "max_width": null,
            "order": null,
            "_view_module_version": "1.2.0",
            "grid_template_areas": null,
            "object_position": null,
            "object_fit": null,
            "grid_auto_columns": null,
            "margin": null,
            "display": null,
            "left": null
          }
        },
        "9af609cc45664956bf5ffad994d9e4c1": {
          "model_module": "@jupyter-widgets/controls",
          "model_name": "FloatProgressModel",
          "state": {
            "_view_name": "ProgressView",
            "style": "IPY_MODEL_3fc7fb144e7f43a4b82e0dcf6b2b0f4f",
            "_dom_classes": [],
            "description": "Downloading: 100%",
            "_model_name": "FloatProgressModel",
            "bar_style": "success",
            "max": 68114819,
            "_view_module": "@jupyter-widgets/controls",
            "_model_module_version": "1.5.0",
            "value": 68114819,
            "_view_count": null,
            "_view_module_version": "1.5.0",
            "orientation": "horizontal",
            "min": 0,
            "description_tooltip": null,
            "_model_module": "@jupyter-widgets/controls",
            "layout": "IPY_MODEL_867e238866f245999c0f4eb402739016"
          }
        },
        "433c57419fd3408abb3f8239c790aefc": {
          "model_module": "@jupyter-widgets/controls",
          "model_name": "HTMLModel",
          "state": {
            "_view_name": "HTMLView",
            "style": "IPY_MODEL_0e96e7cb77824c2a9e033c0fbe518b99",
            "_dom_classes": [],
            "description": "",
            "_model_name": "HTMLModel",
            "placeholder": "​",
            "_view_module": "@jupyter-widgets/controls",
            "_model_module_version": "1.5.0",
            "value": " 68.1M/68.1M [00:03&lt;00:00, 20.3MB/s]",
            "_view_count": null,
            "_view_module_version": "1.5.0",
            "description_tooltip": null,
            "_model_module": "@jupyter-widgets/controls",
            "layout": "IPY_MODEL_b9ce1ab1127143cc993a738cdc6e867e"
          }
        },
        "3fc7fb144e7f43a4b82e0dcf6b2b0f4f": {
          "model_module": "@jupyter-widgets/controls",
          "model_name": "ProgressStyleModel",
          "state": {
            "_view_name": "StyleView",
            "_model_name": "ProgressStyleModel",
            "description_width": "initial",
            "_view_module": "@jupyter-widgets/base",
            "_model_module_version": "1.5.0",
            "_view_count": null,
            "_view_module_version": "1.2.0",
            "bar_color": null,
            "_model_module": "@jupyter-widgets/controls"
          }
        },
        "867e238866f245999c0f4eb402739016": {
          "model_module": "@jupyter-widgets/base",
          "model_name": "LayoutModel",
          "state": {
            "_view_name": "LayoutView",
            "grid_template_rows": null,
            "right": null,
            "justify_content": null,
            "_view_module": "@jupyter-widgets/base",
            "overflow": null,
            "_model_module_version": "1.2.0",
            "_view_count": null,
            "flex_flow": null,
            "width": null,
            "min_width": null,
            "border": null,
            "align_items": null,
            "bottom": null,
            "_model_module": "@jupyter-widgets/base",
            "top": null,
            "grid_column": null,
            "overflow_y": null,
            "overflow_x": null,
            "grid_auto_flow": null,
            "grid_area": null,
            "grid_template_columns": null,
            "flex": null,
            "_model_name": "LayoutModel",
            "justify_items": null,
            "grid_row": null,
            "max_height": null,
            "align_content": null,
            "visibility": null,
            "align_self": null,
            "height": null,
            "min_height": null,
            "padding": null,
            "grid_auto_rows": null,
            "grid_gap": null,
            "max_width": null,
            "order": null,
            "_view_module_version": "1.2.0",
            "grid_template_areas": null,
            "object_position": null,
            "object_fit": null,
            "grid_auto_columns": null,
            "margin": null,
            "display": null,
            "left": null
          }
        },
        "0e96e7cb77824c2a9e033c0fbe518b99": {
          "model_module": "@jupyter-widgets/controls",
          "model_name": "DescriptionStyleModel",
          "state": {
            "_view_name": "StyleView",
            "_model_name": "DescriptionStyleModel",
            "description_width": "",
            "_view_module": "@jupyter-widgets/base",
            "_model_module_version": "1.5.0",
            "_view_count": null,
            "_view_module_version": "1.2.0",
            "_model_module": "@jupyter-widgets/controls"
          }
        },
        "b9ce1ab1127143cc993a738cdc6e867e": {
          "model_module": "@jupyter-widgets/base",
          "model_name": "LayoutModel",
          "state": {
            "_view_name": "LayoutView",
            "grid_template_rows": null,
            "right": null,
            "justify_content": null,
            "_view_module": "@jupyter-widgets/base",
            "overflow": null,
            "_model_module_version": "1.2.0",
            "_view_count": null,
            "flex_flow": null,
            "width": null,
            "min_width": null,
            "border": null,
            "align_items": null,
            "bottom": null,
            "_model_module": "@jupyter-widgets/base",
            "top": null,
            "grid_column": null,
            "overflow_y": null,
            "overflow_x": null,
            "grid_auto_flow": null,
            "grid_area": null,
            "grid_template_columns": null,
            "flex": null,
            "_model_name": "LayoutModel",
            "justify_items": null,
            "grid_row": null,
            "max_height": null,
            "align_content": null,
            "visibility": null,
            "align_self": null,
            "height": null,
            "min_height": null,
            "padding": null,
            "grid_auto_rows": null,
            "grid_gap": null,
            "max_width": null,
            "order": null,
            "_view_module_version": "1.2.0",
            "grid_template_areas": null,
            "object_position": null,
            "object_fit": null,
            "grid_auto_columns": null,
            "margin": null,
            "display": null,
            "left": null
          }
        },
        "e51118a5bd05475bafc6d8053f404875": {
          "model_module": "@jupyter-widgets/controls",
          "model_name": "HBoxModel",
          "state": {
            "_view_name": "HBoxView",
            "_dom_classes": [],
            "_model_name": "HBoxModel",
            "_view_module": "@jupyter-widgets/controls",
            "_model_module_version": "1.5.0",
            "_view_count": null,
            "_view_module_version": "1.5.0",
            "box_style": "",
            "layout": "IPY_MODEL_f2e3de07e9104f2f8073da19fc44a861",
            "_model_module": "@jupyter-widgets/controls",
            "children": [
              "IPY_MODEL_2949e3379b264f44b835942e3eb61b1d",
              "IPY_MODEL_840f2a8b9f6a49d2ab3200448ac324a9"
            ]
          }
        },
        "f2e3de07e9104f2f8073da19fc44a861": {
          "model_module": "@jupyter-widgets/base",
          "model_name": "LayoutModel",
          "state": {
            "_view_name": "LayoutView",
            "grid_template_rows": null,
            "right": null,
            "justify_content": null,
            "_view_module": "@jupyter-widgets/base",
            "overflow": null,
            "_model_module_version": "1.2.0",
            "_view_count": null,
            "flex_flow": null,
            "width": null,
            "min_width": null,
            "border": null,
            "align_items": null,
            "bottom": null,
            "_model_module": "@jupyter-widgets/base",
            "top": null,
            "grid_column": null,
            "overflow_y": null,
            "overflow_x": null,
            "grid_auto_flow": null,
            "grid_area": null,
            "grid_template_columns": null,
            "flex": null,
            "_model_name": "LayoutModel",
            "justify_items": null,
            "grid_row": null,
            "max_height": null,
            "align_content": null,
            "visibility": null,
            "align_self": null,
            "height": null,
            "min_height": null,
            "padding": null,
            "grid_auto_rows": null,
            "grid_gap": null,
            "max_width": null,
            "order": null,
            "_view_module_version": "1.2.0",
            "grid_template_areas": null,
            "object_position": null,
            "object_fit": null,
            "grid_auto_columns": null,
            "margin": null,
            "display": null,
            "left": null
          }
        },
        "2949e3379b264f44b835942e3eb61b1d": {
          "model_module": "@jupyter-widgets/controls",
          "model_name": "FloatProgressModel",
          "state": {
            "_view_name": "ProgressView",
            "style": "IPY_MODEL_a9746d1ca0424182b6d35c73a51abbc9",
            "_dom_classes": [],
            "description": "Downloading: 100%",
            "_model_name": "FloatProgressModel",
            "bar_style": "success",
            "max": 8929167,
            "_view_module": "@jupyter-widgets/controls",
            "_model_module_version": "1.5.0",
            "value": 8929167,
            "_view_count": null,
            "_view_module_version": "1.5.0",
            "orientation": "horizontal",
            "min": 0,
            "description_tooltip": null,
            "_model_module": "@jupyter-widgets/controls",
            "layout": "IPY_MODEL_550b2667813d4c10aa669cadd3913d2a"
          }
        },
        "840f2a8b9f6a49d2ab3200448ac324a9": {
          "model_module": "@jupyter-widgets/controls",
          "model_name": "HTMLModel",
          "state": {
            "_view_name": "HTMLView",
            "style": "IPY_MODEL_e2a46a22fd334635bd422f29ed15c87c",
            "_dom_classes": [],
            "description": "",
            "_model_name": "HTMLModel",
            "placeholder": "​",
            "_view_module": "@jupyter-widgets/controls",
            "_model_module_version": "1.5.0",
            "value": " 8.93M/8.93M [00:00&lt;00:00, 14.9MB/s]",
            "_view_count": null,
            "_view_module_version": "1.5.0",
            "description_tooltip": null,
            "_model_module": "@jupyter-widgets/controls",
            "layout": "IPY_MODEL_daafbb8ba888463bb9ca0be26eb11ae0"
          }
        },
        "a9746d1ca0424182b6d35c73a51abbc9": {
          "model_module": "@jupyter-widgets/controls",
          "model_name": "ProgressStyleModel",
          "state": {
            "_view_name": "StyleView",
            "_model_name": "ProgressStyleModel",
            "description_width": "initial",
            "_view_module": "@jupyter-widgets/base",
            "_model_module_version": "1.5.0",
            "_view_count": null,
            "_view_module_version": "1.2.0",
            "bar_color": null,
            "_model_module": "@jupyter-widgets/controls"
          }
        },
        "550b2667813d4c10aa669cadd3913d2a": {
          "model_module": "@jupyter-widgets/base",
          "model_name": "LayoutModel",
          "state": {
            "_view_name": "LayoutView",
            "grid_template_rows": null,
            "right": null,
            "justify_content": null,
            "_view_module": "@jupyter-widgets/base",
            "overflow": null,
            "_model_module_version": "1.2.0",
            "_view_count": null,
            "flex_flow": null,
            "width": null,
            "min_width": null,
            "border": null,
            "align_items": null,
            "bottom": null,
            "_model_module": "@jupyter-widgets/base",
            "top": null,
            "grid_column": null,
            "overflow_y": null,
            "overflow_x": null,
            "grid_auto_flow": null,
            "grid_area": null,
            "grid_template_columns": null,
            "flex": null,
            "_model_name": "LayoutModel",
            "justify_items": null,
            "grid_row": null,
            "max_height": null,
            "align_content": null,
            "visibility": null,
            "align_self": null,
            "height": null,
            "min_height": null,
            "padding": null,
            "grid_auto_rows": null,
            "grid_gap": null,
            "max_width": null,
            "order": null,
            "_view_module_version": "1.2.0",
            "grid_template_areas": null,
            "object_position": null,
            "object_fit": null,
            "grid_auto_columns": null,
            "margin": null,
            "display": null,
            "left": null
          }
        },
        "e2a46a22fd334635bd422f29ed15c87c": {
          "model_module": "@jupyter-widgets/controls",
          "model_name": "DescriptionStyleModel",
          "state": {
            "_view_name": "StyleView",
            "_model_name": "DescriptionStyleModel",
            "description_width": "",
            "_view_module": "@jupyter-widgets/base",
            "_model_module_version": "1.5.0",
            "_view_count": null,
            "_view_module_version": "1.2.0",
            "_model_module": "@jupyter-widgets/controls"
          }
        },
        "daafbb8ba888463bb9ca0be26eb11ae0": {
          "model_module": "@jupyter-widgets/base",
          "model_name": "LayoutModel",
          "state": {
            "_view_name": "LayoutView",
            "grid_template_rows": null,
            "right": null,
            "justify_content": null,
            "_view_module": "@jupyter-widgets/base",
            "overflow": null,
            "_model_module_version": "1.2.0",
            "_view_count": null,
            "flex_flow": null,
            "width": null,
            "min_width": null,
            "border": null,
            "align_items": null,
            "bottom": null,
            "_model_module": "@jupyter-widgets/base",
            "top": null,
            "grid_column": null,
            "overflow_y": null,
            "overflow_x": null,
            "grid_auto_flow": null,
            "grid_area": null,
            "grid_template_columns": null,
            "flex": null,
            "_model_name": "LayoutModel",
            "justify_items": null,
            "grid_row": null,
            "max_height": null,
            "align_content": null,
            "visibility": null,
            "align_self": null,
            "height": null,
            "min_height": null,
            "padding": null,
            "grid_auto_rows": null,
            "grid_gap": null,
            "max_width": null,
            "order": null,
            "_view_module_version": "1.2.0",
            "grid_template_areas": null,
            "object_position": null,
            "object_fit": null,
            "grid_auto_columns": null,
            "margin": null,
            "display": null,
            "left": null
          }
        },
        "f36695fa50784e0f97d6a2353c3a14d2": {
          "model_module": "@jupyter-widgets/controls",
          "model_name": "HBoxModel",
          "state": {
            "_view_name": "HBoxView",
            "_dom_classes": [],
            "_model_name": "HBoxModel",
            "_view_module": "@jupyter-widgets/controls",
            "_model_module_version": "1.5.0",
            "_view_count": null,
            "_view_module_version": "1.5.0",
            "box_style": "",
            "layout": "IPY_MODEL_264e81f7102a47be96a7154c9aebdd0d",
            "_model_module": "@jupyter-widgets/controls",
            "children": [
              "IPY_MODEL_3552a42f952642e1b34a9a4f5aced14d",
              "IPY_MODEL_64ee36754bd84da2b69a34e27efe3038"
            ]
          }
        },
        "264e81f7102a47be96a7154c9aebdd0d": {
          "model_module": "@jupyter-widgets/base",
          "model_name": "LayoutModel",
          "state": {
            "_view_name": "LayoutView",
            "grid_template_rows": null,
            "right": null,
            "justify_content": null,
            "_view_module": "@jupyter-widgets/base",
            "overflow": null,
            "_model_module_version": "1.2.0",
            "_view_count": null,
            "flex_flow": null,
            "width": null,
            "min_width": null,
            "border": null,
            "align_items": null,
            "bottom": null,
            "_model_module": "@jupyter-widgets/base",
            "top": null,
            "grid_column": null,
            "overflow_y": null,
            "overflow_x": null,
            "grid_auto_flow": null,
            "grid_area": null,
            "grid_template_columns": null,
            "flex": null,
            "_model_name": "LayoutModel",
            "justify_items": null,
            "grid_row": null,
            "max_height": null,
            "align_content": null,
            "visibility": null,
            "align_self": null,
            "height": null,
            "min_height": null,
            "padding": null,
            "grid_auto_rows": null,
            "grid_gap": null,
            "max_width": null,
            "order": null,
            "_view_module_version": "1.2.0",
            "grid_template_areas": null,
            "object_position": null,
            "object_fit": null,
            "grid_auto_columns": null,
            "margin": null,
            "display": null,
            "left": null
          }
        },
        "3552a42f952642e1b34a9a4f5aced14d": {
          "model_module": "@jupyter-widgets/controls",
          "model_name": "FloatProgressModel",
          "state": {
            "_view_name": "ProgressView",
            "style": "IPY_MODEL_2675b955deca4ff1891f8c9c8fa7cbaa",
            "_dom_classes": [],
            "description": "",
            "_model_name": "FloatProgressModel",
            "bar_style": "info",
            "max": 1,
            "_view_module": "@jupyter-widgets/controls",
            "_model_module_version": "1.5.0",
            "value": 1,
            "_view_count": null,
            "_view_module_version": "1.5.0",
            "orientation": "horizontal",
            "min": 0,
            "description_tooltip": null,
            "_model_module": "@jupyter-widgets/controls",
            "layout": "IPY_MODEL_aeee0fe8e18e4c4c8ba7bbbadf223576"
          }
        },
        "64ee36754bd84da2b69a34e27efe3038": {
          "model_module": "@jupyter-widgets/controls",
          "model_name": "HTMLModel",
          "state": {
            "_view_name": "HTMLView",
            "style": "IPY_MODEL_fa2f9414dd684dc39e224bf5607d6385",
            "_dom_classes": [],
            "description": "",
            "_model_name": "HTMLModel",
            "placeholder": "​",
            "_view_module": "@jupyter-widgets/controls",
            "_model_module_version": "1.5.0",
            "value": " 11567/0 [00:04&lt;00:00, 2861.00 examples/s]",
            "_view_count": null,
            "_view_module_version": "1.5.0",
            "description_tooltip": null,
            "_model_module": "@jupyter-widgets/controls",
            "layout": "IPY_MODEL_5634c7c3cc9e45dd901d198efda144b2"
          }
        },
        "2675b955deca4ff1891f8c9c8fa7cbaa": {
          "model_module": "@jupyter-widgets/controls",
          "model_name": "ProgressStyleModel",
          "state": {
            "_view_name": "StyleView",
            "_model_name": "ProgressStyleModel",
            "description_width": "initial",
            "_view_module": "@jupyter-widgets/base",
            "_model_module_version": "1.5.0",
            "_view_count": null,
            "_view_module_version": "1.2.0",
            "bar_color": null,
            "_model_module": "@jupyter-widgets/controls"
          }
        },
        "aeee0fe8e18e4c4c8ba7bbbadf223576": {
          "model_module": "@jupyter-widgets/base",
          "model_name": "LayoutModel",
          "state": {
            "_view_name": "LayoutView",
            "grid_template_rows": null,
            "right": null,
            "justify_content": null,
            "_view_module": "@jupyter-widgets/base",
            "overflow": null,
            "_model_module_version": "1.2.0",
            "_view_count": null,
            "flex_flow": null,
            "width": null,
            "min_width": null,
            "border": null,
            "align_items": null,
            "bottom": null,
            "_model_module": "@jupyter-widgets/base",
            "top": null,
            "grid_column": null,
            "overflow_y": null,
            "overflow_x": null,
            "grid_auto_flow": null,
            "grid_area": null,
            "grid_template_columns": null,
            "flex": null,
            "_model_name": "LayoutModel",
            "justify_items": null,
            "grid_row": null,
            "max_height": null,
            "align_content": null,
            "visibility": null,
            "align_self": null,
            "height": null,
            "min_height": null,
            "padding": null,
            "grid_auto_rows": null,
            "grid_gap": null,
            "max_width": null,
            "order": null,
            "_view_module_version": "1.2.0",
            "grid_template_areas": null,
            "object_position": null,
            "object_fit": null,
            "grid_auto_columns": null,
            "margin": null,
            "display": null,
            "left": null
          }
        },
        "fa2f9414dd684dc39e224bf5607d6385": {
          "model_module": "@jupyter-widgets/controls",
          "model_name": "DescriptionStyleModel",
          "state": {
            "_view_name": "StyleView",
            "_model_name": "DescriptionStyleModel",
            "description_width": "",
            "_view_module": "@jupyter-widgets/base",
            "_model_module_version": "1.5.0",
            "_view_count": null,
            "_view_module_version": "1.2.0",
            "_model_module": "@jupyter-widgets/controls"
          }
        },
        "5634c7c3cc9e45dd901d198efda144b2": {
          "model_module": "@jupyter-widgets/base",
          "model_name": "LayoutModel",
          "state": {
            "_view_name": "LayoutView",
            "grid_template_rows": null,
            "right": null,
            "justify_content": null,
            "_view_module": "@jupyter-widgets/base",
            "overflow": null,
            "_model_module_version": "1.2.0",
            "_view_count": null,
            "flex_flow": null,
            "width": null,
            "min_width": null,
            "border": null,
            "align_items": null,
            "bottom": null,
            "_model_module": "@jupyter-widgets/base",
            "top": null,
            "grid_column": null,
            "overflow_y": null,
            "overflow_x": null,
            "grid_auto_flow": null,
            "grid_area": null,
            "grid_template_columns": null,
            "flex": null,
            "_model_name": "LayoutModel",
            "justify_items": null,
            "grid_row": null,
            "max_height": null,
            "align_content": null,
            "visibility": null,
            "align_self": null,
            "height": null,
            "min_height": null,
            "padding": null,
            "grid_auto_rows": null,
            "grid_gap": null,
            "max_width": null,
            "order": null,
            "_view_module_version": "1.2.0",
            "grid_template_areas": null,
            "object_position": null,
            "object_fit": null,
            "grid_auto_columns": null,
            "margin": null,
            "display": null,
            "left": null
          }
        },
        "1c59273349b5499e8502967654a1300e": {
          "model_module": "@jupyter-widgets/controls",
          "model_name": "HBoxModel",
          "state": {
            "_view_name": "HBoxView",
            "_dom_classes": [],
            "_model_name": "HBoxModel",
            "_view_module": "@jupyter-widgets/controls",
            "_model_module_version": "1.5.0",
            "_view_count": null,
            "_view_module_version": "1.5.0",
            "box_style": "",
            "layout": "IPY_MODEL_58f657d86bbe4363881106bb5b35d703",
            "_model_module": "@jupyter-widgets/controls",
            "children": [
              "IPY_MODEL_457dbdc14b1543a78060b9b764ac2fca",
              "IPY_MODEL_3a19087ef01d4d55956d391c710a57c6"
            ]
          }
        },
        "58f657d86bbe4363881106bb5b35d703": {
          "model_module": "@jupyter-widgets/base",
          "model_name": "LayoutModel",
          "state": {
            "_view_name": "LayoutView",
            "grid_template_rows": null,
            "right": null,
            "justify_content": null,
            "_view_module": "@jupyter-widgets/base",
            "overflow": null,
            "_model_module_version": "1.2.0",
            "_view_count": null,
            "flex_flow": null,
            "width": null,
            "min_width": null,
            "border": null,
            "align_items": null,
            "bottom": null,
            "_model_module": "@jupyter-widgets/base",
            "top": null,
            "grid_column": null,
            "overflow_y": null,
            "overflow_x": null,
            "grid_auto_flow": null,
            "grid_area": null,
            "grid_template_columns": null,
            "flex": null,
            "_model_name": "LayoutModel",
            "justify_items": null,
            "grid_row": null,
            "max_height": null,
            "align_content": null,
            "visibility": null,
            "align_self": null,
            "height": null,
            "min_height": null,
            "padding": null,
            "grid_auto_rows": null,
            "grid_gap": null,
            "max_width": null,
            "order": null,
            "_view_module_version": "1.2.0",
            "grid_template_areas": null,
            "object_position": null,
            "object_fit": null,
            "grid_auto_columns": null,
            "margin": null,
            "display": null,
            "left": null
          }
        },
        "457dbdc14b1543a78060b9b764ac2fca": {
          "model_module": "@jupyter-widgets/controls",
          "model_name": "FloatProgressModel",
          "state": {
            "_view_name": "ProgressView",
            "style": "IPY_MODEL_250ccc4ff2de4ff489639d87a4698968",
            "_dom_classes": [],
            "description": "",
            "_model_name": "FloatProgressModel",
            "bar_style": "info",
            "max": 1,
            "_view_module": "@jupyter-widgets/controls",
            "_model_module_version": "1.5.0",
            "value": 1,
            "_view_count": null,
            "_view_module_version": "1.5.0",
            "orientation": "horizontal",
            "min": 0,
            "description_tooltip": null,
            "_model_module": "@jupyter-widgets/controls",
            "layout": "IPY_MODEL_8d7c454d4067427c89551a1544287cd9"
          }
        },
        "3a19087ef01d4d55956d391c710a57c6": {
          "model_module": "@jupyter-widgets/controls",
          "model_name": "HTMLModel",
          "state": {
            "_view_name": "HTMLView",
            "style": "IPY_MODEL_8a08c241cf8043c0b1ba51b35e07e930",
            "_dom_classes": [],
            "description": "",
            "_model_name": "HTMLModel",
            "placeholder": "​",
            "_view_module": "@jupyter-widgets/controls",
            "_model_module_version": "1.5.0",
            "value": " 1000/0 [00:00&lt;00:00, 27.14 examples/s]",
            "_view_count": null,
            "_view_module_version": "1.5.0",
            "description_tooltip": null,
            "_model_module": "@jupyter-widgets/controls",
            "layout": "IPY_MODEL_2fa363d4438741cf8492186a236cb6ee"
          }
        },
        "250ccc4ff2de4ff489639d87a4698968": {
          "model_module": "@jupyter-widgets/controls",
          "model_name": "ProgressStyleModel",
          "state": {
            "_view_name": "StyleView",
            "_model_name": "ProgressStyleModel",
            "description_width": "initial",
            "_view_module": "@jupyter-widgets/base",
            "_model_module_version": "1.5.0",
            "_view_count": null,
            "_view_module_version": "1.2.0",
            "bar_color": null,
            "_model_module": "@jupyter-widgets/controls"
          }
        },
        "8d7c454d4067427c89551a1544287cd9": {
          "model_module": "@jupyter-widgets/base",
          "model_name": "LayoutModel",
          "state": {
            "_view_name": "LayoutView",
            "grid_template_rows": null,
            "right": null,
            "justify_content": null,
            "_view_module": "@jupyter-widgets/base",
            "overflow": null,
            "_model_module_version": "1.2.0",
            "_view_count": null,
            "flex_flow": null,
            "width": null,
            "min_width": null,
            "border": null,
            "align_items": null,
            "bottom": null,
            "_model_module": "@jupyter-widgets/base",
            "top": null,
            "grid_column": null,
            "overflow_y": null,
            "overflow_x": null,
            "grid_auto_flow": null,
            "grid_area": null,
            "grid_template_columns": null,
            "flex": null,
            "_model_name": "LayoutModel",
            "justify_items": null,
            "grid_row": null,
            "max_height": null,
            "align_content": null,
            "visibility": null,
            "align_self": null,
            "height": null,
            "min_height": null,
            "padding": null,
            "grid_auto_rows": null,
            "grid_gap": null,
            "max_width": null,
            "order": null,
            "_view_module_version": "1.2.0",
            "grid_template_areas": null,
            "object_position": null,
            "object_fit": null,
            "grid_auto_columns": null,
            "margin": null,
            "display": null,
            "left": null
          }
        },
        "8a08c241cf8043c0b1ba51b35e07e930": {
          "model_module": "@jupyter-widgets/controls",
          "model_name": "DescriptionStyleModel",
          "state": {
            "_view_name": "StyleView",
            "_model_name": "DescriptionStyleModel",
            "description_width": "",
            "_view_module": "@jupyter-widgets/base",
            "_model_module_version": "1.5.0",
            "_view_count": null,
            "_view_module_version": "1.2.0",
            "_model_module": "@jupyter-widgets/controls"
          }
        },
        "2fa363d4438741cf8492186a236cb6ee": {
          "model_module": "@jupyter-widgets/base",
          "model_name": "LayoutModel",
          "state": {
            "_view_name": "LayoutView",
            "grid_template_rows": null,
            "right": null,
            "justify_content": null,
            "_view_module": "@jupyter-widgets/base",
            "overflow": null,
            "_model_module_version": "1.2.0",
            "_view_count": null,
            "flex_flow": null,
            "width": null,
            "min_width": null,
            "border": null,
            "align_items": null,
            "bottom": null,
            "_model_module": "@jupyter-widgets/base",
            "top": null,
            "grid_column": null,
            "overflow_y": null,
            "overflow_x": null,
            "grid_auto_flow": null,
            "grid_area": null,
            "grid_template_columns": null,
            "flex": null,
            "_model_name": "LayoutModel",
            "justify_items": null,
            "grid_row": null,
            "max_height": null,
            "align_content": null,
            "visibility": null,
            "align_self": null,
            "height": null,
            "min_height": null,
            "padding": null,
            "grid_auto_rows": null,
            "grid_gap": null,
            "max_width": null,
            "order": null,
            "_view_module_version": "1.2.0",
            "grid_template_areas": null,
            "object_position": null,
            "object_fit": null,
            "grid_auto_columns": null,
            "margin": null,
            "display": null,
            "left": null
          }
        },
        "1f520fe1a8ab484db2a6619fb9267c12": {
          "model_module": "@jupyter-widgets/controls",
          "model_name": "HBoxModel",
          "state": {
            "_view_name": "HBoxView",
            "_dom_classes": [],
            "_model_name": "HBoxModel",
            "_view_module": "@jupyter-widgets/controls",
            "_model_module_version": "1.5.0",
            "_view_count": null,
            "_view_module_version": "1.5.0",
            "box_style": "",
            "layout": "IPY_MODEL_f9317164fe174563869baac02006340a",
            "_model_module": "@jupyter-widgets/controls",
            "children": [
              "IPY_MODEL_03bd70bff9dc43d99770cbd4ccbfcef0",
              "IPY_MODEL_d8a0b0a8e8b649e6a462d5e07cf4aae2"
            ]
          }
        },
        "f9317164fe174563869baac02006340a": {
          "model_module": "@jupyter-widgets/base",
          "model_name": "LayoutModel",
          "state": {
            "_view_name": "LayoutView",
            "grid_template_rows": null,
            "right": null,
            "justify_content": null,
            "_view_module": "@jupyter-widgets/base",
            "overflow": null,
            "_model_module_version": "1.2.0",
            "_view_count": null,
            "flex_flow": null,
            "width": null,
            "min_width": null,
            "border": null,
            "align_items": null,
            "bottom": null,
            "_model_module": "@jupyter-widgets/base",
            "top": null,
            "grid_column": null,
            "overflow_y": null,
            "overflow_x": null,
            "grid_auto_flow": null,
            "grid_area": null,
            "grid_template_columns": null,
            "flex": null,
            "_model_name": "LayoutModel",
            "justify_items": null,
            "grid_row": null,
            "max_height": null,
            "align_content": null,
            "visibility": null,
            "align_self": null,
            "height": null,
            "min_height": null,
            "padding": null,
            "grid_auto_rows": null,
            "grid_gap": null,
            "max_width": null,
            "order": null,
            "_view_module_version": "1.2.0",
            "grid_template_areas": null,
            "object_position": null,
            "object_fit": null,
            "grid_auto_columns": null,
            "margin": null,
            "display": null,
            "left": null
          }
        },
        "03bd70bff9dc43d99770cbd4ccbfcef0": {
          "model_module": "@jupyter-widgets/controls",
          "model_name": "FloatProgressModel",
          "state": {
            "_view_name": "ProgressView",
            "style": "IPY_MODEL_7044bfaf38bd441295ed59b270df5246",
            "_dom_classes": [],
            "description": "Downloading: 100%",
            "_model_name": "FloatProgressModel",
            "bar_style": "success",
            "max": 690,
            "_view_module": "@jupyter-widgets/controls",
            "_model_module_version": "1.5.0",
            "value": 690,
            "_view_count": null,
            "_view_module_version": "1.5.0",
            "orientation": "horizontal",
            "min": 0,
            "description_tooltip": null,
            "_model_module": "@jupyter-widgets/controls",
            "layout": "IPY_MODEL_3f1515be8ad14c8e9df00753479984b3"
          }
        },
        "d8a0b0a8e8b649e6a462d5e07cf4aae2": {
          "model_module": "@jupyter-widgets/controls",
          "model_name": "HTMLModel",
          "state": {
            "_view_name": "HTMLView",
            "style": "IPY_MODEL_d8998f3b3a1548e0b1a85c7b79ab830b",
            "_dom_classes": [],
            "description": "",
            "_model_name": "HTMLModel",
            "placeholder": "​",
            "_view_module": "@jupyter-widgets/controls",
            "_model_module_version": "1.5.0",
            "value": " 690/690 [00:00&lt;00:00, 6.06kB/s]",
            "_view_count": null,
            "_view_module_version": "1.5.0",
            "description_tooltip": null,
            "_model_module": "@jupyter-widgets/controls",
            "layout": "IPY_MODEL_03badfa2c95343bbafd395fcdede1a6f"
          }
        },
        "7044bfaf38bd441295ed59b270df5246": {
          "model_module": "@jupyter-widgets/controls",
          "model_name": "ProgressStyleModel",
          "state": {
            "_view_name": "StyleView",
            "_model_name": "ProgressStyleModel",
            "description_width": "initial",
            "_view_module": "@jupyter-widgets/base",
            "_model_module_version": "1.5.0",
            "_view_count": null,
            "_view_module_version": "1.2.0",
            "bar_color": null,
            "_model_module": "@jupyter-widgets/controls"
          }
        },
        "3f1515be8ad14c8e9df00753479984b3": {
          "model_module": "@jupyter-widgets/base",
          "model_name": "LayoutModel",
          "state": {
            "_view_name": "LayoutView",
            "grid_template_rows": null,
            "right": null,
            "justify_content": null,
            "_view_module": "@jupyter-widgets/base",
            "overflow": null,
            "_model_module_version": "1.2.0",
            "_view_count": null,
            "flex_flow": null,
            "width": null,
            "min_width": null,
            "border": null,
            "align_items": null,
            "bottom": null,
            "_model_module": "@jupyter-widgets/base",
            "top": null,
            "grid_column": null,
            "overflow_y": null,
            "overflow_x": null,
            "grid_auto_flow": null,
            "grid_area": null,
            "grid_template_columns": null,
            "flex": null,
            "_model_name": "LayoutModel",
            "justify_items": null,
            "grid_row": null,
            "max_height": null,
            "align_content": null,
            "visibility": null,
            "align_self": null,
            "height": null,
            "min_height": null,
            "padding": null,
            "grid_auto_rows": null,
            "grid_gap": null,
            "max_width": null,
            "order": null,
            "_view_module_version": "1.2.0",
            "grid_template_areas": null,
            "object_position": null,
            "object_fit": null,
            "grid_auto_columns": null,
            "margin": null,
            "display": null,
            "left": null
          }
        },
        "d8998f3b3a1548e0b1a85c7b79ab830b": {
          "model_module": "@jupyter-widgets/controls",
          "model_name": "DescriptionStyleModel",
          "state": {
            "_view_name": "StyleView",
            "_model_name": "DescriptionStyleModel",
            "description_width": "",
            "_view_module": "@jupyter-widgets/base",
            "_model_module_version": "1.5.0",
            "_view_count": null,
            "_view_module_version": "1.2.0",
            "_model_module": "@jupyter-widgets/controls"
          }
        },
        "03badfa2c95343bbafd395fcdede1a6f": {
          "model_module": "@jupyter-widgets/base",
          "model_name": "LayoutModel",
          "state": {
            "_view_name": "LayoutView",
            "grid_template_rows": null,
            "right": null,
            "justify_content": null,
            "_view_module": "@jupyter-widgets/base",
            "overflow": null,
            "_model_module_version": "1.2.0",
            "_view_count": null,
            "flex_flow": null,
            "width": null,
            "min_width": null,
            "border": null,
            "align_items": null,
            "bottom": null,
            "_model_module": "@jupyter-widgets/base",
            "top": null,
            "grid_column": null,
            "overflow_y": null,
            "overflow_x": null,
            "grid_auto_flow": null,
            "grid_area": null,
            "grid_template_columns": null,
            "flex": null,
            "_model_name": "LayoutModel",
            "justify_items": null,
            "grid_row": null,
            "max_height": null,
            "align_content": null,
            "visibility": null,
            "align_self": null,
            "height": null,
            "min_height": null,
            "padding": null,
            "grid_auto_rows": null,
            "grid_gap": null,
            "max_width": null,
            "order": null,
            "_view_module_version": "1.2.0",
            "grid_template_areas": null,
            "object_position": null,
            "object_fit": null,
            "grid_auto_columns": null,
            "margin": null,
            "display": null,
            "left": null
          }
        },
        "564935e035794f268f01cdfe83570a7c": {
          "model_module": "@jupyter-widgets/controls",
          "model_name": "HBoxModel",
          "state": {
            "_view_name": "HBoxView",
            "_dom_classes": [],
            "_model_name": "HBoxModel",
            "_view_module": "@jupyter-widgets/controls",
            "_model_module_version": "1.5.0",
            "_view_count": null,
            "_view_module_version": "1.5.0",
            "box_style": "",
            "layout": "IPY_MODEL_0f41be8ddf024cdfb7a86e90b0af4ee8",
            "_model_module": "@jupyter-widgets/controls",
            "children": [
              "IPY_MODEL_f3aeaf4d677c4730883e76a0bf11b9c2",
              "IPY_MODEL_afb410988a044aabb4d6047324f76bd9"
            ]
          }
        },
        "0f41be8ddf024cdfb7a86e90b0af4ee8": {
          "model_module": "@jupyter-widgets/base",
          "model_name": "LayoutModel",
          "state": {
            "_view_name": "LayoutView",
            "grid_template_rows": null,
            "right": null,
            "justify_content": null,
            "_view_module": "@jupyter-widgets/base",
            "overflow": null,
            "_model_module_version": "1.2.0",
            "_view_count": null,
            "flex_flow": null,
            "width": null,
            "min_width": null,
            "border": null,
            "align_items": null,
            "bottom": null,
            "_model_module": "@jupyter-widgets/base",
            "top": null,
            "grid_column": null,
            "overflow_y": null,
            "overflow_x": null,
            "grid_auto_flow": null,
            "grid_area": null,
            "grid_template_columns": null,
            "flex": null,
            "_model_name": "LayoutModel",
            "justify_items": null,
            "grid_row": null,
            "max_height": null,
            "align_content": null,
            "visibility": null,
            "align_self": null,
            "height": null,
            "min_height": null,
            "padding": null,
            "grid_auto_rows": null,
            "grid_gap": null,
            "max_width": null,
            "order": null,
            "_view_module_version": "1.2.0",
            "grid_template_areas": null,
            "object_position": null,
            "object_fit": null,
            "grid_auto_columns": null,
            "margin": null,
            "display": null,
            "left": null
          }
        },
        "f3aeaf4d677c4730883e76a0bf11b9c2": {
          "model_module": "@jupyter-widgets/controls",
          "model_name": "FloatProgressModel",
          "state": {
            "_view_name": "ProgressView",
            "style": "IPY_MODEL_93f52b4a515641ec942a707046e867e6",
            "_dom_classes": [],
            "description": "Downloading: 100%",
            "_model_name": "FloatProgressModel",
            "bar_style": "success",
            "max": 3673,
            "_view_module": "@jupyter-widgets/controls",
            "_model_module_version": "1.5.0",
            "value": 3673,
            "_view_count": null,
            "_view_module_version": "1.5.0",
            "orientation": "horizontal",
            "min": 0,
            "description_tooltip": null,
            "_model_module": "@jupyter-widgets/controls",
            "layout": "IPY_MODEL_a9d0b549644b451ab9f4dc115041d07f"
          }
        },
        "afb410988a044aabb4d6047324f76bd9": {
          "model_module": "@jupyter-widgets/controls",
          "model_name": "HTMLModel",
          "state": {
            "_view_name": "HTMLView",
            "style": "IPY_MODEL_7035e358aac3468e866b98226bcbc5e4",
            "_dom_classes": [],
            "description": "",
            "_model_name": "HTMLModel",
            "placeholder": "​",
            "_view_module": "@jupyter-widgets/controls",
            "_model_module_version": "1.5.0",
            "value": " 3.67k/3.67k [00:03&lt;00:00, 1.05kB/s]",
            "_view_count": null,
            "_view_module_version": "1.5.0",
            "description_tooltip": null,
            "_model_module": "@jupyter-widgets/controls",
            "layout": "IPY_MODEL_871f629d1e1a4bbaa21f8d1ccaeaf2b9"
          }
        },
        "93f52b4a515641ec942a707046e867e6": {
          "model_module": "@jupyter-widgets/controls",
          "model_name": "ProgressStyleModel",
          "state": {
            "_view_name": "StyleView",
            "_model_name": "ProgressStyleModel",
            "description_width": "initial",
            "_view_module": "@jupyter-widgets/base",
            "_model_module_version": "1.5.0",
            "_view_count": null,
            "_view_module_version": "1.2.0",
            "bar_color": null,
            "_model_module": "@jupyter-widgets/controls"
          }
        },
        "a9d0b549644b451ab9f4dc115041d07f": {
          "model_module": "@jupyter-widgets/base",
          "model_name": "LayoutModel",
          "state": {
            "_view_name": "LayoutView",
            "grid_template_rows": null,
            "right": null,
            "justify_content": null,
            "_view_module": "@jupyter-widgets/base",
            "overflow": null,
            "_model_module_version": "1.2.0",
            "_view_count": null,
            "flex_flow": null,
            "width": null,
            "min_width": null,
            "border": null,
            "align_items": null,
            "bottom": null,
            "_model_module": "@jupyter-widgets/base",
            "top": null,
            "grid_column": null,
            "overflow_y": null,
            "overflow_x": null,
            "grid_auto_flow": null,
            "grid_area": null,
            "grid_template_columns": null,
            "flex": null,
            "_model_name": "LayoutModel",
            "justify_items": null,
            "grid_row": null,
            "max_height": null,
            "align_content": null,
            "visibility": null,
            "align_self": null,
            "height": null,
            "min_height": null,
            "padding": null,
            "grid_auto_rows": null,
            "grid_gap": null,
            "max_width": null,
            "order": null,
            "_view_module_version": "1.2.0",
            "grid_template_areas": null,
            "object_position": null,
            "object_fit": null,
            "grid_auto_columns": null,
            "margin": null,
            "display": null,
            "left": null
          }
        },
        "7035e358aac3468e866b98226bcbc5e4": {
          "model_module": "@jupyter-widgets/controls",
          "model_name": "DescriptionStyleModel",
          "state": {
            "_view_name": "StyleView",
            "_model_name": "DescriptionStyleModel",
            "description_width": "",
            "_view_module": "@jupyter-widgets/base",
            "_model_module_version": "1.5.0",
            "_view_count": null,
            "_view_module_version": "1.2.0",
            "_model_module": "@jupyter-widgets/controls"
          }
        },
        "871f629d1e1a4bbaa21f8d1ccaeaf2b9": {
          "model_module": "@jupyter-widgets/base",
          "model_name": "LayoutModel",
          "state": {
            "_view_name": "LayoutView",
            "grid_template_rows": null,
            "right": null,
            "justify_content": null,
            "_view_module": "@jupyter-widgets/base",
            "overflow": null,
            "_model_module_version": "1.2.0",
            "_view_count": null,
            "flex_flow": null,
            "width": null,
            "min_width": null,
            "border": null,
            "align_items": null,
            "bottom": null,
            "_model_module": "@jupyter-widgets/base",
            "top": null,
            "grid_column": null,
            "overflow_y": null,
            "overflow_x": null,
            "grid_auto_flow": null,
            "grid_area": null,
            "grid_template_columns": null,
            "flex": null,
            "_model_name": "LayoutModel",
            "justify_items": null,
            "grid_row": null,
            "max_height": null,
            "align_content": null,
            "visibility": null,
            "align_self": null,
            "height": null,
            "min_height": null,
            "padding": null,
            "grid_auto_rows": null,
            "grid_gap": null,
            "max_width": null,
            "order": null,
            "_view_module_version": "1.2.0",
            "grid_template_areas": null,
            "object_position": null,
            "object_fit": null,
            "grid_auto_columns": null,
            "margin": null,
            "display": null,
            "left": null
          }
        },
        "7dcaca3dc4834f04862ad18e50dc2630": {
          "model_module": "@jupyter-widgets/controls",
          "model_name": "HBoxModel",
          "state": {
            "_view_name": "HBoxView",
            "_dom_classes": [],
            "_model_name": "HBoxModel",
            "_view_module": "@jupyter-widgets/controls",
            "_model_module_version": "1.5.0",
            "_view_count": null,
            "_view_module_version": "1.5.0",
            "box_style": "",
            "layout": "IPY_MODEL_ba3cba2513d24b82b7d45d099cfbd5b3",
            "_model_module": "@jupyter-widgets/controls",
            "children": [
              "IPY_MODEL_30990e602a3d41f2ad30414880919a9d",
              "IPY_MODEL_ea4c997292d448b19110513bcd0c90fe"
            ]
          }
        },
        "ba3cba2513d24b82b7d45d099cfbd5b3": {
          "model_module": "@jupyter-widgets/base",
          "model_name": "LayoutModel",
          "state": {
            "_view_name": "LayoutView",
            "grid_template_rows": null,
            "right": null,
            "justify_content": null,
            "_view_module": "@jupyter-widgets/base",
            "overflow": null,
            "_model_module_version": "1.2.0",
            "_view_count": null,
            "flex_flow": null,
            "width": null,
            "min_width": null,
            "border": null,
            "align_items": null,
            "bottom": null,
            "_model_module": "@jupyter-widgets/base",
            "top": null,
            "grid_column": null,
            "overflow_y": null,
            "overflow_x": null,
            "grid_auto_flow": null,
            "grid_area": null,
            "grid_template_columns": null,
            "flex": null,
            "_model_name": "LayoutModel",
            "justify_items": null,
            "grid_row": null,
            "max_height": null,
            "align_content": null,
            "visibility": null,
            "align_self": null,
            "height": null,
            "min_height": null,
            "padding": null,
            "grid_auto_rows": null,
            "grid_gap": null,
            "max_width": null,
            "order": null,
            "_view_module_version": "1.2.0",
            "grid_template_areas": null,
            "object_position": null,
            "object_fit": null,
            "grid_auto_columns": null,
            "margin": null,
            "display": null,
            "left": null
          }
        },
        "30990e602a3d41f2ad30414880919a9d": {
          "model_module": "@jupyter-widgets/controls",
          "model_name": "FloatProgressModel",
          "state": {
            "_view_name": "ProgressView",
            "style": "IPY_MODEL_9defdade2b8e40c9b4f57bec4a999e11",
            "_dom_classes": [],
            "description": "Downloading: 100%",
            "_model_name": "FloatProgressModel",
            "bar_style": "success",
            "max": 629,
            "_view_module": "@jupyter-widgets/controls",
            "_model_module_version": "1.5.0",
            "value": 629,
            "_view_count": null,
            "_view_module_version": "1.5.0",
            "orientation": "horizontal",
            "min": 0,
            "description_tooltip": null,
            "_model_module": "@jupyter-widgets/controls",
            "layout": "IPY_MODEL_9b9a4ef44eb1447ea277a7a64c378818"
          }
        },
        "ea4c997292d448b19110513bcd0c90fe": {
          "model_module": "@jupyter-widgets/controls",
          "model_name": "HTMLModel",
          "state": {
            "_view_name": "HTMLView",
            "style": "IPY_MODEL_b837ea32823f4f20bf12ca1410dd1094",
            "_dom_classes": [],
            "description": "",
            "_model_name": "HTMLModel",
            "placeholder": "​",
            "_view_module": "@jupyter-widgets/controls",
            "_model_module_version": "1.5.0",
            "value": " 629/629 [00:00&lt;00:00, 3.14kB/s]",
            "_view_count": null,
            "_view_module_version": "1.5.0",
            "description_tooltip": null,
            "_model_module": "@jupyter-widgets/controls",
            "layout": "IPY_MODEL_11ba47347cef4f0bb5e6cf17f4155f23"
          }
        },
        "9defdade2b8e40c9b4f57bec4a999e11": {
          "model_module": "@jupyter-widgets/controls",
          "model_name": "ProgressStyleModel",
          "state": {
            "_view_name": "StyleView",
            "_model_name": "ProgressStyleModel",
            "description_width": "initial",
            "_view_module": "@jupyter-widgets/base",
            "_model_module_version": "1.5.0",
            "_view_count": null,
            "_view_module_version": "1.2.0",
            "bar_color": null,
            "_model_module": "@jupyter-widgets/controls"
          }
        },
        "9b9a4ef44eb1447ea277a7a64c378818": {
          "model_module": "@jupyter-widgets/base",
          "model_name": "LayoutModel",
          "state": {
            "_view_name": "LayoutView",
            "grid_template_rows": null,
            "right": null,
            "justify_content": null,
            "_view_module": "@jupyter-widgets/base",
            "overflow": null,
            "_model_module_version": "1.2.0",
            "_view_count": null,
            "flex_flow": null,
            "width": null,
            "min_width": null,
            "border": null,
            "align_items": null,
            "bottom": null,
            "_model_module": "@jupyter-widgets/base",
            "top": null,
            "grid_column": null,
            "overflow_y": null,
            "overflow_x": null,
            "grid_auto_flow": null,
            "grid_area": null,
            "grid_template_columns": null,
            "flex": null,
            "_model_name": "LayoutModel",
            "justify_items": null,
            "grid_row": null,
            "max_height": null,
            "align_content": null,
            "visibility": null,
            "align_self": null,
            "height": null,
            "min_height": null,
            "padding": null,
            "grid_auto_rows": null,
            "grid_gap": null,
            "max_width": null,
            "order": null,
            "_view_module_version": "1.2.0",
            "grid_template_areas": null,
            "object_position": null,
            "object_fit": null,
            "grid_auto_columns": null,
            "margin": null,
            "display": null,
            "left": null
          }
        },
        "b837ea32823f4f20bf12ca1410dd1094": {
          "model_module": "@jupyter-widgets/controls",
          "model_name": "DescriptionStyleModel",
          "state": {
            "_view_name": "StyleView",
            "_model_name": "DescriptionStyleModel",
            "description_width": "",
            "_view_module": "@jupyter-widgets/base",
            "_model_module_version": "1.5.0",
            "_view_count": null,
            "_view_module_version": "1.2.0",
            "_model_module": "@jupyter-widgets/controls"
          }
        },
        "11ba47347cef4f0bb5e6cf17f4155f23": {
          "model_module": "@jupyter-widgets/base",
          "model_name": "LayoutModel",
          "state": {
            "_view_name": "LayoutView",
            "grid_template_rows": null,
            "right": null,
            "justify_content": null,
            "_view_module": "@jupyter-widgets/base",
            "overflow": null,
            "_model_module_version": "1.2.0",
            "_view_count": null,
            "flex_flow": null,
            "width": null,
            "min_width": null,
            "border": null,
            "align_items": null,
            "bottom": null,
            "_model_module": "@jupyter-widgets/base",
            "top": null,
            "grid_column": null,
            "overflow_y": null,
            "overflow_x": null,
            "grid_auto_flow": null,
            "grid_area": null,
            "grid_template_columns": null,
            "flex": null,
            "_model_name": "LayoutModel",
            "justify_items": null,
            "grid_row": null,
            "max_height": null,
            "align_content": null,
            "visibility": null,
            "align_self": null,
            "height": null,
            "min_height": null,
            "padding": null,
            "grid_auto_rows": null,
            "grid_gap": null,
            "max_width": null,
            "order": null,
            "_view_module_version": "1.2.0",
            "grid_template_areas": null,
            "object_position": null,
            "object_fit": null,
            "grid_auto_columns": null,
            "margin": null,
            "display": null,
            "left": null
          }
        },
        "cd8b739c0f3a48faa8075cc58e2b491d": {
          "model_module": "@jupyter-widgets/controls",
          "model_name": "HBoxModel",
          "state": {
            "_view_name": "HBoxView",
            "_dom_classes": [],
            "_model_name": "HBoxModel",
            "_view_module": "@jupyter-widgets/controls",
            "_model_module_version": "1.5.0",
            "_view_count": null,
            "_view_module_version": "1.5.0",
            "box_style": "",
            "layout": "IPY_MODEL_b5676ed036264281895d3c4c51a2ed49",
            "_model_module": "@jupyter-widgets/controls",
            "children": [
              "IPY_MODEL_a0508b338a21470ba1ff0a383b211e9d",
              "IPY_MODEL_efae7787ff1c4259b719274e2d32c3c7"
            ]
          }
        },
        "b5676ed036264281895d3c4c51a2ed49": {
          "model_module": "@jupyter-widgets/base",
          "model_name": "LayoutModel",
          "state": {
            "_view_name": "LayoutView",
            "grid_template_rows": null,
            "right": null,
            "justify_content": null,
            "_view_module": "@jupyter-widgets/base",
            "overflow": null,
            "_model_module_version": "1.2.0",
            "_view_count": null,
            "flex_flow": null,
            "width": null,
            "min_width": null,
            "border": null,
            "align_items": null,
            "bottom": null,
            "_model_module": "@jupyter-widgets/base",
            "top": null,
            "grid_column": null,
            "overflow_y": null,
            "overflow_x": null,
            "grid_auto_flow": null,
            "grid_area": null,
            "grid_template_columns": null,
            "flex": null,
            "_model_name": "LayoutModel",
            "justify_items": null,
            "grid_row": null,
            "max_height": null,
            "align_content": null,
            "visibility": null,
            "align_self": null,
            "height": null,
            "min_height": null,
            "padding": null,
            "grid_auto_rows": null,
            "grid_gap": null,
            "max_width": null,
            "order": null,
            "_view_module_version": "1.2.0",
            "grid_template_areas": null,
            "object_position": null,
            "object_fit": null,
            "grid_auto_columns": null,
            "margin": null,
            "display": null,
            "left": null
          }
        },
        "a0508b338a21470ba1ff0a383b211e9d": {
          "model_module": "@jupyter-widgets/controls",
          "model_name": "FloatProgressModel",
          "state": {
            "_view_name": "ProgressView",
            "style": "IPY_MODEL_6ef197b04f4247608ad05aa21f37b56e",
            "_dom_classes": [],
            "description": "Downloading: 100%",
            "_model_name": "FloatProgressModel",
            "bar_style": "success",
            "max": 122,
            "_view_module": "@jupyter-widgets/controls",
            "_model_module_version": "1.5.0",
            "value": 122,
            "_view_count": null,
            "_view_module_version": "1.5.0",
            "orientation": "horizontal",
            "min": 0,
            "description_tooltip": null,
            "_model_module": "@jupyter-widgets/controls",
            "layout": "IPY_MODEL_2944538ee336451789624dd883b951d4"
          }
        },
        "efae7787ff1c4259b719274e2d32c3c7": {
          "model_module": "@jupyter-widgets/controls",
          "model_name": "HTMLModel",
          "state": {
            "_view_name": "HTMLView",
            "style": "IPY_MODEL_62a24f224da2473992eaaf6fa957d114",
            "_dom_classes": [],
            "description": "",
            "_model_name": "HTMLModel",
            "placeholder": "​",
            "_view_module": "@jupyter-widgets/controls",
            "_model_module_version": "1.5.0",
            "value": " 122/122 [00:00&lt;00:00, 1.22kB/s]",
            "_view_count": null,
            "_view_module_version": "1.5.0",
            "description_tooltip": null,
            "_model_module": "@jupyter-widgets/controls",
            "layout": "IPY_MODEL_3b9c534cee6d40d78e280545944d04ec"
          }
        },
        "6ef197b04f4247608ad05aa21f37b56e": {
          "model_module": "@jupyter-widgets/controls",
          "model_name": "ProgressStyleModel",
          "state": {
            "_view_name": "StyleView",
            "_model_name": "ProgressStyleModel",
            "description_width": "initial",
            "_view_module": "@jupyter-widgets/base",
            "_model_module_version": "1.5.0",
            "_view_count": null,
            "_view_module_version": "1.2.0",
            "bar_color": null,
            "_model_module": "@jupyter-widgets/controls"
          }
        },
        "2944538ee336451789624dd883b951d4": {
          "model_module": "@jupyter-widgets/base",
          "model_name": "LayoutModel",
          "state": {
            "_view_name": "LayoutView",
            "grid_template_rows": null,
            "right": null,
            "justify_content": null,
            "_view_module": "@jupyter-widgets/base",
            "overflow": null,
            "_model_module_version": "1.2.0",
            "_view_count": null,
            "flex_flow": null,
            "width": null,
            "min_width": null,
            "border": null,
            "align_items": null,
            "bottom": null,
            "_model_module": "@jupyter-widgets/base",
            "top": null,
            "grid_column": null,
            "overflow_y": null,
            "overflow_x": null,
            "grid_auto_flow": null,
            "grid_area": null,
            "grid_template_columns": null,
            "flex": null,
            "_model_name": "LayoutModel",
            "justify_items": null,
            "grid_row": null,
            "max_height": null,
            "align_content": null,
            "visibility": null,
            "align_self": null,
            "height": null,
            "min_height": null,
            "padding": null,
            "grid_auto_rows": null,
            "grid_gap": null,
            "max_width": null,
            "order": null,
            "_view_module_version": "1.2.0",
            "grid_template_areas": null,
            "object_position": null,
            "object_fit": null,
            "grid_auto_columns": null,
            "margin": null,
            "display": null,
            "left": null
          }
        },
        "62a24f224da2473992eaaf6fa957d114": {
          "model_module": "@jupyter-widgets/controls",
          "model_name": "DescriptionStyleModel",
          "state": {
            "_view_name": "StyleView",
            "_model_name": "DescriptionStyleModel",
            "description_width": "",
            "_view_module": "@jupyter-widgets/base",
            "_model_module_version": "1.5.0",
            "_view_count": null,
            "_view_module_version": "1.2.0",
            "_model_module": "@jupyter-widgets/controls"
          }
        },
        "3b9c534cee6d40d78e280545944d04ec": {
          "model_module": "@jupyter-widgets/base",
          "model_name": "LayoutModel",
          "state": {
            "_view_name": "LayoutView",
            "grid_template_rows": null,
            "right": null,
            "justify_content": null,
            "_view_module": "@jupyter-widgets/base",
            "overflow": null,
            "_model_module_version": "1.2.0",
            "_view_count": null,
            "flex_flow": null,
            "width": null,
            "min_width": null,
            "border": null,
            "align_items": null,
            "bottom": null,
            "_model_module": "@jupyter-widgets/base",
            "top": null,
            "grid_column": null,
            "overflow_y": null,
            "overflow_x": null,
            "grid_auto_flow": null,
            "grid_area": null,
            "grid_template_columns": null,
            "flex": null,
            "_model_name": "LayoutModel",
            "justify_items": null,
            "grid_row": null,
            "max_height": null,
            "align_content": null,
            "visibility": null,
            "align_self": null,
            "height": null,
            "min_height": null,
            "padding": null,
            "grid_auto_rows": null,
            "grid_gap": null,
            "max_width": null,
            "order": null,
            "_view_module_version": "1.2.0",
            "grid_template_areas": null,
            "object_position": null,
            "object_fit": null,
            "grid_auto_columns": null,
            "margin": null,
            "display": null,
            "left": null
          }
        },
        "f3bb20fb98f84fa3822159b7d1b46f44": {
          "model_module": "@jupyter-widgets/controls",
          "model_name": "HBoxModel",
          "state": {
            "_view_name": "HBoxView",
            "_dom_classes": [],
            "_model_name": "HBoxModel",
            "_view_module": "@jupyter-widgets/controls",
            "_model_module_version": "1.5.0",
            "_view_count": null,
            "_view_module_version": "1.5.0",
            "box_style": "",
            "layout": "IPY_MODEL_4f9ca829c3a74c0e920e6697bb03b4b0",
            "_model_module": "@jupyter-widgets/controls",
            "children": [
              "IPY_MODEL_b7eacb6aefcd4d23a552ef62e80fc5b5",
              "IPY_MODEL_8d3033abb25849509cde0cc069135be2"
            ]
          }
        },
        "4f9ca829c3a74c0e920e6697bb03b4b0": {
          "model_module": "@jupyter-widgets/base",
          "model_name": "LayoutModel",
          "state": {
            "_view_name": "LayoutView",
            "grid_template_rows": null,
            "right": null,
            "justify_content": null,
            "_view_module": "@jupyter-widgets/base",
            "overflow": null,
            "_model_module_version": "1.2.0",
            "_view_count": null,
            "flex_flow": null,
            "width": null,
            "min_width": null,
            "border": null,
            "align_items": null,
            "bottom": null,
            "_model_module": "@jupyter-widgets/base",
            "top": null,
            "grid_column": null,
            "overflow_y": null,
            "overflow_x": null,
            "grid_auto_flow": null,
            "grid_area": null,
            "grid_template_columns": null,
            "flex": null,
            "_model_name": "LayoutModel",
            "justify_items": null,
            "grid_row": null,
            "max_height": null,
            "align_content": null,
            "visibility": null,
            "align_self": null,
            "height": null,
            "min_height": null,
            "padding": null,
            "grid_auto_rows": null,
            "grid_gap": null,
            "max_width": null,
            "order": null,
            "_view_module_version": "1.2.0",
            "grid_template_areas": null,
            "object_position": null,
            "object_fit": null,
            "grid_auto_columns": null,
            "margin": null,
            "display": null,
            "left": null
          }
        },
        "b7eacb6aefcd4d23a552ef62e80fc5b5": {
          "model_module": "@jupyter-widgets/controls",
          "model_name": "FloatProgressModel",
          "state": {
            "_view_name": "ProgressView",
            "style": "IPY_MODEL_d62b0da3c0794f2db3ffa9a88cca3899",
            "_dom_classes": [],
            "description": "Downloading: 100%",
            "_model_name": "FloatProgressModel",
            "bar_style": "success",
            "max": 229,
            "_view_module": "@jupyter-widgets/controls",
            "_model_module_version": "1.5.0",
            "value": 229,
            "_view_count": null,
            "_view_module_version": "1.5.0",
            "orientation": "horizontal",
            "min": 0,
            "description_tooltip": null,
            "_model_module": "@jupyter-widgets/controls",
            "layout": "IPY_MODEL_ad3885a3da28486fb7ec0f066ffa45f1"
          }
        },
        "8d3033abb25849509cde0cc069135be2": {
          "model_module": "@jupyter-widgets/controls",
          "model_name": "HTMLModel",
          "state": {
            "_view_name": "HTMLView",
            "style": "IPY_MODEL_25eb54cb0dc74ed7979043e42ff8225b",
            "_dom_classes": [],
            "description": "",
            "_model_name": "HTMLModel",
            "placeholder": "​",
            "_view_module": "@jupyter-widgets/controls",
            "_model_module_version": "1.5.0",
            "value": " 229/229 [00:03&lt;00:00, 71.7B/s]",
            "_view_count": null,
            "_view_module_version": "1.5.0",
            "description_tooltip": null,
            "_model_module": "@jupyter-widgets/controls",
            "layout": "IPY_MODEL_acb4e62bebc346c5965ea7c43f0a45aa"
          }
        },
        "d62b0da3c0794f2db3ffa9a88cca3899": {
          "model_module": "@jupyter-widgets/controls",
          "model_name": "ProgressStyleModel",
          "state": {
            "_view_name": "StyleView",
            "_model_name": "ProgressStyleModel",
            "description_width": "initial",
            "_view_module": "@jupyter-widgets/base",
            "_model_module_version": "1.5.0",
            "_view_count": null,
            "_view_module_version": "1.2.0",
            "bar_color": null,
            "_model_module": "@jupyter-widgets/controls"
          }
        },
        "ad3885a3da28486fb7ec0f066ffa45f1": {
          "model_module": "@jupyter-widgets/base",
          "model_name": "LayoutModel",
          "state": {
            "_view_name": "LayoutView",
            "grid_template_rows": null,
            "right": null,
            "justify_content": null,
            "_view_module": "@jupyter-widgets/base",
            "overflow": null,
            "_model_module_version": "1.2.0",
            "_view_count": null,
            "flex_flow": null,
            "width": null,
            "min_width": null,
            "border": null,
            "align_items": null,
            "bottom": null,
            "_model_module": "@jupyter-widgets/base",
            "top": null,
            "grid_column": null,
            "overflow_y": null,
            "overflow_x": null,
            "grid_auto_flow": null,
            "grid_area": null,
            "grid_template_columns": null,
            "flex": null,
            "_model_name": "LayoutModel",
            "justify_items": null,
            "grid_row": null,
            "max_height": null,
            "align_content": null,
            "visibility": null,
            "align_self": null,
            "height": null,
            "min_height": null,
            "padding": null,
            "grid_auto_rows": null,
            "grid_gap": null,
            "max_width": null,
            "order": null,
            "_view_module_version": "1.2.0",
            "grid_template_areas": null,
            "object_position": null,
            "object_fit": null,
            "grid_auto_columns": null,
            "margin": null,
            "display": null,
            "left": null
          }
        },
        "25eb54cb0dc74ed7979043e42ff8225b": {
          "model_module": "@jupyter-widgets/controls",
          "model_name": "DescriptionStyleModel",
          "state": {
            "_view_name": "StyleView",
            "_model_name": "DescriptionStyleModel",
            "description_width": "",
            "_view_module": "@jupyter-widgets/base",
            "_model_module_version": "1.5.0",
            "_view_count": null,
            "_view_module_version": "1.2.0",
            "_model_module": "@jupyter-widgets/controls"
          }
        },
        "acb4e62bebc346c5965ea7c43f0a45aa": {
          "model_module": "@jupyter-widgets/base",
          "model_name": "LayoutModel",
          "state": {
            "_view_name": "LayoutView",
            "grid_template_rows": null,
            "right": null,
            "justify_content": null,
            "_view_module": "@jupyter-widgets/base",
            "overflow": null,
            "_model_module_version": "1.2.0",
            "_view_count": null,
            "flex_flow": null,
            "width": null,
            "min_width": null,
            "border": null,
            "align_items": null,
            "bottom": null,
            "_model_module": "@jupyter-widgets/base",
            "top": null,
            "grid_column": null,
            "overflow_y": null,
            "overflow_x": null,
            "grid_auto_flow": null,
            "grid_area": null,
            "grid_template_columns": null,
            "flex": null,
            "_model_name": "LayoutModel",
            "justify_items": null,
            "grid_row": null,
            "max_height": null,
            "align_content": null,
            "visibility": null,
            "align_self": null,
            "height": null,
            "min_height": null,
            "padding": null,
            "grid_auto_rows": null,
            "grid_gap": null,
            "max_width": null,
            "order": null,
            "_view_module_version": "1.2.0",
            "grid_template_areas": null,
            "object_position": null,
            "object_fit": null,
            "grid_auto_columns": null,
            "margin": null,
            "display": null,
            "left": null
          }
        },
        "7f141d70241141d3a7c660b96cfd6463": {
          "model_module": "@jupyter-widgets/controls",
          "model_name": "HBoxModel",
          "state": {
            "_view_name": "HBoxView",
            "_dom_classes": [],
            "_model_name": "HBoxModel",
            "_view_module": "@jupyter-widgets/controls",
            "_model_module_version": "1.5.0",
            "_view_count": null,
            "_view_module_version": "1.5.0",
            "box_style": "",
            "layout": "IPY_MODEL_253c4d0ded0d461b89935a78ba93d808",
            "_model_module": "@jupyter-widgets/controls",
            "children": [
              "IPY_MODEL_06a482a10ba64ae6a1de6333fd4d13eb",
              "IPY_MODEL_ab0faf2f15c041459089113768d5ad14"
            ]
          }
        },
        "253c4d0ded0d461b89935a78ba93d808": {
          "model_module": "@jupyter-widgets/base",
          "model_name": "LayoutModel",
          "state": {
            "_view_name": "LayoutView",
            "grid_template_rows": null,
            "right": null,
            "justify_content": null,
            "_view_module": "@jupyter-widgets/base",
            "overflow": null,
            "_model_module_version": "1.2.0",
            "_view_count": null,
            "flex_flow": null,
            "width": null,
            "min_width": null,
            "border": null,
            "align_items": null,
            "bottom": null,
            "_model_module": "@jupyter-widgets/base",
            "top": null,
            "grid_column": null,
            "overflow_y": null,
            "overflow_x": null,
            "grid_auto_flow": null,
            "grid_area": null,
            "grid_template_columns": null,
            "flex": null,
            "_model_name": "LayoutModel",
            "justify_items": null,
            "grid_row": null,
            "max_height": null,
            "align_content": null,
            "visibility": null,
            "align_self": null,
            "height": null,
            "min_height": null,
            "padding": null,
            "grid_auto_rows": null,
            "grid_gap": null,
            "max_width": null,
            "order": null,
            "_view_module_version": "1.2.0",
            "grid_template_areas": null,
            "object_position": null,
            "object_fit": null,
            "grid_auto_columns": null,
            "margin": null,
            "display": null,
            "left": null
          }
        },
        "06a482a10ba64ae6a1de6333fd4d13eb": {
          "model_module": "@jupyter-widgets/controls",
          "model_name": "FloatProgressModel",
          "state": {
            "_view_name": "ProgressView",
            "style": "IPY_MODEL_1634edb9c89e423180fe76fcb3a2d4b1",
            "_dom_classes": [],
            "description": "Downloading: 100%",
            "_model_name": "FloatProgressModel",
            "bar_style": "success",
            "max": 90895153,
            "_view_module": "@jupyter-widgets/controls",
            "_model_module_version": "1.5.0",
            "value": 90895153,
            "_view_count": null,
            "_view_module_version": "1.5.0",
            "orientation": "horizontal",
            "min": 0,
            "description_tooltip": null,
            "_model_module": "@jupyter-widgets/controls",
            "layout": "IPY_MODEL_e24e76c634694be196be2ec1e1b37d17"
          }
        },
        "ab0faf2f15c041459089113768d5ad14": {
          "model_module": "@jupyter-widgets/controls",
          "model_name": "HTMLModel",
          "state": {
            "_view_name": "HTMLView",
            "style": "IPY_MODEL_ea2a965d13114bafa803bec3949f0986",
            "_dom_classes": [],
            "description": "",
            "_model_name": "HTMLModel",
            "placeholder": "​",
            "_view_module": "@jupyter-widgets/controls",
            "_model_module_version": "1.5.0",
            "value": " 90.9M/90.9M [00:01&lt;00:00, 48.4MB/s]",
            "_view_count": null,
            "_view_module_version": "1.5.0",
            "description_tooltip": null,
            "_model_module": "@jupyter-widgets/controls",
            "layout": "IPY_MODEL_c6010e0a97ca458d92c7834a3c48d294"
          }
        },
        "1634edb9c89e423180fe76fcb3a2d4b1": {
          "model_module": "@jupyter-widgets/controls",
          "model_name": "ProgressStyleModel",
          "state": {
            "_view_name": "StyleView",
            "_model_name": "ProgressStyleModel",
            "description_width": "initial",
            "_view_module": "@jupyter-widgets/base",
            "_model_module_version": "1.5.0",
            "_view_count": null,
            "_view_module_version": "1.2.0",
            "bar_color": null,
            "_model_module": "@jupyter-widgets/controls"
          }
        },
        "e24e76c634694be196be2ec1e1b37d17": {
          "model_module": "@jupyter-widgets/base",
          "model_name": "LayoutModel",
          "state": {
            "_view_name": "LayoutView",
            "grid_template_rows": null,
            "right": null,
            "justify_content": null,
            "_view_module": "@jupyter-widgets/base",
            "overflow": null,
            "_model_module_version": "1.2.0",
            "_view_count": null,
            "flex_flow": null,
            "width": null,
            "min_width": null,
            "border": null,
            "align_items": null,
            "bottom": null,
            "_model_module": "@jupyter-widgets/base",
            "top": null,
            "grid_column": null,
            "overflow_y": null,
            "overflow_x": null,
            "grid_auto_flow": null,
            "grid_area": null,
            "grid_template_columns": null,
            "flex": null,
            "_model_name": "LayoutModel",
            "justify_items": null,
            "grid_row": null,
            "max_height": null,
            "align_content": null,
            "visibility": null,
            "align_self": null,
            "height": null,
            "min_height": null,
            "padding": null,
            "grid_auto_rows": null,
            "grid_gap": null,
            "max_width": null,
            "order": null,
            "_view_module_version": "1.2.0",
            "grid_template_areas": null,
            "object_position": null,
            "object_fit": null,
            "grid_auto_columns": null,
            "margin": null,
            "display": null,
            "left": null
          }
        },
        "ea2a965d13114bafa803bec3949f0986": {
          "model_module": "@jupyter-widgets/controls",
          "model_name": "DescriptionStyleModel",
          "state": {
            "_view_name": "StyleView",
            "_model_name": "DescriptionStyleModel",
            "description_width": "",
            "_view_module": "@jupyter-widgets/base",
            "_model_module_version": "1.5.0",
            "_view_count": null,
            "_view_module_version": "1.2.0",
            "_model_module": "@jupyter-widgets/controls"
          }
        },
        "c6010e0a97ca458d92c7834a3c48d294": {
          "model_module": "@jupyter-widgets/base",
          "model_name": "LayoutModel",
          "state": {
            "_view_name": "LayoutView",
            "grid_template_rows": null,
            "right": null,
            "justify_content": null,
            "_view_module": "@jupyter-widgets/base",
            "overflow": null,
            "_model_module_version": "1.2.0",
            "_view_count": null,
            "flex_flow": null,
            "width": null,
            "min_width": null,
            "border": null,
            "align_items": null,
            "bottom": null,
            "_model_module": "@jupyter-widgets/base",
            "top": null,
            "grid_column": null,
            "overflow_y": null,
            "overflow_x": null,
            "grid_auto_flow": null,
            "grid_area": null,
            "grid_template_columns": null,
            "flex": null,
            "_model_name": "LayoutModel",
            "justify_items": null,
            "grid_row": null,
            "max_height": null,
            "align_content": null,
            "visibility": null,
            "align_self": null,
            "height": null,
            "min_height": null,
            "padding": null,
            "grid_auto_rows": null,
            "grid_gap": null,
            "max_width": null,
            "order": null,
            "_view_module_version": "1.2.0",
            "grid_template_areas": null,
            "object_position": null,
            "object_fit": null,
            "grid_auto_columns": null,
            "margin": null,
            "display": null,
            "left": null
          }
        },
        "f7a8aedbf2174d48bb3593bfac6594c0": {
          "model_module": "@jupyter-widgets/controls",
          "model_name": "HBoxModel",
          "state": {
            "_view_name": "HBoxView",
            "_dom_classes": [],
            "_model_name": "HBoxModel",
            "_view_module": "@jupyter-widgets/controls",
            "_model_module_version": "1.5.0",
            "_view_count": null,
            "_view_module_version": "1.5.0",
            "box_style": "",
            "layout": "IPY_MODEL_b8e0aedfab9241a595984acd25be106b",
            "_model_module": "@jupyter-widgets/controls",
            "children": [
              "IPY_MODEL_9ab4ed9468a74a00b560cf9429dd07d1",
              "IPY_MODEL_f1d0f3cdd6bd48c99692777bcf8d840e"
            ]
          }
        },
        "b8e0aedfab9241a595984acd25be106b": {
          "model_module": "@jupyter-widgets/base",
          "model_name": "LayoutModel",
          "state": {
            "_view_name": "LayoutView",
            "grid_template_rows": null,
            "right": null,
            "justify_content": null,
            "_view_module": "@jupyter-widgets/base",
            "overflow": null,
            "_model_module_version": "1.2.0",
            "_view_count": null,
            "flex_flow": null,
            "width": null,
            "min_width": null,
            "border": null,
            "align_items": null,
            "bottom": null,
            "_model_module": "@jupyter-widgets/base",
            "top": null,
            "grid_column": null,
            "overflow_y": null,
            "overflow_x": null,
            "grid_auto_flow": null,
            "grid_area": null,
            "grid_template_columns": null,
            "flex": null,
            "_model_name": "LayoutModel",
            "justify_items": null,
            "grid_row": null,
            "max_height": null,
            "align_content": null,
            "visibility": null,
            "align_self": null,
            "height": null,
            "min_height": null,
            "padding": null,
            "grid_auto_rows": null,
            "grid_gap": null,
            "max_width": null,
            "order": null,
            "_view_module_version": "1.2.0",
            "grid_template_areas": null,
            "object_position": null,
            "object_fit": null,
            "grid_auto_columns": null,
            "margin": null,
            "display": null,
            "left": null
          }
        },
        "9ab4ed9468a74a00b560cf9429dd07d1": {
          "model_module": "@jupyter-widgets/controls",
          "model_name": "FloatProgressModel",
          "state": {
            "_view_name": "ProgressView",
            "style": "IPY_MODEL_eb9e0fa86143457691c7c9e1c391323a",
            "_dom_classes": [],
            "description": "Downloading: 100%",
            "_model_name": "FloatProgressModel",
            "bar_style": "success",
            "max": 53,
            "_view_module": "@jupyter-widgets/controls",
            "_model_module_version": "1.5.0",
            "value": 53,
            "_view_count": null,
            "_view_module_version": "1.5.0",
            "orientation": "horizontal",
            "min": 0,
            "description_tooltip": null,
            "_model_module": "@jupyter-widgets/controls",
            "layout": "IPY_MODEL_8a18e8466c5442ce82b539bf6cff9442"
          }
        },
        "f1d0f3cdd6bd48c99692777bcf8d840e": {
          "model_module": "@jupyter-widgets/controls",
          "model_name": "HTMLModel",
          "state": {
            "_view_name": "HTMLView",
            "style": "IPY_MODEL_741843a3054b40b3b6c130f9b0384c6b",
            "_dom_classes": [],
            "description": "",
            "_model_name": "HTMLModel",
            "placeholder": "​",
            "_view_module": "@jupyter-widgets/controls",
            "_model_module_version": "1.5.0",
            "value": " 53.0/53.0 [00:01&lt;00:00, 47.0B/s]",
            "_view_count": null,
            "_view_module_version": "1.5.0",
            "description_tooltip": null,
            "_model_module": "@jupyter-widgets/controls",
            "layout": "IPY_MODEL_16e2f696e32d4dd8a3c4fbfdcb9545aa"
          }
        },
        "eb9e0fa86143457691c7c9e1c391323a": {
          "model_module": "@jupyter-widgets/controls",
          "model_name": "ProgressStyleModel",
          "state": {
            "_view_name": "StyleView",
            "_model_name": "ProgressStyleModel",
            "description_width": "initial",
            "_view_module": "@jupyter-widgets/base",
            "_model_module_version": "1.5.0",
            "_view_count": null,
            "_view_module_version": "1.2.0",
            "bar_color": null,
            "_model_module": "@jupyter-widgets/controls"
          }
        },
        "8a18e8466c5442ce82b539bf6cff9442": {
          "model_module": "@jupyter-widgets/base",
          "model_name": "LayoutModel",
          "state": {
            "_view_name": "LayoutView",
            "grid_template_rows": null,
            "right": null,
            "justify_content": null,
            "_view_module": "@jupyter-widgets/base",
            "overflow": null,
            "_model_module_version": "1.2.0",
            "_view_count": null,
            "flex_flow": null,
            "width": null,
            "min_width": null,
            "border": null,
            "align_items": null,
            "bottom": null,
            "_model_module": "@jupyter-widgets/base",
            "top": null,
            "grid_column": null,
            "overflow_y": null,
            "overflow_x": null,
            "grid_auto_flow": null,
            "grid_area": null,
            "grid_template_columns": null,
            "flex": null,
            "_model_name": "LayoutModel",
            "justify_items": null,
            "grid_row": null,
            "max_height": null,
            "align_content": null,
            "visibility": null,
            "align_self": null,
            "height": null,
            "min_height": null,
            "padding": null,
            "grid_auto_rows": null,
            "grid_gap": null,
            "max_width": null,
            "order": null,
            "_view_module_version": "1.2.0",
            "grid_template_areas": null,
            "object_position": null,
            "object_fit": null,
            "grid_auto_columns": null,
            "margin": null,
            "display": null,
            "left": null
          }
        },
        "741843a3054b40b3b6c130f9b0384c6b": {
          "model_module": "@jupyter-widgets/controls",
          "model_name": "DescriptionStyleModel",
          "state": {
            "_view_name": "StyleView",
            "_model_name": "DescriptionStyleModel",
            "description_width": "",
            "_view_module": "@jupyter-widgets/base",
            "_model_module_version": "1.5.0",
            "_view_count": null,
            "_view_module_version": "1.2.0",
            "_model_module": "@jupyter-widgets/controls"
          }
        },
        "16e2f696e32d4dd8a3c4fbfdcb9545aa": {
          "model_module": "@jupyter-widgets/base",
          "model_name": "LayoutModel",
          "state": {
            "_view_name": "LayoutView",
            "grid_template_rows": null,
            "right": null,
            "justify_content": null,
            "_view_module": "@jupyter-widgets/base",
            "overflow": null,
            "_model_module_version": "1.2.0",
            "_view_count": null,
            "flex_flow": null,
            "width": null,
            "min_width": null,
            "border": null,
            "align_items": null,
            "bottom": null,
            "_model_module": "@jupyter-widgets/base",
            "top": null,
            "grid_column": null,
            "overflow_y": null,
            "overflow_x": null,
            "grid_auto_flow": null,
            "grid_area": null,
            "grid_template_columns": null,
            "flex": null,
            "_model_name": "LayoutModel",
            "justify_items": null,
            "grid_row": null,
            "max_height": null,
            "align_content": null,
            "visibility": null,
            "align_self": null,
            "height": null,
            "min_height": null,
            "padding": null,
            "grid_auto_rows": null,
            "grid_gap": null,
            "max_width": null,
            "order": null,
            "_view_module_version": "1.2.0",
            "grid_template_areas": null,
            "object_position": null,
            "object_fit": null,
            "grid_auto_columns": null,
            "margin": null,
            "display": null,
            "left": null
          }
        },
        "0979164bf01f4fd58e877682dbaaffc9": {
          "model_module": "@jupyter-widgets/controls",
          "model_name": "HBoxModel",
          "state": {
            "_view_name": "HBoxView",
            "_dom_classes": [],
            "_model_name": "HBoxModel",
            "_view_module": "@jupyter-widgets/controls",
            "_model_module_version": "1.5.0",
            "_view_count": null,
            "_view_module_version": "1.5.0",
            "box_style": "",
            "layout": "IPY_MODEL_0444905a9466494c813e160c126a455e",
            "_model_module": "@jupyter-widgets/controls",
            "children": [
              "IPY_MODEL_4d0bc852b8074fef9edf0f0a1b0e9289",
              "IPY_MODEL_aa427f05852344b499c695fc78c33d36"
            ]
          }
        },
        "0444905a9466494c813e160c126a455e": {
          "model_module": "@jupyter-widgets/base",
          "model_name": "LayoutModel",
          "state": {
            "_view_name": "LayoutView",
            "grid_template_rows": null,
            "right": null,
            "justify_content": null,
            "_view_module": "@jupyter-widgets/base",
            "overflow": null,
            "_model_module_version": "1.2.0",
            "_view_count": null,
            "flex_flow": null,
            "width": null,
            "min_width": null,
            "border": null,
            "align_items": null,
            "bottom": null,
            "_model_module": "@jupyter-widgets/base",
            "top": null,
            "grid_column": null,
            "overflow_y": null,
            "overflow_x": null,
            "grid_auto_flow": null,
            "grid_area": null,
            "grid_template_columns": null,
            "flex": null,
            "_model_name": "LayoutModel",
            "justify_items": null,
            "grid_row": null,
            "max_height": null,
            "align_content": null,
            "visibility": null,
            "align_self": null,
            "height": null,
            "min_height": null,
            "padding": null,
            "grid_auto_rows": null,
            "grid_gap": null,
            "max_width": null,
            "order": null,
            "_view_module_version": "1.2.0",
            "grid_template_areas": null,
            "object_position": null,
            "object_fit": null,
            "grid_auto_columns": null,
            "margin": null,
            "display": null,
            "left": null
          }
        },
        "4d0bc852b8074fef9edf0f0a1b0e9289": {
          "model_module": "@jupyter-widgets/controls",
          "model_name": "FloatProgressModel",
          "state": {
            "_view_name": "ProgressView",
            "style": "IPY_MODEL_69f84cd05769432c97d7e85198755bf0",
            "_dom_classes": [],
            "description": "Downloading: 100%",
            "_model_name": "FloatProgressModel",
            "bar_style": "success",
            "max": 112,
            "_view_module": "@jupyter-widgets/controls",
            "_model_module_version": "1.5.0",
            "value": 112,
            "_view_count": null,
            "_view_module_version": "1.5.0",
            "orientation": "horizontal",
            "min": 0,
            "description_tooltip": null,
            "_model_module": "@jupyter-widgets/controls",
            "layout": "IPY_MODEL_4be014e4adac44cd804dfa8e478c8026"
          }
        },
        "aa427f05852344b499c695fc78c33d36": {
          "model_module": "@jupyter-widgets/controls",
          "model_name": "HTMLModel",
          "state": {
            "_view_name": "HTMLView",
            "style": "IPY_MODEL_5b04dd6268a44e0ab88d0eb42353cd7e",
            "_dom_classes": [],
            "description": "",
            "_model_name": "HTMLModel",
            "placeholder": "​",
            "_view_module": "@jupyter-widgets/controls",
            "_model_module_version": "1.5.0",
            "value": " 112/112 [00:00&lt;00:00, 515B/s]",
            "_view_count": null,
            "_view_module_version": "1.5.0",
            "description_tooltip": null,
            "_model_module": "@jupyter-widgets/controls",
            "layout": "IPY_MODEL_c8e8c464d8fa4ea6bf108a587b9f1c49"
          }
        },
        "69f84cd05769432c97d7e85198755bf0": {
          "model_module": "@jupyter-widgets/controls",
          "model_name": "ProgressStyleModel",
          "state": {
            "_view_name": "StyleView",
            "_model_name": "ProgressStyleModel",
            "description_width": "initial",
            "_view_module": "@jupyter-widgets/base",
            "_model_module_version": "1.5.0",
            "_view_count": null,
            "_view_module_version": "1.2.0",
            "bar_color": null,
            "_model_module": "@jupyter-widgets/controls"
          }
        },
        "4be014e4adac44cd804dfa8e478c8026": {
          "model_module": "@jupyter-widgets/base",
          "model_name": "LayoutModel",
          "state": {
            "_view_name": "LayoutView",
            "grid_template_rows": null,
            "right": null,
            "justify_content": null,
            "_view_module": "@jupyter-widgets/base",
            "overflow": null,
            "_model_module_version": "1.2.0",
            "_view_count": null,
            "flex_flow": null,
            "width": null,
            "min_width": null,
            "border": null,
            "align_items": null,
            "bottom": null,
            "_model_module": "@jupyter-widgets/base",
            "top": null,
            "grid_column": null,
            "overflow_y": null,
            "overflow_x": null,
            "grid_auto_flow": null,
            "grid_area": null,
            "grid_template_columns": null,
            "flex": null,
            "_model_name": "LayoutModel",
            "justify_items": null,
            "grid_row": null,
            "max_height": null,
            "align_content": null,
            "visibility": null,
            "align_self": null,
            "height": null,
            "min_height": null,
            "padding": null,
            "grid_auto_rows": null,
            "grid_gap": null,
            "max_width": null,
            "order": null,
            "_view_module_version": "1.2.0",
            "grid_template_areas": null,
            "object_position": null,
            "object_fit": null,
            "grid_auto_columns": null,
            "margin": null,
            "display": null,
            "left": null
          }
        },
        "5b04dd6268a44e0ab88d0eb42353cd7e": {
          "model_module": "@jupyter-widgets/controls",
          "model_name": "DescriptionStyleModel",
          "state": {
            "_view_name": "StyleView",
            "_model_name": "DescriptionStyleModel",
            "description_width": "",
            "_view_module": "@jupyter-widgets/base",
            "_model_module_version": "1.5.0",
            "_view_count": null,
            "_view_module_version": "1.2.0",
            "_model_module": "@jupyter-widgets/controls"
          }
        },
        "c8e8c464d8fa4ea6bf108a587b9f1c49": {
          "model_module": "@jupyter-widgets/base",
          "model_name": "LayoutModel",
          "state": {
            "_view_name": "LayoutView",
            "grid_template_rows": null,
            "right": null,
            "justify_content": null,
            "_view_module": "@jupyter-widgets/base",
            "overflow": null,
            "_model_module_version": "1.2.0",
            "_view_count": null,
            "flex_flow": null,
            "width": null,
            "min_width": null,
            "border": null,
            "align_items": null,
            "bottom": null,
            "_model_module": "@jupyter-widgets/base",
            "top": null,
            "grid_column": null,
            "overflow_y": null,
            "overflow_x": null,
            "grid_auto_flow": null,
            "grid_area": null,
            "grid_template_columns": null,
            "flex": null,
            "_model_name": "LayoutModel",
            "justify_items": null,
            "grid_row": null,
            "max_height": null,
            "align_content": null,
            "visibility": null,
            "align_self": null,
            "height": null,
            "min_height": null,
            "padding": null,
            "grid_auto_rows": null,
            "grid_gap": null,
            "max_width": null,
            "order": null,
            "_view_module_version": "1.2.0",
            "grid_template_areas": null,
            "object_position": null,
            "object_fit": null,
            "grid_auto_columns": null,
            "margin": null,
            "display": null,
            "left": null
          }
        },
        "8e9a88119b2e414ca471a48e21fabd22": {
          "model_module": "@jupyter-widgets/controls",
          "model_name": "HBoxModel",
          "state": {
            "_view_name": "HBoxView",
            "_dom_classes": [],
            "_model_name": "HBoxModel",
            "_view_module": "@jupyter-widgets/controls",
            "_model_module_version": "1.5.0",
            "_view_count": null,
            "_view_module_version": "1.5.0",
            "box_style": "",
            "layout": "IPY_MODEL_ef29a503f0514e168fc3739aec62517a",
            "_model_module": "@jupyter-widgets/controls",
            "children": [
              "IPY_MODEL_34cde9d171e7469caa3de1e763d118e5",
              "IPY_MODEL_050cd85d73094ff68a4104d4b233515e"
            ]
          }
        },
        "ef29a503f0514e168fc3739aec62517a": {
          "model_module": "@jupyter-widgets/base",
          "model_name": "LayoutModel",
          "state": {
            "_view_name": "LayoutView",
            "grid_template_rows": null,
            "right": null,
            "justify_content": null,
            "_view_module": "@jupyter-widgets/base",
            "overflow": null,
            "_model_module_version": "1.2.0",
            "_view_count": null,
            "flex_flow": null,
            "width": null,
            "min_width": null,
            "border": null,
            "align_items": null,
            "bottom": null,
            "_model_module": "@jupyter-widgets/base",
            "top": null,
            "grid_column": null,
            "overflow_y": null,
            "overflow_x": null,
            "grid_auto_flow": null,
            "grid_area": null,
            "grid_template_columns": null,
            "flex": null,
            "_model_name": "LayoutModel",
            "justify_items": null,
            "grid_row": null,
            "max_height": null,
            "align_content": null,
            "visibility": null,
            "align_self": null,
            "height": null,
            "min_height": null,
            "padding": null,
            "grid_auto_rows": null,
            "grid_gap": null,
            "max_width": null,
            "order": null,
            "_view_module_version": "1.2.0",
            "grid_template_areas": null,
            "object_position": null,
            "object_fit": null,
            "grid_auto_columns": null,
            "margin": null,
            "display": null,
            "left": null
          }
        },
        "34cde9d171e7469caa3de1e763d118e5": {
          "model_module": "@jupyter-widgets/controls",
          "model_name": "FloatProgressModel",
          "state": {
            "_view_name": "ProgressView",
            "style": "IPY_MODEL_de917e87259446f9b6c3c9e3e59d6273",
            "_dom_classes": [],
            "description": "Downloading: 100%",
            "_model_name": "FloatProgressModel",
            "bar_style": "success",
            "max": 466081,
            "_view_module": "@jupyter-widgets/controls",
            "_model_module_version": "1.5.0",
            "value": 466081,
            "_view_count": null,
            "_view_module_version": "1.5.0",
            "orientation": "horizontal",
            "min": 0,
            "description_tooltip": null,
            "_model_module": "@jupyter-widgets/controls",
            "layout": "IPY_MODEL_3adc8e2b9bf84e7fae49ddbf32e9396a"
          }
        },
        "050cd85d73094ff68a4104d4b233515e": {
          "model_module": "@jupyter-widgets/controls",
          "model_name": "HTMLModel",
          "state": {
            "_view_name": "HTMLView",
            "style": "IPY_MODEL_e6e64a4b7c8f40078999a54eb6aaa946",
            "_dom_classes": [],
            "description": "",
            "_model_name": "HTMLModel",
            "placeholder": "​",
            "_view_module": "@jupyter-widgets/controls",
            "_model_module_version": "1.5.0",
            "value": " 466k/466k [00:00&lt;00:00, 4.08MB/s]",
            "_view_count": null,
            "_view_module_version": "1.5.0",
            "description_tooltip": null,
            "_model_module": "@jupyter-widgets/controls",
            "layout": "IPY_MODEL_c4059ebb5508405a8627a5ac8990385d"
          }
        },
        "de917e87259446f9b6c3c9e3e59d6273": {
          "model_module": "@jupyter-widgets/controls",
          "model_name": "ProgressStyleModel",
          "state": {
            "_view_name": "StyleView",
            "_model_name": "ProgressStyleModel",
            "description_width": "initial",
            "_view_module": "@jupyter-widgets/base",
            "_model_module_version": "1.5.0",
            "_view_count": null,
            "_view_module_version": "1.2.0",
            "bar_color": null,
            "_model_module": "@jupyter-widgets/controls"
          }
        },
        "3adc8e2b9bf84e7fae49ddbf32e9396a": {
          "model_module": "@jupyter-widgets/base",
          "model_name": "LayoutModel",
          "state": {
            "_view_name": "LayoutView",
            "grid_template_rows": null,
            "right": null,
            "justify_content": null,
            "_view_module": "@jupyter-widgets/base",
            "overflow": null,
            "_model_module_version": "1.2.0",
            "_view_count": null,
            "flex_flow": null,
            "width": null,
            "min_width": null,
            "border": null,
            "align_items": null,
            "bottom": null,
            "_model_module": "@jupyter-widgets/base",
            "top": null,
            "grid_column": null,
            "overflow_y": null,
            "overflow_x": null,
            "grid_auto_flow": null,
            "grid_area": null,
            "grid_template_columns": null,
            "flex": null,
            "_model_name": "LayoutModel",
            "justify_items": null,
            "grid_row": null,
            "max_height": null,
            "align_content": null,
            "visibility": null,
            "align_self": null,
            "height": null,
            "min_height": null,
            "padding": null,
            "grid_auto_rows": null,
            "grid_gap": null,
            "max_width": null,
            "order": null,
            "_view_module_version": "1.2.0",
            "grid_template_areas": null,
            "object_position": null,
            "object_fit": null,
            "grid_auto_columns": null,
            "margin": null,
            "display": null,
            "left": null
          }
        },
        "e6e64a4b7c8f40078999a54eb6aaa946": {
          "model_module": "@jupyter-widgets/controls",
          "model_name": "DescriptionStyleModel",
          "state": {
            "_view_name": "StyleView",
            "_model_name": "DescriptionStyleModel",
            "description_width": "",
            "_view_module": "@jupyter-widgets/base",
            "_model_module_version": "1.5.0",
            "_view_count": null,
            "_view_module_version": "1.2.0",
            "_model_module": "@jupyter-widgets/controls"
          }
        },
        "c4059ebb5508405a8627a5ac8990385d": {
          "model_module": "@jupyter-widgets/base",
          "model_name": "LayoutModel",
          "state": {
            "_view_name": "LayoutView",
            "grid_template_rows": null,
            "right": null,
            "justify_content": null,
            "_view_module": "@jupyter-widgets/base",
            "overflow": null,
            "_model_module_version": "1.2.0",
            "_view_count": null,
            "flex_flow": null,
            "width": null,
            "min_width": null,
            "border": null,
            "align_items": null,
            "bottom": null,
            "_model_module": "@jupyter-widgets/base",
            "top": null,
            "grid_column": null,
            "overflow_y": null,
            "overflow_x": null,
            "grid_auto_flow": null,
            "grid_area": null,
            "grid_template_columns": null,
            "flex": null,
            "_model_name": "LayoutModel",
            "justify_items": null,
            "grid_row": null,
            "max_height": null,
            "align_content": null,
            "visibility": null,
            "align_self": null,
            "height": null,
            "min_height": null,
            "padding": null,
            "grid_auto_rows": null,
            "grid_gap": null,
            "max_width": null,
            "order": null,
            "_view_module_version": "1.2.0",
            "grid_template_areas": null,
            "object_position": null,
            "object_fit": null,
            "grid_auto_columns": null,
            "margin": null,
            "display": null,
            "left": null
          }
        },
        "b2222689d766470e8f94584b33d3f5f6": {
          "model_module": "@jupyter-widgets/controls",
          "model_name": "HBoxModel",
          "state": {
            "_view_name": "HBoxView",
            "_dom_classes": [],
            "_model_name": "HBoxModel",
            "_view_module": "@jupyter-widgets/controls",
            "_model_module_version": "1.5.0",
            "_view_count": null,
            "_view_module_version": "1.5.0",
            "box_style": "",
            "layout": "IPY_MODEL_f946e4549ed74722b0553b6322be0db3",
            "_model_module": "@jupyter-widgets/controls",
            "children": [
              "IPY_MODEL_04e6dc83a89b4aa08f6c05ab30cf7621",
              "IPY_MODEL_2801122ed0b044089745f71a48781a0d"
            ]
          }
        },
        "f946e4549ed74722b0553b6322be0db3": {
          "model_module": "@jupyter-widgets/base",
          "model_name": "LayoutModel",
          "state": {
            "_view_name": "LayoutView",
            "grid_template_rows": null,
            "right": null,
            "justify_content": null,
            "_view_module": "@jupyter-widgets/base",
            "overflow": null,
            "_model_module_version": "1.2.0",
            "_view_count": null,
            "flex_flow": null,
            "width": null,
            "min_width": null,
            "border": null,
            "align_items": null,
            "bottom": null,
            "_model_module": "@jupyter-widgets/base",
            "top": null,
            "grid_column": null,
            "overflow_y": null,
            "overflow_x": null,
            "grid_auto_flow": null,
            "grid_area": null,
            "grid_template_columns": null,
            "flex": null,
            "_model_name": "LayoutModel",
            "justify_items": null,
            "grid_row": null,
            "max_height": null,
            "align_content": null,
            "visibility": null,
            "align_self": null,
            "height": null,
            "min_height": null,
            "padding": null,
            "grid_auto_rows": null,
            "grid_gap": null,
            "max_width": null,
            "order": null,
            "_view_module_version": "1.2.0",
            "grid_template_areas": null,
            "object_position": null,
            "object_fit": null,
            "grid_auto_columns": null,
            "margin": null,
            "display": null,
            "left": null
          }
        },
        "04e6dc83a89b4aa08f6c05ab30cf7621": {
          "model_module": "@jupyter-widgets/controls",
          "model_name": "FloatProgressModel",
          "state": {
            "_view_name": "ProgressView",
            "style": "IPY_MODEL_629c67d963c0403e80d1258387ce43fe",
            "_dom_classes": [],
            "description": "Downloading: 100%",
            "_model_name": "FloatProgressModel",
            "bar_style": "success",
            "max": 516,
            "_view_module": "@jupyter-widgets/controls",
            "_model_module_version": "1.5.0",
            "value": 516,
            "_view_count": null,
            "_view_module_version": "1.5.0",
            "orientation": "horizontal",
            "min": 0,
            "description_tooltip": null,
            "_model_module": "@jupyter-widgets/controls",
            "layout": "IPY_MODEL_4b5781d8c6cf4648ac7a0dbed529ff57"
          }
        },
        "2801122ed0b044089745f71a48781a0d": {
          "model_module": "@jupyter-widgets/controls",
          "model_name": "HTMLModel",
          "state": {
            "_view_name": "HTMLView",
            "style": "IPY_MODEL_2fef9b4953474a2d81167cf00ca5dd3b",
            "_dom_classes": [],
            "description": "",
            "_model_name": "HTMLModel",
            "placeholder": "​",
            "_view_module": "@jupyter-widgets/controls",
            "_model_module_version": "1.5.0",
            "value": " 516/516 [00:00&lt;00:00, 633B/s]",
            "_view_count": null,
            "_view_module_version": "1.5.0",
            "description_tooltip": null,
            "_model_module": "@jupyter-widgets/controls",
            "layout": "IPY_MODEL_e521559fbbfa41128980ec9317d57f17"
          }
        },
        "629c67d963c0403e80d1258387ce43fe": {
          "model_module": "@jupyter-widgets/controls",
          "model_name": "ProgressStyleModel",
          "state": {
            "_view_name": "StyleView",
            "_model_name": "ProgressStyleModel",
            "description_width": "initial",
            "_view_module": "@jupyter-widgets/base",
            "_model_module_version": "1.5.0",
            "_view_count": null,
            "_view_module_version": "1.2.0",
            "bar_color": null,
            "_model_module": "@jupyter-widgets/controls"
          }
        },
        "4b5781d8c6cf4648ac7a0dbed529ff57": {
          "model_module": "@jupyter-widgets/base",
          "model_name": "LayoutModel",
          "state": {
            "_view_name": "LayoutView",
            "grid_template_rows": null,
            "right": null,
            "justify_content": null,
            "_view_module": "@jupyter-widgets/base",
            "overflow": null,
            "_model_module_version": "1.2.0",
            "_view_count": null,
            "flex_flow": null,
            "width": null,
            "min_width": null,
            "border": null,
            "align_items": null,
            "bottom": null,
            "_model_module": "@jupyter-widgets/base",
            "top": null,
            "grid_column": null,
            "overflow_y": null,
            "overflow_x": null,
            "grid_auto_flow": null,
            "grid_area": null,
            "grid_template_columns": null,
            "flex": null,
            "_model_name": "LayoutModel",
            "justify_items": null,
            "grid_row": null,
            "max_height": null,
            "align_content": null,
            "visibility": null,
            "align_self": null,
            "height": null,
            "min_height": null,
            "padding": null,
            "grid_auto_rows": null,
            "grid_gap": null,
            "max_width": null,
            "order": null,
            "_view_module_version": "1.2.0",
            "grid_template_areas": null,
            "object_position": null,
            "object_fit": null,
            "grid_auto_columns": null,
            "margin": null,
            "display": null,
            "left": null
          }
        },
        "2fef9b4953474a2d81167cf00ca5dd3b": {
          "model_module": "@jupyter-widgets/controls",
          "model_name": "DescriptionStyleModel",
          "state": {
            "_view_name": "StyleView",
            "_model_name": "DescriptionStyleModel",
            "description_width": "",
            "_view_module": "@jupyter-widgets/base",
            "_model_module_version": "1.5.0",
            "_view_count": null,
            "_view_module_version": "1.2.0",
            "_model_module": "@jupyter-widgets/controls"
          }
        },
        "e521559fbbfa41128980ec9317d57f17": {
          "model_module": "@jupyter-widgets/base",
          "model_name": "LayoutModel",
          "state": {
            "_view_name": "LayoutView",
            "grid_template_rows": null,
            "right": null,
            "justify_content": null,
            "_view_module": "@jupyter-widgets/base",
            "overflow": null,
            "_model_module_version": "1.2.0",
            "_view_count": null,
            "flex_flow": null,
            "width": null,
            "min_width": null,
            "border": null,
            "align_items": null,
            "bottom": null,
            "_model_module": "@jupyter-widgets/base",
            "top": null,
            "grid_column": null,
            "overflow_y": null,
            "overflow_x": null,
            "grid_auto_flow": null,
            "grid_area": null,
            "grid_template_columns": null,
            "flex": null,
            "_model_name": "LayoutModel",
            "justify_items": null,
            "grid_row": null,
            "max_height": null,
            "align_content": null,
            "visibility": null,
            "align_self": null,
            "height": null,
            "min_height": null,
            "padding": null,
            "grid_auto_rows": null,
            "grid_gap": null,
            "max_width": null,
            "order": null,
            "_view_module_version": "1.2.0",
            "grid_template_areas": null,
            "object_position": null,
            "object_fit": null,
            "grid_auto_columns": null,
            "margin": null,
            "display": null,
            "left": null
          }
        },
        "b0858a4cf45a41dfa3690ae365209710": {
          "model_module": "@jupyter-widgets/controls",
          "model_name": "HBoxModel",
          "state": {
            "_view_name": "HBoxView",
            "_dom_classes": [],
            "_model_name": "HBoxModel",
            "_view_module": "@jupyter-widgets/controls",
            "_model_module_version": "1.5.0",
            "_view_count": null,
            "_view_module_version": "1.5.0",
            "box_style": "",
            "layout": "IPY_MODEL_29f62c4f11804231a7a5cc2c879d975b",
            "_model_module": "@jupyter-widgets/controls",
            "children": [
              "IPY_MODEL_957f6fbf2422461fbf2ae2ad31ec856f",
              "IPY_MODEL_176cb0be3fcf48308fa3c57d1f1c0138"
            ]
          }
        },
        "29f62c4f11804231a7a5cc2c879d975b": {
          "model_module": "@jupyter-widgets/base",
          "model_name": "LayoutModel",
          "state": {
            "_view_name": "LayoutView",
            "grid_template_rows": null,
            "right": null,
            "justify_content": null,
            "_view_module": "@jupyter-widgets/base",
            "overflow": null,
            "_model_module_version": "1.2.0",
            "_view_count": null,
            "flex_flow": null,
            "width": null,
            "min_width": null,
            "border": null,
            "align_items": null,
            "bottom": null,
            "_model_module": "@jupyter-widgets/base",
            "top": null,
            "grid_column": null,
            "overflow_y": null,
            "overflow_x": null,
            "grid_auto_flow": null,
            "grid_area": null,
            "grid_template_columns": null,
            "flex": null,
            "_model_name": "LayoutModel",
            "justify_items": null,
            "grid_row": null,
            "max_height": null,
            "align_content": null,
            "visibility": null,
            "align_self": null,
            "height": null,
            "min_height": null,
            "padding": null,
            "grid_auto_rows": null,
            "grid_gap": null,
            "max_width": null,
            "order": null,
            "_view_module_version": "1.2.0",
            "grid_template_areas": null,
            "object_position": null,
            "object_fit": null,
            "grid_auto_columns": null,
            "margin": null,
            "display": null,
            "left": null
          }
        },
        "957f6fbf2422461fbf2ae2ad31ec856f": {
          "model_module": "@jupyter-widgets/controls",
          "model_name": "FloatProgressModel",
          "state": {
            "_view_name": "ProgressView",
            "style": "IPY_MODEL_4ca2969b9ce447faba3f0fea7660e5e7",
            "_dom_classes": [],
            "description": "Downloading: 100%",
            "_model_name": "FloatProgressModel",
            "bar_style": "success",
            "max": 231508,
            "_view_module": "@jupyter-widgets/controls",
            "_model_module_version": "1.5.0",
            "value": 231508,
            "_view_count": null,
            "_view_module_version": "1.5.0",
            "orientation": "horizontal",
            "min": 0,
            "description_tooltip": null,
            "_model_module": "@jupyter-widgets/controls",
            "layout": "IPY_MODEL_125533ec00f24cc8af897379601a1402"
          }
        },
        "176cb0be3fcf48308fa3c57d1f1c0138": {
          "model_module": "@jupyter-widgets/controls",
          "model_name": "HTMLModel",
          "state": {
            "_view_name": "HTMLView",
            "style": "IPY_MODEL_e1e1e979e257455d87ba502485cefb9b",
            "_dom_classes": [],
            "description": "",
            "_model_name": "HTMLModel",
            "placeholder": "​",
            "_view_module": "@jupyter-widgets/controls",
            "_model_module_version": "1.5.0",
            "value": " 232k/232k [00:00&lt;00:00, 724kB/s]",
            "_view_count": null,
            "_view_module_version": "1.5.0",
            "description_tooltip": null,
            "_model_module": "@jupyter-widgets/controls",
            "layout": "IPY_MODEL_dad4f7c153db4052a041f81ffc3de0f9"
          }
        },
        "4ca2969b9ce447faba3f0fea7660e5e7": {
          "model_module": "@jupyter-widgets/controls",
          "model_name": "ProgressStyleModel",
          "state": {
            "_view_name": "StyleView",
            "_model_name": "ProgressStyleModel",
            "description_width": "initial",
            "_view_module": "@jupyter-widgets/base",
            "_model_module_version": "1.5.0",
            "_view_count": null,
            "_view_module_version": "1.2.0",
            "bar_color": null,
            "_model_module": "@jupyter-widgets/controls"
          }
        },
        "125533ec00f24cc8af897379601a1402": {
          "model_module": "@jupyter-widgets/base",
          "model_name": "LayoutModel",
          "state": {
            "_view_name": "LayoutView",
            "grid_template_rows": null,
            "right": null,
            "justify_content": null,
            "_view_module": "@jupyter-widgets/base",
            "overflow": null,
            "_model_module_version": "1.2.0",
            "_view_count": null,
            "flex_flow": null,
            "width": null,
            "min_width": null,
            "border": null,
            "align_items": null,
            "bottom": null,
            "_model_module": "@jupyter-widgets/base",
            "top": null,
            "grid_column": null,
            "overflow_y": null,
            "overflow_x": null,
            "grid_auto_flow": null,
            "grid_area": null,
            "grid_template_columns": null,
            "flex": null,
            "_model_name": "LayoutModel",
            "justify_items": null,
            "grid_row": null,
            "max_height": null,
            "align_content": null,
            "visibility": null,
            "align_self": null,
            "height": null,
            "min_height": null,
            "padding": null,
            "grid_auto_rows": null,
            "grid_gap": null,
            "max_width": null,
            "order": null,
            "_view_module_version": "1.2.0",
            "grid_template_areas": null,
            "object_position": null,
            "object_fit": null,
            "grid_auto_columns": null,
            "margin": null,
            "display": null,
            "left": null
          }
        },
        "e1e1e979e257455d87ba502485cefb9b": {
          "model_module": "@jupyter-widgets/controls",
          "model_name": "DescriptionStyleModel",
          "state": {
            "_view_name": "StyleView",
            "_model_name": "DescriptionStyleModel",
            "description_width": "",
            "_view_module": "@jupyter-widgets/base",
            "_model_module_version": "1.5.0",
            "_view_count": null,
            "_view_module_version": "1.2.0",
            "_model_module": "@jupyter-widgets/controls"
          }
        },
        "dad4f7c153db4052a041f81ffc3de0f9": {
          "model_module": "@jupyter-widgets/base",
          "model_name": "LayoutModel",
          "state": {
            "_view_name": "LayoutView",
            "grid_template_rows": null,
            "right": null,
            "justify_content": null,
            "_view_module": "@jupyter-widgets/base",
            "overflow": null,
            "_model_module_version": "1.2.0",
            "_view_count": null,
            "flex_flow": null,
            "width": null,
            "min_width": null,
            "border": null,
            "align_items": null,
            "bottom": null,
            "_model_module": "@jupyter-widgets/base",
            "top": null,
            "grid_column": null,
            "overflow_y": null,
            "overflow_x": null,
            "grid_auto_flow": null,
            "grid_area": null,
            "grid_template_columns": null,
            "flex": null,
            "_model_name": "LayoutModel",
            "justify_items": null,
            "grid_row": null,
            "max_height": null,
            "align_content": null,
            "visibility": null,
            "align_self": null,
            "height": null,
            "min_height": null,
            "padding": null,
            "grid_auto_rows": null,
            "grid_gap": null,
            "max_width": null,
            "order": null,
            "_view_module_version": "1.2.0",
            "grid_template_areas": null,
            "object_position": null,
            "object_fit": null,
            "grid_auto_columns": null,
            "margin": null,
            "display": null,
            "left": null
          }
        },
        "8feca56fa0c5482a983abdaadea50b21": {
          "model_module": "@jupyter-widgets/controls",
          "model_name": "HBoxModel",
          "state": {
            "_view_name": "HBoxView",
            "_dom_classes": [],
            "_model_name": "HBoxModel",
            "_view_module": "@jupyter-widgets/controls",
            "_model_module_version": "1.5.0",
            "_view_count": null,
            "_view_module_version": "1.5.0",
            "box_style": "",
            "layout": "IPY_MODEL_c8f8d358e3434627913ec39f9a6ab43b",
            "_model_module": "@jupyter-widgets/controls",
            "children": [
              "IPY_MODEL_bf85d72e127e415db07bba3217fda4e5",
              "IPY_MODEL_a3885422f68a471fbb34565e9197ec34"
            ]
          }
        },
        "c8f8d358e3434627913ec39f9a6ab43b": {
          "model_module": "@jupyter-widgets/base",
          "model_name": "LayoutModel",
          "state": {
            "_view_name": "LayoutView",
            "grid_template_rows": null,
            "right": null,
            "justify_content": null,
            "_view_module": "@jupyter-widgets/base",
            "overflow": null,
            "_model_module_version": "1.2.0",
            "_view_count": null,
            "flex_flow": null,
            "width": null,
            "min_width": null,
            "border": null,
            "align_items": null,
            "bottom": null,
            "_model_module": "@jupyter-widgets/base",
            "top": null,
            "grid_column": null,
            "overflow_y": null,
            "overflow_x": null,
            "grid_auto_flow": null,
            "grid_area": null,
            "grid_template_columns": null,
            "flex": null,
            "_model_name": "LayoutModel",
            "justify_items": null,
            "grid_row": null,
            "max_height": null,
            "align_content": null,
            "visibility": null,
            "align_self": null,
            "height": null,
            "min_height": null,
            "padding": null,
            "grid_auto_rows": null,
            "grid_gap": null,
            "max_width": null,
            "order": null,
            "_view_module_version": "1.2.0",
            "grid_template_areas": null,
            "object_position": null,
            "object_fit": null,
            "grid_auto_columns": null,
            "margin": null,
            "display": null,
            "left": null
          }
        },
        "bf85d72e127e415db07bba3217fda4e5": {
          "model_module": "@jupyter-widgets/controls",
          "model_name": "FloatProgressModel",
          "state": {
            "_view_name": "ProgressView",
            "style": "IPY_MODEL_474777acbeb74f3499ee9039f6f1481b",
            "_dom_classes": [],
            "description": "Downloading: 100%",
            "_model_name": "FloatProgressModel",
            "bar_style": "success",
            "max": 190,
            "_view_module": "@jupyter-widgets/controls",
            "_model_module_version": "1.5.0",
            "value": 190,
            "_view_count": null,
            "_view_module_version": "1.5.0",
            "orientation": "horizontal",
            "min": 0,
            "description_tooltip": null,
            "_model_module": "@jupyter-widgets/controls",
            "layout": "IPY_MODEL_3843109003204a4085eca2427432f637"
          }
        },
        "a3885422f68a471fbb34565e9197ec34": {
          "model_module": "@jupyter-widgets/controls",
          "model_name": "HTMLModel",
          "state": {
            "_view_name": "HTMLView",
            "style": "IPY_MODEL_64197783175a498f8fa6c30deb9d6972",
            "_dom_classes": [],
            "description": "",
            "_model_name": "HTMLModel",
            "placeholder": "​",
            "_view_module": "@jupyter-widgets/controls",
            "_model_module_version": "1.5.0",
            "value": " 190/190 [00:00&lt;00:00, 899B/s]",
            "_view_count": null,
            "_view_module_version": "1.5.0",
            "description_tooltip": null,
            "_model_module": "@jupyter-widgets/controls",
            "layout": "IPY_MODEL_c43f759160bf44779cbbdfb3d41dc105"
          }
        },
        "474777acbeb74f3499ee9039f6f1481b": {
          "model_module": "@jupyter-widgets/controls",
          "model_name": "ProgressStyleModel",
          "state": {
            "_view_name": "StyleView",
            "_model_name": "ProgressStyleModel",
            "description_width": "initial",
            "_view_module": "@jupyter-widgets/base",
            "_model_module_version": "1.5.0",
            "_view_count": null,
            "_view_module_version": "1.2.0",
            "bar_color": null,
            "_model_module": "@jupyter-widgets/controls"
          }
        },
        "3843109003204a4085eca2427432f637": {
          "model_module": "@jupyter-widgets/base",
          "model_name": "LayoutModel",
          "state": {
            "_view_name": "LayoutView",
            "grid_template_rows": null,
            "right": null,
            "justify_content": null,
            "_view_module": "@jupyter-widgets/base",
            "overflow": null,
            "_model_module_version": "1.2.0",
            "_view_count": null,
            "flex_flow": null,
            "width": null,
            "min_width": null,
            "border": null,
            "align_items": null,
            "bottom": null,
            "_model_module": "@jupyter-widgets/base",
            "top": null,
            "grid_column": null,
            "overflow_y": null,
            "overflow_x": null,
            "grid_auto_flow": null,
            "grid_area": null,
            "grid_template_columns": null,
            "flex": null,
            "_model_name": "LayoutModel",
            "justify_items": null,
            "grid_row": null,
            "max_height": null,
            "align_content": null,
            "visibility": null,
            "align_self": null,
            "height": null,
            "min_height": null,
            "padding": null,
            "grid_auto_rows": null,
            "grid_gap": null,
            "max_width": null,
            "order": null,
            "_view_module_version": "1.2.0",
            "grid_template_areas": null,
            "object_position": null,
            "object_fit": null,
            "grid_auto_columns": null,
            "margin": null,
            "display": null,
            "left": null
          }
        },
        "64197783175a498f8fa6c30deb9d6972": {
          "model_module": "@jupyter-widgets/controls",
          "model_name": "DescriptionStyleModel",
          "state": {
            "_view_name": "StyleView",
            "_model_name": "DescriptionStyleModel",
            "description_width": "",
            "_view_module": "@jupyter-widgets/base",
            "_model_module_version": "1.5.0",
            "_view_count": null,
            "_view_module_version": "1.2.0",
            "_model_module": "@jupyter-widgets/controls"
          }
        },
        "c43f759160bf44779cbbdfb3d41dc105": {
          "model_module": "@jupyter-widgets/base",
          "model_name": "LayoutModel",
          "state": {
            "_view_name": "LayoutView",
            "grid_template_rows": null,
            "right": null,
            "justify_content": null,
            "_view_module": "@jupyter-widgets/base",
            "overflow": null,
            "_model_module_version": "1.2.0",
            "_view_count": null,
            "flex_flow": null,
            "width": null,
            "min_width": null,
            "border": null,
            "align_items": null,
            "bottom": null,
            "_model_module": "@jupyter-widgets/base",
            "top": null,
            "grid_column": null,
            "overflow_y": null,
            "overflow_x": null,
            "grid_auto_flow": null,
            "grid_area": null,
            "grid_template_columns": null,
            "flex": null,
            "_model_name": "LayoutModel",
            "justify_items": null,
            "grid_row": null,
            "max_height": null,
            "align_content": null,
            "visibility": null,
            "align_self": null,
            "height": null,
            "min_height": null,
            "padding": null,
            "grid_auto_rows": null,
            "grid_gap": null,
            "max_width": null,
            "order": null,
            "_view_module_version": "1.2.0",
            "grid_template_areas": null,
            "object_position": null,
            "object_fit": null,
            "grid_auto_columns": null,
            "margin": null,
            "display": null,
            "left": null
          }
        }
      }
    },
    "accelerator": "GPU"
  },
  "cells": [
    {
      "cell_type": "code",
      "metadata": {
        "id": "lIYdn1woOS1n"
      },
      "source": [
        "from boilerplate import *"
      ],
      "execution_count": 1,
      "outputs": []
    },
    {
      "cell_type": "code",
      "metadata": {
        "id": "0RYq2zwLg3Xo",
        "colab": {
          "base_uri": "https://localhost:8080/",
          "height": 270,
          "referenced_widgets": [
            "5b9895331407467894021666af763926",
            "793dad113e924d30bcb515377c513e24",
            "b2ef659eb7ef4da6b6ae5099ecf0ba65",
            "9e72f00cf763410b8ee81b19c84e65ad",
            "e25af4392b374fc0af5ad16529a1e28c",
            "0750e119dbf34bb6868f944dc1ab92cb",
            "64d250b5620446bb95c69b373ef84e03",
            "15d5f366035c4b24bfc1993d1bf0d278",
            "3e146d6370574ba3810faa99bbcf2ede",
            "dde55bb35ecd4ef7aee71f651ee1c399",
            "939feaee145b491587db916ff8037cd3",
            "5b2a8f2ded924c11ad81010e4e4197ea",
            "91430a80020f436a9cdf7c1724f133a5",
            "53cca01865254349a8fa7a95090120cd",
            "52cf8c30456e4b00b10a7068c377c986",
            "302e5c58bf614b379325726cbd2848fa",
            "edcc57a811344bf9bf17522b623363de",
            "8acda9a879874c44b7129fae17706e9f",
            "9af609cc45664956bf5ffad994d9e4c1",
            "433c57419fd3408abb3f8239c790aefc",
            "3fc7fb144e7f43a4b82e0dcf6b2b0f4f",
            "867e238866f245999c0f4eb402739016",
            "0e96e7cb77824c2a9e033c0fbe518b99",
            "b9ce1ab1127143cc993a738cdc6e867e",
            "e51118a5bd05475bafc6d8053f404875",
            "f2e3de07e9104f2f8073da19fc44a861",
            "2949e3379b264f44b835942e3eb61b1d",
            "840f2a8b9f6a49d2ab3200448ac324a9",
            "a9746d1ca0424182b6d35c73a51abbc9",
            "550b2667813d4c10aa669cadd3913d2a",
            "e2a46a22fd334635bd422f29ed15c87c",
            "daafbb8ba888463bb9ca0be26eb11ae0",
            "f36695fa50784e0f97d6a2353c3a14d2",
            "264e81f7102a47be96a7154c9aebdd0d",
            "3552a42f952642e1b34a9a4f5aced14d",
            "64ee36754bd84da2b69a34e27efe3038",
            "2675b955deca4ff1891f8c9c8fa7cbaa",
            "aeee0fe8e18e4c4c8ba7bbbadf223576",
            "fa2f9414dd684dc39e224bf5607d6385",
            "5634c7c3cc9e45dd901d198efda144b2",
            "1c59273349b5499e8502967654a1300e",
            "58f657d86bbe4363881106bb5b35d703",
            "457dbdc14b1543a78060b9b764ac2fca",
            "3a19087ef01d4d55956d391c710a57c6",
            "250ccc4ff2de4ff489639d87a4698968",
            "8d7c454d4067427c89551a1544287cd9",
            "8a08c241cf8043c0b1ba51b35e07e930",
            "2fa363d4438741cf8492186a236cb6ee"
          ]
        },
        "outputId": "36e358dd-039c-4d45-89c0-78aa4c1f47d2"
      },
      "source": [
        "dataset = get_data(\"quac\")"
      ],
      "execution_count": 4,
      "outputs": [
        {
          "output_type": "display_data",
          "data": {
            "application/vnd.jupyter.widget-view+json": {
              "model_id": "5b9895331407467894021666af763926",
              "version_minor": 0,
              "version_major": 2
            },
            "text/plain": [
              "HBox(children=(FloatProgress(value=0.0, description='Downloading', max=2563.0, style=ProgressStyle(description…"
            ]
          },
          "metadata": {
            "tags": []
          }
        },
        {
          "output_type": "stream",
          "text": [
            "\n"
          ],
          "name": "stdout"
        },
        {
          "output_type": "display_data",
          "data": {
            "application/vnd.jupyter.widget-view+json": {
              "model_id": "3e146d6370574ba3810faa99bbcf2ede",
              "version_minor": 0,
              "version_major": 2
            },
            "text/plain": [
              "HBox(children=(FloatProgress(value=0.0, description='Downloading', max=1725.0, style=ProgressStyle(description…"
            ]
          },
          "metadata": {
            "tags": []
          }
        },
        {
          "output_type": "stream",
          "text": [
            "\n",
            "Downloading and preparing dataset quac/plain_text (download: 73.47 MiB, generated: 62.51 MiB, post-processed: Unknown size, total: 135.99 MiB) to /root/.cache/huggingface/datasets/quac/plain_text/1.1.0/4170258e7e72d7c81bd6441b3f3489ea1544f0ff226ce61e22bb00c6e9d01fb6...\n"
          ],
          "name": "stdout"
        },
        {
          "output_type": "display_data",
          "data": {
            "application/vnd.jupyter.widget-view+json": {
              "model_id": "edcc57a811344bf9bf17522b623363de",
              "version_minor": 0,
              "version_major": 2
            },
            "text/plain": [
              "HBox(children=(FloatProgress(value=0.0, description='Downloading', max=68114819.0, style=ProgressStyle(descrip…"
            ]
          },
          "metadata": {
            "tags": []
          }
        },
        {
          "output_type": "stream",
          "text": [
            "\n"
          ],
          "name": "stdout"
        },
        {
          "output_type": "display_data",
          "data": {
            "application/vnd.jupyter.widget-view+json": {
              "model_id": "e51118a5bd05475bafc6d8053f404875",
              "version_minor": 0,
              "version_major": 2
            },
            "text/plain": [
              "HBox(children=(FloatProgress(value=0.0, description='Downloading', max=8929167.0, style=ProgressStyle(descript…"
            ]
          },
          "metadata": {
            "tags": []
          }
        },
        {
          "output_type": "stream",
          "text": [
            "\n"
          ],
          "name": "stdout"
        },
        {
          "output_type": "display_data",
          "data": {
            "application/vnd.jupyter.widget-view+json": {
              "model_id": "f36695fa50784e0f97d6a2353c3a14d2",
              "version_minor": 0,
              "version_major": 2
            },
            "text/plain": [
              "HBox(children=(FloatProgress(value=1.0, bar_style='info', max=1.0), HTML(value='')))"
            ]
          },
          "metadata": {
            "tags": []
          }
        },
        {
          "output_type": "stream",
          "text": [
            "\r"
          ],
          "name": "stdout"
        },
        {
          "output_type": "display_data",
          "data": {
            "application/vnd.jupyter.widget-view+json": {
              "model_id": "1c59273349b5499e8502967654a1300e",
              "version_minor": 0,
              "version_major": 2
            },
            "text/plain": [
              "HBox(children=(FloatProgress(value=1.0, bar_style='info', max=1.0), HTML(value='')))"
            ]
          },
          "metadata": {
            "tags": []
          }
        },
        {
          "output_type": "stream",
          "text": [
            "\rDataset quac downloaded and prepared to /root/.cache/huggingface/datasets/quac/plain_text/1.1.0/4170258e7e72d7c81bd6441b3f3489ea1544f0ff226ce61e22bb00c6e9d01fb6. Subsequent calls will reuse this data.\n"
          ],
          "name": "stdout"
        }
      ]
    },
    {
      "cell_type": "code",
      "metadata": {
        "id": "Pshtql_hhIRd"
      },
      "source": [
        "df = data_to_dataframe(dataset)"
      ],
      "execution_count": 5,
      "outputs": []
    },
    {
      "cell_type": "code",
      "metadata": {
        "id": "HA3RWV2uhTG8",
        "colab": {
          "base_uri": "https://localhost:8080/"
        },
        "outputId": "9e8174bd-237f-4874-ee55-19d86c2227ab"
      },
      "source": [
        "train, simple = df[0], df[2]\n",
        "df = quac_mediumdf(train)"
      ],
      "execution_count": 6,
      "outputs": [
        {
          "output_type": "stream",
          "text": [
            "100%|██████████| 11567/11567 [00:09<00:00, 1238.96it/s]\n"
          ],
          "name": "stderr"
        }
      ]
    },
    {
      "cell_type": "code",
      "metadata": {
        "id": "inHJwX5lho2a",
        "colab": {
          "base_uri": "https://localhost:8080/",
          "height": 306
        },
        "outputId": "eb342340-0601-444f-b357-d8eb13bfb32d"
      },
      "source": [
        "df[68:72]"
      ],
      "execution_count": 7,
      "outputs": [
        {
          "output_type": "execute_result",
          "data": {
            "text/html": [
              "<div>\n",
              "<style scoped>\n",
              "    .dataframe tbody tr th:only-of-type {\n",
              "        vertical-align: middle;\n",
              "    }\n",
              "\n",
              "    .dataframe tbody tr th {\n",
              "        vertical-align: top;\n",
              "    }\n",
              "\n",
              "    .dataframe thead th {\n",
              "        text-align: right;\n",
              "    }\n",
              "</style>\n",
              "<table border=\"1\" class=\"dataframe\">\n",
              "  <thead>\n",
              "    <tr style=\"text-align: right;\">\n",
              "      <th></th>\n",
              "      <th>wiki_page</th>\n",
              "      <th>background</th>\n",
              "      <th>section_title</th>\n",
              "      <th>context</th>\n",
              "      <th>question</th>\n",
              "      <th>answer</th>\n",
              "    </tr>\n",
              "  </thead>\n",
              "  <tbody>\n",
              "    <tr>\n",
              "      <th>68</th>\n",
              "      <td>Hunter S. Thompson</td>\n",
              "      <td>Thompson was born into a middle-class family i...</td>\n",
              "      <td>Fear and Loathing in Las Vegas</td>\n",
              "      <td>The book for which Thompson gained most of his...</td>\n",
              "      <td>What is Fear and Loathing in Las Vegas?</td>\n",
              "      <td>The result of the trip to Las Vegas became the...</td>\n",
              "    </tr>\n",
              "    <tr>\n",
              "      <th>69</th>\n",
              "      <td>Hunter S. Thompson</td>\n",
              "      <td>Thompson was born into a middle-class family i...</td>\n",
              "      <td>Fear and Loathing in Las Vegas</td>\n",
              "      <td>The book for which Thompson gained most of his...</td>\n",
              "      <td>Did it do well?</td>\n",
              "      <td>the book was greeted with considerable critica...</td>\n",
              "    </tr>\n",
              "    <tr>\n",
              "      <th>70</th>\n",
              "      <td>Hunter S. Thompson</td>\n",
              "      <td>Thompson was born into a middle-class family i...</td>\n",
              "      <td>Fear and Loathing in Las Vegas</td>\n",
              "      <td>The book for which Thompson gained most of his...</td>\n",
              "      <td>Did he write it in Vegas?</td>\n",
              "      <td>CANNOTANSWER</td>\n",
              "    </tr>\n",
              "    <tr>\n",
              "      <th>71</th>\n",
              "      <td>Hunter S. Thompson</td>\n",
              "      <td>Thompson was born into a middle-class family i...</td>\n",
              "      <td>Fear and Loathing in Las Vegas</td>\n",
              "      <td>The book for which Thompson gained most of his...</td>\n",
              "      <td>who published the book?</td>\n",
              "      <td>the 1972 book Fear and Loathing in Las Vegas, ...</td>\n",
              "    </tr>\n",
              "  </tbody>\n",
              "</table>\n",
              "</div>"
            ],
            "text/plain": [
              "             wiki_page  ...                                             answer\n",
              "68  Hunter S. Thompson  ...  The result of the trip to Las Vegas became the...\n",
              "69  Hunter S. Thompson  ...  the book was greeted with considerable critica...\n",
              "70  Hunter S. Thompson  ...                                       CANNOTANSWER\n",
              "71  Hunter S. Thompson  ...  the 1972 book Fear and Loathing in Las Vegas, ...\n",
              "\n",
              "[4 rows x 6 columns]"
            ]
          },
          "metadata": {
            "tags": []
          },
          "execution_count": 7
        }
      ]
    },
    {
      "cell_type": "code",
      "metadata": {
        "id": "3uPLqwxxh2k5"
      },
      "source": [
        "unanswerable = df[df[\"answer\"]==\"CANNOTANSWER\"]\n",
        "answerable = df[df[\"answer\"]!=\"CANNOTANSWER\"]\n",
        "# unanswerable.head()"
      ],
      "execution_count": 8,
      "outputs": []
    },
    {
      "cell_type": "code",
      "metadata": {
        "id": "86TKw5EJk8oJ",
        "colab": {
          "base_uri": "https://localhost:8080/"
        },
        "outputId": "01f3dfb1-ce2c-4de0-e632-302f6e846898"
      },
      "source": [
        "len(answerable), len(unanswerable)"
      ],
      "execution_count": 9,
      "outputs": [
        {
          "output_type": "execute_result",
          "data": {
            "text/plain": [
              "(69109, 14459)"
            ]
          },
          "metadata": {
            "tags": []
          },
          "execution_count": 9
        }
      ]
    },
    {
      "cell_type": "code",
      "metadata": {
        "id": "Ggzw7IYBlNOQ",
        "colab": {
          "base_uri": "https://localhost:8080/"
        },
        "outputId": "4dcfd32e-5adc-4cb9-d115-3f4d79a9a7b9"
      },
      "source": [
        "df.info()"
      ],
      "execution_count": 10,
      "outputs": [
        {
          "output_type": "stream",
          "text": [
            "<class 'pandas.core.frame.DataFrame'>\n",
            "RangeIndex: 83568 entries, 0 to 83567\n",
            "Data columns (total 6 columns):\n",
            " #   Column         Non-Null Count  Dtype \n",
            "---  ------         --------------  ----- \n",
            " 0   wiki_page      83568 non-null  object\n",
            " 1   background     83568 non-null  object\n",
            " 2   section_title  83568 non-null  object\n",
            " 3   context        83568 non-null  object\n",
            " 4   question       83568 non-null  object\n",
            " 5   answer         83568 non-null  object\n",
            "dtypes: object(6)\n",
            "memory usage: 3.8+ MB\n"
          ],
          "name": "stdout"
        }
      ]
    },
    {
      "cell_type": "code",
      "metadata": {
        "id": "KEfHF3_wlh9z",
        "colab": {
          "base_uri": "https://localhost:8080/"
        },
        "outputId": "990316c8-d9a7-4804-cda9-e2eba42c5301"
      },
      "source": [
        "df[\"answer\"].value_counts()"
      ],
      "execution_count": 11,
      "outputs": [
        {
          "output_type": "execute_result",
          "data": {
            "text/plain": [
              "CANNOTANSWER                                                                                                                                 14459\n",
              "album                                                                                                                                           15\n",
              "1995,                                                                                                                                           12\n",
              "1986                                                                                                                                            10\n",
              "2012,                                                                                                                                           10\n",
              "                                                                                                                                             ...  \n",
              "Hornsby was the presenter when the Grateful Dead were inducted into the Rock and Roll Hall of Fame                                               1\n",
              "Both drugs have been known to cause suicidal thoughts or ideation.                                                                               1\n",
              "Dash eventually joined his government several months later, thus providing it with the broad support of almost two thirds of the Knesset.        1\n",
              "greatest leading man Hollywood had ever known\".                                                                                                  1\n",
              "representative from Otsego County. Their town was in a central area of New York that had previously been occupied by the Iroquois,               1\n",
              "Name: answer, Length: 63199, dtype: int64"
            ]
          },
          "metadata": {
            "tags": []
          },
          "execution_count": 11
        }
      ]
    },
    {
      "cell_type": "code",
      "metadata": {
        "id": "bak3rxoh_CLb"
      },
      "source": [
        "medium_df = df"
      ],
      "execution_count": 13,
      "outputs": []
    },
    {
      "cell_type": "code",
      "metadata": {
        "id": "Hxou72FF5PIk"
      },
      "source": [
        "medium_df[\"answerable\"] = medium_df[\"answer\"].apply(lambda x: 0 if x==\"CANNOTANSWER\" else 1)"
      ],
      "execution_count": 14,
      "outputs": []
    },
    {
      "cell_type": "code",
      "metadata": {
        "id": "6pbawOVC5R_N",
        "colab": {
          "base_uri": "https://localhost:8080/",
          "height": 295
        },
        "outputId": "a71fe2c1-bfa1-4635-8f2f-317c7b6e4d15"
      },
      "source": [
        "import seaborn as sns\n",
        "import matplotlib.pyplot as plt\n",
        "cnt = medium_df[\"answerable\"].value_counts()\n",
        "g0 = sns.barplot(x = cnt.index, y= cnt.values)\n",
        "g0.set_title(\"How many questions are answerable?\")\n",
        "g0.set_xlabel(\"0 - unanswerable, 1 - answerable\")\n",
        "g0.set_ylabel(\"Total count\")\n",
        "plt.show()"
      ],
      "execution_count": 17,
      "outputs": [
        {
          "output_type": "display_data",
          "data": {
            "image/png": "[encoded data removed]",
            "text/plain": [
              "<Figure size 432x288 with 1 Axes>"
            ]
          },
          "metadata": {
            "tags": [],
            "needs_background": "light"
          }
        }
      ]
    },
    {
      "cell_type": "code",
      "metadata": {
        "id": "pNl-DrFolpDz"
      },
      "source": [
        "df[\"context_length\"] = df[\"context\"].apply(lambda input: len(input))\n",
        "df[\"answer_length\"] = df[\"answer\"].apply(lambda input: len(str(input)))\n",
        "df[\"question_length\"] = df[\"question\"].apply(lambda input: len(input))\n",
        "df[\"background_length\"] = df[\"background\"].apply(lambda input: len(input))"
      ],
      "execution_count": 18,
      "outputs": []
    },
    {
      "cell_type": "code",
      "metadata": {
        "id": "bGFDLmTml-Gf",
        "colab": {
          "base_uri": "https://localhost:8080/",
          "height": 643
        },
        "outputId": "c1e9bcbd-1626-45dc-a59a-c87a2342d287"
      },
      "source": [
        "df.head()"
      ],
      "execution_count": 19,
      "outputs": [
        {
          "output_type": "execute_result",
          "data": {
            "text/html": [
              "<div>\n",
              "<style scoped>\n",
              "    .dataframe tbody tr th:only-of-type {\n",
              "        vertical-align: middle;\n",
              "    }\n",
              "\n",
              "    .dataframe tbody tr th {\n",
              "        vertical-align: top;\n",
              "    }\n",
              "\n",
              "    .dataframe thead th {\n",
              "        text-align: right;\n",
              "    }\n",
              "</style>\n",
              "<table border=\"1\" class=\"dataframe\">\n",
              "  <thead>\n",
              "    <tr style=\"text-align: right;\">\n",
              "      <th></th>\n",
              "      <th>wiki_page</th>\n",
              "      <th>background</th>\n",
              "      <th>section_title</th>\n",
              "      <th>context</th>\n",
              "      <th>question</th>\n",
              "      <th>answer</th>\n",
              "      <th>answerable</th>\n",
              "      <th>context_length</th>\n",
              "      <th>answer_length</th>\n",
              "      <th>question_length</th>\n",
              "      <th>background_length</th>\n",
              "    </tr>\n",
              "  </thead>\n",
              "  <tbody>\n",
              "    <tr>\n",
              "      <th>0</th>\n",
              "      <td>Malayali</td>\n",
              "      <td>The Malayali people or Keralite people (also s...</td>\n",
              "      <td>Geographic distribution and population</td>\n",
              "      <td>According to the Indian census of 2001, there ...</td>\n",
              "      <td>Where is Malayali located?</td>\n",
              "      <td>30,803,747 speakers of Malayalam in Kerala, ma...</td>\n",
              "      <td>1</td>\n",
              "      <td>2036</td>\n",
              "      <td>111</td>\n",
              "      <td>26</td>\n",
              "      <td>580</td>\n",
              "    </tr>\n",
              "    <tr>\n",
              "      <th>1</th>\n",
              "      <td>Malayali</td>\n",
              "      <td>The Malayali people or Keralite people (also s...</td>\n",
              "      <td>Geographic distribution and population</td>\n",
              "      <td>According to the Indian census of 2001, there ...</td>\n",
              "      <td>What other languages are spoken there?</td>\n",
              "      <td>33,015,420 spoke the standard dialects, 19,643...</td>\n",
              "      <td>1</td>\n",
              "      <td>2036</td>\n",
              "      <td>136</td>\n",
              "      <td>38</td>\n",
              "      <td>580</td>\n",
              "    </tr>\n",
              "    <tr>\n",
              "      <th>2</th>\n",
              "      <td>Malayali</td>\n",
              "      <td>The Malayali people or Keralite people (also s...</td>\n",
              "      <td>Geographic distribution and population</td>\n",
              "      <td>According to the Indian census of 2001, there ...</td>\n",
              "      <td>What else is this place known for?</td>\n",
              "      <td>World Malayalee Council, the organisation work...</td>\n",
              "      <td>1</td>\n",
              "      <td>2036</td>\n",
              "      <td>161</td>\n",
              "      <td>34</td>\n",
              "      <td>580</td>\n",
              "    </tr>\n",
              "    <tr>\n",
              "      <th>3</th>\n",
              "      <td>Malayali</td>\n",
              "      <td>The Malayali people or Keralite people (also s...</td>\n",
              "      <td>Geographic distribution and population</td>\n",
              "      <td>According to the Indian census of 2001, there ...</td>\n",
              "      <td>Were they ever successful in doing this?</td>\n",
              "      <td>CANNOTANSWER</td>\n",
              "      <td>0</td>\n",
              "      <td>2036</td>\n",
              "      <td>12</td>\n",
              "      <td>40</td>\n",
              "      <td>580</td>\n",
              "    </tr>\n",
              "    <tr>\n",
              "      <th>4</th>\n",
              "      <td>Malayali</td>\n",
              "      <td>The Malayali people or Keralite people (also s...</td>\n",
              "      <td>Geographic distribution and population</td>\n",
              "      <td>According to the Indian census of 2001, there ...</td>\n",
              "      <td>Do they produce anything from here?</td>\n",
              "      <td>CANNOTANSWER</td>\n",
              "      <td>0</td>\n",
              "      <td>2036</td>\n",
              "      <td>12</td>\n",
              "      <td>35</td>\n",
              "      <td>580</td>\n",
              "    </tr>\n",
              "  </tbody>\n",
              "</table>\n",
              "</div>"
            ],
            "text/plain": [
              "  wiki_page  ... background_length\n",
              "0  Malayali  ...               580\n",
              "1  Malayali  ...               580\n",
              "2  Malayali  ...               580\n",
              "3  Malayali  ...               580\n",
              "4  Malayali  ...               580\n",
              "\n",
              "[5 rows x 11 columns]"
            ]
          },
          "metadata": {
            "tags": []
          },
          "execution_count": 19
        }
      ]
    },
    {
      "cell_type": "code",
      "metadata": {
        "id": "gwyjO0LVmTjf",
        "colab": {
          "base_uri": "https://localhost:8080/",
          "height": 521
        },
        "outputId": "83e8acf9-3932-4f4b-af03-67f449ce239f"
      },
      "source": [
        "import matplotlib.pyplot as plt\n",
        "plt.figure(figsize=(20,10))\n",
        "df[\"context_length\"].hist(bins = 100)"
      ],
      "execution_count": 20,
      "outputs": [
        {
          "output_type": "execute_result",
          "data": {
            "text/plain": [
              "<matplotlib.axes._subplots.AxesSubplot at 0x7f10ec4e4cd0>"
            ]
          },
          "metadata": {
            "tags": []
          },
          "execution_count": 20
        },
        {
          "output_type": "display_data",
          "data": {
            "image/png": "[encoded data removed]",
            "text/plain": [
              "<Figure size 1440x720 with 1 Axes>"
            ]
          },
          "metadata": {
            "tags": [],
            "needs_background": "light"
          }
        }
      ]
    },
    {
      "cell_type": "code",
      "metadata": {
        "id": "D6Hy_xFtmeah",
        "colab": {
          "base_uri": "https://localhost:8080/",
          "height": 521
        },
        "outputId": "228f09d8-41a7-434a-89a7-ebe076658ea8"
      },
      "source": [
        "plt.figure(figsize=(20,10))\n",
        "df[\"question_length\"].hist(bins = 100)"
      ],
      "execution_count": 21,
      "outputs": [
        {
          "output_type": "execute_result",
          "data": {
            "text/plain": [
              "<matplotlib.axes._subplots.AxesSubplot at 0x7f10edfb7750>"
            ]
          },
          "metadata": {
            "tags": []
          },
          "execution_count": 21
        },
        {
          "output_type": "display_data",
          "data": {
            "image/png": "[encoded data removed]",
            "text/plain": [
              "<Figure size 1440x720 with 1 Axes>"
            ]
          },
          "metadata": {
            "tags": [],
            "needs_background": "light"
          }
        }
      ]
    },
    {
      "cell_type": "code",
      "metadata": {
        "id": "wF-TF4gfmnkB",
        "colab": {
          "base_uri": "https://localhost:8080/",
          "height": 521
        },
        "outputId": "316dbd0b-d68f-4fe2-a4bb-5a499c86fdad"
      },
      "source": [
        "plt.figure(figsize=(20,10))\n",
        "df[\"background_length\"].hist(bins = 100)"
      ],
      "execution_count": 22,
      "outputs": [
        {
          "output_type": "execute_result",
          "data": {
            "text/plain": [
              "<matplotlib.axes._subplots.AxesSubplot at 0x7f10f2d72fd0>"
            ]
          },
          "metadata": {
            "tags": []
          },
          "execution_count": 22
        },
        {
          "output_type": "display_data",
          "data": {
            "image/png": "[encoded data removed]",
            "text/plain": [
              "<Figure size 1440x720 with 1 Axes>"
            ]
          },
          "metadata": {
            "tags": [],
            "needs_background": "light"
          }
        }
      ]
    },
    {
      "cell_type": "code",
      "metadata": {
        "id": "pY8C8ZYum14_",
        "colab": {
          "base_uri": "https://localhost:8080/",
          "height": 1000
        },
        "outputId": "14afb9a7-71e7-495c-a21f-e5e8dd13dc74"
      },
      "source": [
        "plt.figure(figsize=(20,10))\n",
        "from sklearn.feature_extraction.text import CountVectorizer\n",
        "def get_top_n_words(corpus, n=None):\n",
        "    vec = CountVectorizer(stop_words = 'english').fit(corpus)\n",
        "    bag_of_words = vec.transform(corpus)\n",
        "    sum_words = bag_of_words.sum(axis=0) \n",
        "    words_freq = [(word, sum_words[0, idx]) for word, idx in vec.vocabulary_.items()]\n",
        "    words_freq =sorted(words_freq, key = lambda x: x[1], reverse=True)\n",
        "    return words_freq[:n]\n",
        "common_words = get_top_n_words(df['context'], 40)\n",
        "for word, freq in common_words:\n",
        "    print(word, freq)\n",
        "df2 = pd.DataFrame(common_words, columns = ['context' , 'count'])\n",
        "df2.groupby('context').sum()['count'].sort_values(ascending=False).plot(\n",
        "    kind='bar', ylabel='Count', title='Top 40 words in context after removing stop words')"
      ],
      "execution_count": 23,
      "outputs": [
        {
          "output_type": "stream",
          "text": [
            "album 115814\n",
            "band 94802\n",
            "cannotanswer 83568\n",
            "new 78893\n",
            "released 68831\n",
            "time 68366\n",
            "later 56409\n",
            "year 54714\n",
            "music 51055\n",
            "film 46519\n",
            "years 43210\n",
            "single 41811\n",
            "song 40148\n",
            "second 37919\n",
            "group 37619\n",
            "tour 35128\n",
            "world 34411\n",
            "record 33128\n",
            "played 33032\n",
            "season 33007\n",
            "said 32556\n",
            "number 31697\n",
            "team 30611\n",
            "work 28537\n",
            "songs 28267\n",
            "including 27979\n",
            "best 27579\n",
            "did 27512\n",
            "began 27502\n",
            "early 27130\n",
            "school 26998\n",
            "series 26703\n",
            "won 26463\n",
            "career 24580\n",
            "american 24190\n",
            "life 24133\n",
            "release 23855\n",
            "records 23716\n",
            "called 23556\n",
            "york 23555\n"
          ],
          "name": "stdout"
        },
        {
          "output_type": "execute_result",
          "data": {
            "text/plain": [
              "<matplotlib.axes._subplots.AxesSubplot at 0x7f10f2533890>"
            ]
          },
          "metadata": {
            "tags": []
          },
          "execution_count": 23
        },
        {
          "output_type": "display_data",
          "data": {
            "image/png": "[encoded data removed]",
            "text/plain": [
              "<Figure size 1440x720 with 1 Axes>"
            ]
          },
          "metadata": {
            "tags": [],
            "needs_background": "light"
          }
        }
      ]
    },
    {
      "cell_type": "code",
      "metadata": {
        "id": "ex_qSX5OnWPS",
        "colab": {
          "base_uri": "https://localhost:8080/",
          "height": 1000
        },
        "outputId": "942f7c75-a330-457f-cb2f-da4df23e7afb"
      },
      "source": [
        "plt.figure(figsize=(20,10))\n",
        "def get_top_n_bigram(corpus, n=None):\n",
        "    vec = CountVectorizer(ngram_range=(2, 2), stop_words='english').fit(corpus)\n",
        "    bag_of_words = vec.transform(corpus)\n",
        "    sum_words = bag_of_words.sum(axis=0) \n",
        "    words_freq = [(word, sum_words[0, idx]) for word, idx in vec.vocabulary_.items()]\n",
        "    words_freq =sorted(words_freq, key = lambda x: x[1], reverse=True)\n",
        "    return words_freq[:n]\n",
        "common_words = get_top_n_bigram(df['context'], 40)\n",
        "for word, freq in common_words:\n",
        "    print(word, freq)\n",
        "df3 = pd.DataFrame(common_words, columns = ['context' , 'count'])\n",
        "df3.groupby('context').sum()['count'].sort_values(ascending=False).plot(\n",
        "    kind='bar', ylabel='Count', title='Top 40 bigrams in context after removing stop words')"
      ],
      "execution_count": 24,
      "outputs": [
        {
          "output_type": "stream",
          "text": [
            "new york 22955\n",
            "united states 16605\n",
            "high school 8912\n",
            "los angeles 8337\n",
            "studio album 7082\n",
            "york city 5468\n",
            "debut album 4918\n",
            "hot 100 4755\n",
            "music video 4446\n",
            "billboard 200 4321\n",
            "award best 4298\n",
            "album released 4276\n",
            "years later 4186\n",
            "world war 4082\n",
            "hall fame 4006\n",
            "year old 3958\n",
            "following year 3944\n",
            "second album 3815\n",
            "billboard hot 3619\n",
            "000 copies 3560\n",
            "hip hop 3326\n",
            "band released 3115\n",
            "reached number 3061\n",
            "peaked number 3045\n",
            "san francisco 3019\n",
            "later year 3007\n",
            "new album 2977\n",
            "million copies 2974\n",
            "rock roll 2950\n",
            "second single 2869\n",
            "lead single 2849\n",
            "years old 2837\n",
            "released single 2808\n",
            "band members 2715\n",
            "singles chart 2708\n",
            "released album 2677\n",
            "world cup 2671\n",
            "albums chart 2652\n",
            "solo album 2615\n",
            "york times 2567\n"
          ],
          "name": "stdout"
        },
        {
          "output_type": "execute_result",
          "data": {
            "text/plain": [
              "<matplotlib.axes._subplots.AxesSubplot at 0x7f10f1b70290>"
            ]
          },
          "metadata": {
            "tags": []
          },
          "execution_count": 24
        },
        {
          "output_type": "display_data",
          "data": {
            "image/png": "[encoded data removed]",
            "text/plain": [
              "<Figure size 1440x720 with 1 Axes>"
            ]
          },
          "metadata": {
            "tags": [],
            "needs_background": "light"
          }
        }
      ]
    },
    {
      "cell_type": "code",
      "metadata": {
        "id": "lyt4gKy5nlky"
      },
      "source": [
        "def question_tagging(question):\n",
        "    question = question.lower()\n",
        "    \n",
        "    if \"what\" in question:\n",
        "      return \"what\"\n",
        "    elif \"when\" in question:\n",
        "      return \"when\"\n",
        "    elif \"who\" in question:\n",
        "      return \"who\"\n",
        "    elif \"how\" in question:\n",
        "      return \"how\"\n",
        "    elif \"which\" in question:\n",
        "      return \"which\"\n",
        "    elif \"where\" in question:\n",
        "      return \"where\"\n",
        "    elif \"why\" in question:\n",
        "      return \"why\"\n",
        "    else:\n",
        "      return \"none\""
      ],
      "execution_count": 25,
      "outputs": []
    },
    {
      "cell_type": "code",
      "metadata": {
        "id": "sxIPhFArnu_Z",
        "colab": {
          "base_uri": "https://localhost:8080/",
          "height": 524
        },
        "outputId": "f1f3bd4b-1a79-4970-c58c-0ee87d0aa05f"
      },
      "source": [
        "import seaborn as sns\n",
        "plt.figure(figsize=(20,10))\n",
        "df[\"question_type\"] = df[\"question\"].apply(question_tagging)\n",
        "sns.countplot(x=\"question_type\",data = df, order = [\"what\",\"who\",\"how\",\"when\",\"where\",\"why\",\"none\"])"
      ],
      "execution_count": 26,
      "outputs": [
        {
          "output_type": "execute_result",
          "data": {
            "text/plain": [
              "<matplotlib.axes._subplots.AxesSubplot at 0x7f10f171d550>"
            ]
          },
          "metadata": {
            "tags": []
          },
          "execution_count": 26
        },
        {
          "output_type": "display_data",
          "data": {
            "image/png": "[encoded data removed]",
            "text/plain": [
              "<Figure size 1440x720 with 1 Axes>"
            ]
          },
          "metadata": {
            "tags": [],
            "needs_background": "light"
          }
        }
      ]
    },
    {
      "cell_type": "code",
      "metadata": {
        "id": "cRfODi1vnzsT",
        "colab": {
          "base_uri": "https://localhost:8080/",
          "height": 1000
        },
        "outputId": "8f927d1a-8396-4778-ed9e-90c345ba2056"
      },
      "source": [
        "df[df[\"question_type\"] == \"none\"].head(10)"
      ],
      "execution_count": 27,
      "outputs": [
        {
          "output_type": "execute_result",
          "data": {
            "text/html": [
              "<div>\n",
              "<style scoped>\n",
              "    .dataframe tbody tr th:only-of-type {\n",
              "        vertical-align: middle;\n",
              "    }\n",
              "\n",
              "    .dataframe tbody tr th {\n",
              "        vertical-align: top;\n",
              "    }\n",
              "\n",
              "    .dataframe thead th {\n",
              "        text-align: right;\n",
              "    }\n",
              "</style>\n",
              "<table border=\"1\" class=\"dataframe\">\n",
              "  <thead>\n",
              "    <tr style=\"text-align: right;\">\n",
              "      <th></th>\n",
              "      <th>wiki_page</th>\n",
              "      <th>background</th>\n",
              "      <th>section_title</th>\n",
              "      <th>context</th>\n",
              "      <th>question</th>\n",
              "      <th>answer</th>\n",
              "      <th>answerable</th>\n",
              "      <th>context_length</th>\n",
              "      <th>answer_length</th>\n",
              "      <th>question_length</th>\n",
              "      <th>background_length</th>\n",
              "      <th>question_type</th>\n",
              "    </tr>\n",
              "  </thead>\n",
              "  <tbody>\n",
              "    <tr>\n",
              "      <th>3</th>\n",
              "      <td>Malayali</td>\n",
              "      <td>The Malayali people or Keralite people (also s...</td>\n",
              "      <td>Geographic distribution and population</td>\n",
              "      <td>According to the Indian census of 2001, there ...</td>\n",
              "      <td>Were they ever successful in doing this?</td>\n",
              "      <td>CANNOTANSWER</td>\n",
              "      <td>0</td>\n",
              "      <td>2036</td>\n",
              "      <td>12</td>\n",
              "      <td>40</td>\n",
              "      <td>580</td>\n",
              "      <td>none</td>\n",
              "    </tr>\n",
              "    <tr>\n",
              "      <th>4</th>\n",
              "      <td>Malayali</td>\n",
              "      <td>The Malayali people or Keralite people (also s...</td>\n",
              "      <td>Geographic distribution and population</td>\n",
              "      <td>According to the Indian census of 2001, there ...</td>\n",
              "      <td>Do they produce anything from here?</td>\n",
              "      <td>CANNOTANSWER</td>\n",
              "      <td>0</td>\n",
              "      <td>2036</td>\n",
              "      <td>12</td>\n",
              "      <td>35</td>\n",
              "      <td>580</td>\n",
              "      <td>none</td>\n",
              "    </tr>\n",
              "    <tr>\n",
              "      <th>5</th>\n",
              "      <td>Malayali</td>\n",
              "      <td>The Malayali people or Keralite people (also s...</td>\n",
              "      <td>Geographic distribution and population</td>\n",
              "      <td>According to the Indian census of 2001, there ...</td>\n",
              "      <td>Is this population still growing?</td>\n",
              "      <td>In 2010, the Census of Population of Singapore...</td>\n",
              "      <td>1</td>\n",
              "      <td>2036</td>\n",
              "      <td>103</td>\n",
              "      <td>33</td>\n",
              "      <td>580</td>\n",
              "      <td>none</td>\n",
              "    </tr>\n",
              "    <tr>\n",
              "      <th>6</th>\n",
              "      <td>Malayali</td>\n",
              "      <td>The Malayali people or Keralite people (also s...</td>\n",
              "      <td>Geographic distribution and population</td>\n",
              "      <td>According to the Indian census of 2001, there ...</td>\n",
              "      <td>Is the country thriving?</td>\n",
              "      <td>CANNOTANSWER</td>\n",
              "      <td>0</td>\n",
              "      <td>2036</td>\n",
              "      <td>12</td>\n",
              "      <td>24</td>\n",
              "      <td>580</td>\n",
              "      <td>none</td>\n",
              "    </tr>\n",
              "    <tr>\n",
              "      <th>8</th>\n",
              "      <td>Malayali</td>\n",
              "      <td>The Malayali people or Keralite people (also s...</td>\n",
              "      <td>Language and literature</td>\n",
              "      <td>Malayalam is the language spoken by the Malaya...</td>\n",
              "      <td>Do they speak any other languages?</td>\n",
              "      <td>Malayalam is derived from old Tamil and Sanskr...</td>\n",
              "      <td>1</td>\n",
              "      <td>2850</td>\n",
              "      <td>68</td>\n",
              "      <td>34</td>\n",
              "      <td>580</td>\n",
              "      <td>none</td>\n",
              "    </tr>\n",
              "    <tr>\n",
              "      <th>9</th>\n",
              "      <td>Malayali</td>\n",
              "      <td>The Malayali people or Keralite people (also s...</td>\n",
              "      <td>Language and literature</td>\n",
              "      <td>Malayalam is the language spoken by the Malaya...</td>\n",
              "      <td>any literary items of interest?</td>\n",
              "      <td>Malayalam literature is ancient in origin. The...</td>\n",
              "      <td>1</td>\n",
              "      <td>2850</td>\n",
              "      <td>119</td>\n",
              "      <td>31</td>\n",
              "      <td>580</td>\n",
              "      <td>none</td>\n",
              "    </tr>\n",
              "    <tr>\n",
              "      <th>11</th>\n",
              "      <td>Malayali</td>\n",
              "      <td>The Malayali people or Keralite people (also s...</td>\n",
              "      <td>Language and literature</td>\n",
              "      <td>Malayalam is the language spoken by the Malaya...</td>\n",
              "      <td>were any of the poets listed by name?</td>\n",
              "      <td>Madhava Panikkar, Sankara Panikkar and Rama Pa...</td>\n",
              "      <td>1</td>\n",
              "      <td>2850</td>\n",
              "      <td>146</td>\n",
              "      <td>37</td>\n",
              "      <td>580</td>\n",
              "      <td>none</td>\n",
              "    </tr>\n",
              "    <tr>\n",
              "      <th>12</th>\n",
              "      <td>Malayali</td>\n",
              "      <td>The Malayali people or Keralite people (also s...</td>\n",
              "      <td>Language and literature</td>\n",
              "      <td>Malayalam is the language spoken by the Malaya...</td>\n",
              "      <td>anything else of interest?</td>\n",
              "      <td>All his works are written between 1829 and 187...</td>\n",
              "      <td>1</td>\n",
              "      <td>2850</td>\n",
              "      <td>167</td>\n",
              "      <td>26</td>\n",
              "      <td>580</td>\n",
              "      <td>none</td>\n",
              "    </tr>\n",
              "    <tr>\n",
              "      <th>13</th>\n",
              "      <td>Malayali</td>\n",
              "      <td>The Malayali people or Keralite people (also s...</td>\n",
              "      <td>Language and literature</td>\n",
              "      <td>Malayalam is the language spoken by the Malaya...</td>\n",
              "      <td>any more recent literary works from them?</td>\n",
              "      <td>. In the second half of the 20th century, Jnan...</td>\n",
              "      <td>1</td>\n",
              "      <td>2850</td>\n",
              "      <td>170</td>\n",
              "      <td>41</td>\n",
              "      <td>580</td>\n",
              "      <td>none</td>\n",
              "    </tr>\n",
              "    <tr>\n",
              "      <th>19</th>\n",
              "      <td>Saosin</td>\n",
              "      <td>Saosin is an American post-hardcore band from ...</td>\n",
              "      <td>Arrival of Cove Reber and Saosin EP (2004-2006)</td>\n",
              "      <td>After the audition process and several guest v...</td>\n",
              "      <td>Did they tour again?</td>\n",
              "      <td>The band continued touring for the rest of 200...</td>\n",
              "      <td>1</td>\n",
              "      <td>1737</td>\n",
              "      <td>102</td>\n",
              "      <td>20</td>\n",
              "      <td>435</td>\n",
              "      <td>none</td>\n",
              "    </tr>\n",
              "  </tbody>\n",
              "</table>\n",
              "</div>"
            ],
            "text/plain": [
              "   wiki_page  ... question_type\n",
              "3   Malayali  ...          none\n",
              "4   Malayali  ...          none\n",
              "5   Malayali  ...          none\n",
              "6   Malayali  ...          none\n",
              "8   Malayali  ...          none\n",
              "9   Malayali  ...          none\n",
              "11  Malayali  ...          none\n",
              "12  Malayali  ...          none\n",
              "13  Malayali  ...          none\n",
              "19    Saosin  ...          none\n",
              "\n",
              "[10 rows x 12 columns]"
            ]
          },
          "metadata": {
            "tags": []
          },
          "execution_count": 27
        }
      ]
    },
    {
      "cell_type": "code",
      "metadata": {
        "id": "rdXes_WPoUhd",
        "colab": {
          "base_uri": "https://localhost:8080/"
        },
        "outputId": "09e8f437-87a3-47fd-8a12-fc935b91c10d"
      },
      "source": [
        "!pip3 install bertopic[all] -q"
      ],
      "execution_count": 28,
      "outputs": [
        {
          "output_type": "stream",
          "text": [
            "\u001b[K     |████████████████████████████████| 61kB 7.2MB/s \n",
            "\u001b[K     |████████████████████████████████| 15.7MB 196kB/s \n",
            "\u001b[K     |████████████████████████████████| 92kB 12.5MB/s \n",
            "\u001b[K     |████████████████████████████████| 6.4MB 47.6MB/s \n",
            "\u001b[?25h  Installing build dependencies ... \u001b[?25l\u001b[?25hdone\n",
            "  Getting requirements to build wheel ... \u001b[?25l\u001b[?25hdone\n",
            "    Preparing wheel metadata ... \u001b[?25l\u001b[?25hdone\n",
            "\u001b[K     |████████████████████████████████| 81kB 11.0MB/s \n",
            "\u001b[K     |████████████████████████████████| 13.2MB 237kB/s \n",
            "\u001b[K     |████████████████████████████████| 776.8MB 23kB/s \n",
            "\u001b[K     |████████████████████████████████| 4.3MB 52.1MB/s \n",
            "\u001b[K     |████████████████████████████████| 6.4MB 55.3MB/s \n",
            "\u001b[K     |████████████████████████████████| 450kB 44.2MB/s \n",
            "\u001b[K     |████████████████████████████████| 1.3MB 43.3MB/s \n",
            "\u001b[K     |████████████████████████████████| 1.2MB 35.6MB/s \n",
            "\u001b[K     |████████████████████████████████| 1.1MB 32.7MB/s \n",
            "\u001b[K     |████████████████████████████████| 624kB 44.6MB/s \n",
            "\u001b[K     |████████████████████████████████| 51kB 7.7MB/s \n",
            "\u001b[K     |████████████████████████████████| 10.1MB 43.3MB/s \n",
            "\u001b[K     |████████████████████████████████| 460kB 43.5MB/s \n",
            "\u001b[K     |████████████████████████████████| 71kB 11.1MB/s \n",
            "\u001b[K     |████████████████████████████████| 983kB 39.9MB/s \n",
            "\u001b[K     |████████████████████████████████| 798kB 46.0MB/s \n",
            "\u001b[K     |████████████████████████████████| 19.7MB 1.3MB/s \n",
            "\u001b[K     |████████████████████████████████| 2.9MB 39.6MB/s \n",
            "\u001b[K     |████████████████████████████████| 901kB 47.6MB/s \n",
            "\u001b[?25h  Building wheel for hdbscan (PEP 517) ... \u001b[?25l\u001b[?25hdone\n",
            "  Building wheel for sentence-transformers (setup.py) ... \u001b[?25l\u001b[?25hdone\n",
            "  Building wheel for umap-learn (setup.py) ... \u001b[?25l\u001b[?25hdone\n",
            "  Building wheel for pynndescent (setup.py) ... \u001b[?25l\u001b[?25hdone\n",
            "  Building wheel for ftfy (setup.py) ... \u001b[?25l\u001b[?25hdone\n",
            "  Building wheel for segtok (setup.py) ... \u001b[?25l\u001b[?25hdone\n",
            "  Building wheel for langdetect (setup.py) ... \u001b[?25l\u001b[?25hdone\n",
            "  Building wheel for mpld3 (setup.py) ... \u001b[?25l\u001b[?25hdone\n",
            "  Building wheel for sqlitedict (setup.py) ... \u001b[?25l\u001b[?25hdone\n",
            "  Building wheel for overrides (setup.py) ... \u001b[?25l\u001b[?25hdone\n",
            "\u001b[31mERROR: torchvision 0.10.0+cu102 has requirement torch==1.9.0, but you'll have torch 1.7.0 which is incompatible.\u001b[0m\n",
            "\u001b[31mERROR: torchtext 0.10.0 has requirement torch==1.9.0, but you'll have torch 1.7.0 which is incompatible.\u001b[0m\n",
            "\u001b[31mERROR: tensorflow 2.5.0 has requirement numpy~=1.19.2, but you'll have numpy 1.21.0 which is incompatible.\u001b[0m\n",
            "\u001b[31mERROR: datascience 0.10.6 has requirement folium==0.2.1, but you'll have folium 0.8.3 which is incompatible.\u001b[0m\n",
            "\u001b[31mERROR: albumentations 0.1.12 has requirement imgaug<0.2.7,>=0.2.5, but you'll have imgaug 0.2.9 which is incompatible.\u001b[0m\n",
            "\u001b[31mERROR: transformers 3.5.1 has requirement sentencepiece==0.1.91, but you'll have sentencepiece 0.1.96 which is incompatible.\u001b[0m\n",
            "\u001b[31mERROR: sentence-transformers 2.0.0 has requirement transformers<5.0.0,>=4.6.0, but you'll have transformers 3.5.1 which is incompatible.\u001b[0m\n",
            "\u001b[31mERROR: konoha 4.6.5 has requirement importlib-metadata<4.0.0,>=3.7.0, but you'll have importlib-metadata 4.6.0 which is incompatible.\u001b[0m\n",
            "\u001b[31mERROR: konoha 4.6.5 has requirement requests<3.0.0,>=2.25.1, but you'll have requests 2.23.0 which is incompatible.\u001b[0m\n",
            "\u001b[31mERROR: flair 0.7 has requirement sentencepiece<=0.1.91, but you'll have sentencepiece 0.1.96 which is incompatible.\u001b[0m\n"
          ],
          "name": "stdout"
        }
      ]
    },
    {
      "cell_type": "code",
      "metadata": {
        "id": "yiCNPkITolgc"
      },
      "source": [
        "from bertopic import BERTopic"
      ],
      "execution_count": 30,
      "outputs": []
    },
    {
      "cell_type": "code",
      "metadata": {
        "id": "SBF-28TCp9lx"
      },
      "source": [
        "unique_contexts = df[\"context\"].unique()"
      ],
      "execution_count": 31,
      "outputs": []
    },
    {
      "cell_type": "code",
      "metadata": {
        "id": "tua5LjeYtU5e",
        "colab": {
          "base_uri": "https://localhost:8080/"
        },
        "outputId": "478be985-b393-4afa-de4d-4bcba0444d86"
      },
      "source": [
        "len(unique_contexts), len(train), len(df)"
      ],
      "execution_count": 32,
      "outputs": [
        {
          "output_type": "execute_result",
          "data": {
            "text/plain": [
              "(6843, 11567, 83568)"
            ]
          },
          "metadata": {
            "tags": []
          },
          "execution_count": 32
        }
      ]
    },
    {
      "cell_type": "code",
      "metadata": {
        "id": "QzlOULkctkAj",
        "colab": {
          "base_uri": "https://localhost:8080/",
          "height": 430
        },
        "outputId": "28516053-760a-4d05-bd11-72d382c8b607"
      },
      "source": [
        "train[50:53]"
      ],
      "execution_count": 33,
      "outputs": [
        {
          "output_type": "execute_result",
          "data": {
            "text/html": [
              "<div>\n",
              "<style scoped>\n",
              "    .dataframe tbody tr th:only-of-type {\n",
              "        vertical-align: middle;\n",
              "    }\n",
              "\n",
              "    .dataframe tbody tr th {\n",
              "        vertical-align: top;\n",
              "    }\n",
              "\n",
              "    .dataframe thead th {\n",
              "        text-align: right;\n",
              "    }\n",
              "</style>\n",
              "<table border=\"1\" class=\"dataframe\">\n",
              "  <thead>\n",
              "    <tr style=\"text-align: right;\">\n",
              "      <th></th>\n",
              "      <th>dialogue_id</th>\n",
              "      <th>wikipedia_page_title</th>\n",
              "      <th>background</th>\n",
              "      <th>section_title</th>\n",
              "      <th>context</th>\n",
              "      <th>turn_ids</th>\n",
              "      <th>questions</th>\n",
              "      <th>followups</th>\n",
              "      <th>yesnos</th>\n",
              "      <th>answers</th>\n",
              "      <th>orig_answers</th>\n",
              "    </tr>\n",
              "  </thead>\n",
              "  <tbody>\n",
              "    <tr>\n",
              "      <th>50</th>\n",
              "      <td>C_68ea0ff2b8e2499891cc35c93ecbdc18_0</td>\n",
              "      <td>Andrés Galarraga</td>\n",
              "      <td>Andres Jose Padovani Galarraga (Spanish: [an'd...</td>\n",
              "      <td>Atlanta Braves (1998-2000)</td>\n",
              "      <td>During his first season in Atlanta in 1998, Ga...</td>\n",
              "      <td>[C_68ea0ff2b8e2499891cc35c93ecbdc18_0_q#0, C_6...</td>\n",
              "      <td>[What position did he play with the Braves?, W...</td>\n",
              "      <td>[1, 0, 1, 0, 0, 0, 0, 1]</td>\n",
              "      <td>[2, 2, 2, 0, 0, 2, 2, 2]</td>\n",
              "      <td>{'texts': [['CANNOTANSWER'], ['He proved that ...</td>\n",
              "      <td>{'texts': ['CANNOTANSWER', 'He proved that he ...</td>\n",
              "    </tr>\n",
              "    <tr>\n",
              "      <th>51</th>\n",
              "      <td>C_9a8de494ac20410197429216336c5831_1</td>\n",
              "      <td>Neal McCoy</td>\n",
              "      <td>Hubert Neal McGaughey Jr. was born on July 30,...</td>\n",
              "      <td>1990-2000: Atlantic Records</td>\n",
              "      <td>He then signed to Atlantic Records in 1990, ch...</td>\n",
              "      <td>[C_9a8de494ac20410197429216336c5831_1_q#0, C_9...</td>\n",
              "      <td>[What happened with Atlantic Records in 1990?,...</td>\n",
              "      <td>[0, 0, 0, 1, 1, 1, 2, 0]</td>\n",
              "      <td>[2, 2, 2, 1, 2, 2, 0, 2]</td>\n",
              "      <td>{'texts': [['He then signed to Atlantic Record...</td>\n",
              "      <td>{'texts': ['He then signed to Atlantic Records...</td>\n",
              "    </tr>\n",
              "    <tr>\n",
              "      <th>52</th>\n",
              "      <td>C_9a8de494ac20410197429216336c5831_0</td>\n",
              "      <td>Neal McCoy</td>\n",
              "      <td>Hubert Neal McGaughey Jr. was born on July 30,...</td>\n",
              "      <td>Mid-Late 1990s</td>\n",
              "      <td>You Gotta Love That, his fourth album, also re...</td>\n",
              "      <td>[C_9a8de494ac20410197429216336c5831_0_q#0, C_9...</td>\n",
              "      <td>[what happened to him in mid 1990s?, why did t...</td>\n",
              "      <td>[0, 2, 1, 0, 1, 2, 2, 1]</td>\n",
              "      <td>[2, 2, 2, 0, 2, 2, 2, 2]</td>\n",
              "      <td>{'texts': [['McCoy's self-titled fifth studio ...</td>\n",
              "      <td>{'texts': ['McCoy's self-titled fifth studio a...</td>\n",
              "    </tr>\n",
              "  </tbody>\n",
              "</table>\n",
              "</div>"
            ],
            "text/plain": [
              "                             dialogue_id  ...                                       orig_answers\n",
              "50  C_68ea0ff2b8e2499891cc35c93ecbdc18_0  ...  {'texts': ['CANNOTANSWER', 'He proved that he ...\n",
              "51  C_9a8de494ac20410197429216336c5831_1  ...  {'texts': ['He then signed to Atlantic Records...\n",
              "52  C_9a8de494ac20410197429216336c5831_0  ...  {'texts': ['McCoy's self-titled fifth studio a...\n",
              "\n",
              "[3 rows x 11 columns]"
            ]
          },
          "metadata": {
            "tags": []
          },
          "execution_count": 33
        }
      ]
    },
    {
      "cell_type": "code",
      "metadata": {
        "id": "D0l2T29CqAr_",
        "colab": {
          "base_uri": "https://localhost:8080/",
          "height": 666,
          "referenced_widgets": [
            "1f520fe1a8ab484db2a6619fb9267c12",
            "f9317164fe174563869baac02006340a",
            "03bd70bff9dc43d99770cbd4ccbfcef0",
            "d8a0b0a8e8b649e6a462d5e07cf4aae2",
            "7044bfaf38bd441295ed59b270df5246",
            "3f1515be8ad14c8e9df00753479984b3",
            "d8998f3b3a1548e0b1a85c7b79ab830b",
            "03badfa2c95343bbafd395fcdede1a6f",
            "564935e035794f268f01cdfe83570a7c",
            "0f41be8ddf024cdfb7a86e90b0af4ee8",
            "f3aeaf4d677c4730883e76a0bf11b9c2",
            "afb410988a044aabb4d6047324f76bd9",
            "93f52b4a515641ec942a707046e867e6",
            "a9d0b549644b451ab9f4dc115041d07f",
            "7035e358aac3468e866b98226bcbc5e4",
            "871f629d1e1a4bbaa21f8d1ccaeaf2b9",
            "7dcaca3dc4834f04862ad18e50dc2630",
            "ba3cba2513d24b82b7d45d099cfbd5b3",
            "30990e602a3d41f2ad30414880919a9d",
            "ea4c997292d448b19110513bcd0c90fe",
            "9defdade2b8e40c9b4f57bec4a999e11",
            "9b9a4ef44eb1447ea277a7a64c378818",
            "b837ea32823f4f20bf12ca1410dd1094",
            "11ba47347cef4f0bb5e6cf17f4155f23",
            "cd8b739c0f3a48faa8075cc58e2b491d",
            "b5676ed036264281895d3c4c51a2ed49",
            "a0508b338a21470ba1ff0a383b211e9d",
            "efae7787ff1c4259b719274e2d32c3c7",
            "6ef197b04f4247608ad05aa21f37b56e",
            "2944538ee336451789624dd883b951d4",
            "62a24f224da2473992eaaf6fa957d114",
            "3b9c534cee6d40d78e280545944d04ec",
            "f3bb20fb98f84fa3822159b7d1b46f44",
            "4f9ca829c3a74c0e920e6697bb03b4b0",
            "b7eacb6aefcd4d23a552ef62e80fc5b5",
            "8d3033abb25849509cde0cc069135be2",
            "d62b0da3c0794f2db3ffa9a88cca3899",
            "ad3885a3da28486fb7ec0f066ffa45f1",
            "25eb54cb0dc74ed7979043e42ff8225b",
            "acb4e62bebc346c5965ea7c43f0a45aa",
            "7f141d70241141d3a7c660b96cfd6463",
            "253c4d0ded0d461b89935a78ba93d808",
            "06a482a10ba64ae6a1de6333fd4d13eb",
            "ab0faf2f15c041459089113768d5ad14",
            "1634edb9c89e423180fe76fcb3a2d4b1",
            "e24e76c634694be196be2ec1e1b37d17",
            "ea2a965d13114bafa803bec3949f0986",
            "c6010e0a97ca458d92c7834a3c48d294",
            "f7a8aedbf2174d48bb3593bfac6594c0",
            "b8e0aedfab9241a595984acd25be106b",
            "9ab4ed9468a74a00b560cf9429dd07d1",
            "f1d0f3cdd6bd48c99692777bcf8d840e",
            "eb9e0fa86143457691c7c9e1c391323a",
            "8a18e8466c5442ce82b539bf6cff9442",
            "741843a3054b40b3b6c130f9b0384c6b",
            "16e2f696e32d4dd8a3c4fbfdcb9545aa",
            "0979164bf01f4fd58e877682dbaaffc9",
            "0444905a9466494c813e160c126a455e",
            "4d0bc852b8074fef9edf0f0a1b0e9289",
            "aa427f05852344b499c695fc78c33d36",
            "69f84cd05769432c97d7e85198755bf0",
            "4be014e4adac44cd804dfa8e478c8026",
            "5b04dd6268a44e0ab88d0eb42353cd7e",
            "c8e8c464d8fa4ea6bf108a587b9f1c49",
            "8e9a88119b2e414ca471a48e21fabd22",
            "ef29a503f0514e168fc3739aec62517a",
            "34cde9d171e7469caa3de1e763d118e5",
            "050cd85d73094ff68a4104d4b233515e",
            "de917e87259446f9b6c3c9e3e59d6273",
            "3adc8e2b9bf84e7fae49ddbf32e9396a",
            "e6e64a4b7c8f40078999a54eb6aaa946",
            "c4059ebb5508405a8627a5ac8990385d",
            "b2222689d766470e8f94584b33d3f5f6",
            "f946e4549ed74722b0553b6322be0db3",
            "04e6dc83a89b4aa08f6c05ab30cf7621",
            "2801122ed0b044089745f71a48781a0d",
            "629c67d963c0403e80d1258387ce43fe",
            "4b5781d8c6cf4648ac7a0dbed529ff57",
            "2fef9b4953474a2d81167cf00ca5dd3b",
            "e521559fbbfa41128980ec9317d57f17",
            "b0858a4cf45a41dfa3690ae365209710",
            "29f62c4f11804231a7a5cc2c879d975b",
            "957f6fbf2422461fbf2ae2ad31ec856f",
            "176cb0be3fcf48308fa3c57d1f1c0138",
            "4ca2969b9ce447faba3f0fea7660e5e7",
            "125533ec00f24cc8af897379601a1402",
            "e1e1e979e257455d87ba502485cefb9b",
            "dad4f7c153db4052a041f81ffc3de0f9",
            "8feca56fa0c5482a983abdaadea50b21",
            "c8f8d358e3434627913ec39f9a6ab43b",
            "bf85d72e127e415db07bba3217fda4e5",
            "a3885422f68a471fbb34565e9197ec34",
            "474777acbeb74f3499ee9039f6f1481b",
            "3843109003204a4085eca2427432f637",
            "64197783175a498f8fa6c30deb9d6972",
            "c43f759160bf44779cbbdfb3d41dc105"
          ]
        },
        "outputId": "63a03850-8513-4874-b1ec-bc509eb36372"
      },
      "source": [
        "topic_model = BERTopic(language=\"english\", calculate_probabilities=True) # We need the probabilities to visualize\n",
        "topics, probabilities = topic_model.fit_transform(unique_contexts)"
      ],
      "execution_count": 34,
      "outputs": [
        {
          "output_type": "display_data",
          "data": {
            "application/vnd.jupyter.widget-view+json": {
              "model_id": "1f520fe1a8ab484db2a6619fb9267c12",
              "version_minor": 0,
              "version_major": 2
            },
            "text/plain": [
              "HBox(children=(FloatProgress(value=0.0, description='Downloading', max=690.0, style=ProgressStyle(description_…"
            ]
          },
          "metadata": {
            "tags": []
          }
        },
        {
          "output_type": "stream",
          "text": [
            "\n"
          ],
          "name": "stdout"
        },
        {
          "output_type": "display_data",
          "data": {
            "application/vnd.jupyter.widget-view+json": {
              "model_id": "564935e035794f268f01cdfe83570a7c",
              "version_minor": 0,
              "version_major": 2
            },
            "text/plain": [
              "HBox(children=(FloatProgress(value=0.0, description='Downloading', max=3673.0, style=ProgressStyle(description…"
            ]
          },
          "metadata": {
            "tags": []
          }
        },
        {
          "output_type": "stream",
          "text": [
            "\n"
          ],
          "name": "stdout"
        },
        {
          "output_type": "display_data",
          "data": {
            "application/vnd.jupyter.widget-view+json": {
              "model_id": "7dcaca3dc4834f04862ad18e50dc2630",
              "version_minor": 0,
              "version_major": 2
            },
            "text/plain": [
              "HBox(children=(FloatProgress(value=0.0, description='Downloading', max=629.0, style=ProgressStyle(description_…"
            ]
          },
          "metadata": {
            "tags": []
          }
        },
        {
          "output_type": "stream",
          "text": [
            "\n"
          ],
          "name": "stdout"
        },
        {
          "output_type": "display_data",
          "data": {
            "application/vnd.jupyter.widget-view+json": {
              "model_id": "cd8b739c0f3a48faa8075cc58e2b491d",
              "version_minor": 0,
              "version_major": 2
            },
            "text/plain": [
              "HBox(children=(FloatProgress(value=0.0, description='Downloading', max=122.0, style=ProgressStyle(description_…"
            ]
          },
          "metadata": {
            "tags": []
          }
        },
        {
          "output_type": "stream",
          "text": [
            "\n"
          ],
          "name": "stdout"
        },
        {
          "output_type": "display_data",
          "data": {
            "application/vnd.jupyter.widget-view+json": {
              "model_id": "f3bb20fb98f84fa3822159b7d1b46f44",
              "version_minor": 0,
              "version_major": 2
            },
            "text/plain": [
              "HBox(children=(FloatProgress(value=0.0, description='Downloading', max=229.0, style=ProgressStyle(description_…"
            ]
          },
          "metadata": {
            "tags": []
          }
        },
        {
          "output_type": "stream",
          "text": [
            "\n"
          ],
          "name": "stdout"
        },
        {
          "output_type": "display_data",
          "data": {
            "application/vnd.jupyter.widget-view+json": {
              "model_id": "7f141d70241141d3a7c660b96cfd6463",
              "version_minor": 0,
              "version_major": 2
            },
            "text/plain": [
              "HBox(children=(FloatProgress(value=0.0, description='Downloading', max=90895153.0, style=ProgressStyle(descrip…"
            ]
          },
          "metadata": {
            "tags": []
          }
        },
        {
          "output_type": "stream",
          "text": [
            "\n"
          ],
          "name": "stdout"
        },
        {
          "output_type": "display_data",
          "data": {
            "application/vnd.jupyter.widget-view+json": {
              "model_id": "f7a8aedbf2174d48bb3593bfac6594c0",
              "version_minor": 0,
              "version_major": 2
            },
            "text/plain": [
              "HBox(children=(FloatProgress(value=0.0, description='Downloading', max=53.0, style=ProgressStyle(description_w…"
            ]
          },
          "metadata": {
            "tags": []
          }
        },
        {
          "output_type": "stream",
          "text": [
            "\n"
          ],
          "name": "stdout"
        },
        {
          "output_type": "display_data",
          "data": {
            "application/vnd.jupyter.widget-view+json": {
              "model_id": "0979164bf01f4fd58e877682dbaaffc9",
              "version_minor": 0,
              "version_major": 2
            },
            "text/plain": [
              "HBox(children=(FloatProgress(value=0.0, description='Downloading', max=112.0, style=ProgressStyle(description_…"
            ]
          },
          "metadata": {
            "tags": []
          }
        },
        {
          "output_type": "stream",
          "text": [
            "\n"
          ],
          "name": "stdout"
        },
        {
          "output_type": "display_data",
          "data": {
            "application/vnd.jupyter.widget-view+json": {
              "model_id": "8e9a88119b2e414ca471a48e21fabd22",
              "version_minor": 0,
              "version_major": 2
            },
            "text/plain": [
              "HBox(children=(FloatProgress(value=0.0, description='Downloading', max=466081.0, style=ProgressStyle(descripti…"
            ]
          },
          "metadata": {
            "tags": []
          }
        },
        {
          "output_type": "stream",
          "text": [
            "\n"
          ],
          "name": "stdout"
        },
        {
          "output_type": "display_data",
          "data": {
            "application/vnd.jupyter.widget-view+json": {
              "model_id": "b2222689d766470e8f94584b33d3f5f6",
              "version_minor": 0,
              "version_major": 2
            },
            "text/plain": [
              "HBox(children=(FloatProgress(value=0.0, description='Downloading', max=516.0, style=ProgressStyle(description_…"
            ]
          },
          "metadata": {
            "tags": []
          }
        },
        {
          "output_type": "stream",
          "text": [
            "\n"
          ],
          "name": "stdout"
        },
        {
          "output_type": "display_data",
          "data": {
            "application/vnd.jupyter.widget-view+json": {
              "model_id": "b0858a4cf45a41dfa3690ae365209710",
              "version_minor": 0,
              "version_major": 2
            },
            "text/plain": [
              "HBox(children=(FloatProgress(value=0.0, description='Downloading', max=231508.0, style=ProgressStyle(descripti…"
            ]
          },
          "metadata": {
            "tags": []
          }
        },
        {
          "output_type": "stream",
          "text": [
            "\n"
          ],
          "name": "stdout"
        },
        {
          "output_type": "display_data",
          "data": {
            "application/vnd.jupyter.widget-view+json": {
              "model_id": "8feca56fa0c5482a983abdaadea50b21",
              "version_minor": 0,
              "version_major": 2
            },
            "text/plain": [
              "HBox(children=(FloatProgress(value=0.0, description='Downloading', max=190.0, style=ProgressStyle(description_…"
            ]
          },
          "metadata": {
            "tags": []
          }
        },
        {
          "output_type": "stream",
          "text": [
            "\n"
          ],
          "name": "stdout"
        },
        {
          "output_type": "stream",
          "text": [
            "/usr/local/lib/python3.7/dist-packages/numba/np/ufunc/parallel.py:363: NumbaWarning: The TBB threading layer requires TBB version 2019.5 or later i.e., TBB_INTERFACE_VERSION >= 11005. Found TBB_INTERFACE_VERSION = 9107. The TBB threading layer is disabled.\n",
            "  warnings.warn(problem)\n"
          ],
          "name": "stderr"
        }
      ]
    },
    {
      "cell_type": "code",
      "metadata": {
        "id": "TilA2nhlqTeR",
        "colab": {
          "base_uri": "https://localhost:8080/"
        },
        "outputId": "1f6d7b34-3d85-419e-d7dd-8294ff431f73"
      },
      "source": [
        "# Get the most frequent topics\n",
        "topic_freq = topic_model.get_topic_freq()\n",
        "outliers = topic_freq['Count'][topic_freq['Topic']==-1].iloc[0]\n",
        "print(f\"{outliers} documents have not been classified\")\n",
        "print(f\"The other {topic_freq['Count'].sum() - outliers} documents are {topic_freq['Topic'].shape[0]-1} topics\")"
      ],
      "execution_count": 35,
      "outputs": [
        {
          "output_type": "stream",
          "text": [
            "2177 documents have not been classified\n",
            "The other 4666 documents are 49 topics\n"
          ],
          "name": "stdout"
        }
      ]
    },
    {
      "cell_type": "code",
      "metadata": {
        "id": "5jAHh0m2tFj5",
        "colab": {
          "base_uri": "https://localhost:8080/",
          "height": 202
        },
        "outputId": "2bbf4786-04ce-4e66-e163-d03a022539da"
      },
      "source": [
        "topic_freq.head()"
      ],
      "execution_count": 36,
      "outputs": [
        {
          "output_type": "execute_result",
          "data": {
            "text/html": [
              "<div>\n",
              "<style scoped>\n",
              "    .dataframe tbody tr th:only-of-type {\n",
              "        vertical-align: middle;\n",
              "    }\n",
              "\n",
              "    .dataframe tbody tr th {\n",
              "        vertical-align: top;\n",
              "    }\n",
              "\n",
              "    .dataframe thead th {\n",
              "        text-align: right;\n",
              "    }\n",
              "</style>\n",
              "<table border=\"1\" class=\"dataframe\">\n",
              "  <thead>\n",
              "    <tr style=\"text-align: right;\">\n",
              "      <th></th>\n",
              "      <th>Topic</th>\n",
              "      <th>Count</th>\n",
              "    </tr>\n",
              "  </thead>\n",
              "  <tbody>\n",
              "    <tr>\n",
              "      <th>0</th>\n",
              "      <td>-1</td>\n",
              "      <td>2177</td>\n",
              "    </tr>\n",
              "    <tr>\n",
              "      <th>1</th>\n",
              "      <td>0</td>\n",
              "      <td>1349</td>\n",
              "    </tr>\n",
              "    <tr>\n",
              "      <th>2</th>\n",
              "      <td>1</td>\n",
              "      <td>591</td>\n",
              "    </tr>\n",
              "    <tr>\n",
              "      <th>3</th>\n",
              "      <td>2</td>\n",
              "      <td>488</td>\n",
              "    </tr>\n",
              "    <tr>\n",
              "      <th>4</th>\n",
              "      <td>3</td>\n",
              "      <td>146</td>\n",
              "    </tr>\n",
              "  </tbody>\n",
              "</table>\n",
              "</div>"
            ],
            "text/plain": [
              "   Topic  Count\n",
              "0     -1   2177\n",
              "1      0   1349\n",
              "2      1    591\n",
              "3      2    488\n",
              "4      3    146"
            ]
          },
          "metadata": {
            "tags": []
          },
          "execution_count": 36
        }
      ]
    },
    {
      "cell_type": "code",
      "metadata": {
        "id": "eorGzyUitJPP",
        "colab": {
          "base_uri": "https://localhost:8080/"
        },
        "outputId": "df64ecae-2bd2-4b32-afcf-86510e237ef7"
      },
      "source": [
        "print(f\"There are {topic_freq['Count'].iloc[1]} documents that are talking about topic ID {topic_freq['Topic'].iloc[1]}\")"
      ],
      "execution_count": 37,
      "outputs": [
        {
          "output_type": "stream",
          "text": [
            "There are 1349 documents that are talking about topic ID 0\n"
          ],
          "name": "stdout"
        }
      ]
    },
    {
      "cell_type": "code",
      "metadata": {
        "id": "nusG2roctLCs",
        "colab": {
          "base_uri": "https://localhost:8080/"
        },
        "outputId": "75079458-ed01-42a6-a929-d55bd46c46f2"
      },
      "source": [
        "for i in range(10):\n",
        "  topic_no = topic_freq['Topic'].iloc[i]\n",
        "  print(\"Topic \", topic_no,\" : \\n\")\n",
        "  print(topic_model.get_topic(topic_no))\n",
        "  print(\"\\n\\n\")"
      ],
      "execution_count": 38,
      "outputs": [
        {
          "output_type": "stream",
          "text": [
            "Topic  -1  : \n",
            "\n",
            "[('album', 0.0175229551939625), ('band', 0.014738834588275051), ('released', 0.012281526417022558), ('song', 0.008816621066630547), ('tour', 0.007790538966652369), ('songs', 0.00734740670282986), ('bands', 0.006965428350013862), ('albums', 0.006495284630677318), ('release', 0.006109797858945511), ('recorded', 0.005882348272155041)]\n",
            "\n",
            "\n",
            "\n",
            "Topic  0  : \n",
            "\n",
            "[('he', 0.008245581448499842), ('his', 0.008151354807341022), ('by', 0.007500412886808892), ('had', 0.006974323854554639), ('were', 0.006275726766933015), ('with', 0.006191056781725483), ('her', 0.006041231281009087), ('she', 0.0057078523312329345), ('who', 0.005633360801250069), ('him', 0.005371506756291355)]\n",
            "\n",
            "\n",
            "\n",
            "Topic  1  : \n",
            "\n",
            "[('film', 0.017356123432285677), ('show', 0.014009810245177333), ('she', 0.009576688456747726), ('her', 0.009137803833047013), ('films', 0.007607653249877007), ('series', 0.007541948797827706), ('television', 0.007506085166841191), ('appeared', 0.00682713223923459), ('comedy', 0.006733580759495059), ('character', 0.00627223922896976)]\n",
            "\n",
            "\n",
            "\n",
            "Topic  2  : \n",
            "\n",
            "[('her', 0.01420242458730702), ('she', 0.013240269130491793), ('born', 0.010886719092220989), ('family', 0.00983472906367724), ('father', 0.009501147684400087), ('mother', 0.008018648019771908), ('married', 0.007555125948497822), ('him', 0.007316834062575023), ('age', 0.005885014787318727), ('son', 0.005523307454238609)]\n",
            "\n",
            "\n",
            "\n",
            "Topic  3  : \n",
            "\n",
            "[('indigenous', 0.013945340064755224), ('century', 0.01388941900332921), ('language', 0.011983865754724253), ('languages', 0.011291901120591462), ('peoples', 0.00895981903588166), ('maya', 0.00854560157286027), ('native', 0.008447843468884613), ('tribes', 0.007356866925505848), ('indian', 0.006918989706068108), ('culture', 0.006629090971614335)]\n",
            "\n",
            "\n",
            "\n",
            "Topic  4  : \n",
            "\n",
            "[('yards', 0.022812058111194355), ('nfl', 0.022614190563478742), ('football', 0.02200991006569249), ('team', 0.017989584206846085), ('bowl', 0.01778217440379651), ('touchdown', 0.014350745601031716), ('quarterback', 0.013762514142701823), ('touchdowns', 0.012283426315905406), ('colts', 0.009026318355304033), ('teams', 0.008269992542039346)]\n",
            "\n",
            "\n",
            "\n",
            "Topic  5  : \n",
            "\n",
            "[('league', 0.026814496227283803), ('baseball', 0.019969260169226045), ('sox', 0.012034075987924754), ('batting', 0.010089948021327937), ('yankees', 0.010027927706455442), ('cubs', 0.009203215187979355), ('rbi', 0.008985602859689048), ('pitcher', 0.007869415885373652), ('dodgers', 0.007866251762036354), ('mets', 0.007728247345158521)]\n",
            "\n",
            "\n",
            "\n",
            "Topic  6  : \n",
            "\n",
            "[('wrestling', 0.02550454839418664), ('wwf', 0.020555502279200402), ('raw', 0.018105586351509415), ('hogan', 0.01748302844036354), ('wwe', 0.016213631301786473), ('wcw', 0.014553387242662974), ('feud', 0.011821682621043076), ('heavyweight', 0.01181257049734771), ('wrestlemania', 0.010502791715707041), ('mcmahon', 0.009791861578671136)]\n",
            "\n",
            "\n",
            "\n",
            "Topic  7  : \n",
            "\n",
            "[('cup', 0.026753418981012765), ('goals', 0.020224142927284264), ('scored', 0.01831388339869056), ('goal', 0.014629696886137331), ('win', 0.013655820329455212), ('champions', 0.01140394743032289), ('england', 0.010161627961788338), ('won', 0.009895353292003046), ('scoring', 0.008315016993625255), ('fifa', 0.007895101967123236)]\n",
            "\n",
            "\n",
            "\n",
            "Topic  8  : \n",
            "\n",
            "[('human', 0.00905182531884836), ('social', 0.008715840410997776), ('adler', 0.008562003080276524), ('theory', 0.008370937292606219), ('our', 0.006693915312302896), ('psychology', 0.006568642603940086), ('science', 0.0065316312116356166), ('scientific', 0.006481385767229117), ('we', 0.006277089462417713), ('freud', 0.006160483506924428)]\n",
            "\n",
            "\n",
            "\n"
          ],
          "name": "stdout"
        }
      ]
    },
    {
      "cell_type": "code",
      "metadata": {
        "id": "fNCCkzjHtSbe",
        "colab": {
          "base_uri": "https://localhost:8080/",
          "height": 667
        },
        "outputId": "608cb0e9-781e-4835-8727-d619fa63d123"
      },
      "source": [
        "# Returns how spatially separated each topic is.\n",
        "topic_model.visualize_topics()"
      ],
      "execution_count": 39,
      "outputs": [
        {
          "output_type": "display_data",
          "data": {
            "text/html": [
              "<html>\n",
              "<head><meta charset=\"utf-8\" /></head>\n",
              "<body>\n",
              "    <div>            <script src=\"https://cdnjs.cloudflare.com/ajax/libs/mathjax/2.7.5/MathJax.js?config=TeX-AMS-MML_SVG\"></script><script type=\"text/javascript\">if (window.MathJax) {MathJax.Hub.Config({SVG: {font: \"STIX-Web\"}});}</script>                <script type=\"text/javascript\">window.PlotlyConfig = {MathJaxConfig: 'local'};</script>\n",
              "        <script src=\"https://cdn.plot.ly/plotly-latest.min.js\"></script>                <div id=\"3380d933-ccba-48cf-b8f1-2d909336a6fe\" class=\"plotly-graph-div\" style=\"height:650px; width:650px;\"></div>            <script type=\"text/javascript\">                                    window.PLOTLYENV=window.PLOTLYENV || {};                                    if (document.getElementById(\"3380d933-ccba-48cf-b8f1-2d909336a6fe\")) {                    Plotly.newPlot(                        \"3380d933-ccba-48cf-b8f1-2d909336a6fe\",                        [{\"customdata\": [[6.125695705413818, 20.10988426208496, 0, \"he | his | by | had | were\", 1349], [5.758001804351807, 20.47060203552246, 1, \"film | show | she | her | films\", 591], [5.923620700836182, 20.309280395507812, 2, \"her | she | born | family | father\", 488], [2.1526293754577637, 11.960526466369629, 3, \"indigenous | century | language | languages | peoples\", 146], [16.46847915649414, 6.492654323577881, 4, \"yards | nfl | football | team | bowl\", 143], [16.70113754272461, 6.533502101898193, 5, \"league | baseball | sox | batting | yankees\", 136], [15.46514892578125, 5.399609088897705, 6, \"wrestling | wwf | raw | hogan | wwe\", 128], [15.636565208435059, 6.052538871765137, 7, \"cup | goals | scored | goal | win\", 128], [2.02583384513855, 12.054017066955566, 8, \"human | social | adler | theory | our\", 118], [1.1477129459381104, 11.12513256072998, 9, \"batman | comics | riddler | marvel | series\", 102], [-9.01387882232666, -5.921928882598877, 10, \"euronymous | biafra | vikernes | her | trial\", 92], [2.4749114513397217, 12.206186294555664, 11, \"orchestra | music | symphony | opera | piano\", 89], [3.550765037536621, -11.767651557922363, 12, \"won | wimbledon | tennis | defeated | golf\", 79], [15.988219261169434, 6.648822784423828, 13, \"wickets | cricket | innings | odi | bowling\", 74], [-11.311039924621582, -3.4029829502105713, 14, \"her | she | tamil | telugu | kapoor\", 67], [16.038047790527344, 6.484213829040527, 15, \"nba | game | rebounds | bryant | basketball\", 62], [-8.693082809448242, -6.083024978637695, 16, \"republican | bush | democratic | senate | election\", 62], [-9.46281623840332, 14.973246574401855, 17, \"soviet | wilhelm | bismarck | hitler | german\", 59], [4.528971195220947, -2.9990861415863037, 18, \"marine | army | corps | eisenhower | naval\", 59], [-9.432928085327148, 15.003076553344727, 19, \"sharif | muhammad | omar | muslim | islamic\", 52], [1.5507837533950806, 11.539582252502441, 20, \"university | college | studies | faculty | theory\", 52], [3.5506746768951416, -11.76757526397705, 21, \"race | prix | car | races | racing\", 51], [1.6309889554977417, 11.620309829711914, 22, \"dalai | lama | tibetan | religion | sri\", 43], [-2.2489805221557617, 15.968255996704102, 23, \"king | henry | duke | england | william\", 39], [-9.479248046875, 14.956618309020996, 24, \"villa | cuban | portuguese | pizarro | mexico\", 37], [1.2123602628707886, 11.190590858459473, 25, \"book | novel | whitman | capote | fiction\", 31], [15.695605278015137, 5.995480060577393, 26, \"nhl | sakic | hockey | wings | game\", 30], [-11.066604614257812, -3.609480381011963, 27, \"roosevelt | kennedy | rockefeller | democratic | republican\", 27], [1.0944805145263672, 11.069929122924805, 28, \"dali | corbusier | macedonski | art | de\", 26], [-11.368868827819824, -3.343294620513916, 29, \"chinese | yi | china | xi | yao\", 25], [-8.17844009399414, -6.868040084838867, 30, \"conservative | cameron | hide | labour | cabinet\", 22], [-2.249037742614746, 15.968255043029785, 31, \"caesar | rome | caesars | claudius | spain\", 22], [15.47082805633545, 5.447066783905029, 32, \"tyson | fight | boxing | heavyweight | knockout\", 21], [-8.32219409942627, -6.930647850036621, 33, \"bjp | election | aquino | candidate | davao\", 19], [-10.929858207702637, -3.746366024017334, 34, \"library | museum | libraries | whitney | guggenheim\", 18], [-8.785246849060059, -5.678651809692383, 35, \"spitzer | attorney | granholm | state | spitzers\", 16], [-8.446096420288086, -5.238515853881836, 36, \"black | march | marchers | civil | parade\", 15], [15.875077247619629, 5.742239952087402, 37, \"collingwood | geelong | hawthorn | tigers | premiership\", 14], [-10.877558708190918, -3.7932262420654297, 38, \"carson | carsons | navajo | adventist | coburn\", 14], [4.528953552246094, -2.9990744590759277, 39, \"army | custer | sheridan | confederate | battle\", 14], [-7.821527004241943, -5.7611985206604, 40, \"brennan | cia | libby | assange | obama\", 13], [0.4278930127620697, 10.384519577026367, 41, \"award | academy | awards | oscar | nominated\", 13], [0.5882853269577026, 10.547006607055664, 42, \"dean | deans | annie | shepard | billy\", 13], [-8.50330924987793, -5.913358211517334, 43, \"browns | mayor | cobb | francisco | city\", 12], [-8.690800666809082, -5.608168601989746, 44, \"edwards | governor | louisiana | election | orleans\", 12], [-11.579402923583984, -3.1260809898376465, 45, \"kapoor | mukherjee | mother | india | mumbai\", 11], [2.5321590900421143, 12.221932411193848, 46, \"hoffmann | berlin | dresden | der | von\", 11], [-8.026248931884766, -7.134283065795898, 47, \"mbeki | african | zuma | mandela | africa\", 11], [-7.916830062866211, -5.7512102127075195, 48, \"bill | act | dea | legislation | drug\", 10]], \"hovertemplate\": \"<b>Topic %{customdata[2]}</b><br>Words: %{customdata[3]}<br>Size: %{customdata[4]}\", \"legendgroup\": \"\", \"marker\": {\"color\": \"#B0BEC5\", \"line\": {\"color\": \"DarkSlateGrey\", \"width\": 2}, \"size\": [1349, 591, 488, 146, 143, 136, 128, 128, 118, 102, 92, 89, 79, 74, 67, 62, 62, 59, 59, 52, 52, 51, 43, 39, 37, 31, 30, 27, 26, 25, 22, 22, 21, 19, 18, 16, 15, 14, 14, 14, 13, 13, 13, 12, 12, 11, 11, 11, 10], \"sizemode\": \"area\", \"sizeref\": 0.843125, \"symbol\": \"circle\"}, \"mode\": \"markers\", \"name\": \"\", \"orientation\": \"v\", \"showlegend\": false, \"type\": \"scatter\", \"x\": [6.125695705413818, 5.758001804351807, 5.923620700836182, 2.1526293754577637, 16.46847915649414, 16.70113754272461, 15.46514892578125, 15.636565208435059, 2.02583384513855, 1.1477129459381104, -9.01387882232666, 2.4749114513397217, 3.550765037536621, 15.988219261169434, -11.311039924621582, 16.038047790527344, -8.693082809448242, -9.46281623840332, 4.528971195220947, -9.432928085327148, 1.5507837533950806, 3.5506746768951416, 1.6309889554977417, -2.2489805221557617, -9.479248046875, 1.2123602628707886, 15.695605278015137, -11.066604614257812, 1.0944805145263672, -11.368868827819824, -8.17844009399414, -2.249037742614746, 15.47082805633545, -8.32219409942627, -10.929858207702637, -8.785246849060059, -8.446096420288086, 15.875077247619629, -10.877558708190918, 4.528953552246094, -7.821527004241943, 0.4278930127620697, 0.5882853269577026, -8.50330924987793, -8.690800666809082, -11.579402923583984, 2.5321590900421143, -8.026248931884766, -7.916830062866211], \"xaxis\": \"x\", \"y\": [20.10988426208496, 20.47060203552246, 20.309280395507812, 11.960526466369629, 6.492654323577881, 6.533502101898193, 5.399609088897705, 6.052538871765137, 12.054017066955566, 11.12513256072998, -5.921928882598877, 12.206186294555664, -11.767651557922363, 6.648822784423828, -3.4029829502105713, 6.484213829040527, -6.083024978637695, 14.973246574401855, -2.9990861415863037, 15.003076553344727, 11.539582252502441, -11.76757526397705, 11.620309829711914, 15.968255996704102, 14.956618309020996, 11.190590858459473, 5.995480060577393, -3.609480381011963, 11.069929122924805, -3.343294620513916, -6.868040084838867, 15.968255043029785, 5.447066783905029, -6.930647850036621, -3.746366024017334, -5.678651809692383, -5.238515853881836, 5.742239952087402, -3.7932262420654297, -2.9990744590759277, -5.7611985206604, 10.384519577026367, 10.547006607055664, -5.913358211517334, -5.608168601989746, -3.1260809898376465, 12.221932411193848, -7.134283065795898, -5.7512102127075195], \"yaxis\": \"y\"}],                        {\"annotations\": [{\"showarrow\": false, \"text\": \"D1\", \"x\": -13.316313362121582, \"y\": 5.004196524620056, \"yshift\": 10}, {\"showarrow\": false, \"text\": \"D2\", \"x\": 2.94499740600586, \"xshift\": 10, \"y\": 23.54119234085083}], \"height\": 650, \"hoverlabel\": {\"bgcolor\": \"white\", \"font\": {\"family\": \"Rockwell\", \"size\": 16}}, \"legend\": {\"itemsizing\": \"constant\", \"tracegroupgap\": 0}, \"margin\": {\"t\": 60}, \"shapes\": [{\"line\": {\"color\": \"#CFD8DC\", \"width\": 2}, \"type\": \"line\", \"x0\": 2.94499740600586, \"x1\": 2.94499740600586, \"y0\": -13.532799291610718, \"y1\": 23.54119234085083}, {\"line\": {\"color\": \"#9E9E9E\", \"width\": 2}, \"type\": \"line\", \"x0\": -13.316313362121582, \"x1\": 19.2063081741333, \"y0\": 5.004196524620056, \"y1\": 5.004196524620056}], \"sliders\": [{\"active\": 0, \"pad\": {\"t\": 50}, \"steps\": [{\"args\": [{\"marker.color\": [[\"red\", \"#B0BEC5\", \"#B0BEC5\", \"#B0BEC5\", \"#B0BEC5\", \"#B0BEC5\", \"#B0BEC5\", \"#B0BEC5\", \"#B0BEC5\", \"#B0BEC5\", \"#B0BEC5\", \"#B0BEC5\", \"#B0BEC5\", \"#B0BEC5\", \"#B0BEC5\", \"#B0BEC5\", \"#B0BEC5\", \"#B0BEC5\", \"#B0BEC5\", \"#B0BEC5\", \"#B0BEC5\", \"#B0BEC5\", \"#B0BEC5\", \"#B0BEC5\", \"#B0BEC5\", \"#B0BEC5\", \"#B0BEC5\", \"#B0BEC5\", \"#B0BEC5\", \"#B0BEC5\", \"#B0BEC5\", \"#B0BEC5\", \"#B0BEC5\", \"#B0BEC5\", \"#B0BEC5\", \"#B0BEC5\", \"#B0BEC5\", \"#B0BEC5\", \"#B0BEC5\", \"#B0BEC5\", \"#B0BEC5\", \"#B0BEC5\", \"#B0BEC5\", \"#B0BEC5\", \"#B0BEC5\", \"#B0BEC5\", \"#B0BEC5\", \"#B0BEC5\", \"#B0BEC5\"]]}], \"label\": \"Topic 0\", \"method\": \"update\"}, {\"args\": [{\"marker.color\": [[\"#B0BEC5\", \"red\", \"#B0BEC5\", \"#B0BEC5\", \"#B0BEC5\", \"#B0BEC5\", \"#B0BEC5\", \"#B0BEC5\", \"#B0BEC5\", \"#B0BEC5\", \"#B0BEC5\", \"#B0BEC5\", \"#B0BEC5\", \"#B0BEC5\", \"#B0BEC5\", \"#B0BEC5\", \"#B0BEC5\", \"#B0BEC5\", \"#B0BEC5\", \"#B0BEC5\", \"#B0BEC5\", \"#B0BEC5\", \"#B0BEC5\", \"#B0BEC5\", \"#B0BEC5\", \"#B0BEC5\", \"#B0BEC5\", \"#B0BEC5\", \"#B0BEC5\", \"#B0BEC5\", \"#B0BEC5\", \"#B0BEC5\", \"#B0BEC5\", \"#B0BEC5\", \"#B0BEC5\", \"#B0BEC5\", \"#B0BEC5\", \"#B0BEC5\", \"#B0BEC5\", \"#B0BEC5\", \"#B0BEC5\", \"#B0BEC5\", \"#B0BEC5\", \"#B0BEC5\", \"#B0BEC5\", \"#B0BEC5\", \"#B0BEC5\", \"#B0BEC5\", \"#B0BEC5\"]]}], \"label\": \"Topic 1\", \"method\": \"update\"}, {\"args\": [{\"marker.color\": [[\"#B0BEC5\", \"#B0BEC5\", \"red\", \"#B0BEC5\", \"#B0BEC5\", \"#B0BEC5\", \"#B0BEC5\", \"#B0BEC5\", \"#B0BEC5\", \"#B0BEC5\", \"#B0BEC5\", \"#B0BEC5\", \"#B0BEC5\", \"#B0BEC5\", \"#B0BEC5\", \"#B0BEC5\", \"#B0BEC5\", \"#B0BEC5\", \"#B0BEC5\", \"#B0BEC5\", \"#B0BEC5\", \"#B0BEC5\", \"#B0BEC5\", \"#B0BEC5\", \"#B0BEC5\", \"#B0BEC5\", \"#B0BEC5\", \"#B0BEC5\", \"#B0BEC5\", \"#B0BEC5\", \"#B0BEC5\", \"#B0BEC5\", \"#B0BEC5\", \"#B0BEC5\", \"#B0BEC5\", \"#B0BEC5\", \"#B0BEC5\", \"#B0BEC5\", \"#B0BEC5\", \"#B0BEC5\", \"#B0BEC5\", \"#B0BEC5\", \"#B0BEC5\", \"#B0BEC5\", \"#B0BEC5\", \"#B0BEC5\", \"#B0BEC5\", \"#B0BEC5\", \"#B0BEC5\"]]}], \"label\": \"Topic 2\", \"method\": \"update\"}, {\"args\": [{\"marker.color\": [[\"#B0BEC5\", \"#B0BEC5\", \"#B0BEC5\", \"red\", \"#B0BEC5\", \"#B0BEC5\", \"#B0BEC5\", \"#B0BEC5\", \"#B0BEC5\", \"#B0BEC5\", \"#B0BEC5\", \"#B0BEC5\", \"#B0BEC5\", \"#B0BEC5\", \"#B0BEC5\", \"#B0BEC5\", \"#B0BEC5\", \"#B0BEC5\", \"#B0BEC5\", \"#B0BEC5\", \"#B0BEC5\", \"#B0BEC5\", \"#B0BEC5\", \"#B0BEC5\", \"#B0BEC5\", \"#B0BEC5\", \"#B0BEC5\", \"#B0BEC5\", \"#B0BEC5\", \"#B0BEC5\", \"#B0BEC5\", \"#B0BEC5\", \"#B0BEC5\", \"#B0BEC5\", \"#B0BEC5\", \"#B0BEC5\", \"#B0BEC5\", \"#B0BEC5\", \"#B0BEC5\", \"#B0BEC5\", \"#B0BEC5\", \"#B0BEC5\", \"#B0BEC5\", \"#B0BEC5\", \"#B0BEC5\", \"#B0BEC5\", \"#B0BEC5\", \"#B0BEC5\", \"#B0BEC5\"]]}], \"label\": \"Topic 3\", \"method\": \"update\"}, {\"args\": [{\"marker.color\": [[\"#B0BEC5\", \"#B0BEC5\", \"#B0BEC5\", \"#B0BEC5\", \"red\", \"#B0BEC5\", \"#B0BEC5\", \"#B0BEC5\", \"#B0BEC5\", \"#B0BEC5\", \"#B0BEC5\", \"#B0BEC5\", \"#B0BEC5\", \"#B0BEC5\", \"#B0BEC5\", \"#B0BEC5\", \"#B0BEC5\", \"#B0BEC5\", \"#B0BEC5\", \"#B0BEC5\", \"#B0BEC5\", \"#B0BEC5\", \"#B0BEC5\", \"#B0BEC5\", \"#B0BEC5\", \"#B0BEC5\", \"#B0BEC5\", \"#B0BEC5\", \"#B0BEC5\", \"#B0BEC5\", \"#B0BEC5\", \"#B0BEC5\", \"#B0BEC5\", \"#B0BEC5\", \"#B0BEC5\", \"#B0BEC5\", \"#B0BEC5\", \"#B0BEC5\", \"#B0BEC5\", \"#B0BEC5\", \"#B0BEC5\", \"#B0BEC5\", \"#B0BEC5\", \"#B0BEC5\", \"#B0BEC5\", \"#B0BEC5\", \"#B0BEC5\", \"#B0BEC5\", \"#B0BEC5\"]]}], \"label\": \"Topic 4\", \"method\": \"update\"}, {\"args\": [{\"marker.color\": [[\"#B0BEC5\", \"#B0BEC5\", \"#B0BEC5\", \"#B0BEC5\", \"#B0BEC5\", \"red\", \"#B0BEC5\", \"#B0BEC5\", \"#B0BEC5\", \"#B0BEC5\", \"#B0BEC5\", \"#B0BEC5\", \"#B0BEC5\", \"#B0BEC5\", \"#B0BEC5\", \"#B0BEC5\", \"#B0BEC5\", \"#B0BEC5\", \"#B0BEC5\", \"#B0BEC5\", \"#B0BEC5\", \"#B0BEC5\", \"#B0BEC5\", \"#B0BEC5\", \"#B0BEC5\", \"#B0BEC5\", \"#B0BEC5\", \"#B0BEC5\", \"#B0BEC5\", \"#B0BEC5\", \"#B0BEC5\", \"#B0BEC5\", \"#B0BEC5\", \"#B0BEC5\", \"#B0BEC5\", \"#B0BEC5\", \"#B0BEC5\", \"#B0BEC5\", \"#B0BEC5\", \"#B0BEC5\", \"#B0BEC5\", \"#B0BEC5\", \"#B0BEC5\", \"#B0BEC5\", \"#B0BEC5\", \"#B0BEC5\", \"#B0BEC5\", \"#B0BEC5\", \"#B0BEC5\"]]}], \"label\": \"Topic 5\", \"method\": \"update\"}, {\"args\": [{\"marker.color\": [[\"#B0BEC5\", \"#B0BEC5\", \"#B0BEC5\", \"#B0BEC5\", \"#B0BEC5\", \"#B0BEC5\", \"red\", \"#B0BEC5\", \"#B0BEC5\", \"#B0BEC5\", \"#B0BEC5\", \"#B0BEC5\", \"#B0BEC5\", \"#B0BEC5\", \"#B0BEC5\", \"#B0BEC5\", \"#B0BEC5\", \"#B0BEC5\", \"#B0BEC5\", \"#B0BEC5\", \"#B0BEC5\", \"#B0BEC5\", \"#B0BEC5\", \"#B0BEC5\", \"#B0BEC5\", \"#B0BEC5\", \"#B0BEC5\", \"#B0BEC5\", \"#B0BEC5\", \"#B0BEC5\", \"#B0BEC5\", \"#B0BEC5\", \"#B0BEC5\", \"#B0BEC5\", \"#B0BEC5\", \"#B0BEC5\", \"#B0BEC5\", \"#B0BEC5\", \"#B0BEC5\", \"#B0BEC5\", \"#B0BEC5\", \"#B0BEC5\", \"#B0BEC5\", \"#B0BEC5\", \"#B0BEC5\", \"#B0BEC5\", \"#B0BEC5\", \"#B0BEC5\", \"#B0BEC5\"]]}], \"label\": \"Topic 6\", \"method\": \"update\"}, {\"args\": [{\"marker.color\": [[\"#B0BEC5\", \"#B0BEC5\", \"#B0BEC5\", \"#B0BEC5\", \"#B0BEC5\", \"#B0BEC5\", \"#B0BEC5\", \"red\", \"#B0BEC5\", \"#B0BEC5\", \"#B0BEC5\", \"#B0BEC5\", \"#B0BEC5\", \"#B0BEC5\", \"#B0BEC5\", \"#B0BEC5\", \"#B0BEC5\", \"#B0BEC5\", \"#B0BEC5\", \"#B0BEC5\", \"#B0BEC5\", \"#B0BEC5\", \"#B0BEC5\", \"#B0BEC5\", \"#B0BEC5\", \"#B0BEC5\", \"#B0BEC5\", \"#B0BEC5\", \"#B0BEC5\", \"#B0BEC5\", \"#B0BEC5\", \"#B0BEC5\", \"#B0BEC5\", \"#B0BEC5\", \"#B0BEC5\", \"#B0BEC5\", \"#B0BEC5\", \"#B0BEC5\", \"#B0BEC5\", \"#B0BEC5\", \"#B0BEC5\", \"#B0BEC5\", \"#B0BEC5\", \"#B0BEC5\", \"#B0BEC5\", \"#B0BEC5\", \"#B0BEC5\", \"#B0BEC5\", \"#B0BEC5\"]]}], \"label\": \"Topic 7\", \"method\": \"update\"}, {\"args\": [{\"marker.color\": [[\"#B0BEC5\", \"#B0BEC5\", \"#B0BEC5\", \"#B0BEC5\", \"#B0BEC5\", \"#B0BEC5\", \"#B0BEC5\", \"#B0BEC5\", \"red\", \"#B0BEC5\", \"#B0BEC5\", \"#B0BEC5\", \"#B0BEC5\", \"#B0BEC5\", \"#B0BEC5\", \"#B0BEC5\", \"#B0BEC5\", \"#B0BEC5\", \"#B0BEC5\", \"#B0BEC5\", \"#B0BEC5\", \"#B0BEC5\", \"#B0BEC5\", \"#B0BEC5\", \"#B0BEC5\", \"#B0BEC5\", \"#B0BEC5\", \"#B0BEC5\", \"#B0BEC5\", \"#B0BEC5\", \"#B0BEC5\", \"#B0BEC5\", \"#B0BEC5\", \"#B0BEC5\", \"#B0BEC5\", \"#B0BEC5\", \"#B0BEC5\", \"#B0BEC5\", \"#B0BEC5\", \"#B0BEC5\", \"#B0BEC5\", \"#B0BEC5\", \"#B0BEC5\", \"#B0BEC5\", \"#B0BEC5\", \"#B0BEC5\", \"#B0BEC5\", \"#B0BEC5\", \"#B0BEC5\"]]}], \"label\": \"Topic 8\", \"method\": \"update\"}, {\"args\": [{\"marker.color\": [[\"#B0BEC5\", \"#B0BEC5\", \"#B0BEC5\", \"#B0BEC5\", \"#B0BEC5\", \"#B0BEC5\", \"#B0BEC5\", \"#B0BEC5\", \"#B0BEC5\", \"red\", \"#B0BEC5\", \"#B0BEC5\", \"#B0BEC5\", \"#B0BEC5\", \"#B0BEC5\", \"#B0BEC5\", \"#B0BEC5\", \"#B0BEC5\", \"#B0BEC5\", \"#B0BEC5\", \"#B0BEC5\", \"#B0BEC5\", \"#B0BEC5\", \"#B0BEC5\", \"#B0BEC5\", \"#B0BEC5\", \"#B0BEC5\", \"#B0BEC5\", \"#B0BEC5\", \"#B0BEC5\", \"#B0BEC5\", \"#B0BEC5\", \"#B0BEC5\", \"#B0BEC5\", \"#B0BEC5\", \"#B0BEC5\", \"#B0BEC5\", \"#B0BEC5\", \"#B0BEC5\", \"#B0BEC5\", \"#B0BEC5\", \"#B0BEC5\", \"#B0BEC5\", \"#B0BEC5\", \"#B0BEC5\", \"#B0BEC5\", \"#B0BEC5\", \"#B0BEC5\", \"#B0BEC5\"]]}], \"label\": \"Topic 9\", \"method\": \"update\"}, {\"args\": [{\"marker.color\": [[\"#B0BEC5\", \"#B0BEC5\", \"#B0BEC5\", \"#B0BEC5\", \"#B0BEC5\", \"#B0BEC5\", \"#B0BEC5\", \"#B0BEC5\", \"#B0BEC5\", \"#B0BEC5\", \"red\", \"#B0BEC5\", \"#B0BEC5\", \"#B0BEC5\", \"#B0BEC5\", \"#B0BEC5\", \"#B0BEC5\", \"#B0BEC5\", \"#B0BEC5\", \"#B0BEC5\", \"#B0BEC5\", \"#B0BEC5\", \"#B0BEC5\", \"#B0BEC5\", \"#B0BEC5\", \"#B0BEC5\", \"#B0BEC5\", \"#B0BEC5\", \"#B0BEC5\", \"#B0BEC5\", \"#B0BEC5\", \"#B0BEC5\", \"#B0BEC5\", \"#B0BEC5\", \"#B0BEC5\", \"#B0BEC5\", \"#B0BEC5\", \"#B0BEC5\", \"#B0BEC5\", \"#B0BEC5\", \"#B0BEC5\", \"#B0BEC5\", \"#B0BEC5\", \"#B0BEC5\", \"#B0BEC5\", \"#B0BEC5\", \"#B0BEC5\", \"#B0BEC5\", \"#B0BEC5\"]]}], \"label\": \"Topic 10\", \"method\": \"update\"}, {\"args\": [{\"marker.color\": [[\"#B0BEC5\", \"#B0BEC5\", \"#B0BEC5\", \"#B0BEC5\", \"#B0BEC5\", \"#B0BEC5\", \"#B0BEC5\", \"#B0BEC5\", \"#B0BEC5\", \"#B0BEC5\", \"#B0BEC5\", \"red\", \"#B0BEC5\", \"#B0BEC5\", \"#B0BEC5\", \"#B0BEC5\", \"#B0BEC5\", \"#B0BEC5\", \"#B0BEC5\", \"#B0BEC5\", \"#B0BEC5\", \"#B0BEC5\", \"#B0BEC5\", \"#B0BEC5\", \"#B0BEC5\", \"#B0BEC5\", \"#B0BEC5\", \"#B0BEC5\", \"#B0BEC5\", \"#B0BEC5\", \"#B0BEC5\", \"#B0BEC5\", \"#B0BEC5\", \"#B0BEC5\", \"#B0BEC5\", \"#B0BEC5\", \"#B0BEC5\", \"#B0BEC5\", \"#B0BEC5\", \"#B0BEC5\", \"#B0BEC5\", \"#B0BEC5\", \"#B0BEC5\", \"#B0BEC5\", \"#B0BEC5\", \"#B0BEC5\", \"#B0BEC5\", \"#B0BEC5\", \"#B0BEC5\"]]}], \"label\": \"Topic 11\", \"method\": \"update\"}, {\"args\": [{\"marker.color\": [[\"#B0BEC5\", \"#B0BEC5\", \"#B0BEC5\", \"#B0BEC5\", \"#B0BEC5\", \"#B0BEC5\", \"#B0BEC5\", \"#B0BEC5\", \"#B0BEC5\", \"#B0BEC5\", \"#B0BEC5\", \"#B0BEC5\", \"red\", \"#B0BEC5\", \"#B0BEC5\", \"#B0BEC5\", \"#B0BEC5\", \"#B0BEC5\", \"#B0BEC5\", \"#B0BEC5\", \"#B0BEC5\", \"#B0BEC5\", \"#B0BEC5\", \"#B0BEC5\", \"#B0BEC5\", \"#B0BEC5\", \"#B0BEC5\", \"#B0BEC5\", \"#B0BEC5\", \"#B0BEC5\", \"#B0BEC5\", \"#B0BEC5\", \"#B0BEC5\", \"#B0BEC5\", \"#B0BEC5\", \"#B0BEC5\", \"#B0BEC5\", \"#B0BEC5\", \"#B0BEC5\", \"#B0BEC5\", \"#B0BEC5\", \"#B0BEC5\", \"#B0BEC5\", \"#B0BEC5\", \"#B0BEC5\", \"#B0BEC5\", \"#B0BEC5\", \"#B0BEC5\", \"#B0BEC5\"]]}], \"label\": \"Topic 12\", \"method\": \"update\"}, {\"args\": [{\"marker.color\": [[\"#B0BEC5\", \"#B0BEC5\", \"#B0BEC5\", \"#B0BEC5\", \"#B0BEC5\", \"#B0BEC5\", \"#B0BEC5\", \"#B0BEC5\", \"#B0BEC5\", \"#B0BEC5\", \"#B0BEC5\", \"#B0BEC5\", \"#B0BEC5\", \"red\", \"#B0BEC5\", \"#B0BEC5\", \"#B0BEC5\", \"#B0BEC5\", \"#B0BEC5\", \"#B0BEC5\", \"#B0BEC5\", \"#B0BEC5\", \"#B0BEC5\", \"#B0BEC5\", \"#B0BEC5\", \"#B0BEC5\", \"#B0BEC5\", \"#B0BEC5\", \"#B0BEC5\", \"#B0BEC5\", \"#B0BEC5\", \"#B0BEC5\", \"#B0BEC5\", \"#B0BEC5\", \"#B0BEC5\", \"#B0BEC5\", \"#B0BEC5\", \"#B0BEC5\", \"#B0BEC5\", \"#B0BEC5\", \"#B0BEC5\", \"#B0BEC5\", \"#B0BEC5\", \"#B0BEC5\", \"#B0BEC5\", \"#B0BEC5\", \"#B0BEC5\", \"#B0BEC5\", \"#B0BEC5\"]]}], \"label\": \"Topic 13\", \"method\": \"update\"}, {\"args\": [{\"marker.color\": [[\"#B0BEC5\", \"#B0BEC5\", \"#B0BEC5\", \"#B0BEC5\", \"#B0BEC5\", \"#B0BEC5\", \"#B0BEC5\", \"#B0BEC5\", \"#B0BEC5\", \"#B0BEC5\", \"#B0BEC5\", \"#B0BEC5\", \"#B0BEC5\", \"#B0BEC5\", \"red\", \"#B0BEC5\", \"#B0BEC5\", \"#B0BEC5\", \"#B0BEC5\", \"#B0BEC5\", \"#B0BEC5\", \"#B0BEC5\", \"#B0BEC5\", \"#B0BEC5\", \"#B0BEC5\", \"#B0BEC5\", \"#B0BEC5\", \"#B0BEC5\", \"#B0BEC5\", \"#B0BEC5\", \"#B0BEC5\", \"#B0BEC5\", \"#B0BEC5\", \"#B0BEC5\", \"#B0BEC5\", \"#B0BEC5\", \"#B0BEC5\", \"#B0BEC5\", \"#B0BEC5\", \"#B0BEC5\", \"#B0BEC5\", \"#B0BEC5\", \"#B0BEC5\", \"#B0BEC5\", \"#B0BEC5\", \"#B0BEC5\", \"#B0BEC5\", \"#B0BEC5\", \"#B0BEC5\"]]}], \"label\": \"Topic 14\", \"method\": \"update\"}, {\"args\": [{\"marker.color\": [[\"#B0BEC5\", \"#B0BEC5\", \"#B0BEC5\", \"#B0BEC5\", \"#B0BEC5\", \"#B0BEC5\", \"#B0BEC5\", \"#B0BEC5\", \"#B0BEC5\", \"#B0BEC5\", \"#B0BEC5\", \"#B0BEC5\", \"#B0BEC5\", \"#B0BEC5\", \"#B0BEC5\", \"red\", \"#B0BEC5\", \"#B0BEC5\", \"#B0BEC5\", \"#B0BEC5\", \"#B0BEC5\", \"#B0BEC5\", \"#B0BEC5\", \"#B0BEC5\", \"#B0BEC5\", \"#B0BEC5\", \"#B0BEC5\", \"#B0BEC5\", \"#B0BEC5\", \"#B0BEC5\", \"#B0BEC5\", \"#B0BEC5\", \"#B0BEC5\", \"#B0BEC5\", \"#B0BEC5\", \"#B0BEC5\", \"#B0BEC5\", \"#B0BEC5\", \"#B0BEC5\", \"#B0BEC5\", \"#B0BEC5\", \"#B0BEC5\", \"#B0BEC5\", \"#B0BEC5\", \"#B0BEC5\", \"#B0BEC5\", \"#B0BEC5\", \"#B0BEC5\", \"#B0BEC5\"]]}], \"label\": \"Topic 15\", \"method\": \"update\"}, {\"args\": [{\"marker.color\": [[\"#B0BEC5\", \"#B0BEC5\", \"#B0BEC5\", \"#B0BEC5\", \"#B0BEC5\", \"#B0BEC5\", \"#B0BEC5\", \"#B0BEC5\", \"#B0BEC5\", \"#B0BEC5\", \"#B0BEC5\", \"#B0BEC5\", \"#B0BEC5\", \"#B0BEC5\", \"#B0BEC5\", \"#B0BEC5\", \"red\", \"#B0BEC5\", \"#B0BEC5\", \"#B0BEC5\", \"#B0BEC5\", \"#B0BEC5\", \"#B0BEC5\", \"#B0BEC5\", \"#B0BEC5\", \"#B0BEC5\", \"#B0BEC5\", \"#B0BEC5\", \"#B0BEC5\", \"#B0BEC5\", \"#B0BEC5\", \"#B0BEC5\", \"#B0BEC5\", \"#B0BEC5\", \"#B0BEC5\", \"#B0BEC5\", \"#B0BEC5\", \"#B0BEC5\", \"#B0BEC5\", \"#B0BEC5\", \"#B0BEC5\", \"#B0BEC5\", \"#B0BEC5\", \"#B0BEC5\", \"#B0BEC5\", \"#B0BEC5\", \"#B0BEC5\", \"#B0BEC5\", \"#B0BEC5\"]]}], \"label\": \"Topic 16\", \"method\": \"update\"}, {\"args\": [{\"marker.color\": [[\"#B0BEC5\", \"#B0BEC5\", \"#B0BEC5\", \"#B0BEC5\", \"#B0BEC5\", \"#B0BEC5\", \"#B0BEC5\", \"#B0BEC5\", \"#B0BEC5\", \"#B0BEC5\", \"#B0BEC5\", \"#B0BEC5\", \"#B0BEC5\", \"#B0BEC5\", \"#B0BEC5\", \"#B0BEC5\", \"#B0BEC5\", \"red\", \"#B0BEC5\", \"#B0BEC5\", \"#B0BEC5\", \"#B0BEC5\", \"#B0BEC5\", \"#B0BEC5\", \"#B0BEC5\", \"#B0BEC5\", \"#B0BEC5\", \"#B0BEC5\", \"#B0BEC5\", \"#B0BEC5\", \"#B0BEC5\", \"#B0BEC5\", \"#B0BEC5\", \"#B0BEC5\", \"#B0BEC5\", \"#B0BEC5\", \"#B0BEC5\", \"#B0BEC5\", \"#B0BEC5\", \"#B0BEC5\", \"#B0BEC5\", \"#B0BEC5\", \"#B0BEC5\", \"#B0BEC5\", \"#B0BEC5\", \"#B0BEC5\", \"#B0BEC5\", \"#B0BEC5\", \"#B0BEC5\"]]}], \"label\": \"Topic 17\", \"method\": \"update\"}, {\"args\": [{\"marker.color\": [[\"#B0BEC5\", \"#B0BEC5\", \"#B0BEC5\", \"#B0BEC5\", \"#B0BEC5\", \"#B0BEC5\", \"#B0BEC5\", \"#B0BEC5\", \"#B0BEC5\", \"#B0BEC5\", \"#B0BEC5\", \"#B0BEC5\", \"#B0BEC5\", \"#B0BEC5\", \"#B0BEC5\", \"#B0BEC5\", \"#B0BEC5\", \"#B0BEC5\", \"red\", \"#B0BEC5\", \"#B0BEC5\", \"#B0BEC5\", \"#B0BEC5\", \"#B0BEC5\", \"#B0BEC5\", \"#B0BEC5\", \"#B0BEC5\", \"#B0BEC5\", \"#B0BEC5\", \"#B0BEC5\", \"#B0BEC5\", \"#B0BEC5\", \"#B0BEC5\", \"#B0BEC5\", \"#B0BEC5\", \"#B0BEC5\", \"#B0BEC5\", \"#B0BEC5\", \"#B0BEC5\", \"#B0BEC5\", \"#B0BEC5\", \"#B0BEC5\", \"#B0BEC5\", \"#B0BEC5\", \"#B0BEC5\", \"#B0BEC5\", \"#B0BEC5\", \"#B0BEC5\", \"#B0BEC5\"]]}], \"label\": \"Topic 18\", \"method\": \"update\"}, {\"args\": [{\"marker.color\": [[\"#B0BEC5\", \"#B0BEC5\", \"#B0BEC5\", \"#B0BEC5\", \"#B0BEC5\", \"#B0BEC5\", \"#B0BEC5\", \"#B0BEC5\", \"#B0BEC5\", \"#B0BEC5\", \"#B0BEC5\", \"#B0BEC5\", \"#B0BEC5\", \"#B0BEC5\", \"#B0BEC5\", \"#B0BEC5\", \"#B0BEC5\", \"#B0BEC5\", \"#B0BEC5\", \"red\", \"#B0BEC5\", \"#B0BEC5\", \"#B0BEC5\", \"#B0BEC5\", \"#B0BEC5\", \"#B0BEC5\", \"#B0BEC5\", \"#B0BEC5\", \"#B0BEC5\", \"#B0BEC5\", \"#B0BEC5\", \"#B0BEC5\", \"#B0BEC5\", \"#B0BEC5\", \"#B0BEC5\", \"#B0BEC5\", \"#B0BEC5\", \"#B0BEC5\", \"#B0BEC5\", \"#B0BEC5\", \"#B0BEC5\", \"#B0BEC5\", \"#B0BEC5\", \"#B0BEC5\", \"#B0BEC5\", \"#B0BEC5\", \"#B0BEC5\", \"#B0BEC5\", \"#B0BEC5\"]]}], \"label\": \"Topic 19\", \"method\": \"update\"}, {\"args\": [{\"marker.color\": [[\"#B0BEC5\", \"#B0BEC5\", \"#B0BEC5\", \"#B0BEC5\", \"#B0BEC5\", \"#B0BEC5\", \"#B0BEC5\", \"#B0BEC5\", \"#B0BEC5\", \"#B0BEC5\", \"#B0BEC5\", \"#B0BEC5\", \"#B0BEC5\", \"#B0BEC5\", \"#B0BEC5\", \"#B0BEC5\", \"#B0BEC5\", \"#B0BEC5\", \"#B0BEC5\", \"#B0BEC5\", \"red\", \"#B0BEC5\", \"#B0BEC5\", \"#B0BEC5\", \"#B0BEC5\", \"#B0BEC5\", \"#B0BEC5\", \"#B0BEC5\", \"#B0BEC5\", \"#B0BEC5\", \"#B0BEC5\", \"#B0BEC5\", \"#B0BEC5\", \"#B0BEC5\", \"#B0BEC5\", \"#B0BEC5\", \"#B0BEC5\", \"#B0BEC5\", \"#B0BEC5\", \"#B0BEC5\", \"#B0BEC5\", \"#B0BEC5\", \"#B0BEC5\", \"#B0BEC5\", \"#B0BEC5\", \"#B0BEC5\", \"#B0BEC5\", \"#B0BEC5\", \"#B0BEC5\"]]}], \"label\": \"Topic 20\", \"method\": \"update\"}, {\"args\": [{\"marker.color\": [[\"#B0BEC5\", \"#B0BEC5\", \"#B0BEC5\", \"#B0BEC5\", \"#B0BEC5\", \"#B0BEC5\", \"#B0BEC5\", \"#B0BEC5\", \"#B0BEC5\", \"#B0BEC5\", \"#B0BEC5\", \"#B0BEC5\", \"#B0BEC5\", \"#B0BEC5\", \"#B0BEC5\", \"#B0BEC5\", \"#B0BEC5\", \"#B0BEC5\", \"#B0BEC5\", \"#B0BEC5\", \"#B0BEC5\", \"red\", \"#B0BEC5\", \"#B0BEC5\", \"#B0BEC5\", \"#B0BEC5\", \"#B0BEC5\", \"#B0BEC5\", \"#B0BEC5\", \"#B0BEC5\", \"#B0BEC5\", \"#B0BEC5\", \"#B0BEC5\", \"#B0BEC5\", \"#B0BEC5\", \"#B0BEC5\", \"#B0BEC5\", \"#B0BEC5\", \"#B0BEC5\", \"#B0BEC5\", \"#B0BEC5\", \"#B0BEC5\", \"#B0BEC5\", \"#B0BEC5\", \"#B0BEC5\", \"#B0BEC5\", \"#B0BEC5\", \"#B0BEC5\", \"#B0BEC5\"]]}], \"label\": \"Topic 21\", \"method\": \"update\"}, {\"args\": [{\"marker.color\": [[\"#B0BEC5\", \"#B0BEC5\", \"#B0BEC5\", \"#B0BEC5\", \"#B0BEC5\", \"#B0BEC5\", \"#B0BEC5\", \"#B0BEC5\", \"#B0BEC5\", \"#B0BEC5\", \"#B0BEC5\", \"#B0BEC5\", \"#B0BEC5\", \"#B0BEC5\", \"#B0BEC5\", \"#B0BEC5\", \"#B0BEC5\", \"#B0BEC5\", \"#B0BEC5\", \"#B0BEC5\", \"#B0BEC5\", \"#B0BEC5\", \"red\", \"#B0BEC5\", \"#B0BEC5\", \"#B0BEC5\", \"#B0BEC5\", \"#B0BEC5\", \"#B0BEC5\", \"#B0BEC5\", \"#B0BEC5\", \"#B0BEC5\", \"#B0BEC5\", \"#B0BEC5\", \"#B0BEC5\", \"#B0BEC5\", \"#B0BEC5\", \"#B0BEC5\", \"#B0BEC5\", \"#B0BEC5\", \"#B0BEC5\", \"#B0BEC5\", \"#B0BEC5\", \"#B0BEC5\", \"#B0BEC5\", \"#B0BEC5\", \"#B0BEC5\", \"#B0BEC5\", \"#B0BEC5\"]]}], \"label\": \"Topic 22\", \"method\": \"update\"}, {\"args\": [{\"marker.color\": [[\"#B0BEC5\", \"#B0BEC5\", \"#B0BEC5\", \"#B0BEC5\", \"#B0BEC5\", \"#B0BEC5\", \"#B0BEC5\", \"#B0BEC5\", \"#B0BEC5\", \"#B0BEC5\", \"#B0BEC5\", \"#B0BEC5\", \"#B0BEC5\", \"#B0BEC5\", \"#B0BEC5\", \"#B0BEC5\", \"#B0BEC5\", \"#B0BEC5\", \"#B0BEC5\", \"#B0BEC5\", \"#B0BEC5\", \"#B0BEC5\", \"#B0BEC5\", \"red\", \"#B0BEC5\", \"#B0BEC5\", \"#B0BEC5\", \"#B0BEC5\", \"#B0BEC5\", \"#B0BEC5\", \"#B0BEC5\", \"#B0BEC5\", \"#B0BEC5\", \"#B0BEC5\", \"#B0BEC5\", \"#B0BEC5\", \"#B0BEC5\", \"#B0BEC5\", \"#B0BEC5\", \"#B0BEC5\", \"#B0BEC5\", \"#B0BEC5\", \"#B0BEC5\", \"#B0BEC5\", \"#B0BEC5\", \"#B0BEC5\", \"#B0BEC5\", \"#B0BEC5\", \"#B0BEC5\"]]}], \"label\": \"Topic 23\", \"method\": \"update\"}, {\"args\": [{\"marker.color\": [[\"#B0BEC5\", \"#B0BEC5\", \"#B0BEC5\", \"#B0BEC5\", \"#B0BEC5\", \"#B0BEC5\", \"#B0BEC5\", \"#B0BEC5\", \"#B0BEC5\", \"#B0BEC5\", \"#B0BEC5\", \"#B0BEC5\", \"#B0BEC5\", \"#B0BEC5\", \"#B0BEC5\", \"#B0BEC5\", \"#B0BEC5\", \"#B0BEC5\", \"#B0BEC5\", \"#B0BEC5\", \"#B0BEC5\", \"#B0BEC5\", \"#B0BEC5\", \"#B0BEC5\", \"red\", \"#B0BEC5\", \"#B0BEC5\", \"#B0BEC5\", \"#B0BEC5\", \"#B0BEC5\", \"#B0BEC5\", \"#B0BEC5\", \"#B0BEC5\", \"#B0BEC5\", \"#B0BEC5\", \"#B0BEC5\", \"#B0BEC5\", \"#B0BEC5\", \"#B0BEC5\", \"#B0BEC5\", \"#B0BEC5\", \"#B0BEC5\", \"#B0BEC5\", \"#B0BEC5\", \"#B0BEC5\", \"#B0BEC5\", \"#B0BEC5\", \"#B0BEC5\", \"#B0BEC5\"]]}], \"label\": \"Topic 24\", \"method\": \"update\"}, {\"args\": [{\"marker.color\": [[\"#B0BEC5\", \"#B0BEC5\", \"#B0BEC5\", \"#B0BEC5\", \"#B0BEC5\", \"#B0BEC5\", \"#B0BEC5\", \"#B0BEC5\", \"#B0BEC5\", \"#B0BEC5\", \"#B0BEC5\", \"#B0BEC5\", \"#B0BEC5\", \"#B0BEC5\", \"#B0BEC5\", \"#B0BEC5\", \"#B0BEC5\", \"#B0BEC5\", \"#B0BEC5\", \"#B0BEC5\", \"#B0BEC5\", \"#B0BEC5\", \"#B0BEC5\", \"#B0BEC5\", \"#B0BEC5\", \"red\", \"#B0BEC5\", \"#B0BEC5\", \"#B0BEC5\", \"#B0BEC5\", \"#B0BEC5\", \"#B0BEC5\", \"#B0BEC5\", \"#B0BEC5\", \"#B0BEC5\", \"#B0BEC5\", \"#B0BEC5\", \"#B0BEC5\", \"#B0BEC5\", \"#B0BEC5\", \"#B0BEC5\", \"#B0BEC5\", \"#B0BEC5\", \"#B0BEC5\", \"#B0BEC5\", \"#B0BEC5\", \"#B0BEC5\", \"#B0BEC5\", \"#B0BEC5\"]]}], \"label\": \"Topic 25\", \"method\": \"update\"}, {\"args\": [{\"marker.color\": [[\"#B0BEC5\", \"#B0BEC5\", \"#B0BEC5\", \"#B0BEC5\", \"#B0BEC5\", \"#B0BEC5\", \"#B0BEC5\", \"#B0BEC5\", \"#B0BEC5\", \"#B0BEC5\", \"#B0BEC5\", \"#B0BEC5\", \"#B0BEC5\", \"#B0BEC5\", \"#B0BEC5\", \"#B0BEC5\", \"#B0BEC5\", \"#B0BEC5\", \"#B0BEC5\", \"#B0BEC5\", \"#B0BEC5\", \"#B0BEC5\", \"#B0BEC5\", \"#B0BEC5\", \"#B0BEC5\", \"#B0BEC5\", \"red\", \"#B0BEC5\", \"#B0BEC5\", \"#B0BEC5\", \"#B0BEC5\", \"#B0BEC5\", \"#B0BEC5\", \"#B0BEC5\", \"#B0BEC5\", \"#B0BEC5\", \"#B0BEC5\", \"#B0BEC5\", \"#B0BEC5\", \"#B0BEC5\", \"#B0BEC5\", \"#B0BEC5\", \"#B0BEC5\", \"#B0BEC5\", \"#B0BEC5\", \"#B0BEC5\", \"#B0BEC5\", \"#B0BEC5\", \"#B0BEC5\"]]}], \"label\": \"Topic 26\", \"method\": \"update\"}, {\"args\": [{\"marker.color\": [[\"#B0BEC5\", \"#B0BEC5\", \"#B0BEC5\", \"#B0BEC5\", \"#B0BEC5\", \"#B0BEC5\", \"#B0BEC5\", \"#B0BEC5\", \"#B0BEC5\", \"#B0BEC5\", \"#B0BEC5\", \"#B0BEC5\", \"#B0BEC5\", \"#B0BEC5\", \"#B0BEC5\", \"#B0BEC5\", \"#B0BEC5\", \"#B0BEC5\", \"#B0BEC5\", \"#B0BEC5\", \"#B0BEC5\", \"#B0BEC5\", \"#B0BEC5\", \"#B0BEC5\", \"#B0BEC5\", \"#B0BEC5\", \"#B0BEC5\", \"red\", \"#B0BEC5\", \"#B0BEC5\", \"#B0BEC5\", \"#B0BEC5\", \"#B0BEC5\", \"#B0BEC5\", \"#B0BEC5\", \"#B0BEC5\", \"#B0BEC5\", \"#B0BEC5\", \"#B0BEC5\", \"#B0BEC5\", \"#B0BEC5\", \"#B0BEC5\", \"#B0BEC5\", \"#B0BEC5\", \"#B0BEC5\", \"#B0BEC5\", \"#B0BEC5\", \"#B0BEC5\", \"#B0BEC5\"]]}], \"label\": \"Topic 27\", \"method\": \"update\"}, {\"args\": [{\"marker.color\": [[\"#B0BEC5\", \"#B0BEC5\", \"#B0BEC5\", \"#B0BEC5\", \"#B0BEC5\", \"#B0BEC5\", \"#B0BEC5\", \"#B0BEC5\", \"#B0BEC5\", \"#B0BEC5\", \"#B0BEC5\", \"#B0BEC5\", \"#B0BEC5\", \"#B0BEC5\", \"#B0BEC5\", \"#B0BEC5\", \"#B0BEC5\", \"#B0BEC5\", \"#B0BEC5\", \"#B0BEC5\", \"#B0BEC5\", \"#B0BEC5\", \"#B0BEC5\", \"#B0BEC5\", \"#B0BEC5\", \"#B0BEC5\", \"#B0BEC5\", \"#B0BEC5\", \"red\", \"#B0BEC5\", \"#B0BEC5\", \"#B0BEC5\", \"#B0BEC5\", \"#B0BEC5\", \"#B0BEC5\", \"#B0BEC5\", \"#B0BEC5\", \"#B0BEC5\", \"#B0BEC5\", \"#B0BEC5\", \"#B0BEC5\", \"#B0BEC5\", \"#B0BEC5\", \"#B0BEC5\", \"#B0BEC5\", \"#B0BEC5\", \"#B0BEC5\", \"#B0BEC5\", \"#B0BEC5\"]]}], \"label\": \"Topic 28\", \"method\": \"update\"}, {\"args\": [{\"marker.color\": [[\"#B0BEC5\", \"#B0BEC5\", \"#B0BEC5\", \"#B0BEC5\", \"#B0BEC5\", \"#B0BEC5\", \"#B0BEC5\", \"#B0BEC5\", \"#B0BEC5\", \"#B0BEC5\", \"#B0BEC5\", \"#B0BEC5\", \"#B0BEC5\", \"#B0BEC5\", \"#B0BEC5\", \"#B0BEC5\", \"#B0BEC5\", \"#B0BEC5\", \"#B0BEC5\", \"#B0BEC5\", \"#B0BEC5\", \"#B0BEC5\", \"#B0BEC5\", \"#B0BEC5\", \"#B0BEC5\", \"#B0BEC5\", \"#B0BEC5\", \"#B0BEC5\", \"#B0BEC5\", \"red\", \"#B0BEC5\", \"#B0BEC5\", \"#B0BEC5\", \"#B0BEC5\", \"#B0BEC5\", \"#B0BEC5\", \"#B0BEC5\", \"#B0BEC5\", \"#B0BEC5\", \"#B0BEC5\", \"#B0BEC5\", \"#B0BEC5\", \"#B0BEC5\", \"#B0BEC5\", \"#B0BEC5\", \"#B0BEC5\", \"#B0BEC5\", \"#B0BEC5\", \"#B0BEC5\"]]}], \"label\": \"Topic 29\", \"method\": \"update\"}, {\"args\": [{\"marker.color\": [[\"#B0BEC5\", \"#B0BEC5\", \"#B0BEC5\", \"#B0BEC5\", \"#B0BEC5\", \"#B0BEC5\", \"#B0BEC5\", \"#B0BEC5\", \"#B0BEC5\", \"#B0BEC5\", \"#B0BEC5\", \"#B0BEC5\", \"#B0BEC5\", \"#B0BEC5\", \"#B0BEC5\", \"#B0BEC5\", \"#B0BEC5\", \"#B0BEC5\", \"#B0BEC5\", \"#B0BEC5\", \"#B0BEC5\", \"#B0BEC5\", \"#B0BEC5\", \"#B0BEC5\", \"#B0BEC5\", \"#B0BEC5\", \"#B0BEC5\", \"#B0BEC5\", \"#B0BEC5\", \"#B0BEC5\", \"red\", \"#B0BEC5\", \"#B0BEC5\", \"#B0BEC5\", \"#B0BEC5\", \"#B0BEC5\", \"#B0BEC5\", \"#B0BEC5\", \"#B0BEC5\", \"#B0BEC5\", \"#B0BEC5\", \"#B0BEC5\", \"#B0BEC5\", \"#B0BEC5\", \"#B0BEC5\", \"#B0BEC5\", \"#B0BEC5\", \"#B0BEC5\", \"#B0BEC5\"]]}], \"label\": \"Topic 30\", \"method\": \"update\"}, {\"args\": [{\"marker.color\": [[\"#B0BEC5\", \"#B0BEC5\", \"#B0BEC5\", \"#B0BEC5\", \"#B0BEC5\", \"#B0BEC5\", \"#B0BEC5\", \"#B0BEC5\", \"#B0BEC5\", \"#B0BEC5\", \"#B0BEC5\", \"#B0BEC5\", \"#B0BEC5\", \"#B0BEC5\", \"#B0BEC5\", \"#B0BEC5\", \"#B0BEC5\", \"#B0BEC5\", \"#B0BEC5\", \"#B0BEC5\", \"#B0BEC5\", \"#B0BEC5\", \"#B0BEC5\", \"#B0BEC5\", \"#B0BEC5\", \"#B0BEC5\", \"#B0BEC5\", \"#B0BEC5\", \"#B0BEC5\", \"#B0BEC5\", \"#B0BEC5\", \"red\", \"#B0BEC5\", \"#B0BEC5\", \"#B0BEC5\", \"#B0BEC5\", \"#B0BEC5\", \"#B0BEC5\", \"#B0BEC5\", \"#B0BEC5\", \"#B0BEC5\", \"#B0BEC5\", \"#B0BEC5\", \"#B0BEC5\", \"#B0BEC5\", \"#B0BEC5\", \"#B0BEC5\", \"#B0BEC5\", \"#B0BEC5\"]]}], \"label\": \"Topic 31\", \"method\": \"update\"}, {\"args\": [{\"marker.color\": [[\"#B0BEC5\", \"#B0BEC5\", \"#B0BEC5\", \"#B0BEC5\", \"#B0BEC5\", \"#B0BEC5\", \"#B0BEC5\", \"#B0BEC5\", \"#B0BEC5\", \"#B0BEC5\", \"#B0BEC5\", \"#B0BEC5\", \"#B0BEC5\", \"#B0BEC5\", \"#B0BEC5\", \"#B0BEC5\", \"#B0BEC5\", \"#B0BEC5\", \"#B0BEC5\", \"#B0BEC5\", \"#B0BEC5\", \"#B0BEC5\", \"#B0BEC5\", \"#B0BEC5\", \"#B0BEC5\", \"#B0BEC5\", \"#B0BEC5\", \"#B0BEC5\", \"#B0BEC5\", \"#B0BEC5\", \"#B0BEC5\", \"#B0BEC5\", \"red\", \"#B0BEC5\", \"#B0BEC5\", \"#B0BEC5\", \"#B0BEC5\", \"#B0BEC5\", \"#B0BEC5\", \"#B0BEC5\", \"#B0BEC5\", \"#B0BEC5\", \"#B0BEC5\", \"#B0BEC5\", \"#B0BEC5\", \"#B0BEC5\", \"#B0BEC5\", \"#B0BEC5\", \"#B0BEC5\"]]}], \"label\": \"Topic 32\", \"method\": \"update\"}, {\"args\": [{\"marker.color\": [[\"#B0BEC5\", \"#B0BEC5\", \"#B0BEC5\", \"#B0BEC5\", \"#B0BEC5\", \"#B0BEC5\", \"#B0BEC5\", \"#B0BEC5\", \"#B0BEC5\", \"#B0BEC5\", \"#B0BEC5\", \"#B0BEC5\", \"#B0BEC5\", \"#B0BEC5\", \"#B0BEC5\", \"#B0BEC5\", \"#B0BEC5\", \"#B0BEC5\", \"#B0BEC5\", \"#B0BEC5\", \"#B0BEC5\", \"#B0BEC5\", \"#B0BEC5\", \"#B0BEC5\", \"#B0BEC5\", \"#B0BEC5\", \"#B0BEC5\", \"#B0BEC5\", \"#B0BEC5\", \"#B0BEC5\", \"#B0BEC5\", \"#B0BEC5\", \"#B0BEC5\", \"red\", \"#B0BEC5\", \"#B0BEC5\", \"#B0BEC5\", \"#B0BEC5\", \"#B0BEC5\", \"#B0BEC5\", \"#B0BEC5\", \"#B0BEC5\", \"#B0BEC5\", \"#B0BEC5\", \"#B0BEC5\", \"#B0BEC5\", \"#B0BEC5\", \"#B0BEC5\", \"#B0BEC5\"]]}], \"label\": \"Topic 33\", \"method\": \"update\"}, {\"args\": [{\"marker.color\": [[\"#B0BEC5\", \"#B0BEC5\", \"#B0BEC5\", \"#B0BEC5\", \"#B0BEC5\", \"#B0BEC5\", \"#B0BEC5\", \"#B0BEC5\", \"#B0BEC5\", \"#B0BEC5\", \"#B0BEC5\", \"#B0BEC5\", \"#B0BEC5\", \"#B0BEC5\", \"#B0BEC5\", \"#B0BEC5\", \"#B0BEC5\", \"#B0BEC5\", \"#B0BEC5\", \"#B0BEC5\", \"#B0BEC5\", \"#B0BEC5\", \"#B0BEC5\", \"#B0BEC5\", \"#B0BEC5\", \"#B0BEC5\", \"#B0BEC5\", \"#B0BEC5\", \"#B0BEC5\", \"#B0BEC5\", \"#B0BEC5\", \"#B0BEC5\", \"#B0BEC5\", \"#B0BEC5\", \"red\", \"#B0BEC5\", \"#B0BEC5\", \"#B0BEC5\", \"#B0BEC5\", \"#B0BEC5\", \"#B0BEC5\", \"#B0BEC5\", \"#B0BEC5\", \"#B0BEC5\", \"#B0BEC5\", \"#B0BEC5\", \"#B0BEC5\", \"#B0BEC5\", \"#B0BEC5\"]]}], \"label\": \"Topic 34\", \"method\": \"update\"}, {\"args\": [{\"marker.color\": [[\"#B0BEC5\", \"#B0BEC5\", \"#B0BEC5\", \"#B0BEC5\", \"#B0BEC5\", \"#B0BEC5\", \"#B0BEC5\", \"#B0BEC5\", \"#B0BEC5\", \"#B0BEC5\", \"#B0BEC5\", \"#B0BEC5\", \"#B0BEC5\", \"#B0BEC5\", \"#B0BEC5\", \"#B0BEC5\", \"#B0BEC5\", \"#B0BEC5\", \"#B0BEC5\", \"#B0BEC5\", \"#B0BEC5\", \"#B0BEC5\", \"#B0BEC5\", \"#B0BEC5\", \"#B0BEC5\", \"#B0BEC5\", \"#B0BEC5\", \"#B0BEC5\", \"#B0BEC5\", \"#B0BEC5\", \"#B0BEC5\", \"#B0BEC5\", \"#B0BEC5\", \"#B0BEC5\", \"#B0BEC5\", \"red\", \"#B0BEC5\", \"#B0BEC5\", \"#B0BEC5\", \"#B0BEC5\", \"#B0BEC5\", \"#B0BEC5\", \"#B0BEC5\", \"#B0BEC5\", \"#B0BEC5\", \"#B0BEC5\", \"#B0BEC5\", \"#B0BEC5\", \"#B0BEC5\"]]}], \"label\": \"Topic 35\", \"method\": \"update\"}, {\"args\": [{\"marker.color\": [[\"#B0BEC5\", \"#B0BEC5\", \"#B0BEC5\", \"#B0BEC5\", \"#B0BEC5\", \"#B0BEC5\", \"#B0BEC5\", \"#B0BEC5\", \"#B0BEC5\", \"#B0BEC5\", \"#B0BEC5\", \"#B0BEC5\", \"#B0BEC5\", \"#B0BEC5\", \"#B0BEC5\", \"#B0BEC5\", \"#B0BEC5\", \"#B0BEC5\", \"#B0BEC5\", \"#B0BEC5\", \"#B0BEC5\", \"#B0BEC5\", \"#B0BEC5\", \"#B0BEC5\", \"#B0BEC5\", \"#B0BEC5\", \"#B0BEC5\", \"#B0BEC5\", \"#B0BEC5\", \"#B0BEC5\", \"#B0BEC5\", \"#B0BEC5\", \"#B0BEC5\", \"#B0BEC5\", \"#B0BEC5\", \"#B0BEC5\", \"red\", \"#B0BEC5\", \"#B0BEC5\", \"#B0BEC5\", \"#B0BEC5\", \"#B0BEC5\", \"#B0BEC5\", \"#B0BEC5\", \"#B0BEC5\", \"#B0BEC5\", \"#B0BEC5\", \"#B0BEC5\", \"#B0BEC5\"]]}], \"label\": \"Topic 36\", \"method\": \"update\"}, {\"args\": [{\"marker.color\": [[\"#B0BEC5\", \"#B0BEC5\", \"#B0BEC5\", \"#B0BEC5\", \"#B0BEC5\", \"#B0BEC5\", \"#B0BEC5\", \"#B0BEC5\", \"#B0BEC5\", \"#B0BEC5\", \"#B0BEC5\", \"#B0BEC5\", \"#B0BEC5\", \"#B0BEC5\", \"#B0BEC5\", \"#B0BEC5\", \"#B0BEC5\", \"#B0BEC5\", \"#B0BEC5\", \"#B0BEC5\", \"#B0BEC5\", \"#B0BEC5\", \"#B0BEC5\", \"#B0BEC5\", \"#B0BEC5\", \"#B0BEC5\", \"#B0BEC5\", \"#B0BEC5\", \"#B0BEC5\", \"#B0BEC5\", \"#B0BEC5\", \"#B0BEC5\", \"#B0BEC5\", \"#B0BEC5\", \"#B0BEC5\", \"#B0BEC5\", \"#B0BEC5\", \"red\", \"#B0BEC5\", \"#B0BEC5\", \"#B0BEC5\", \"#B0BEC5\", \"#B0BEC5\", \"#B0BEC5\", \"#B0BEC5\", \"#B0BEC5\", \"#B0BEC5\", \"#B0BEC5\", \"#B0BEC5\"]]}], \"label\": \"Topic 37\", \"method\": \"update\"}, {\"args\": [{\"marker.color\": [[\"#B0BEC5\", \"#B0BEC5\", \"#B0BEC5\", \"#B0BEC5\", \"#B0BEC5\", \"#B0BEC5\", \"#B0BEC5\", \"#B0BEC5\", \"#B0BEC5\", \"#B0BEC5\", \"#B0BEC5\", \"#B0BEC5\", \"#B0BEC5\", \"#B0BEC5\", \"#B0BEC5\", \"#B0BEC5\", \"#B0BEC5\", \"#B0BEC5\", \"#B0BEC5\", \"#B0BEC5\", \"#B0BEC5\", \"#B0BEC5\", \"#B0BEC5\", \"#B0BEC5\", \"#B0BEC5\", \"#B0BEC5\", \"#B0BEC5\", \"#B0BEC5\", \"#B0BEC5\", \"#B0BEC5\", \"#B0BEC5\", \"#B0BEC5\", \"#B0BEC5\", \"#B0BEC5\", \"#B0BEC5\", \"#B0BEC5\", \"#B0BEC5\", \"#B0BEC5\", \"red\", \"#B0BEC5\", \"#B0BEC5\", \"#B0BEC5\", \"#B0BEC5\", \"#B0BEC5\", \"#B0BEC5\", \"#B0BEC5\", \"#B0BEC5\", \"#B0BEC5\", \"#B0BEC5\"]]}], \"label\": \"Topic 38\", \"method\": \"update\"}, {\"args\": [{\"marker.color\": [[\"#B0BEC5\", \"#B0BEC5\", \"#B0BEC5\", \"#B0BEC5\", \"#B0BEC5\", \"#B0BEC5\", \"#B0BEC5\", \"#B0BEC5\", \"#B0BEC5\", \"#B0BEC5\", \"#B0BEC5\", \"#B0BEC5\", \"#B0BEC5\", \"#B0BEC5\", \"#B0BEC5\", \"#B0BEC5\", \"#B0BEC5\", \"#B0BEC5\", \"#B0BEC5\", \"#B0BEC5\", \"#B0BEC5\", \"#B0BEC5\", \"#B0BEC5\", \"#B0BEC5\", \"#B0BEC5\", \"#B0BEC5\", \"#B0BEC5\", \"#B0BEC5\", \"#B0BEC5\", \"#B0BEC5\", \"#B0BEC5\", \"#B0BEC5\", \"#B0BEC5\", \"#B0BEC5\", \"#B0BEC5\", \"#B0BEC5\", \"#B0BEC5\", \"#B0BEC5\", \"#B0BEC5\", \"red\", \"#B0BEC5\", \"#B0BEC5\", \"#B0BEC5\", \"#B0BEC5\", \"#B0BEC5\", \"#B0BEC5\", \"#B0BEC5\", \"#B0BEC5\", \"#B0BEC5\"]]}], \"label\": \"Topic 39\", \"method\": \"update\"}, {\"args\": [{\"marker.color\": [[\"#B0BEC5\", \"#B0BEC5\", \"#B0BEC5\", \"#B0BEC5\", \"#B0BEC5\", \"#B0BEC5\", \"#B0BEC5\", \"#B0BEC5\", \"#B0BEC5\", \"#B0BEC5\", \"#B0BEC5\", \"#B0BEC5\", \"#B0BEC5\", \"#B0BEC5\", \"#B0BEC5\", \"#B0BEC5\", \"#B0BEC5\", \"#B0BEC5\", \"#B0BEC5\", \"#B0BEC5\", \"#B0BEC5\", \"#B0BEC5\", \"#B0BEC5\", \"#B0BEC5\", \"#B0BEC5\", \"#B0BEC5\", \"#B0BEC5\", \"#B0BEC5\", \"#B0BEC5\", \"#B0BEC5\", \"#B0BEC5\", \"#B0BEC5\", \"#B0BEC5\", \"#B0BEC5\", \"#B0BEC5\", \"#B0BEC5\", \"#B0BEC5\", \"#B0BEC5\", \"#B0BEC5\", \"#B0BEC5\", \"red\", \"#B0BEC5\", \"#B0BEC5\", \"#B0BEC5\", \"#B0BEC5\", \"#B0BEC5\", \"#B0BEC5\", \"#B0BEC5\", \"#B0BEC5\"]]}], \"label\": \"Topic 40\", \"method\": \"update\"}, {\"args\": [{\"marker.color\": [[\"#B0BEC5\", \"#B0BEC5\", \"#B0BEC5\", \"#B0BEC5\", \"#B0BEC5\", \"#B0BEC5\", \"#B0BEC5\", \"#B0BEC5\", \"#B0BEC5\", \"#B0BEC5\", \"#B0BEC5\", \"#B0BEC5\", \"#B0BEC5\", \"#B0BEC5\", \"#B0BEC5\", \"#B0BEC5\", \"#B0BEC5\", \"#B0BEC5\", \"#B0BEC5\", \"#B0BEC5\", \"#B0BEC5\", \"#B0BEC5\", \"#B0BEC5\", \"#B0BEC5\", \"#B0BEC5\", \"#B0BEC5\", \"#B0BEC5\", \"#B0BEC5\", \"#B0BEC5\", \"#B0BEC5\", \"#B0BEC5\", \"#B0BEC5\", \"#B0BEC5\", \"#B0BEC5\", \"#B0BEC5\", \"#B0BEC5\", \"#B0BEC5\", \"#B0BEC5\", \"#B0BEC5\", \"#B0BEC5\", \"#B0BEC5\", \"red\", \"#B0BEC5\", \"#B0BEC5\", \"#B0BEC5\", \"#B0BEC5\", \"#B0BEC5\", \"#B0BEC5\", \"#B0BEC5\"]]}], \"label\": \"Topic 41\", \"method\": \"update\"}, {\"args\": [{\"marker.color\": [[\"#B0BEC5\", \"#B0BEC5\", \"#B0BEC5\", \"#B0BEC5\", \"#B0BEC5\", \"#B0BEC5\", \"#B0BEC5\", \"#B0BEC5\", \"#B0BEC5\", \"#B0BEC5\", \"#B0BEC5\", \"#B0BEC5\", \"#B0BEC5\", \"#B0BEC5\", \"#B0BEC5\", \"#B0BEC5\", \"#B0BEC5\", \"#B0BEC5\", \"#B0BEC5\", \"#B0BEC5\", \"#B0BEC5\", \"#B0BEC5\", \"#B0BEC5\", \"#B0BEC5\", \"#B0BEC5\", \"#B0BEC5\", \"#B0BEC5\", \"#B0BEC5\", \"#B0BEC5\", \"#B0BEC5\", \"#B0BEC5\", \"#B0BEC5\", \"#B0BEC5\", \"#B0BEC5\", \"#B0BEC5\", \"#B0BEC5\", \"#B0BEC5\", \"#B0BEC5\", \"#B0BEC5\", \"#B0BEC5\", \"#B0BEC5\", \"#B0BEC5\", \"red\", \"#B0BEC5\", \"#B0BEC5\", \"#B0BEC5\", \"#B0BEC5\", \"#B0BEC5\", \"#B0BEC5\"]]}], \"label\": \"Topic 42\", \"method\": \"update\"}, {\"args\": [{\"marker.color\": [[\"#B0BEC5\", \"#B0BEC5\", \"#B0BEC5\", \"#B0BEC5\", \"#B0BEC5\", \"#B0BEC5\", \"#B0BEC5\", \"#B0BEC5\", \"#B0BEC5\", \"#B0BEC5\", \"#B0BEC5\", \"#B0BEC5\", \"#B0BEC5\", \"#B0BEC5\", \"#B0BEC5\", \"#B0BEC5\", \"#B0BEC5\", \"#B0BEC5\", \"#B0BEC5\", \"#B0BEC5\", \"#B0BEC5\", \"#B0BEC5\", \"#B0BEC5\", \"#B0BEC5\", \"#B0BEC5\", \"#B0BEC5\", \"#B0BEC5\", \"#B0BEC5\", \"#B0BEC5\", \"#B0BEC5\", \"#B0BEC5\", \"#B0BEC5\", \"#B0BEC5\", \"#B0BEC5\", \"#B0BEC5\", \"#B0BEC5\", \"#B0BEC5\", \"#B0BEC5\", \"#B0BEC5\", \"#B0BEC5\", \"#B0BEC5\", \"#B0BEC5\", \"#B0BEC5\", \"red\", \"#B0BEC5\", \"#B0BEC5\", \"#B0BEC5\", \"#B0BEC5\", \"#B0BEC5\"]]}], \"label\": \"Topic 43\", \"method\": \"update\"}, {\"args\": [{\"marker.color\": [[\"#B0BEC5\", \"#B0BEC5\", \"#B0BEC5\", \"#B0BEC5\", \"#B0BEC5\", \"#B0BEC5\", \"#B0BEC5\", \"#B0BEC5\", \"#B0BEC5\", \"#B0BEC5\", \"#B0BEC5\", \"#B0BEC5\", \"#B0BEC5\", \"#B0BEC5\", \"#B0BEC5\", \"#B0BEC5\", \"#B0BEC5\", \"#B0BEC5\", \"#B0BEC5\", \"#B0BEC5\", \"#B0BEC5\", \"#B0BEC5\", \"#B0BEC5\", \"#B0BEC5\", \"#B0BEC5\", \"#B0BEC5\", \"#B0BEC5\", \"#B0BEC5\", \"#B0BEC5\", \"#B0BEC5\", \"#B0BEC5\", \"#B0BEC5\", \"#B0BEC5\", \"#B0BEC5\", \"#B0BEC5\", \"#B0BEC5\", \"#B0BEC5\", \"#B0BEC5\", \"#B0BEC5\", \"#B0BEC5\", \"#B0BEC5\", \"#B0BEC5\", \"#B0BEC5\", \"#B0BEC5\", \"red\", \"#B0BEC5\", \"#B0BEC5\", \"#B0BEC5\", \"#B0BEC5\"]]}], \"label\": \"Topic 44\", \"method\": \"update\"}, {\"args\": [{\"marker.color\": [[\"#B0BEC5\", \"#B0BEC5\", \"#B0BEC5\", \"#B0BEC5\", \"#B0BEC5\", \"#B0BEC5\", \"#B0BEC5\", \"#B0BEC5\", \"#B0BEC5\", \"#B0BEC5\", \"#B0BEC5\", \"#B0BEC5\", \"#B0BEC5\", \"#B0BEC5\", \"#B0BEC5\", \"#B0BEC5\", \"#B0BEC5\", \"#B0BEC5\", \"#B0BEC5\", \"#B0BEC5\", \"#B0BEC5\", \"#B0BEC5\", \"#B0BEC5\", \"#B0BEC5\", \"#B0BEC5\", \"#B0BEC5\", \"#B0BEC5\", \"#B0BEC5\", \"#B0BEC5\", \"#B0BEC5\", \"#B0BEC5\", \"#B0BEC5\", \"#B0BEC5\", \"#B0BEC5\", \"#B0BEC5\", \"#B0BEC5\", \"#B0BEC5\", \"#B0BEC5\", \"#B0BEC5\", \"#B0BEC5\", \"#B0BEC5\", \"#B0BEC5\", \"#B0BEC5\", \"#B0BEC5\", \"#B0BEC5\", \"red\", \"#B0BEC5\", \"#B0BEC5\", \"#B0BEC5\"]]}], \"label\": \"Topic 45\", \"method\": \"update\"}, {\"args\": [{\"marker.color\": [[\"#B0BEC5\", \"#B0BEC5\", \"#B0BEC5\", \"#B0BEC5\", \"#B0BEC5\", \"#B0BEC5\", \"#B0BEC5\", \"#B0BEC5\", \"#B0BEC5\", \"#B0BEC5\", \"#B0BEC5\", \"#B0BEC5\", \"#B0BEC5\", \"#B0BEC5\", \"#B0BEC5\", \"#B0BEC5\", \"#B0BEC5\", \"#B0BEC5\", \"#B0BEC5\", \"#B0BEC5\", \"#B0BEC5\", \"#B0BEC5\", \"#B0BEC5\", \"#B0BEC5\", \"#B0BEC5\", \"#B0BEC5\", \"#B0BEC5\", \"#B0BEC5\", \"#B0BEC5\", \"#B0BEC5\", \"#B0BEC5\", \"#B0BEC5\", \"#B0BEC5\", \"#B0BEC5\", \"#B0BEC5\", \"#B0BEC5\", \"#B0BEC5\", \"#B0BEC5\", \"#B0BEC5\", \"#B0BEC5\", \"#B0BEC5\", \"#B0BEC5\", \"#B0BEC5\", \"#B0BEC5\", \"#B0BEC5\", \"#B0BEC5\", \"red\", \"#B0BEC5\", \"#B0BEC5\"]]}], \"label\": \"Topic 46\", \"method\": \"update\"}, {\"args\": [{\"marker.color\": [[\"#B0BEC5\", \"#B0BEC5\", \"#B0BEC5\", \"#B0BEC5\", \"#B0BEC5\", \"#B0BEC5\", \"#B0BEC5\", \"#B0BEC5\", \"#B0BEC5\", \"#B0BEC5\", \"#B0BEC5\", \"#B0BEC5\", \"#B0BEC5\", \"#B0BEC5\", \"#B0BEC5\", \"#B0BEC5\", \"#B0BEC5\", \"#B0BEC5\", \"#B0BEC5\", \"#B0BEC5\", \"#B0BEC5\", \"#B0BEC5\", \"#B0BEC5\", \"#B0BEC5\", \"#B0BEC5\", \"#B0BEC5\", \"#B0BEC5\", \"#B0BEC5\", \"#B0BEC5\", \"#B0BEC5\", \"#B0BEC5\", \"#B0BEC5\", \"#B0BEC5\", \"#B0BEC5\", \"#B0BEC5\", \"#B0BEC5\", \"#B0BEC5\", \"#B0BEC5\", \"#B0BEC5\", \"#B0BEC5\", \"#B0BEC5\", \"#B0BEC5\", \"#B0BEC5\", \"#B0BEC5\", \"#B0BEC5\", \"#B0BEC5\", \"#B0BEC5\", \"red\", \"#B0BEC5\"]]}], \"label\": \"Topic 47\", \"method\": \"update\"}, {\"args\": [{\"marker.color\": [[\"#B0BEC5\", \"#B0BEC5\", \"#B0BEC5\", \"#B0BEC5\", \"#B0BEC5\", \"#B0BEC5\", \"#B0BEC5\", \"#B0BEC5\", \"#B0BEC5\", \"#B0BEC5\", \"#B0BEC5\", \"#B0BEC5\", \"#B0BEC5\", \"#B0BEC5\", \"#B0BEC5\", \"#B0BEC5\", \"#B0BEC5\", \"#B0BEC5\", \"#B0BEC5\", \"#B0BEC5\", \"#B0BEC5\", \"#B0BEC5\", \"#B0BEC5\", \"#B0BEC5\", \"#B0BEC5\", \"#B0BEC5\", \"#B0BEC5\", \"#B0BEC5\", \"#B0BEC5\", \"#B0BEC5\", \"#B0BEC5\", \"#B0BEC5\", \"#B0BEC5\", \"#B0BEC5\", \"#B0BEC5\", \"#B0BEC5\", \"#B0BEC5\", \"#B0BEC5\", \"#B0BEC5\", \"#B0BEC5\", \"#B0BEC5\", \"#B0BEC5\", \"#B0BEC5\", \"#B0BEC5\", \"#B0BEC5\", \"#B0BEC5\", \"#B0BEC5\", \"#B0BEC5\", \"red\"]]}], \"label\": \"Topic 48\", \"method\": \"update\"}]}], \"template\": {\"data\": {\"bar\": [{\"error_x\": {\"color\": \"rgb(36,36,36)\"}, \"error_y\": {\"color\": \"rgb(36,36,36)\"}, \"marker\": {\"line\": {\"color\": \"white\", \"width\": 0.5}}, \"type\": \"bar\"}], \"barpolar\": [{\"marker\": {\"line\": {\"color\": \"white\", \"width\": 0.5}}, \"type\": \"barpolar\"}], \"carpet\": [{\"aaxis\": {\"endlinecolor\": \"rgb(36,36,36)\", \"gridcolor\": \"white\", \"linecolor\": \"white\", \"minorgridcolor\": \"white\", \"startlinecolor\": \"rgb(36,36,36)\"}, \"baxis\": {\"endlinecolor\": \"rgb(36,36,36)\", \"gridcolor\": \"white\", \"linecolor\": \"white\", \"minorgridcolor\": \"white\", \"startlinecolor\": \"rgb(36,36,36)\"}, \"type\": \"carpet\"}], \"choropleth\": [{\"colorbar\": {\"outlinewidth\": 1, \"tickcolor\": \"rgb(36,36,36)\", \"ticks\": \"outside\"}, \"type\": \"choropleth\"}], \"contour\": [{\"colorbar\": {\"outlinewidth\": 1, \"tickcolor\": \"rgb(36,36,36)\", \"ticks\": \"outside\"}, \"colorscale\": [[0.0, \"#440154\"], [0.1111111111111111, \"#482878\"], [0.2222222222222222, \"#3e4989\"], [0.3333333333333333, \"#31688e\"], [0.4444444444444444, \"#26828e\"], [0.5555555555555556, \"#1f9e89\"], [0.6666666666666666, \"#35b779\"], [0.7777777777777778, \"#6ece58\"], [0.8888888888888888, \"#b5de2b\"], [1.0, \"#fde725\"]], \"type\": \"contour\"}], \"contourcarpet\": [{\"colorbar\": {\"outlinewidth\": 1, \"tickcolor\": \"rgb(36,36,36)\", \"ticks\": \"outside\"}, \"type\": \"contourcarpet\"}], \"heatmap\": [{\"colorbar\": {\"outlinewidth\": 1, \"tickcolor\": \"rgb(36,36,36)\", \"ticks\": \"outside\"}, \"colorscale\": [[0.0, \"#440154\"], [0.1111111111111111, \"#482878\"], [0.2222222222222222, \"#3e4989\"], [0.3333333333333333, \"#31688e\"], [0.4444444444444444, \"#26828e\"], [0.5555555555555556, \"#1f9e89\"], [0.6666666666666666, \"#35b779\"], [0.7777777777777778, \"#6ece58\"], [0.8888888888888888, \"#b5de2b\"], [1.0, \"#fde725\"]], \"type\": \"heatmap\"}], \"heatmapgl\": [{\"colorbar\": {\"outlinewidth\": 1, \"tickcolor\": \"rgb(36,36,36)\", \"ticks\": \"outside\"}, \"colorscale\": [[0.0, \"#440154\"], [0.1111111111111111, \"#482878\"], [0.2222222222222222, \"#3e4989\"], [0.3333333333333333, \"#31688e\"], [0.4444444444444444, \"#26828e\"], [0.5555555555555556, \"#1f9e89\"], [0.6666666666666666, \"#35b779\"], [0.7777777777777778, \"#6ece58\"], [0.8888888888888888, \"#b5de2b\"], [1.0, \"#fde725\"]], \"type\": \"heatmapgl\"}], \"histogram\": [{\"marker\": {\"line\": {\"color\": \"white\", \"width\": 0.6}}, \"type\": \"histogram\"}], \"histogram2d\": [{\"colorbar\": {\"outlinewidth\": 1, \"tickcolor\": \"rgb(36,36,36)\", \"ticks\": \"outside\"}, \"colorscale\": [[0.0, \"#440154\"], [0.1111111111111111, \"#482878\"], [0.2222222222222222, \"#3e4989\"], [0.3333333333333333, \"#31688e\"], [0.4444444444444444, \"#26828e\"], [0.5555555555555556, \"#1f9e89\"], [0.6666666666666666, \"#35b779\"], [0.7777777777777778, \"#6ece58\"], [0.8888888888888888, \"#b5de2b\"], [1.0, \"#fde725\"]], \"type\": \"histogram2d\"}], \"histogram2dcontour\": [{\"colorbar\": {\"outlinewidth\": 1, \"tickcolor\": \"rgb(36,36,36)\", \"ticks\": \"outside\"}, \"colorscale\": [[0.0, \"#440154\"], [0.1111111111111111, \"#482878\"], [0.2222222222222222, \"#3e4989\"], [0.3333333333333333, \"#31688e\"], [0.4444444444444444, \"#26828e\"], [0.5555555555555556, \"#1f9e89\"], [0.6666666666666666, \"#35b779\"], [0.7777777777777778, \"#6ece58\"], [0.8888888888888888, \"#b5de2b\"], [1.0, \"#fde725\"]], \"type\": \"histogram2dcontour\"}], \"mesh3d\": [{\"colorbar\": {\"outlinewidth\": 1, \"tickcolor\": \"rgb(36,36,36)\", \"ticks\": \"outside\"}, \"type\": \"mesh3d\"}], \"parcoords\": [{\"line\": {\"colorbar\": {\"outlinewidth\": 1, \"tickcolor\": \"rgb(36,36,36)\", \"ticks\": \"outside\"}}, \"type\": \"parcoords\"}], \"pie\": [{\"automargin\": true, \"type\": \"pie\"}], \"scatter\": [{\"marker\": {\"colorbar\": {\"outlinewidth\": 1, \"tickcolor\": \"rgb(36,36,36)\", \"ticks\": \"outside\"}}, \"type\": \"scatter\"}], \"scatter3d\": [{\"line\": {\"colorbar\": {\"outlinewidth\": 1, \"tickcolor\": \"rgb(36,36,36)\", \"ticks\": \"outside\"}}, \"marker\": {\"colorbar\": {\"outlinewidth\": 1, \"tickcolor\": \"rgb(36,36,36)\", \"ticks\": \"outside\"}}, \"type\": \"scatter3d\"}], \"scattercarpet\": [{\"marker\": {\"colorbar\": {\"outlinewidth\": 1, \"tickcolor\": \"rgb(36,36,36)\", \"ticks\": \"outside\"}}, \"type\": \"scattercarpet\"}], \"scattergeo\": [{\"marker\": {\"colorbar\": {\"outlinewidth\": 1, \"tickcolor\": \"rgb(36,36,36)\", \"ticks\": \"outside\"}}, \"type\": \"scattergeo\"}], \"scattergl\": [{\"marker\": {\"colorbar\": {\"outlinewidth\": 1, \"tickcolor\": \"rgb(36,36,36)\", \"ticks\": \"outside\"}}, \"type\": \"scattergl\"}], \"scattermapbox\": [{\"marker\": {\"colorbar\": {\"outlinewidth\": 1, \"tickcolor\": \"rgb(36,36,36)\", \"ticks\": \"outside\"}}, \"type\": \"scattermapbox\"}], \"scatterpolar\": [{\"marker\": {\"colorbar\": {\"outlinewidth\": 1, \"tickcolor\": \"rgb(36,36,36)\", \"ticks\": \"outside\"}}, \"type\": \"scatterpolar\"}], \"scatterpolargl\": [{\"marker\": {\"colorbar\": {\"outlinewidth\": 1, \"tickcolor\": \"rgb(36,36,36)\", \"ticks\": \"outside\"}}, \"type\": \"scatterpolargl\"}], \"scatterternary\": [{\"marker\": {\"colorbar\": {\"outlinewidth\": 1, \"tickcolor\": \"rgb(36,36,36)\", \"ticks\": \"outside\"}}, \"type\": \"scatterternary\"}], \"surface\": [{\"colorbar\": {\"outlinewidth\": 1, \"tickcolor\": \"rgb(36,36,36)\", \"ticks\": \"outside\"}, \"colorscale\": [[0.0, \"#440154\"], [0.1111111111111111, \"#482878\"], [0.2222222222222222, \"#3e4989\"], [0.3333333333333333, \"#31688e\"], [0.4444444444444444, \"#26828e\"], [0.5555555555555556, \"#1f9e89\"], [0.6666666666666666, \"#35b779\"], [0.7777777777777778, \"#6ece58\"], [0.8888888888888888, \"#b5de2b\"], [1.0, \"#fde725\"]], \"type\": \"surface\"}], \"table\": [{\"cells\": {\"fill\": {\"color\": \"rgb(237,237,237)\"}, \"line\": {\"color\": \"white\"}}, \"header\": {\"fill\": {\"color\": \"rgb(217,217,217)\"}, \"line\": {\"color\": \"white\"}}, \"type\": \"table\"}]}, \"layout\": {\"annotationdefaults\": {\"arrowhead\": 0, \"arrowwidth\": 1}, \"autotypenumbers\": \"strict\", \"coloraxis\": {\"colorbar\": {\"outlinewidth\": 1, \"tickcolor\": \"rgb(36,36,36)\", \"ticks\": \"outside\"}}, \"colorscale\": {\"diverging\": [[0.0, \"rgb(103,0,31)\"], [0.1, \"rgb(178,24,43)\"], [0.2, \"rgb(214,96,77)\"], [0.3, \"rgb(244,165,130)\"], [0.4, \"rgb(253,219,199)\"], [0.5, \"rgb(247,247,247)\"], [0.6, \"rgb(209,229,240)\"], [0.7, \"rgb(146,197,222)\"], [0.8, \"rgb(67,147,195)\"], [0.9, \"rgb(33,102,172)\"], [1.0, \"rgb(5,48,97)\"]], \"sequential\": [[0.0, \"#440154\"], [0.1111111111111111, \"#482878\"], [0.2222222222222222, \"#3e4989\"], [0.3333333333333333, \"#31688e\"], [0.4444444444444444, \"#26828e\"], [0.5555555555555556, \"#1f9e89\"], [0.6666666666666666, \"#35b779\"], [0.7777777777777778, \"#6ece58\"], [0.8888888888888888, \"#b5de2b\"], [1.0, \"#fde725\"]], \"sequentialminus\": [[0.0, \"#440154\"], [0.1111111111111111, \"#482878\"], [0.2222222222222222, \"#3e4989\"], [0.3333333333333333, \"#31688e\"], [0.4444444444444444, \"#26828e\"], [0.5555555555555556, \"#1f9e89\"], [0.6666666666666666, \"#35b779\"], [0.7777777777777778, \"#6ece58\"], [0.8888888888888888, \"#b5de2b\"], [1.0, \"#fde725\"]]}, \"colorway\": [\"#1F77B4\", \"#FF7F0E\", \"#2CA02C\", \"#D62728\", \"#9467BD\", \"#8C564B\", \"#E377C2\", \"#7F7F7F\", \"#BCBD22\", \"#17BECF\"], \"font\": {\"color\": \"rgb(36,36,36)\"}, \"geo\": {\"bgcolor\": \"white\", \"lakecolor\": \"white\", \"landcolor\": \"white\", \"showlakes\": true, \"showland\": true, \"subunitcolor\": \"white\"}, \"hoverlabel\": {\"align\": \"left\"}, \"hovermode\": \"closest\", \"mapbox\": {\"style\": \"light\"}, \"paper_bgcolor\": \"white\", \"plot_bgcolor\": \"white\", \"polar\": {\"angularaxis\": {\"gridcolor\": \"rgb(232,232,232)\", \"linecolor\": \"rgb(36,36,36)\", \"showgrid\": false, \"showline\": true, \"ticks\": \"outside\"}, \"bgcolor\": \"white\", \"radialaxis\": {\"gridcolor\": \"rgb(232,232,232)\", \"linecolor\": \"rgb(36,36,36)\", \"showgrid\": false, \"showline\": true, \"ticks\": \"outside\"}}, \"scene\": {\"xaxis\": {\"backgroundcolor\": \"white\", \"gridcolor\": \"rgb(232,232,232)\", \"gridwidth\": 2, \"linecolor\": \"rgb(36,36,36)\", \"showbackground\": true, \"showgrid\": false, \"showline\": true, \"ticks\": \"outside\", \"zeroline\": false, \"zerolinecolor\": \"rgb(36,36,36)\"}, \"yaxis\": {\"backgroundcolor\": \"white\", \"gridcolor\": \"rgb(232,232,232)\", \"gridwidth\": 2, \"linecolor\": \"rgb(36,36,36)\", \"showbackground\": true, \"showgrid\": false, \"showline\": true, \"ticks\": \"outside\", \"zeroline\": false, \"zerolinecolor\": \"rgb(36,36,36)\"}, \"zaxis\": {\"backgroundcolor\": \"white\", \"gridcolor\": \"rgb(232,232,232)\", \"gridwidth\": 2, \"linecolor\": \"rgb(36,36,36)\", \"showbackground\": true, \"showgrid\": false, \"showline\": true, \"ticks\": \"outside\", \"zeroline\": false, \"zerolinecolor\": \"rgb(36,36,36)\"}}, \"shapedefaults\": {\"fillcolor\": \"black\", \"line\": {\"width\": 0}, \"opacity\": 0.3}, \"ternary\": {\"aaxis\": {\"gridcolor\": \"rgb(232,232,232)\", \"linecolor\": \"rgb(36,36,36)\", \"showgrid\": false, \"showline\": true, \"ticks\": \"outside\"}, \"baxis\": {\"gridcolor\": \"rgb(232,232,232)\", \"linecolor\": \"rgb(36,36,36)\", \"showgrid\": false, \"showline\": true, \"ticks\": \"outside\"}, \"bgcolor\": \"white\", \"caxis\": {\"gridcolor\": \"rgb(232,232,232)\", \"linecolor\": \"rgb(36,36,36)\", \"showgrid\": false, \"showline\": true, \"ticks\": \"outside\"}}, \"title\": {\"x\": 0.05}, \"xaxis\": {\"automargin\": true, \"gridcolor\": \"rgb(232,232,232)\", \"linecolor\": \"rgb(36,36,36)\", \"showgrid\": false, \"showline\": true, \"ticks\": \"outside\", \"title\": {\"standoff\": 15}, \"zeroline\": false, \"zerolinecolor\": \"rgb(36,36,36)\"}, \"yaxis\": {\"automargin\": true, \"gridcolor\": \"rgb(232,232,232)\", \"linecolor\": \"rgb(36,36,36)\", \"showgrid\": false, \"showline\": true, \"ticks\": \"outside\", \"title\": {\"standoff\": 15}, \"zeroline\": false, \"zerolinecolor\": \"rgb(36,36,36)\"}}}, \"title\": {\"font\": {\"color\": \"Black\", \"size\": 22}, \"text\": \"<b>Intertopic Distance Map\", \"x\": 0.5, \"xanchor\": \"center\", \"y\": 0.95, \"yanchor\": \"top\"}, \"width\": 650, \"xaxis\": {\"anchor\": \"y\", \"domain\": [0.0, 1.0], \"range\": [-13.316313362121582, 19.2063081741333], \"title\": {\"text\": \"\"}, \"visible\": false}, \"yaxis\": {\"anchor\": \"x\", \"domain\": [0.0, 1.0], \"range\": [-13.532799291610718, 23.54119234085083], \"title\": {\"text\": \"\"}, \"visible\": false}},                        {\"responsive\": true}                    ).then(function(){\n",
              "                            \n",
              "var gd = document.getElementById('3380d933-ccba-48cf-b8f1-2d909336a6fe');\n",
              "var x = new MutationObserver(function (mutations, observer) {{\n",
              "        var display = window.getComputedStyle(gd).display;\n",
              "        if (!display || display === 'none') {{\n",
              "            console.log([gd, 'removed!']);\n",
              "            Plotly.purge(gd);\n",
              "            observer.disconnect();\n",
              "        }}\n",
              "}});\n",
              "\n",
              "// Listen for the removal of the full notebook cells\n",
              "var notebookContainer = gd.closest('#notebook-container');\n",
              "if (notebookContainer) {{\n",
              "    x.observe(notebookContainer, {childList: true});\n",
              "}}\n",
              "\n",
              "// Listen for the clearing of the current output cell\n",
              "var outputEl = gd.closest('.output');\n",
              "if (outputEl) {{\n",
              "    x.observe(outputEl, {childList: true});\n",
              "}}\n",
              "\n",
              "                        })                };                            </script>        </div>\n",
              "</body>\n",
              "</html>"
            ]
          },
          "metadata": {
            "tags": []
          }
        }
      ]
    },
    {
      "cell_type": "code",
      "metadata": {
        "id": "LygkT_eXuNLT"
      },
      "source": [
        "new_topic = \"Buddha\""
      ],
      "execution_count": 40,
      "outputs": []
    },
    {
      "cell_type": "code",
      "metadata": {
        "id": "hDKAGj9tuO4O",
        "colab": {
          "base_uri": "https://localhost:8080/"
        },
        "outputId": "0818f506-3cf9-428c-b999-1dcd73bd6427"
      },
      "source": [
        "# Find_Topic function returns the five most similar topics to the input text in the decreasing order\n",
        "topic_model.find_topics(new_topic)"
      ],
      "execution_count": 41,
      "outputs": [
        {
          "output_type": "execute_result",
          "data": {
            "text/plain": [
              "([22, 19, 45, 0, 28],\n",
              " [0.7305805262213987,\n",
              "  0.5611706428413321,\n",
              "  0.48389154977688914,\n",
              "  0.4761415307331948,\n",
              "  0.47331404649959274])"
            ]
          },
          "metadata": {
            "tags": []
          },
          "execution_count": 41
        }
      ]
    },
    {
      "cell_type": "code",
      "metadata": {
        "id": "NVGaGCJ5uRIc",
        "colab": {
          "base_uri": "https://localhost:8080/"
        },
        "outputId": "cd1f1125-a180-4573-8746-0fa64ad411db"
      },
      "source": [
        "topic_model.find_topics(new_topic)[1][0]"
      ],
      "execution_count": 42,
      "outputs": [
        {
          "output_type": "execute_result",
          "data": {
            "text/plain": [
              "0.7305805262213987"
            ]
          },
          "metadata": {
            "tags": []
          },
          "execution_count": 42
        }
      ]
    },
    {
      "cell_type": "code",
      "metadata": {
        "id": "7UmOaQ3uuTDB",
        "colab": {
          "base_uri": "https://localhost:8080/"
        },
        "outputId": "386ad32a-c5a3-4239-ea3b-9989188e5127"
      },
      "source": [
        "#Get_Topic returns the contents of each topic \n",
        "topic_model.get_topic(2)"
      ],
      "execution_count": 43,
      "outputs": [
        {
          "output_type": "execute_result",
          "data": {
            "text/plain": [
              "[('her', 0.01420242458730702),\n",
              " ('she', 0.013240269130491793),\n",
              " ('born', 0.010886719092220989),\n",
              " ('family', 0.00983472906367724),\n",
              " ('father', 0.009501147684400087),\n",
              " ('mother', 0.008018648019771908),\n",
              " ('married', 0.007555125948497822),\n",
              " ('him', 0.007316834062575023),\n",
              " ('age', 0.005885014787318727),\n",
              " ('son', 0.005523307454238609)]"
            ]
          },
          "metadata": {
            "tags": []
          },
          "execution_count": 43
        }
      ]
    },
    {
      "cell_type": "code",
      "metadata": {
        "id": "ooYMi92uuc-9",
        "colab": {
          "base_uri": "https://localhost:8080/",
          "height": 834
        },
        "outputId": "81642834-5227-48b0-9a07-4c555d80e282"
      },
      "source": [
        "# Heatmap on the correlation between each of the clustered topics\n",
        "plt.figure(figsize=(200,200))\n",
        "topic_model.visualize_heatmap()"
      ],
      "execution_count": 44,
      "outputs": [
        {
          "output_type": "display_data",
          "data": {
            "text/html": [
              "<html>\n",
              "<head><meta charset=\"utf-8\" /></head>\n",
              "<body>\n",
              "    <div>            <script src=\"https://cdnjs.cloudflare.com/ajax/libs/mathjax/2.7.5/MathJax.js?config=TeX-AMS-MML_SVG\"></script><script type=\"text/javascript\">if (window.MathJax) {MathJax.Hub.Config({SVG: {font: \"STIX-Web\"}});}</script>                <script type=\"text/javascript\">window.PlotlyConfig = {MathJaxConfig: 'local'};</script>\n",
              "        <script src=\"https://cdn.plot.ly/plotly-latest.min.js\"></script>                <div id=\"c4746032-ccdc-444f-a042-5fc50299fa34\" class=\"plotly-graph-div\" style=\"height:800px; width:800px;\"></div>            <script type=\"text/javascript\">                                    window.PLOTLYENV=window.PLOTLYENV || {};                                    if (document.getElementById(\"c4746032-ccdc-444f-a042-5fc50299fa34\")) {                    Plotly.newPlot(                        \"c4746032-ccdc-444f-a042-5fc50299fa34\",                        [{\"coloraxis\": \"coloraxis\", \"hovertemplate\": \"x: %{x}<br>y: %{y}<br>Similarity Score: %{z}<extra></extra>\", \"name\": \"0\", \"type\": \"heatmap\", \"x\": [\"-1_album_band_released\", \"0_he_his_by\", \"1_film_show_she\", \"2_her_she_born\", \"3_indigenous_century_language\", \"4_yards_nfl_football\", \"5_league_baseball_sox\", \"6_wrestling_wwf_raw\", \"7_cup_goals_scored\", \"8_human_social_adler\", \"9_batman_comics_riddler\", \"10_euronymous_biafra_vikernes\", \"11_orchestra_music_symphony\", \"12_won_wimbledon_tennis\", \"13_wickets_cricket_innings\", \"14_her_she_tamil\", \"15_nba_game_rebounds\", \"16_republican_bush_democratic\", \"17_soviet_wilhelm_bismarck\", \"18_marine_army_corps\", \"19_sharif_muhammad_omar\", \"20_university_college_studies\", \"21_race_prix_car\", \"22_dalai_lama_tibetan\", \"23_king_henry_duke\", \"24_villa_cuban_portuguese\", \"25_book_novel_whitman\", \"26_nhl_sakic_hockey\", \"27_roosevelt_kennedy_rockef...\", \"28_dali_corbusier_macedonski\", \"29_chinese_yi_china\", \"30_conservative_cameron_hide\", \"31_caesar_rome_caesars\", \"32_tyson_fight_boxing\", \"33_bjp_election_aquino\", \"34_library_museum_libraries\", \"35_spitzer_attorney_granholm\", \"36_black_march_marchers\", \"37_collingwood_geelong_hawt...\", \"38_carson_carsons_navajo\", \"39_army_custer_sheridan\", \"40_brennan_cia_libby\", \"41_award_academy_awards\", \"42_dean_deans_annie\", \"43_browns_mayor_cobb\", \"44_edwards_governor_louisiana\", \"45_kapoor_mukherjee_mother\", \"46_hoffmann_berlin_dresden\", \"47_mbeki_african_zuma\", \"48_bill_act_dea\"], \"xaxis\": \"x\", \"y\": [\"-1_album_band_released\", \"0_he_his_by\", \"1_film_show_she\", \"2_her_she_born\", \"3_indigenous_century_language\", \"4_yards_nfl_football\", \"5_league_baseball_sox\", \"6_wrestling_wwf_raw\", \"7_cup_goals_scored\", \"8_human_social_adler\", \"9_batman_comics_riddler\", \"10_euronymous_biafra_vikernes\", \"11_orchestra_music_symphony\", \"12_won_wimbledon_tennis\", \"13_wickets_cricket_innings\", \"14_her_she_tamil\", \"15_nba_game_rebounds\", \"16_republican_bush_democratic\", \"17_soviet_wilhelm_bismarck\", \"18_marine_army_corps\", \"19_sharif_muhammad_omar\", \"20_university_college_studies\", \"21_race_prix_car\", \"22_dalai_lama_tibetan\", \"23_king_henry_duke\", \"24_villa_cuban_portuguese\", \"25_book_novel_whitman\", \"26_nhl_sakic_hockey\", \"27_roosevelt_kennedy_rockef...\", \"28_dali_corbusier_macedonski\", \"29_chinese_yi_china\", \"30_conservative_cameron_hide\", \"31_caesar_rome_caesars\", \"32_tyson_fight_boxing\", \"33_bjp_election_aquino\", \"34_library_museum_libraries\", \"35_spitzer_attorney_granholm\", \"36_black_march_marchers\", \"37_collingwood_geelong_hawt...\", \"38_carson_carsons_navajo\", \"39_army_custer_sheridan\", \"40_brennan_cia_libby\", \"41_award_academy_awards\", \"42_dean_deans_annie\", \"43_browns_mayor_cobb\", \"44_edwards_governor_louisiana\", \"45_kapoor_mukherjee_mother\", \"46_hoffmann_berlin_dresden\", \"47_mbeki_african_zuma\", \"48_bill_act_dea\"], \"yaxis\": \"y\", \"z\": [[0.9999999999999998, 0.3775382764087848, 0.5121514140606575, 0.3044169956168814, 0.24221494090164636, 0.2586476448115995, 0.30731960113689866, 0.31735131861125576, 0.2539050376667502, 0.2739251104839645, 0.3572422043169713, 0.36358191342069335, 0.6311750856534031, 0.3018529261170128, 0.23810894330189408, 0.309686380286838, 0.31941056860042727, 0.1345420446550823, 0.17420298972916337, 0.3319221260982027, 0.15666343745924233, 0.23699240868281252, 0.24981437167176174, 0.1540943278313004, 0.23912325381238914, 0.29306862020005836, 0.4485773579962765, 0.26854492559078025, 0.1419872604229063, 0.3484451324219835, 0.2130994716073804, 0.19052971594132387, 0.1499979573080828, 0.24410784521824636, 0.22793632135136505, 0.33254110173236767, 0.3415706919306369, 0.36949732461653345, 0.2516120656073827, 0.1950496091610441, 0.3286925716927225, 0.24618510999418797, 0.42262806948325293, 0.3887803305061024, 0.3963351670825934, 0.240798468378515, 0.24579834150855598, 0.2748503382953903, 0.2016310132318132, 0.23276349644394895], [0.3775382764087848, 0.9999999999999996, 0.6594545079378834, 0.7757472024881733, 0.5094991068038862, 0.41364969463393003, 0.37659311182435795, 0.46706120230902654, 0.44180330842743687, 0.6673510478496318, 0.5983877264200779, 0.806237994677887, 0.331992022509096, 0.4670740473864218, 0.4197341289114226, 0.6805200949878869, 0.43101646313024233, 0.4584773323525696, 0.4929221818109828, 0.40198647072014215, 0.5015308064268056, 0.4627542310746418, 0.3381292022882957, 0.4427785384596399, 0.5767265272850062, 0.5172305100307865, 0.5969277671676259, 0.4779962555618693, 0.5631074532666331, 0.6442101695128502, 0.4818312139087628, 0.47730121032348116, 0.47541626590055674, 0.4810413151642319, 0.5218812548986361, 0.3255648405633925, 0.468192889227648, 0.4838073798887766, 0.3881643351046711, 0.4070528436164518, 0.4335652880084652, 0.5280960384499446, 0.5466302050239125, 0.6868597848897477, 0.5199207933171905, 0.5227665858685722, 0.6241067402945644, 0.4859664844923913, 0.4748497923342433, 0.4438208444762925], [0.5121514140606575, 0.6594545079378834, 1.0000000000000002, 0.5714266904671315, 0.3658227815254643, 0.36849256394600816, 0.2767427688961889, 0.45247379532002996, 0.3480413688894498, 0.5036191019587456, 0.6774890542003443, 0.6873887198529671, 0.4348807359347704, 0.3870593014820896, 0.3371521834649343, 0.6195834003603272, 0.4051739168068459, 0.3244496657794914, 0.29367201586733294, 0.2995941590458647, 0.3162247744566821, 0.42394958590224785, 0.3010316979030448, 0.22367668740838337, 0.43167568287355407, 0.37910863839958375, 0.626889259252318, 0.376845845784747, 0.3473842869314434, 0.5615206920196512, 0.33490345887552964, 0.4023287731023618, 0.40237886071584567, 0.3705493199485441, 0.4095559952929556, 0.41522540488207005, 0.4107372738281571, 0.36777767370402153, 0.31864096210509446, 0.2670721313006563, 0.3002878258105225, 0.47329740611429805, 0.6122284853664337, 0.6391140398110648, 0.41238987288780105, 0.37515088723601825, 0.4827546400265771, 0.3590023892024168, 0.29829500471079595, 0.4118086238633116], [0.3044169956168814, 0.7757472024881733, 0.5714266904671315, 1.0, 0.4637292701603719, 0.2681101161124262, 0.2288062652419116, 0.3160773765148004, 0.24978317005465517, 0.5566515558895788, 0.4372089056517391, 0.7105912506531014, 0.24159334145366984, 0.28017204800403045, 0.2764156598021653, 0.6877191715460294, 0.2970592667275215, 0.2917107849754392, 0.31296635619297397, 0.2510875222820159, 0.4576075816495826, 0.4171958438887112, 0.2146254966504789, 0.38397888382443046, 0.4436192790907866, 0.38952021568704653, 0.48424494358357323, 0.31704569767235313, 0.35867023776666973, 0.49969587869807197, 0.39144868737789384, 0.35126007350400057, 0.3600535789896544, 0.3014455080898024, 0.39769290261121915, 0.28616588720779657, 0.3355061898055658, 0.3961819856893779, 0.2744876316120075, 0.36225128361357534, 0.26497527523578074, 0.3954472590547753, 0.4837012694874019, 0.5927837253721286, 0.36303992149410086, 0.4072982971703647, 0.7451280889245533, 0.33162441263971343, 0.42360161053666806, 0.3257321722767218], [0.24221494090164636, 0.5094991068038862, 0.3658227815254643, 0.4637292701603719, 0.9999999999999999, 0.21585019211041823, 0.23005573007722258, 0.26616307478469103, 0.30101370180473114, 0.5388584182724336, 0.3607681459049755, 0.4835435714814811, 0.3122821457449799, 0.19255100325332386, 0.3872709972083419, 0.593164941544054, 0.19192405648670255, 0.24219261440801998, 0.4587496627547295, 0.2724010365715973, 0.48536535180083895, 0.3660013635093694, 0.17811864428035107, 0.6125777486293347, 0.33201442974142814, 0.4478571786590612, 0.46004451576584704, 0.21915501447427485, 0.23635808313220305, 0.563514191317704, 0.49484459312196993, 0.36618639106959094, 0.4583394636307192, 0.2286333120692587, 0.4131989439173779, 0.3605194663751392, 0.3269336306407995, 0.4359198449219379, 0.3060891169957877, 0.22262979541741704, 0.39599273961728376, 0.27751684482241024, 0.2812893079292036, 0.3082595014089087, 0.345225899629536, 0.32948588828233094, 0.5747601152578155, 0.3228387766581164, 0.48929252105758114, 0.31715714165031395], [0.2586476448115995, 0.41364969463393003, 0.36849256394600816, 0.2681101161124262, 0.21585019211041823, 1.0, 0.6019901366934681, 0.40642372928023496, 0.6019388025532536, 0.2898086980515542, 0.33813432444070035, 0.38602176773986174, 0.2673507054454682, 0.49705175501566523, 0.5106527182061256, 0.2698642528209163, 0.6582065409337089, 0.3273977915457488, 0.24325792286319836, 0.35577073267699444, 0.1259452804707668, 0.28689035414218933, 0.36620804735957246, 0.07187040058231642, 0.39631764011391946, 0.29688011851902124, 0.26602889564520626, 0.5916960824881009, 0.2795122681370694, 0.249184920063364, 0.21960826460256877, 0.28097681510046135, 0.2198903680979977, 0.4135181855425275, 0.2951325936923638, 0.12213486664459, 0.36634676329629157, 0.1670227302010343, 0.44187812615009003, 0.4045731101365029, 0.36550689684644955, 0.26920025167638806, 0.3069958764975877, 0.3343050938433094, 0.5597209336470444, 0.3944018846653685, 0.17166569690055133, 0.28245245890564447, 0.17239040305646258, 0.26929302963873997], [0.30731960113689866, 0.37659311182435795, 0.2767427688961889, 0.2288062652419116, 0.23005573007722258, 0.6019901366934681, 0.9999999999999993, 0.38048005558186987, 0.4987334917897772, 0.2477990484332384, 0.38746509645763333, 0.2806606115800019, 0.23522783667976144, 0.453128315367794, 0.6614824856200547, 0.23271405262756248, 0.5956061285965918, 0.2073689027745098, 0.21179111859120453, 0.31748092812307727, 0.13779315505874462, 0.21554028197079575, 0.3439681787610671, 0.07188070215168058, 0.38800892974844803, 0.34155856100783294, 0.27897084759246044, 0.6033434914836491, 0.2671948816170936, 0.24318389274870728, 0.22342205442895166, 0.17574886957337427, 0.1553788903553488, 0.37557597111526697, 0.2676792692006443, 0.17590657156035694, 0.301618397795945, 0.15768827636959773, 0.5464331095145813, 0.2733167368626729, 0.24841594946770346, 0.23716356046094228, 0.26673940731214146, 0.351831995190561, 0.5417456875819238, 0.27283099816001444, 0.21537772697408153, 0.2921630350623622, 0.07818928876355416, 0.23578248985286038], [0.31735131861125576, 0.46706120230902654, 0.45247379532002996, 0.3160773765148004, 0.26616307478469103, 0.40642372928023496, 0.38048005558186987, 1.0000000000000004, 0.3429331793291344, 0.3314226427019338, 0.6176571146772265, 0.4501841128512717, 0.1518677340596031, 0.544853247783673, 0.44148811555991974, 0.35983781051927866, 0.4702148390630132, 0.25361936394586204, 0.26566825451851794, 0.3397227587754895, 0.25456446390273924, 0.30981355063722804, 0.3499718533765467, 0.18451811364664744, 0.30852748164316934, 0.33012595768801983, 0.27828745207722816, 0.4465977196428388, 0.2598242127491491, 0.3340576189413085, 0.34198244621205454, 0.2640154874396554, 0.2908307775804375, 0.7349566133743289, 0.2738800884468715, 0.27639473316198154, 0.3285439602154149, 0.26943752008114286, 0.47729771024487855, 0.30992789053708586, 0.3919845360944872, 0.3756294405660238, 0.4176624119626389, 0.4064732471401134, 0.30765210878521315, 0.27724871620777014, 0.2747747984125905, 0.2362958141576656, 0.1860782758080708, 0.24556762838475574], [0.2539050376667502, 0.44180330842743687, 0.3480413688894498, 0.24978317005465517, 0.30101370180473114, 0.6019388025532536, 0.4987334917897772, 0.3429331793291344, 1.0000000000000002, 0.347084739547308, 0.3408570592251946, 0.4319753080749119, 0.25253654611125526, 0.7323208359980906, 0.5515695676502878, 0.36726357178094404, 0.6044925350590885, 0.25556623088259534, 0.3883978753137171, 0.294124356203487, 0.16783229317010437, 0.35156649438837734, 0.4403190982960338, 0.1677312815773773, 0.4350021910044217, 0.43727266667099324, 0.3243602892324797, 0.7204707995327899, 0.28780285469342726, 0.4006873535524598, 0.32730508500150524, 0.3108193880251466, 0.37790809560950944, 0.41897356881482356, 0.40259839232286243, 0.19513716123292674, 0.39168166408452454, 0.28931621226249815, 0.5466639442652487, 0.3066646852971068, 0.3433046841605885, 0.24808592220046966, 0.4426978133838808, 0.32252696909085343, 0.4818530163101067, 0.36676840350026974, 0.28968856779798385, 0.3712765227127697, 0.33796705016441053, 0.22868460946175448], [0.2739251104839645, 0.6673510478496318, 0.5036191019587456, 0.5566515558895788, 0.5388584182724336, 0.2898086980515542, 0.2477990484332384, 0.3314226427019338, 0.347084739547308, 1.0000000000000002, 0.48882835378017964, 0.5773570139188091, 0.3508172589177341, 0.30562502622661125, 0.29090404455770713, 0.4707021913518644, 0.27943745669108866, 0.32552026942255574, 0.4783877046692977, 0.3011996120603912, 0.34469990456007615, 0.6081125579413769, 0.2890146873529571, 0.40593417559570466, 0.38041999967611845, 0.3975995767896745, 0.5463997293196252, 0.29856018621760105, 0.40163248486178066, 0.5953782700943338, 0.37888886759339857, 0.398750530924446, 0.40054330020121465, 0.2772051423829516, 0.3498551665442998, 0.3897042721407714, 0.46638664510440886, 0.39030733452690436, 0.2898004987674596, 0.3437847312960912, 0.3088936133527487, 0.48844148484579947, 0.40284429011651945, 0.4992417145630412, 0.3519326288355703, 0.3396875379369815, 0.5138308061724627, 0.49821060833151953, 0.36944720634879397, 0.40668434506417517], [0.3572422043169713, 0.5983877264200779, 0.6774890542003443, 0.4372089056517391, 0.3607681459049755, 0.33813432444070035, 0.38746509645763333, 0.6176571146772265, 0.3408570592251946, 0.48882835378017964, 1.0, 0.603726395928497, 0.2668421380107246, 0.39935789743966277, 0.4431184635291382, 0.37648535049594833, 0.41981485836551596, 0.30426087453710726, 0.37373105176226107, 0.37609757470748745, 0.2812414258877188, 0.38042253018054406, 0.2911512724960514, 0.293899444577234, 0.4925482169671335, 0.3760457891899488, 0.6312294400714936, 0.451964179168879, 0.3754676061827082, 0.6035700968680375, 0.343715594190351, 0.4105317284970058, 0.3984868479648532, 0.5149747064945182, 0.29256387303377995, 0.4268864149103758, 0.4122092337364037, 0.3679990385641201, 0.46392803215564926, 0.326485237979877, 0.37832798840252513, 0.4050209107567009, 0.49742369211003734, 0.6204244666915464, 0.36642731276844676, 0.3291928922408059, 0.33305912987877406, 0.3638594217309351, 0.3290624326421106, 0.305372482778926], [0.36358191342069335, 0.806237994677887, 0.6873887198529671, 0.7105912506531014, 0.4835435714814811, 0.38602176773986174, 0.2806606115800019, 0.4501841128512717, 0.4319753080749119, 0.5773570139188091, 0.603726395928497, 0.9999999999999998, 0.3770634902746878, 0.4386353619660627, 0.37995861956752697, 0.6636419715663694, 0.3950426518760545, 0.3565122135122295, 0.5329619745318595, 0.3515903632980715, 0.4759907909366455, 0.4437052870638359, 0.309379269899697, 0.39085576629254376, 0.5560426433033757, 0.528565028577237, 0.6200444395269924, 0.4462293420211575, 0.4003301822322619, 0.6866456448476734, 0.4345296229106783, 0.4618055043655893, 0.5138099023477097, 0.4825751106910246, 0.4758218763821137, 0.4244103646807257, 0.5142584104199193, 0.45672220155981125, 0.3380541962234312, 0.2777682840060608, 0.4043990016225073, 0.4681607008833757, 0.5631343579335906, 0.5866169891055224, 0.41176878808646034, 0.4728389291577011, 0.5984374975045421, 0.5839137296454507, 0.5312255651529387, 0.5040926587840646], [0.6311750856534031, 0.331992022509096, 0.4348807359347704, 0.24159334145366984, 0.3122821457449799, 0.2673507054454682, 0.23522783667976144, 0.1518677340596031, 0.25253654611125526, 0.3508172589177341, 0.2668421380107246, 0.3770634902746878, 1.0000000000000009, 0.23803527050308887, 0.1257661930789009, 0.25733472996504514, 0.1891233226708355, 0.06819954262345966, 0.3085946446691368, 0.3083934875352097, 0.20041239378326103, 0.30367541096913747, 0.2229290833441005, 0.1932002974175061, 0.24440392213664713, 0.3083372831984691, 0.4059927256713711, 0.2209725086686074, 0.08690689863491072, 0.4091357393892959, 0.1831044693614022, 0.13984257112420104, 0.3217145004133667, 0.11434730968701999, 0.19629345517231217, 0.35084744083900876, 0.3638732051672901, 0.23609587344397387, 0.14404293254674858, 0.07342126453680017, 0.2559251380305173, 0.16549925175256236, 0.37745976054978553, 0.3375103960736816, 0.29748639276642075, 0.16217535775746478, 0.22001940989892904, 0.443314731227155, 0.17203587747017937, 0.22417252359764772], [0.3018529261170128, 0.4670740473864218, 0.3870593014820896, 0.28017204800403045, 0.19255100325332386, 0.49705175501566523, 0.453128315367794, 0.544853247783673, 0.7323208359980906, 0.30562502622661125, 0.39935789743966277, 0.4386353619660627, 0.23803527050308887, 1.0000000000000004, 0.5101763019370416, 0.324913046175461, 0.6088405606170685, 0.24251864381074417, 0.266636552019641, 0.33884650135768835, 0.208602291069325, 0.38551146646947215, 0.4900529977166517, 0.16420967835420341, 0.4402371170858017, 0.3521649111522045, 0.2814043036391999, 0.5872261316674727, 0.28385226366884686, 0.3368225056816079, 0.3170278642880666, 0.2116643462346955, 0.35333119279971525, 0.5842463790502005, 0.33829417054677957, 0.24850556272451316, 0.3238259992997422, 0.27690255388553464, 0.4983532085865571, 0.2395951900414569, 0.34060870051741066, 0.26705969412088204, 0.5624461407404587, 0.3967416237895717, 0.4099429948354908, 0.3503467740399109, 0.2579150940533729, 0.3363809795719155, 0.22489311186870975, 0.2054129427144229], [0.23810894330189408, 0.4197341289114226, 0.3371521834649343, 0.2764156598021653, 0.3872709972083419, 0.5106527182061256, 0.6614824856200547, 0.44148811555991974, 0.5515695676502878, 0.29090404455770713, 0.4431184635291382, 0.37995861956752697, 0.1257661930789009, 0.5101763019370416, 1.0000000000000002, 0.4399697064684528, 0.545006399487191, 0.20147706400754994, 0.3054514681902299, 0.339168056668438, 0.2703086095080763, 0.2639946828127679, 0.24551688977071132, 0.33113096141504106, 0.42012112616484526, 0.30447077362290753, 0.32487980288968, 0.6326613395797434, 0.29584920809729226, 0.37085315932257745, 0.36671364377625915, 0.3326199997456931, 0.28302347766146435, 0.4553512617841663, 0.3159934311529765, 0.16006429218068297, 0.3245951062365289, 0.17919152122514298, 0.5354573800209776, 0.23794407056900554, 0.2900801608443154, 0.3071826329523556, 0.2459487101834158, 0.30336194467976085, 0.3853041537571734, 0.310104693972383, 0.4125981127418361, 0.260877247540333, 0.3795490957707033, 0.2497754592260774], [0.309686380286838, 0.6805200949878869, 0.6195834003603272, 0.6877191715460294, 0.593164941544054, 0.2698642528209163, 0.23271405262756248, 0.35983781051927866, 0.36726357178094404, 0.4707021913518644, 0.37648535049594833, 0.6636419715663694, 0.25733472996504514, 0.324913046175461, 0.4399697064684528, 1.0000000000000009, 0.3211697190913957, 0.2800595471448557, 0.3270224036931733, 0.23172006864296876, 0.5216610984220111, 0.38747081446494136, 0.22993578272883128, 0.5540185387538238, 0.2810837242218849, 0.3989750321759169, 0.49426606218855296, 0.3468363263552237, 0.30542274560839555, 0.5403838140920061, 0.49255066866570063, 0.3819605727157178, 0.3437307882572154, 0.34635000265451676, 0.5368711872626992, 0.3266942812474369, 0.37195965031238, 0.3632338907531786, 0.34899543943568584, 0.25877767312540956, 0.2746211527299717, 0.4258901724985866, 0.48490054374766, 0.45506411703652305, 0.39321740526037674, 0.37997268393004696, 0.8650803559834503, 0.3055876555617919, 0.48195649672023133, 0.32002770526517577], [0.31941056860042727, 0.43101646313024233, 0.4051739168068459, 0.2970592667275215, 0.19192405648670255, 0.6582065409337089, 0.5956061285965918, 0.4702148390630132, 0.6044925350590885, 0.27943745669108866, 0.41981485836551596, 0.3950426518760545, 0.1891233226708355, 0.6088405606170685, 0.545006399487191, 0.3211697190913957, 1.0000000000000004, 0.21536007197097806, 0.152720140837539, 0.21375455220101514, 0.2186131930562532, 0.29822599460855076, 0.2693451880373818, 0.08657081667077533, 0.4514543407564914, 0.3420277606573303, 0.33312190460307456, 0.7020833460102434, 0.2536033706675621, 0.2553789526094643, 0.2813310776998193, 0.22815457785362978, 0.16557910798082945, 0.5511168754676075, 0.24920122675964756, 0.21753940670705274, 0.34379998964387026, 0.25720065448980467, 0.5259279160013369, 0.33457197508334235, 0.2938624932930414, 0.28636430945068203, 0.3672195773666348, 0.4185002260381906, 0.5705908025910855, 0.3547444012093588, 0.2633838995910564, 0.19402985105893011, 0.3044161063461922, 0.23822217749841906], [0.1345420446550823, 0.4584773323525696, 0.3244496657794914, 0.2917107849754392, 0.24219261440801998, 0.3273977915457488, 0.2073689027745098, 0.25361936394586204, 0.25556623088259534, 0.32552026942255574, 0.30426087453710726, 0.3565122135122295, 0.06819954262345966, 0.24251864381074417, 0.20147706400754994, 0.2800595471448557, 0.21536007197097806, 1.0, 0.36433340057280456, 0.35571521182731247, 0.35214861971384315, 0.2826903606431514, 0.2540397831541878, 0.2536186799740968, 0.30326590194501607, 0.3277010163359704, 0.23485750504712152, 0.19423584370235314, 0.7570805879476894, 0.2919840750695704, 0.22385282543820545, 0.6140958764686768, 0.24377977030314002, 0.2640728291621387, 0.7377373397128753, 0.1851977150678754, 0.3457715975229261, 0.40625098757209466, 0.14743683651683803, 0.40491680563438004, 0.40405272242248763, 0.5440900618772319, 0.3848979231925929, 0.32141012167858163, 0.25744257556382677, 0.6292283595722006, 0.26127717313740834, 0.1816904833096234, 0.28173562495658505, 0.5271721939233602], [0.17420298972916337, 0.4929221818109828, 0.29367201586733294, 0.31296635619297397, 0.4587496627547295, 0.24325792286319836, 0.21179111859120453, 0.26566825451851794, 0.3883978753137171, 0.4783877046692977, 0.37373105176226107, 0.5329619745318595, 0.3085946446691368, 0.266636552019641, 0.3054514681902299, 0.3270224036931733, 0.152720140837539, 0.36433340057280456, 1.0000000000000002, 0.392384175921128, 0.46014839446046085, 0.31826259012844416, 0.25597545697664925, 0.3553752686976933, 0.36775625062622275, 0.42401120172399503, 0.32495810800697544, 0.37091400818034703, 0.48831105029906596, 0.5363542479981802, 0.4217170148644639, 0.37829511823628925, 0.5637028488305403, 0.3242780590345375, 0.36688368953625333, 0.3013970757029397, 0.41508822955368585, 0.3812197908731109, 0.27348945493728816, 0.14880834423209424, 0.4770763232596056, 0.4425487372675454, 0.34727614059871287, 0.26415167083914365, 0.3222872782820138, 0.26078019324516877, 0.34918613339765575, 0.7776547885529965, 0.45249074640178344, 0.30024746182697726], [0.3319221260982027, 0.40198647072014215, 0.2995941590458647, 0.2510875222820159, 0.2724010365715973, 0.35577073267699444, 0.31748092812307727, 0.3397227587754895, 0.294124356203487, 0.3011996120603912, 0.37609757470748745, 0.3515903632980715, 0.3083934875352097, 0.33884650135768835, 0.339168056668438, 0.23172006864296876, 0.21375455220101514, 0.35571521182731247, 0.392384175921128, 0.9999999999999996, 0.2723890307533795, 0.325457898582597, 0.22701822743736577, 0.24098863146276034, 0.3810308982604635, 0.40591598744293633, 0.29404318343464275, 0.28666043700509136, 0.43791229862653924, 0.26908269167397453, 0.2715971577411626, 0.35533968681442085, 0.34271725056161695, 0.31837985380419864, 0.30966846983947977, 0.2125268139338688, 0.34598075604195605, 0.23765089148552795, 0.2555340485484835, 0.26471202004233074, 0.6414908939244224, 0.48548604708034837, 0.369329997879832, 0.36106903097703247, 0.32376582825209543, 0.3755188868837525, 0.24570284966871214, 0.30375099363127633, 0.2667210504230657, 0.30443451877784566], [0.15666343745924233, 0.5015308064268056, 0.3162247744566821, 0.4576075816495826, 0.48536535180083895, 0.1259452804707668, 0.13779315505874462, 0.25456446390273924, 0.16783229317010437, 0.34469990456007615, 0.2812414258877188, 0.4759907909366455, 0.20041239378326103, 0.208602291069325, 0.2703086095080763, 0.5216610984220111, 0.2186131930562532, 0.35214861971384315, 0.46014839446046085, 0.2723890307533795, 1.0000000000000013, 0.2612776422229109, 0.03737220514461824, 0.5741353202489974, 0.3439875764829766, 0.34510890782798925, 0.3006233034535406, 0.22923697587494032, 0.406770401141731, 0.41435433771856744, 0.5011731084855695, 0.3971067058013848, 0.36044916298646457, 0.32961551651396165, 0.49960076458752545, 0.23707304213208058, 0.22358236973449835, 0.34599147424091975, 0.18718702099174994, 0.12054198091549878, 0.3237294634624103, 0.48563215751263855, 0.2702749172947151, 0.2823395970968171, 0.21063932371193145, 0.2775766266074238, 0.59201986120735, 0.23182414133003368, 0.4370434457450004, 0.25576378182020293], [0.23699240868281252, 0.4627542310746418, 0.42394958590224785, 0.4171958438887112, 0.3660013635093694, 0.28689035414218933, 0.21554028197079575, 0.30981355063722804, 0.35156649438837734, 0.6081125579413769, 0.38042253018054406, 0.4437052870638359, 0.30367541096913747, 0.38551146646947215, 0.2639946828127679, 0.38747081446494136, 0.29822599460855076, 0.2826903606431514, 0.31826259012844416, 0.325457898582597, 0.2612776422229109, 1.0000000000000004, 0.20831690664422048, 0.3081350302245231, 0.33391123214685603, 0.3285510971346399, 0.46194323623222877, 0.27004932567742174, 0.3045865395020134, 0.44064099949919794, 0.3816994722937068, 0.3455972781731922, 0.2874062760102837, 0.25639414030691077, 0.29050969457759157, 0.4574252404837542, 0.49019499525875476, 0.3351082539688874, 0.31808227904386766, 0.3603748779344892, 0.2808656921796536, 0.3788685576415623, 0.4886557844167969, 0.4843915940260918, 0.2794905223467779, 0.35633970076590427, 0.40129054800471503, 0.37794341955845134, 0.3160362895655231, 0.34848093895167476], [0.24981437167176174, 0.3381292022882957, 0.3010316979030448, 0.2146254966504789, 0.17811864428035107, 0.36620804735957246, 0.3439681787610671, 0.3499718533765467, 0.4403190982960338, 0.2890146873529571, 0.2911512724960514, 0.309379269899697, 0.2229290833441005, 0.4900529977166517, 0.24551688977071132, 0.22993578272883128, 0.2693451880373818, 0.2540397831541878, 0.25597545697664925, 0.22701822743736577, 0.03737220514461824, 0.20831690664422048, 1.0, 0.04363740727476056, 0.23132798903438656, 0.33491592591717884, 0.16187515973139827, 0.35173729682735555, 0.14388067097053897, 0.280588433424819, 0.20784835331883372, 0.2187012807121268, 0.27045970311083545, 0.3367734092652954, 0.3420495206793035, 0.14201296932072693, 0.2808436765289198, 0.3749618129598533, 0.34489126823237787, 0.23375185865477682, 0.2633785319558318, 0.08646940695357025, 0.27052853744110883, 0.2199586435575258, 0.3403895439398876, 0.3527593868247846, 0.17996907459710423, 0.3102188110373916, 0.14259213825948786, 0.2537729880429866], [0.1540943278313004, 0.4427785384596399, 0.22367668740838337, 0.38397888382443046, 0.6125777486293347, 0.07187040058231642, 0.07188070215168058, 0.18451811364664744, 0.1677312815773773, 0.40593417559570466, 0.293899444577234, 0.39085576629254376, 0.1932002974175061, 0.16420967835420341, 0.33113096141504106, 0.5540185387538238, 0.08657081667077533, 0.2536186799740968, 0.3553752686976933, 0.24098863146276034, 0.5741353202489974, 0.3081350302245231, 0.04363740727476056, 0.9999999999999998, 0.1936352247885741, 0.3571316698882755, 0.3532121643398488, 0.2285393875303942, 0.28296748427426244, 0.5036581849747961, 0.5906159989556129, 0.3429674758920495, 0.3599839231358677, 0.1993714184864836, 0.4259682359140665, 0.19911459519375285, 0.2736991205325171, 0.38176653561676943, 0.2532973563265478, 0.2868034981862471, 0.33277430795898477, 0.3216479375708186, 0.24874968175935008, 0.3166076989182391, 0.14411731870398242, 0.3594661792019803, 0.5367028756833375, 0.1826387486377439, 0.46716504628783895, 0.16999051649761174], [0.23912325381238914, 0.5767265272850062, 0.43167568287355407, 0.4436192790907866, 0.33201442974142814, 0.39631764011391946, 0.38800892974844803, 0.30852748164316934, 0.4350021910044217, 0.38041999967611845, 0.4925482169671335, 0.5560426433033757, 0.24440392213664713, 0.4402371170858017, 0.42012112616484526, 0.2810837242218849, 0.4514543407564914, 0.30326590194501607, 0.36775625062622275, 0.3810308982604635, 0.3439875764829766, 0.33391123214685603, 0.23132798903438656, 0.1936352247885741, 1.0, 0.4944257346276931, 0.5331624208541913, 0.41123674361718865, 0.4891000336365073, 0.48890534914046474, 0.2369197542031915, 0.4784650430783548, 0.5677825537897719, 0.4068423499614333, 0.3152925119784643, 0.31104139760086563, 0.361872762507757, 0.3412897463972474, 0.33696035279911773, 0.2963041332463898, 0.38172597027089383, 0.3759650604819007, 0.4342015212011995, 0.5847856573380323, 0.45953521120725627, 0.4858312924878767, 0.3277413985764971, 0.3913196430942927, 0.3383518702832016, 0.373578542440067], [0.29306862020005836, 0.5172305100307865, 0.37910863839958375, 0.38952021568704653, 0.4478571786590612, 0.29688011851902124, 0.34155856100783294, 0.33012595768801983, 0.43727266667099324, 0.3975995767896745, 0.3760457891899488, 0.528565028577237, 0.3083372831984691, 0.3521649111522045, 0.30447077362290753, 0.3989750321759169, 0.3420277606573303, 0.3277010163359704, 0.42401120172399503, 0.40591598744293633, 0.34510890782798925, 0.3285510971346399, 0.33491592591717884, 0.3571316698882755, 0.4944257346276931, 1.0, 0.3750796256723346, 0.33977863541129605, 0.4178279949557171, 0.5244820789697429, 0.46661349176225764, 0.33131577439078785, 0.6178150413579495, 0.29919443764155534, 0.48708255430505926, 0.2369375901038864, 0.3829995840537637, 0.4417577825563442, 0.3641124724617456, 0.32381512109601207, 0.3627054247610094, 0.3655885844876242, 0.3505544357787169, 0.4224178159919767, 0.41402037216772086, 0.5572619197377948, 0.38531163017817105, 0.35991953921858033, 0.45867453622982113, 0.2804276245923445], [0.4485773579962765, 0.5969277671676259, 0.626889259252318, 0.48424494358357323, 0.46004451576584704, 0.26602889564520626, 0.27897084759246044, 0.27828745207722816, 0.3243602892324797, 0.5463997293196252, 0.6312294400714936, 0.6200444395269924, 0.4059927256713711, 0.2814043036391999, 0.32487980288968, 0.49426606218855296, 0.33312190460307456, 0.23485750504712152, 0.32495810800697544, 0.29404318343464275, 0.3006233034535406, 0.46194323623222877, 0.16187515973139827, 0.3532121643398488, 0.5331624208541913, 0.3750796256723346, 0.9999999999999997, 0.3310643129148515, 0.3426814664968528, 0.67916229523467, 0.26111810273900216, 0.36384584470331155, 0.3512283498461769, 0.32730896483413063, 0.2728670359890529, 0.5977176297098931, 0.459713488055414, 0.34765292944695825, 0.2370408192079854, 0.23002248000645126, 0.3719484891951166, 0.43922262315534766, 0.4864173245759772, 0.5851593362021484, 0.36804147592397085, 0.3283577236620786, 0.46226282802646834, 0.42944942665700697, 0.3539417751161112, 0.38646530235886717], [0.26854492559078025, 0.4779962555618693, 0.376845845784747, 0.31704569767235313, 0.21915501447427485, 0.5916960824881009, 0.6033434914836491, 0.4465977196428388, 0.7204707995327899, 0.29856018621760105, 0.451964179168879, 0.4462293420211575, 0.2209725086686074, 0.5872261316674727, 0.6326613395797434, 0.3468363263552237, 0.7020833460102434, 0.19423584370235314, 0.37091400818034703, 0.28666043700509136, 0.22923697587494032, 0.27004932567742174, 0.35173729682735555, 0.2285393875303942, 0.41123674361718865, 0.33977863541129605, 0.3310643129148515, 0.9999999999999987, 0.3403524545317125, 0.3652479096724808, 0.3570515096730943, 0.25976250237774196, 0.3083568335871245, 0.481423516111681, 0.32546666840702276, 0.19594166543909966, 0.41664478359079665, 0.196856733556535, 0.5785400980634232, 0.33037063048293924, 0.2778590440420681, 0.33257128282224635, 0.3616476285552549, 0.4092209379579977, 0.5468916754804722, 0.3152870215855656, 0.27899409941972764, 0.3461837796897736, 0.3099596823713605, 0.2135674123703748], [0.1419872604229063, 0.5631074532666331, 0.3473842869314434, 0.35867023776666973, 0.23635808313220305, 0.2795122681370694, 0.2671948816170936, 0.2598242127491491, 0.28780285469342726, 0.40163248486178066, 0.3754676061827082, 0.4003301822322619, 0.08690689863491072, 0.28385226366884686, 0.29584920809729226, 0.30542274560839555, 0.2536033706675621, 0.7570805879476894, 0.48831105029906596, 0.43791229862653924, 0.406770401141731, 0.3045865395020134, 0.14388067097053897, 0.28296748427426244, 0.4891000336365073, 0.4178279949557171, 0.3426814664968528, 0.3403524545317125, 1.0000000000000004, 0.39272646419273916, 0.28409143749227883, 0.5201964314635782, 0.3560010440133648, 0.3464569412519235, 0.5849224239652574, 0.2255397789353563, 0.30801521350078687, 0.34827926730692454, 0.18841760909003138, 0.4599361577102718, 0.4047642479275357, 0.6458545022940029, 0.4172448829520857, 0.4506379115829478, 0.33666891555473677, 0.5433901417908693, 0.3082294282167103, 0.3132175585437391, 0.3011148934792347, 0.42254999843372726], [0.3484451324219835, 0.6442101695128502, 0.5615206920196512, 0.49969587869807197, 0.563514191317704, 0.249184920063364, 0.24318389274870728, 0.3340576189413085, 0.4006873535524598, 0.5953782700943338, 0.6035700968680375, 0.6866456448476734, 0.4091357393892959, 0.3368225056816079, 0.37085315932257745, 0.5403838140920061, 0.2553789526094643, 0.2919840750695704, 0.5363542479981802, 0.26908269167397453, 0.41435433771856744, 0.44064099949919794, 0.280588433424819, 0.5036581849747961, 0.48890534914046474, 0.5244820789697429, 0.67916229523467, 0.3652479096724808, 0.39272646419273916, 1.0000000000000004, 0.4797136967272907, 0.42288896264435705, 0.5828925639356362, 0.3523208129563318, 0.4173162567028214, 0.496533703094433, 0.4539892072490872, 0.4827171807974089, 0.33415606408120396, 0.2293866803723331, 0.4330230661059214, 0.39316672667705244, 0.48248859473262723, 0.4870640053161372, 0.348479644053264, 0.4206495991180428, 0.516861186015658, 0.5882847564993858, 0.4749501506160132, 0.34007662212051587], [0.2130994716073804, 0.4818312139087628, 0.33490345887552964, 0.39144868737789384, 0.49484459312196993, 0.21960826460256877, 0.22342205442895166, 0.34198244621205454, 0.32730508500150524, 0.37888886759339857, 0.343715594190351, 0.4345296229106783, 0.1831044693614022, 0.3170278642880666, 0.36671364377625915, 0.49255066866570063, 0.2813310776998193, 0.22385282543820545, 0.4217170148644639, 0.2715971577411626, 0.5011731084855695, 0.3816994722937068, 0.20784835331883372, 0.5906159989556129, 0.2369197542031915, 0.46661349176225764, 0.26111810273900216, 0.3570515096730943, 0.28409143749227883, 0.4797136967272907, 1.0000000000000004, 0.3617605251833, 0.33227613546372325, 0.2759067323803458, 0.3940348583124514, 0.19680014716046057, 0.32842727859293513, 0.3249830571368886, 0.39619247814457936, 0.32401579204466124, 0.20829409310323546, 0.32905920107078557, 0.2998892125405212, 0.292238752934068, 0.28882833279225334, 0.306378556206102, 0.4793493788282672, 0.3002900327368698, 0.4146161520235411, 0.20857017925823146], [0.19052971594132387, 0.47730121032348116, 0.4023287731023618, 0.35126007350400057, 0.36618639106959094, 0.28097681510046135, 0.17574886957337427, 0.2640154874396554, 0.3108193880251466, 0.398750530924446, 0.4105317284970058, 0.4618055043655893, 0.13984257112420104, 0.2116643462346955, 0.3326199997456931, 0.3819605727157178, 0.22815457785362978, 0.6140958764686768, 0.37829511823628925, 0.35533968681442085, 0.3971067058013848, 0.3455972781731922, 0.2187012807121268, 0.3429674758920495, 0.4784650430783548, 0.33131577439078785, 0.36384584470331155, 0.25976250237774196, 0.5201964314635782, 0.42288896264435705, 0.3617605251833, 1.0000000000000009, 0.3058138559744215, 0.24758318034109691, 0.5983035614988998, 0.3019718834689665, 0.4507894235173804, 0.40365953599201976, 0.406952044908109, 0.3644773525483165, 0.3682347598468856, 0.5082972921898631, 0.29825553680718353, 0.33740490243515553, 0.34568031504660324, 0.5292728436127918, 0.43778866831862845, 0.3053102997693701, 0.45289327320945744, 0.47197730932329396], [0.1499979573080828, 0.47541626590055674, 0.40237886071584567, 0.3600535789896544, 0.4583394636307192, 0.2198903680979977, 0.1553788903553488, 0.2908307775804375, 0.37790809560950944, 0.40054330020121465, 0.3984868479648532, 0.5138099023477097, 0.3217145004133667, 0.35333119279971525, 0.28302347766146435, 0.3437307882572154, 0.16557910798082945, 0.24377977030314002, 0.5637028488305403, 0.34271725056161695, 0.36044916298646457, 0.2874062760102837, 0.27045970311083545, 0.3599839231358677, 0.5677825537897719, 0.6178150413579495, 0.3512283498461769, 0.3083568335871245, 0.3560010440133648, 0.5828925639356362, 0.33227613546372325, 0.3058138559744215, 1.0000000000000004, 0.2539127753701619, 0.3584490255826985, 0.2626349501446182, 0.26819551166009764, 0.3890445666124215, 0.2912279511464649, 0.19313234002597474, 0.41972383096836735, 0.30322849125709395, 0.39482089397910813, 0.3461376534737223, 0.2704292558277934, 0.39299881943320203, 0.34854560493629383, 0.4945425616414406, 0.427391892618947, 0.2197823813469322], [0.24410784521824636, 0.4810413151642319, 0.3705493199485441, 0.3014455080898024, 0.2286333120692587, 0.4135181855425275, 0.37557597111526697, 0.7349566133743289, 0.41897356881482356, 0.2772051423829516, 0.5149747064945182, 0.4825751106910246, 0.11434730968701999, 0.5842463790502005, 0.4553512617841663, 0.34635000265451676, 0.5511168754676075, 0.2640728291621387, 0.3242780590345375, 0.31837985380419864, 0.32961551651396165, 0.25639414030691077, 0.3367734092652954, 0.1993714184864836, 0.4068423499614333, 0.29919443764155534, 0.32730896483413063, 0.481423516111681, 0.3464569412519235, 0.3523208129563318, 0.2759067323803458, 0.24758318034109691, 0.2539127753701619, 0.9999999999999993, 0.30916369826146395, 0.17805069088518596, 0.2813659118547721, 0.3172171132527801, 0.44038017600376705, 0.3308644322629562, 0.4832977638720679, 0.4358782232854289, 0.3979773927826012, 0.3583640504021235, 0.32574419853379594, 0.31763639695529877, 0.3261239073834611, 0.27172032275398944, 0.23794073060702597, 0.2712277523725902], [0.22793632135136505, 0.5218812548986361, 0.4095559952929556, 0.39769290261121915, 0.4131989439173779, 0.2951325936923638, 0.2676792692006443, 0.2738800884468715, 0.40259839232286243, 0.3498551665442998, 0.29256387303377995, 0.4758218763821137, 0.19629345517231217, 0.33829417054677957, 0.3159934311529765, 0.5368711872626992, 0.24920122675964756, 0.7377373397128753, 0.36688368953625333, 0.30966846983947977, 0.49960076458752545, 0.29050969457759157, 0.3420495206793035, 0.4259682359140665, 0.3152925119784643, 0.48708255430505926, 0.2728670359890529, 0.32546666840702276, 0.5849224239652574, 0.4173162567028214, 0.3940348583124514, 0.5983035614988998, 0.3584490255826985, 0.30916369826146395, 0.9999999999999997, 0.22334304344731382, 0.4205376951998395, 0.4108976853261719, 0.29300698448050466, 0.2681991970681925, 0.3653539631153563, 0.5039798264017087, 0.4383951255073545, 0.2765856407913875, 0.3920899172693366, 0.6880071246547428, 0.5228313000317371, 0.2618529868789308, 0.4475028067351882, 0.4839649383061274], [0.33254110173236767, 0.3255648405633925, 0.41522540488207005, 0.28616588720779657, 0.3605194663751392, 0.12213486664459, 0.17590657156035694, 0.27639473316198154, 0.19513716123292674, 0.3897042721407714, 0.4268864149103758, 0.4244103646807257, 0.35084744083900876, 0.24850556272451316, 0.16006429218068297, 0.3266942812474369, 0.21753940670705274, 0.1851977150678754, 0.3013970757029397, 0.2125268139338688, 0.23707304213208058, 0.4574252404837542, 0.14201296932072693, 0.19911459519375285, 0.31104139760086563, 0.2369375901038864, 0.5977176297098931, 0.19594166543909966, 0.2255397789353563, 0.496533703094433, 0.19680014716046057, 0.3019718834689665, 0.2626349501446182, 0.17805069088518596, 0.22334304344731382, 0.9999999999999994, 0.3745970152207887, 0.24890061178177908, 0.2546734917254282, 0.17180196179530546, 0.3111327567214444, 0.41299034510349575, 0.5111034375073025, 0.4158532384705118, 0.2567909409322732, 0.21660087944998763, 0.3159934139610595, 0.38466411727269045, 0.2558359086179407, 0.30087104704783324], [0.3415706919306369, 0.468192889227648, 0.4107372738281571, 0.3355061898055658, 0.3269336306407995, 0.36634676329629157, 0.301618397795945, 0.3285439602154149, 0.39168166408452454, 0.46638664510440886, 0.4122092337364037, 0.5142584104199193, 0.3638732051672901, 0.3238259992997422, 0.3245951062365289, 0.37195965031238, 0.34379998964387026, 0.3457715975229261, 0.41508822955368585, 0.34598075604195605, 0.22358236973449835, 0.49019499525875476, 0.2808436765289198, 0.2736991205325171, 0.361872762507757, 0.3829995840537637, 0.459713488055414, 0.41664478359079665, 0.30801521350078687, 0.4539892072490872, 0.32842727859293513, 0.4507894235173804, 0.26819551166009764, 0.2813659118547721, 0.4205376951998395, 0.3745970152207887, 1.0000000000000004, 0.3271769283114937, 0.3720115809587894, 0.24601125246567762, 0.412627257142938, 0.43250388981757515, 0.4237718320828471, 0.45000965057452924, 0.44366820285676, 0.5167842651148684, 0.3592113969225009, 0.5152585500341653, 0.3396436001941883, 0.5161502762617679], [0.36949732461653345, 0.4838073798887766, 0.36777767370402153, 0.3961819856893779, 0.4359198449219379, 0.1670227302010343, 0.15768827636959773, 0.26943752008114286, 0.28931621226249815, 0.39030733452690436, 0.3679990385641201, 0.45672220155981125, 0.23609587344397387, 0.27690255388553464, 0.17919152122514298, 0.3632338907531786, 0.25720065448980467, 0.40625098757209466, 0.3812197908731109, 0.23765089148552795, 0.34599147424091975, 0.3351082539688874, 0.3749618129598533, 0.38176653561676943, 0.3412897463972474, 0.4417577825563442, 0.34765292944695825, 0.196856733556535, 0.34827926730692454, 0.4827171807974089, 0.3249830571368886, 0.40365953599201976, 0.3890445666124215, 0.3172171132527801, 0.4108976853261719, 0.24890061178177908, 0.3271769283114937, 0.9999999999999993, 0.3614650798086778, 0.35048329814603574, 0.5467280202595761, 0.2876365037948973, 0.3880275366004987, 0.3805069734258537, 0.3502966187381774, 0.46257322927469496, 0.3309056908358292, 0.33117931470092676, 0.5475783569411351, 0.4072442243829323], [0.2516120656073827, 0.3881643351046711, 0.31864096210509446, 0.2744876316120075, 0.3060891169957877, 0.44187812615009003, 0.5464331095145813, 0.47729771024487855, 0.5466639442652487, 0.2898004987674596, 0.46392803215564926, 0.3380541962234312, 0.14404293254674858, 0.4983532085865571, 0.5354573800209776, 0.34899543943568584, 0.5259279160013369, 0.14743683651683803, 0.27348945493728816, 0.2555340485484835, 0.18718702099174994, 0.31808227904386766, 0.34489126823237787, 0.2532973563265478, 0.33696035279911773, 0.3641124724617456, 0.2370408192079854, 0.5785400980634232, 0.18841760909003138, 0.33415606408120396, 0.39619247814457936, 0.406952044908109, 0.2912279511464649, 0.44038017600376705, 0.29300698448050466, 0.2546734917254282, 0.3720115809587894, 0.3614650798086778, 0.9999999999999989, 0.41911562168784033, 0.33328367303667783, 0.29046577387860023, 0.3333546992335312, 0.39557735000147765, 0.4836178151928707, 0.35677746515353437, 0.34447092679486546, 0.31718542917190623, 0.32886796672169394, 0.16839079849833294], [0.1950496091610441, 0.4070528436164518, 0.2670721313006563, 0.36225128361357534, 0.22262979541741704, 0.4045731101365029, 0.2733167368626729, 0.30992789053708586, 0.3066646852971068, 0.3437847312960912, 0.326485237979877, 0.2777682840060608, 0.07342126453680017, 0.2395951900414569, 0.23794407056900554, 0.25877767312540956, 0.33457197508334235, 0.40491680563438004, 0.14880834423209424, 0.26471202004233074, 0.12054198091549878, 0.3603748779344892, 0.23375185865477682, 0.2868034981862471, 0.2963041332463898, 0.32381512109601207, 0.23002248000645126, 0.33037063048293924, 0.4599361577102718, 0.2293866803723331, 0.32401579204466124, 0.3644773525483165, 0.19313234002597474, 0.3308644322629562, 0.2681991970681925, 0.17180196179530546, 0.24601125246567762, 0.35048329814603574, 0.41911562168784033, 1.0000000000000004, 0.2757170155616715, 0.43238839878306173, 0.29782196538684563, 0.5110223730013785, 0.34583930366324434, 0.48695985907752876, 0.25624086979670835, 0.0805662656422404, 0.14815390178681662, 0.26460336094053116], [0.3286925716927225, 0.4335652880084652, 0.3002878258105225, 0.26497527523578074, 0.39599273961728376, 0.36550689684644955, 0.24841594946770346, 0.3919845360944872, 0.3433046841605885, 0.3088936133527487, 0.37832798840252513, 0.4043990016225073, 0.2559251380305173, 0.34060870051741066, 0.2900801608443154, 0.2746211527299717, 0.2938624932930414, 0.40405272242248763, 0.4770763232596056, 0.6414908939244224, 0.3237294634624103, 0.2808656921796536, 0.2633785319558318, 0.33277430795898477, 0.38172597027089383, 0.3627054247610094, 0.3719484891951166, 0.2778590440420681, 0.4047642479275357, 0.4330230661059214, 0.20829409310323546, 0.3682347598468856, 0.41972383096836735, 0.4832977638720679, 0.3653539631153563, 0.3111327567214444, 0.412627257142938, 0.5467280202595761, 0.33328367303667783, 0.2757170155616715, 0.9999999999999993, 0.48332139721564604, 0.3665792134319094, 0.3572719589344665, 0.3860711980322422, 0.4447068516554845, 0.22384111674913215, 0.41396414066187126, 0.38901379184874724, 0.33017536035078], [0.24618510999418797, 0.5280960384499446, 0.47329740611429805, 0.3954472590547753, 0.27751684482241024, 0.26920025167638806, 0.23716356046094228, 0.3756294405660238, 0.24808592220046966, 0.48844148484579947, 0.4050209107567009, 0.4681607008833757, 0.16549925175256236, 0.26705969412088204, 0.3071826329523556, 0.4258901724985866, 0.28636430945068203, 0.5440900618772319, 0.4425487372675454, 0.48548604708034837, 0.48563215751263855, 0.3788685576415623, 0.08646940695357025, 0.3216479375708186, 0.3759650604819007, 0.3655885844876242, 0.43922262315534766, 0.33257128282224635, 0.6458545022940029, 0.39316672667705244, 0.32905920107078557, 0.5082972921898631, 0.30322849125709395, 0.4358782232854289, 0.5039798264017087, 0.41299034510349575, 0.43250388981757515, 0.2876365037948973, 0.29046577387860023, 0.43238839878306173, 0.48332139721564604, 0.9999999999999997, 0.4624756701200303, 0.5574639176620776, 0.3700386483457897, 0.4524431542911911, 0.4606547199488535, 0.34580992047967, 0.3289587683255766, 0.43759807374555915], [0.42262806948325293, 0.5466302050239125, 0.6122284853664337, 0.4837012694874019, 0.2812893079292036, 0.3069958764975877, 0.26673940731214146, 0.4176624119626389, 0.4426978133838808, 0.40284429011651945, 0.49742369211003734, 0.5631343579335906, 0.37745976054978553, 0.5624461407404587, 0.2459487101834158, 0.48490054374766, 0.3672195773666348, 0.3848979231925929, 0.34727614059871287, 0.369329997879832, 0.2702749172947151, 0.4886557844167969, 0.27052853744110883, 0.24874968175935008, 0.4342015212011995, 0.3505544357787169, 0.4864173245759772, 0.3616476285552549, 0.4172448829520857, 0.48248859473262723, 0.2998892125405212, 0.29825553680718353, 0.39482089397910813, 0.3979773927826012, 0.4383951255073545, 0.5111034375073025, 0.4237718320828471, 0.3880275366004987, 0.3333546992335312, 0.29782196538684563, 0.3665792134319094, 0.4624756701200303, 0.9999999999999998, 0.598409836322034, 0.31264260356987794, 0.4042836806435781, 0.4411725704640755, 0.37188102417862623, 0.29900739727833237, 0.3671680576431251], [0.3887803305061024, 0.6868597848897477, 0.6391140398110648, 0.5927837253721286, 0.3082595014089087, 0.3343050938433094, 0.351831995190561, 0.4064732471401134, 0.32252696909085343, 0.4992417145630412, 0.6204244666915464, 0.5866169891055224, 0.3375103960736816, 0.3967416237895717, 0.30336194467976085, 0.45506411703652305, 0.4185002260381906, 0.32141012167858163, 0.26415167083914365, 0.36106903097703247, 0.2823395970968171, 0.4843915940260918, 0.2199586435575258, 0.3166076989182391, 0.5847856573380323, 0.4224178159919767, 0.5851593362021484, 0.4092209379579977, 0.4506379115829478, 0.4870640053161372, 0.292238752934068, 0.33740490243515553, 0.3461376534737223, 0.3583640504021235, 0.2765856407913875, 0.4158532384705118, 0.45000965057452924, 0.3805069734258537, 0.39557735000147765, 0.5110223730013785, 0.3572719589344665, 0.5574639176620776, 0.598409836322034, 0.9999999999999998, 0.39559861987976375, 0.4884462283884211, 0.40437664663856665, 0.3217140724697052, 0.2431376658313303, 0.3420469947272927], [0.3963351670825934, 0.5199207933171905, 0.41238987288780105, 0.36303992149410086, 0.345225899629536, 0.5597209336470444, 0.5417456875819238, 0.30765210878521315, 0.4818530163101067, 0.3519326288355703, 0.36642731276844676, 0.41176878808646034, 0.29748639276642075, 0.4099429948354908, 0.3853041537571734, 0.39321740526037674, 0.5705908025910855, 0.25744257556382677, 0.3222872782820138, 0.32376582825209543, 0.21063932371193145, 0.2794905223467779, 0.3403895439398876, 0.14411731870398242, 0.45953521120725627, 0.41402037216772086, 0.36804147592397085, 0.5468916754804722, 0.33666891555473677, 0.348479644053264, 0.28882833279225334, 0.34568031504660324, 0.2704292558277934, 0.32574419853379594, 0.3920899172693366, 0.2567909409322732, 0.44366820285676, 0.3502966187381774, 0.4836178151928707, 0.34583930366324434, 0.3860711980322422, 0.3700386483457897, 0.31264260356987794, 0.39559861987976375, 0.9999999999999997, 0.45462360264867596, 0.35903790627442567, 0.4374218016628371, 0.3129611981445754, 0.23395902362958912], [0.240798468378515, 0.5227665858685722, 0.37515088723601825, 0.4072982971703647, 0.32948588828233094, 0.3944018846653685, 0.27283099816001444, 0.27724871620777014, 0.36676840350026974, 0.3396875379369815, 0.3291928922408059, 0.4728389291577011, 0.16217535775746478, 0.3503467740399109, 0.310104693972383, 0.37997268393004696, 0.3547444012093588, 0.6292283595722006, 0.26078019324516877, 0.3755188868837525, 0.2775766266074238, 0.35633970076590427, 0.3527593868247846, 0.3594661792019803, 0.4858312924878767, 0.5572619197377948, 0.3283577236620786, 0.3152870215855656, 0.5433901417908693, 0.4206495991180428, 0.306378556206102, 0.5292728436127918, 0.39299881943320203, 0.31763639695529877, 0.6880071246547428, 0.21660087944998763, 0.5167842651148684, 0.46257322927469496, 0.35677746515353437, 0.48695985907752876, 0.4447068516554845, 0.4524431542911911, 0.4042836806435781, 0.4884462283884211, 0.45462360264867596, 1.0, 0.36621684020938594, 0.2789070985059543, 0.47494514538278465, 0.4703841450213677], [0.24579834150855598, 0.6241067402945644, 0.4827546400265771, 0.7451280889245533, 0.5747601152578155, 0.17166569690055133, 0.21537772697408153, 0.2747747984125905, 0.28968856779798385, 0.5138308061724627, 0.33305912987877406, 0.5984374975045421, 0.22001940989892904, 0.2579150940533729, 0.4125981127418361, 0.8650803559834503, 0.2633838995910564, 0.26127717313740834, 0.34918613339765575, 0.24570284966871214, 0.59201986120735, 0.40129054800471503, 0.17996907459710423, 0.5367028756833375, 0.3277413985764971, 0.38531163017817105, 0.46226282802646834, 0.27899409941972764, 0.3082294282167103, 0.516861186015658, 0.4793493788282672, 0.43778866831862845, 0.34854560493629383, 0.3261239073834611, 0.5228313000317371, 0.3159934139610595, 0.3592113969225009, 0.3309056908358292, 0.34447092679486546, 0.25624086979670835, 0.22384111674913215, 0.4606547199488535, 0.4411725704640755, 0.40437664663856665, 0.35903790627442567, 0.36621684020938594, 0.9999999999999993, 0.315627147815, 0.5100317059764515, 0.2873002151929922], [0.2748503382953903, 0.4859664844923913, 0.3590023892024168, 0.33162441263971343, 0.3228387766581164, 0.28245245890564447, 0.2921630350623622, 0.2362958141576656, 0.3712765227127697, 0.49821060833151953, 0.3638594217309351, 0.5839137296454507, 0.443314731227155, 0.3363809795719155, 0.260877247540333, 0.3055876555617919, 0.19402985105893011, 0.1816904833096234, 0.7776547885529965, 0.30375099363127633, 0.23182414133003368, 0.37794341955845134, 0.3102188110373916, 0.1826387486377439, 0.3913196430942927, 0.35991953921858033, 0.42944942665700697, 0.3461837796897736, 0.3132175585437391, 0.5882847564993858, 0.3002900327368698, 0.3053102997693701, 0.4945425616414406, 0.27172032275398944, 0.2618529868789308, 0.38466411727269045, 0.5152585500341653, 0.33117931470092676, 0.31718542917190623, 0.0805662656422404, 0.41396414066187126, 0.34580992047967, 0.37188102417862623, 0.3217140724697052, 0.4374218016628371, 0.2789070985059543, 0.315627147815, 0.9999999999999998, 0.3599058621545079, 0.3193185445436676], [0.2016310132318132, 0.4748497923342433, 0.29829500471079595, 0.42360161053666806, 0.48929252105758114, 0.17239040305646258, 0.07818928876355416, 0.1860782758080708, 0.33796705016441053, 0.36944720634879397, 0.3290624326421106, 0.5312255651529387, 0.17203587747017937, 0.22489311186870975, 0.3795490957707033, 0.48195649672023133, 0.3044161063461922, 0.28173562495658505, 0.45249074640178344, 0.2667210504230657, 0.4370434457450004, 0.3160362895655231, 0.14259213825948786, 0.46716504628783895, 0.3383518702832016, 0.45867453622982113, 0.3539417751161112, 0.3099596823713605, 0.3011148934792347, 0.4749501506160132, 0.4146161520235411, 0.45289327320945744, 0.427391892618947, 0.23794073060702597, 0.4475028067351882, 0.2558359086179407, 0.3396436001941883, 0.5475783569411351, 0.32886796672169394, 0.14815390178681662, 0.38901379184874724, 0.3289587683255766, 0.29900739727833237, 0.2431376658313303, 0.3129611981445754, 0.47494514538278465, 0.5100317059764515, 0.3599058621545079, 0.9999999999999996, 0.21427852198557182], [0.23276349644394895, 0.4438208444762925, 0.4118086238633116, 0.3257321722767218, 0.31715714165031395, 0.26929302963873997, 0.23578248985286038, 0.24556762838475574, 0.22868460946175448, 0.40668434506417517, 0.305372482778926, 0.5040926587840646, 0.22417252359764772, 0.2054129427144229, 0.2497754592260774, 0.32002770526517577, 0.23822217749841906, 0.5271721939233602, 0.30024746182697726, 0.30443451877784566, 0.25576378182020293, 0.34848093895167476, 0.2537729880429866, 0.16999051649761174, 0.373578542440067, 0.2804276245923445, 0.38646530235886717, 0.2135674123703748, 0.42254999843372726, 0.34007662212051587, 0.20857017925823146, 0.47197730932329396, 0.2197823813469322, 0.2712277523725902, 0.4839649383061274, 0.30087104704783324, 0.5161502762617679, 0.4072442243829323, 0.16839079849833294, 0.26460336094053116, 0.33017536035078, 0.43759807374555915, 0.3671680576431251, 0.3420469947272927, 0.23395902362958912, 0.4703841450213677, 0.2873002151929922, 0.3193185445436676, 0.21427852198557182, 1.0]]}],                        {\"coloraxis\": {\"colorbar\": {\"title\": {\"text\": \"Similarity Score\"}}, \"colorscale\": [[0.0, \"rgb(247,252,240)\"], [0.125, \"rgb(224,243,219)\"], [0.25, \"rgb(204,235,197)\"], [0.375, \"rgb(168,221,181)\"], [0.5, \"rgb(123,204,196)\"], [0.625, \"rgb(78,179,211)\"], [0.75, \"rgb(43,140,190)\"], [0.875, \"rgb(8,104,172)\"], [1.0, \"rgb(8,64,129)\"]]}, \"height\": 800, \"hoverlabel\": {\"bgcolor\": \"white\", \"font\": {\"family\": \"Rockwell\", \"size\": 16}}, \"legend\": {\"title\": {\"text\": \"Trend\"}}, \"margin\": {\"t\": 60}, \"showlegend\": true, \"template\": {\"data\": {\"bar\": [{\"error_x\": {\"color\": \"#2a3f5f\"}, \"error_y\": {\"color\": \"#2a3f5f\"}, \"marker\": {\"line\": {\"color\": \"#E5ECF6\", \"width\": 0.5}}, \"type\": \"bar\"}], \"barpolar\": [{\"marker\": {\"line\": {\"color\": \"#E5ECF6\", \"width\": 0.5}}, \"type\": \"barpolar\"}], \"carpet\": [{\"aaxis\": {\"endlinecolor\": \"#2a3f5f\", \"gridcolor\": \"white\", \"linecolor\": \"white\", \"minorgridcolor\": \"white\", \"startlinecolor\": \"#2a3f5f\"}, \"baxis\": {\"endlinecolor\": \"#2a3f5f\", \"gridcolor\": \"white\", \"linecolor\": \"white\", \"minorgridcolor\": \"white\", \"startlinecolor\": \"#2a3f5f\"}, \"type\": \"carpet\"}], \"choropleth\": [{\"colorbar\": {\"outlinewidth\": 0, \"ticks\": \"\"}, \"type\": \"choropleth\"}], \"contour\": [{\"colorbar\": {\"outlinewidth\": 0, \"ticks\": \"\"}, \"colorscale\": [[0.0, \"#0d0887\"], [0.1111111111111111, \"#46039f\"], [0.2222222222222222, \"#7201a8\"], [0.3333333333333333, \"#9c179e\"], [0.4444444444444444, \"#bd3786\"], [0.5555555555555556, \"#d8576b\"], [0.6666666666666666, \"#ed7953\"], [0.7777777777777778, \"#fb9f3a\"], [0.8888888888888888, \"#fdca26\"], [1.0, \"#f0f921\"]], \"type\": \"contour\"}], \"contourcarpet\": [{\"colorbar\": {\"outlinewidth\": 0, \"ticks\": \"\"}, \"type\": \"contourcarpet\"}], \"heatmap\": [{\"colorbar\": {\"outlinewidth\": 0, \"ticks\": \"\"}, \"colorscale\": [[0.0, \"#0d0887\"], [0.1111111111111111, \"#46039f\"], [0.2222222222222222, \"#7201a8\"], [0.3333333333333333, \"#9c179e\"], [0.4444444444444444, \"#bd3786\"], [0.5555555555555556, \"#d8576b\"], [0.6666666666666666, \"#ed7953\"], [0.7777777777777778, \"#fb9f3a\"], [0.8888888888888888, \"#fdca26\"], [1.0, \"#f0f921\"]], \"type\": \"heatmap\"}], \"heatmapgl\": [{\"colorbar\": {\"outlinewidth\": 0, \"ticks\": \"\"}, \"colorscale\": [[0.0, \"#0d0887\"], [0.1111111111111111, \"#46039f\"], [0.2222222222222222, \"#7201a8\"], [0.3333333333333333, \"#9c179e\"], [0.4444444444444444, \"#bd3786\"], [0.5555555555555556, \"#d8576b\"], [0.6666666666666666, \"#ed7953\"], [0.7777777777777778, \"#fb9f3a\"], [0.8888888888888888, \"#fdca26\"], [1.0, \"#f0f921\"]], \"type\": \"heatmapgl\"}], \"histogram\": [{\"marker\": {\"colorbar\": {\"outlinewidth\": 0, \"ticks\": \"\"}}, \"type\": \"histogram\"}], \"histogram2d\": [{\"colorbar\": {\"outlinewidth\": 0, \"ticks\": \"\"}, \"colorscale\": [[0.0, \"#0d0887\"], [0.1111111111111111, \"#46039f\"], [0.2222222222222222, \"#7201a8\"], [0.3333333333333333, \"#9c179e\"], [0.4444444444444444, \"#bd3786\"], [0.5555555555555556, \"#d8576b\"], [0.6666666666666666, \"#ed7953\"], [0.7777777777777778, \"#fb9f3a\"], [0.8888888888888888, \"#fdca26\"], [1.0, \"#f0f921\"]], \"type\": \"histogram2d\"}], \"histogram2dcontour\": [{\"colorbar\": {\"outlinewidth\": 0, \"ticks\": \"\"}, \"colorscale\": [[0.0, \"#0d0887\"], [0.1111111111111111, \"#46039f\"], [0.2222222222222222, \"#7201a8\"], [0.3333333333333333, \"#9c179e\"], [0.4444444444444444, \"#bd3786\"], [0.5555555555555556, \"#d8576b\"], [0.6666666666666666, \"#ed7953\"], [0.7777777777777778, \"#fb9f3a\"], [0.8888888888888888, \"#fdca26\"], [1.0, \"#f0f921\"]], \"type\": \"histogram2dcontour\"}], \"mesh3d\": [{\"colorbar\": {\"outlinewidth\": 0, \"ticks\": \"\"}, \"type\": \"mesh3d\"}], \"parcoords\": [{\"line\": {\"colorbar\": {\"outlinewidth\": 0, \"ticks\": \"\"}}, \"type\": \"parcoords\"}], \"pie\": [{\"automargin\": true, \"type\": \"pie\"}], \"scatter\": [{\"marker\": {\"colorbar\": {\"outlinewidth\": 0, \"ticks\": \"\"}}, \"type\": \"scatter\"}], \"scatter3d\": [{\"line\": {\"colorbar\": {\"outlinewidth\": 0, \"ticks\": \"\"}}, \"marker\": {\"colorbar\": {\"outlinewidth\": 0, \"ticks\": \"\"}}, \"type\": \"scatter3d\"}], \"scattercarpet\": [{\"marker\": {\"colorbar\": {\"outlinewidth\": 0, \"ticks\": \"\"}}, \"type\": \"scattercarpet\"}], \"scattergeo\": [{\"marker\": {\"colorbar\": {\"outlinewidth\": 0, \"ticks\": \"\"}}, \"type\": \"scattergeo\"}], \"scattergl\": [{\"marker\": {\"colorbar\": {\"outlinewidth\": 0, \"ticks\": \"\"}}, \"type\": \"scattergl\"}], \"scattermapbox\": [{\"marker\": {\"colorbar\": {\"outlinewidth\": 0, \"ticks\": \"\"}}, \"type\": \"scattermapbox\"}], \"scatterpolar\": [{\"marker\": {\"colorbar\": {\"outlinewidth\": 0, \"ticks\": \"\"}}, \"type\": \"scatterpolar\"}], \"scatterpolargl\": [{\"marker\": {\"colorbar\": {\"outlinewidth\": 0, \"ticks\": \"\"}}, \"type\": \"scatterpolargl\"}], \"scatterternary\": [{\"marker\": {\"colorbar\": {\"outlinewidth\": 0, \"ticks\": \"\"}}, \"type\": \"scatterternary\"}], \"surface\": [{\"colorbar\": {\"outlinewidth\": 0, \"ticks\": \"\"}, \"colorscale\": [[0.0, \"#0d0887\"], [0.1111111111111111, \"#46039f\"], [0.2222222222222222, \"#7201a8\"], [0.3333333333333333, \"#9c179e\"], [0.4444444444444444, \"#bd3786\"], [0.5555555555555556, \"#d8576b\"], [0.6666666666666666, \"#ed7953\"], [0.7777777777777778, \"#fb9f3a\"], [0.8888888888888888, \"#fdca26\"], [1.0, \"#f0f921\"]], \"type\": \"surface\"}], \"table\": [{\"cells\": {\"fill\": {\"color\": \"#EBF0F8\"}, \"line\": {\"color\": \"white\"}}, \"header\": {\"fill\": {\"color\": \"#C8D4E3\"}, \"line\": {\"color\": \"white\"}}, \"type\": \"table\"}]}, \"layout\": {\"annotationdefaults\": {\"arrowcolor\": \"#2a3f5f\", \"arrowhead\": 0, \"arrowwidth\": 1}, \"autotypenumbers\": \"strict\", \"coloraxis\": {\"colorbar\": {\"outlinewidth\": 0, \"ticks\": \"\"}}, \"colorscale\": {\"diverging\": [[0, \"#8e0152\"], [0.1, \"#c51b7d\"], [0.2, \"#de77ae\"], [0.3, \"#f1b6da\"], [0.4, \"#fde0ef\"], [0.5, \"#f7f7f7\"], [0.6, \"#e6f5d0\"], [0.7, \"#b8e186\"], [0.8, \"#7fbc41\"], [0.9, \"#4d9221\"], [1, \"#276419\"]], \"sequential\": [[0.0, \"#0d0887\"], [0.1111111111111111, \"#46039f\"], [0.2222222222222222, \"#7201a8\"], [0.3333333333333333, \"#9c179e\"], [0.4444444444444444, \"#bd3786\"], [0.5555555555555556, \"#d8576b\"], [0.6666666666666666, \"#ed7953\"], [0.7777777777777778, \"#fb9f3a\"], [0.8888888888888888, \"#fdca26\"], [1.0, \"#f0f921\"]], \"sequentialminus\": [[0.0, \"#0d0887\"], [0.1111111111111111, \"#46039f\"], [0.2222222222222222, \"#7201a8\"], [0.3333333333333333, \"#9c179e\"], [0.4444444444444444, \"#bd3786\"], [0.5555555555555556, \"#d8576b\"], [0.6666666666666666, \"#ed7953\"], [0.7777777777777778, \"#fb9f3a\"], [0.8888888888888888, \"#fdca26\"], [1.0, \"#f0f921\"]]}, \"colorway\": [\"#636efa\", \"#EF553B\", \"#00cc96\", \"#ab63fa\", \"#FFA15A\", \"#19d3f3\", \"#FF6692\", \"#B6E880\", \"#FF97FF\", \"#FECB52\"], \"font\": {\"color\": \"#2a3f5f\"}, \"geo\": {\"bgcolor\": \"white\", \"lakecolor\": \"white\", \"landcolor\": \"#E5ECF6\", \"showlakes\": true, \"showland\": true, \"subunitcolor\": \"white\"}, \"hoverlabel\": {\"align\": \"left\"}, \"hovermode\": \"closest\", \"mapbox\": {\"style\": \"light\"}, \"paper_bgcolor\": \"white\", \"plot_bgcolor\": \"#E5ECF6\", \"polar\": {\"angularaxis\": {\"gridcolor\": \"white\", \"linecolor\": \"white\", \"ticks\": \"\"}, \"bgcolor\": \"#E5ECF6\", \"radialaxis\": {\"gridcolor\": \"white\", \"linecolor\": \"white\", \"ticks\": \"\"}}, \"scene\": {\"xaxis\": {\"backgroundcolor\": \"#E5ECF6\", \"gridcolor\": \"white\", \"gridwidth\": 2, \"linecolor\": \"white\", \"showbackground\": true, \"ticks\": \"\", \"zerolinecolor\": \"white\"}, \"yaxis\": {\"backgroundcolor\": \"#E5ECF6\", \"gridcolor\": \"white\", \"gridwidth\": 2, \"linecolor\": \"white\", \"showbackground\": true, \"ticks\": \"\", \"zerolinecolor\": \"white\"}, \"zaxis\": {\"backgroundcolor\": \"#E5ECF6\", \"gridcolor\": \"white\", \"gridwidth\": 2, \"linecolor\": \"white\", \"showbackground\": true, \"ticks\": \"\", \"zerolinecolor\": \"white\"}}, \"shapedefaults\": {\"line\": {\"color\": \"#2a3f5f\"}}, \"ternary\": {\"aaxis\": {\"gridcolor\": \"white\", \"linecolor\": \"white\", \"ticks\": \"\"}, \"baxis\": {\"gridcolor\": \"white\", \"linecolor\": \"white\", \"ticks\": \"\"}, \"bgcolor\": \"#E5ECF6\", \"caxis\": {\"gridcolor\": \"white\", \"linecolor\": \"white\", \"ticks\": \"\"}}, \"title\": {\"x\": 0.05}, \"xaxis\": {\"automargin\": true, \"gridcolor\": \"white\", \"linecolor\": \"white\", \"ticks\": \"\", \"title\": {\"standoff\": 15}, \"zerolinecolor\": \"white\", \"zerolinewidth\": 2}, \"yaxis\": {\"automargin\": true, \"gridcolor\": \"white\", \"linecolor\": \"white\", \"ticks\": \"\", \"title\": {\"standoff\": 15}, \"zerolinecolor\": \"white\", \"zerolinewidth\": 2}}}, \"title\": {\"font\": {\"color\": \"Black\", \"size\": 22}, \"text\": \"<b>Similarity Matrix\", \"x\": 0.55, \"xanchor\": \"center\", \"y\": 0.95, \"yanchor\": \"top\"}, \"width\": 800, \"xaxis\": {\"anchor\": \"y\", \"constrain\": \"domain\", \"domain\": [0.0, 1.0], \"scaleanchor\": \"y\"}, \"yaxis\": {\"anchor\": \"x\", \"autorange\": \"reversed\", \"constrain\": \"domain\", \"domain\": [0.0, 1.0]}},                        {\"responsive\": true}                    ).then(function(){\n",
              "                            \n",
              "var gd = document.getElementById('c4746032-ccdc-444f-a042-5fc50299fa34');\n",
              "var x = new MutationObserver(function (mutations, observer) {{\n",
              "        var display = window.getComputedStyle(gd).display;\n",
              "        if (!display || display === 'none') {{\n",
              "            console.log([gd, 'removed!']);\n",
              "            Plotly.purge(gd);\n",
              "            observer.disconnect();\n",
              "        }}\n",
              "}});\n",
              "\n",
              "// Listen for the removal of the full notebook cells\n",
              "var notebookContainer = gd.closest('#notebook-container');\n",
              "if (notebookContainer) {{\n",
              "    x.observe(notebookContainer, {childList: true});\n",
              "}}\n",
              "\n",
              "// Listen for the clearing of the current output cell\n",
              "var outputEl = gd.closest('.output');\n",
              "if (outputEl) {{\n",
              "    x.observe(outputEl, {childList: true});\n",
              "}}\n",
              "\n",
              "                        })                };                            </script>        </div>\n",
              "</body>\n",
              "</html>"
            ]
          },
          "metadata": {
            "tags": []
          }
        },
        {
          "output_type": "display_data",
          "data": {
            "text/plain": [
              "<Figure size 14400x14400 with 0 Axes>"
            ]
          },
          "metadata": {
            "tags": []
          }
        }
      ]
    },
    {
      "cell_type": "code",
      "metadata": {
        "id": "aVIe_Ag4ugYr",
        "colab": {
          "base_uri": "https://localhost:8080/",
          "height": 617
        },
        "outputId": "eab67ca7-3d1c-4edb-97dd-4135b46584ba"
      },
      "source": [
        "# Agglomerative Clustering on the topics clustered based on unique contexts\n",
        "topic_model.visualize_hierarchy()"
      ],
      "execution_count": 45,
      "outputs": [
        {
          "output_type": "display_data",
          "data": {
            "text/html": [
              "<html>\n",
              "<head><meta charset=\"utf-8\" /></head>\n",
              "<body>\n",
              "    <div>            <script src=\"https://cdnjs.cloudflare.com/ajax/libs/mathjax/2.7.5/MathJax.js?config=TeX-AMS-MML_SVG\"></script><script type=\"text/javascript\">if (window.MathJax) {MathJax.Hub.Config({SVG: {font: \"STIX-Web\"}});}</script>                <script type=\"text/javascript\">window.PlotlyConfig = {MathJaxConfig: 'local'};</script>\n",
              "        <script src=\"https://cdn.plot.ly/plotly-latest.min.js\"></script>                <div id=\"e6be0104-755b-4006-81c1-1bfa4bd60f83\" class=\"plotly-graph-div\" style=\"height:600px; width:1000px;\"></div>            <script type=\"text/javascript\">                                    window.PLOTLYENV=window.PLOTLYENV || {};                                    if (document.getElementById(\"e6be0104-755b-4006-81c1-1bfa4bd60f83\")) {                    Plotly.newPlot(                        \"e6be0104-755b-4006-81c1-1bfa4bd60f83\",                        [{\"hoverinfo\": \"text\", \"marker\": {\"color\": \"rgb(61,153,112)\"}, \"mode\": \"lines\", \"type\": \"scatter\", \"x\": [0.0, 0.6843020428405158, 0.6843020428405158, 0.0], \"xaxis\": \"x\", \"y\": [-25.0, -25.0, -35.0, -35.0], \"yaxis\": \"y\"}, {\"hoverinfo\": \"text\", \"marker\": {\"color\": \"rgb(61,153,112)\"}, \"mode\": \"lines\", \"type\": \"scatter\", \"x\": [0.0, 0.7785164230443712, 0.7785164230443712, 0.6843020428405158], \"xaxis\": \"x\", \"y\": [-15.0, -15.0, -30.0, -30.0], \"yaxis\": \"y\"}, {\"hoverinfo\": \"text\", \"marker\": {\"color\": \"rgb(0,116,217)\"}, \"mode\": \"lines\", \"type\": \"scatter\", \"x\": [0.0, 1.0324936594768983, 1.0324936594768983, 0.7785164230443712], \"xaxis\": \"x\", \"y\": [-5.0, -5.0, -22.5, -22.5], \"yaxis\": \"y\"}, {\"hoverinfo\": \"text\", \"marker\": {\"color\": \"rgb(255,65,54)\"}, \"mode\": \"lines\", \"type\": \"scatter\", \"x\": [0.0, 0.5902561557524728, 0.5902561557524728, 0.0], \"xaxis\": \"x\", \"y\": [-55.0, -55.0, -65.0, -65.0], \"yaxis\": \"y\"}, {\"hoverinfo\": \"text\", \"marker\": {\"color\": \"rgb(255,65,54)\"}, \"mode\": \"lines\", \"type\": \"scatter\", \"x\": [0.0, 0.7297631159151837, 0.7297631159151837, 0.5902561557524728], \"xaxis\": \"x\", \"y\": [-45.0, -45.0, -60.0, -60.0], \"yaxis\": \"y\"}, {\"hoverinfo\": \"text\", \"marker\": {\"color\": \"rgb(35,205,205)\"}, \"mode\": \"lines\", \"type\": \"scatter\", \"x\": [0.0, 0.8201222536194565, 0.8201222536194565, 0.0], \"xaxis\": \"x\", \"y\": [-75.0, -75.0, -85.0, -85.0], \"yaxis\": \"y\"}, {\"hoverinfo\": \"text\", \"marker\": {\"color\": \"rgb(0,116,217)\"}, \"mode\": \"lines\", \"type\": \"scatter\", \"x\": [0.7297631159151837, 1.040867678142476, 1.040867678142476, 0.8201222536194565], \"xaxis\": \"x\", \"y\": [-52.5, -52.5, -80.0, -80.0], \"yaxis\": \"y\"}, {\"hoverinfo\": \"text\", \"marker\": {\"color\": \"rgb(0,116,217)\"}, \"mode\": \"lines\", \"type\": \"scatter\", \"x\": [1.0324936594768983, 1.1857384795729964, 1.1857384795729964, 1.040867678142476], \"xaxis\": \"x\", \"y\": [-13.75, -13.75, -66.25, -66.25], \"yaxis\": \"y\"}, {\"hoverinfo\": \"text\", \"marker\": {\"color\": \"rgb(133,20,75)\"}, \"mode\": \"lines\", \"type\": \"scatter\", \"x\": [0.0, 0.5164396764682836, 0.5164396764682836, 0.0], \"xaxis\": \"x\", \"y\": [-95.0, -95.0, -105.0, -105.0], \"yaxis\": \"y\"}, {\"hoverinfo\": \"text\", \"marker\": {\"color\": \"rgb(0,116,217)\"}, \"mode\": \"lines\", \"type\": \"scatter\", \"x\": [0.0, 1.378982761686771, 1.378982761686771, 0.0], \"xaxis\": \"x\", \"y\": [-115.0, -115.0, -125.0, -125.0], \"yaxis\": \"y\"}, {\"hoverinfo\": \"text\", \"marker\": {\"color\": \"rgb(0,116,217)\"}, \"mode\": \"lines\", \"type\": \"scatter\", \"x\": [0.5164396764682836, 1.572833105743211, 1.572833105743211, 1.378982761686771], \"xaxis\": \"x\", \"y\": [-100.0, -100.0, -120.0, -120.0], \"yaxis\": \"y\"}, {\"hoverinfo\": \"text\", \"marker\": {\"color\": \"rgb(0,116,217)\"}, \"mode\": \"lines\", \"type\": \"scatter\", \"x\": [1.1857384795729964, 1.8530686745726093, 1.8530686745726093, 1.572833105743211], \"xaxis\": \"x\", \"y\": [-40.0, -40.0, -110.0, -110.0], \"yaxis\": \"y\"}, {\"hoverinfo\": \"text\", \"marker\": {\"color\": \"rgb(255,220,0)\"}, \"mode\": \"lines\", \"type\": \"scatter\", \"x\": [0.0, 0.7570947459602163, 0.7570947459602163, 0.0], \"xaxis\": \"x\", \"y\": [-145.0, -145.0, -155.0, -155.0], \"yaxis\": \"y\"}, {\"hoverinfo\": \"text\", \"marker\": {\"color\": \"rgb(0,116,217)\"}, \"mode\": \"lines\", \"type\": \"scatter\", \"x\": [0.0, 1.2664438346798805, 1.2664438346798805, 0.7570947459602163], \"xaxis\": \"x\", \"y\": [-135.0, -135.0, -150.0, -150.0], \"yaxis\": \"y\"}, {\"hoverinfo\": \"text\", \"marker\": {\"color\": \"rgb(40,35,35)\"}, \"mode\": \"lines\", \"type\": \"scatter\", \"x\": [0.0, 0.7345787556522725, 0.7345787556522725, 0.0], \"xaxis\": \"x\", \"y\": [-175.0, -175.0, -185.0, -185.0], \"yaxis\": \"y\"}, {\"hoverinfo\": \"text\", \"marker\": {\"color\": \"rgb(40,35,35)\"}, \"mode\": \"lines\", \"type\": \"scatter\", \"x\": [0.0, 0.8570572240170226, 0.8570572240170226, 0.7345787556522725], \"xaxis\": \"x\", \"y\": [-165.0, -165.0, -180.0, -180.0], \"yaxis\": \"y\"}, {\"hoverinfo\": \"text\", \"marker\": {\"color\": \"rgb(61,153,112)\"}, \"mode\": \"lines\", \"type\": \"scatter\", \"x\": [0.0, 0.6558281443865432, 0.6558281443865432, 0.0], \"xaxis\": \"x\", \"y\": [-205.0, -205.0, -215.0, -215.0], \"yaxis\": \"y\"}, {\"hoverinfo\": \"text\", \"marker\": {\"color\": \"rgb(61,153,112)\"}, \"mode\": \"lines\", \"type\": \"scatter\", \"x\": [0.0, 0.9993404658822811, 0.9993404658822811, 0.6558281443865432], \"xaxis\": \"x\", \"y\": [-195.0, -195.0, -210.0, -210.0], \"yaxis\": \"y\"}, {\"hoverinfo\": \"text\", \"marker\": {\"color\": \"rgb(0,116,217)\"}, \"mode\": \"lines\", \"type\": \"scatter\", \"x\": [0.8570572240170226, 1.1390431871953557, 1.1390431871953557, 0.9993404658822811], \"xaxis\": \"x\", \"y\": [-172.5, -172.5, -202.5, -202.5], \"yaxis\": \"y\"}, {\"hoverinfo\": \"text\", \"marker\": {\"color\": \"rgb(255,65,54)\"}, \"mode\": \"lines\", \"type\": \"scatter\", \"x\": [0.0, 0.7435691338301846, 0.7435691338301846, 0.0], \"xaxis\": \"x\", \"y\": [-225.0, -225.0, -235.0, -235.0], \"yaxis\": \"y\"}, {\"hoverinfo\": \"text\", \"marker\": {\"color\": \"rgb(35,205,205)\"}, \"mode\": \"lines\", \"type\": \"scatter\", \"x\": [0.0, 0.9807818195485479, 0.9807818195485479, 0.0], \"xaxis\": \"x\", \"y\": [-245.0, -245.0, -255.0, -255.0], \"yaxis\": \"y\"}, {\"hoverinfo\": \"text\", \"marker\": {\"color\": \"rgb(0,116,217)\"}, \"mode\": \"lines\", \"type\": \"scatter\", \"x\": [0.7435691338301846, 1.417927108860584, 1.417927108860584, 0.9807818195485479], \"xaxis\": \"x\", \"y\": [-230.0, -230.0, -250.0, -250.0], \"yaxis\": \"y\"}, {\"hoverinfo\": \"text\", \"marker\": {\"color\": \"rgb(133,20,75)\"}, \"mode\": \"lines\", \"type\": \"scatter\", \"x\": [0.0, 0.67555492901472, 0.67555492901472, 0.0], \"xaxis\": \"x\", \"y\": [-265.0, -265.0, -275.0, -275.0], \"yaxis\": \"y\"}, {\"hoverinfo\": \"text\", \"marker\": {\"color\": \"rgb(255,220,0)\"}, \"mode\": \"lines\", \"type\": \"scatter\", \"x\": [0.0, 0.7815687251990475, 0.7815687251990475, 0.0], \"xaxis\": \"x\", \"y\": [-295.0, -295.0, -305.0, -305.0], \"yaxis\": \"y\"}, {\"hoverinfo\": \"text\", \"marker\": {\"color\": \"rgb(0,116,217)\"}, \"mode\": \"lines\", \"type\": \"scatter\", \"x\": [0.0, 1.0419268352633955, 1.0419268352633955, 0.7815687251990475], \"xaxis\": \"x\", \"y\": [-285.0, -285.0, -300.0, -300.0], \"yaxis\": \"y\"}, {\"hoverinfo\": \"text\", \"marker\": {\"color\": \"rgb(0,116,217)\"}, \"mode\": \"lines\", \"type\": \"scatter\", \"x\": [0.67555492901472, 1.434943190641562, 1.434943190641562, 1.0419268352633955], \"xaxis\": \"x\", \"y\": [-270.0, -270.0, -292.5, -292.5], \"yaxis\": \"y\"}, {\"hoverinfo\": \"text\", \"marker\": {\"color\": \"rgb(0,116,217)\"}, \"mode\": \"lines\", \"type\": \"scatter\", \"x\": [1.417927108860584, 1.6661116879212479, 1.6661116879212479, 1.434943190641562], \"xaxis\": \"x\", \"y\": [-240.0, -240.0, -281.25, -281.25], \"yaxis\": \"y\"}, {\"hoverinfo\": \"text\", \"marker\": {\"color\": \"rgb(0,116,217)\"}, \"mode\": \"lines\", \"type\": \"scatter\", \"x\": [1.1390431871953557, 2.259259958216236, 2.259259958216236, 1.6661116879212479], \"xaxis\": \"x\", \"y\": [-187.5, -187.5, -260.625, -260.625], \"yaxis\": \"y\"}, {\"hoverinfo\": \"text\", \"marker\": {\"color\": \"rgb(0,116,217)\"}, \"mode\": \"lines\", \"type\": \"scatter\", \"x\": [1.2664438346798805, 2.7107451468934087, 2.7107451468934087, 2.259259958216236], \"xaxis\": \"x\", \"y\": [-142.5, -142.5, -224.0625, -224.0625], \"yaxis\": \"y\"}, {\"hoverinfo\": \"text\", \"marker\": {\"color\": \"rgb(40,35,35)\"}, \"mode\": \"lines\", \"type\": \"scatter\", \"x\": [0.0, 0.4887500661982581, 0.4887500661982581, 0.0], \"xaxis\": \"x\", \"y\": [-315.0, -315.0, -325.0, -325.0], \"yaxis\": \"y\"}, {\"hoverinfo\": \"text\", \"marker\": {\"color\": \"rgb(61,153,112)\"}, \"mode\": \"lines\", \"type\": \"scatter\", \"x\": [0.0, 0.7371657604649579, 0.7371657604649579, 0.0], \"xaxis\": \"x\", \"y\": [-355.0, -355.0, -365.0, -365.0], \"yaxis\": \"y\"}, {\"hoverinfo\": \"text\", \"marker\": {\"color\": \"rgb(61,153,112)\"}, \"mode\": \"lines\", \"type\": \"scatter\", \"x\": [0.0, 0.7751675678264685, 0.7751675678264685, 0.7371657604649579], \"xaxis\": \"x\", \"y\": [-345.0, -345.0, -360.0, -360.0], \"yaxis\": \"y\"}, {\"hoverinfo\": \"text\", \"marker\": {\"color\": \"rgb(61,153,112)\"}, \"mode\": \"lines\", \"type\": \"scatter\", \"x\": [0.0, 0.8610827655587392, 0.8610827655587392, 0.7751675678264685], \"xaxis\": \"x\", \"y\": [-335.0, -335.0, -352.5, -352.5], \"yaxis\": \"y\"}, {\"hoverinfo\": \"text\", \"marker\": {\"color\": \"rgb(255,65,54)\"}, \"mode\": \"lines\", \"type\": \"scatter\", \"x\": [0.0, 0.7907156373951173, 0.7907156373951173, 0.0], \"xaxis\": \"x\", \"y\": [-375.0, -375.0, -385.0, -385.0], \"yaxis\": \"y\"}, {\"hoverinfo\": \"text\", \"marker\": {\"color\": \"rgb(35,205,205)\"}, \"mode\": \"lines\", \"type\": \"scatter\", \"x\": [0.0, 0.8008001155380964, 0.8008001155380964, 0.0], \"xaxis\": \"x\", \"y\": [-395.0, -395.0, -405.0, -405.0], \"yaxis\": \"y\"}, {\"hoverinfo\": \"text\", \"marker\": {\"color\": \"rgb(0,116,217)\"}, \"mode\": \"lines\", \"type\": \"scatter\", \"x\": [0.7907156373951173, 1.1384750864110749, 1.1384750864110749, 0.8008001155380964], \"xaxis\": \"x\", \"y\": [-380.0, -380.0, -400.0, -400.0], \"yaxis\": \"y\"}, {\"hoverinfo\": \"text\", \"marker\": {\"color\": \"rgb(0,116,217)\"}, \"mode\": \"lines\", \"type\": \"scatter\", \"x\": [0.8610827655587392, 1.3633639089680696, 1.3633639089680696, 1.1384750864110749], \"xaxis\": \"x\", \"y\": [-343.75, -343.75, -390.0, -390.0], \"yaxis\": \"y\"}, {\"hoverinfo\": \"text\", \"marker\": {\"color\": \"rgb(0,116,217)\"}, \"mode\": \"lines\", \"type\": \"scatter\", \"x\": [0.4887500661982581, 1.463872893212001, 1.463872893212001, 1.3633639089680696], \"xaxis\": \"x\", \"y\": [-320.0, -320.0, -366.875, -366.875], \"yaxis\": \"y\"}, {\"hoverinfo\": \"text\", \"marker\": {\"color\": \"rgb(133,20,75)\"}, \"mode\": \"lines\", \"type\": \"scatter\", \"x\": [0.0, 0.37626607512237886, 0.37626607512237886, 0.0], \"xaxis\": \"x\", \"y\": [-425.0, -425.0, -435.0, -435.0], \"yaxis\": \"y\"}, {\"hoverinfo\": \"text\", \"marker\": {\"color\": \"rgb(133,20,75)\"}, \"mode\": \"lines\", \"type\": \"scatter\", \"x\": [0.0, 0.734279959264978, 0.734279959264978, 0.37626607512237886], \"xaxis\": \"x\", \"y\": [-415.0, -415.0, -430.0, -430.0], \"yaxis\": \"y\"}, {\"hoverinfo\": \"text\", \"marker\": {\"color\": \"rgb(255,220,0)\"}, \"mode\": \"lines\", \"type\": \"scatter\", \"x\": [0.0, 0.8004116907401198, 0.8004116907401198, 0.0], \"xaxis\": \"x\", \"y\": [-455.0, -455.0, -465.0, -465.0], \"yaxis\": \"y\"}, {\"hoverinfo\": \"text\", \"marker\": {\"color\": \"rgb(255,220,0)\"}, \"mode\": \"lines\", \"type\": \"scatter\", \"x\": [0.0, 0.9271777806635232, 0.9271777806635232, 0.8004116907401198], \"xaxis\": \"x\", \"y\": [-445.0, -445.0, -460.0, -460.0], \"yaxis\": \"y\"}, {\"hoverinfo\": \"text\", \"marker\": {\"color\": \"rgb(40,35,35)\"}, \"mode\": \"lines\", \"type\": \"scatter\", \"x\": [0.0, 0.8905986716602329, 0.8905986716602329, 0.0], \"xaxis\": \"x\", \"y\": [-485.0, -485.0, -495.0, -495.0], \"yaxis\": \"y\"}, {\"hoverinfo\": \"text\", \"marker\": {\"color\": \"rgb(0,116,217)\"}, \"mode\": \"lines\", \"type\": \"scatter\", \"x\": [0.0, 1.0370238001055465, 1.0370238001055465, 0.8905986716602329], \"xaxis\": \"x\", \"y\": [-475.0, -475.0, -490.0, -490.0], \"yaxis\": \"y\"}, {\"hoverinfo\": \"text\", \"marker\": {\"color\": \"rgb(0,116,217)\"}, \"mode\": \"lines\", \"type\": \"scatter\", \"x\": [0.9271777806635232, 1.2933348686991235, 1.2933348686991235, 1.0370238001055465], \"xaxis\": \"x\", \"y\": [-452.5, -452.5, -482.5, -482.5], \"yaxis\": \"y\"}, {\"hoverinfo\": \"text\", \"marker\": {\"color\": \"rgb(0,116,217)\"}, \"mode\": \"lines\", \"type\": \"scatter\", \"x\": [0.734279959264978, 1.7960779546242007, 1.7960779546242007, 1.2933348686991235], \"xaxis\": \"x\", \"y\": [-422.5, -422.5, -467.5, -467.5], \"yaxis\": \"y\"}, {\"hoverinfo\": \"text\", \"marker\": {\"color\": \"rgb(0,116,217)\"}, \"mode\": \"lines\", \"type\": \"scatter\", \"x\": [1.463872893212001, 2.901598513272339, 2.901598513272339, 1.7960779546242007], \"xaxis\": \"x\", \"y\": [-343.4375, -343.4375, -445.0, -445.0], \"yaxis\": \"y\"}, {\"hoverinfo\": \"text\", \"marker\": {\"color\": \"rgb(0,116,217)\"}, \"mode\": \"lines\", \"type\": \"scatter\", \"x\": [2.7107451468934087, 2.969530057507697, 2.969530057507697, 2.901598513272339], \"xaxis\": \"x\", \"y\": [-183.28125, -183.28125, -394.21875, -394.21875], \"yaxis\": \"y\"}, {\"hoverinfo\": \"text\", \"marker\": {\"color\": \"rgb(0,116,217)\"}, \"mode\": \"lines\", \"type\": \"scatter\", \"x\": [1.8530686745726093, 4.748404584923832, 4.748404584923832, 2.969530057507697], \"xaxis\": \"x\", \"y\": [-75.0, -75.0, -288.75, -288.75], \"yaxis\": \"y\"}],                        {\"autosize\": false, \"height\": 600, \"hoverlabel\": {\"bgcolor\": \"white\", \"font\": {\"family\": \"Rockwell\", \"size\": 16}}, \"hovermode\": \"closest\", \"plot_bgcolor\": \"#ECEFF1\", \"showlegend\": false, \"template\": {\"data\": {\"bar\": [{\"error_x\": {\"color\": \"#2a3f5f\"}, \"error_y\": {\"color\": \"#2a3f5f\"}, \"marker\": {\"line\": {\"color\": \"white\", \"width\": 0.5}}, \"type\": \"bar\"}], \"barpolar\": [{\"marker\": {\"line\": {\"color\": \"white\", \"width\": 0.5}}, \"type\": \"barpolar\"}], \"carpet\": [{\"aaxis\": {\"endlinecolor\": \"#2a3f5f\", \"gridcolor\": \"#C8D4E3\", \"linecolor\": \"#C8D4E3\", \"minorgridcolor\": \"#C8D4E3\", \"startlinecolor\": \"#2a3f5f\"}, \"baxis\": {\"endlinecolor\": \"#2a3f5f\", \"gridcolor\": \"#C8D4E3\", \"linecolor\": \"#C8D4E3\", \"minorgridcolor\": \"#C8D4E3\", \"startlinecolor\": \"#2a3f5f\"}, \"type\": \"carpet\"}], \"choropleth\": [{\"colorbar\": {\"outlinewidth\": 0, \"ticks\": \"\"}, \"type\": \"choropleth\"}], \"contour\": [{\"colorbar\": {\"outlinewidth\": 0, \"ticks\": \"\"}, \"colorscale\": [[0.0, \"#0d0887\"], [0.1111111111111111, \"#46039f\"], [0.2222222222222222, \"#7201a8\"], [0.3333333333333333, \"#9c179e\"], [0.4444444444444444, \"#bd3786\"], [0.5555555555555556, \"#d8576b\"], [0.6666666666666666, \"#ed7953\"], [0.7777777777777778, \"#fb9f3a\"], [0.8888888888888888, \"#fdca26\"], [1.0, \"#f0f921\"]], \"type\": \"contour\"}], \"contourcarpet\": [{\"colorbar\": {\"outlinewidth\": 0, \"ticks\": \"\"}, \"type\": \"contourcarpet\"}], \"heatmap\": [{\"colorbar\": {\"outlinewidth\": 0, \"ticks\": \"\"}, \"colorscale\": [[0.0, \"#0d0887\"], [0.1111111111111111, \"#46039f\"], [0.2222222222222222, \"#7201a8\"], [0.3333333333333333, \"#9c179e\"], [0.4444444444444444, \"#bd3786\"], [0.5555555555555556, \"#d8576b\"], [0.6666666666666666, \"#ed7953\"], [0.7777777777777778, \"#fb9f3a\"], [0.8888888888888888, \"#fdca26\"], [1.0, \"#f0f921\"]], \"type\": \"heatmap\"}], \"heatmapgl\": [{\"colorbar\": {\"outlinewidth\": 0, \"ticks\": \"\"}, \"colorscale\": [[0.0, \"#0d0887\"], [0.1111111111111111, \"#46039f\"], [0.2222222222222222, \"#7201a8\"], [0.3333333333333333, \"#9c179e\"], [0.4444444444444444, \"#bd3786\"], [0.5555555555555556, \"#d8576b\"], [0.6666666666666666, \"#ed7953\"], [0.7777777777777778, \"#fb9f3a\"], [0.8888888888888888, \"#fdca26\"], [1.0, \"#f0f921\"]], \"type\": \"heatmapgl\"}], \"histogram\": [{\"marker\": {\"colorbar\": {\"outlinewidth\": 0, \"ticks\": \"\"}}, \"type\": \"histogram\"}], \"histogram2d\": [{\"colorbar\": {\"outlinewidth\": 0, \"ticks\": \"\"}, \"colorscale\": [[0.0, \"#0d0887\"], [0.1111111111111111, \"#46039f\"], [0.2222222222222222, \"#7201a8\"], [0.3333333333333333, \"#9c179e\"], [0.4444444444444444, \"#bd3786\"], [0.5555555555555556, \"#d8576b\"], [0.6666666666666666, \"#ed7953\"], [0.7777777777777778, \"#fb9f3a\"], [0.8888888888888888, \"#fdca26\"], [1.0, \"#f0f921\"]], \"type\": \"histogram2d\"}], \"histogram2dcontour\": [{\"colorbar\": {\"outlinewidth\": 0, \"ticks\": \"\"}, \"colorscale\": [[0.0, \"#0d0887\"], [0.1111111111111111, \"#46039f\"], [0.2222222222222222, \"#7201a8\"], [0.3333333333333333, \"#9c179e\"], [0.4444444444444444, \"#bd3786\"], [0.5555555555555556, \"#d8576b\"], [0.6666666666666666, \"#ed7953\"], [0.7777777777777778, \"#fb9f3a\"], [0.8888888888888888, \"#fdca26\"], [1.0, \"#f0f921\"]], \"type\": \"histogram2dcontour\"}], \"mesh3d\": [{\"colorbar\": {\"outlinewidth\": 0, \"ticks\": \"\"}, \"type\": \"mesh3d\"}], \"parcoords\": [{\"line\": {\"colorbar\": {\"outlinewidth\": 0, \"ticks\": \"\"}}, \"type\": \"parcoords\"}], \"pie\": [{\"automargin\": true, \"type\": \"pie\"}], \"scatter\": [{\"marker\": {\"colorbar\": {\"outlinewidth\": 0, \"ticks\": \"\"}}, \"type\": \"scatter\"}], \"scatter3d\": [{\"line\": {\"colorbar\": {\"outlinewidth\": 0, \"ticks\": \"\"}}, \"marker\": {\"colorbar\": {\"outlinewidth\": 0, \"ticks\": \"\"}}, \"type\": \"scatter3d\"}], \"scattercarpet\": [{\"marker\": {\"colorbar\": {\"outlinewidth\": 0, \"ticks\": \"\"}}, \"type\": \"scattercarpet\"}], \"scattergeo\": [{\"marker\": {\"colorbar\": {\"outlinewidth\": 0, \"ticks\": \"\"}}, \"type\": \"scattergeo\"}], \"scattergl\": [{\"marker\": {\"colorbar\": {\"outlinewidth\": 0, \"ticks\": \"\"}}, \"type\": \"scattergl\"}], \"scattermapbox\": [{\"marker\": {\"colorbar\": {\"outlinewidth\": 0, \"ticks\": \"\"}}, \"type\": \"scattermapbox\"}], \"scatterpolar\": [{\"marker\": {\"colorbar\": {\"outlinewidth\": 0, \"ticks\": \"\"}}, \"type\": \"scatterpolar\"}], \"scatterpolargl\": [{\"marker\": {\"colorbar\": {\"outlinewidth\": 0, \"ticks\": \"\"}}, \"type\": \"scatterpolargl\"}], \"scatterternary\": [{\"marker\": {\"colorbar\": {\"outlinewidth\": 0, \"ticks\": \"\"}}, \"type\": \"scatterternary\"}], \"surface\": [{\"colorbar\": {\"outlinewidth\": 0, \"ticks\": \"\"}, \"colorscale\": [[0.0, \"#0d0887\"], [0.1111111111111111, \"#46039f\"], [0.2222222222222222, \"#7201a8\"], [0.3333333333333333, \"#9c179e\"], [0.4444444444444444, \"#bd3786\"], [0.5555555555555556, \"#d8576b\"], [0.6666666666666666, \"#ed7953\"], [0.7777777777777778, \"#fb9f3a\"], [0.8888888888888888, \"#fdca26\"], [1.0, \"#f0f921\"]], \"type\": \"surface\"}], \"table\": [{\"cells\": {\"fill\": {\"color\": \"#EBF0F8\"}, \"line\": {\"color\": \"white\"}}, \"header\": {\"fill\": {\"color\": \"#C8D4E3\"}, \"line\": {\"color\": \"white\"}}, \"type\": \"table\"}]}, \"layout\": {\"annotationdefaults\": {\"arrowcolor\": \"#2a3f5f\", \"arrowhead\": 0, \"arrowwidth\": 1}, \"autotypenumbers\": \"strict\", \"coloraxis\": {\"colorbar\": {\"outlinewidth\": 0, \"ticks\": \"\"}}, \"colorscale\": {\"diverging\": [[0, \"#8e0152\"], [0.1, \"#c51b7d\"], [0.2, \"#de77ae\"], [0.3, \"#f1b6da\"], [0.4, \"#fde0ef\"], [0.5, \"#f7f7f7\"], [0.6, \"#e6f5d0\"], [0.7, \"#b8e186\"], [0.8, \"#7fbc41\"], [0.9, \"#4d9221\"], [1, \"#276419\"]], \"sequential\": [[0.0, \"#0d0887\"], [0.1111111111111111, \"#46039f\"], [0.2222222222222222, \"#7201a8\"], [0.3333333333333333, \"#9c179e\"], [0.4444444444444444, \"#bd3786\"], [0.5555555555555556, \"#d8576b\"], [0.6666666666666666, \"#ed7953\"], [0.7777777777777778, \"#fb9f3a\"], [0.8888888888888888, \"#fdca26\"], [1.0, \"#f0f921\"]], \"sequentialminus\": [[0.0, \"#0d0887\"], [0.1111111111111111, \"#46039f\"], [0.2222222222222222, \"#7201a8\"], [0.3333333333333333, \"#9c179e\"], [0.4444444444444444, \"#bd3786\"], [0.5555555555555556, \"#d8576b\"], [0.6666666666666666, \"#ed7953\"], [0.7777777777777778, \"#fb9f3a\"], [0.8888888888888888, \"#fdca26\"], [1.0, \"#f0f921\"]]}, \"colorway\": [\"#636efa\", \"#EF553B\", \"#00cc96\", \"#ab63fa\", \"#FFA15A\", \"#19d3f3\", \"#FF6692\", \"#B6E880\", \"#FF97FF\", \"#FECB52\"], \"font\": {\"color\": \"#2a3f5f\"}, \"geo\": {\"bgcolor\": \"white\", \"lakecolor\": \"white\", \"landcolor\": \"white\", \"showlakes\": true, \"showland\": true, \"subunitcolor\": \"#C8D4E3\"}, \"hoverlabel\": {\"align\": \"left\"}, \"hovermode\": \"closest\", \"mapbox\": {\"style\": \"light\"}, \"paper_bgcolor\": \"white\", \"plot_bgcolor\": \"white\", \"polar\": {\"angularaxis\": {\"gridcolor\": \"#EBF0F8\", \"linecolor\": \"#EBF0F8\", \"ticks\": \"\"}, \"bgcolor\": \"white\", \"radialaxis\": {\"gridcolor\": \"#EBF0F8\", \"linecolor\": \"#EBF0F8\", \"ticks\": \"\"}}, \"scene\": {\"xaxis\": {\"backgroundcolor\": \"white\", \"gridcolor\": \"#DFE8F3\", \"gridwidth\": 2, \"linecolor\": \"#EBF0F8\", \"showbackground\": true, \"ticks\": \"\", \"zerolinecolor\": \"#EBF0F8\"}, \"yaxis\": {\"backgroundcolor\": \"white\", \"gridcolor\": \"#DFE8F3\", \"gridwidth\": 2, \"linecolor\": \"#EBF0F8\", \"showbackground\": true, \"ticks\": \"\", \"zerolinecolor\": \"#EBF0F8\"}, \"zaxis\": {\"backgroundcolor\": \"white\", \"gridcolor\": \"#DFE8F3\", \"gridwidth\": 2, \"linecolor\": \"#EBF0F8\", \"showbackground\": true, \"ticks\": \"\", \"zerolinecolor\": \"#EBF0F8\"}}, \"shapedefaults\": {\"line\": {\"color\": \"#2a3f5f\"}}, \"ternary\": {\"aaxis\": {\"gridcolor\": \"#DFE8F3\", \"linecolor\": \"#A2B1C6\", \"ticks\": \"\"}, \"baxis\": {\"gridcolor\": \"#DFE8F3\", \"linecolor\": \"#A2B1C6\", \"ticks\": \"\"}, \"bgcolor\": \"white\", \"caxis\": {\"gridcolor\": \"#DFE8F3\", \"linecolor\": \"#A2B1C6\", \"ticks\": \"\"}}, \"title\": {\"x\": 0.05}, \"xaxis\": {\"automargin\": true, \"gridcolor\": \"#EBF0F8\", \"linecolor\": \"#EBF0F8\", \"ticks\": \"\", \"title\": {\"standoff\": 15}, \"zerolinecolor\": \"#EBF0F8\", \"zerolinewidth\": 2}, \"yaxis\": {\"automargin\": true, \"gridcolor\": \"#EBF0F8\", \"linecolor\": \"#EBF0F8\", \"ticks\": \"\", \"title\": {\"standoff\": 15}, \"zerolinecolor\": \"#EBF0F8\", \"zerolinewidth\": 2}}}, \"title\": {\"font\": {\"color\": \"Black\", \"size\": 22}, \"text\": \"<b>Hierarchical Clustering\", \"x\": 0.5, \"xanchor\": \"center\", \"y\": 0.95, \"yanchor\": \"top\"}, \"width\": 1000, \"xaxis\": {\"mirror\": \"allticks\", \"rangemode\": \"tozero\", \"showgrid\": false, \"showline\": true, \"showticklabels\": true, \"ticks\": \"outside\", \"type\": \"linear\", \"zeroline\": false}, \"yaxis\": {\"mirror\": \"allticks\", \"rangemode\": \"tozero\", \"showgrid\": false, \"showline\": true, \"showticklabels\": true, \"tickmode\": \"array\", \"ticks\": \"outside\", \"ticktext\": [\"43_browns_mayor_cobb\", \"5_league_baseball_sox\", \"4_yards_nfl_football\", \"15_nba_game_rebounds\", \"12_won_wimbledon_tennis\", \"7_cup_goals_scored\", \"26_nhl_sakic_hockey\", \"13_wickets_cricket_innings\", \"37_collingwood_geelong_hawt...\", \"6_wrestling_wwf_raw\", \"32_tyson_fight_boxing\", \"21_race_prix_car\", \"38_carson_carsons_navajo\", \"34_library_museum_libraries\", \"-1_album_band_released\", \"11_orchestra_music_symphony\", \"30_conservative_cameron_hide\", \"33_bjp_election_aquino\", \"44_edwards_governor_louisiana\", \"40_brennan_cia_libby\", \"16_republican_bush_democratic\", \"27_roosevelt_kennedy_rockef...\", \"18_marine_army_corps\", \"39_army_custer_sheridan\", \"35_spitzer_attorney_granholm\", \"48_bill_act_dea\", \"17_soviet_wilhelm_bismarck\", \"46_hoffmann_berlin_dresden\", \"23_king_henry_duke\", \"24_villa_cuban_portuguese\", \"31_caesar_rome_caesars\", \"0_he_his_by\", \"10_euronymous_biafra_vikernes\", \"41_award_academy_awards\", \"9_batman_comics_riddler\", \"1_film_show_she\", \"42_dean_deans_annie\", \"25_book_novel_whitman\", \"28_dali_corbusier_macedonski\", \"8_human_social_adler\", \"20_university_college_studies\", \"2_her_she_born\", \"14_her_she_tamil\", \"45_kapoor_mukherjee_mother\", \"29_chinese_yi_china\", \"19_sharif_muhammad_omar\", \"22_dalai_lama_tibetan\", \"36_black_march_marchers\", \"3_indigenous_century_language\", \"47_mbeki_african_zuma\"], \"tickvals\": [-5.0, -15.0, -25.0, -35.0, -45.0, -55.0, -65.0, -75.0, -85.0, -95.0, -105.0, -115.0, -125.0, -135.0, -145.0, -155.0, -165.0, -175.0, -185.0, -195.0, -205.0, -215.0, -225.0, -235.0, -245.0, -255.0, -265.0, -275.0, -285.0, -295.0, -305.0, -315.0, -325.0, -335.0, -345.0, -355.0, -365.0, -375.0, -385.0, -395.0, -405.0, -415.0, -425.0, -435.0, -445.0, -455.0, -465.0, -475.0, -485.0, -495.0], \"type\": \"linear\", \"zeroline\": false}},                        {\"responsive\": true}                    ).then(function(){\n",
              "                            \n",
              "var gd = document.getElementById('e6be0104-755b-4006-81c1-1bfa4bd60f83');\n",
              "var x = new MutationObserver(function (mutations, observer) {{\n",
              "        var display = window.getComputedStyle(gd).display;\n",
              "        if (!display || display === 'none') {{\n",
              "            console.log([gd, 'removed!']);\n",
              "            Plotly.purge(gd);\n",
              "            observer.disconnect();\n",
              "        }}\n",
              "}});\n",
              "\n",
              "// Listen for the removal of the full notebook cells\n",
              "var notebookContainer = gd.closest('#notebook-container');\n",
              "if (notebookContainer) {{\n",
              "    x.observe(notebookContainer, {childList: true});\n",
              "}}\n",
              "\n",
              "// Listen for the clearing of the current output cell\n",
              "var outputEl = gd.closest('.output');\n",
              "if (outputEl) {{\n",
              "    x.observe(outputEl, {childList: true});\n",
              "}}\n",
              "\n",
              "                        })                };                            </script>        </div>\n",
              "</body>\n",
              "</html>"
            ]
          },
          "metadata": {
            "tags": []
          }
        }
      ]
    },
    {
      "cell_type": "code",
      "metadata": {
        "id": "4VJReJNzumhm",
        "colab": {
          "base_uri": "https://localhost:8080/"
        },
        "outputId": "1ea3199a-2e6a-41bb-fb01-4541535413ed"
      },
      "source": [
        "topic_model.get_params()\n"
      ],
      "execution_count": 46,
      "outputs": [
        {
          "output_type": "execute_result",
          "data": {
            "text/plain": [
              "{'calculate_probabilities': True,\n",
              " 'embedding_model': <bertopic.backend._sentencetransformers.SentenceTransformerBackend at 0x7f0fddfa1a50>,\n",
              " 'hdbscan_model': HDBSCAN(algorithm='best', allow_single_cluster=False, alpha=1.0,\n",
              "         approx_min_span_tree=True, cluster_selection_epsilon=0.0,\n",
              "         cluster_selection_method='eom', core_dist_n_jobs=4,\n",
              "         gen_min_span_tree=False, leaf_size=40,\n",
              "         match_reference_implementation=False, memory=Memory(location=None),\n",
              "         metric='euclidean', min_cluster_size=10, min_samples=None, p=None,\n",
              "         prediction_data=True),\n",
              " 'language': 'english',\n",
              " 'low_memory': False,\n",
              " 'min_topic_size': 10,\n",
              " 'n_gram_range': (1, 1),\n",
              " 'nr_topics': None,\n",
              " 'top_n_words': 10,\n",
              " 'umap_model': UMAP(a=None, angular_rp_forest=True, b=None, dens_frac=0.0, dens_lambda=0.0,\n",
              "      dens_var_shift=0.1, densmap=False, disconnection_distance=None,\n",
              "      force_approximation_algorithm=False, init='spectral', learning_rate=1.0,\n",
              "      local_connectivity=1.0, low_memory=False, metric='cosine',\n",
              "      metric_kwds=None, min_dist=0.0, n_components=5, n_epochs=None, n_jobs=-1,\n",
              "      n_neighbors=15, negative_sample_rate=5, output_dens=False,\n",
              "      output_metric='euclidean', output_metric_kwds=None, random_state=None,\n",
              "      repulsion_strength=1.0, set_op_mix_ratio=1.0, spread=1.0,\n",
              "      target_metric='categorical', target_metric_kwds=None, ...),\n",
              " 'vectorizer_model': CountVectorizer(analyzer='word', binary=False, decode_error='strict',\n",
              "                 dtype=<class 'numpy.int64'>, encoding='utf-8', input='content',\n",
              "                 lowercase=True, max_df=1.0, max_features=None, min_df=1,\n",
              "                 ngram_range=(1, 1), preprocessor=None, stop_words=None,\n",
              "                 strip_accents=None, token_pattern='(?u)\\\\b\\\\w\\\\w+\\\\b',\n",
              "                 tokenizer=None, vocabulary=None),\n",
              " 'verbose': False}"
            ]
          },
          "metadata": {
            "tags": []
          },
          "execution_count": 46
        }
      ]
    },
    {
      "cell_type": "code",
      "metadata": {
        "id": "pKEHEXJYuoUa"
      },
      "source": [
        "# topic_model.save(\"./topic_model\")"
      ],
      "execution_count": 47,
      "outputs": []
    },
    {
      "cell_type": "code",
      "metadata": {
        "id": "v3ThDaDwuxf6"
      },
      "source": [
        "def topic_filterizer(question):\n",
        "  if topic_model.find_topics(question)[1][0] >= 0.5:\n",
        "    return True\n",
        "  else:\n",
        "    return False\n",
        "\n",
        "new_train = df[df[\"question\"].apply(topic_filterizer) == True].head()"
      ],
      "execution_count": 48,
      "outputs": []
    },
    {
      "cell_type": "code",
      "metadata": {
        "id": "kQhXD3aGu8vr",
        "colab": {
          "base_uri": "https://localhost:8080/",
          "height": 1000
        },
        "outputId": "e78760c8-d96d-43d7-913c-acb6499ef9ed"
      },
      "source": [
        "df[df[\"question\"].apply(topic_filterizer) == True]"
      ],
      "execution_count": 49,
      "outputs": [
        {
          "output_type": "execute_result",
          "data": {
            "text/html": [
              "<div>\n",
              "<style scoped>\n",
              "    .dataframe tbody tr th:only-of-type {\n",
              "        vertical-align: middle;\n",
              "    }\n",
              "\n",
              "    .dataframe tbody tr th {\n",
              "        vertical-align: top;\n",
              "    }\n",
              "\n",
              "    .dataframe thead th {\n",
              "        text-align: right;\n",
              "    }\n",
              "</style>\n",
              "<table border=\"1\" class=\"dataframe\">\n",
              "  <thead>\n",
              "    <tr style=\"text-align: right;\">\n",
              "      <th></th>\n",
              "      <th>wiki_page</th>\n",
              "      <th>background</th>\n",
              "      <th>section_title</th>\n",
              "      <th>context</th>\n",
              "      <th>question</th>\n",
              "      <th>answer</th>\n",
              "      <th>answerable</th>\n",
              "      <th>context_length</th>\n",
              "      <th>answer_length</th>\n",
              "      <th>question_length</th>\n",
              "      <th>background_length</th>\n",
              "      <th>question_type</th>\n",
              "    </tr>\n",
              "  </thead>\n",
              "  <tbody>\n",
              "    <tr>\n",
              "      <th>7</th>\n",
              "      <td>Malayali</td>\n",
              "      <td>The Malayali people or Keralite people (also s...</td>\n",
              "      <td>Language and literature</td>\n",
              "      <td>Malayalam is the language spoken by the Malaya...</td>\n",
              "      <td>what language do they speak?</td>\n",
              "      <td>Malayalam is the language spoken by the Malaya...</td>\n",
              "      <td>1</td>\n",
              "      <td>2850</td>\n",
              "      <td>50</td>\n",
              "      <td>28</td>\n",
              "      <td>580</td>\n",
              "      <td>what</td>\n",
              "    </tr>\n",
              "    <tr>\n",
              "      <th>9</th>\n",
              "      <td>Malayali</td>\n",
              "      <td>The Malayali people or Keralite people (also s...</td>\n",
              "      <td>Language and literature</td>\n",
              "      <td>Malayalam is the language spoken by the Malaya...</td>\n",
              "      <td>any literary items of interest?</td>\n",
              "      <td>Malayalam literature is ancient in origin. The...</td>\n",
              "      <td>1</td>\n",
              "      <td>2850</td>\n",
              "      <td>119</td>\n",
              "      <td>31</td>\n",
              "      <td>580</td>\n",
              "      <td>none</td>\n",
              "    </tr>\n",
              "    <tr>\n",
              "      <th>10</th>\n",
              "      <td>Malayali</td>\n",
              "      <td>The Malayali people or Keralite people (also s...</td>\n",
              "      <td>Language and literature</td>\n",
              "      <td>Malayalam is the language spoken by the Malaya...</td>\n",
              "      <td>How old is their literature?</td>\n",
              "      <td>The oldest literature works in Malayalam, dist...</td>\n",
              "      <td>1</td>\n",
              "      <td>2850</td>\n",
              "      <td>190</td>\n",
              "      <td>28</td>\n",
              "      <td>580</td>\n",
              "      <td>how</td>\n",
              "    </tr>\n",
              "    <tr>\n",
              "      <th>13</th>\n",
              "      <td>Malayali</td>\n",
              "      <td>The Malayali people or Keralite people (also s...</td>\n",
              "      <td>Language and literature</td>\n",
              "      <td>Malayalam is the language spoken by the Malaya...</td>\n",
              "      <td>any more recent literary works from them?</td>\n",
              "      <td>. In the second half of the 20th century, Jnan...</td>\n",
              "      <td>1</td>\n",
              "      <td>2850</td>\n",
              "      <td>170</td>\n",
              "      <td>41</td>\n",
              "      <td>580</td>\n",
              "      <td>none</td>\n",
              "    </tr>\n",
              "    <tr>\n",
              "      <th>18</th>\n",
              "      <td>Saosin</td>\n",
              "      <td>Saosin is an American post-hardcore band from ...</td>\n",
              "      <td>Arrival of Cove Reber and Saosin EP (2004-2006)</td>\n",
              "      <td>After the audition process and several guest v...</td>\n",
              "      <td>What was a single they released?</td>\n",
              "      <td>\"Bury Your Head\"</td>\n",
              "      <td>1</td>\n",
              "      <td>1737</td>\n",
              "      <td>16</td>\n",
              "      <td>32</td>\n",
              "      <td>435</td>\n",
              "      <td>what</td>\n",
              "    </tr>\n",
              "    <tr>\n",
              "      <th>...</th>\n",
              "      <td>...</td>\n",
              "      <td>...</td>\n",
              "      <td>...</td>\n",
              "      <td>...</td>\n",
              "      <td>...</td>\n",
              "      <td>...</td>\n",
              "      <td>...</td>\n",
              "      <td>...</td>\n",
              "      <td>...</td>\n",
              "      <td>...</td>\n",
              "      <td>...</td>\n",
              "      <td>...</td>\n",
              "    </tr>\n",
              "    <tr>\n",
              "      <th>83553</th>\n",
              "      <td>Affirmed</td>\n",
              "      <td>Affirmed (February 21, 1975 - January 12, 2001...</td>\n",
              "      <td>The Triple Crown</td>\n",
              "      <td>Alydar was made the 6-5 favorite for Kentucky ...</td>\n",
              "      <td>How much did he win the Preakness by</td>\n",
              "      <td>CANNOTANSWER</td>\n",
              "      <td>0</td>\n",
              "      <td>2591</td>\n",
              "      <td>12</td>\n",
              "      <td>36</td>\n",
              "      <td>445</td>\n",
              "      <td>how</td>\n",
              "    </tr>\n",
              "    <tr>\n",
              "      <th>83557</th>\n",
              "      <td>Sonata Arctica</td>\n",
              "      <td>Sonata Arctica is a Finnish power metal band f...</td>\n",
              "      <td>Unia and The Days of Grays (2007-2011)</td>\n",
              "      <td>On May 25, 2007, Unia was released. The album'...</td>\n",
              "      <td>Did the band have any hits during this time?</td>\n",
              "      <td>CANNOTANSWER</td>\n",
              "      <td>0</td>\n",
              "      <td>1665</td>\n",
              "      <td>12</td>\n",
              "      <td>44</td>\n",
              "      <td>521</td>\n",
              "      <td>none</td>\n",
              "    </tr>\n",
              "    <tr>\n",
              "      <th>83558</th>\n",
              "      <td>Sonata Arctica</td>\n",
              "      <td>Sonata Arctica is a Finnish power metal band f...</td>\n",
              "      <td>Unia and The Days of Grays (2007-2011)</td>\n",
              "      <td>On May 25, 2007, Unia was released. The album'...</td>\n",
              "      <td>What albums were released during this time?</td>\n",
              "      <td>The Days of Grays</td>\n",
              "      <td>1</td>\n",
              "      <td>1665</td>\n",
              "      <td>17</td>\n",
              "      <td>43</td>\n",
              "      <td>521</td>\n",
              "      <td>what</td>\n",
              "    </tr>\n",
              "    <tr>\n",
              "      <th>83559</th>\n",
              "      <td>Sonata Arctica</td>\n",
              "      <td>Sonata Arctica is a Finnish power metal band f...</td>\n",
              "      <td>Unia and The Days of Grays (2007-2011)</td>\n",
              "      <td>On May 25, 2007, Unia was released. The album'...</td>\n",
              "      <td>How did the band come together during this time?</td>\n",
              "      <td>CANNOTANSWER</td>\n",
              "      <td>0</td>\n",
              "      <td>1665</td>\n",
              "      <td>12</td>\n",
              "      <td>48</td>\n",
              "      <td>521</td>\n",
              "      <td>how</td>\n",
              "    </tr>\n",
              "    <tr>\n",
              "      <th>83561</th>\n",
              "      <td>Sonata Arctica</td>\n",
              "      <td>Sonata Arctica is a Finnish power metal band f...</td>\n",
              "      <td>Unia and The Days of Grays (2007-2011)</td>\n",
              "      <td>On May 25, 2007, Unia was released. The album'...</td>\n",
              "      <td>How did the band form?</td>\n",
              "      <td>CANNOTANSWER</td>\n",
              "      <td>0</td>\n",
              "      <td>1665</td>\n",
              "      <td>12</td>\n",
              "      <td>22</td>\n",
              "      <td>521</td>\n",
              "      <td>how</td>\n",
              "    </tr>\n",
              "  </tbody>\n",
              "</table>\n",
              "<p>14442 rows × 12 columns</p>\n",
              "</div>"
            ],
            "text/plain": [
              "            wiki_page  ... question_type\n",
              "7            Malayali  ...          what\n",
              "9            Malayali  ...          none\n",
              "10           Malayali  ...           how\n",
              "13           Malayali  ...          none\n",
              "18             Saosin  ...          what\n",
              "...               ...  ...           ...\n",
              "83553        Affirmed  ...           how\n",
              "83557  Sonata Arctica  ...          none\n",
              "83558  Sonata Arctica  ...          what\n",
              "83559  Sonata Arctica  ...           how\n",
              "83561  Sonata Arctica  ...           how\n",
              "\n",
              "[14442 rows x 12 columns]"
            ]
          },
          "metadata": {
            "tags": []
          },
          "execution_count": 49
        }
      ]
    },
    {
      "cell_type": "code",
      "metadata": {
        "id": "9wD87xsUvDHK",
        "colab": {
          "base_uri": "https://localhost:8080/"
        },
        "outputId": "ad0f2c04-077c-40c9-d81d-48fb18e31d12"
      },
      "source": [
        "c = 0\n",
        "for i in range(300):\n",
        "  if topic_model.find_topics(unanswerable.iloc[i,1])[1][0] >= 0.3:\n",
        "    c += 1\n",
        "  else:\n",
        "    # print(i)\n",
        "    pass\n",
        "print(\"Count: \",c)"
      ],
      "execution_count": 77,
      "outputs": [
        {
          "output_type": "stream",
          "text": [
            "Count:  238\n"
          ],
          "name": "stdout"
        }
      ]
    },
    {
      "cell_type": "code",
      "metadata": {
        "colab": {
          "base_uri": "https://localhost:8080/",
          "height": 184
        },
        "id": "b1-HaioLJ-1U",
        "outputId": "74de6ab7-b696-4083-81fe-12abb7a47292"
      },
      "source": [
        "df[:1]"
      ],
      "execution_count": 71,
      "outputs": [
        {
          "output_type": "execute_result",
          "data": {
            "text/html": [
              "<div>\n",
              "<style scoped>\n",
              "    .dataframe tbody tr th:only-of-type {\n",
              "        vertical-align: middle;\n",
              "    }\n",
              "\n",
              "    .dataframe tbody tr th {\n",
              "        vertical-align: top;\n",
              "    }\n",
              "\n",
              "    .dataframe thead th {\n",
              "        text-align: right;\n",
              "    }\n",
              "</style>\n",
              "<table border=\"1\" class=\"dataframe\">\n",
              "  <thead>\n",
              "    <tr style=\"text-align: right;\">\n",
              "      <th></th>\n",
              "      <th>wiki_page</th>\n",
              "      <th>background</th>\n",
              "      <th>section_title</th>\n",
              "      <th>context</th>\n",
              "      <th>question</th>\n",
              "      <th>answer</th>\n",
              "      <th>answerable</th>\n",
              "      <th>context_length</th>\n",
              "      <th>answer_length</th>\n",
              "      <th>question_length</th>\n",
              "      <th>background_length</th>\n",
              "      <th>question_type</th>\n",
              "    </tr>\n",
              "  </thead>\n",
              "  <tbody>\n",
              "    <tr>\n",
              "      <th>0</th>\n",
              "      <td>Malayali</td>\n",
              "      <td>The Malayali people or Keralite people (also s...</td>\n",
              "      <td>Geographic distribution and population</td>\n",
              "      <td>According to the Indian census of 2001, there ...</td>\n",
              "      <td>Where is Malayali located?</td>\n",
              "      <td>30,803,747 speakers of Malayalam in Kerala, ma...</td>\n",
              "      <td>1</td>\n",
              "      <td>2036</td>\n",
              "      <td>111</td>\n",
              "      <td>26</td>\n",
              "      <td>580</td>\n",
              "      <td>where</td>\n",
              "    </tr>\n",
              "  </tbody>\n",
              "</table>\n",
              "</div>"
            ],
            "text/plain": [
              "  wiki_page  ... question_type\n",
              "0  Malayali  ...         where\n",
              "\n",
              "[1 rows x 12 columns]"
            ]
          },
          "metadata": {
            "tags": []
          },
          "execution_count": 71
        }
      ]
    },
    {
      "cell_type": "markdown",
      "metadata": {
        "id": "avNmPAzpvKes"
      },
      "source": [
        "###### Checking if a question returned as not related to any context (since similarity < threshold) is actually an ambiguous question\n"
      ]
    },
    {
      "cell_type": "code",
      "metadata": {
        "id": "lXgOw4oXvE7i",
        "colab": {
          "base_uri": "https://localhost:8080/"
        },
        "outputId": "9b4801cc-0707-4dd3-d4fb-3a6093e6b9f5"
      },
      "source": [
        "# Similarity of the topic most similar to that question\n",
        "topic_model.find_topics(unanswerable.iloc[75,4])"
      ],
      "execution_count": 72,
      "outputs": [
        {
          "output_type": "execute_result",
          "data": {
            "text/plain": [
              "([2, 0, 14, 40, 10],\n",
              " [0.24263160193015332,\n",
              "  0.2301781510090786,\n",
              "  0.22059443495566383,\n",
              "  0.20142562827854793,\n",
              "  0.19609130716271864])"
            ]
          },
          "metadata": {
            "tags": []
          },
          "execution_count": 72
        }
      ]
    },
    {
      "cell_type": "code",
      "metadata": {
        "id": "5ABRBxn_vIB4",
        "colab": {
          "base_uri": "https://localhost:8080/"
        },
        "outputId": "8634b7b6-0455-4457-c6f3-6110384b2826"
      },
      "source": [
        "topic_model.find_topics(unanswerable.iloc[75,3])"
      ],
      "execution_count": 73,
      "outputs": [
        {
          "output_type": "execute_result",
          "data": {
            "text/plain": [
              "([-1, 14, 2, 29, 1],\n",
              " [0.3572418729944331,\n",
              "  0.28334553781725924,\n",
              "  0.2684197858599662,\n",
              "  0.23119011132707695,\n",
              "  0.2171808731583498])"
            ]
          },
          "metadata": {
            "tags": []
          },
          "execution_count": 73
        }
      ]
    },
    {
      "cell_type": "code",
      "metadata": {
        "id": "iWwspyfMvSp3",
        "colab": {
          "base_uri": "https://localhost:8080/"
        },
        "outputId": "e633aa99-07dd-40fd-9622-4223411a7bf1"
      },
      "source": [
        "topic_model.find_topics(unanswerable.iloc[75,2])"
      ],
      "execution_count": 55,
      "outputs": [
        {
          "output_type": "execute_result",
          "data": {
            "text/plain": [
              "([11, -1, 1, 25, 28],\n",
              " [0.8186570462577302,\n",
              "  0.7022437833915317,\n",
              "  0.35531410161464877,\n",
              "  0.3297467048643538,\n",
              "  0.31758427882938395])"
            ]
          },
          "metadata": {
            "tags": []
          },
          "execution_count": 55
        }
      ]
    },
    {
      "cell_type": "code",
      "metadata": {
        "id": "KBxY63WfvTOq",
        "colab": {
          "base_uri": "https://localhost:8080/",
          "height": 35
        },
        "outputId": "23ff7683-823f-4a63-c88c-dbca2586dfbc"
      },
      "source": [
        "# Question under analysis\n",
        "unanswerable.iloc[75,4]"
      ],
      "execution_count": 60,
      "outputs": [
        {
          "output_type": "execute_result",
          "data": {
            "application/vnd.google.colaboratory.intrinsic+json": {
              "type": "string"
            },
            "text/plain": [
              "'How did she react to the exposure?'"
            ]
          },
          "metadata": {
            "tags": []
          },
          "execution_count": 60
        }
      ]
    },
    {
      "cell_type": "code",
      "metadata": {
        "id": "rghNnJVRvWb9",
        "colab": {
          "base_uri": "https://localhost:8080/",
          "height": 35
        },
        "outputId": "0ebcae36-85f1-495a-ceab-2c1c1cdf1a9a"
      },
      "source": [
        "# Answer to that question\n",
        "unanswerable.iloc[75,5]"
      ],
      "execution_count": 70,
      "outputs": [
        {
          "output_type": "execute_result",
          "data": {
            "application/vnd.google.colaboratory.intrinsic+json": {
              "type": "string"
            },
            "text/plain": [
              "'CANNOTANSWER'"
            ]
          },
          "metadata": {
            "tags": []
          },
          "execution_count": 70
        }
      ]
    },
    {
      "cell_type": "markdown",
      "metadata": {
        "id": "nzZqBVI1JUMb"
      },
      "source": [
        "Now, doing it for answerable ques"
      ]
    },
    {
      "cell_type": "code",
      "metadata": {
        "colab": {
          "base_uri": "https://localhost:8080/"
        },
        "id": "3YY4xH3hJjjq",
        "outputId": "5b232cd1-2343-4de8-fa6f-e6a92f974e15"
      },
      "source": [
        "# Similarity of the topic most similar to that question\n",
        "topic_model.find_topics(answerable.iloc[75,4])"
      ],
      "execution_count": 78,
      "outputs": [
        {
          "output_type": "execute_result",
          "data": {
            "text/plain": [
              "([8, 42, 9, 40, 25],\n",
              " [0.1984586620219868,\n",
              "  0.16929418915174965,\n",
              "  0.154056018017335,\n",
              "  0.1145443949911107,\n",
              "  0.10634046953217521])"
            ]
          },
          "metadata": {
            "tags": []
          },
          "execution_count": 78
        }
      ]
    },
    {
      "cell_type": "code",
      "metadata": {
        "colab": {
          "base_uri": "https://localhost:8080/"
        },
        "id": "gxTzRLx1JlFU",
        "outputId": "1ad4cdb1-5b58-423c-a4b9-342769825d12"
      },
      "source": [
        "topic_model.find_topics(answerable.iloc[75,3])"
      ],
      "execution_count": 79,
      "outputs": [
        {
          "output_type": "execute_result",
          "data": {
            "text/plain": [
              "([17, 27, 33, 30, 16],\n",
              " [0.3653578171923991,\n",
              "  0.3075575936834952,\n",
              "  0.30040329630516494,\n",
              "  0.29485664264580047,\n",
              "  0.29301241229570485])"
            ]
          },
          "metadata": {
            "tags": []
          },
          "execution_count": 79
        }
      ]
    },
    {
      "cell_type": "code",
      "metadata": {
        "colab": {
          "base_uri": "https://localhost:8080/"
        },
        "id": "O_Ljg5-aJono",
        "outputId": "c282fc3c-c302-4060-fe96-4a4552bb2329"
      },
      "source": [
        "topic_model.find_topics(answerable.iloc[75,2])"
      ],
      "execution_count": 80,
      "outputs": [
        {
          "output_type": "execute_result",
          "data": {
            "text/plain": [
              "([17, 46, 47, 28, 10],\n",
              " [0.45251557584051294,\n",
              "  0.41684479061537905,\n",
              "  0.3508441268131854,\n",
              "  0.3197616726207725,\n",
              "  0.3164747731142944])"
            ]
          },
          "metadata": {
            "tags": []
          },
          "execution_count": 80
        }
      ]
    },
    {
      "cell_type": "code",
      "metadata": {
        "colab": {
          "base_uri": "https://localhost:8080/",
          "height": 35
        },
        "id": "ZQwY78dVJriF",
        "outputId": "86f018a5-e5ed-4f1d-b0d1-109a26bed7f1"
      },
      "source": [
        "# Question under analysis\n",
        "answerable.iloc[75,4]"
      ],
      "execution_count": 81,
      "outputs": [
        {
          "output_type": "execute_result",
          "data": {
            "application/vnd.google.colaboratory.intrinsic+json": {
              "type": "string"
            },
            "text/plain": [
              "'Is there something else interesting to know?'"
            ]
          },
          "metadata": {
            "tags": []
          },
          "execution_count": 81
        }
      ]
    },
    {
      "cell_type": "code",
      "metadata": {
        "colab": {
          "base_uri": "https://localhost:8080/",
          "height": 35
        },
        "id": "dMvG4zwwJuzu",
        "outputId": "d7eca414-9204-4a2f-9c7b-a79c0ec1cfc2"
      },
      "source": [
        "# Answer to that question\n",
        "answerable.iloc[75,5]"
      ],
      "execution_count": 82,
      "outputs": [
        {
          "output_type": "execute_result",
          "data": {
            "application/vnd.google.colaboratory.intrinsic+json": {
              "type": "string"
            },
            "text/plain": [
              "\"It is notable that in all the declarations of Pinochet's men, nobody has mentioned the creators of the new Chilean society and state,\""
            ]
          },
          "metadata": {
            "tags": []
          },
          "execution_count": 82
        }
      ]
    }
  ]
}