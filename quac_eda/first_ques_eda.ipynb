{
  "nbformat": 4,
  "nbformat_minor": 0,
  "metadata": {
    "colab": {
      "name": "QUAC_eda_plots2.ipynb",
      "provenance": []
    },
    "kernelspec": {
      "display_name": "Python 3",
      "name": "python3"
    },
    "widgets": {
      "application/vnd.jupyter.widget-state+json": {
        "e9dea12f00a74f8bbe94eae974131633": {
          "model_module": "@jupyter-widgets/controls",
          "model_name": "HBoxModel",
          "state": {
            "_view_name": "HBoxView",
            "_dom_classes": [],
            "_model_name": "HBoxModel",
            "_view_module": "@jupyter-widgets/controls",
            "_model_module_version": "1.5.0",
            "_view_count": null,
            "_view_module_version": "1.5.0",
            "box_style": "",
            "layout": "IPY_MODEL_f3a533b6ce9840f0ad1d4886f1e772ba",
            "_model_module": "@jupyter-widgets/controls",
            "children": [
              "IPY_MODEL_6b2c911bcb274695944be6f26df9ce65",
              "IPY_MODEL_37e80ebac2f8449b80510c021a7c5629"
            ]
          }
        },
        "f3a533b6ce9840f0ad1d4886f1e772ba": {
          "model_module": "@jupyter-widgets/base",
          "model_name": "LayoutModel",
          "state": {
            "_view_name": "LayoutView",
            "grid_template_rows": null,
            "right": null,
            "justify_content": null,
            "_view_module": "@jupyter-widgets/base",
            "overflow": null,
            "_model_module_version": "1.2.0",
            "_view_count": null,
            "flex_flow": null,
            "width": null,
            "min_width": null,
            "border": null,
            "align_items": null,
            "bottom": null,
            "_model_module": "@jupyter-widgets/base",
            "top": null,
            "grid_column": null,
            "overflow_y": null,
            "overflow_x": null,
            "grid_auto_flow": null,
            "grid_area": null,
            "grid_template_columns": null,
            "flex": null,
            "_model_name": "LayoutModel",
            "justify_items": null,
            "grid_row": null,
            "max_height": null,
            "align_content": null,
            "visibility": null,
            "align_self": null,
            "height": null,
            "min_height": null,
            "padding": null,
            "grid_auto_rows": null,
            "grid_gap": null,
            "max_width": null,
            "order": null,
            "_view_module_version": "1.2.0",
            "grid_template_areas": null,
            "object_position": null,
            "object_fit": null,
            "grid_auto_columns": null,
            "margin": null,
            "display": null,
            "left": null
          }
        },
        "6b2c911bcb274695944be6f26df9ce65": {
          "model_module": "@jupyter-widgets/controls",
          "model_name": "FloatProgressModel",
          "state": {
            "_view_name": "ProgressView",
            "style": "IPY_MODEL_db4575864627415facaf1231c70f73ef",
            "_dom_classes": [],
            "description": "Downloading: 100%",
            "_model_name": "FloatProgressModel",
            "bar_style": "success",
            "max": 570,
            "_view_module": "@jupyter-widgets/controls",
            "_model_module_version": "1.5.0",
            "value": 570,
            "_view_count": null,
            "_view_module_version": "1.5.0",
            "orientation": "horizontal",
            "min": 0,
            "description_tooltip": null,
            "_model_module": "@jupyter-widgets/controls",
            "layout": "IPY_MODEL_d0cb056805ed460c8f3aa5f91a5525e0"
          }
        },
        "37e80ebac2f8449b80510c021a7c5629": {
          "model_module": "@jupyter-widgets/controls",
          "model_name": "HTMLModel",
          "state": {
            "_view_name": "HTMLView",
            "style": "IPY_MODEL_e4ee7be0b51f452ca2ddcc7e0fa89d27",
            "_dom_classes": [],
            "description": "",
            "_model_name": "HTMLModel",
            "placeholder": "​",
            "_view_module": "@jupyter-widgets/controls",
            "_model_module_version": "1.5.0",
            "value": " 570/570 [00:00&lt;00:00, 2.52kB/s]",
            "_view_count": null,
            "_view_module_version": "1.5.0",
            "description_tooltip": null,
            "_model_module": "@jupyter-widgets/controls",
            "layout": "IPY_MODEL_41e3a2af2dbc4a97a41ec05754e785ab"
          }
        },
        "db4575864627415facaf1231c70f73ef": {
          "model_module": "@jupyter-widgets/controls",
          "model_name": "ProgressStyleModel",
          "state": {
            "_view_name": "StyleView",
            "_model_name": "ProgressStyleModel",
            "description_width": "initial",
            "_view_module": "@jupyter-widgets/base",
            "_model_module_version": "1.5.0",
            "_view_count": null,
            "_view_module_version": "1.2.0",
            "bar_color": null,
            "_model_module": "@jupyter-widgets/controls"
          }
        },
        "d0cb056805ed460c8f3aa5f91a5525e0": {
          "model_module": "@jupyter-widgets/base",
          "model_name": "LayoutModel",
          "state": {
            "_view_name": "LayoutView",
            "grid_template_rows": null,
            "right": null,
            "justify_content": null,
            "_view_module": "@jupyter-widgets/base",
            "overflow": null,
            "_model_module_version": "1.2.0",
            "_view_count": null,
            "flex_flow": null,
            "width": null,
            "min_width": null,
            "border": null,
            "align_items": null,
            "bottom": null,
            "_model_module": "@jupyter-widgets/base",
            "top": null,
            "grid_column": null,
            "overflow_y": null,
            "overflow_x": null,
            "grid_auto_flow": null,
            "grid_area": null,
            "grid_template_columns": null,
            "flex": null,
            "_model_name": "LayoutModel",
            "justify_items": null,
            "grid_row": null,
            "max_height": null,
            "align_content": null,
            "visibility": null,
            "align_self": null,
            "height": null,
            "min_height": null,
            "padding": null,
            "grid_auto_rows": null,
            "grid_gap": null,
            "max_width": null,
            "order": null,
            "_view_module_version": "1.2.0",
            "grid_template_areas": null,
            "object_position": null,
            "object_fit": null,
            "grid_auto_columns": null,
            "margin": null,
            "display": null,
            "left": null
          }
        },
        "e4ee7be0b51f452ca2ddcc7e0fa89d27": {
          "model_module": "@jupyter-widgets/controls",
          "model_name": "DescriptionStyleModel",
          "state": {
            "_view_name": "StyleView",
            "_model_name": "DescriptionStyleModel",
            "description_width": "",
            "_view_module": "@jupyter-widgets/base",
            "_model_module_version": "1.5.0",
            "_view_count": null,
            "_view_module_version": "1.2.0",
            "_model_module": "@jupyter-widgets/controls"
          }
        },
        "41e3a2af2dbc4a97a41ec05754e785ab": {
          "model_module": "@jupyter-widgets/base",
          "model_name": "LayoutModel",
          "state": {
            "_view_name": "LayoutView",
            "grid_template_rows": null,
            "right": null,
            "justify_content": null,
            "_view_module": "@jupyter-widgets/base",
            "overflow": null,
            "_model_module_version": "1.2.0",
            "_view_count": null,
            "flex_flow": null,
            "width": null,
            "min_width": null,
            "border": null,
            "align_items": null,
            "bottom": null,
            "_model_module": "@jupyter-widgets/base",
            "top": null,
            "grid_column": null,
            "overflow_y": null,
            "overflow_x": null,
            "grid_auto_flow": null,
            "grid_area": null,
            "grid_template_columns": null,
            "flex": null,
            "_model_name": "LayoutModel",
            "justify_items": null,
            "grid_row": null,
            "max_height": null,
            "align_content": null,
            "visibility": null,
            "align_self": null,
            "height": null,
            "min_height": null,
            "padding": null,
            "grid_auto_rows": null,
            "grid_gap": null,
            "max_width": null,
            "order": null,
            "_view_module_version": "1.2.0",
            "grid_template_areas": null,
            "object_position": null,
            "object_fit": null,
            "grid_auto_columns": null,
            "margin": null,
            "display": null,
            "left": null
          }
        },
        "ce65aded4a2d4bdd8dfbe35951b74dd9": {
          "model_module": "@jupyter-widgets/controls",
          "model_name": "HBoxModel",
          "state": {
            "_view_name": "HBoxView",
            "_dom_classes": [],
            "_model_name": "HBoxModel",
            "_view_module": "@jupyter-widgets/controls",
            "_model_module_version": "1.5.0",
            "_view_count": null,
            "_view_module_version": "1.5.0",
            "box_style": "",
            "layout": "IPY_MODEL_58a2631a22f845ea91eaba7dc8f565bf",
            "_model_module": "@jupyter-widgets/controls",
            "children": [
              "IPY_MODEL_49414b4d1daa4e63a56c64ec29b388d5",
              "IPY_MODEL_39a3967bde344dee8a9f383bd8b7de83"
            ]
          }
        },
        "58a2631a22f845ea91eaba7dc8f565bf": {
          "model_module": "@jupyter-widgets/base",
          "model_name": "LayoutModel",
          "state": {
            "_view_name": "LayoutView",
            "grid_template_rows": null,
            "right": null,
            "justify_content": null,
            "_view_module": "@jupyter-widgets/base",
            "overflow": null,
            "_model_module_version": "1.2.0",
            "_view_count": null,
            "flex_flow": null,
            "width": null,
            "min_width": null,
            "border": null,
            "align_items": null,
            "bottom": null,
            "_model_module": "@jupyter-widgets/base",
            "top": null,
            "grid_column": null,
            "overflow_y": null,
            "overflow_x": null,
            "grid_auto_flow": null,
            "grid_area": null,
            "grid_template_columns": null,
            "flex": null,
            "_model_name": "LayoutModel",
            "justify_items": null,
            "grid_row": null,
            "max_height": null,
            "align_content": null,
            "visibility": null,
            "align_self": null,
            "height": null,
            "min_height": null,
            "padding": null,
            "grid_auto_rows": null,
            "grid_gap": null,
            "max_width": null,
            "order": null,
            "_view_module_version": "1.2.0",
            "grid_template_areas": null,
            "object_position": null,
            "object_fit": null,
            "grid_auto_columns": null,
            "margin": null,
            "display": null,
            "left": null
          }
        },
        "49414b4d1daa4e63a56c64ec29b388d5": {
          "model_module": "@jupyter-widgets/controls",
          "model_name": "FloatProgressModel",
          "state": {
            "_view_name": "ProgressView",
            "style": "IPY_MODEL_d83540f16eec43aebf4d4766e5fb70f5",
            "_dom_classes": [],
            "description": "Downloading: 100%",
            "_model_name": "FloatProgressModel",
            "bar_style": "success",
            "max": 213450,
            "_view_module": "@jupyter-widgets/controls",
            "_model_module_version": "1.5.0",
            "value": 213450,
            "_view_count": null,
            "_view_module_version": "1.5.0",
            "orientation": "horizontal",
            "min": 0,
            "description_tooltip": null,
            "_model_module": "@jupyter-widgets/controls",
            "layout": "IPY_MODEL_3229a1c272764c1799b70803348cf499"
          }
        },
        "39a3967bde344dee8a9f383bd8b7de83": {
          "model_module": "@jupyter-widgets/controls",
          "model_name": "HTMLModel",
          "state": {
            "_view_name": "HTMLView",
            "style": "IPY_MODEL_628a13cf83de46babd1492f4afa87d0f",
            "_dom_classes": [],
            "description": "",
            "_model_name": "HTMLModel",
            "placeholder": "​",
            "_view_module": "@jupyter-widgets/controls",
            "_model_module_version": "1.5.0",
            "value": " 213k/213k [00:00&lt;00:00, 2.33MB/s]",
            "_view_count": null,
            "_view_module_version": "1.5.0",
            "description_tooltip": null,
            "_model_module": "@jupyter-widgets/controls",
            "layout": "IPY_MODEL_3b96386853664880bcb2634e532af260"
          }
        },
        "d83540f16eec43aebf4d4766e5fb70f5": {
          "model_module": "@jupyter-widgets/controls",
          "model_name": "ProgressStyleModel",
          "state": {
            "_view_name": "StyleView",
            "_model_name": "ProgressStyleModel",
            "description_width": "initial",
            "_view_module": "@jupyter-widgets/base",
            "_model_module_version": "1.5.0",
            "_view_count": null,
            "_view_module_version": "1.2.0",
            "bar_color": null,
            "_model_module": "@jupyter-widgets/controls"
          }
        },
        "3229a1c272764c1799b70803348cf499": {
          "model_module": "@jupyter-widgets/base",
          "model_name": "LayoutModel",
          "state": {
            "_view_name": "LayoutView",
            "grid_template_rows": null,
            "right": null,
            "justify_content": null,
            "_view_module": "@jupyter-widgets/base",
            "overflow": null,
            "_model_module_version": "1.2.0",
            "_view_count": null,
            "flex_flow": null,
            "width": null,
            "min_width": null,
            "border": null,
            "align_items": null,
            "bottom": null,
            "_model_module": "@jupyter-widgets/base",
            "top": null,
            "grid_column": null,
            "overflow_y": null,
            "overflow_x": null,
            "grid_auto_flow": null,
            "grid_area": null,
            "grid_template_columns": null,
            "flex": null,
            "_model_name": "LayoutModel",
            "justify_items": null,
            "grid_row": null,
            "max_height": null,
            "align_content": null,
            "visibility": null,
            "align_self": null,
            "height": null,
            "min_height": null,
            "padding": null,
            "grid_auto_rows": null,
            "grid_gap": null,
            "max_width": null,
            "order": null,
            "_view_module_version": "1.2.0",
            "grid_template_areas": null,
            "object_position": null,
            "object_fit": null,
            "grid_auto_columns": null,
            "margin": null,
            "display": null,
            "left": null
          }
        },
        "628a13cf83de46babd1492f4afa87d0f": {
          "model_module": "@jupyter-widgets/controls",
          "model_name": "DescriptionStyleModel",
          "state": {
            "_view_name": "StyleView",
            "_model_name": "DescriptionStyleModel",
            "description_width": "",
            "_view_module": "@jupyter-widgets/base",
            "_model_module_version": "1.5.0",
            "_view_count": null,
            "_view_module_version": "1.2.0",
            "_model_module": "@jupyter-widgets/controls"
          }
        },
        "3b96386853664880bcb2634e532af260": {
          "model_module": "@jupyter-widgets/base",
          "model_name": "LayoutModel",
          "state": {
            "_view_name": "LayoutView",
            "grid_template_rows": null,
            "right": null,
            "justify_content": null,
            "_view_module": "@jupyter-widgets/base",
            "overflow": null,
            "_model_module_version": "1.2.0",
            "_view_count": null,
            "flex_flow": null,
            "width": null,
            "min_width": null,
            "border": null,
            "align_items": null,
            "bottom": null,
            "_model_module": "@jupyter-widgets/base",
            "top": null,
            "grid_column": null,
            "overflow_y": null,
            "overflow_x": null,
            "grid_auto_flow": null,
            "grid_area": null,
            "grid_template_columns": null,
            "flex": null,
            "_model_name": "LayoutModel",
            "justify_items": null,
            "grid_row": null,
            "max_height": null,
            "align_content": null,
            "visibility": null,
            "align_self": null,
            "height": null,
            "min_height": null,
            "padding": null,
            "grid_auto_rows": null,
            "grid_gap": null,
            "max_width": null,
            "order": null,
            "_view_module_version": "1.2.0",
            "grid_template_areas": null,
            "object_position": null,
            "object_fit": null,
            "grid_auto_columns": null,
            "margin": null,
            "display": null,
            "left": null
          }
        },
        "14f7caf8aebd487180862c97deea5572": {
          "model_module": "@jupyter-widgets/controls",
          "model_name": "HBoxModel",
          "state": {
            "_view_name": "HBoxView",
            "_dom_classes": [],
            "_model_name": "HBoxModel",
            "_view_module": "@jupyter-widgets/controls",
            "_model_module_version": "1.5.0",
            "_view_count": null,
            "_view_module_version": "1.5.0",
            "box_style": "",
            "layout": "IPY_MODEL_a3cf635e12854e9db8ae2c0d5a21071b",
            "_model_module": "@jupyter-widgets/controls",
            "children": [
              "IPY_MODEL_ea6d8e7d0f8942dd8e9ebbb10e625f0a",
              "IPY_MODEL_75a6aa03295c4eb8997689859c6227cb"
            ]
          }
        },
        "a3cf635e12854e9db8ae2c0d5a21071b": {
          "model_module": "@jupyter-widgets/base",
          "model_name": "LayoutModel",
          "state": {
            "_view_name": "LayoutView",
            "grid_template_rows": null,
            "right": null,
            "justify_content": null,
            "_view_module": "@jupyter-widgets/base",
            "overflow": null,
            "_model_module_version": "1.2.0",
            "_view_count": null,
            "flex_flow": null,
            "width": null,
            "min_width": null,
            "border": null,
            "align_items": null,
            "bottom": null,
            "_model_module": "@jupyter-widgets/base",
            "top": null,
            "grid_column": null,
            "overflow_y": null,
            "overflow_x": null,
            "grid_auto_flow": null,
            "grid_area": null,
            "grid_template_columns": null,
            "flex": null,
            "_model_name": "LayoutModel",
            "justify_items": null,
            "grid_row": null,
            "max_height": null,
            "align_content": null,
            "visibility": null,
            "align_self": null,
            "height": null,
            "min_height": null,
            "padding": null,
            "grid_auto_rows": null,
            "grid_gap": null,
            "max_width": null,
            "order": null,
            "_view_module_version": "1.2.0",
            "grid_template_areas": null,
            "object_position": null,
            "object_fit": null,
            "grid_auto_columns": null,
            "margin": null,
            "display": null,
            "left": null
          }
        },
        "ea6d8e7d0f8942dd8e9ebbb10e625f0a": {
          "model_module": "@jupyter-widgets/controls",
          "model_name": "FloatProgressModel",
          "state": {
            "_view_name": "ProgressView",
            "style": "IPY_MODEL_3b24a30ec463411ab027f9c416441658",
            "_dom_classes": [],
            "description": "Downloading: 100%",
            "_model_name": "FloatProgressModel",
            "bar_style": "success",
            "max": 435779157,
            "_view_module": "@jupyter-widgets/controls",
            "_model_module_version": "1.5.0",
            "value": 435779157,
            "_view_count": null,
            "_view_module_version": "1.5.0",
            "orientation": "horizontal",
            "min": 0,
            "description_tooltip": null,
            "_model_module": "@jupyter-widgets/controls",
            "layout": "IPY_MODEL_7b2d63ab0708495993449f8b10401d7a"
          }
        },
        "75a6aa03295c4eb8997689859c6227cb": {
          "model_module": "@jupyter-widgets/controls",
          "model_name": "HTMLModel",
          "state": {
            "_view_name": "HTMLView",
            "style": "IPY_MODEL_6708d9984625488495310f9941e593f7",
            "_dom_classes": [],
            "description": "",
            "_model_name": "HTMLModel",
            "placeholder": "​",
            "_view_module": "@jupyter-widgets/controls",
            "_model_module_version": "1.5.0",
            "value": " 436M/436M [00:17&lt;00:00, 25.5MB/s]",
            "_view_count": null,
            "_view_module_version": "1.5.0",
            "description_tooltip": null,
            "_model_module": "@jupyter-widgets/controls",
            "layout": "IPY_MODEL_9a5efadc553f42898c5af66cec17304f"
          }
        },
        "3b24a30ec463411ab027f9c416441658": {
          "model_module": "@jupyter-widgets/controls",
          "model_name": "ProgressStyleModel",
          "state": {
            "_view_name": "StyleView",
            "_model_name": "ProgressStyleModel",
            "description_width": "initial",
            "_view_module": "@jupyter-widgets/base",
            "_model_module_version": "1.5.0",
            "_view_count": null,
            "_view_module_version": "1.2.0",
            "bar_color": null,
            "_model_module": "@jupyter-widgets/controls"
          }
        },
        "7b2d63ab0708495993449f8b10401d7a": {
          "model_module": "@jupyter-widgets/base",
          "model_name": "LayoutModel",
          "state": {
            "_view_name": "LayoutView",
            "grid_template_rows": null,
            "right": null,
            "justify_content": null,
            "_view_module": "@jupyter-widgets/base",
            "overflow": null,
            "_model_module_version": "1.2.0",
            "_view_count": null,
            "flex_flow": null,
            "width": null,
            "min_width": null,
            "border": null,
            "align_items": null,
            "bottom": null,
            "_model_module": "@jupyter-widgets/base",
            "top": null,
            "grid_column": null,
            "overflow_y": null,
            "overflow_x": null,
            "grid_auto_flow": null,
            "grid_area": null,
            "grid_template_columns": null,
            "flex": null,
            "_model_name": "LayoutModel",
            "justify_items": null,
            "grid_row": null,
            "max_height": null,
            "align_content": null,
            "visibility": null,
            "align_self": null,
            "height": null,
            "min_height": null,
            "padding": null,
            "grid_auto_rows": null,
            "grid_gap": null,
            "max_width": null,
            "order": null,
            "_view_module_version": "1.2.0",
            "grid_template_areas": null,
            "object_position": null,
            "object_fit": null,
            "grid_auto_columns": null,
            "margin": null,
            "display": null,
            "left": null
          }
        },
        "6708d9984625488495310f9941e593f7": {
          "model_module": "@jupyter-widgets/controls",
          "model_name": "DescriptionStyleModel",
          "state": {
            "_view_name": "StyleView",
            "_model_name": "DescriptionStyleModel",
            "description_width": "",
            "_view_module": "@jupyter-widgets/base",
            "_model_module_version": "1.5.0",
            "_view_count": null,
            "_view_module_version": "1.2.0",
            "_model_module": "@jupyter-widgets/controls"
          }
        },
        "9a5efadc553f42898c5af66cec17304f": {
          "model_module": "@jupyter-widgets/base",
          "model_name": "LayoutModel",
          "state": {
            "_view_name": "LayoutView",
            "grid_template_rows": null,
            "right": null,
            "justify_content": null,
            "_view_module": "@jupyter-widgets/base",
            "overflow": null,
            "_model_module_version": "1.2.0",
            "_view_count": null,
            "flex_flow": null,
            "width": null,
            "min_width": null,
            "border": null,
            "align_items": null,
            "bottom": null,
            "_model_module": "@jupyter-widgets/base",
            "top": null,
            "grid_column": null,
            "overflow_y": null,
            "overflow_x": null,
            "grid_auto_flow": null,
            "grid_area": null,
            "grid_template_columns": null,
            "flex": null,
            "_model_name": "LayoutModel",
            "justify_items": null,
            "grid_row": null,
            "max_height": null,
            "align_content": null,
            "visibility": null,
            "align_self": null,
            "height": null,
            "min_height": null,
            "padding": null,
            "grid_auto_rows": null,
            "grid_gap": null,
            "max_width": null,
            "order": null,
            "_view_module_version": "1.2.0",
            "grid_template_areas": null,
            "object_position": null,
            "object_fit": null,
            "grid_auto_columns": null,
            "margin": null,
            "display": null,
            "left": null
          }
        },
        "b55079bc74434e508604c9e88fba605d": {
          "model_module": "@jupyter-widgets/controls",
          "model_name": "HBoxModel",
          "state": {
            "_view_name": "HBoxView",
            "_dom_classes": [],
            "_model_name": "HBoxModel",
            "_view_module": "@jupyter-widgets/controls",
            "_model_module_version": "1.5.0",
            "_view_count": null,
            "_view_module_version": "1.5.0",
            "box_style": "",
            "layout": "IPY_MODEL_c42838937eb34da79f0e39e2b1a2cb36",
            "_model_module": "@jupyter-widgets/controls",
            "children": [
              "IPY_MODEL_50922a134e8c4f92b77fe68df28f4407",
              "IPY_MODEL_980005271b1a464ab7522812df9d0773"
            ]
          }
        },
        "c42838937eb34da79f0e39e2b1a2cb36": {
          "model_module": "@jupyter-widgets/base",
          "model_name": "LayoutModel",
          "state": {
            "_view_name": "LayoutView",
            "grid_template_rows": null,
            "right": null,
            "justify_content": null,
            "_view_module": "@jupyter-widgets/base",
            "overflow": null,
            "_model_module_version": "1.2.0",
            "_view_count": null,
            "flex_flow": null,
            "width": null,
            "min_width": null,
            "border": null,
            "align_items": null,
            "bottom": null,
            "_model_module": "@jupyter-widgets/base",
            "top": null,
            "grid_column": null,
            "overflow_y": null,
            "overflow_x": null,
            "grid_auto_flow": null,
            "grid_area": null,
            "grid_template_columns": null,
            "flex": null,
            "_model_name": "LayoutModel",
            "justify_items": null,
            "grid_row": null,
            "max_height": null,
            "align_content": null,
            "visibility": null,
            "align_self": null,
            "height": null,
            "min_height": null,
            "padding": null,
            "grid_auto_rows": null,
            "grid_gap": null,
            "max_width": null,
            "order": null,
            "_view_module_version": "1.2.0",
            "grid_template_areas": null,
            "object_position": null,
            "object_fit": null,
            "grid_auto_columns": null,
            "margin": null,
            "display": null,
            "left": null
          }
        },
        "50922a134e8c4f92b77fe68df28f4407": {
          "model_module": "@jupyter-widgets/controls",
          "model_name": "FloatProgressModel",
          "state": {
            "_view_name": "ProgressView",
            "style": "IPY_MODEL_0279ea911bec48ea9aa8ea582a719551",
            "_dom_classes": [],
            "description": "Downloading: 100%",
            "_model_name": "FloatProgressModel",
            "bar_style": "success",
            "max": 690,
            "_view_module": "@jupyter-widgets/controls",
            "_model_module_version": "1.5.0",
            "value": 690,
            "_view_count": null,
            "_view_module_version": "1.5.0",
            "orientation": "horizontal",
            "min": 0,
            "description_tooltip": null,
            "_model_module": "@jupyter-widgets/controls",
            "layout": "IPY_MODEL_709cde4264344f939705cbfcd80ecd34"
          }
        },
        "980005271b1a464ab7522812df9d0773": {
          "model_module": "@jupyter-widgets/controls",
          "model_name": "HTMLModel",
          "state": {
            "_view_name": "HTMLView",
            "style": "IPY_MODEL_1578ec55498f447f82fe4ab550490bbb",
            "_dom_classes": [],
            "description": "",
            "_model_name": "HTMLModel",
            "placeholder": "​",
            "_view_module": "@jupyter-widgets/controls",
            "_model_module_version": "1.5.0",
            "value": " 690/690 [00:00&lt;00:00, 4.51kB/s]",
            "_view_count": null,
            "_view_module_version": "1.5.0",
            "description_tooltip": null,
            "_model_module": "@jupyter-widgets/controls",
            "layout": "IPY_MODEL_25259c1b21b14d06b242eb72c5b22848"
          }
        },
        "0279ea911bec48ea9aa8ea582a719551": {
          "model_module": "@jupyter-widgets/controls",
          "model_name": "ProgressStyleModel",
          "state": {
            "_view_name": "StyleView",
            "_model_name": "ProgressStyleModel",
            "description_width": "initial",
            "_view_module": "@jupyter-widgets/base",
            "_model_module_version": "1.5.0",
            "_view_count": null,
            "_view_module_version": "1.2.0",
            "bar_color": null,
            "_model_module": "@jupyter-widgets/controls"
          }
        },
        "709cde4264344f939705cbfcd80ecd34": {
          "model_module": "@jupyter-widgets/base",
          "model_name": "LayoutModel",
          "state": {
            "_view_name": "LayoutView",
            "grid_template_rows": null,
            "right": null,
            "justify_content": null,
            "_view_module": "@jupyter-widgets/base",
            "overflow": null,
            "_model_module_version": "1.2.0",
            "_view_count": null,
            "flex_flow": null,
            "width": null,
            "min_width": null,
            "border": null,
            "align_items": null,
            "bottom": null,
            "_model_module": "@jupyter-widgets/base",
            "top": null,
            "grid_column": null,
            "overflow_y": null,
            "overflow_x": null,
            "grid_auto_flow": null,
            "grid_area": null,
            "grid_template_columns": null,
            "flex": null,
            "_model_name": "LayoutModel",
            "justify_items": null,
            "grid_row": null,
            "max_height": null,
            "align_content": null,
            "visibility": null,
            "align_self": null,
            "height": null,
            "min_height": null,
            "padding": null,
            "grid_auto_rows": null,
            "grid_gap": null,
            "max_width": null,
            "order": null,
            "_view_module_version": "1.2.0",
            "grid_template_areas": null,
            "object_position": null,
            "object_fit": null,
            "grid_auto_columns": null,
            "margin": null,
            "display": null,
            "left": null
          }
        },
        "1578ec55498f447f82fe4ab550490bbb": {
          "model_module": "@jupyter-widgets/controls",
          "model_name": "DescriptionStyleModel",
          "state": {
            "_view_name": "StyleView",
            "_model_name": "DescriptionStyleModel",
            "description_width": "",
            "_view_module": "@jupyter-widgets/base",
            "_model_module_version": "1.5.0",
            "_view_count": null,
            "_view_module_version": "1.2.0",
            "_model_module": "@jupyter-widgets/controls"
          }
        },
        "25259c1b21b14d06b242eb72c5b22848": {
          "model_module": "@jupyter-widgets/base",
          "model_name": "LayoutModel",
          "state": {
            "_view_name": "LayoutView",
            "grid_template_rows": null,
            "right": null,
            "justify_content": null,
            "_view_module": "@jupyter-widgets/base",
            "overflow": null,
            "_model_module_version": "1.2.0",
            "_view_count": null,
            "flex_flow": null,
            "width": null,
            "min_width": null,
            "border": null,
            "align_items": null,
            "bottom": null,
            "_model_module": "@jupyter-widgets/base",
            "top": null,
            "grid_column": null,
            "overflow_y": null,
            "overflow_x": null,
            "grid_auto_flow": null,
            "grid_area": null,
            "grid_template_columns": null,
            "flex": null,
            "_model_name": "LayoutModel",
            "justify_items": null,
            "grid_row": null,
            "max_height": null,
            "align_content": null,
            "visibility": null,
            "align_self": null,
            "height": null,
            "min_height": null,
            "padding": null,
            "grid_auto_rows": null,
            "grid_gap": null,
            "max_width": null,
            "order": null,
            "_view_module_version": "1.2.0",
            "grid_template_areas": null,
            "object_position": null,
            "object_fit": null,
            "grid_auto_columns": null,
            "margin": null,
            "display": null,
            "left": null
          }
        },
        "8c7f4931409d4c5c811b4004e0cfbf74": {
          "model_module": "@jupyter-widgets/controls",
          "model_name": "HBoxModel",
          "state": {
            "_view_name": "HBoxView",
            "_dom_classes": [],
            "_model_name": "HBoxModel",
            "_view_module": "@jupyter-widgets/controls",
            "_model_module_version": "1.5.0",
            "_view_count": null,
            "_view_module_version": "1.5.0",
            "box_style": "",
            "layout": "IPY_MODEL_19db10bede1e4441972035c450406651",
            "_model_module": "@jupyter-widgets/controls",
            "children": [
              "IPY_MODEL_7735fa511540475d922273bc3b71ff82",
              "IPY_MODEL_79ae87c0cfe748b3ae1da733536a2616"
            ]
          }
        },
        "19db10bede1e4441972035c450406651": {
          "model_module": "@jupyter-widgets/base",
          "model_name": "LayoutModel",
          "state": {
            "_view_name": "LayoutView",
            "grid_template_rows": null,
            "right": null,
            "justify_content": null,
            "_view_module": "@jupyter-widgets/base",
            "overflow": null,
            "_model_module_version": "1.2.0",
            "_view_count": null,
            "flex_flow": null,
            "width": null,
            "min_width": null,
            "border": null,
            "align_items": null,
            "bottom": null,
            "_model_module": "@jupyter-widgets/base",
            "top": null,
            "grid_column": null,
            "overflow_y": null,
            "overflow_x": null,
            "grid_auto_flow": null,
            "grid_area": null,
            "grid_template_columns": null,
            "flex": null,
            "_model_name": "LayoutModel",
            "justify_items": null,
            "grid_row": null,
            "max_height": null,
            "align_content": null,
            "visibility": null,
            "align_self": null,
            "height": null,
            "min_height": null,
            "padding": null,
            "grid_auto_rows": null,
            "grid_gap": null,
            "max_width": null,
            "order": null,
            "_view_module_version": "1.2.0",
            "grid_template_areas": null,
            "object_position": null,
            "object_fit": null,
            "grid_auto_columns": null,
            "margin": null,
            "display": null,
            "left": null
          }
        },
        "7735fa511540475d922273bc3b71ff82": {
          "model_module": "@jupyter-widgets/controls",
          "model_name": "FloatProgressModel",
          "state": {
            "_view_name": "ProgressView",
            "style": "IPY_MODEL_ef4b908caa3b4e02867683d2ad825de1",
            "_dom_classes": [],
            "description": "Downloading: 100%",
            "_model_name": "FloatProgressModel",
            "bar_style": "success",
            "max": 3673,
            "_view_module": "@jupyter-widgets/controls",
            "_model_module_version": "1.5.0",
            "value": 3673,
            "_view_count": null,
            "_view_module_version": "1.5.0",
            "orientation": "horizontal",
            "min": 0,
            "description_tooltip": null,
            "_model_module": "@jupyter-widgets/controls",
            "layout": "IPY_MODEL_f251c5d01ff34a1282b7f3b4784ae4cc"
          }
        },
        "79ae87c0cfe748b3ae1da733536a2616": {
          "model_module": "@jupyter-widgets/controls",
          "model_name": "HTMLModel",
          "state": {
            "_view_name": "HTMLView",
            "style": "IPY_MODEL_d64c844155e6494a92cf0538c266231d",
            "_dom_classes": [],
            "description": "",
            "_model_name": "HTMLModel",
            "placeholder": "​",
            "_view_module": "@jupyter-widgets/controls",
            "_model_module_version": "1.5.0",
            "value": " 3.67k/3.67k [08:46&lt;00:00, 6.98B/s]",
            "_view_count": null,
            "_view_module_version": "1.5.0",
            "description_tooltip": null,
            "_model_module": "@jupyter-widgets/controls",
            "layout": "IPY_MODEL_915fd13447264b12ae209c512e2a0404"
          }
        },
        "ef4b908caa3b4e02867683d2ad825de1": {
          "model_module": "@jupyter-widgets/controls",
          "model_name": "ProgressStyleModel",
          "state": {
            "_view_name": "StyleView",
            "_model_name": "ProgressStyleModel",
            "description_width": "initial",
            "_view_module": "@jupyter-widgets/base",
            "_model_module_version": "1.5.0",
            "_view_count": null,
            "_view_module_version": "1.2.0",
            "bar_color": null,
            "_model_module": "@jupyter-widgets/controls"
          }
        },
        "f251c5d01ff34a1282b7f3b4784ae4cc": {
          "model_module": "@jupyter-widgets/base",
          "model_name": "LayoutModel",
          "state": {
            "_view_name": "LayoutView",
            "grid_template_rows": null,
            "right": null,
            "justify_content": null,
            "_view_module": "@jupyter-widgets/base",
            "overflow": null,
            "_model_module_version": "1.2.0",
            "_view_count": null,
            "flex_flow": null,
            "width": null,
            "min_width": null,
            "border": null,
            "align_items": null,
            "bottom": null,
            "_model_module": "@jupyter-widgets/base",
            "top": null,
            "grid_column": null,
            "overflow_y": null,
            "overflow_x": null,
            "grid_auto_flow": null,
            "grid_area": null,
            "grid_template_columns": null,
            "flex": null,
            "_model_name": "LayoutModel",
            "justify_items": null,
            "grid_row": null,
            "max_height": null,
            "align_content": null,
            "visibility": null,
            "align_self": null,
            "height": null,
            "min_height": null,
            "padding": null,
            "grid_auto_rows": null,
            "grid_gap": null,
            "max_width": null,
            "order": null,
            "_view_module_version": "1.2.0",
            "grid_template_areas": null,
            "object_position": null,
            "object_fit": null,
            "grid_auto_columns": null,
            "margin": null,
            "display": null,
            "left": null
          }
        },
        "d64c844155e6494a92cf0538c266231d": {
          "model_module": "@jupyter-widgets/controls",
          "model_name": "DescriptionStyleModel",
          "state": {
            "_view_name": "StyleView",
            "_model_name": "DescriptionStyleModel",
            "description_width": "",
            "_view_module": "@jupyter-widgets/base",
            "_model_module_version": "1.5.0",
            "_view_count": null,
            "_view_module_version": "1.2.0",
            "_model_module": "@jupyter-widgets/controls"
          }
        },
        "915fd13447264b12ae209c512e2a0404": {
          "model_module": "@jupyter-widgets/base",
          "model_name": "LayoutModel",
          "state": {
            "_view_name": "LayoutView",
            "grid_template_rows": null,
            "right": null,
            "justify_content": null,
            "_view_module": "@jupyter-widgets/base",
            "overflow": null,
            "_model_module_version": "1.2.0",
            "_view_count": null,
            "flex_flow": null,
            "width": null,
            "min_width": null,
            "border": null,
            "align_items": null,
            "bottom": null,
            "_model_module": "@jupyter-widgets/base",
            "top": null,
            "grid_column": null,
            "overflow_y": null,
            "overflow_x": null,
            "grid_auto_flow": null,
            "grid_area": null,
            "grid_template_columns": null,
            "flex": null,
            "_model_name": "LayoutModel",
            "justify_items": null,
            "grid_row": null,
            "max_height": null,
            "align_content": null,
            "visibility": null,
            "align_self": null,
            "height": null,
            "min_height": null,
            "padding": null,
            "grid_auto_rows": null,
            "grid_gap": null,
            "max_width": null,
            "order": null,
            "_view_module_version": "1.2.0",
            "grid_template_areas": null,
            "object_position": null,
            "object_fit": null,
            "grid_auto_columns": null,
            "margin": null,
            "display": null,
            "left": null
          }
        },
        "fd3252ecae6a48eb83ad8a21ccbc5097": {
          "model_module": "@jupyter-widgets/controls",
          "model_name": "HBoxModel",
          "state": {
            "_view_name": "HBoxView",
            "_dom_classes": [],
            "_model_name": "HBoxModel",
            "_view_module": "@jupyter-widgets/controls",
            "_model_module_version": "1.5.0",
            "_view_count": null,
            "_view_module_version": "1.5.0",
            "box_style": "",
            "layout": "IPY_MODEL_8282b44c52df4ced9a800b430d3c5c58",
            "_model_module": "@jupyter-widgets/controls",
            "children": [
              "IPY_MODEL_0ed4457f443b4871b1cf2960b721e693",
              "IPY_MODEL_4442b0056e5c49fe92a7a38c0a97cede"
            ]
          }
        },
        "8282b44c52df4ced9a800b430d3c5c58": {
          "model_module": "@jupyter-widgets/base",
          "model_name": "LayoutModel",
          "state": {
            "_view_name": "LayoutView",
            "grid_template_rows": null,
            "right": null,
            "justify_content": null,
            "_view_module": "@jupyter-widgets/base",
            "overflow": null,
            "_model_module_version": "1.2.0",
            "_view_count": null,
            "flex_flow": null,
            "width": null,
            "min_width": null,
            "border": null,
            "align_items": null,
            "bottom": null,
            "_model_module": "@jupyter-widgets/base",
            "top": null,
            "grid_column": null,
            "overflow_y": null,
            "overflow_x": null,
            "grid_auto_flow": null,
            "grid_area": null,
            "grid_template_columns": null,
            "flex": null,
            "_model_name": "LayoutModel",
            "justify_items": null,
            "grid_row": null,
            "max_height": null,
            "align_content": null,
            "visibility": null,
            "align_self": null,
            "height": null,
            "min_height": null,
            "padding": null,
            "grid_auto_rows": null,
            "grid_gap": null,
            "max_width": null,
            "order": null,
            "_view_module_version": "1.2.0",
            "grid_template_areas": null,
            "object_position": null,
            "object_fit": null,
            "grid_auto_columns": null,
            "margin": null,
            "display": null,
            "left": null
          }
        },
        "0ed4457f443b4871b1cf2960b721e693": {
          "model_module": "@jupyter-widgets/controls",
          "model_name": "FloatProgressModel",
          "state": {
            "_view_name": "ProgressView",
            "style": "IPY_MODEL_8a890dcab7e34e33bc7bb7f140e06fe7",
            "_dom_classes": [],
            "description": "Downloading: 100%",
            "_model_name": "FloatProgressModel",
            "bar_style": "success",
            "max": 629,
            "_view_module": "@jupyter-widgets/controls",
            "_model_module_version": "1.5.0",
            "value": 629,
            "_view_count": null,
            "_view_module_version": "1.5.0",
            "orientation": "horizontal",
            "min": 0,
            "description_tooltip": null,
            "_model_module": "@jupyter-widgets/controls",
            "layout": "IPY_MODEL_10eb5eddd4fc40e6b42093d0c9f5a1ff"
          }
        },
        "4442b0056e5c49fe92a7a38c0a97cede": {
          "model_module": "@jupyter-widgets/controls",
          "model_name": "HTMLModel",
          "state": {
            "_view_name": "HTMLView",
            "style": "IPY_MODEL_16c0ce94f58c424cb4e358f83d4b81e2",
            "_dom_classes": [],
            "description": "",
            "_model_name": "HTMLModel",
            "placeholder": "​",
            "_view_module": "@jupyter-widgets/controls",
            "_model_module_version": "1.5.0",
            "value": " 629/629 [00:00&lt;00:00, 1.22kB/s]",
            "_view_count": null,
            "_view_module_version": "1.5.0",
            "description_tooltip": null,
            "_model_module": "@jupyter-widgets/controls",
            "layout": "IPY_MODEL_77dcf2011e2248ccad499f88acdc77b7"
          }
        },
        "8a890dcab7e34e33bc7bb7f140e06fe7": {
          "model_module": "@jupyter-widgets/controls",
          "model_name": "ProgressStyleModel",
          "state": {
            "_view_name": "StyleView",
            "_model_name": "ProgressStyleModel",
            "description_width": "initial",
            "_view_module": "@jupyter-widgets/base",
            "_model_module_version": "1.5.0",
            "_view_count": null,
            "_view_module_version": "1.2.0",
            "bar_color": null,
            "_model_module": "@jupyter-widgets/controls"
          }
        },
        "10eb5eddd4fc40e6b42093d0c9f5a1ff": {
          "model_module": "@jupyter-widgets/base",
          "model_name": "LayoutModel",
          "state": {
            "_view_name": "LayoutView",
            "grid_template_rows": null,
            "right": null,
            "justify_content": null,
            "_view_module": "@jupyter-widgets/base",
            "overflow": null,
            "_model_module_version": "1.2.0",
            "_view_count": null,
            "flex_flow": null,
            "width": null,
            "min_width": null,
            "border": null,
            "align_items": null,
            "bottom": null,
            "_model_module": "@jupyter-widgets/base",
            "top": null,
            "grid_column": null,
            "overflow_y": null,
            "overflow_x": null,
            "grid_auto_flow": null,
            "grid_area": null,
            "grid_template_columns": null,
            "flex": null,
            "_model_name": "LayoutModel",
            "justify_items": null,
            "grid_row": null,
            "max_height": null,
            "align_content": null,
            "visibility": null,
            "align_self": null,
            "height": null,
            "min_height": null,
            "padding": null,
            "grid_auto_rows": null,
            "grid_gap": null,
            "max_width": null,
            "order": null,
            "_view_module_version": "1.2.0",
            "grid_template_areas": null,
            "object_position": null,
            "object_fit": null,
            "grid_auto_columns": null,
            "margin": null,
            "display": null,
            "left": null
          }
        },
        "16c0ce94f58c424cb4e358f83d4b81e2": {
          "model_module": "@jupyter-widgets/controls",
          "model_name": "DescriptionStyleModel",
          "state": {
            "_view_name": "StyleView",
            "_model_name": "DescriptionStyleModel",
            "description_width": "",
            "_view_module": "@jupyter-widgets/base",
            "_model_module_version": "1.5.0",
            "_view_count": null,
            "_view_module_version": "1.2.0",
            "_model_module": "@jupyter-widgets/controls"
          }
        },
        "77dcf2011e2248ccad499f88acdc77b7": {
          "model_module": "@jupyter-widgets/base",
          "model_name": "LayoutModel",
          "state": {
            "_view_name": "LayoutView",
            "grid_template_rows": null,
            "right": null,
            "justify_content": null,
            "_view_module": "@jupyter-widgets/base",
            "overflow": null,
            "_model_module_version": "1.2.0",
            "_view_count": null,
            "flex_flow": null,
            "width": null,
            "min_width": null,
            "border": null,
            "align_items": null,
            "bottom": null,
            "_model_module": "@jupyter-widgets/base",
            "top": null,
            "grid_column": null,
            "overflow_y": null,
            "overflow_x": null,
            "grid_auto_flow": null,
            "grid_area": null,
            "grid_template_columns": null,
            "flex": null,
            "_model_name": "LayoutModel",
            "justify_items": null,
            "grid_row": null,
            "max_height": null,
            "align_content": null,
            "visibility": null,
            "align_self": null,
            "height": null,
            "min_height": null,
            "padding": null,
            "grid_auto_rows": null,
            "grid_gap": null,
            "max_width": null,
            "order": null,
            "_view_module_version": "1.2.0",
            "grid_template_areas": null,
            "object_position": null,
            "object_fit": null,
            "grid_auto_columns": null,
            "margin": null,
            "display": null,
            "left": null
          }
        },
        "91955a11a1254019b53e704e766ccbb2": {
          "model_module": "@jupyter-widgets/controls",
          "model_name": "HBoxModel",
          "state": {
            "_view_name": "HBoxView",
            "_dom_classes": [],
            "_model_name": "HBoxModel",
            "_view_module": "@jupyter-widgets/controls",
            "_model_module_version": "1.5.0",
            "_view_count": null,
            "_view_module_version": "1.5.0",
            "box_style": "",
            "layout": "IPY_MODEL_91409e66eda544a6b5888718a024dd4a",
            "_model_module": "@jupyter-widgets/controls",
            "children": [
              "IPY_MODEL_2abd32b2c2a54960836775d382261563",
              "IPY_MODEL_fc41c3b03b10472b8bbaa1172dd9f402"
            ]
          }
        },
        "91409e66eda544a6b5888718a024dd4a": {
          "model_module": "@jupyter-widgets/base",
          "model_name": "LayoutModel",
          "state": {
            "_view_name": "LayoutView",
            "grid_template_rows": null,
            "right": null,
            "justify_content": null,
            "_view_module": "@jupyter-widgets/base",
            "overflow": null,
            "_model_module_version": "1.2.0",
            "_view_count": null,
            "flex_flow": null,
            "width": null,
            "min_width": null,
            "border": null,
            "align_items": null,
            "bottom": null,
            "_model_module": "@jupyter-widgets/base",
            "top": null,
            "grid_column": null,
            "overflow_y": null,
            "overflow_x": null,
            "grid_auto_flow": null,
            "grid_area": null,
            "grid_template_columns": null,
            "flex": null,
            "_model_name": "LayoutModel",
            "justify_items": null,
            "grid_row": null,
            "max_height": null,
            "align_content": null,
            "visibility": null,
            "align_self": null,
            "height": null,
            "min_height": null,
            "padding": null,
            "grid_auto_rows": null,
            "grid_gap": null,
            "max_width": null,
            "order": null,
            "_view_module_version": "1.2.0",
            "grid_template_areas": null,
            "object_position": null,
            "object_fit": null,
            "grid_auto_columns": null,
            "margin": null,
            "display": null,
            "left": null
          }
        },
        "2abd32b2c2a54960836775d382261563": {
          "model_module": "@jupyter-widgets/controls",
          "model_name": "FloatProgressModel",
          "state": {
            "_view_name": "ProgressView",
            "style": "IPY_MODEL_903513a3c36d4b3081c16432d959ecca",
            "_dom_classes": [],
            "description": "Downloading: 100%",
            "_model_name": "FloatProgressModel",
            "bar_style": "success",
            "max": 122,
            "_view_module": "@jupyter-widgets/controls",
            "_model_module_version": "1.5.0",
            "value": 122,
            "_view_count": null,
            "_view_module_version": "1.5.0",
            "orientation": "horizontal",
            "min": 0,
            "description_tooltip": null,
            "_model_module": "@jupyter-widgets/controls",
            "layout": "IPY_MODEL_16d1a6d1387e43a687e0254d139d8c78"
          }
        },
        "fc41c3b03b10472b8bbaa1172dd9f402": {
          "model_module": "@jupyter-widgets/controls",
          "model_name": "HTMLModel",
          "state": {
            "_view_name": "HTMLView",
            "style": "IPY_MODEL_1454c2d05b044ba281e988aa5472c13d",
            "_dom_classes": [],
            "description": "",
            "_model_name": "HTMLModel",
            "placeholder": "​",
            "_view_module": "@jupyter-widgets/controls",
            "_model_module_version": "1.5.0",
            "value": " 122/122 [00:00&lt;00:00, 313B/s]",
            "_view_count": null,
            "_view_module_version": "1.5.0",
            "description_tooltip": null,
            "_model_module": "@jupyter-widgets/controls",
            "layout": "IPY_MODEL_4e100d5c4d804b64b37fa8541ae63879"
          }
        },
        "903513a3c36d4b3081c16432d959ecca": {
          "model_module": "@jupyter-widgets/controls",
          "model_name": "ProgressStyleModel",
          "state": {
            "_view_name": "StyleView",
            "_model_name": "ProgressStyleModel",
            "description_width": "initial",
            "_view_module": "@jupyter-widgets/base",
            "_model_module_version": "1.5.0",
            "_view_count": null,
            "_view_module_version": "1.2.0",
            "bar_color": null,
            "_model_module": "@jupyter-widgets/controls"
          }
        },
        "16d1a6d1387e43a687e0254d139d8c78": {
          "model_module": "@jupyter-widgets/base",
          "model_name": "LayoutModel",
          "state": {
            "_view_name": "LayoutView",
            "grid_template_rows": null,
            "right": null,
            "justify_content": null,
            "_view_module": "@jupyter-widgets/base",
            "overflow": null,
            "_model_module_version": "1.2.0",
            "_view_count": null,
            "flex_flow": null,
            "width": null,
            "min_width": null,
            "border": null,
            "align_items": null,
            "bottom": null,
            "_model_module": "@jupyter-widgets/base",
            "top": null,
            "grid_column": null,
            "overflow_y": null,
            "overflow_x": null,
            "grid_auto_flow": null,
            "grid_area": null,
            "grid_template_columns": null,
            "flex": null,
            "_model_name": "LayoutModel",
            "justify_items": null,
            "grid_row": null,
            "max_height": null,
            "align_content": null,
            "visibility": null,
            "align_self": null,
            "height": null,
            "min_height": null,
            "padding": null,
            "grid_auto_rows": null,
            "grid_gap": null,
            "max_width": null,
            "order": null,
            "_view_module_version": "1.2.0",
            "grid_template_areas": null,
            "object_position": null,
            "object_fit": null,
            "grid_auto_columns": null,
            "margin": null,
            "display": null,
            "left": null
          }
        },
        "1454c2d05b044ba281e988aa5472c13d": {
          "model_module": "@jupyter-widgets/controls",
          "model_name": "DescriptionStyleModel",
          "state": {
            "_view_name": "StyleView",
            "_model_name": "DescriptionStyleModel",
            "description_width": "",
            "_view_module": "@jupyter-widgets/base",
            "_model_module_version": "1.5.0",
            "_view_count": null,
            "_view_module_version": "1.2.0",
            "_model_module": "@jupyter-widgets/controls"
          }
        },
        "4e100d5c4d804b64b37fa8541ae63879": {
          "model_module": "@jupyter-widgets/base",
          "model_name": "LayoutModel",
          "state": {
            "_view_name": "LayoutView",
            "grid_template_rows": null,
            "right": null,
            "justify_content": null,
            "_view_module": "@jupyter-widgets/base",
            "overflow": null,
            "_model_module_version": "1.2.0",
            "_view_count": null,
            "flex_flow": null,
            "width": null,
            "min_width": null,
            "border": null,
            "align_items": null,
            "bottom": null,
            "_model_module": "@jupyter-widgets/base",
            "top": null,
            "grid_column": null,
            "overflow_y": null,
            "overflow_x": null,
            "grid_auto_flow": null,
            "grid_area": null,
            "grid_template_columns": null,
            "flex": null,
            "_model_name": "LayoutModel",
            "justify_items": null,
            "grid_row": null,
            "max_height": null,
            "align_content": null,
            "visibility": null,
            "align_self": null,
            "height": null,
            "min_height": null,
            "padding": null,
            "grid_auto_rows": null,
            "grid_gap": null,
            "max_width": null,
            "order": null,
            "_view_module_version": "1.2.0",
            "grid_template_areas": null,
            "object_position": null,
            "object_fit": null,
            "grid_auto_columns": null,
            "margin": null,
            "display": null,
            "left": null
          }
        },
        "a1694e5f57f64f4e8cc19bb407bd0e41": {
          "model_module": "@jupyter-widgets/controls",
          "model_name": "HBoxModel",
          "state": {
            "_view_name": "HBoxView",
            "_dom_classes": [],
            "_model_name": "HBoxModel",
            "_view_module": "@jupyter-widgets/controls",
            "_model_module_version": "1.5.0",
            "_view_count": null,
            "_view_module_version": "1.5.0",
            "box_style": "",
            "layout": "IPY_MODEL_1be0d183e62144809630b67c94c42e59",
            "_model_module": "@jupyter-widgets/controls",
            "children": [
              "IPY_MODEL_f3819b19acd24c55afd3a39719f5f448",
              "IPY_MODEL_6e22d6572cde412e9cd50def28a9447a"
            ]
          }
        },
        "1be0d183e62144809630b67c94c42e59": {
          "model_module": "@jupyter-widgets/base",
          "model_name": "LayoutModel",
          "state": {
            "_view_name": "LayoutView",
            "grid_template_rows": null,
            "right": null,
            "justify_content": null,
            "_view_module": "@jupyter-widgets/base",
            "overflow": null,
            "_model_module_version": "1.2.0",
            "_view_count": null,
            "flex_flow": null,
            "width": null,
            "min_width": null,
            "border": null,
            "align_items": null,
            "bottom": null,
            "_model_module": "@jupyter-widgets/base",
            "top": null,
            "grid_column": null,
            "overflow_y": null,
            "overflow_x": null,
            "grid_auto_flow": null,
            "grid_area": null,
            "grid_template_columns": null,
            "flex": null,
            "_model_name": "LayoutModel",
            "justify_items": null,
            "grid_row": null,
            "max_height": null,
            "align_content": null,
            "visibility": null,
            "align_self": null,
            "height": null,
            "min_height": null,
            "padding": null,
            "grid_auto_rows": null,
            "grid_gap": null,
            "max_width": null,
            "order": null,
            "_view_module_version": "1.2.0",
            "grid_template_areas": null,
            "object_position": null,
            "object_fit": null,
            "grid_auto_columns": null,
            "margin": null,
            "display": null,
            "left": null
          }
        },
        "f3819b19acd24c55afd3a39719f5f448": {
          "model_module": "@jupyter-widgets/controls",
          "model_name": "FloatProgressModel",
          "state": {
            "_view_name": "ProgressView",
            "style": "IPY_MODEL_f3228ba56a8a4544ab47ab4c54b9e4a7",
            "_dom_classes": [],
            "description": "Downloading: 100%",
            "_model_name": "FloatProgressModel",
            "bar_style": "success",
            "max": 229,
            "_view_module": "@jupyter-widgets/controls",
            "_model_module_version": "1.5.0",
            "value": 229,
            "_view_count": null,
            "_view_module_version": "1.5.0",
            "orientation": "horizontal",
            "min": 0,
            "description_tooltip": null,
            "_model_module": "@jupyter-widgets/controls",
            "layout": "IPY_MODEL_d9dbd100db3f40c88c03b85822c9da51"
          }
        },
        "6e22d6572cde412e9cd50def28a9447a": {
          "model_module": "@jupyter-widgets/controls",
          "model_name": "HTMLModel",
          "state": {
            "_view_name": "HTMLView",
            "style": "IPY_MODEL_2aba596c0a4149dc9e2160001de32c7a",
            "_dom_classes": [],
            "description": "",
            "_model_name": "HTMLModel",
            "placeholder": "​",
            "_view_module": "@jupyter-widgets/controls",
            "_model_module_version": "1.5.0",
            "value": " 229/229 [00:00&lt;00:00, 887B/s]",
            "_view_count": null,
            "_view_module_version": "1.5.0",
            "description_tooltip": null,
            "_model_module": "@jupyter-widgets/controls",
            "layout": "IPY_MODEL_849568c4e8b94dcc83c88c617093040d"
          }
        },
        "f3228ba56a8a4544ab47ab4c54b9e4a7": {
          "model_module": "@jupyter-widgets/controls",
          "model_name": "ProgressStyleModel",
          "state": {
            "_view_name": "StyleView",
            "_model_name": "ProgressStyleModel",
            "description_width": "initial",
            "_view_module": "@jupyter-widgets/base",
            "_model_module_version": "1.5.0",
            "_view_count": null,
            "_view_module_version": "1.2.0",
            "bar_color": null,
            "_model_module": "@jupyter-widgets/controls"
          }
        },
        "d9dbd100db3f40c88c03b85822c9da51": {
          "model_module": "@jupyter-widgets/base",
          "model_name": "LayoutModel",
          "state": {
            "_view_name": "LayoutView",
            "grid_template_rows": null,
            "right": null,
            "justify_content": null,
            "_view_module": "@jupyter-widgets/base",
            "overflow": null,
            "_model_module_version": "1.2.0",
            "_view_count": null,
            "flex_flow": null,
            "width": null,
            "min_width": null,
            "border": null,
            "align_items": null,
            "bottom": null,
            "_model_module": "@jupyter-widgets/base",
            "top": null,
            "grid_column": null,
            "overflow_y": null,
            "overflow_x": null,
            "grid_auto_flow": null,
            "grid_area": null,
            "grid_template_columns": null,
            "flex": null,
            "_model_name": "LayoutModel",
            "justify_items": null,
            "grid_row": null,
            "max_height": null,
            "align_content": null,
            "visibility": null,
            "align_self": null,
            "height": null,
            "min_height": null,
            "padding": null,
            "grid_auto_rows": null,
            "grid_gap": null,
            "max_width": null,
            "order": null,
            "_view_module_version": "1.2.0",
            "grid_template_areas": null,
            "object_position": null,
            "object_fit": null,
            "grid_auto_columns": null,
            "margin": null,
            "display": null,
            "left": null
          }
        },
        "2aba596c0a4149dc9e2160001de32c7a": {
          "model_module": "@jupyter-widgets/controls",
          "model_name": "DescriptionStyleModel",
          "state": {
            "_view_name": "StyleView",
            "_model_name": "DescriptionStyleModel",
            "description_width": "",
            "_view_module": "@jupyter-widgets/base",
            "_model_module_version": "1.5.0",
            "_view_count": null,
            "_view_module_version": "1.2.0",
            "_model_module": "@jupyter-widgets/controls"
          }
        },
        "849568c4e8b94dcc83c88c617093040d": {
          "model_module": "@jupyter-widgets/base",
          "model_name": "LayoutModel",
          "state": {
            "_view_name": "LayoutView",
            "grid_template_rows": null,
            "right": null,
            "justify_content": null,
            "_view_module": "@jupyter-widgets/base",
            "overflow": null,
            "_model_module_version": "1.2.0",
            "_view_count": null,
            "flex_flow": null,
            "width": null,
            "min_width": null,
            "border": null,
            "align_items": null,
            "bottom": null,
            "_model_module": "@jupyter-widgets/base",
            "top": null,
            "grid_column": null,
            "overflow_y": null,
            "overflow_x": null,
            "grid_auto_flow": null,
            "grid_area": null,
            "grid_template_columns": null,
            "flex": null,
            "_model_name": "LayoutModel",
            "justify_items": null,
            "grid_row": null,
            "max_height": null,
            "align_content": null,
            "visibility": null,
            "align_self": null,
            "height": null,
            "min_height": null,
            "padding": null,
            "grid_auto_rows": null,
            "grid_gap": null,
            "max_width": null,
            "order": null,
            "_view_module_version": "1.2.0",
            "grid_template_areas": null,
            "object_position": null,
            "object_fit": null,
            "grid_auto_columns": null,
            "margin": null,
            "display": null,
            "left": null
          }
        },
        "aa134c0868ff44a891e42492ac91b7d0": {
          "model_module": "@jupyter-widgets/controls",
          "model_name": "HBoxModel",
          "state": {
            "_view_name": "HBoxView",
            "_dom_classes": [],
            "_model_name": "HBoxModel",
            "_view_module": "@jupyter-widgets/controls",
            "_model_module_version": "1.5.0",
            "_view_count": null,
            "_view_module_version": "1.5.0",
            "box_style": "",
            "layout": "IPY_MODEL_bab350656d184b6db612154af7a472e5",
            "_model_module": "@jupyter-widgets/controls",
            "children": [
              "IPY_MODEL_f5996ba1b48f424d9894b4e9f132ad3d",
              "IPY_MODEL_11163754a2744530a38b5942da57ee98"
            ]
          }
        },
        "bab350656d184b6db612154af7a472e5": {
          "model_module": "@jupyter-widgets/base",
          "model_name": "LayoutModel",
          "state": {
            "_view_name": "LayoutView",
            "grid_template_rows": null,
            "right": null,
            "justify_content": null,
            "_view_module": "@jupyter-widgets/base",
            "overflow": null,
            "_model_module_version": "1.2.0",
            "_view_count": null,
            "flex_flow": null,
            "width": null,
            "min_width": null,
            "border": null,
            "align_items": null,
            "bottom": null,
            "_model_module": "@jupyter-widgets/base",
            "top": null,
            "grid_column": null,
            "overflow_y": null,
            "overflow_x": null,
            "grid_auto_flow": null,
            "grid_area": null,
            "grid_template_columns": null,
            "flex": null,
            "_model_name": "LayoutModel",
            "justify_items": null,
            "grid_row": null,
            "max_height": null,
            "align_content": null,
            "visibility": null,
            "align_self": null,
            "height": null,
            "min_height": null,
            "padding": null,
            "grid_auto_rows": null,
            "grid_gap": null,
            "max_width": null,
            "order": null,
            "_view_module_version": "1.2.0",
            "grid_template_areas": null,
            "object_position": null,
            "object_fit": null,
            "grid_auto_columns": null,
            "margin": null,
            "display": null,
            "left": null
          }
        },
        "f5996ba1b48f424d9894b4e9f132ad3d": {
          "model_module": "@jupyter-widgets/controls",
          "model_name": "FloatProgressModel",
          "state": {
            "_view_name": "ProgressView",
            "style": "IPY_MODEL_15b5664861f640e3a3c8aaf2b8e1ac46",
            "_dom_classes": [],
            "description": "Downloading: 100%",
            "_model_name": "FloatProgressModel",
            "bar_style": "success",
            "max": 90895153,
            "_view_module": "@jupyter-widgets/controls",
            "_model_module_version": "1.5.0",
            "value": 90895153,
            "_view_count": null,
            "_view_module_version": "1.5.0",
            "orientation": "horizontal",
            "min": 0,
            "description_tooltip": null,
            "_model_module": "@jupyter-widgets/controls",
            "layout": "IPY_MODEL_87577c68758d431ab5057d3b7a83dc00"
          }
        },
        "11163754a2744530a38b5942da57ee98": {
          "model_module": "@jupyter-widgets/controls",
          "model_name": "HTMLModel",
          "state": {
            "_view_name": "HTMLView",
            "style": "IPY_MODEL_8ba40beaca7143009ff245653ef72757",
            "_dom_classes": [],
            "description": "",
            "_model_name": "HTMLModel",
            "placeholder": "​",
            "_view_module": "@jupyter-widgets/controls",
            "_model_module_version": "1.5.0",
            "value": " 90.9M/90.9M [00:04&lt;00:00, 19.9MB/s]",
            "_view_count": null,
            "_view_module_version": "1.5.0",
            "description_tooltip": null,
            "_model_module": "@jupyter-widgets/controls",
            "layout": "IPY_MODEL_893e8c38eeac46dfb05179b6bc0835cc"
          }
        },
        "15b5664861f640e3a3c8aaf2b8e1ac46": {
          "model_module": "@jupyter-widgets/controls",
          "model_name": "ProgressStyleModel",
          "state": {
            "_view_name": "StyleView",
            "_model_name": "ProgressStyleModel",
            "description_width": "initial",
            "_view_module": "@jupyter-widgets/base",
            "_model_module_version": "1.5.0",
            "_view_count": null,
            "_view_module_version": "1.2.0",
            "bar_color": null,
            "_model_module": "@jupyter-widgets/controls"
          }
        },
        "87577c68758d431ab5057d3b7a83dc00": {
          "model_module": "@jupyter-widgets/base",
          "model_name": "LayoutModel",
          "state": {
            "_view_name": "LayoutView",
            "grid_template_rows": null,
            "right": null,
            "justify_content": null,
            "_view_module": "@jupyter-widgets/base",
            "overflow": null,
            "_model_module_version": "1.2.0",
            "_view_count": null,
            "flex_flow": null,
            "width": null,
            "min_width": null,
            "border": null,
            "align_items": null,
            "bottom": null,
            "_model_module": "@jupyter-widgets/base",
            "top": null,
            "grid_column": null,
            "overflow_y": null,
            "overflow_x": null,
            "grid_auto_flow": null,
            "grid_area": null,
            "grid_template_columns": null,
            "flex": null,
            "_model_name": "LayoutModel",
            "justify_items": null,
            "grid_row": null,
            "max_height": null,
            "align_content": null,
            "visibility": null,
            "align_self": null,
            "height": null,
            "min_height": null,
            "padding": null,
            "grid_auto_rows": null,
            "grid_gap": null,
            "max_width": null,
            "order": null,
            "_view_module_version": "1.2.0",
            "grid_template_areas": null,
            "object_position": null,
            "object_fit": null,
            "grid_auto_columns": null,
            "margin": null,
            "display": null,
            "left": null
          }
        },
        "8ba40beaca7143009ff245653ef72757": {
          "model_module": "@jupyter-widgets/controls",
          "model_name": "DescriptionStyleModel",
          "state": {
            "_view_name": "StyleView",
            "_model_name": "DescriptionStyleModel",
            "description_width": "",
            "_view_module": "@jupyter-widgets/base",
            "_model_module_version": "1.5.0",
            "_view_count": null,
            "_view_module_version": "1.2.0",
            "_model_module": "@jupyter-widgets/controls"
          }
        },
        "893e8c38eeac46dfb05179b6bc0835cc": {
          "model_module": "@jupyter-widgets/base",
          "model_name": "LayoutModel",
          "state": {
            "_view_name": "LayoutView",
            "grid_template_rows": null,
            "right": null,
            "justify_content": null,
            "_view_module": "@jupyter-widgets/base",
            "overflow": null,
            "_model_module_version": "1.2.0",
            "_view_count": null,
            "flex_flow": null,
            "width": null,
            "min_width": null,
            "border": null,
            "align_items": null,
            "bottom": null,
            "_model_module": "@jupyter-widgets/base",
            "top": null,
            "grid_column": null,
            "overflow_y": null,
            "overflow_x": null,
            "grid_auto_flow": null,
            "grid_area": null,
            "grid_template_columns": null,
            "flex": null,
            "_model_name": "LayoutModel",
            "justify_items": null,
            "grid_row": null,
            "max_height": null,
            "align_content": null,
            "visibility": null,
            "align_self": null,
            "height": null,
            "min_height": null,
            "padding": null,
            "grid_auto_rows": null,
            "grid_gap": null,
            "max_width": null,
            "order": null,
            "_view_module_version": "1.2.0",
            "grid_template_areas": null,
            "object_position": null,
            "object_fit": null,
            "grid_auto_columns": null,
            "margin": null,
            "display": null,
            "left": null
          }
        },
        "d23cf34e19334d9780987400a8cddf4c": {
          "model_module": "@jupyter-widgets/controls",
          "model_name": "HBoxModel",
          "state": {
            "_view_name": "HBoxView",
            "_dom_classes": [],
            "_model_name": "HBoxModel",
            "_view_module": "@jupyter-widgets/controls",
            "_model_module_version": "1.5.0",
            "_view_count": null,
            "_view_module_version": "1.5.0",
            "box_style": "",
            "layout": "IPY_MODEL_619e352ac52143199c219bfe2e32a078",
            "_model_module": "@jupyter-widgets/controls",
            "children": [
              "IPY_MODEL_722a09d705a844678f7c964495a2a213",
              "IPY_MODEL_f30636c8f3e04ae8a70618823074490e"
            ]
          }
        },
        "619e352ac52143199c219bfe2e32a078": {
          "model_module": "@jupyter-widgets/base",
          "model_name": "LayoutModel",
          "state": {
            "_view_name": "LayoutView",
            "grid_template_rows": null,
            "right": null,
            "justify_content": null,
            "_view_module": "@jupyter-widgets/base",
            "overflow": null,
            "_model_module_version": "1.2.0",
            "_view_count": null,
            "flex_flow": null,
            "width": null,
            "min_width": null,
            "border": null,
            "align_items": null,
            "bottom": null,
            "_model_module": "@jupyter-widgets/base",
            "top": null,
            "grid_column": null,
            "overflow_y": null,
            "overflow_x": null,
            "grid_auto_flow": null,
            "grid_area": null,
            "grid_template_columns": null,
            "flex": null,
            "_model_name": "LayoutModel",
            "justify_items": null,
            "grid_row": null,
            "max_height": null,
            "align_content": null,
            "visibility": null,
            "align_self": null,
            "height": null,
            "min_height": null,
            "padding": null,
            "grid_auto_rows": null,
            "grid_gap": null,
            "max_width": null,
            "order": null,
            "_view_module_version": "1.2.0",
            "grid_template_areas": null,
            "object_position": null,
            "object_fit": null,
            "grid_auto_columns": null,
            "margin": null,
            "display": null,
            "left": null
          }
        },
        "722a09d705a844678f7c964495a2a213": {
          "model_module": "@jupyter-widgets/controls",
          "model_name": "FloatProgressModel",
          "state": {
            "_view_name": "ProgressView",
            "style": "IPY_MODEL_caebd228eeea4410a65f2fd81e63f249",
            "_dom_classes": [],
            "description": "Downloading: 100%",
            "_model_name": "FloatProgressModel",
            "bar_style": "success",
            "max": 53,
            "_view_module": "@jupyter-widgets/controls",
            "_model_module_version": "1.5.0",
            "value": 53,
            "_view_count": null,
            "_view_module_version": "1.5.0",
            "orientation": "horizontal",
            "min": 0,
            "description_tooltip": null,
            "_model_module": "@jupyter-widgets/controls",
            "layout": "IPY_MODEL_3d56fef06c234ecd974fc95f51e0c3e9"
          }
        },
        "f30636c8f3e04ae8a70618823074490e": {
          "model_module": "@jupyter-widgets/controls",
          "model_name": "HTMLModel",
          "state": {
            "_view_name": "HTMLView",
            "style": "IPY_MODEL_ec5e48bae44b4c55ab8bd2d2b8f0855f",
            "_dom_classes": [],
            "description": "",
            "_model_name": "HTMLModel",
            "placeholder": "​",
            "_view_module": "@jupyter-widgets/controls",
            "_model_module_version": "1.5.0",
            "value": " 53.0/53.0 [00:00&lt;00:00, 142B/s]",
            "_view_count": null,
            "_view_module_version": "1.5.0",
            "description_tooltip": null,
            "_model_module": "@jupyter-widgets/controls",
            "layout": "IPY_MODEL_91de8029cf514822910be3dbd43d1b52"
          }
        },
        "caebd228eeea4410a65f2fd81e63f249": {
          "model_module": "@jupyter-widgets/controls",
          "model_name": "ProgressStyleModel",
          "state": {
            "_view_name": "StyleView",
            "_model_name": "ProgressStyleModel",
            "description_width": "initial",
            "_view_module": "@jupyter-widgets/base",
            "_model_module_version": "1.5.0",
            "_view_count": null,
            "_view_module_version": "1.2.0",
            "bar_color": null,
            "_model_module": "@jupyter-widgets/controls"
          }
        },
        "3d56fef06c234ecd974fc95f51e0c3e9": {
          "model_module": "@jupyter-widgets/base",
          "model_name": "LayoutModel",
          "state": {
            "_view_name": "LayoutView",
            "grid_template_rows": null,
            "right": null,
            "justify_content": null,
            "_view_module": "@jupyter-widgets/base",
            "overflow": null,
            "_model_module_version": "1.2.0",
            "_view_count": null,
            "flex_flow": null,
            "width": null,
            "min_width": null,
            "border": null,
            "align_items": null,
            "bottom": null,
            "_model_module": "@jupyter-widgets/base",
            "top": null,
            "grid_column": null,
            "overflow_y": null,
            "overflow_x": null,
            "grid_auto_flow": null,
            "grid_area": null,
            "grid_template_columns": null,
            "flex": null,
            "_model_name": "LayoutModel",
            "justify_items": null,
            "grid_row": null,
            "max_height": null,
            "align_content": null,
            "visibility": null,
            "align_self": null,
            "height": null,
            "min_height": null,
            "padding": null,
            "grid_auto_rows": null,
            "grid_gap": null,
            "max_width": null,
            "order": null,
            "_view_module_version": "1.2.0",
            "grid_template_areas": null,
            "object_position": null,
            "object_fit": null,
            "grid_auto_columns": null,
            "margin": null,
            "display": null,
            "left": null
          }
        },
        "ec5e48bae44b4c55ab8bd2d2b8f0855f": {
          "model_module": "@jupyter-widgets/controls",
          "model_name": "DescriptionStyleModel",
          "state": {
            "_view_name": "StyleView",
            "_model_name": "DescriptionStyleModel",
            "description_width": "",
            "_view_module": "@jupyter-widgets/base",
            "_model_module_version": "1.5.0",
            "_view_count": null,
            "_view_module_version": "1.2.0",
            "_model_module": "@jupyter-widgets/controls"
          }
        },
        "91de8029cf514822910be3dbd43d1b52": {
          "model_module": "@jupyter-widgets/base",
          "model_name": "LayoutModel",
          "state": {
            "_view_name": "LayoutView",
            "grid_template_rows": null,
            "right": null,
            "justify_content": null,
            "_view_module": "@jupyter-widgets/base",
            "overflow": null,
            "_model_module_version": "1.2.0",
            "_view_count": null,
            "flex_flow": null,
            "width": null,
            "min_width": null,
            "border": null,
            "align_items": null,
            "bottom": null,
            "_model_module": "@jupyter-widgets/base",
            "top": null,
            "grid_column": null,
            "overflow_y": null,
            "overflow_x": null,
            "grid_auto_flow": null,
            "grid_area": null,
            "grid_template_columns": null,
            "flex": null,
            "_model_name": "LayoutModel",
            "justify_items": null,
            "grid_row": null,
            "max_height": null,
            "align_content": null,
            "visibility": null,
            "align_self": null,
            "height": null,
            "min_height": null,
            "padding": null,
            "grid_auto_rows": null,
            "grid_gap": null,
            "max_width": null,
            "order": null,
            "_view_module_version": "1.2.0",
            "grid_template_areas": null,
            "object_position": null,
            "object_fit": null,
            "grid_auto_columns": null,
            "margin": null,
            "display": null,
            "left": null
          }
        },
        "50ef3f5a7233452992b875a668325a09": {
          "model_module": "@jupyter-widgets/controls",
          "model_name": "HBoxModel",
          "state": {
            "_view_name": "HBoxView",
            "_dom_classes": [],
            "_model_name": "HBoxModel",
            "_view_module": "@jupyter-widgets/controls",
            "_model_module_version": "1.5.0",
            "_view_count": null,
            "_view_module_version": "1.5.0",
            "box_style": "",
            "layout": "IPY_MODEL_e7061aaaf37e4aa9a3b377a3dd8d8104",
            "_model_module": "@jupyter-widgets/controls",
            "children": [
              "IPY_MODEL_fd5a4e3227304c43b47fef250d948f30",
              "IPY_MODEL_ffad29d4f2ad41e3898a9bb3ade2bc82"
            ]
          }
        },
        "e7061aaaf37e4aa9a3b377a3dd8d8104": {
          "model_module": "@jupyter-widgets/base",
          "model_name": "LayoutModel",
          "state": {
            "_view_name": "LayoutView",
            "grid_template_rows": null,
            "right": null,
            "justify_content": null,
            "_view_module": "@jupyter-widgets/base",
            "overflow": null,
            "_model_module_version": "1.2.0",
            "_view_count": null,
            "flex_flow": null,
            "width": null,
            "min_width": null,
            "border": null,
            "align_items": null,
            "bottom": null,
            "_model_module": "@jupyter-widgets/base",
            "top": null,
            "grid_column": null,
            "overflow_y": null,
            "overflow_x": null,
            "grid_auto_flow": null,
            "grid_area": null,
            "grid_template_columns": null,
            "flex": null,
            "_model_name": "LayoutModel",
            "justify_items": null,
            "grid_row": null,
            "max_height": null,
            "align_content": null,
            "visibility": null,
            "align_self": null,
            "height": null,
            "min_height": null,
            "padding": null,
            "grid_auto_rows": null,
            "grid_gap": null,
            "max_width": null,
            "order": null,
            "_view_module_version": "1.2.0",
            "grid_template_areas": null,
            "object_position": null,
            "object_fit": null,
            "grid_auto_columns": null,
            "margin": null,
            "display": null,
            "left": null
          }
        },
        "fd5a4e3227304c43b47fef250d948f30": {
          "model_module": "@jupyter-widgets/controls",
          "model_name": "FloatProgressModel",
          "state": {
            "_view_name": "ProgressView",
            "style": "IPY_MODEL_1514a4213bd14e27bca0ab182d441dac",
            "_dom_classes": [],
            "description": "Downloading: 100%",
            "_model_name": "FloatProgressModel",
            "bar_style": "success",
            "max": 112,
            "_view_module": "@jupyter-widgets/controls",
            "_model_module_version": "1.5.0",
            "value": 112,
            "_view_count": null,
            "_view_module_version": "1.5.0",
            "orientation": "horizontal",
            "min": 0,
            "description_tooltip": null,
            "_model_module": "@jupyter-widgets/controls",
            "layout": "IPY_MODEL_7c15c77709ac45c18746ad2a02f0325d"
          }
        },
        "ffad29d4f2ad41e3898a9bb3ade2bc82": {
          "model_module": "@jupyter-widgets/controls",
          "model_name": "HTMLModel",
          "state": {
            "_view_name": "HTMLView",
            "style": "IPY_MODEL_8e09fbefc09c4cef9ca6b412e5365038",
            "_dom_classes": [],
            "description": "",
            "_model_name": "HTMLModel",
            "placeholder": "​",
            "_view_module": "@jupyter-widgets/controls",
            "_model_module_version": "1.5.0",
            "value": " 112/112 [00:00&lt;00:00, 525B/s]",
            "_view_count": null,
            "_view_module_version": "1.5.0",
            "description_tooltip": null,
            "_model_module": "@jupyter-widgets/controls",
            "layout": "IPY_MODEL_cb250c75b71e4fa1abc4bf533360fbc2"
          }
        },
        "1514a4213bd14e27bca0ab182d441dac": {
          "model_module": "@jupyter-widgets/controls",
          "model_name": "ProgressStyleModel",
          "state": {
            "_view_name": "StyleView",
            "_model_name": "ProgressStyleModel",
            "description_width": "initial",
            "_view_module": "@jupyter-widgets/base",
            "_model_module_version": "1.5.0",
            "_view_count": null,
            "_view_module_version": "1.2.0",
            "bar_color": null,
            "_model_module": "@jupyter-widgets/controls"
          }
        },
        "7c15c77709ac45c18746ad2a02f0325d": {
          "model_module": "@jupyter-widgets/base",
          "model_name": "LayoutModel",
          "state": {
            "_view_name": "LayoutView",
            "grid_template_rows": null,
            "right": null,
            "justify_content": null,
            "_view_module": "@jupyter-widgets/base",
            "overflow": null,
            "_model_module_version": "1.2.0",
            "_view_count": null,
            "flex_flow": null,
            "width": null,
            "min_width": null,
            "border": null,
            "align_items": null,
            "bottom": null,
            "_model_module": "@jupyter-widgets/base",
            "top": null,
            "grid_column": null,
            "overflow_y": null,
            "overflow_x": null,
            "grid_auto_flow": null,
            "grid_area": null,
            "grid_template_columns": null,
            "flex": null,
            "_model_name": "LayoutModel",
            "justify_items": null,
            "grid_row": null,
            "max_height": null,
            "align_content": null,
            "visibility": null,
            "align_self": null,
            "height": null,
            "min_height": null,
            "padding": null,
            "grid_auto_rows": null,
            "grid_gap": null,
            "max_width": null,
            "order": null,
            "_view_module_version": "1.2.0",
            "grid_template_areas": null,
            "object_position": null,
            "object_fit": null,
            "grid_auto_columns": null,
            "margin": null,
            "display": null,
            "left": null
          }
        },
        "8e09fbefc09c4cef9ca6b412e5365038": {
          "model_module": "@jupyter-widgets/controls",
          "model_name": "DescriptionStyleModel",
          "state": {
            "_view_name": "StyleView",
            "_model_name": "DescriptionStyleModel",
            "description_width": "",
            "_view_module": "@jupyter-widgets/base",
            "_model_module_version": "1.5.0",
            "_view_count": null,
            "_view_module_version": "1.2.0",
            "_model_module": "@jupyter-widgets/controls"
          }
        },
        "cb250c75b71e4fa1abc4bf533360fbc2": {
          "model_module": "@jupyter-widgets/base",
          "model_name": "LayoutModel",
          "state": {
            "_view_name": "LayoutView",
            "grid_template_rows": null,
            "right": null,
            "justify_content": null,
            "_view_module": "@jupyter-widgets/base",
            "overflow": null,
            "_model_module_version": "1.2.0",
            "_view_count": null,
            "flex_flow": null,
            "width": null,
            "min_width": null,
            "border": null,
            "align_items": null,
            "bottom": null,
            "_model_module": "@jupyter-widgets/base",
            "top": null,
            "grid_column": null,
            "overflow_y": null,
            "overflow_x": null,
            "grid_auto_flow": null,
            "grid_area": null,
            "grid_template_columns": null,
            "flex": null,
            "_model_name": "LayoutModel",
            "justify_items": null,
            "grid_row": null,
            "max_height": null,
            "align_content": null,
            "visibility": null,
            "align_self": null,
            "height": null,
            "min_height": null,
            "padding": null,
            "grid_auto_rows": null,
            "grid_gap": null,
            "max_width": null,
            "order": null,
            "_view_module_version": "1.2.0",
            "grid_template_areas": null,
            "object_position": null,
            "object_fit": null,
            "grid_auto_columns": null,
            "margin": null,
            "display": null,
            "left": null
          }
        },
        "dfca40a1701b4539991a102ecfc13444": {
          "model_module": "@jupyter-widgets/controls",
          "model_name": "HBoxModel",
          "state": {
            "_view_name": "HBoxView",
            "_dom_classes": [],
            "_model_name": "HBoxModel",
            "_view_module": "@jupyter-widgets/controls",
            "_model_module_version": "1.5.0",
            "_view_count": null,
            "_view_module_version": "1.5.0",
            "box_style": "",
            "layout": "IPY_MODEL_832d970af62b4eb68d65279d0114d86a",
            "_model_module": "@jupyter-widgets/controls",
            "children": [
              "IPY_MODEL_db60b411fe0341539e000ce4462f7eb3",
              "IPY_MODEL_ffdca4088a1744679f493523d5ab792d"
            ]
          }
        },
        "832d970af62b4eb68d65279d0114d86a": {
          "model_module": "@jupyter-widgets/base",
          "model_name": "LayoutModel",
          "state": {
            "_view_name": "LayoutView",
            "grid_template_rows": null,
            "right": null,
            "justify_content": null,
            "_view_module": "@jupyter-widgets/base",
            "overflow": null,
            "_model_module_version": "1.2.0",
            "_view_count": null,
            "flex_flow": null,
            "width": null,
            "min_width": null,
            "border": null,
            "align_items": null,
            "bottom": null,
            "_model_module": "@jupyter-widgets/base",
            "top": null,
            "grid_column": null,
            "overflow_y": null,
            "overflow_x": null,
            "grid_auto_flow": null,
            "grid_area": null,
            "grid_template_columns": null,
            "flex": null,
            "_model_name": "LayoutModel",
            "justify_items": null,
            "grid_row": null,
            "max_height": null,
            "align_content": null,
            "visibility": null,
            "align_self": null,
            "height": null,
            "min_height": null,
            "padding": null,
            "grid_auto_rows": null,
            "grid_gap": null,
            "max_width": null,
            "order": null,
            "_view_module_version": "1.2.0",
            "grid_template_areas": null,
            "object_position": null,
            "object_fit": null,
            "grid_auto_columns": null,
            "margin": null,
            "display": null,
            "left": null
          }
        },
        "db60b411fe0341539e000ce4462f7eb3": {
          "model_module": "@jupyter-widgets/controls",
          "model_name": "FloatProgressModel",
          "state": {
            "_view_name": "ProgressView",
            "style": "IPY_MODEL_c3972c8142034a2da225f04187a00b43",
            "_dom_classes": [],
            "description": "Downloading: 100%",
            "_model_name": "FloatProgressModel",
            "bar_style": "success",
            "max": 466081,
            "_view_module": "@jupyter-widgets/controls",
            "_model_module_version": "1.5.0",
            "value": 466081,
            "_view_count": null,
            "_view_module_version": "1.5.0",
            "orientation": "horizontal",
            "min": 0,
            "description_tooltip": null,
            "_model_module": "@jupyter-widgets/controls",
            "layout": "IPY_MODEL_252ea0f2a8e64f72bb472eedad909613"
          }
        },
        "ffdca4088a1744679f493523d5ab792d": {
          "model_module": "@jupyter-widgets/controls",
          "model_name": "HTMLModel",
          "state": {
            "_view_name": "HTMLView",
            "style": "IPY_MODEL_f6621895c58147739b9c1c3fd315e8fe",
            "_dom_classes": [],
            "description": "",
            "_model_name": "HTMLModel",
            "placeholder": "​",
            "_view_module": "@jupyter-widgets/controls",
            "_model_module_version": "1.5.0",
            "value": " 466k/466k [00:01&lt;00:00, 380kB/s]",
            "_view_count": null,
            "_view_module_version": "1.5.0",
            "description_tooltip": null,
            "_model_module": "@jupyter-widgets/controls",
            "layout": "IPY_MODEL_c2297e4ab50e4647be01b63f976f609d"
          }
        },
        "c3972c8142034a2da225f04187a00b43": {
          "model_module": "@jupyter-widgets/controls",
          "model_name": "ProgressStyleModel",
          "state": {
            "_view_name": "StyleView",
            "_model_name": "ProgressStyleModel",
            "description_width": "initial",
            "_view_module": "@jupyter-widgets/base",
            "_model_module_version": "1.5.0",
            "_view_count": null,
            "_view_module_version": "1.2.0",
            "bar_color": null,
            "_model_module": "@jupyter-widgets/controls"
          }
        },
        "252ea0f2a8e64f72bb472eedad909613": {
          "model_module": "@jupyter-widgets/base",
          "model_name": "LayoutModel",
          "state": {
            "_view_name": "LayoutView",
            "grid_template_rows": null,
            "right": null,
            "justify_content": null,
            "_view_module": "@jupyter-widgets/base",
            "overflow": null,
            "_model_module_version": "1.2.0",
            "_view_count": null,
            "flex_flow": null,
            "width": null,
            "min_width": null,
            "border": null,
            "align_items": null,
            "bottom": null,
            "_model_module": "@jupyter-widgets/base",
            "top": null,
            "grid_column": null,
            "overflow_y": null,
            "overflow_x": null,
            "grid_auto_flow": null,
            "grid_area": null,
            "grid_template_columns": null,
            "flex": null,
            "_model_name": "LayoutModel",
            "justify_items": null,
            "grid_row": null,
            "max_height": null,
            "align_content": null,
            "visibility": null,
            "align_self": null,
            "height": null,
            "min_height": null,
            "padding": null,
            "grid_auto_rows": null,
            "grid_gap": null,
            "max_width": null,
            "order": null,
            "_view_module_version": "1.2.0",
            "grid_template_areas": null,
            "object_position": null,
            "object_fit": null,
            "grid_auto_columns": null,
            "margin": null,
            "display": null,
            "left": null
          }
        },
        "f6621895c58147739b9c1c3fd315e8fe": {
          "model_module": "@jupyter-widgets/controls",
          "model_name": "DescriptionStyleModel",
          "state": {
            "_view_name": "StyleView",
            "_model_name": "DescriptionStyleModel",
            "description_width": "",
            "_view_module": "@jupyter-widgets/base",
            "_model_module_version": "1.5.0",
            "_view_count": null,
            "_view_module_version": "1.2.0",
            "_model_module": "@jupyter-widgets/controls"
          }
        },
        "c2297e4ab50e4647be01b63f976f609d": {
          "model_module": "@jupyter-widgets/base",
          "model_name": "LayoutModel",
          "state": {
            "_view_name": "LayoutView",
            "grid_template_rows": null,
            "right": null,
            "justify_content": null,
            "_view_module": "@jupyter-widgets/base",
            "overflow": null,
            "_model_module_version": "1.2.0",
            "_view_count": null,
            "flex_flow": null,
            "width": null,
            "min_width": null,
            "border": null,
            "align_items": null,
            "bottom": null,
            "_model_module": "@jupyter-widgets/base",
            "top": null,
            "grid_column": null,
            "overflow_y": null,
            "overflow_x": null,
            "grid_auto_flow": null,
            "grid_area": null,
            "grid_template_columns": null,
            "flex": null,
            "_model_name": "LayoutModel",
            "justify_items": null,
            "grid_row": null,
            "max_height": null,
            "align_content": null,
            "visibility": null,
            "align_self": null,
            "height": null,
            "min_height": null,
            "padding": null,
            "grid_auto_rows": null,
            "grid_gap": null,
            "max_width": null,
            "order": null,
            "_view_module_version": "1.2.0",
            "grid_template_areas": null,
            "object_position": null,
            "object_fit": null,
            "grid_auto_columns": null,
            "margin": null,
            "display": null,
            "left": null
          }
        },
        "3b780ad86b1041a1a1fd54d45148ce4b": {
          "model_module": "@jupyter-widgets/controls",
          "model_name": "HBoxModel",
          "state": {
            "_view_name": "HBoxView",
            "_dom_classes": [],
            "_model_name": "HBoxModel",
            "_view_module": "@jupyter-widgets/controls",
            "_model_module_version": "1.5.0",
            "_view_count": null,
            "_view_module_version": "1.5.0",
            "box_style": "",
            "layout": "IPY_MODEL_c4265a3d94de4f2dbfd5c193ea8939f9",
            "_model_module": "@jupyter-widgets/controls",
            "children": [
              "IPY_MODEL_c258492e228a434ab8fecd86963c8dcd",
              "IPY_MODEL_2cb053b8a7c14642b635dba0012ed7c3"
            ]
          }
        },
        "c4265a3d94de4f2dbfd5c193ea8939f9": {
          "model_module": "@jupyter-widgets/base",
          "model_name": "LayoutModel",
          "state": {
            "_view_name": "LayoutView",
            "grid_template_rows": null,
            "right": null,
            "justify_content": null,
            "_view_module": "@jupyter-widgets/base",
            "overflow": null,
            "_model_module_version": "1.2.0",
            "_view_count": null,
            "flex_flow": null,
            "width": null,
            "min_width": null,
            "border": null,
            "align_items": null,
            "bottom": null,
            "_model_module": "@jupyter-widgets/base",
            "top": null,
            "grid_column": null,
            "overflow_y": null,
            "overflow_x": null,
            "grid_auto_flow": null,
            "grid_area": null,
            "grid_template_columns": null,
            "flex": null,
            "_model_name": "LayoutModel",
            "justify_items": null,
            "grid_row": null,
            "max_height": null,
            "align_content": null,
            "visibility": null,
            "align_self": null,
            "height": null,
            "min_height": null,
            "padding": null,
            "grid_auto_rows": null,
            "grid_gap": null,
            "max_width": null,
            "order": null,
            "_view_module_version": "1.2.0",
            "grid_template_areas": null,
            "object_position": null,
            "object_fit": null,
            "grid_auto_columns": null,
            "margin": null,
            "display": null,
            "left": null
          }
        },
        "c258492e228a434ab8fecd86963c8dcd": {
          "model_module": "@jupyter-widgets/controls",
          "model_name": "FloatProgressModel",
          "state": {
            "_view_name": "ProgressView",
            "style": "IPY_MODEL_c52727c574b9417fa759e37bc2d95511",
            "_dom_classes": [],
            "description": "Downloading: 100%",
            "_model_name": "FloatProgressModel",
            "bar_style": "success",
            "max": 516,
            "_view_module": "@jupyter-widgets/controls",
            "_model_module_version": "1.5.0",
            "value": 516,
            "_view_count": null,
            "_view_module_version": "1.5.0",
            "orientation": "horizontal",
            "min": 0,
            "description_tooltip": null,
            "_model_module": "@jupyter-widgets/controls",
            "layout": "IPY_MODEL_ecd28a171066469bbb59a12d2f6b7d4f"
          }
        },
        "2cb053b8a7c14642b635dba0012ed7c3": {
          "model_module": "@jupyter-widgets/controls",
          "model_name": "HTMLModel",
          "state": {
            "_view_name": "HTMLView",
            "style": "IPY_MODEL_98496f020a0b472887d7b235f3a9f8dc",
            "_dom_classes": [],
            "description": "",
            "_model_name": "HTMLModel",
            "placeholder": "​",
            "_view_module": "@jupyter-widgets/controls",
            "_model_module_version": "1.5.0",
            "value": " 516/516 [00:00&lt;00:00, 967B/s]",
            "_view_count": null,
            "_view_module_version": "1.5.0",
            "description_tooltip": null,
            "_model_module": "@jupyter-widgets/controls",
            "layout": "IPY_MODEL_cf2524454a7b4d26b853726175f1003c"
          }
        },
        "c52727c574b9417fa759e37bc2d95511": {
          "model_module": "@jupyter-widgets/controls",
          "model_name": "ProgressStyleModel",
          "state": {
            "_view_name": "StyleView",
            "_model_name": "ProgressStyleModel",
            "description_width": "initial",
            "_view_module": "@jupyter-widgets/base",
            "_model_module_version": "1.5.0",
            "_view_count": null,
            "_view_module_version": "1.2.0",
            "bar_color": null,
            "_model_module": "@jupyter-widgets/controls"
          }
        },
        "ecd28a171066469bbb59a12d2f6b7d4f": {
          "model_module": "@jupyter-widgets/base",
          "model_name": "LayoutModel",
          "state": {
            "_view_name": "LayoutView",
            "grid_template_rows": null,
            "right": null,
            "justify_content": null,
            "_view_module": "@jupyter-widgets/base",
            "overflow": null,
            "_model_module_version": "1.2.0",
            "_view_count": null,
            "flex_flow": null,
            "width": null,
            "min_width": null,
            "border": null,
            "align_items": null,
            "bottom": null,
            "_model_module": "@jupyter-widgets/base",
            "top": null,
            "grid_column": null,
            "overflow_y": null,
            "overflow_x": null,
            "grid_auto_flow": null,
            "grid_area": null,
            "grid_template_columns": null,
            "flex": null,
            "_model_name": "LayoutModel",
            "justify_items": null,
            "grid_row": null,
            "max_height": null,
            "align_content": null,
            "visibility": null,
            "align_self": null,
            "height": null,
            "min_height": null,
            "padding": null,
            "grid_auto_rows": null,
            "grid_gap": null,
            "max_width": null,
            "order": null,
            "_view_module_version": "1.2.0",
            "grid_template_areas": null,
            "object_position": null,
            "object_fit": null,
            "grid_auto_columns": null,
            "margin": null,
            "display": null,
            "left": null
          }
        },
        "98496f020a0b472887d7b235f3a9f8dc": {
          "model_module": "@jupyter-widgets/controls",
          "model_name": "DescriptionStyleModel",
          "state": {
            "_view_name": "StyleView",
            "_model_name": "DescriptionStyleModel",
            "description_width": "",
            "_view_module": "@jupyter-widgets/base",
            "_model_module_version": "1.5.0",
            "_view_count": null,
            "_view_module_version": "1.2.0",
            "_model_module": "@jupyter-widgets/controls"
          }
        },
        "cf2524454a7b4d26b853726175f1003c": {
          "model_module": "@jupyter-widgets/base",
          "model_name": "LayoutModel",
          "state": {
            "_view_name": "LayoutView",
            "grid_template_rows": null,
            "right": null,
            "justify_content": null,
            "_view_module": "@jupyter-widgets/base",
            "overflow": null,
            "_model_module_version": "1.2.0",
            "_view_count": null,
            "flex_flow": null,
            "width": null,
            "min_width": null,
            "border": null,
            "align_items": null,
            "bottom": null,
            "_model_module": "@jupyter-widgets/base",
            "top": null,
            "grid_column": null,
            "overflow_y": null,
            "overflow_x": null,
            "grid_auto_flow": null,
            "grid_area": null,
            "grid_template_columns": null,
            "flex": null,
            "_model_name": "LayoutModel",
            "justify_items": null,
            "grid_row": null,
            "max_height": null,
            "align_content": null,
            "visibility": null,
            "align_self": null,
            "height": null,
            "min_height": null,
            "padding": null,
            "grid_auto_rows": null,
            "grid_gap": null,
            "max_width": null,
            "order": null,
            "_view_module_version": "1.2.0",
            "grid_template_areas": null,
            "object_position": null,
            "object_fit": null,
            "grid_auto_columns": null,
            "margin": null,
            "display": null,
            "left": null
          }
        },
        "689e315e5e5747da90aa4d4325b70d79": {
          "model_module": "@jupyter-widgets/controls",
          "model_name": "HBoxModel",
          "state": {
            "_view_name": "HBoxView",
            "_dom_classes": [],
            "_model_name": "HBoxModel",
            "_view_module": "@jupyter-widgets/controls",
            "_model_module_version": "1.5.0",
            "_view_count": null,
            "_view_module_version": "1.5.0",
            "box_style": "",
            "layout": "IPY_MODEL_5d8e3f3da3f2454e9a8fb1d826b4d170",
            "_model_module": "@jupyter-widgets/controls",
            "children": [
              "IPY_MODEL_7a07ed1877f94d5a81f3e3a9ebbc9f50",
              "IPY_MODEL_f7bbf32f870044769216065a9ae951fb"
            ]
          }
        },
        "5d8e3f3da3f2454e9a8fb1d826b4d170": {
          "model_module": "@jupyter-widgets/base",
          "model_name": "LayoutModel",
          "state": {
            "_view_name": "LayoutView",
            "grid_template_rows": null,
            "right": null,
            "justify_content": null,
            "_view_module": "@jupyter-widgets/base",
            "overflow": null,
            "_model_module_version": "1.2.0",
            "_view_count": null,
            "flex_flow": null,
            "width": null,
            "min_width": null,
            "border": null,
            "align_items": null,
            "bottom": null,
            "_model_module": "@jupyter-widgets/base",
            "top": null,
            "grid_column": null,
            "overflow_y": null,
            "overflow_x": null,
            "grid_auto_flow": null,
            "grid_area": null,
            "grid_template_columns": null,
            "flex": null,
            "_model_name": "LayoutModel",
            "justify_items": null,
            "grid_row": null,
            "max_height": null,
            "align_content": null,
            "visibility": null,
            "align_self": null,
            "height": null,
            "min_height": null,
            "padding": null,
            "grid_auto_rows": null,
            "grid_gap": null,
            "max_width": null,
            "order": null,
            "_view_module_version": "1.2.0",
            "grid_template_areas": null,
            "object_position": null,
            "object_fit": null,
            "grid_auto_columns": null,
            "margin": null,
            "display": null,
            "left": null
          }
        },
        "7a07ed1877f94d5a81f3e3a9ebbc9f50": {
          "model_module": "@jupyter-widgets/controls",
          "model_name": "FloatProgressModel",
          "state": {
            "_view_name": "ProgressView",
            "style": "IPY_MODEL_df6af46030964d25853d70437663433b",
            "_dom_classes": [],
            "description": "Downloading: 100%",
            "_model_name": "FloatProgressModel",
            "bar_style": "success",
            "max": 231508,
            "_view_module": "@jupyter-widgets/controls",
            "_model_module_version": "1.5.0",
            "value": 231508,
            "_view_count": null,
            "_view_module_version": "1.5.0",
            "orientation": "horizontal",
            "min": 0,
            "description_tooltip": null,
            "_model_module": "@jupyter-widgets/controls",
            "layout": "IPY_MODEL_44064e0983a6487295b557b2dfc6af2b"
          }
        },
        "f7bbf32f870044769216065a9ae951fb": {
          "model_module": "@jupyter-widgets/controls",
          "model_name": "HTMLModel",
          "state": {
            "_view_name": "HTMLView",
            "style": "IPY_MODEL_d1efaba005b24b93b470b7ca09a56075",
            "_dom_classes": [],
            "description": "",
            "_model_name": "HTMLModel",
            "placeholder": "​",
            "_view_module": "@jupyter-widgets/controls",
            "_model_module_version": "1.5.0",
            "value": " 232k/232k [00:00&lt;00:00, 587kB/s]",
            "_view_count": null,
            "_view_module_version": "1.5.0",
            "description_tooltip": null,
            "_model_module": "@jupyter-widgets/controls",
            "layout": "IPY_MODEL_37ba6973f6364c68b4ca2c606f970a9b"
          }
        },
        "df6af46030964d25853d70437663433b": {
          "model_module": "@jupyter-widgets/controls",
          "model_name": "ProgressStyleModel",
          "state": {
            "_view_name": "StyleView",
            "_model_name": "ProgressStyleModel",
            "description_width": "initial",
            "_view_module": "@jupyter-widgets/base",
            "_model_module_version": "1.5.0",
            "_view_count": null,
            "_view_module_version": "1.2.0",
            "bar_color": null,
            "_model_module": "@jupyter-widgets/controls"
          }
        },
        "44064e0983a6487295b557b2dfc6af2b": {
          "model_module": "@jupyter-widgets/base",
          "model_name": "LayoutModel",
          "state": {
            "_view_name": "LayoutView",
            "grid_template_rows": null,
            "right": null,
            "justify_content": null,
            "_view_module": "@jupyter-widgets/base",
            "overflow": null,
            "_model_module_version": "1.2.0",
            "_view_count": null,
            "flex_flow": null,
            "width": null,
            "min_width": null,
            "border": null,
            "align_items": null,
            "bottom": null,
            "_model_module": "@jupyter-widgets/base",
            "top": null,
            "grid_column": null,
            "overflow_y": null,
            "overflow_x": null,
            "grid_auto_flow": null,
            "grid_area": null,
            "grid_template_columns": null,
            "flex": null,
            "_model_name": "LayoutModel",
            "justify_items": null,
            "grid_row": null,
            "max_height": null,
            "align_content": null,
            "visibility": null,
            "align_self": null,
            "height": null,
            "min_height": null,
            "padding": null,
            "grid_auto_rows": null,
            "grid_gap": null,
            "max_width": null,
            "order": null,
            "_view_module_version": "1.2.0",
            "grid_template_areas": null,
            "object_position": null,
            "object_fit": null,
            "grid_auto_columns": null,
            "margin": null,
            "display": null,
            "left": null
          }
        },
        "d1efaba005b24b93b470b7ca09a56075": {
          "model_module": "@jupyter-widgets/controls",
          "model_name": "DescriptionStyleModel",
          "state": {
            "_view_name": "StyleView",
            "_model_name": "DescriptionStyleModel",
            "description_width": "",
            "_view_module": "@jupyter-widgets/base",
            "_model_module_version": "1.5.0",
            "_view_count": null,
            "_view_module_version": "1.2.0",
            "_model_module": "@jupyter-widgets/controls"
          }
        },
        "37ba6973f6364c68b4ca2c606f970a9b": {
          "model_module": "@jupyter-widgets/base",
          "model_name": "LayoutModel",
          "state": {
            "_view_name": "LayoutView",
            "grid_template_rows": null,
            "right": null,
            "justify_content": null,
            "_view_module": "@jupyter-widgets/base",
            "overflow": null,
            "_model_module_version": "1.2.0",
            "_view_count": null,
            "flex_flow": null,
            "width": null,
            "min_width": null,
            "border": null,
            "align_items": null,
            "bottom": null,
            "_model_module": "@jupyter-widgets/base",
            "top": null,
            "grid_column": null,
            "overflow_y": null,
            "overflow_x": null,
            "grid_auto_flow": null,
            "grid_area": null,
            "grid_template_columns": null,
            "flex": null,
            "_model_name": "LayoutModel",
            "justify_items": null,
            "grid_row": null,
            "max_height": null,
            "align_content": null,
            "visibility": null,
            "align_self": null,
            "height": null,
            "min_height": null,
            "padding": null,
            "grid_auto_rows": null,
            "grid_gap": null,
            "max_width": null,
            "order": null,
            "_view_module_version": "1.2.0",
            "grid_template_areas": null,
            "object_position": null,
            "object_fit": null,
            "grid_auto_columns": null,
            "margin": null,
            "display": null,
            "left": null
          }
        },
        "f1127e91c4a74f759737e06fc390b9f5": {
          "model_module": "@jupyter-widgets/controls",
          "model_name": "HBoxModel",
          "state": {
            "_view_name": "HBoxView",
            "_dom_classes": [],
            "_model_name": "HBoxModel",
            "_view_module": "@jupyter-widgets/controls",
            "_model_module_version": "1.5.0",
            "_view_count": null,
            "_view_module_version": "1.5.0",
            "box_style": "",
            "layout": "IPY_MODEL_4fb1886e475e4bae953dccc9adde94e4",
            "_model_module": "@jupyter-widgets/controls",
            "children": [
              "IPY_MODEL_399519ed5b28480db787b4b3a319bfd3",
              "IPY_MODEL_0d956bb86c644b48a276a229ada9b2a2"
            ]
          }
        },
        "4fb1886e475e4bae953dccc9adde94e4": {
          "model_module": "@jupyter-widgets/base",
          "model_name": "LayoutModel",
          "state": {
            "_view_name": "LayoutView",
            "grid_template_rows": null,
            "right": null,
            "justify_content": null,
            "_view_module": "@jupyter-widgets/base",
            "overflow": null,
            "_model_module_version": "1.2.0",
            "_view_count": null,
            "flex_flow": null,
            "width": null,
            "min_width": null,
            "border": null,
            "align_items": null,
            "bottom": null,
            "_model_module": "@jupyter-widgets/base",
            "top": null,
            "grid_column": null,
            "overflow_y": null,
            "overflow_x": null,
            "grid_auto_flow": null,
            "grid_area": null,
            "grid_template_columns": null,
            "flex": null,
            "_model_name": "LayoutModel",
            "justify_items": null,
            "grid_row": null,
            "max_height": null,
            "align_content": null,
            "visibility": null,
            "align_self": null,
            "height": null,
            "min_height": null,
            "padding": null,
            "grid_auto_rows": null,
            "grid_gap": null,
            "max_width": null,
            "order": null,
            "_view_module_version": "1.2.0",
            "grid_template_areas": null,
            "object_position": null,
            "object_fit": null,
            "grid_auto_columns": null,
            "margin": null,
            "display": null,
            "left": null
          }
        },
        "399519ed5b28480db787b4b3a319bfd3": {
          "model_module": "@jupyter-widgets/controls",
          "model_name": "FloatProgressModel",
          "state": {
            "_view_name": "ProgressView",
            "style": "IPY_MODEL_7d36f3f24690453587a4279bcb65ea6b",
            "_dom_classes": [],
            "description": "Downloading: 100%",
            "_model_name": "FloatProgressModel",
            "bar_style": "success",
            "max": 190,
            "_view_module": "@jupyter-widgets/controls",
            "_model_module_version": "1.5.0",
            "value": 190,
            "_view_count": null,
            "_view_module_version": "1.5.0",
            "orientation": "horizontal",
            "min": 0,
            "description_tooltip": null,
            "_model_module": "@jupyter-widgets/controls",
            "layout": "IPY_MODEL_12f24aa402ec431cafd2423fe1c2485b"
          }
        },
        "0d956bb86c644b48a276a229ada9b2a2": {
          "model_module": "@jupyter-widgets/controls",
          "model_name": "HTMLModel",
          "state": {
            "_view_name": "HTMLView",
            "style": "IPY_MODEL_2069625916d046f58b0c87b6c0a3559c",
            "_dom_classes": [],
            "description": "",
            "_model_name": "HTMLModel",
            "placeholder": "​",
            "_view_module": "@jupyter-widgets/controls",
            "_model_module_version": "1.5.0",
            "value": " 190/190 [00:00&lt;00:00, 718B/s]",
            "_view_count": null,
            "_view_module_version": "1.5.0",
            "description_tooltip": null,
            "_model_module": "@jupyter-widgets/controls",
            "layout": "IPY_MODEL_f6151455fc2c45f5b510b960879fd515"
          }
        },
        "7d36f3f24690453587a4279bcb65ea6b": {
          "model_module": "@jupyter-widgets/controls",
          "model_name": "ProgressStyleModel",
          "state": {
            "_view_name": "StyleView",
            "_model_name": "ProgressStyleModel",
            "description_width": "initial",
            "_view_module": "@jupyter-widgets/base",
            "_model_module_version": "1.5.0",
            "_view_count": null,
            "_view_module_version": "1.2.0",
            "bar_color": null,
            "_model_module": "@jupyter-widgets/controls"
          }
        },
        "12f24aa402ec431cafd2423fe1c2485b": {
          "model_module": "@jupyter-widgets/base",
          "model_name": "LayoutModel",
          "state": {
            "_view_name": "LayoutView",
            "grid_template_rows": null,
            "right": null,
            "justify_content": null,
            "_view_module": "@jupyter-widgets/base",
            "overflow": null,
            "_model_module_version": "1.2.0",
            "_view_count": null,
            "flex_flow": null,
            "width": null,
            "min_width": null,
            "border": null,
            "align_items": null,
            "bottom": null,
            "_model_module": "@jupyter-widgets/base",
            "top": null,
            "grid_column": null,
            "overflow_y": null,
            "overflow_x": null,
            "grid_auto_flow": null,
            "grid_area": null,
            "grid_template_columns": null,
            "flex": null,
            "_model_name": "LayoutModel",
            "justify_items": null,
            "grid_row": null,
            "max_height": null,
            "align_content": null,
            "visibility": null,
            "align_self": null,
            "height": null,
            "min_height": null,
            "padding": null,
            "grid_auto_rows": null,
            "grid_gap": null,
            "max_width": null,
            "order": null,
            "_view_module_version": "1.2.0",
            "grid_template_areas": null,
            "object_position": null,
            "object_fit": null,
            "grid_auto_columns": null,
            "margin": null,
            "display": null,
            "left": null
          }
        },
        "2069625916d046f58b0c87b6c0a3559c": {
          "model_module": "@jupyter-widgets/controls",
          "model_name": "DescriptionStyleModel",
          "state": {
            "_view_name": "StyleView",
            "_model_name": "DescriptionStyleModel",
            "description_width": "",
            "_view_module": "@jupyter-widgets/base",
            "_model_module_version": "1.5.0",
            "_view_count": null,
            "_view_module_version": "1.2.0",
            "_model_module": "@jupyter-widgets/controls"
          }
        },
        "f6151455fc2c45f5b510b960879fd515": {
          "model_module": "@jupyter-widgets/base",
          "model_name": "LayoutModel",
          "state": {
            "_view_name": "LayoutView",
            "grid_template_rows": null,
            "right": null,
            "justify_content": null,
            "_view_module": "@jupyter-widgets/base",
            "overflow": null,
            "_model_module_version": "1.2.0",
            "_view_count": null,
            "flex_flow": null,
            "width": null,
            "min_width": null,
            "border": null,
            "align_items": null,
            "bottom": null,
            "_model_module": "@jupyter-widgets/base",
            "top": null,
            "grid_column": null,
            "overflow_y": null,
            "overflow_x": null,
            "grid_auto_flow": null,
            "grid_area": null,
            "grid_template_columns": null,
            "flex": null,
            "_model_name": "LayoutModel",
            "justify_items": null,
            "grid_row": null,
            "max_height": null,
            "align_content": null,
            "visibility": null,
            "align_self": null,
            "height": null,
            "min_height": null,
            "padding": null,
            "grid_auto_rows": null,
            "grid_gap": null,
            "max_width": null,
            "order": null,
            "_view_module_version": "1.2.0",
            "grid_template_areas": null,
            "object_position": null,
            "object_fit": null,
            "grid_auto_columns": null,
            "margin": null,
            "display": null,
            "left": null
          }
        }
      }
    }
  },
  "cells": [
    {
      "cell_type": "markdown",
      "metadata": {
        "id": "AcEAx1bU9fZj"
      },
      "source": [
        "What's different in this notebook?\n",
        "- ~~Spacy contextual spellcheck used for correcting context and background~~. Unfortunatel, it doesn't seem to work well.\n",
        "- Removed stop words and did stemming, lemmatization\n",
        "- Concatenated wiki_page, background, section_title\n",
        "- Use only the first question per context"
      ]
    },
    {
      "cell_type": "code",
      "metadata": {
        "id": "lIYdn1woOS1n"
      },
      "source": [
        "from boilerplate import *"
      ],
      "execution_count": null,
      "outputs": []
    },
    {
      "cell_type": "code",
      "metadata": {
        "id": "0RYq2zwLg3Xo",
        "colab": {
          "base_uri": "https://localhost:8080/"
        },
        "outputId": "917fff44-dc5e-415f-e25a-58fb03b40788"
      },
      "source": [
        "dataset = get_data(\"quac\")"
      ],
      "execution_count": null,
      "outputs": [
        {
          "output_type": "stream",
          "text": [
            "Reusing dataset quac (/root/.cache/huggingface/datasets/quac/plain_text/1.1.0/4170258e7e72d7c81bd6441b3f3489ea1544f0ff226ce61e22bb00c6e9d01fb6)\n"
          ],
          "name": "stderr"
        }
      ]
    },
    {
      "cell_type": "code",
      "metadata": {
        "id": "Pshtql_hhIRd"
      },
      "source": [
        "df = data_to_dataframe(dataset)"
      ],
      "execution_count": null,
      "outputs": []
    },
    {
      "cell_type": "code",
      "metadata": {
        "id": "HA3RWV2uhTG8",
        "colab": {
          "base_uri": "https://localhost:8080/"
        },
        "outputId": "4aeda7f1-a29c-4e8c-c95b-57322ae166a4"
      },
      "source": [
        "train, simple = df[0], df[2]\n",
        "df = quac_mediumdf(train)"
      ],
      "execution_count": null,
      "outputs": [
        {
          "output_type": "stream",
          "text": [
            "100%|██████████| 11567/11567 [00:11<00:00, 1032.99it/s]\n"
          ],
          "name": "stderr"
        }
      ]
    },
    {
      "cell_type": "code",
      "metadata": {
        "id": "inHJwX5lho2a",
        "colab": {
          "base_uri": "https://localhost:8080/",
          "height": 144
        },
        "outputId": "99d6bbdf-a918-4246-baa2-4be26a859b60"
      },
      "source": [
        "df[68:70]"
      ],
      "execution_count": null,
      "outputs": [
        {
          "output_type": "execute_result",
          "data": {
            "text/html": [
              "<div>\n",
              "<style scoped>\n",
              "    .dataframe tbody tr th:only-of-type {\n",
              "        vertical-align: middle;\n",
              "    }\n",
              "\n",
              "    .dataframe tbody tr th {\n",
              "        vertical-align: top;\n",
              "    }\n",
              "\n",
              "    .dataframe thead th {\n",
              "        text-align: right;\n",
              "    }\n",
              "</style>\n",
              "<table border=\"1\" class=\"dataframe\">\n",
              "  <thead>\n",
              "    <tr style=\"text-align: right;\">\n",
              "      <th></th>\n",
              "      <th>wiki_page</th>\n",
              "      <th>background</th>\n",
              "      <th>section_title</th>\n",
              "      <th>context</th>\n",
              "      <th>question</th>\n",
              "      <th>answer</th>\n",
              "    </tr>\n",
              "  </thead>\n",
              "  <tbody>\n",
              "    <tr>\n",
              "      <th>68</th>\n",
              "      <td>Hunter S. Thompson</td>\n",
              "      <td>Thompson was born into a middle-class family i...</td>\n",
              "      <td>Fear and Loathing in Las Vegas</td>\n",
              "      <td>The book for which Thompson gained most of his...</td>\n",
              "      <td>What is Fear and Loathing in Las Vegas?</td>\n",
              "      <td>The result of the trip to Las Vegas became the...</td>\n",
              "    </tr>\n",
              "    <tr>\n",
              "      <th>69</th>\n",
              "      <td>Hunter S. Thompson</td>\n",
              "      <td>Thompson was born into a middle-class family i...</td>\n",
              "      <td>Fear and Loathing in Las Vegas</td>\n",
              "      <td>The book for which Thompson gained most of his...</td>\n",
              "      <td>Did it do well?</td>\n",
              "      <td>the book was greeted with considerable critica...</td>\n",
              "    </tr>\n",
              "  </tbody>\n",
              "</table>\n",
              "</div>"
            ],
            "text/plain": [
              "             wiki_page  ...                                             answer\n",
              "68  Hunter S. Thompson  ...  The result of the trip to Las Vegas became the...\n",
              "69  Hunter S. Thompson  ...  the book was greeted with considerable critica...\n",
              "\n",
              "[2 rows x 6 columns]"
            ]
          },
          "metadata": {
            "tags": []
          },
          "execution_count": 6
        }
      ]
    },
    {
      "cell_type": "markdown",
      "metadata": {
        "id": "waNhqZtHLUY0"
      },
      "source": [
        "Following functon is made so that the dataframe has one context only"
      ]
    },
    {
      "cell_type": "code",
      "metadata": {
        "colab": {
          "base_uri": "https://localhost:8080/"
        },
        "id": "Tsom3fy-GnZJ",
        "outputId": "d26f2b8d-a456-4d25-b891-6331cd62fc54"
      },
      "source": [
        "first_ques_df = train\n",
        "def create_first_ques_df_quac(df):\n",
        "    data = []\n",
        "    for i in tqdm(range(len(df))):\n",
        "        question = df.iloc[i, 6][0]\n",
        "        answer = df.iloc[i, 10][\"texts\"][0]\n",
        "        data.append([df.iloc[i, 1], df.iloc[i, 2], df.iloc[i, 3], df.iloc[i, 4], question, answer])\n",
        "    df = pd.DataFrame(data, columns=[\"wiki_page\", \"background\", \"section_title\", \"context\", \"question\", \"answer\"])\n",
        "    return df\n",
        "df = create_first_ques_df_quac(first_ques_df)"
      ],
      "execution_count": null,
      "outputs": [
        {
          "output_type": "stream",
          "text": [
            "100%|██████████| 11567/11567 [00:01<00:00, 6260.71it/s]\n"
          ],
          "name": "stderr"
        }
      ]
    },
    {
      "cell_type": "code",
      "metadata": {
        "id": "3uPLqwxxh2k5"
      },
      "source": [
        "unanswerable = df[df[\"answer\"]==\"CANNOTANSWER\"]\n",
        "answerable = df[df[\"answer\"]!=\"CANNOTANSWER\"]\n",
        "# unanswerable.head()"
      ],
      "execution_count": null,
      "outputs": []
    },
    {
      "cell_type": "code",
      "metadata": {
        "id": "86TKw5EJk8oJ",
        "colab": {
          "base_uri": "https://localhost:8080/"
        },
        "outputId": "da612f48-c458-434b-8165-1748a231fb80"
      },
      "source": [
        "len(answerable), len(unanswerable)"
      ],
      "execution_count": null,
      "outputs": [
        {
          "output_type": "execute_result",
          "data": {
            "text/plain": [
              "(10730, 837)"
            ]
          },
          "metadata": {
            "tags": []
          },
          "execution_count": 9
        }
      ]
    },
    {
      "cell_type": "code",
      "metadata": {
        "id": "KEfHF3_wlh9z",
        "colab": {
          "base_uri": "https://localhost:8080/"
        },
        "outputId": "8802b907-da5a-4c9b-ac35-3713467a98d1"
      },
      "source": [
        "df[\"answer\"].value_counts()"
      ],
      "execution_count": null,
      "outputs": [
        {
          "output_type": "execute_result",
          "data": {
            "text/plain": [
              "CANNOTANSWER                                                                                   837\n",
              "album                                                                                            7\n",
              "The whereabouts of McDaniel's Oscar are currently unknown.                                       7\n",
              "1986                                                                                             6\n",
              "In 1981, Colter and her husband returned to release a duet album entitled Leather and Lace.      5\n",
              "                                                                                              ... \n",
              "Brown was one of the nation's few liberal big city mayors when he was elected in 1996.           1\n",
              "marathon                                                                                         1\n",
              "Seven-year-old Bok was captured by Giemma, a member of the slave hunting militia,                1\n",
              "her first album and major-label debut. The album, The Spirit Room,                               1\n",
              "in particular in understanding the basis of international conflict.                              1\n",
              "Name: answer, Length: 9960, dtype: int64"
            ]
          },
          "metadata": {
            "tags": []
          },
          "execution_count": 10
        }
      ]
    },
    {
      "cell_type": "code",
      "metadata": {
        "id": "bak3rxoh_CLb"
      },
      "source": [
        "medium_df = df"
      ],
      "execution_count": null,
      "outputs": []
    },
    {
      "cell_type": "code",
      "metadata": {
        "id": "Hxou72FF5PIk"
      },
      "source": [
        "medium_df[\"answerable\"] = medium_df[\"answer\"].apply(lambda x: 0 if x==\"CANNOTANSWER\" else 1)"
      ],
      "execution_count": null,
      "outputs": []
    },
    {
      "cell_type": "code",
      "metadata": {
        "id": "6pbawOVC5R_N",
        "colab": {
          "base_uri": "https://localhost:8080/",
          "height": 295
        },
        "outputId": "39e26844-da7a-4111-9c77-6682be1acec8"
      },
      "source": [
        "import seaborn as sns\n",
        "import matplotlib.pyplot as plt\n",
        "cnt = medium_df[\"answerable\"].value_counts()\n",
        "g0 = sns.barplot(x = cnt.index, y= cnt.values)\n",
        "g0.set_title(\"How many questions are answerable?\")\n",
        "g0.set_xlabel(\"0 - unanswerable, 1 - answerable\")\n",
        "g0.set_ylabel(\"Total count\")\n",
        "plt.show()"
      ],
      "execution_count": null,
      "outputs": [
        {
          "output_type": "display_data",
          "data": {
            "image/png": "[encoded data removed]",
            "text/plain": [
              "<Figure size 432x288 with 1 Axes>"
            ]
          },
          "metadata": {
            "tags": [],
            "needs_background": "light"
          }
        }
      ]
    },
    {
      "cell_type": "code",
      "metadata": {
        "id": "pNl-DrFolpDz"
      },
      "source": [
        "df[\"context_length\"] = df[\"context\"].apply(lambda input: len(input))\n",
        "df[\"answer_length\"] = df[\"answer\"].apply(lambda input: len(str(input)))\n",
        "df[\"question_length\"] = df[\"question\"].apply(lambda input: len(input))\n",
        "df[\"background_length\"] = df[\"background\"].apply(lambda input: len(input))"
      ],
      "execution_count": null,
      "outputs": []
    },
    {
      "cell_type": "code",
      "metadata": {
        "id": "bGFDLmTml-Gf",
        "colab": {
          "base_uri": "https://localhost:8080/",
          "height": 245
        },
        "outputId": "74d9b98b-e89d-41fb-be68-25f9b7ac4074"
      },
      "source": [
        "df[:2]"
      ],
      "execution_count": null,
      "outputs": [
        {
          "output_type": "execute_result",
          "data": {
            "text/html": [
              "<div>\n",
              "<style scoped>\n",
              "    .dataframe tbody tr th:only-of-type {\n",
              "        vertical-align: middle;\n",
              "    }\n",
              "\n",
              "    .dataframe tbody tr th {\n",
              "        vertical-align: top;\n",
              "    }\n",
              "\n",
              "    .dataframe thead th {\n",
              "        text-align: right;\n",
              "    }\n",
              "</style>\n",
              "<table border=\"1\" class=\"dataframe\">\n",
              "  <thead>\n",
              "    <tr style=\"text-align: right;\">\n",
              "      <th></th>\n",
              "      <th>wiki_page</th>\n",
              "      <th>background</th>\n",
              "      <th>section_title</th>\n",
              "      <th>context</th>\n",
              "      <th>question</th>\n",
              "      <th>answer</th>\n",
              "      <th>answerable</th>\n",
              "      <th>context_length</th>\n",
              "      <th>answer_length</th>\n",
              "      <th>question_length</th>\n",
              "      <th>background_length</th>\n",
              "    </tr>\n",
              "  </thead>\n",
              "  <tbody>\n",
              "    <tr>\n",
              "      <th>0</th>\n",
              "      <td>Malayali</td>\n",
              "      <td>The Malayali people or Keralite people (also s...</td>\n",
              "      <td>Geographic distribution and population</td>\n",
              "      <td>According to the Indian census of 2001, there ...</td>\n",
              "      <td>Where is Malayali located?</td>\n",
              "      <td>30,803,747 speakers of Malayalam in Kerala, ma...</td>\n",
              "      <td>1</td>\n",
              "      <td>2036</td>\n",
              "      <td>111</td>\n",
              "      <td>26</td>\n",
              "      <td>580</td>\n",
              "    </tr>\n",
              "    <tr>\n",
              "      <th>1</th>\n",
              "      <td>Malayali</td>\n",
              "      <td>The Malayali people or Keralite people (also s...</td>\n",
              "      <td>Language and literature</td>\n",
              "      <td>Malayalam is the language spoken by the Malaya...</td>\n",
              "      <td>what language do they speak?</td>\n",
              "      <td>Malayalam is the language spoken by the Malaya...</td>\n",
              "      <td>1</td>\n",
              "      <td>2850</td>\n",
              "      <td>50</td>\n",
              "      <td>28</td>\n",
              "      <td>580</td>\n",
              "    </tr>\n",
              "  </tbody>\n",
              "</table>\n",
              "</div>"
            ],
            "text/plain": [
              "  wiki_page  ... background_length\n",
              "0  Malayali  ...               580\n",
              "1  Malayali  ...               580\n",
              "\n",
              "[2 rows x 11 columns]"
            ]
          },
          "metadata": {
            "tags": []
          },
          "execution_count": 15
        }
      ]
    },
    {
      "cell_type": "code",
      "metadata": {
        "id": "_nvNGpMLDxtJ"
      },
      "source": [
        "# !python install contextualSpellCheck\n",
        "!python -m spacy download en_core_web_sm"
      ],
      "execution_count": null,
      "outputs": []
    },
    {
      "cell_type": "code",
      "metadata": {
        "colab": {
          "base_uri": "https://localhost:8080/",
          "height": 202,
          "referenced_widgets": [
            "e9dea12f00a74f8bbe94eae974131633",
            "f3a533b6ce9840f0ad1d4886f1e772ba",
            "6b2c911bcb274695944be6f26df9ce65",
            "37e80ebac2f8449b80510c021a7c5629",
            "db4575864627415facaf1231c70f73ef",
            "d0cb056805ed460c8f3aa5f91a5525e0",
            "e4ee7be0b51f452ca2ddcc7e0fa89d27",
            "41e3a2af2dbc4a97a41ec05754e785ab",
            "ce65aded4a2d4bdd8dfbe35951b74dd9",
            "58a2631a22f845ea91eaba7dc8f565bf",
            "49414b4d1daa4e63a56c64ec29b388d5",
            "39a3967bde344dee8a9f383bd8b7de83",
            "d83540f16eec43aebf4d4766e5fb70f5",
            "3229a1c272764c1799b70803348cf499",
            "628a13cf83de46babd1492f4afa87d0f",
            "3b96386853664880bcb2634e532af260",
            "14f7caf8aebd487180862c97deea5572",
            "a3cf635e12854e9db8ae2c0d5a21071b",
            "ea6d8e7d0f8942dd8e9ebbb10e625f0a",
            "75a6aa03295c4eb8997689859c6227cb",
            "3b24a30ec463411ab027f9c416441658",
            "7b2d63ab0708495993449f8b10401d7a",
            "6708d9984625488495310f9941e593f7",
            "9a5efadc553f42898c5af66cec17304f"
          ]
        },
        "id": "fz_fQLHuB3z6",
        "outputId": "4d9e986a-57d7-41fe-e48a-1a6e67a11555"
      },
      "source": [
        "import spacy\n",
        "import contextualSpellCheck\n",
        "nlp = spacy.load(\"en_core_web_sm\")\n",
        "contextualSpellCheck.add_to_pipe(nlp)\n",
        "text = nlp(\"Just typing this to check if the contextua spell check works or not\")\n",
        "print(text._.performed_spellCheck)\n",
        "text._.outcome_spellCheck"
      ],
      "execution_count": null,
      "outputs": [
        {
          "output_type": "display_data",
          "data": {
            "application/vnd.jupyter.widget-view+json": {
              "model_id": "e9dea12f00a74f8bbe94eae974131633",
              "version_minor": 0,
              "version_major": 2
            },
            "text/plain": [
              "HBox(children=(FloatProgress(value=0.0, description='Downloading', max=570.0, style=ProgressStyle(description_…"
            ]
          },
          "metadata": {
            "tags": []
          }
        },
        {
          "output_type": "stream",
          "text": [
            "\n"
          ],
          "name": "stdout"
        },
        {
          "output_type": "display_data",
          "data": {
            "application/vnd.jupyter.widget-view+json": {
              "model_id": "ce65aded4a2d4bdd8dfbe35951b74dd9",
              "version_minor": 0,
              "version_major": 2
            },
            "text/plain": [
              "HBox(children=(FloatProgress(value=0.0, description='Downloading', max=213450.0, style=ProgressStyle(descripti…"
            ]
          },
          "metadata": {
            "tags": []
          }
        },
        {
          "output_type": "stream",
          "text": [
            "\n"
          ],
          "name": "stdout"
        },
        {
          "output_type": "display_data",
          "data": {
            "application/vnd.jupyter.widget-view+json": {
              "model_id": "14f7caf8aebd487180862c97deea5572",
              "version_minor": 0,
              "version_major": 2
            },
            "text/plain": [
              "HBox(children=(FloatProgress(value=0.0, description='Downloading', max=435779157.0, style=ProgressStyle(descri…"
            ]
          },
          "metadata": {
            "tags": []
          }
        },
        {
          "output_type": "stream",
          "text": [
            "\n",
            "True\n"
          ],
          "name": "stdout"
        },
        {
          "output_type": "execute_result",
          "data": {
            "application/vnd.google.colaboratory.intrinsic+json": {
              "type": "string"
            },
            "text/plain": [
              "'Just typing this to check if the next spell check works or not'"
            ]
          },
          "metadata": {
            "tags": []
          },
          "execution_count": 17
        }
      ]
    },
    {
      "cell_type": "code",
      "metadata": {
        "colab": {
          "base_uri": "https://localhost:8080/"
        },
        "id": "tqd65rxqU1x4",
        "outputId": "2851c9b7-9b58-4a07-c5c2-884501268a7c"
      },
      "source": [
        "# Why spacy contextual spellcheck didn't work\n",
        "text = nlp(\"Jus a variety of sentences where the spacy contextual spell check is failing\")\n",
        "print(text._.outcome_spellCheck)"
      ],
      "execution_count": null,
      "outputs": [
        {
          "output_type": "stream",
          "text": [
            "and a variety of sentences where the same or spell check is failing\n"
          ],
          "name": "stdout"
        }
      ]
    },
    {
      "cell_type": "code",
      "metadata": {
        "id": "eE2OiorBEBtm"
      },
      "source": [
        "# Contextual correction of context and background columns\n",
        "# def typo_correction(text):\n",
        "#     text = nlp(text)\n",
        "#     return text\n",
        "# df[\"context\"] = df[\"context\"].apply(typo_correction)\n",
        "# df[\"background\"] = df[\"background\"].apply(typo_correction)\n",
        "# df[\"question\"] = df[\"question\"].apply(typo_correction)"
      ],
      "execution_count": null,
      "outputs": []
    },
    {
      "cell_type": "markdown",
      "metadata": {
        "id": "coeBUmsGONM-"
      },
      "source": [
        "Plotting the frequency of character length in various columns like context, background, questions"
      ]
    },
    {
      "cell_type": "code",
      "metadata": {
        "id": "gwyjO0LVmTjf",
        "colab": {
          "base_uri": "https://localhost:8080/",
          "height": 609
        },
        "outputId": "48d4e5f8-4148-4245-9d96-abbc27975d08"
      },
      "source": [
        "import matplotlib.pyplot as plt\n",
        "plt.figure(figsize=(20,10))\n",
        "df[\"context_length\"].hist(bins = 100)"
      ],
      "execution_count": null,
      "outputs": [
        {
          "output_type": "execute_result",
          "data": {
            "text/plain": [
              "<matplotlib.axes._subplots.AxesSubplot at 0x7fd8c3223ad0>"
            ]
          },
          "metadata": {
            "tags": []
          },
          "execution_count": 20
        },
        {
          "output_type": "display_data",
          "data": {
            "image/png": "[encoded data removed]",
            "text/plain": [
              "<Figure size 1440x720 with 1 Axes>"
            ]
          },
          "metadata": {
            "tags": [],
            "needs_background": "light"
          }
        }
      ]
    },
    {
      "cell_type": "code",
      "metadata": {
        "id": "D6Hy_xFtmeah",
        "colab": {
          "base_uri": "https://localhost:8080/",
          "height": 609
        },
        "outputId": "ee859999-2d45-45b9-8b39-5a92156f05cd"
      },
      "source": [
        "plt.figure(figsize=(20,10))\n",
        "df[\"question_length\"].hist(bins = 100)"
      ],
      "execution_count": null,
      "outputs": [
        {
          "output_type": "execute_result",
          "data": {
            "text/plain": [
              "<matplotlib.axes._subplots.AxesSubplot at 0x7fd8b9942710>"
            ]
          },
          "metadata": {
            "tags": []
          },
          "execution_count": 21
        },
        {
          "output_type": "display_data",
          "data": {
            "image/png": "[encoded data removed]",
            "text/plain": [
              "<Figure size 1440x720 with 1 Axes>"
            ]
          },
          "metadata": {
            "tags": [],
            "needs_background": "light"
          }
        }
      ]
    },
    {
      "cell_type": "code",
      "metadata": {
        "id": "wF-TF4gfmnkB",
        "colab": {
          "base_uri": "https://localhost:8080/",
          "height": 609
        },
        "outputId": "baec65bf-4cee-48bd-9359-4224909c12a9"
      },
      "source": [
        "plt.figure(figsize=(20,10))\n",
        "df[\"background_length\"].hist(bins = 100)"
      ],
      "execution_count": null,
      "outputs": [
        {
          "output_type": "execute_result",
          "data": {
            "text/plain": [
              "<matplotlib.axes._subplots.AxesSubplot at 0x7fd8c4739850>"
            ]
          },
          "metadata": {
            "tags": []
          },
          "execution_count": 22
        },
        {
          "output_type": "display_data",
          "data": {
            "image/png": "[encoded data removed]",
            "text/plain": [
              "<Figure size 1440x720 with 1 Axes>"
            ]
          },
          "metadata": {
            "tags": [],
            "needs_background": "light"
          }
        }
      ]
    },
    {
      "cell_type": "markdown",
      "metadata": {
        "id": "-1mP9yOYOZB8"
      },
      "source": [
        "Creating a plot of highest occuring n-grams"
      ]
    },
    {
      "cell_type": "code",
      "metadata": {
        "id": "pY8C8ZYum14_",
        "colab": {
          "base_uri": "https://localhost:8080/",
          "height": 1000
        },
        "outputId": "f4cc7ce5-e08b-4244-fac4-a2d00ac79448"
      },
      "source": [
        "plt.figure(figsize=(20,10))\n",
        "from sklearn.feature_extraction.text import CountVectorizer\n",
        "def get_top_n_words(corpus, n=None):\n",
        "    vec = CountVectorizer(stop_words = 'english').fit(corpus)\n",
        "    bag_of_words = vec.transform(corpus)\n",
        "    sum_words = bag_of_words.sum(axis=0) \n",
        "    words_freq = [(word, sum_words[0, idx]) for word, idx in vec.vocabulary_.items()]\n",
        "    words_freq =sorted(words_freq, key = lambda x: x[1], reverse=True)\n",
        "    return words_freq[:n]\n",
        "common_words = get_top_n_words(df['context'], 40)\n",
        "for word, freq in common_words:\n",
        "    print(word, freq)\n",
        "df2 = pd.DataFrame(common_words, columns = ['context' , 'count'])\n",
        "df2.groupby('context').sum()['count'].sort_values(ascending=False).plot(\n",
        "    kind='bar', ylabel='Count', title='Top 40 words in context after removing stop words')"
      ],
      "execution_count": null,
      "outputs": [
        {
          "output_type": "stream",
          "text": [
            "album 15819\n",
            "band 13216\n",
            "cannotanswer 11567\n",
            "new 10839\n",
            "time 9546\n",
            "released 9386\n",
            "later 7803\n",
            "year 7501\n",
            "music 7077\n",
            "film 6242\n",
            "years 5948\n",
            "single 5627\n",
            "song 5553\n",
            "second 5233\n",
            "group 5121\n",
            "tour 4895\n",
            "world 4849\n",
            "season 4621\n",
            "played 4609\n",
            "record 4588\n",
            "said 4509\n",
            "team 4322\n",
            "number 4274\n",
            "songs 3900\n",
            "work 3900\n",
            "including 3848\n",
            "did 3801\n",
            "began 3781\n",
            "best 3763\n",
            "early 3758\n",
            "series 3724\n",
            "school 3652\n",
            "won 3650\n",
            "career 3360\n",
            "life 3315\n",
            "american 3306\n",
            "records 3289\n",
            "release 3289\n",
            "called 3277\n",
            "following 3271\n"
          ],
          "name": "stdout"
        },
        {
          "output_type": "execute_result",
          "data": {
            "text/plain": [
              "<matplotlib.axes._subplots.AxesSubplot at 0x7fd8b965ec10>"
            ]
          },
          "metadata": {
            "tags": []
          },
          "execution_count": 23
        },
        {
          "output_type": "display_data",
          "data": {
            "image/png": "[encoded data removed]",
            "text/plain": [
              "<Figure size 1440x720 with 1 Axes>"
            ]
          },
          "metadata": {
            "tags": [],
            "needs_background": "light"
          }
        }
      ]
    },
    {
      "cell_type": "code",
      "metadata": {
        "id": "ex_qSX5OnWPS",
        "colab": {
          "base_uri": "https://localhost:8080/",
          "height": 1000
        },
        "outputId": "7a6a1bf8-73c1-4a29-f390-ae1619fb5e3b"
      },
      "source": [
        "plt.figure(figsize=(20,10))\n",
        "def get_top_n_bigram(corpus, n=None):\n",
        "    vec = CountVectorizer(ngram_range=(2, 2), stop_words='english').fit(corpus)\n",
        "    bag_of_words = vec.transform(corpus)\n",
        "    sum_words = bag_of_words.sum(axis=0) \n",
        "    words_freq = [(word, sum_words[0, idx]) for word, idx in vec.vocabulary_.items()]\n",
        "    words_freq =sorted(words_freq, key = lambda x: x[1], reverse=True)\n",
        "    return words_freq[:n]\n",
        "common_words = get_top_n_bigram(df['context'], 40)\n",
        "for word, freq in common_words:\n",
        "    print(word, freq)\n",
        "df3 = pd.DataFrame(common_words, columns = ['context' , 'count'])\n",
        "df3.groupby('context').sum()['count'].sort_values(ascending=False).plot(\n",
        "    kind='bar', ylabel='Count', title='Top 40 bigrams in context after removing stop words')"
      ],
      "execution_count": null,
      "outputs": [
        {
          "output_type": "stream",
          "text": [
            "new york 3170\n",
            "united states 2261\n",
            "high school 1189\n",
            "los angeles 1141\n",
            "studio album 977\n",
            "york city 745\n",
            "debut album 675\n",
            "hot 100 629\n",
            "music video 592\n",
            "album released 586\n",
            "years later 578\n",
            "billboard 200 568\n",
            "world war 566\n",
            "award best 566\n",
            "hall fame 559\n",
            "year old 541\n",
            "following year 534\n",
            "second album 512\n",
            "000 copies 496\n",
            "billboard hot 477\n",
            "hip hop 457\n",
            "band released 421\n",
            "later year 415\n",
            "san francisco 411\n",
            "new album 410\n",
            "million copies 407\n",
            "rock roll 404\n",
            "reached number 404\n",
            "peaked number 400\n",
            "years old 392\n",
            "world cup 384\n",
            "second single 373\n",
            "band members 371\n",
            "released single 371\n",
            "lead single 371\n",
            "released album 363\n",
            "solo album 353\n",
            "singles chart 351\n",
            "york times 349\n",
            "albums chart 343\n"
          ],
          "name": "stdout"
        },
        {
          "output_type": "execute_result",
          "data": {
            "text/plain": [
              "<matplotlib.axes._subplots.AxesSubplot at 0x7fd8b86a4090>"
            ]
          },
          "metadata": {
            "tags": []
          },
          "execution_count": 24
        },
        {
          "output_type": "display_data",
          "data": {
            "image/png": "[encoded data removed]",
            "text/plain": [
              "<Figure size 1440x720 with 1 Axes>"
            ]
          },
          "metadata": {
            "tags": [],
            "needs_background": "light"
          }
        }
      ]
    },
    {
      "cell_type": "code",
      "metadata": {
        "id": "lyt4gKy5nlky"
      },
      "source": [
        "def question_tagging(question):\n",
        "    question = question.lower()\n",
        "    \n",
        "    if \"what\" in question:\n",
        "       return \"what\"\n",
        "    elif \"when\" in question:\n",
        "        return \"when\"\n",
        "    elif \"who\" in question:\n",
        "        return \"who\"\n",
        "    elif \"how\" in question:\n",
        "        return \"how\"\n",
        "    elif \"which\" in question:\n",
        "        return \"which\"\n",
        "    elif \"where\" in question:\n",
        "        return \"where\"\n",
        "    elif \"why\" in question:\n",
        "        return \"why\"\n",
        "    elif \"did\" in question:\n",
        "        return \"did\"\n",
        "    elif \"does\" in question:\n",
        "        return \"does\"\n",
        "    elif \"if\" in question:\n",
        "        return \"if\"\n",
        "    elif \"else\" in question:\n",
        "        return \"else\"\n",
        "    else:\n",
        "      return \"others\""
      ],
      "execution_count": null,
      "outputs": []
    },
    {
      "cell_type": "code",
      "metadata": {
        "id": "sxIPhFArnu_Z",
        "colab": {
          "base_uri": "https://localhost:8080/",
          "height": 624
        },
        "outputId": "c983682d-b889-4853-8c36-4fb805bba214"
      },
      "source": [
        "import seaborn as sns\n",
        "plt.figure(figsize=(20,10))\n",
        "df[\"question_type\"] = df[\"question\"].apply(question_tagging)\n",
        "sns.countplot(x=\"question_type\",data = df, order = [\"what\",\"who\",\"how\",\"which\", \"when\",\"where\",\"why\",\"did\", \"does\", \"if\", \"else\", \"others\"])"
      ],
      "execution_count": null,
      "outputs": [
        {
          "output_type": "execute_result",
          "data": {
            "text/plain": [
              "<matplotlib.axes._subplots.AxesSubplot at 0x7fd8b843df50>"
            ]
          },
          "metadata": {
            "tags": []
          },
          "execution_count": 26
        },
        {
          "output_type": "display_data",
          "data": {
            "image/png": "[encoded data removed]",
            "text/plain": [
              "<Figure size 1440x720 with 1 Axes>"
            ]
          },
          "metadata": {
            "tags": [],
            "needs_background": "light"
          }
        }
      ]
    },
    {
      "cell_type": "code",
      "metadata": {
        "id": "cRfODi1vnzsT",
        "colab": {
          "base_uri": "https://localhost:8080/",
          "height": 315
        },
        "outputId": "85a0848a-7bb4-4251-973a-8ba50804cd69"
      },
      "source": [
        "df[df[\"question_type\"] == \"others\"].head(2)"
      ],
      "execution_count": null,
      "outputs": [
        {
          "output_type": "execute_result",
          "data": {
            "text/html": [
              "<div>\n",
              "<style scoped>\n",
              "    .dataframe tbody tr th:only-of-type {\n",
              "        vertical-align: middle;\n",
              "    }\n",
              "\n",
              "    .dataframe tbody tr th {\n",
              "        vertical-align: top;\n",
              "    }\n",
              "\n",
              "    .dataframe thead th {\n",
              "        text-align: right;\n",
              "    }\n",
              "</style>\n",
              "<table border=\"1\" class=\"dataframe\">\n",
              "  <thead>\n",
              "    <tr style=\"text-align: right;\">\n",
              "      <th></th>\n",
              "      <th>wiki_page</th>\n",
              "      <th>background</th>\n",
              "      <th>section_title</th>\n",
              "      <th>context</th>\n",
              "      <th>question</th>\n",
              "      <th>answer</th>\n",
              "      <th>answerable</th>\n",
              "      <th>context_length</th>\n",
              "      <th>answer_length</th>\n",
              "      <th>question_length</th>\n",
              "      <th>background_length</th>\n",
              "      <th>question_type</th>\n",
              "    </tr>\n",
              "  </thead>\n",
              "  <tbody>\n",
              "    <tr>\n",
              "      <th>13</th>\n",
              "      <td>Buddy Hackett</td>\n",
              "      <td>Hackett was born in Brooklyn, New York to Anna...</td>\n",
              "      <td>Stanley</td>\n",
              "      <td>Hackett starred as the title character on NBC-...</td>\n",
              "      <td>Was Stanley a character he played?</td>\n",
              "      <td>Hackett starred as the title character on NBC-...</td>\n",
              "      <td>1</td>\n",
              "      <td>1714</td>\n",
              "      <td>69</td>\n",
              "      <td>34</td>\n",
              "      <td>274</td>\n",
              "      <td>others</td>\n",
              "    </tr>\n",
              "    <tr>\n",
              "      <th>37</th>\n",
              "      <td>The Vicomte of Bragelonne: Ten Years Later</td>\n",
              "      <td>The Vicomte of Bragelonne: Ten Years Later (Fr...</td>\n",
              "      <td>Part Two: Louise de la Valliere (Chapters 94-180)</td>\n",
              "      <td>This part mostly concerns romantic events at t...</td>\n",
              "      <td>Was chapter 94 eventful?</td>\n",
              "      <td>This part mostly concerns romantic events at t...</td>\n",
              "      <td>1</td>\n",
              "      <td>2400</td>\n",
              "      <td>68</td>\n",
              "      <td>24</td>\n",
              "      <td>168</td>\n",
              "      <td>others</td>\n",
              "    </tr>\n",
              "  </tbody>\n",
              "</table>\n",
              "</div>"
            ],
            "text/plain": [
              "                                     wiki_page  ... question_type\n",
              "13                               Buddy Hackett  ...        others\n",
              "37  The Vicomte of Bragelonne: Ten Years Later  ...        others\n",
              "\n",
              "[2 rows x 12 columns]"
            ]
          },
          "metadata": {
            "tags": []
          },
          "execution_count": 27
        }
      ]
    },
    {
      "cell_type": "code",
      "metadata": {
        "id": "rdXes_WPoUhd"
      },
      "source": [
        "!pip3 install bertopic[all] -q"
      ],
      "execution_count": null,
      "outputs": []
    },
    {
      "cell_type": "code",
      "metadata": {
        "id": "yiCNPkITolgc"
      },
      "source": [
        "from bertopic import BERTopic"
      ],
      "execution_count": null,
      "outputs": []
    },
    {
      "cell_type": "markdown",
      "metadata": {
        "id": "tpmsjIp4Wlp_"
      },
      "source": [
        "Stemming and lemmatizing the context and background"
      ]
    },
    {
      "cell_type": "code",
      "metadata": {
        "colab": {
          "base_uri": "https://localhost:8080/"
        },
        "id": "bMHCDeSZeWAd",
        "outputId": "bbb28b30-1501-4cea-9121-8380458ec2db"
      },
      "source": [
        "import nltk\n",
        "from nltk.stem import WordNetLemmatizer, PorterStemmer\n",
        "from nltk.tokenize import word_tokenize\n",
        "# nltk.download(\"wordnet\")\n",
        "nltk.download(\"punkt\")\n",
        "load_model = spacy.load('en_core_web_sm',disable=[\"parser\",\"ner\"])\n",
        "sp = spacy.load('en_core_web_sm')"
      ],
      "execution_count": null,
      "outputs": [
        {
          "output_type": "stream",
          "text": [
            "[nltk_data] Downloading package punkt to /root/nltk_data...\n",
            "[nltk_data]   Package punkt is already up-to-date!\n"
          ],
          "name": "stdout"
        }
      ]
    },
    {
      "cell_type": "code",
      "metadata": {
        "id": "l5AF0LdSpyi5"
      },
      "source": [
        "def data_preprocess_lemmitize(text):\n",
        "    # Remove Stop Words\n",
        "    all_stopwords = sp.Defaults.stop_words\n",
        "    text_tokens = word_tokenize(text)\n",
        "    tokens_without_sw= [word for word in text_tokens if not word in all_stopwords]\n",
        "    new_text = ' '.join(tokens_without_sw)\n",
        "  \n",
        "    # Spell Check and Correction\n",
        "    #new_text = sp(new_text)._.outcome_spellCheck\n",
        "  \n",
        "    #Perform lemmitization\n",
        "    doc = load_model(new_text)\n",
        "    new_text = \" \".join([token.lemma_ for token in doc])\n",
        "  \n",
        "    return new_text"
      ],
      "execution_count": null,
      "outputs": []
    },
    {
      "cell_type": "code",
      "metadata": {
        "id": "SOPFzXygp3MU"
      },
      "source": [
        "def data_preprocess_stem(text):\n",
        "    # Remove Stop Words\n",
        "    all_stopwords = sp.Defaults.stop_words\n",
        "    text_tokens = word_tokenize(text)\n",
        "    tokens_without_sw= [word for word in text_tokens if not word in all_stopwords]\n",
        "    new_text = ' '.join(tokens_without_sw)\n",
        "  \n",
        "    # Spell Check and Correction\n",
        "    #doc = sp(new_text)\n",
        "    #new_text = doc._.outcome_spellCheck\n",
        "    #print(doc._.performed_spellCheck)\n",
        "  \n",
        "    #Perform stemming\n",
        "    ps = PorterStemmer()\n",
        "    result = []\n",
        "    for word in word_tokenize(new_text):\n",
        "      result.append(ps.stem(word))\n",
        "    new_text = \" \".join(result)\n",
        "  \n",
        "    return new_text"
      ],
      "execution_count": null,
      "outputs": []
    },
    {
      "cell_type": "code",
      "metadata": {
        "id": "qdzeyrY3qDBg"
      },
      "source": [
        "from time import time\n",
        "t = time()\n",
        "df_clean[\"context\"] = df[\"context\"].apply(data_preprocess_lemmitize)\n",
        "df_clean[\"background\"] = df[\"background\"].apply(data_preprocess_lemmitize)\n",
        "df_clean[\"section_title\"] = df[\"section_title\"]\n",
        "df_clean[\"wiki_page\"] = df[\"wiki_page\"]\n",
        "df_clean[\"question\"] = df[\"question\"].apply(data_preprocess_lemmitize)\n",
        "print(f\"Time taken for cleaning: {(time() - t)/60} minutes\")"
      ],
      "execution_count": null,
      "outputs": []
    },
    {
      "cell_type": "code",
      "metadata": {
        "id": "1YEpyZgdWt7A"
      },
      "source": [
        "# import re\n",
        "# from time import time\n",
        "# import spacy\n",
        "# nlp = spacy.load(\"en_core_web_sm\", disable=[\"ner\", \"parser\"])\n",
        "# def cleaning(doc):\n",
        "    # Lemmatizes and removes stopwords\n",
        "    # txt = [token.lemma_ for token in doc if not token.is_stop]\n",
        "# context_cleaning = (re.sub(\"[^A-Za-z']+\", \" \", str(row)).lower() for row in df[\"context\"])\n",
        "# bg_cleaning = (re.sub(\"[^A-Za-z']+\", \" \", str(row)).lower() for row in df[\"background\"])"
      ],
      "execution_count": null,
      "outputs": []
    },
    {
      "cell_type": "code",
      "metadata": {
        "colab": {
          "base_uri": "https://localhost:8080/"
        },
        "id": "tjJ2znpsYKkD",
        "outputId": "dcb0687b-ed51-4a4a-83ef-850f75c3b841"
      },
      "source": [
        "# t = time()\n",
        "# txt1 = [cleaning(doc) for doc in nlp.pipe(context_cleaning, batch_size=1000)]\n",
        "# txt2 = [cleaning(doc) for doc in nlp.pipe(bg_cleaning, batch_size=1000)]\n",
        "# df_clean = pd.DataFrame({\"context\": txt1, \"background\": txt2})\n",
        "# print(f\"Time to clean everything: {(time()-t)/60} minutes\")"
      ],
      "execution_count": null,
      "outputs": [
        {
          "output_type": "stream",
          "text": [
            "Time to clean everything: 5.356396273771922 minutes\n"
          ],
          "name": "stdout"
        }
      ]
    },
    {
      "cell_type": "code",
      "metadata": {
        "colab": {
          "base_uri": "https://localhost:8080/",
          "height": 110
        },
        "id": "OytRY5rYbjtX",
        "outputId": "0dc6d087-d075-46fd-91a7-e034bdb1418f"
      },
      "source": [
        "df_clean[:2]"
      ],
      "execution_count": null,
      "outputs": [
        {
          "output_type": "execute_result",
          "data": {
            "text/html": [
              "<div>\n",
              "<style scoped>\n",
              "    .dataframe tbody tr th:only-of-type {\n",
              "        vertical-align: middle;\n",
              "    }\n",
              "\n",
              "    .dataframe tbody tr th {\n",
              "        vertical-align: top;\n",
              "    }\n",
              "\n",
              "    .dataframe thead th {\n",
              "        text-align: right;\n",
              "    }\n",
              "</style>\n",
              "<table border=\"1\" class=\"dataframe\">\n",
              "  <thead>\n",
              "    <tr style=\"text-align: right;\">\n",
              "      <th></th>\n",
              "      <th>context</th>\n",
              "      <th>background</th>\n",
              "      <th>section_title</th>\n",
              "      <th>wiki_page</th>\n",
              "      <th>question</th>\n",
              "    </tr>\n",
              "  </thead>\n",
              "  <tbody>\n",
              "    <tr>\n",
              "      <th>0</th>\n",
              "      <td>accord indian census 2001 , 30,803,747 speaker...</td>\n",
              "      <td>the Malayali people keralite people ( spelt Ma...</td>\n",
              "      <td>Geographic distribution and population</td>\n",
              "      <td>Malayali</td>\n",
              "      <td>where Malayali locate ?</td>\n",
              "    </tr>\n",
              "    <tr>\n",
              "      <th>1</th>\n",
              "      <td>Malayalam language speak Malayalis . Malayalam...</td>\n",
              "      <td>the Malayali people keralite people ( spelt Ma...</td>\n",
              "      <td>Language and literature</td>\n",
              "      <td>Malayali</td>\n",
              "      <td>language speak ?</td>\n",
              "    </tr>\n",
              "  </tbody>\n",
              "</table>\n",
              "</div>"
            ],
            "text/plain": [
              "                                             context  ...                 question\n",
              "0  accord indian census 2001 , 30,803,747 speaker...  ...  where Malayali locate ?\n",
              "1  Malayalam language speak Malayalis . Malayalam...  ...         language speak ?\n",
              "\n",
              "[2 rows x 5 columns]"
            ]
          },
          "metadata": {
            "tags": []
          },
          "execution_count": 45
        }
      ]
    },
    {
      "cell_type": "markdown",
      "metadata": {
        "id": "FSQgia1KLzja"
      },
      "source": [
        "Concatenating the background, wiki_page, section_title before fitting the bertopic on the context column"
      ]
    },
    {
      "cell_type": "code",
      "metadata": {
        "colab": {
          "base_uri": "https://localhost:8080/",
          "height": 141
        },
        "id": "38b29ZY6aEZV",
        "outputId": "062d95b3-1c97-4b9e-bee8-a9f3669e4b6c"
      },
      "source": [
        "def concatenate_everything(df):\n",
        "    for i in range(len(df)):\n",
        "        df.iloc[i,0] = str(df.iloc[i,0]) + \" \" + str(df.iloc[i, 1])+ \" \" + df.iloc[i, 2] + \" \" + df.iloc[i, 3]\n",
        "    return df\n",
        "df_clean = concatenate_everything(df_clean)\n",
        "df_clean[67:70]"
      ],
      "execution_count": null,
      "outputs": [
        {
          "output_type": "execute_result",
          "data": {
            "text/html": [
              "<div>\n",
              "<style scoped>\n",
              "    .dataframe tbody tr th:only-of-type {\n",
              "        vertical-align: middle;\n",
              "    }\n",
              "\n",
              "    .dataframe tbody tr th {\n",
              "        vertical-align: top;\n",
              "    }\n",
              "\n",
              "    .dataframe thead th {\n",
              "        text-align: right;\n",
              "    }\n",
              "</style>\n",
              "<table border=\"1\" class=\"dataframe\">\n",
              "  <thead>\n",
              "    <tr style=\"text-align: right;\">\n",
              "      <th></th>\n",
              "      <th>context</th>\n",
              "      <th>background</th>\n",
              "      <th>section_title</th>\n",
              "      <th>wiki_page</th>\n",
              "      <th>question</th>\n",
              "    </tr>\n",
              "  </thead>\n",
              "  <tbody>\n",
              "    <tr>\n",
              "      <th>67</th>\n",
              "      <td>on January 5 , 1998 , Bono die injury hit tree...</td>\n",
              "      <td>Sonny &amp; Cher american pop music duo , actor , ...</td>\n",
              "      <td>Bono's death, and music copyright</td>\n",
              "      <td>Sonny &amp; Cher</td>\n",
              "      <td>when Bono die ?</td>\n",
              "    </tr>\n",
              "    <tr>\n",
              "      <th>68</th>\n",
              "      <td>an aspire writer obsessive fan , James begin w...</td>\n",
              "      <td>James bear Holton , Kansas ; mother , die 1954...</td>\n",
              "      <td>The Bill James Baseball Abstracts</td>\n",
              "      <td>Bill James</td>\n",
              "      <td>what Baseball abstract ?</td>\n",
              "    </tr>\n",
              "    <tr>\n",
              "      <th>69</th>\n",
              "      <td>in 1953 , New York City , marry JoAnn Schumach...</td>\n",
              "      <td>Murray Newton Rothbard ( ; March 2 , 1926 - Ja...</td>\n",
              "      <td>Marriage, employment, and activism</td>\n",
              "      <td>Murray Rothbard</td>\n",
              "      <td>do marry ?</td>\n",
              "    </tr>\n",
              "  </tbody>\n",
              "</table>\n",
              "</div>"
            ],
            "text/plain": [
              "                                              context  ...                  question\n",
              "67  on January 5 , 1998 , Bono die injury hit tree...  ...           when Bono die ?\n",
              "68  an aspire writer obsessive fan , James begin w...  ...  what Baseball abstract ?\n",
              "69  in 1953 , New York City , marry JoAnn Schumach...  ...                do marry ?\n",
              "\n",
              "[3 rows x 5 columns]"
            ]
          },
          "metadata": {
            "tags": []
          },
          "execution_count": 46
        }
      ]
    },
    {
      "cell_type": "code",
      "metadata": {
        "id": "SBF-28TCp9lx"
      },
      "source": [
        "unique_contexts = df_clean[\"context\"].unique()"
      ],
      "execution_count": null,
      "outputs": []
    },
    {
      "cell_type": "code",
      "metadata": {
        "id": "tua5LjeYtU5e",
        "colab": {
          "base_uri": "https://localhost:8080/"
        },
        "outputId": "93904e72-a738-4eb7-b8f7-f35877e70112"
      },
      "source": [
        "len(unique_contexts), len(train), len(df)"
      ],
      "execution_count": null,
      "outputs": [
        {
          "output_type": "execute_result",
          "data": {
            "text/plain": [
              "(6843, 11567, 11567)"
            ]
          },
          "metadata": {
            "tags": []
          },
          "execution_count": 49
        }
      ]
    },
    {
      "cell_type": "code",
      "metadata": {
        "id": "D0l2T29CqAr_",
        "colab": {
          "base_uri": "https://localhost:8080/",
          "height": 666,
          "referenced_widgets": [
            "b55079bc74434e508604c9e88fba605d",
            "c42838937eb34da79f0e39e2b1a2cb36",
            "50922a134e8c4f92b77fe68df28f4407",
            "980005271b1a464ab7522812df9d0773",
            "0279ea911bec48ea9aa8ea582a719551",
            "709cde4264344f939705cbfcd80ecd34",
            "1578ec55498f447f82fe4ab550490bbb",
            "25259c1b21b14d06b242eb72c5b22848",
            "8c7f4931409d4c5c811b4004e0cfbf74",
            "19db10bede1e4441972035c450406651",
            "7735fa511540475d922273bc3b71ff82",
            "79ae87c0cfe748b3ae1da733536a2616",
            "ef4b908caa3b4e02867683d2ad825de1",
            "f251c5d01ff34a1282b7f3b4784ae4cc",
            "d64c844155e6494a92cf0538c266231d",
            "915fd13447264b12ae209c512e2a0404",
            "fd3252ecae6a48eb83ad8a21ccbc5097",
            "8282b44c52df4ced9a800b430d3c5c58",
            "0ed4457f443b4871b1cf2960b721e693",
            "4442b0056e5c49fe92a7a38c0a97cede",
            "8a890dcab7e34e33bc7bb7f140e06fe7",
            "10eb5eddd4fc40e6b42093d0c9f5a1ff",
            "16c0ce94f58c424cb4e358f83d4b81e2",
            "77dcf2011e2248ccad499f88acdc77b7",
            "91955a11a1254019b53e704e766ccbb2",
            "91409e66eda544a6b5888718a024dd4a",
            "2abd32b2c2a54960836775d382261563",
            "fc41c3b03b10472b8bbaa1172dd9f402",
            "903513a3c36d4b3081c16432d959ecca",
            "16d1a6d1387e43a687e0254d139d8c78",
            "1454c2d05b044ba281e988aa5472c13d",
            "4e100d5c4d804b64b37fa8541ae63879",
            "a1694e5f57f64f4e8cc19bb407bd0e41",
            "1be0d183e62144809630b67c94c42e59",
            "f3819b19acd24c55afd3a39719f5f448",
            "6e22d6572cde412e9cd50def28a9447a",
            "f3228ba56a8a4544ab47ab4c54b9e4a7",
            "d9dbd100db3f40c88c03b85822c9da51",
            "2aba596c0a4149dc9e2160001de32c7a",
            "849568c4e8b94dcc83c88c617093040d",
            "aa134c0868ff44a891e42492ac91b7d0",
            "bab350656d184b6db612154af7a472e5",
            "f5996ba1b48f424d9894b4e9f132ad3d",
            "11163754a2744530a38b5942da57ee98",
            "15b5664861f640e3a3c8aaf2b8e1ac46",
            "87577c68758d431ab5057d3b7a83dc00",
            "8ba40beaca7143009ff245653ef72757",
            "893e8c38eeac46dfb05179b6bc0835cc",
            "d23cf34e19334d9780987400a8cddf4c",
            "619e352ac52143199c219bfe2e32a078",
            "722a09d705a844678f7c964495a2a213",
            "f30636c8f3e04ae8a70618823074490e",
            "caebd228eeea4410a65f2fd81e63f249",
            "3d56fef06c234ecd974fc95f51e0c3e9",
            "ec5e48bae44b4c55ab8bd2d2b8f0855f",
            "91de8029cf514822910be3dbd43d1b52",
            "50ef3f5a7233452992b875a668325a09",
            "e7061aaaf37e4aa9a3b377a3dd8d8104",
            "fd5a4e3227304c43b47fef250d948f30",
            "ffad29d4f2ad41e3898a9bb3ade2bc82",
            "1514a4213bd14e27bca0ab182d441dac",
            "7c15c77709ac45c18746ad2a02f0325d",
            "8e09fbefc09c4cef9ca6b412e5365038",
            "cb250c75b71e4fa1abc4bf533360fbc2",
            "dfca40a1701b4539991a102ecfc13444",
            "832d970af62b4eb68d65279d0114d86a",
            "db60b411fe0341539e000ce4462f7eb3",
            "ffdca4088a1744679f493523d5ab792d",
            "c3972c8142034a2da225f04187a00b43",
            "252ea0f2a8e64f72bb472eedad909613",
            "f6621895c58147739b9c1c3fd315e8fe",
            "c2297e4ab50e4647be01b63f976f609d",
            "3b780ad86b1041a1a1fd54d45148ce4b",
            "c4265a3d94de4f2dbfd5c193ea8939f9",
            "c258492e228a434ab8fecd86963c8dcd",
            "2cb053b8a7c14642b635dba0012ed7c3",
            "c52727c574b9417fa759e37bc2d95511",
            "ecd28a171066469bbb59a12d2f6b7d4f",
            "98496f020a0b472887d7b235f3a9f8dc",
            "cf2524454a7b4d26b853726175f1003c",
            "689e315e5e5747da90aa4d4325b70d79",
            "5d8e3f3da3f2454e9a8fb1d826b4d170",
            "7a07ed1877f94d5a81f3e3a9ebbc9f50",
            "f7bbf32f870044769216065a9ae951fb",
            "df6af46030964d25853d70437663433b",
            "44064e0983a6487295b557b2dfc6af2b",
            "d1efaba005b24b93b470b7ca09a56075",
            "37ba6973f6364c68b4ca2c606f970a9b",
            "f1127e91c4a74f759737e06fc390b9f5",
            "4fb1886e475e4bae953dccc9adde94e4",
            "399519ed5b28480db787b4b3a319bfd3",
            "0d956bb86c644b48a276a229ada9b2a2",
            "7d36f3f24690453587a4279bcb65ea6b",
            "12f24aa402ec431cafd2423fe1c2485b",
            "2069625916d046f58b0c87b6c0a3559c",
            "f6151455fc2c45f5b510b960879fd515"
          ]
        },
        "outputId": "6ee6be60-d5bd-4bb3-d775-3b5be6616033"
      },
      "source": [
        "topic_model = BERTopic(language=\"english\", calculate_probabilities=True) # We need the probabilities to visualize\n",
        "topics, probabilities = topic_model.fit_transform(unique_contexts)"
      ],
      "execution_count": null,
      "outputs": [
        {
          "output_type": "display_data",
          "data": {
            "application/vnd.jupyter.widget-view+json": {
              "model_id": "b55079bc74434e508604c9e88fba605d",
              "version_minor": 0,
              "version_major": 2
            },
            "text/plain": [
              "HBox(children=(FloatProgress(value=0.0, description='Downloading', max=690.0, style=ProgressStyle(description_…"
            ]
          },
          "metadata": {
            "tags": []
          }
        },
        {
          "output_type": "stream",
          "text": [
            "\n"
          ],
          "name": "stdout"
        },
        {
          "output_type": "display_data",
          "data": {
            "application/vnd.jupyter.widget-view+json": {
              "model_id": "8c7f4931409d4c5c811b4004e0cfbf74",
              "version_minor": 0,
              "version_major": 2
            },
            "text/plain": [
              "HBox(children=(FloatProgress(value=0.0, description='Downloading', max=3673.0, style=ProgressStyle(description…"
            ]
          },
          "metadata": {
            "tags": []
          }
        },
        {
          "output_type": "stream",
          "text": [
            "\n"
          ],
          "name": "stdout"
        },
        {
          "output_type": "display_data",
          "data": {
            "application/vnd.jupyter.widget-view+json": {
              "model_id": "fd3252ecae6a48eb83ad8a21ccbc5097",
              "version_minor": 0,
              "version_major": 2
            },
            "text/plain": [
              "HBox(children=(FloatProgress(value=0.0, description='Downloading', max=629.0, style=ProgressStyle(description_…"
            ]
          },
          "metadata": {
            "tags": []
          }
        },
        {
          "output_type": "stream",
          "text": [
            "\n"
          ],
          "name": "stdout"
        },
        {
          "output_type": "display_data",
          "data": {
            "application/vnd.jupyter.widget-view+json": {
              "model_id": "91955a11a1254019b53e704e766ccbb2",
              "version_minor": 0,
              "version_major": 2
            },
            "text/plain": [
              "HBox(children=(FloatProgress(value=0.0, description='Downloading', max=122.0, style=ProgressStyle(description_…"
            ]
          },
          "metadata": {
            "tags": []
          }
        },
        {
          "output_type": "stream",
          "text": [
            "\n"
          ],
          "name": "stdout"
        },
        {
          "output_type": "display_data",
          "data": {
            "application/vnd.jupyter.widget-view+json": {
              "model_id": "a1694e5f57f64f4e8cc19bb407bd0e41",
              "version_minor": 0,
              "version_major": 2
            },
            "text/plain": [
              "HBox(children=(FloatProgress(value=0.0, description='Downloading', max=229.0, style=ProgressStyle(description_…"
            ]
          },
          "metadata": {
            "tags": []
          }
        },
        {
          "output_type": "stream",
          "text": [
            "\n"
          ],
          "name": "stdout"
        },
        {
          "output_type": "display_data",
          "data": {
            "application/vnd.jupyter.widget-view+json": {
              "model_id": "aa134c0868ff44a891e42492ac91b7d0",
              "version_minor": 0,
              "version_major": 2
            },
            "text/plain": [
              "HBox(children=(FloatProgress(value=0.0, description='Downloading', max=90895153.0, style=ProgressStyle(descrip…"
            ]
          },
          "metadata": {
            "tags": []
          }
        },
        {
          "output_type": "stream",
          "text": [
            "\n"
          ],
          "name": "stdout"
        },
        {
          "output_type": "display_data",
          "data": {
            "application/vnd.jupyter.widget-view+json": {
              "model_id": "d23cf34e19334d9780987400a8cddf4c",
              "version_minor": 0,
              "version_major": 2
            },
            "text/plain": [
              "HBox(children=(FloatProgress(value=0.0, description='Downloading', max=53.0, style=ProgressStyle(description_w…"
            ]
          },
          "metadata": {
            "tags": []
          }
        },
        {
          "output_type": "stream",
          "text": [
            "\n"
          ],
          "name": "stdout"
        },
        {
          "output_type": "display_data",
          "data": {
            "application/vnd.jupyter.widget-view+json": {
              "model_id": "50ef3f5a7233452992b875a668325a09",
              "version_minor": 0,
              "version_major": 2
            },
            "text/plain": [
              "HBox(children=(FloatProgress(value=0.0, description='Downloading', max=112.0, style=ProgressStyle(description_…"
            ]
          },
          "metadata": {
            "tags": []
          }
        },
        {
          "output_type": "stream",
          "text": [
            "\n"
          ],
          "name": "stdout"
        },
        {
          "output_type": "display_data",
          "data": {
            "application/vnd.jupyter.widget-view+json": {
              "model_id": "dfca40a1701b4539991a102ecfc13444",
              "version_minor": 0,
              "version_major": 2
            },
            "text/plain": [
              "HBox(children=(FloatProgress(value=0.0, description='Downloading', max=466081.0, style=ProgressStyle(descripti…"
            ]
          },
          "metadata": {
            "tags": []
          }
        },
        {
          "output_type": "stream",
          "text": [
            "\n"
          ],
          "name": "stdout"
        },
        {
          "output_type": "display_data",
          "data": {
            "application/vnd.jupyter.widget-view+json": {
              "model_id": "3b780ad86b1041a1a1fd54d45148ce4b",
              "version_minor": 0,
              "version_major": 2
            },
            "text/plain": [
              "HBox(children=(FloatProgress(value=0.0, description='Downloading', max=516.0, style=ProgressStyle(description_…"
            ]
          },
          "metadata": {
            "tags": []
          }
        },
        {
          "output_type": "stream",
          "text": [
            "\n"
          ],
          "name": "stdout"
        },
        {
          "output_type": "display_data",
          "data": {
            "application/vnd.jupyter.widget-view+json": {
              "model_id": "689e315e5e5747da90aa4d4325b70d79",
              "version_minor": 0,
              "version_major": 2
            },
            "text/plain": [
              "HBox(children=(FloatProgress(value=0.0, description='Downloading', max=231508.0, style=ProgressStyle(descripti…"
            ]
          },
          "metadata": {
            "tags": []
          }
        },
        {
          "output_type": "stream",
          "text": [
            "\n"
          ],
          "name": "stdout"
        },
        {
          "output_type": "display_data",
          "data": {
            "application/vnd.jupyter.widget-view+json": {
              "model_id": "f1127e91c4a74f759737e06fc390b9f5",
              "version_minor": 0,
              "version_major": 2
            },
            "text/plain": [
              "HBox(children=(FloatProgress(value=0.0, description='Downloading', max=190.0, style=ProgressStyle(description_…"
            ]
          },
          "metadata": {
            "tags": []
          }
        },
        {
          "output_type": "stream",
          "text": [
            "\n"
          ],
          "name": "stdout"
        },
        {
          "output_type": "stream",
          "text": [
            "/usr/local/lib/python3.7/dist-packages/numba/np/ufunc/parallel.py:363: NumbaWarning: The TBB threading layer requires TBB version 2019.5 or later i.e., TBB_INTERFACE_VERSION >= 11005. Found TBB_INTERFACE_VERSION = 9107. The TBB threading layer is disabled.\n",
            "  warnings.warn(problem)\n"
          ],
          "name": "stderr"
        }
      ]
    },
    {
      "cell_type": "code",
      "metadata": {
        "id": "TilA2nhlqTeR",
        "colab": {
          "base_uri": "https://localhost:8080/"
        },
        "outputId": "17a5f7f4-a1e8-48c9-a28c-ced98c584939"
      },
      "source": [
        "# Get the most frequent topics\n",
        "topic_freq = topic_model.get_topic_freq()\n",
        "outliers = topic_freq['Count'][topic_freq['Topic']==-1].iloc[0]\n",
        "print(f\"{outliers} documents have not been classified\")\n",
        "print(f\"The other {topic_freq['Count'].sum() - outliers} documents are {topic_freq['Topic'].shape[0]-1} topics\")"
      ],
      "execution_count": null,
      "outputs": [
        {
          "output_type": "stream",
          "text": [
            "2816 documents have not been classified\n",
            "The other 4027 documents are 79 topics\n"
          ],
          "name": "stdout"
        }
      ]
    },
    {
      "cell_type": "code",
      "metadata": {
        "id": "5jAHh0m2tFj5",
        "colab": {
          "base_uri": "https://localhost:8080/",
          "height": 202
        },
        "outputId": "784dc0a8-21ad-43eb-c6ca-308aa80547da"
      },
      "source": [
        "topic_freq.head()"
      ],
      "execution_count": null,
      "outputs": [
        {
          "output_type": "execute_result",
          "data": {
            "text/html": [
              "<div>\n",
              "<style scoped>\n",
              "    .dataframe tbody tr th:only-of-type {\n",
              "        vertical-align: middle;\n",
              "    }\n",
              "\n",
              "    .dataframe tbody tr th {\n",
              "        vertical-align: top;\n",
              "    }\n",
              "\n",
              "    .dataframe thead th {\n",
              "        text-align: right;\n",
              "    }\n",
              "</style>\n",
              "<table border=\"1\" class=\"dataframe\">\n",
              "  <thead>\n",
              "    <tr style=\"text-align: right;\">\n",
              "      <th></th>\n",
              "      <th>Topic</th>\n",
              "      <th>Count</th>\n",
              "    </tr>\n",
              "  </thead>\n",
              "  <tbody>\n",
              "    <tr>\n",
              "      <th>0</th>\n",
              "      <td>-1</td>\n",
              "      <td>2816</td>\n",
              "    </tr>\n",
              "    <tr>\n",
              "      <th>1</th>\n",
              "      <td>0</td>\n",
              "      <td>563</td>\n",
              "    </tr>\n",
              "    <tr>\n",
              "      <th>2</th>\n",
              "      <td>1</td>\n",
              "      <td>168</td>\n",
              "    </tr>\n",
              "    <tr>\n",
              "      <th>3</th>\n",
              "      <td>2</td>\n",
              "      <td>164</td>\n",
              "    </tr>\n",
              "    <tr>\n",
              "      <th>4</th>\n",
              "      <td>3</td>\n",
              "      <td>159</td>\n",
              "    </tr>\n",
              "  </tbody>\n",
              "</table>\n",
              "</div>"
            ],
            "text/plain": [
              "   Topic  Count\n",
              "0     -1   2816\n",
              "1      0    563\n",
              "2      1    168\n",
              "3      2    164\n",
              "4      3    159"
            ]
          },
          "metadata": {
            "tags": []
          },
          "execution_count": 104
        }
      ]
    },
    {
      "cell_type": "code",
      "metadata": {
        "id": "eorGzyUitJPP",
        "colab": {
          "base_uri": "https://localhost:8080/"
        },
        "outputId": "f159616f-0d3f-4946-d9da-aa0d17f0f0c3"
      },
      "source": [
        "print(f\"There are {topic_freq['Count'].iloc[1]} documents that are talking about topic ID {topic_freq['Topic'].iloc[1]}\")"
      ],
      "execution_count": null,
      "outputs": [
        {
          "output_type": "stream",
          "text": [
            "There are 563 documents that are talking about topic ID 0\n"
          ],
          "name": "stdout"
        }
      ]
    },
    {
      "cell_type": "code",
      "metadata": {
        "id": "nusG2roctLCs",
        "colab": {
          "base_uri": "https://localhost:8080/"
        },
        "outputId": "5d613d30-8e01-4213-a899-503c874819f1"
      },
      "source": [
        "for i in range(10):\n",
        "  topic_no = topic_freq['Topic'].iloc[i]\n",
        "  print(\"Topic \", topic_no,\" : \\n\")\n",
        "  print(topic_model.get_topic(topic_no))\n",
        "  print(\"\\n\\n\")"
      ],
      "execution_count": null,
      "outputs": [
        {
          "output_type": "stream",
          "text": [
            "Topic  -1  : \n",
            "\n",
            "[('band', 0.006847604521437951), ('album', 0.006627786001166691), ('release', 0.006296625551250619), ('song', 0.005832637721533675), ('record', 0.005446143328899945), ('music', 0.005363578829657063), ('group', 0.005093890630010555), ('rock', 0.00475281403624523), ('cannotanswer', 0.0043681347502522215), ('perform', 0.0039154136293142105)]\n",
            "\n",
            "\n",
            "\n",
            "Topic  0  : \n",
            "\n",
            "[('television', 0.009713073932267967), ('comedy', 0.008817276507753513), ('show', 0.008297520169365405), ('character', 0.0081538569668207), ('episode', 0.00793047646370549), ('broadway', 0.006237104710087694), ('actor', 0.0062317285619487755), ('cast', 0.006147693418900621), ('nbc', 0.004863163590085786), ('colbert', 0.004800357198459663)]\n",
            "\n",
            "\n",
            "\n",
            "Topic  1  : \n",
            "\n",
            "[('single', 0.023606768049574907), ('album', 0.016725341298597915), ('song', 0.014362011875708177), ('hot', 0.012967311156461327), ('peak', 0.011670580040815195), ('shelton', 0.00965617183245857), ('music', 0.008610288418908344), ('track', 0.007626665625329416), ('records', 0.007623238383663488), ('record', 0.007504041511396793)]\n",
            "\n",
            "\n",
            "\n",
            "Topic  2  : \n",
            "\n",
            "[('theory', 0.012754515376263709), ('freud', 0.010104844070118663), ('philosophy', 0.009643796563063713), ('psychology', 0.009035949904585675), ('god', 0.00706204068012038), ('idea', 0.006888886711036174), ('philosopher', 0.006735035493149166), ('believe', 0.006730779210320902), ('nature', 0.006407348579323045), ('religion', 0.0062281969954573625)]\n",
            "\n",
            "\n",
            "\n",
            "Topic  3  : \n",
            "\n",
            "[('school', 0.014090040371113296), ('family', 0.013761127651449444), ('father', 0.012587087893625115), ('mother', 0.010755818809987272), ('child', 0.010322761349845529), ('age', 0.0067087050924817615), ('parent', 0.0064985159020471365), ('son', 0.00623052594206036), ('brother', 0.005984619043456372), ('old', 0.005899195509871231)]\n",
            "\n",
            "\n",
            "\n",
            "Topic  4  : \n",
            "\n",
            "[('baseball', 0.03906682755678096), ('sox', 0.015877886637037156), ('bat', 0.015211542276826482), ('pitcher', 0.01503517943462), ('yankees', 0.011921358589751772), ('batting', 0.011054669054504694), ('cubs', 0.010845284122028877), ('pennant', 0.00886612802480556), ('clemens', 0.008654273584904764), ('mlb', 0.008642430663002711)]\n",
            "\n",
            "\n",
            "\n",
            "Topic  5  : \n",
            "\n",
            "[('football', 0.04641644397368148), ('nfl', 0.038284451783184674), ('touchdown', 0.03190039396992028), ('coach', 0.028588133249871906), ('bowl', 0.022493697760012196), ('quarterback', 0.02161193077892681), ('player', 0.016201082966232065), ('heisman', 0.01075620562320848), ('colts', 0.010407065312391373), ('packers', 0.009102485529419464)]\n",
            "\n",
            "\n",
            "\n",
            "Topic  6  : \n",
            "\n",
            "[('wrestling', 0.047648311811165446), ('wwf', 0.029286273463322045), ('wwe', 0.027800974753382092), ('wcw', 0.02192887218736969), ('feud', 0.021170069563504038), ('wrestler', 0.020145112763684598), ('heavyweight', 0.016536016805617712), ('wrestlemania', 0.01361091249069109), ('tna', 0.012887650955996562), ('hardy', 0.012261393134596548)]\n",
            "\n",
            "\n",
            "\n",
            "Topic  7  : \n",
            "\n",
            "[('comics', 0.02718702310620337), ('batman', 0.026405162283575933), ('character', 0.024017517073266787), ('marvel', 0.018344231879667244), ('comic', 0.01652068283016664), ('doom', 0.01475756891806624), ('superhero', 0.01260110693580879), ('willow', 0.01147311487087567), ('buffy', 0.010051619121134184), ('joker', 0.009875274926026566)]\n",
            "\n",
            "\n",
            "\n",
            "Topic  8  : \n",
            "\n",
            "[('release', 0.02062859293963622), ('album', 0.019501294907614725), ('band', 0.019500709767764197), ('tour', 0.01878967375785728), ('2012', 0.009862886413651758), ('guitar', 0.009332770134038505), ('record', 0.009242852671749), ('song', 0.009214895237488691), ('rock', 0.008606950833129609), ('date', 0.007761600837504865)]\n",
            "\n",
            "\n",
            "\n"
          ],
          "name": "stdout"
        }
      ]
    },
    {
      "cell_type": "code",
      "metadata": {
        "id": "fNCCkzjHtSbe",
        "colab": {
          "base_uri": "https://localhost:8080/",
          "height": 667
        },
        "outputId": "1213c65b-3080-4afb-927f-ecd4b60db027"
      },
      "source": [
        "# Returns how spatially separated each topic is.\n",
        "topic_model.visualize_topics()"
      ],
      "execution_count": null,
      "outputs": [
        {
          "output_type": "display_data",
          "data": {
            "text/html": [
              "<html>\n",
              "<head><meta charset=\"utf-8\" /></head>\n",
              "<body>\n",
              "    <div>            <script src=\"https://cdnjs.cloudflare.com/ajax/libs/mathjax/2.7.5/MathJax.js?config=TeX-AMS-MML_SVG\"></script><script type=\"text/javascript\">if (window.MathJax) {MathJax.Hub.Config({SVG: {font: \"STIX-Web\"}});}</script>                <script type=\"text/javascript\">window.PlotlyConfig = {MathJaxConfig: 'local'};</script>\n",
              "        <script src=\"https://cdn.plot.ly/plotly-latest.min.js\"></script>                <div id=\"fce4f2cd-a8b1-4a02-9e13-ca258e0fb655\" class=\"plotly-graph-div\" style=\"height:650px; width:650px;\"></div>            <script type=\"text/javascript\">                                    window.PLOTLYENV=window.PLOTLYENV || {};                                    if (document.getElementById(\"fce4f2cd-a8b1-4a02-9e13-ca258e0fb655\")) {                    Plotly.newPlot(                        \"fce4f2cd-a8b1-4a02-9e13-ca258e0fb655\",                        [{\"customdata\": [[4.31447172164917, -5.916474342346191, 0, \"television | comedy | show | character | episode\", 563], [-5.095280170440674, 2.490983247756958, 1, \"single | album | song | hot | peak\", 168], [3.815673589706421, 2.823251962661743, 2, \"theory | freud | philosophy | psychology | god\", 164], [4.2288031578063965, -5.830552101135254, 3, \"school | family | father | mother | child\", 159], [11.394028663635254, -4.421510696411133, 4, \"baseball | sox | bat | pitcher | yankees\", 154], [11.443020820617676, -4.372811794281006, 5, \"football | nfl | touchdown | coach | bowl\", 150], [21.72985076904297, 3.5049002170562744, 6, \"wrestling | wwf | wwe | wcw | feud\", 118], [-7.865618705749512, 10.927700996398926, 7, \"comics | batman | character | marvel | comic\", 115], [-4.8763041496276855, 2.8448469638824463, 8, \"release | album | band | tour | 2012\", 113], [0.851410448551178, 10.22063159942627, 9, \"republican | election | senate | democratic | campaign\", 100], [4.149096488952637, -5.7506208419799805, 10, \"marry | divorce | marriage | daughter | wife\", 97], [-5.748048782348633, 0.5589050054550171, 11, \"kapoor | indian | actress | filmfare | india\", 88], [-4.920295238494873, 2.3282501697540283, 12, \"band | rock | guitar | vocal | guitarist\", 75], [-4.459362030029297, -6.352803707122803, 13, \"orchestra | composer | symphony | conductor | piano\", 71], [11.550491333007812, -4.265914440155029, 14, \"nba | game | basketball | rebound | player\", 70], [11.2601318359375, -4.556343078613281, 15, \"tennis | tournament | wimbledon | golf | capriati\", 69], [12.499751091003418, 6.488475799560547, 16, \"cricket | australia | odi | bowler | indies\", 65], [-4.700876712799072, -6.5943684577941895, 17, \"jazz | ellington | mingus | musician | band\", 64], [3.330993413925171, 3.3071694374084473, 18, \"painting | art | hoffmann | design | museum\", 59], [-4.621691703796387, -6.515233039855957, 19, \"music | father | musician | singer | bell\", 55], [3.6527693271636963, 2.9859871864318848, 20, \"russian | soviet | chechen | chechnya | russia\", 55], [-4.963205337524414, 2.3890562057495117, 21, \"band | butler | album | guitar | hatfield\", 55], [0.4690485894680023, 9.916687965393066, 22, \"marine | pilot | army | naval | navy\", 54], [22.080638885498047, 2.653079032897949, 23, \"cup | goal | cardiff | england | football\", 54], [22.018125534057617, 2.661877393722534, 24, \"maldini | milan | italy | fifa | serie\", 44], [3.1911749839782715, 3.4466445446014404, 25, \"neruda | dali | spanish | sorabji | romanian\", 44], [0.9436620473861694, -2.737117290496826, 26, \"sound | song | music | lyric | dj\", 44], [-7.567946910858154, 11.233230590820312, 27, \"novel | book | capote | fiction | bradbury\", 43], [-4.976604461669922, 2.9470913410186768, 28, \"japanese | japan | oricon | miyavi | concert\", 40], [2.5699527263641357, 12.331448554992676, 29, \"muhammad | sharif | pakistan | taliban | omar\", 40], [-4.929708957672119, 2.4350528717041016, 30, \"album | band | record | song | music\", 38], [11.796408653259277, -4.019560813903809, 31, \"nhl | hockey | sakic | game | goal\", 38], [0.9673625826835632, 19.29545021057129, 32, \"indigenous | maya | mexico | culture | ethnic\", 37], [0.9088186025619507, 19.35397720336914, 33, \"hindu | sri | malayalam | indian | yoga\", 36], [0.23450680077075958, -3.44739031791687, 34, \"metal | band | punk | song | music\", 33], [3.4997665882110596, 3.1388392448425293, 35, \"hitler | rubinstein | steiner | austrian | german\", 33], [22.31498146057129, 3.128138780593872, 36, \"driver | car | prix | racing | nascar\", 33], [2.3244099617004395, 11.195364952087402, 37, \"death | winehouse | funeral | cemetery | merman\", 31], [2.3654470443725586, 11.170841217041016, 38, \"black | civil | obama | police | jones\", 31], [8.066272735595703, 14.003705024719238, 39, \"portuguese | spanish | expedition | sanchez | cuba\", 30], [-5.301603317260742, 1.4432135820388794, 40, \"rouvas | rivera | sugababes | mexican | ayala\", 29], [2.3592000007629395, 11.257144927978516, 41, \"chinese | china | zhang | wong | zheng\", 27], [2.678886890411377, 12.187600135803223, 42, \"brennan | cia | intelligence | libby | security\", 26], [-5.289895534515381, 1.4564582109451294, 43, \"album | rock | band | meteora | song\", 26], [0.31396549940109253, -3.3680431842803955, 44, \"band | concert | album | pepper | cher\", 25], [21.813291549682617, 3.4384615421295166, 45, \"tyson | fight | knockout | frazier | boxing\", 25], [0.612638533115387, -3.0666446685791016, 46, \"mccartney | lennon | beatles | harrison | song\", 25], [0.9362735748291016, 19.326602935791016, 47, \"tribe | native | plains | trade | iroquois\", 24], [0.9488796591758728, 9.242918014526367, 48, \"labour | cameron | conservative | secretary | minister\", 24], [2.3889310359954834, 11.807594299316406, 49, \"arrest | kunstler | probation | police | jail\", 23], [11.886759757995605, -3.928927421569824, 50, \"iaaf | olympics | olympic | bolt | skate\", 20], [7.924779415130615, 13.86245059967041, 51, \"king | peerage | elizabeth | earl | tudor\", 20], [22.093530654907227, 3.029327630996704, 52, \"richmond | collingwood | premiership | vfl | geelong\", 20], [1.009303331375122, 9.377158164978027, 53, \"election | bjp | nkrumah | kenyatta | modi\", 20], [12.503462791442871, 6.489067077636719, 54, \"cricket | test | wicket | cricketer | murdoch\", 19], [-4.678579807281494, -6.5720953941345215, 55, \"bacharach | joplin | music | jazz | composer\", 18], [-5.4653706550598145, 0.9556034207344055, 56, \"ronettes | keibler | nedra | audition | motown\", 18], [-7.447234153747559, 11.35490608215332, 57, \"teach | university | harvard | student | burke\", 18], [7.960878372192383, 13.89840316772461, 58, \"caesar | rome | claudius | roman | gaul\", 17], [15.687042236328125, 12.067913055419922, 59, \"race | rider | marquez | cyclist | climb\", 17], [-7.794449806213379, 11.001255989074707, 60, \"comicstrip | spiegelman | comic | gutfeld | cartoonist\", 17], [2.5509095191955566, 11.73793888092041, 61, \"rothstein | investor | firm | hewlett | wakefield\", 16], [-7.385233402252197, 11.416976928710938, 62, \"iorga | university | maiorescu | jena | romanian\", 16], [0.5506659746170044, -3.1287457942962646, 63, \"nilsson | mangum | jesperson | guitar | dolenz\", 16], [0.9849697351455688, 9.983284950256348, 64, \"carson | hendrix | mother | host | tonight\", 16], [0.4574337303638458, 9.886187553405762, 65, \"custer | army | confederate | battle | cavalry\", 15], [-5.5350661277771, 0.8947761058807373, 66, \"sean | billboard | album | byrd | hop\", 15], [11.505398750305176, -4.310612201690674, 67, \"basketball | nba | ncaa | lakers | laker\", 15], [1.009265422821045, -2.6719155311584473, 68, \"song | lyric | dylan | tambourine | recording\", 14], [22.19280242919922, 3.136436700820923, 69, \"horse | secretariat | crown | belmont | thoroughbred\", 14], [-5.707335472106934, 0.6229003667831421, 70, \"salonga | kardashian | kim | she | khloe\", 13], [15.681465148925781, 12.059144973754883, 71, \"merckx | race | cycling | rider | bobet\", 12], [0.9751604795455933, 9.106785774230957, 72, \"socialism | unitarian | social | society | education\", 12], [-5.507182598114014, 1.5313408374786377, 73, \"escobar | drug | cocaine | sobriety | addiction\", 11], [-5.597323417663574, 1.5989909172058105, 74, \"knotts | jackass | stunt | hook | barney\", 11], [2.7049288749694824, 12.203797340393066, 75, \"attorney | giuliani | firm | york | corporate\", 11], [1.01731538772583, 10.047420501708984, 76, \"alaska | forest | anchorage | seneca | forestry\", 11], [2.6617043018341064, 12.253670692443848, 77, \"israel | israeli | lebanon | arab | lebanese\", 11], [0.877601683139801, 9.308155059814453, 78, \"evans | osborne | museum | oxford | london\", 10]], \"hovertemplate\": \"<b>Topic %{customdata[2]}</b><br>Words: %{customdata[3]}<br>Size: %{customdata[4]}\", \"legendgroup\": \"\", \"marker\": {\"color\": \"#B0BEC5\", \"line\": {\"color\": \"DarkSlateGrey\", \"width\": 2}, \"size\": [563, 168, 164, 159, 154, 150, 118, 115, 113, 100, 97, 88, 75, 71, 70, 69, 65, 64, 59, 55, 55, 55, 54, 54, 44, 44, 44, 43, 40, 40, 38, 38, 37, 36, 33, 33, 33, 31, 31, 30, 29, 27, 26, 26, 25, 25, 25, 24, 24, 23, 20, 20, 20, 20, 19, 18, 18, 18, 17, 17, 17, 16, 16, 16, 16, 15, 15, 15, 14, 14, 13, 12, 12, 11, 11, 11, 11, 11, 10], \"sizemode\": \"area\", \"sizeref\": 0.351875, \"symbol\": \"circle\"}, \"mode\": \"markers\", \"name\": \"\", \"orientation\": \"v\", \"showlegend\": false, \"type\": \"scatter\", \"x\": [4.31447172164917, -5.095280170440674, 3.815673589706421, 4.2288031578063965, 11.394028663635254, 11.443020820617676, 21.72985076904297, -7.865618705749512, -4.8763041496276855, 0.851410448551178, 4.149096488952637, -5.748048782348633, -4.920295238494873, -4.459362030029297, 11.550491333007812, 11.2601318359375, 12.499751091003418, -4.700876712799072, 3.330993413925171, -4.621691703796387, 3.6527693271636963, -4.963205337524414, 0.4690485894680023, 22.080638885498047, 22.018125534057617, 3.1911749839782715, 0.9436620473861694, -7.567946910858154, -4.976604461669922, 2.5699527263641357, -4.929708957672119, 11.796408653259277, 0.9673625826835632, 0.9088186025619507, 0.23450680077075958, 3.4997665882110596, 22.31498146057129, 2.3244099617004395, 2.3654470443725586, 8.066272735595703, -5.301603317260742, 2.3592000007629395, 2.678886890411377, -5.289895534515381, 0.31396549940109253, 21.813291549682617, 0.612638533115387, 0.9362735748291016, 0.9488796591758728, 2.3889310359954834, 11.886759757995605, 7.924779415130615, 22.093530654907227, 1.009303331375122, 12.503462791442871, -4.678579807281494, -5.4653706550598145, -7.447234153747559, 7.960878372192383, 15.687042236328125, -7.794449806213379, 2.5509095191955566, -7.385233402252197, 0.5506659746170044, 0.9849697351455688, 0.4574337303638458, -5.5350661277771, 11.505398750305176, 1.009265422821045, 22.19280242919922, -5.707335472106934, 15.681465148925781, 0.9751604795455933, -5.507182598114014, -5.597323417663574, 2.7049288749694824, 1.01731538772583, 2.6617043018341064, 0.877601683139801], \"xaxis\": \"x\", \"y\": [-5.916474342346191, 2.490983247756958, 2.823251962661743, -5.830552101135254, -4.421510696411133, -4.372811794281006, 3.5049002170562744, 10.927700996398926, 2.8448469638824463, 10.22063159942627, -5.7506208419799805, 0.5589050054550171, 2.3282501697540283, -6.352803707122803, -4.265914440155029, -4.556343078613281, 6.488475799560547, -6.5943684577941895, 3.3071694374084473, -6.515233039855957, 2.9859871864318848, 2.3890562057495117, 9.916687965393066, 2.653079032897949, 2.661877393722534, 3.4466445446014404, -2.737117290496826, 11.233230590820312, 2.9470913410186768, 12.331448554992676, 2.4350528717041016, -4.019560813903809, 19.29545021057129, 19.35397720336914, -3.44739031791687, 3.1388392448425293, 3.128138780593872, 11.195364952087402, 11.170841217041016, 14.003705024719238, 1.4432135820388794, 11.257144927978516, 12.187600135803223, 1.4564582109451294, -3.3680431842803955, 3.4384615421295166, -3.0666446685791016, 19.326602935791016, 9.242918014526367, 11.807594299316406, -3.928927421569824, 13.86245059967041, 3.029327630996704, 9.377158164978027, 6.489067077636719, -6.5720953941345215, 0.9556034207344055, 11.35490608215332, 13.89840316772461, 12.067913055419922, 11.001255989074707, 11.73793888092041, 11.416976928710938, -3.1287457942962646, 9.983284950256348, 9.886187553405762, 0.8947761058807373, -4.310612201690674, -2.6719155311584473, 3.136436700820923, 0.6229003667831421, 12.059144973754883, 9.106785774230957, 1.5313408374786377, 1.5989909172058105, 12.203797340393066, 10.047420501708984, 12.253670692443848, 9.308155059814453], \"yaxis\": \"y\"}],                        {\"annotations\": [{\"showarrow\": false, \"text\": \"D1\", \"x\": -9.045461511611938, \"y\": 7.336775028705596, \"yshift\": 10}, {\"showarrow\": false, \"text\": \"D2\", \"x\": 8.308383584022522, \"xshift\": 10, \"y\": 22.25707378387451}], \"height\": 650, \"hoverlabel\": {\"bgcolor\": \"white\", \"font\": {\"family\": \"Rockwell\", \"size\": 16}}, \"legend\": {\"itemsizing\": \"constant\", \"tracegroupgap\": 0}, \"margin\": {\"t\": 60}, \"shapes\": [{\"line\": {\"color\": \"#CFD8DC\", \"width\": 2}, \"type\": \"line\", \"x0\": 8.308383584022522, \"x1\": 8.308383584022522, \"y0\": -7.5835237264633175, \"y1\": 22.25707378387451}, {\"line\": {\"color\": \"#9E9E9E\", \"width\": 2}, \"type\": \"line\", \"x0\": -9.045461511611938, \"x1\": 25.662228679656984, \"y0\": 7.336775028705596, \"y1\": 7.336775028705596}], \"sliders\": [{\"active\": 0, \"pad\": {\"t\": 50}, \"steps\": [{\"args\": [{\"marker.color\": [[\"red\", \"#B0BEC5\", \"#B0BEC5\", \"#B0BEC5\", \"#B0BEC5\", \"#B0BEC5\", \"#B0BEC5\", \"#B0BEC5\", \"#B0BEC5\", \"#B0BEC5\", \"#B0BEC5\", \"#B0BEC5\", \"#B0BEC5\", \"#B0BEC5\", \"#B0BEC5\", \"#B0BEC5\", \"#B0BEC5\", \"#B0BEC5\", \"#B0BEC5\", \"#B0BEC5\", \"#B0BEC5\", \"#B0BEC5\", \"#B0BEC5\", \"#B0BEC5\", \"#B0BEC5\", \"#B0BEC5\", \"#B0BEC5\", \"#B0BEC5\", \"#B0BEC5\", \"#B0BEC5\", \"#B0BEC5\", \"#B0BEC5\", \"#B0BEC5\", \"#B0BEC5\", \"#B0BEC5\", \"#B0BEC5\", \"#B0BEC5\", \"#B0BEC5\", \"#B0BEC5\", \"#B0BEC5\", \"#B0BEC5\", \"#B0BEC5\", \"#B0BEC5\", \"#B0BEC5\", \"#B0BEC5\", \"#B0BEC5\", \"#B0BEC5\", \"#B0BEC5\", \"#B0BEC5\", \"#B0BEC5\", \"#B0BEC5\", \"#B0BEC5\", \"#B0BEC5\", \"#B0BEC5\", \"#B0BEC5\", \"#B0BEC5\", \"#B0BEC5\", \"#B0BEC5\", \"#B0BEC5\", \"#B0BEC5\", \"#B0BEC5\", \"#B0BEC5\", \"#B0BEC5\", \"#B0BEC5\", \"#B0BEC5\", \"#B0BEC5\", \"#B0BEC5\", \"#B0BEC5\", \"#B0BEC5\", \"#B0BEC5\", \"#B0BEC5\", \"#B0BEC5\", \"#B0BEC5\", \"#B0BEC5\", \"#B0BEC5\", \"#B0BEC5\", \"#B0BEC5\", \"#B0BEC5\", \"#B0BEC5\"]]}], \"label\": \"Topic 0\", \"method\": \"update\"}, {\"args\": [{\"marker.color\": [[\"#B0BEC5\", \"red\", \"#B0BEC5\", \"#B0BEC5\", \"#B0BEC5\", \"#B0BEC5\", \"#B0BEC5\", \"#B0BEC5\", \"#B0BEC5\", \"#B0BEC5\", \"#B0BEC5\", \"#B0BEC5\", \"#B0BEC5\", \"#B0BEC5\", \"#B0BEC5\", \"#B0BEC5\", \"#B0BEC5\", \"#B0BEC5\", \"#B0BEC5\", \"#B0BEC5\", \"#B0BEC5\", \"#B0BEC5\", \"#B0BEC5\", \"#B0BEC5\", \"#B0BEC5\", \"#B0BEC5\", \"#B0BEC5\", \"#B0BEC5\", \"#B0BEC5\", \"#B0BEC5\", \"#B0BEC5\", \"#B0BEC5\", \"#B0BEC5\", \"#B0BEC5\", \"#B0BEC5\", \"#B0BEC5\", \"#B0BEC5\", \"#B0BEC5\", \"#B0BEC5\", \"#B0BEC5\", \"#B0BEC5\", \"#B0BEC5\", \"#B0BEC5\", \"#B0BEC5\", \"#B0BEC5\", \"#B0BEC5\", \"#B0BEC5\", \"#B0BEC5\", \"#B0BEC5\", \"#B0BEC5\", \"#B0BEC5\", \"#B0BEC5\", \"#B0BEC5\", \"#B0BEC5\", \"#B0BEC5\", \"#B0BEC5\", \"#B0BEC5\", \"#B0BEC5\", \"#B0BEC5\", \"#B0BEC5\", \"#B0BEC5\", \"#B0BEC5\", \"#B0BEC5\", \"#B0BEC5\", \"#B0BEC5\", \"#B0BEC5\", \"#B0BEC5\", \"#B0BEC5\", \"#B0BEC5\", \"#B0BEC5\", \"#B0BEC5\", \"#B0BEC5\", \"#B0BEC5\", \"#B0BEC5\", \"#B0BEC5\", \"#B0BEC5\", \"#B0BEC5\", \"#B0BEC5\", \"#B0BEC5\"]]}], \"label\": \"Topic 1\", \"method\": \"update\"}, {\"args\": [{\"marker.color\": [[\"#B0BEC5\", \"#B0BEC5\", \"red\", \"#B0BEC5\", \"#B0BEC5\", \"#B0BEC5\", \"#B0BEC5\", \"#B0BEC5\", \"#B0BEC5\", \"#B0BEC5\", \"#B0BEC5\", \"#B0BEC5\", \"#B0BEC5\", \"#B0BEC5\", \"#B0BEC5\", \"#B0BEC5\", \"#B0BEC5\", \"#B0BEC5\", \"#B0BEC5\", \"#B0BEC5\", \"#B0BEC5\", \"#B0BEC5\", \"#B0BEC5\", \"#B0BEC5\", \"#B0BEC5\", \"#B0BEC5\", \"#B0BEC5\", \"#B0BEC5\", \"#B0BEC5\", \"#B0BEC5\", \"#B0BEC5\", \"#B0BEC5\", \"#B0BEC5\", \"#B0BEC5\", \"#B0BEC5\", \"#B0BEC5\", \"#B0BEC5\", \"#B0BEC5\", \"#B0BEC5\", \"#B0BEC5\", \"#B0BEC5\", \"#B0BEC5\", \"#B0BEC5\", \"#B0BEC5\", \"#B0BEC5\", \"#B0BEC5\", \"#B0BEC5\", \"#B0BEC5\", \"#B0BEC5\", \"#B0BEC5\", \"#B0BEC5\", \"#B0BEC5\", \"#B0BEC5\", \"#B0BEC5\", \"#B0BEC5\", \"#B0BEC5\", \"#B0BEC5\", \"#B0BEC5\", \"#B0BEC5\", \"#B0BEC5\", \"#B0BEC5\", \"#B0BEC5\", \"#B0BEC5\", \"#B0BEC5\", \"#B0BEC5\", \"#B0BEC5\", \"#B0BEC5\", \"#B0BEC5\", \"#B0BEC5\", \"#B0BEC5\", \"#B0BEC5\", \"#B0BEC5\", \"#B0BEC5\", \"#B0BEC5\", \"#B0BEC5\", \"#B0BEC5\", \"#B0BEC5\", \"#B0BEC5\", \"#B0BEC5\"]]}], \"label\": \"Topic 2\", \"method\": \"update\"}, {\"args\": [{\"marker.color\": [[\"#B0BEC5\", \"#B0BEC5\", \"#B0BEC5\", \"red\", \"#B0BEC5\", \"#B0BEC5\", \"#B0BEC5\", \"#B0BEC5\", \"#B0BEC5\", \"#B0BEC5\", \"#B0BEC5\", \"#B0BEC5\", \"#B0BEC5\", \"#B0BEC5\", \"#B0BEC5\", \"#B0BEC5\", \"#B0BEC5\", \"#B0BEC5\", \"#B0BEC5\", \"#B0BEC5\", \"#B0BEC5\", \"#B0BEC5\", \"#B0BEC5\", \"#B0BEC5\", \"#B0BEC5\", \"#B0BEC5\", \"#B0BEC5\", \"#B0BEC5\", \"#B0BEC5\", \"#B0BEC5\", \"#B0BEC5\", \"#B0BEC5\", \"#B0BEC5\", \"#B0BEC5\", \"#B0BEC5\", \"#B0BEC5\", \"#B0BEC5\", \"#B0BEC5\", \"#B0BEC5\", \"#B0BEC5\", \"#B0BEC5\", \"#B0BEC5\", \"#B0BEC5\", \"#B0BEC5\", \"#B0BEC5\", \"#B0BEC5\", \"#B0BEC5\", \"#B0BEC5\", \"#B0BEC5\", \"#B0BEC5\", \"#B0BEC5\", \"#B0BEC5\", \"#B0BEC5\", \"#B0BEC5\", \"#B0BEC5\", \"#B0BEC5\", \"#B0BEC5\", \"#B0BEC5\", \"#B0BEC5\", \"#B0BEC5\", \"#B0BEC5\", \"#B0BEC5\", \"#B0BEC5\", \"#B0BEC5\", \"#B0BEC5\", \"#B0BEC5\", \"#B0BEC5\", \"#B0BEC5\", \"#B0BEC5\", \"#B0BEC5\", \"#B0BEC5\", \"#B0BEC5\", \"#B0BEC5\", \"#B0BEC5\", \"#B0BEC5\", \"#B0BEC5\", \"#B0BEC5\", \"#B0BEC5\", \"#B0BEC5\"]]}], \"label\": \"Topic 3\", \"method\": \"update\"}, {\"args\": [{\"marker.color\": [[\"#B0BEC5\", \"#B0BEC5\", \"#B0BEC5\", \"#B0BEC5\", \"red\", \"#B0BEC5\", \"#B0BEC5\", \"#B0BEC5\", \"#B0BEC5\", \"#B0BEC5\", \"#B0BEC5\", \"#B0BEC5\", \"#B0BEC5\", \"#B0BEC5\", \"#B0BEC5\", \"#B0BEC5\", \"#B0BEC5\", \"#B0BEC5\", \"#B0BEC5\", \"#B0BEC5\", \"#B0BEC5\", \"#B0BEC5\", \"#B0BEC5\", \"#B0BEC5\", \"#B0BEC5\", \"#B0BEC5\", \"#B0BEC5\", \"#B0BEC5\", \"#B0BEC5\", \"#B0BEC5\", \"#B0BEC5\", \"#B0BEC5\", \"#B0BEC5\", \"#B0BEC5\", \"#B0BEC5\", \"#B0BEC5\", \"#B0BEC5\", \"#B0BEC5\", \"#B0BEC5\", \"#B0BEC5\", \"#B0BEC5\", \"#B0BEC5\", \"#B0BEC5\", \"#B0BEC5\", \"#B0BEC5\", \"#B0BEC5\", \"#B0BEC5\", \"#B0BEC5\", \"#B0BEC5\", \"#B0BEC5\", \"#B0BEC5\", \"#B0BEC5\", \"#B0BEC5\", \"#B0BEC5\", \"#B0BEC5\", \"#B0BEC5\", \"#B0BEC5\", \"#B0BEC5\", \"#B0BEC5\", \"#B0BEC5\", \"#B0BEC5\", \"#B0BEC5\", \"#B0BEC5\", \"#B0BEC5\", \"#B0BEC5\", \"#B0BEC5\", \"#B0BEC5\", \"#B0BEC5\", \"#B0BEC5\", \"#B0BEC5\", \"#B0BEC5\", \"#B0BEC5\", \"#B0BEC5\", \"#B0BEC5\", \"#B0BEC5\", \"#B0BEC5\", \"#B0BEC5\", \"#B0BEC5\", \"#B0BEC5\"]]}], \"label\": \"Topic 4\", \"method\": \"update\"}, {\"args\": [{\"marker.color\": [[\"#B0BEC5\", \"#B0BEC5\", \"#B0BEC5\", \"#B0BEC5\", \"#B0BEC5\", \"red\", \"#B0BEC5\", \"#B0BEC5\", \"#B0BEC5\", \"#B0BEC5\", \"#B0BEC5\", \"#B0BEC5\", \"#B0BEC5\", \"#B0BEC5\", \"#B0BEC5\", \"#B0BEC5\", \"#B0BEC5\", \"#B0BEC5\", \"#B0BEC5\", \"#B0BEC5\", \"#B0BEC5\", \"#B0BEC5\", \"#B0BEC5\", \"#B0BEC5\", \"#B0BEC5\", \"#B0BEC5\", \"#B0BEC5\", \"#B0BEC5\", \"#B0BEC5\", \"#B0BEC5\", \"#B0BEC5\", \"#B0BEC5\", \"#B0BEC5\", \"#B0BEC5\", \"#B0BEC5\", \"#B0BEC5\", \"#B0BEC5\", \"#B0BEC5\", \"#B0BEC5\", \"#B0BEC5\", \"#B0BEC5\", \"#B0BEC5\", \"#B0BEC5\", \"#B0BEC5\", \"#B0BEC5\", \"#B0BEC5\", \"#B0BEC5\", \"#B0BEC5\", \"#B0BEC5\", \"#B0BEC5\", \"#B0BEC5\", \"#B0BEC5\", \"#B0BEC5\", \"#B0BEC5\", \"#B0BEC5\", \"#B0BEC5\", \"#B0BEC5\", \"#B0BEC5\", \"#B0BEC5\", \"#B0BEC5\", \"#B0BEC5\", \"#B0BEC5\", \"#B0BEC5\", \"#B0BEC5\", \"#B0BEC5\", \"#B0BEC5\", \"#B0BEC5\", \"#B0BEC5\", \"#B0BEC5\", \"#B0BEC5\", \"#B0BEC5\", \"#B0BEC5\", \"#B0BEC5\", \"#B0BEC5\", \"#B0BEC5\", \"#B0BEC5\", \"#B0BEC5\", \"#B0BEC5\", \"#B0BEC5\"]]}], \"label\": \"Topic 5\", \"method\": \"update\"}, {\"args\": [{\"marker.color\": [[\"#B0BEC5\", \"#B0BEC5\", \"#B0BEC5\", \"#B0BEC5\", \"#B0BEC5\", \"#B0BEC5\", \"red\", \"#B0BEC5\", \"#B0BEC5\", \"#B0BEC5\", \"#B0BEC5\", \"#B0BEC5\", \"#B0BEC5\", \"#B0BEC5\", \"#B0BEC5\", \"#B0BEC5\", \"#B0BEC5\", \"#B0BEC5\", \"#B0BEC5\", \"#B0BEC5\", \"#B0BEC5\", \"#B0BEC5\", \"#B0BEC5\", \"#B0BEC5\", \"#B0BEC5\", \"#B0BEC5\", \"#B0BEC5\", \"#B0BEC5\", \"#B0BEC5\", \"#B0BEC5\", \"#B0BEC5\", \"#B0BEC5\", \"#B0BEC5\", \"#B0BEC5\", \"#B0BEC5\", \"#B0BEC5\", \"#B0BEC5\", \"#B0BEC5\", \"#B0BEC5\", \"#B0BEC5\", \"#B0BEC5\", \"#B0BEC5\", \"#B0BEC5\", \"#B0BEC5\", \"#B0BEC5\", \"#B0BEC5\", \"#B0BEC5\", \"#B0BEC5\", \"#B0BEC5\", \"#B0BEC5\", \"#B0BEC5\", \"#B0BEC5\", \"#B0BEC5\", \"#B0BEC5\", \"#B0BEC5\", \"#B0BEC5\", \"#B0BEC5\", \"#B0BEC5\", \"#B0BEC5\", \"#B0BEC5\", \"#B0BEC5\", \"#B0BEC5\", \"#B0BEC5\", \"#B0BEC5\", \"#B0BEC5\", \"#B0BEC5\", \"#B0BEC5\", \"#B0BEC5\", \"#B0BEC5\", \"#B0BEC5\", \"#B0BEC5\", \"#B0BEC5\", \"#B0BEC5\", \"#B0BEC5\", \"#B0BEC5\", \"#B0BEC5\", \"#B0BEC5\", \"#B0BEC5\", \"#B0BEC5\"]]}], \"label\": \"Topic 6\", \"method\": \"update\"}, {\"args\": [{\"marker.color\": [[\"#B0BEC5\", \"#B0BEC5\", \"#B0BEC5\", \"#B0BEC5\", \"#B0BEC5\", \"#B0BEC5\", \"#B0BEC5\", \"red\", \"#B0BEC5\", \"#B0BEC5\", \"#B0BEC5\", \"#B0BEC5\", \"#B0BEC5\", \"#B0BEC5\", \"#B0BEC5\", \"#B0BEC5\", \"#B0BEC5\", \"#B0BEC5\", \"#B0BEC5\", \"#B0BEC5\", \"#B0BEC5\", \"#B0BEC5\", \"#B0BEC5\", \"#B0BEC5\", \"#B0BEC5\", \"#B0BEC5\", \"#B0BEC5\", \"#B0BEC5\", \"#B0BEC5\", \"#B0BEC5\", \"#B0BEC5\", \"#B0BEC5\", \"#B0BEC5\", \"#B0BEC5\", \"#B0BEC5\", \"#B0BEC5\", \"#B0BEC5\", \"#B0BEC5\", \"#B0BEC5\", \"#B0BEC5\", \"#B0BEC5\", \"#B0BEC5\", \"#B0BEC5\", \"#B0BEC5\", \"#B0BEC5\", \"#B0BEC5\", \"#B0BEC5\", \"#B0BEC5\", \"#B0BEC5\", \"#B0BEC5\", \"#B0BEC5\", \"#B0BEC5\", \"#B0BEC5\", \"#B0BEC5\", \"#B0BEC5\", \"#B0BEC5\", \"#B0BEC5\", \"#B0BEC5\", \"#B0BEC5\", \"#B0BEC5\", \"#B0BEC5\", \"#B0BEC5\", \"#B0BEC5\", \"#B0BEC5\", \"#B0BEC5\", \"#B0BEC5\", \"#B0BEC5\", \"#B0BEC5\", \"#B0BEC5\", \"#B0BEC5\", \"#B0BEC5\", \"#B0BEC5\", \"#B0BEC5\", \"#B0BEC5\", \"#B0BEC5\", \"#B0BEC5\", \"#B0BEC5\", \"#B0BEC5\", \"#B0BEC5\"]]}], \"label\": \"Topic 7\", \"method\": \"update\"}, {\"args\": [{\"marker.color\": [[\"#B0BEC5\", \"#B0BEC5\", \"#B0BEC5\", \"#B0BEC5\", \"#B0BEC5\", \"#B0BEC5\", \"#B0BEC5\", \"#B0BEC5\", \"red\", \"#B0BEC5\", \"#B0BEC5\", \"#B0BEC5\", \"#B0BEC5\", \"#B0BEC5\", \"#B0BEC5\", \"#B0BEC5\", \"#B0BEC5\", \"#B0BEC5\", \"#B0BEC5\", \"#B0BEC5\", \"#B0BEC5\", \"#B0BEC5\", \"#B0BEC5\", \"#B0BEC5\", \"#B0BEC5\", \"#B0BEC5\", \"#B0BEC5\", \"#B0BEC5\", \"#B0BEC5\", \"#B0BEC5\", \"#B0BEC5\", \"#B0BEC5\", \"#B0BEC5\", \"#B0BEC5\", \"#B0BEC5\", \"#B0BEC5\", \"#B0BEC5\", \"#B0BEC5\", \"#B0BEC5\", \"#B0BEC5\", \"#B0BEC5\", \"#B0BEC5\", \"#B0BEC5\", \"#B0BEC5\", \"#B0BEC5\", \"#B0BEC5\", \"#B0BEC5\", \"#B0BEC5\", \"#B0BEC5\", \"#B0BEC5\", \"#B0BEC5\", \"#B0BEC5\", \"#B0BEC5\", \"#B0BEC5\", \"#B0BEC5\", \"#B0BEC5\", \"#B0BEC5\", \"#B0BEC5\", \"#B0BEC5\", \"#B0BEC5\", \"#B0BEC5\", \"#B0BEC5\", \"#B0BEC5\", \"#B0BEC5\", \"#B0BEC5\", \"#B0BEC5\", \"#B0BEC5\", \"#B0BEC5\", \"#B0BEC5\", \"#B0BEC5\", \"#B0BEC5\", \"#B0BEC5\", \"#B0BEC5\", \"#B0BEC5\", \"#B0BEC5\", \"#B0BEC5\", \"#B0BEC5\", \"#B0BEC5\", \"#B0BEC5\"]]}], \"label\": \"Topic 8\", \"method\": \"update\"}, {\"args\": [{\"marker.color\": [[\"#B0BEC5\", \"#B0BEC5\", \"#B0BEC5\", \"#B0BEC5\", \"#B0BEC5\", \"#B0BEC5\", \"#B0BEC5\", \"#B0BEC5\", \"#B0BEC5\", \"red\", \"#B0BEC5\", \"#B0BEC5\", \"#B0BEC5\", \"#B0BEC5\", \"#B0BEC5\", \"#B0BEC5\", \"#B0BEC5\", \"#B0BEC5\", \"#B0BEC5\", \"#B0BEC5\", \"#B0BEC5\", \"#B0BEC5\", \"#B0BEC5\", \"#B0BEC5\", \"#B0BEC5\", \"#B0BEC5\", \"#B0BEC5\", \"#B0BEC5\", \"#B0BEC5\", \"#B0BEC5\", \"#B0BEC5\", \"#B0BEC5\", \"#B0BEC5\", \"#B0BEC5\", \"#B0BEC5\", \"#B0BEC5\", \"#B0BEC5\", \"#B0BEC5\", \"#B0BEC5\", \"#B0BEC5\", \"#B0BEC5\", \"#B0BEC5\", \"#B0BEC5\", \"#B0BEC5\", \"#B0BEC5\", \"#B0BEC5\", \"#B0BEC5\", \"#B0BEC5\", \"#B0BEC5\", \"#B0BEC5\", \"#B0BEC5\", \"#B0BEC5\", \"#B0BEC5\", \"#B0BEC5\", \"#B0BEC5\", \"#B0BEC5\", \"#B0BEC5\", \"#B0BEC5\", \"#B0BEC5\", \"#B0BEC5\", \"#B0BEC5\", \"#B0BEC5\", \"#B0BEC5\", \"#B0BEC5\", \"#B0BEC5\", \"#B0BEC5\", \"#B0BEC5\", \"#B0BEC5\", \"#B0BEC5\", \"#B0BEC5\", \"#B0BEC5\", \"#B0BEC5\", \"#B0BEC5\", \"#B0BEC5\", \"#B0BEC5\", \"#B0BEC5\", \"#B0BEC5\", \"#B0BEC5\", \"#B0BEC5\"]]}], \"label\": \"Topic 9\", \"method\": \"update\"}, {\"args\": [{\"marker.color\": [[\"#B0BEC5\", \"#B0BEC5\", \"#B0BEC5\", \"#B0BEC5\", \"#B0BEC5\", \"#B0BEC5\", \"#B0BEC5\", \"#B0BEC5\", \"#B0BEC5\", \"#B0BEC5\", \"red\", \"#B0BEC5\", \"#B0BEC5\", \"#B0BEC5\", \"#B0BEC5\", \"#B0BEC5\", \"#B0BEC5\", \"#B0BEC5\", \"#B0BEC5\", \"#B0BEC5\", \"#B0BEC5\", \"#B0BEC5\", \"#B0BEC5\", \"#B0BEC5\", \"#B0BEC5\", \"#B0BEC5\", \"#B0BEC5\", \"#B0BEC5\", \"#B0BEC5\", \"#B0BEC5\", \"#B0BEC5\", \"#B0BEC5\", \"#B0BEC5\", \"#B0BEC5\", \"#B0BEC5\", \"#B0BEC5\", \"#B0BEC5\", \"#B0BEC5\", \"#B0BEC5\", \"#B0BEC5\", \"#B0BEC5\", \"#B0BEC5\", \"#B0BEC5\", \"#B0BEC5\", \"#B0BEC5\", \"#B0BEC5\", \"#B0BEC5\", \"#B0BEC5\", \"#B0BEC5\", \"#B0BEC5\", \"#B0BEC5\", \"#B0BEC5\", \"#B0BEC5\", \"#B0BEC5\", \"#B0BEC5\", \"#B0BEC5\", \"#B0BEC5\", \"#B0BEC5\", \"#B0BEC5\", \"#B0BEC5\", \"#B0BEC5\", \"#B0BEC5\", \"#B0BEC5\", \"#B0BEC5\", \"#B0BEC5\", \"#B0BEC5\", \"#B0BEC5\", \"#B0BEC5\", \"#B0BEC5\", \"#B0BEC5\", \"#B0BEC5\", \"#B0BEC5\", \"#B0BEC5\", \"#B0BEC5\", \"#B0BEC5\", \"#B0BEC5\", \"#B0BEC5\", \"#B0BEC5\", \"#B0BEC5\"]]}], \"label\": \"Topic 10\", \"method\": \"update\"}, {\"args\": [{\"marker.color\": [[\"#B0BEC5\", \"#B0BEC5\", \"#B0BEC5\", \"#B0BEC5\", \"#B0BEC5\", \"#B0BEC5\", \"#B0BEC5\", \"#B0BEC5\", \"#B0BEC5\", \"#B0BEC5\", \"#B0BEC5\", \"red\", \"#B0BEC5\", \"#B0BEC5\", \"#B0BEC5\", \"#B0BEC5\", \"#B0BEC5\", \"#B0BEC5\", \"#B0BEC5\", \"#B0BEC5\", \"#B0BEC5\", \"#B0BEC5\", \"#B0BEC5\", \"#B0BEC5\", \"#B0BEC5\", \"#B0BEC5\", \"#B0BEC5\", \"#B0BEC5\", \"#B0BEC5\", \"#B0BEC5\", \"#B0BEC5\", \"#B0BEC5\", \"#B0BEC5\", \"#B0BEC5\", \"#B0BEC5\", \"#B0BEC5\", \"#B0BEC5\", \"#B0BEC5\", \"#B0BEC5\", \"#B0BEC5\", \"#B0BEC5\", \"#B0BEC5\", \"#B0BEC5\", \"#B0BEC5\", \"#B0BEC5\", \"#B0BEC5\", \"#B0BEC5\", \"#B0BEC5\", \"#B0BEC5\", \"#B0BEC5\", \"#B0BEC5\", \"#B0BEC5\", \"#B0BEC5\", \"#B0BEC5\", \"#B0BEC5\", \"#B0BEC5\", \"#B0BEC5\", \"#B0BEC5\", \"#B0BEC5\", \"#B0BEC5\", \"#B0BEC5\", \"#B0BEC5\", \"#B0BEC5\", \"#B0BEC5\", \"#B0BEC5\", \"#B0BEC5\", \"#B0BEC5\", \"#B0BEC5\", \"#B0BEC5\", \"#B0BEC5\", \"#B0BEC5\", \"#B0BEC5\", \"#B0BEC5\", \"#B0BEC5\", \"#B0BEC5\", \"#B0BEC5\", \"#B0BEC5\", \"#B0BEC5\", \"#B0BEC5\"]]}], \"label\": \"Topic 11\", \"method\": \"update\"}, {\"args\": [{\"marker.color\": [[\"#B0BEC5\", \"#B0BEC5\", \"#B0BEC5\", \"#B0BEC5\", \"#B0BEC5\", \"#B0BEC5\", \"#B0BEC5\", \"#B0BEC5\", \"#B0BEC5\", \"#B0BEC5\", \"#B0BEC5\", \"#B0BEC5\", \"red\", \"#B0BEC5\", \"#B0BEC5\", \"#B0BEC5\", \"#B0BEC5\", \"#B0BEC5\", \"#B0BEC5\", \"#B0BEC5\", \"#B0BEC5\", \"#B0BEC5\", \"#B0BEC5\", \"#B0BEC5\", \"#B0BEC5\", \"#B0BEC5\", \"#B0BEC5\", \"#B0BEC5\", \"#B0BEC5\", \"#B0BEC5\", \"#B0BEC5\", \"#B0BEC5\", \"#B0BEC5\", \"#B0BEC5\", \"#B0BEC5\", \"#B0BEC5\", \"#B0BEC5\", \"#B0BEC5\", \"#B0BEC5\", \"#B0BEC5\", \"#B0BEC5\", \"#B0BEC5\", \"#B0BEC5\", \"#B0BEC5\", \"#B0BEC5\", \"#B0BEC5\", \"#B0BEC5\", \"#B0BEC5\", \"#B0BEC5\", \"#B0BEC5\", \"#B0BEC5\", \"#B0BEC5\", \"#B0BEC5\", \"#B0BEC5\", \"#B0BEC5\", \"#B0BEC5\", \"#B0BEC5\", \"#B0BEC5\", \"#B0BEC5\", \"#B0BEC5\", \"#B0BEC5\", \"#B0BEC5\", \"#B0BEC5\", \"#B0BEC5\", \"#B0BEC5\", \"#B0BEC5\", \"#B0BEC5\", \"#B0BEC5\", \"#B0BEC5\", \"#B0BEC5\", \"#B0BEC5\", \"#B0BEC5\", \"#B0BEC5\", \"#B0BEC5\", \"#B0BEC5\", \"#B0BEC5\", \"#B0BEC5\", \"#B0BEC5\", \"#B0BEC5\"]]}], \"label\": \"Topic 12\", \"method\": \"update\"}, {\"args\": [{\"marker.color\": [[\"#B0BEC5\", \"#B0BEC5\", \"#B0BEC5\", \"#B0BEC5\", \"#B0BEC5\", \"#B0BEC5\", \"#B0BEC5\", \"#B0BEC5\", \"#B0BEC5\", \"#B0BEC5\", \"#B0BEC5\", \"#B0BEC5\", \"#B0BEC5\", \"red\", \"#B0BEC5\", \"#B0BEC5\", \"#B0BEC5\", \"#B0BEC5\", \"#B0BEC5\", \"#B0BEC5\", \"#B0BEC5\", \"#B0BEC5\", \"#B0BEC5\", \"#B0BEC5\", \"#B0BEC5\", \"#B0BEC5\", \"#B0BEC5\", \"#B0BEC5\", \"#B0BEC5\", \"#B0BEC5\", \"#B0BEC5\", \"#B0BEC5\", \"#B0BEC5\", \"#B0BEC5\", \"#B0BEC5\", \"#B0BEC5\", \"#B0BEC5\", \"#B0BEC5\", \"#B0BEC5\", \"#B0BEC5\", \"#B0BEC5\", \"#B0BEC5\", \"#B0BEC5\", \"#B0BEC5\", \"#B0BEC5\", \"#B0BEC5\", \"#B0BEC5\", \"#B0BEC5\", \"#B0BEC5\", \"#B0BEC5\", \"#B0BEC5\", \"#B0BEC5\", \"#B0BEC5\", \"#B0BEC5\", \"#B0BEC5\", \"#B0BEC5\", \"#B0BEC5\", \"#B0BEC5\", \"#B0BEC5\", \"#B0BEC5\", \"#B0BEC5\", \"#B0BEC5\", \"#B0BEC5\", \"#B0BEC5\", \"#B0BEC5\", \"#B0BEC5\", \"#B0BEC5\", \"#B0BEC5\", \"#B0BEC5\", \"#B0BEC5\", \"#B0BEC5\", \"#B0BEC5\", \"#B0BEC5\", \"#B0BEC5\", \"#B0BEC5\", \"#B0BEC5\", \"#B0BEC5\", \"#B0BEC5\", \"#B0BEC5\"]]}], \"label\": \"Topic 13\", \"method\": \"update\"}, {\"args\": [{\"marker.color\": [[\"#B0BEC5\", \"#B0BEC5\", \"#B0BEC5\", \"#B0BEC5\", \"#B0BEC5\", \"#B0BEC5\", \"#B0BEC5\", \"#B0BEC5\", \"#B0BEC5\", \"#B0BEC5\", \"#B0BEC5\", \"#B0BEC5\", \"#B0BEC5\", \"#B0BEC5\", \"red\", \"#B0BEC5\", \"#B0BEC5\", \"#B0BEC5\", \"#B0BEC5\", \"#B0BEC5\", \"#B0BEC5\", \"#B0BEC5\", \"#B0BEC5\", \"#B0BEC5\", \"#B0BEC5\", \"#B0BEC5\", \"#B0BEC5\", \"#B0BEC5\", \"#B0BEC5\", \"#B0BEC5\", \"#B0BEC5\", \"#B0BEC5\", \"#B0BEC5\", \"#B0BEC5\", \"#B0BEC5\", \"#B0BEC5\", \"#B0BEC5\", \"#B0BEC5\", \"#B0BEC5\", \"#B0BEC5\", \"#B0BEC5\", \"#B0BEC5\", \"#B0BEC5\", \"#B0BEC5\", \"#B0BEC5\", \"#B0BEC5\", \"#B0BEC5\", \"#B0BEC5\", \"#B0BEC5\", \"#B0BEC5\", \"#B0BEC5\", \"#B0BEC5\", \"#B0BEC5\", \"#B0BEC5\", \"#B0BEC5\", \"#B0BEC5\", \"#B0BEC5\", \"#B0BEC5\", \"#B0BEC5\", \"#B0BEC5\", \"#B0BEC5\", \"#B0BEC5\", \"#B0BEC5\", \"#B0BEC5\", \"#B0BEC5\", \"#B0BEC5\", \"#B0BEC5\", \"#B0BEC5\", \"#B0BEC5\", \"#B0BEC5\", \"#B0BEC5\", \"#B0BEC5\", \"#B0BEC5\", \"#B0BEC5\", \"#B0BEC5\", \"#B0BEC5\", \"#B0BEC5\", \"#B0BEC5\", \"#B0BEC5\"]]}], \"label\": \"Topic 14\", \"method\": \"update\"}, {\"args\": [{\"marker.color\": [[\"#B0BEC5\", \"#B0BEC5\", \"#B0BEC5\", \"#B0BEC5\", \"#B0BEC5\", \"#B0BEC5\", \"#B0BEC5\", \"#B0BEC5\", \"#B0BEC5\", \"#B0BEC5\", \"#B0BEC5\", \"#B0BEC5\", \"#B0BEC5\", \"#B0BEC5\", \"#B0BEC5\", \"red\", \"#B0BEC5\", \"#B0BEC5\", \"#B0BEC5\", \"#B0BEC5\", \"#B0BEC5\", \"#B0BEC5\", \"#B0BEC5\", \"#B0BEC5\", \"#B0BEC5\", \"#B0BEC5\", \"#B0BEC5\", \"#B0BEC5\", \"#B0BEC5\", \"#B0BEC5\", \"#B0BEC5\", \"#B0BEC5\", \"#B0BEC5\", \"#B0BEC5\", \"#B0BEC5\", \"#B0BEC5\", \"#B0BEC5\", \"#B0BEC5\", \"#B0BEC5\", \"#B0BEC5\", \"#B0BEC5\", \"#B0BEC5\", \"#B0BEC5\", \"#B0BEC5\", \"#B0BEC5\", \"#B0BEC5\", \"#B0BEC5\", \"#B0BEC5\", \"#B0BEC5\", \"#B0BEC5\", \"#B0BEC5\", \"#B0BEC5\", \"#B0BEC5\", \"#B0BEC5\", \"#B0BEC5\", \"#B0BEC5\", \"#B0BEC5\", \"#B0BEC5\", \"#B0BEC5\", \"#B0BEC5\", \"#B0BEC5\", \"#B0BEC5\", \"#B0BEC5\", \"#B0BEC5\", \"#B0BEC5\", \"#B0BEC5\", \"#B0BEC5\", \"#B0BEC5\", \"#B0BEC5\", \"#B0BEC5\", \"#B0BEC5\", \"#B0BEC5\", \"#B0BEC5\", \"#B0BEC5\", \"#B0BEC5\", \"#B0BEC5\", \"#B0BEC5\", \"#B0BEC5\", \"#B0BEC5\"]]}], \"label\": \"Topic 15\", \"method\": \"update\"}, {\"args\": [{\"marker.color\": [[\"#B0BEC5\", \"#B0BEC5\", \"#B0BEC5\", \"#B0BEC5\", \"#B0BEC5\", \"#B0BEC5\", \"#B0BEC5\", \"#B0BEC5\", \"#B0BEC5\", \"#B0BEC5\", \"#B0BEC5\", \"#B0BEC5\", \"#B0BEC5\", \"#B0BEC5\", \"#B0BEC5\", \"#B0BEC5\", \"red\", \"#B0BEC5\", \"#B0BEC5\", \"#B0BEC5\", \"#B0BEC5\", \"#B0BEC5\", \"#B0BEC5\", \"#B0BEC5\", \"#B0BEC5\", \"#B0BEC5\", \"#B0BEC5\", \"#B0BEC5\", \"#B0BEC5\", \"#B0BEC5\", \"#B0BEC5\", \"#B0BEC5\", \"#B0BEC5\", \"#B0BEC5\", \"#B0BEC5\", \"#B0BEC5\", \"#B0BEC5\", \"#B0BEC5\", \"#B0BEC5\", \"#B0BEC5\", \"#B0BEC5\", \"#B0BEC5\", \"#B0BEC5\", \"#B0BEC5\", \"#B0BEC5\", \"#B0BEC5\", \"#B0BEC5\", \"#B0BEC5\", \"#B0BEC5\", \"#B0BEC5\", \"#B0BEC5\", \"#B0BEC5\", \"#B0BEC5\", \"#B0BEC5\", \"#B0BEC5\", \"#B0BEC5\", \"#B0BEC5\", \"#B0BEC5\", \"#B0BEC5\", \"#B0BEC5\", \"#B0BEC5\", \"#B0BEC5\", \"#B0BEC5\", \"#B0BEC5\", \"#B0BEC5\", \"#B0BEC5\", \"#B0BEC5\", \"#B0BEC5\", \"#B0BEC5\", \"#B0BEC5\", \"#B0BEC5\", \"#B0BEC5\", \"#B0BEC5\", \"#B0BEC5\", \"#B0BEC5\", \"#B0BEC5\", \"#B0BEC5\", \"#B0BEC5\", \"#B0BEC5\"]]}], \"label\": \"Topic 16\", \"method\": \"update\"}, {\"args\": [{\"marker.color\": [[\"#B0BEC5\", \"#B0BEC5\", \"#B0BEC5\", \"#B0BEC5\", \"#B0BEC5\", \"#B0BEC5\", \"#B0BEC5\", \"#B0BEC5\", \"#B0BEC5\", \"#B0BEC5\", \"#B0BEC5\", \"#B0BEC5\", \"#B0BEC5\", \"#B0BEC5\", \"#B0BEC5\", \"#B0BEC5\", \"#B0BEC5\", \"red\", \"#B0BEC5\", \"#B0BEC5\", \"#B0BEC5\", \"#B0BEC5\", \"#B0BEC5\", \"#B0BEC5\", \"#B0BEC5\", \"#B0BEC5\", \"#B0BEC5\", \"#B0BEC5\", \"#B0BEC5\", \"#B0BEC5\", \"#B0BEC5\", \"#B0BEC5\", \"#B0BEC5\", \"#B0BEC5\", \"#B0BEC5\", \"#B0BEC5\", \"#B0BEC5\", \"#B0BEC5\", \"#B0BEC5\", \"#B0BEC5\", \"#B0BEC5\", \"#B0BEC5\", \"#B0BEC5\", \"#B0BEC5\", \"#B0BEC5\", \"#B0BEC5\", \"#B0BEC5\", \"#B0BEC5\", \"#B0BEC5\", \"#B0BEC5\", \"#B0BEC5\", \"#B0BEC5\", \"#B0BEC5\", \"#B0BEC5\", \"#B0BEC5\", \"#B0BEC5\", \"#B0BEC5\", \"#B0BEC5\", \"#B0BEC5\", \"#B0BEC5\", \"#B0BEC5\", \"#B0BEC5\", \"#B0BEC5\", \"#B0BEC5\", \"#B0BEC5\", \"#B0BEC5\", \"#B0BEC5\", \"#B0BEC5\", \"#B0BEC5\", \"#B0BEC5\", \"#B0BEC5\", \"#B0BEC5\", \"#B0BEC5\", \"#B0BEC5\", \"#B0BEC5\", \"#B0BEC5\", \"#B0BEC5\", \"#B0BEC5\", \"#B0BEC5\"]]}], \"label\": \"Topic 17\", \"method\": \"update\"}, {\"args\": [{\"marker.color\": [[\"#B0BEC5\", \"#B0BEC5\", \"#B0BEC5\", \"#B0BEC5\", \"#B0BEC5\", \"#B0BEC5\", \"#B0BEC5\", \"#B0BEC5\", \"#B0BEC5\", \"#B0BEC5\", \"#B0BEC5\", \"#B0BEC5\", \"#B0BEC5\", \"#B0BEC5\", \"#B0BEC5\", \"#B0BEC5\", \"#B0BEC5\", \"#B0BEC5\", \"red\", \"#B0BEC5\", \"#B0BEC5\", \"#B0BEC5\", \"#B0BEC5\", \"#B0BEC5\", \"#B0BEC5\", \"#B0BEC5\", \"#B0BEC5\", \"#B0BEC5\", \"#B0BEC5\", \"#B0BEC5\", \"#B0BEC5\", \"#B0BEC5\", \"#B0BEC5\", \"#B0BEC5\", \"#B0BEC5\", \"#B0BEC5\", \"#B0BEC5\", \"#B0BEC5\", \"#B0BEC5\", \"#B0BEC5\", \"#B0BEC5\", \"#B0BEC5\", \"#B0BEC5\", \"#B0BEC5\", \"#B0BEC5\", \"#B0BEC5\", \"#B0BEC5\", \"#B0BEC5\", \"#B0BEC5\", \"#B0BEC5\", \"#B0BEC5\", \"#B0BEC5\", \"#B0BEC5\", \"#B0BEC5\", \"#B0BEC5\", \"#B0BEC5\", \"#B0BEC5\", \"#B0BEC5\", \"#B0BEC5\", \"#B0BEC5\", \"#B0BEC5\", \"#B0BEC5\", \"#B0BEC5\", \"#B0BEC5\", \"#B0BEC5\", \"#B0BEC5\", \"#B0BEC5\", \"#B0BEC5\", \"#B0BEC5\", \"#B0BEC5\", \"#B0BEC5\", \"#B0BEC5\", \"#B0BEC5\", \"#B0BEC5\", \"#B0BEC5\", \"#B0BEC5\", \"#B0BEC5\", \"#B0BEC5\", \"#B0BEC5\"]]}], \"label\": \"Topic 18\", \"method\": \"update\"}, {\"args\": [{\"marker.color\": [[\"#B0BEC5\", \"#B0BEC5\", \"#B0BEC5\", \"#B0BEC5\", \"#B0BEC5\", \"#B0BEC5\", \"#B0BEC5\", \"#B0BEC5\", \"#B0BEC5\", \"#B0BEC5\", \"#B0BEC5\", \"#B0BEC5\", \"#B0BEC5\", \"#B0BEC5\", \"#B0BEC5\", \"#B0BEC5\", \"#B0BEC5\", \"#B0BEC5\", \"#B0BEC5\", \"red\", \"#B0BEC5\", \"#B0BEC5\", \"#B0BEC5\", \"#B0BEC5\", \"#B0BEC5\", \"#B0BEC5\", \"#B0BEC5\", \"#B0BEC5\", \"#B0BEC5\", \"#B0BEC5\", \"#B0BEC5\", \"#B0BEC5\", \"#B0BEC5\", \"#B0BEC5\", \"#B0BEC5\", \"#B0BEC5\", \"#B0BEC5\", \"#B0BEC5\", \"#B0BEC5\", \"#B0BEC5\", \"#B0BEC5\", \"#B0BEC5\", \"#B0BEC5\", \"#B0BEC5\", \"#B0BEC5\", \"#B0BEC5\", \"#B0BEC5\", \"#B0BEC5\", \"#B0BEC5\", \"#B0BEC5\", \"#B0BEC5\", \"#B0BEC5\", \"#B0BEC5\", \"#B0BEC5\", \"#B0BEC5\", \"#B0BEC5\", \"#B0BEC5\", \"#B0BEC5\", \"#B0BEC5\", \"#B0BEC5\", \"#B0BEC5\", \"#B0BEC5\", \"#B0BEC5\", \"#B0BEC5\", \"#B0BEC5\", \"#B0BEC5\", \"#B0BEC5\", \"#B0BEC5\", \"#B0BEC5\", \"#B0BEC5\", \"#B0BEC5\", \"#B0BEC5\", \"#B0BEC5\", \"#B0BEC5\", \"#B0BEC5\", \"#B0BEC5\", \"#B0BEC5\", \"#B0BEC5\", \"#B0BEC5\"]]}], \"label\": \"Topic 19\", \"method\": \"update\"}, {\"args\": [{\"marker.color\": [[\"#B0BEC5\", \"#B0BEC5\", \"#B0BEC5\", \"#B0BEC5\", \"#B0BEC5\", \"#B0BEC5\", \"#B0BEC5\", \"#B0BEC5\", \"#B0BEC5\", \"#B0BEC5\", \"#B0BEC5\", \"#B0BEC5\", \"#B0BEC5\", \"#B0BEC5\", \"#B0BEC5\", \"#B0BEC5\", \"#B0BEC5\", \"#B0BEC5\", \"#B0BEC5\", \"#B0BEC5\", \"red\", \"#B0BEC5\", \"#B0BEC5\", \"#B0BEC5\", \"#B0BEC5\", \"#B0BEC5\", \"#B0BEC5\", \"#B0BEC5\", \"#B0BEC5\", \"#B0BEC5\", \"#B0BEC5\", \"#B0BEC5\", \"#B0BEC5\", \"#B0BEC5\", \"#B0BEC5\", \"#B0BEC5\", \"#B0BEC5\", \"#B0BEC5\", \"#B0BEC5\", \"#B0BEC5\", \"#B0BEC5\", \"#B0BEC5\", \"#B0BEC5\", \"#B0BEC5\", \"#B0BEC5\", \"#B0BEC5\", \"#B0BEC5\", \"#B0BEC5\", \"#B0BEC5\", \"#B0BEC5\", \"#B0BEC5\", \"#B0BEC5\", \"#B0BEC5\", \"#B0BEC5\", \"#B0BEC5\", \"#B0BEC5\", \"#B0BEC5\", \"#B0BEC5\", \"#B0BEC5\", \"#B0BEC5\", \"#B0BEC5\", \"#B0BEC5\", \"#B0BEC5\", \"#B0BEC5\", \"#B0BEC5\", \"#B0BEC5\", \"#B0BEC5\", \"#B0BEC5\", \"#B0BEC5\", \"#B0BEC5\", \"#B0BEC5\", \"#B0BEC5\", \"#B0BEC5\", \"#B0BEC5\", \"#B0BEC5\", \"#B0BEC5\", \"#B0BEC5\", \"#B0BEC5\", \"#B0BEC5\"]]}], \"label\": \"Topic 20\", \"method\": \"update\"}, {\"args\": [{\"marker.color\": [[\"#B0BEC5\", \"#B0BEC5\", \"#B0BEC5\", \"#B0BEC5\", \"#B0BEC5\", \"#B0BEC5\", \"#B0BEC5\", \"#B0BEC5\", \"#B0BEC5\", \"#B0BEC5\", \"#B0BEC5\", \"#B0BEC5\", \"#B0BEC5\", \"#B0BEC5\", \"#B0BEC5\", \"#B0BEC5\", \"#B0BEC5\", \"#B0BEC5\", \"#B0BEC5\", \"#B0BEC5\", \"#B0BEC5\", \"red\", \"#B0BEC5\", \"#B0BEC5\", \"#B0BEC5\", \"#B0BEC5\", \"#B0BEC5\", \"#B0BEC5\", \"#B0BEC5\", \"#B0BEC5\", \"#B0BEC5\", \"#B0BEC5\", \"#B0BEC5\", \"#B0BEC5\", \"#B0BEC5\", \"#B0BEC5\", \"#B0BEC5\", \"#B0BEC5\", \"#B0BEC5\", \"#B0BEC5\", \"#B0BEC5\", \"#B0BEC5\", \"#B0BEC5\", \"#B0BEC5\", \"#B0BEC5\", \"#B0BEC5\", \"#B0BEC5\", \"#B0BEC5\", \"#B0BEC5\", \"#B0BEC5\", \"#B0BEC5\", \"#B0BEC5\", \"#B0BEC5\", \"#B0BEC5\", \"#B0BEC5\", \"#B0BEC5\", \"#B0BEC5\", \"#B0BEC5\", \"#B0BEC5\", \"#B0BEC5\", \"#B0BEC5\", \"#B0BEC5\", \"#B0BEC5\", \"#B0BEC5\", \"#B0BEC5\", \"#B0BEC5\", \"#B0BEC5\", \"#B0BEC5\", \"#B0BEC5\", \"#B0BEC5\", \"#B0BEC5\", \"#B0BEC5\", \"#B0BEC5\", \"#B0BEC5\", \"#B0BEC5\", \"#B0BEC5\", \"#B0BEC5\", \"#B0BEC5\", \"#B0BEC5\"]]}], \"label\": \"Topic 21\", \"method\": \"update\"}, {\"args\": [{\"marker.color\": [[\"#B0BEC5\", \"#B0BEC5\", \"#B0BEC5\", \"#B0BEC5\", \"#B0BEC5\", \"#B0BEC5\", \"#B0BEC5\", \"#B0BEC5\", \"#B0BEC5\", \"#B0BEC5\", \"#B0BEC5\", \"#B0BEC5\", \"#B0BEC5\", \"#B0BEC5\", \"#B0BEC5\", \"#B0BEC5\", \"#B0BEC5\", \"#B0BEC5\", \"#B0BEC5\", \"#B0BEC5\", \"#B0BEC5\", \"#B0BEC5\", \"red\", \"#B0BEC5\", \"#B0BEC5\", \"#B0BEC5\", \"#B0BEC5\", \"#B0BEC5\", \"#B0BEC5\", \"#B0BEC5\", \"#B0BEC5\", \"#B0BEC5\", \"#B0BEC5\", \"#B0BEC5\", \"#B0BEC5\", \"#B0BEC5\", \"#B0BEC5\", \"#B0BEC5\", \"#B0BEC5\", \"#B0BEC5\", \"#B0BEC5\", \"#B0BEC5\", \"#B0BEC5\", \"#B0BEC5\", \"#B0BEC5\", \"#B0BEC5\", \"#B0BEC5\", \"#B0BEC5\", \"#B0BEC5\", \"#B0BEC5\", \"#B0BEC5\", \"#B0BEC5\", \"#B0BEC5\", \"#B0BEC5\", \"#B0BEC5\", \"#B0BEC5\", \"#B0BEC5\", \"#B0BEC5\", \"#B0BEC5\", \"#B0BEC5\", \"#B0BEC5\", \"#B0BEC5\", \"#B0BEC5\", \"#B0BEC5\", \"#B0BEC5\", \"#B0BEC5\", \"#B0BEC5\", \"#B0BEC5\", \"#B0BEC5\", \"#B0BEC5\", \"#B0BEC5\", \"#B0BEC5\", \"#B0BEC5\", \"#B0BEC5\", \"#B0BEC5\", \"#B0BEC5\", \"#B0BEC5\", \"#B0BEC5\", \"#B0BEC5\"]]}], \"label\": \"Topic 22\", \"method\": \"update\"}, {\"args\": [{\"marker.color\": [[\"#B0BEC5\", \"#B0BEC5\", \"#B0BEC5\", \"#B0BEC5\", \"#B0BEC5\", \"#B0BEC5\", \"#B0BEC5\", \"#B0BEC5\", \"#B0BEC5\", \"#B0BEC5\", \"#B0BEC5\", \"#B0BEC5\", \"#B0BEC5\", \"#B0BEC5\", \"#B0BEC5\", \"#B0BEC5\", \"#B0BEC5\", \"#B0BEC5\", \"#B0BEC5\", \"#B0BEC5\", \"#B0BEC5\", \"#B0BEC5\", \"#B0BEC5\", \"red\", \"#B0BEC5\", \"#B0BEC5\", \"#B0BEC5\", \"#B0BEC5\", \"#B0BEC5\", \"#B0BEC5\", \"#B0BEC5\", \"#B0BEC5\", \"#B0BEC5\", \"#B0BEC5\", \"#B0BEC5\", \"#B0BEC5\", \"#B0BEC5\", \"#B0BEC5\", \"#B0BEC5\", \"#B0BEC5\", \"#B0BEC5\", \"#B0BEC5\", \"#B0BEC5\", \"#B0BEC5\", \"#B0BEC5\", \"#B0BEC5\", \"#B0BEC5\", \"#B0BEC5\", \"#B0BEC5\", \"#B0BEC5\", \"#B0BEC5\", \"#B0BEC5\", \"#B0BEC5\", \"#B0BEC5\", \"#B0BEC5\", \"#B0BEC5\", \"#B0BEC5\", \"#B0BEC5\", \"#B0BEC5\", \"#B0BEC5\", \"#B0BEC5\", \"#B0BEC5\", \"#B0BEC5\", \"#B0BEC5\", \"#B0BEC5\", \"#B0BEC5\", \"#B0BEC5\", \"#B0BEC5\", \"#B0BEC5\", \"#B0BEC5\", \"#B0BEC5\", \"#B0BEC5\", \"#B0BEC5\", \"#B0BEC5\", \"#B0BEC5\", \"#B0BEC5\", \"#B0BEC5\", \"#B0BEC5\", \"#B0BEC5\"]]}], \"label\": \"Topic 23\", \"method\": \"update\"}, {\"args\": [{\"marker.color\": [[\"#B0BEC5\", \"#B0BEC5\", \"#B0BEC5\", \"#B0BEC5\", \"#B0BEC5\", \"#B0BEC5\", \"#B0BEC5\", \"#B0BEC5\", \"#B0BEC5\", \"#B0BEC5\", \"#B0BEC5\", \"#B0BEC5\", \"#B0BEC5\", \"#B0BEC5\", \"#B0BEC5\", \"#B0BEC5\", \"#B0BEC5\", \"#B0BEC5\", \"#B0BEC5\", \"#B0BEC5\", \"#B0BEC5\", \"#B0BEC5\", \"#B0BEC5\", \"#B0BEC5\", \"red\", \"#B0BEC5\", \"#B0BEC5\", \"#B0BEC5\", \"#B0BEC5\", \"#B0BEC5\", \"#B0BEC5\", \"#B0BEC5\", \"#B0BEC5\", \"#B0BEC5\", \"#B0BEC5\", \"#B0BEC5\", \"#B0BEC5\", \"#B0BEC5\", \"#B0BEC5\", \"#B0BEC5\", \"#B0BEC5\", \"#B0BEC5\", \"#B0BEC5\", \"#B0BEC5\", \"#B0BEC5\", \"#B0BEC5\", \"#B0BEC5\", \"#B0BEC5\", \"#B0BEC5\", \"#B0BEC5\", \"#B0BEC5\", \"#B0BEC5\", \"#B0BEC5\", \"#B0BEC5\", \"#B0BEC5\", \"#B0BEC5\", \"#B0BEC5\", \"#B0BEC5\", \"#B0BEC5\", \"#B0BEC5\", \"#B0BEC5\", \"#B0BEC5\", \"#B0BEC5\", \"#B0BEC5\", \"#B0BEC5\", \"#B0BEC5\", \"#B0BEC5\", \"#B0BEC5\", \"#B0BEC5\", \"#B0BEC5\", \"#B0BEC5\", \"#B0BEC5\", \"#B0BEC5\", \"#B0BEC5\", \"#B0BEC5\", \"#B0BEC5\", \"#B0BEC5\", \"#B0BEC5\", \"#B0BEC5\"]]}], \"label\": \"Topic 24\", \"method\": \"update\"}, {\"args\": [{\"marker.color\": [[\"#B0BEC5\", \"#B0BEC5\", \"#B0BEC5\", \"#B0BEC5\", \"#B0BEC5\", \"#B0BEC5\", \"#B0BEC5\", \"#B0BEC5\", \"#B0BEC5\", \"#B0BEC5\", \"#B0BEC5\", \"#B0BEC5\", \"#B0BEC5\", \"#B0BEC5\", \"#B0BEC5\", \"#B0BEC5\", \"#B0BEC5\", \"#B0BEC5\", \"#B0BEC5\", \"#B0BEC5\", \"#B0BEC5\", \"#B0BEC5\", \"#B0BEC5\", \"#B0BEC5\", \"#B0BEC5\", \"red\", \"#B0BEC5\", \"#B0BEC5\", \"#B0BEC5\", \"#B0BEC5\", \"#B0BEC5\", \"#B0BEC5\", \"#B0BEC5\", \"#B0BEC5\", \"#B0BEC5\", \"#B0BEC5\", \"#B0BEC5\", \"#B0BEC5\", \"#B0BEC5\", \"#B0BEC5\", \"#B0BEC5\", \"#B0BEC5\", \"#B0BEC5\", \"#B0BEC5\", \"#B0BEC5\", \"#B0BEC5\", \"#B0BEC5\", \"#B0BEC5\", \"#B0BEC5\", \"#B0BEC5\", \"#B0BEC5\", \"#B0BEC5\", \"#B0BEC5\", \"#B0BEC5\", \"#B0BEC5\", \"#B0BEC5\", \"#B0BEC5\", \"#B0BEC5\", \"#B0BEC5\", \"#B0BEC5\", \"#B0BEC5\", \"#B0BEC5\", \"#B0BEC5\", \"#B0BEC5\", \"#B0BEC5\", \"#B0BEC5\", \"#B0BEC5\", \"#B0BEC5\", \"#B0BEC5\", \"#B0BEC5\", \"#B0BEC5\", \"#B0BEC5\", \"#B0BEC5\", \"#B0BEC5\", \"#B0BEC5\", \"#B0BEC5\", \"#B0BEC5\", \"#B0BEC5\", \"#B0BEC5\"]]}], \"label\": \"Topic 25\", \"method\": \"update\"}, {\"args\": [{\"marker.color\": [[\"#B0BEC5\", \"#B0BEC5\", \"#B0BEC5\", \"#B0BEC5\", \"#B0BEC5\", \"#B0BEC5\", \"#B0BEC5\", \"#B0BEC5\", \"#B0BEC5\", \"#B0BEC5\", \"#B0BEC5\", \"#B0BEC5\", \"#B0BEC5\", \"#B0BEC5\", \"#B0BEC5\", \"#B0BEC5\", \"#B0BEC5\", \"#B0BEC5\", \"#B0BEC5\", \"#B0BEC5\", \"#B0BEC5\", \"#B0BEC5\", \"#B0BEC5\", \"#B0BEC5\", \"#B0BEC5\", \"#B0BEC5\", \"red\", \"#B0BEC5\", \"#B0BEC5\", \"#B0BEC5\", \"#B0BEC5\", \"#B0BEC5\", \"#B0BEC5\", \"#B0BEC5\", \"#B0BEC5\", \"#B0BEC5\", \"#B0BEC5\", \"#B0BEC5\", \"#B0BEC5\", \"#B0BEC5\", \"#B0BEC5\", \"#B0BEC5\", \"#B0BEC5\", \"#B0BEC5\", \"#B0BEC5\", \"#B0BEC5\", \"#B0BEC5\", \"#B0BEC5\", \"#B0BEC5\", \"#B0BEC5\", \"#B0BEC5\", \"#B0BEC5\", \"#B0BEC5\", \"#B0BEC5\", \"#B0BEC5\", \"#B0BEC5\", \"#B0BEC5\", \"#B0BEC5\", \"#B0BEC5\", \"#B0BEC5\", \"#B0BEC5\", \"#B0BEC5\", \"#B0BEC5\", \"#B0BEC5\", \"#B0BEC5\", \"#B0BEC5\", \"#B0BEC5\", \"#B0BEC5\", \"#B0BEC5\", \"#B0BEC5\", \"#B0BEC5\", \"#B0BEC5\", \"#B0BEC5\", \"#B0BEC5\", \"#B0BEC5\", \"#B0BEC5\", \"#B0BEC5\", \"#B0BEC5\", \"#B0BEC5\"]]}], \"label\": \"Topic 26\", \"method\": \"update\"}, {\"args\": [{\"marker.color\": [[\"#B0BEC5\", \"#B0BEC5\", \"#B0BEC5\", \"#B0BEC5\", \"#B0BEC5\", \"#B0BEC5\", \"#B0BEC5\", \"#B0BEC5\", \"#B0BEC5\", \"#B0BEC5\", \"#B0BEC5\", \"#B0BEC5\", \"#B0BEC5\", \"#B0BEC5\", \"#B0BEC5\", \"#B0BEC5\", \"#B0BEC5\", \"#B0BEC5\", \"#B0BEC5\", \"#B0BEC5\", \"#B0BEC5\", \"#B0BEC5\", \"#B0BEC5\", \"#B0BEC5\", \"#B0BEC5\", \"#B0BEC5\", \"#B0BEC5\", \"red\", \"#B0BEC5\", \"#B0BEC5\", \"#B0BEC5\", \"#B0BEC5\", \"#B0BEC5\", \"#B0BEC5\", \"#B0BEC5\", \"#B0BEC5\", \"#B0BEC5\", \"#B0BEC5\", \"#B0BEC5\", \"#B0BEC5\", \"#B0BEC5\", \"#B0BEC5\", \"#B0BEC5\", \"#B0BEC5\", \"#B0BEC5\", \"#B0BEC5\", \"#B0BEC5\", \"#B0BEC5\", \"#B0BEC5\", \"#B0BEC5\", \"#B0BEC5\", \"#B0BEC5\", \"#B0BEC5\", \"#B0BEC5\", \"#B0BEC5\", \"#B0BEC5\", \"#B0BEC5\", \"#B0BEC5\", \"#B0BEC5\", \"#B0BEC5\", \"#B0BEC5\", \"#B0BEC5\", \"#B0BEC5\", \"#B0BEC5\", \"#B0BEC5\", \"#B0BEC5\", \"#B0BEC5\", \"#B0BEC5\", \"#B0BEC5\", \"#B0BEC5\", \"#B0BEC5\", \"#B0BEC5\", \"#B0BEC5\", \"#B0BEC5\", \"#B0BEC5\", \"#B0BEC5\", \"#B0BEC5\", \"#B0BEC5\", \"#B0BEC5\"]]}], \"label\": \"Topic 27\", \"method\": \"update\"}, {\"args\": [{\"marker.color\": [[\"#B0BEC5\", \"#B0BEC5\", \"#B0BEC5\", \"#B0BEC5\", \"#B0BEC5\", \"#B0BEC5\", \"#B0BEC5\", \"#B0BEC5\", \"#B0BEC5\", \"#B0BEC5\", \"#B0BEC5\", \"#B0BEC5\", \"#B0BEC5\", \"#B0BEC5\", \"#B0BEC5\", \"#B0BEC5\", \"#B0BEC5\", \"#B0BEC5\", \"#B0BEC5\", \"#B0BEC5\", \"#B0BEC5\", \"#B0BEC5\", \"#B0BEC5\", \"#B0BEC5\", \"#B0BEC5\", \"#B0BEC5\", \"#B0BEC5\", \"#B0BEC5\", \"red\", \"#B0BEC5\", \"#B0BEC5\", \"#B0BEC5\", \"#B0BEC5\", \"#B0BEC5\", \"#B0BEC5\", \"#B0BEC5\", \"#B0BEC5\", \"#B0BEC5\", \"#B0BEC5\", \"#B0BEC5\", \"#B0BEC5\", \"#B0BEC5\", \"#B0BEC5\", \"#B0BEC5\", \"#B0BEC5\", \"#B0BEC5\", \"#B0BEC5\", \"#B0BEC5\", \"#B0BEC5\", \"#B0BEC5\", \"#B0BEC5\", \"#B0BEC5\", \"#B0BEC5\", \"#B0BEC5\", \"#B0BEC5\", \"#B0BEC5\", \"#B0BEC5\", \"#B0BEC5\", \"#B0BEC5\", \"#B0BEC5\", \"#B0BEC5\", \"#B0BEC5\", \"#B0BEC5\", \"#B0BEC5\", \"#B0BEC5\", \"#B0BEC5\", \"#B0BEC5\", \"#B0BEC5\", \"#B0BEC5\", \"#B0BEC5\", \"#B0BEC5\", \"#B0BEC5\", \"#B0BEC5\", \"#B0BEC5\", \"#B0BEC5\", \"#B0BEC5\", \"#B0BEC5\", \"#B0BEC5\", \"#B0BEC5\"]]}], \"label\": \"Topic 28\", \"method\": \"update\"}, {\"args\": [{\"marker.color\": [[\"#B0BEC5\", \"#B0BEC5\", \"#B0BEC5\", \"#B0BEC5\", \"#B0BEC5\", \"#B0BEC5\", \"#B0BEC5\", \"#B0BEC5\", \"#B0BEC5\", \"#B0BEC5\", \"#B0BEC5\", \"#B0BEC5\", \"#B0BEC5\", \"#B0BEC5\", \"#B0BEC5\", \"#B0BEC5\", \"#B0BEC5\", \"#B0BEC5\", \"#B0BEC5\", \"#B0BEC5\", \"#B0BEC5\", \"#B0BEC5\", \"#B0BEC5\", \"#B0BEC5\", \"#B0BEC5\", \"#B0BEC5\", \"#B0BEC5\", \"#B0BEC5\", \"#B0BEC5\", \"red\", \"#B0BEC5\", \"#B0BEC5\", \"#B0BEC5\", \"#B0BEC5\", \"#B0BEC5\", \"#B0BEC5\", \"#B0BEC5\", \"#B0BEC5\", \"#B0BEC5\", \"#B0BEC5\", \"#B0BEC5\", \"#B0BEC5\", \"#B0BEC5\", \"#B0BEC5\", \"#B0BEC5\", \"#B0BEC5\", \"#B0BEC5\", \"#B0BEC5\", \"#B0BEC5\", \"#B0BEC5\", \"#B0BEC5\", \"#B0BEC5\", \"#B0BEC5\", \"#B0BEC5\", \"#B0BEC5\", \"#B0BEC5\", \"#B0BEC5\", \"#B0BEC5\", \"#B0BEC5\", \"#B0BEC5\", \"#B0BEC5\", \"#B0BEC5\", \"#B0BEC5\", \"#B0BEC5\", \"#B0BEC5\", \"#B0BEC5\", \"#B0BEC5\", \"#B0BEC5\", \"#B0BEC5\", \"#B0BEC5\", \"#B0BEC5\", \"#B0BEC5\", \"#B0BEC5\", \"#B0BEC5\", \"#B0BEC5\", \"#B0BEC5\", \"#B0BEC5\", \"#B0BEC5\", \"#B0BEC5\"]]}], \"label\": \"Topic 29\", \"method\": \"update\"}, {\"args\": [{\"marker.color\": [[\"#B0BEC5\", \"#B0BEC5\", \"#B0BEC5\", \"#B0BEC5\", \"#B0BEC5\", \"#B0BEC5\", \"#B0BEC5\", \"#B0BEC5\", \"#B0BEC5\", \"#B0BEC5\", \"#B0BEC5\", \"#B0BEC5\", \"#B0BEC5\", \"#B0BEC5\", \"#B0BEC5\", \"#B0BEC5\", \"#B0BEC5\", \"#B0BEC5\", \"#B0BEC5\", \"#B0BEC5\", \"#B0BEC5\", \"#B0BEC5\", \"#B0BEC5\", \"#B0BEC5\", \"#B0BEC5\", \"#B0BEC5\", \"#B0BEC5\", \"#B0BEC5\", \"#B0BEC5\", \"#B0BEC5\", \"red\", \"#B0BEC5\", \"#B0BEC5\", \"#B0BEC5\", \"#B0BEC5\", \"#B0BEC5\", \"#B0BEC5\", \"#B0BEC5\", \"#B0BEC5\", \"#B0BEC5\", \"#B0BEC5\", \"#B0BEC5\", \"#B0BEC5\", \"#B0BEC5\", \"#B0BEC5\", \"#B0BEC5\", \"#B0BEC5\", \"#B0BEC5\", \"#B0BEC5\", \"#B0BEC5\", \"#B0BEC5\", \"#B0BEC5\", \"#B0BEC5\", \"#B0BEC5\", \"#B0BEC5\", \"#B0BEC5\", \"#B0BEC5\", \"#B0BEC5\", \"#B0BEC5\", \"#B0BEC5\", \"#B0BEC5\", \"#B0BEC5\", \"#B0BEC5\", \"#B0BEC5\", \"#B0BEC5\", \"#B0BEC5\", \"#B0BEC5\", \"#B0BEC5\", \"#B0BEC5\", \"#B0BEC5\", \"#B0BEC5\", \"#B0BEC5\", \"#B0BEC5\", \"#B0BEC5\", \"#B0BEC5\", \"#B0BEC5\", \"#B0BEC5\", \"#B0BEC5\", \"#B0BEC5\"]]}], \"label\": \"Topic 30\", \"method\": \"update\"}, {\"args\": [{\"marker.color\": [[\"#B0BEC5\", \"#B0BEC5\", \"#B0BEC5\", \"#B0BEC5\", \"#B0BEC5\", \"#B0BEC5\", \"#B0BEC5\", \"#B0BEC5\", \"#B0BEC5\", \"#B0BEC5\", \"#B0BEC5\", \"#B0BEC5\", \"#B0BEC5\", \"#B0BEC5\", \"#B0BEC5\", \"#B0BEC5\", \"#B0BEC5\", \"#B0BEC5\", \"#B0BEC5\", \"#B0BEC5\", \"#B0BEC5\", \"#B0BEC5\", \"#B0BEC5\", \"#B0BEC5\", \"#B0BEC5\", \"#B0BEC5\", \"#B0BEC5\", \"#B0BEC5\", \"#B0BEC5\", \"#B0BEC5\", \"#B0BEC5\", \"red\", \"#B0BEC5\", \"#B0BEC5\", \"#B0BEC5\", \"#B0BEC5\", \"#B0BEC5\", \"#B0BEC5\", \"#B0BEC5\", \"#B0BEC5\", \"#B0BEC5\", \"#B0BEC5\", \"#B0BEC5\", \"#B0BEC5\", \"#B0BEC5\", \"#B0BEC5\", \"#B0BEC5\", \"#B0BEC5\", \"#B0BEC5\", \"#B0BEC5\", \"#B0BEC5\", \"#B0BEC5\", \"#B0BEC5\", \"#B0BEC5\", \"#B0BEC5\", \"#B0BEC5\", \"#B0BEC5\", \"#B0BEC5\", \"#B0BEC5\", \"#B0BEC5\", \"#B0BEC5\", \"#B0BEC5\", \"#B0BEC5\", \"#B0BEC5\", \"#B0BEC5\", \"#B0BEC5\", \"#B0BEC5\", \"#B0BEC5\", \"#B0BEC5\", \"#B0BEC5\", \"#B0BEC5\", \"#B0BEC5\", \"#B0BEC5\", \"#B0BEC5\", \"#B0BEC5\", \"#B0BEC5\", \"#B0BEC5\", \"#B0BEC5\", \"#B0BEC5\"]]}], \"label\": \"Topic 31\", \"method\": \"update\"}, {\"args\": [{\"marker.color\": [[\"#B0BEC5\", \"#B0BEC5\", \"#B0BEC5\", \"#B0BEC5\", \"#B0BEC5\", \"#B0BEC5\", \"#B0BEC5\", \"#B0BEC5\", \"#B0BEC5\", \"#B0BEC5\", \"#B0BEC5\", \"#B0BEC5\", \"#B0BEC5\", \"#B0BEC5\", \"#B0BEC5\", \"#B0BEC5\", \"#B0BEC5\", \"#B0BEC5\", \"#B0BEC5\", \"#B0BEC5\", \"#B0BEC5\", \"#B0BEC5\", \"#B0BEC5\", \"#B0BEC5\", \"#B0BEC5\", \"#B0BEC5\", \"#B0BEC5\", \"#B0BEC5\", \"#B0BEC5\", \"#B0BEC5\", \"#B0BEC5\", \"#B0BEC5\", \"red\", \"#B0BEC5\", \"#B0BEC5\", \"#B0BEC5\", \"#B0BEC5\", \"#B0BEC5\", \"#B0BEC5\", \"#B0BEC5\", \"#B0BEC5\", \"#B0BEC5\", \"#B0BEC5\", \"#B0BEC5\", \"#B0BEC5\", \"#B0BEC5\", \"#B0BEC5\", \"#B0BEC5\", \"#B0BEC5\", \"#B0BEC5\", \"#B0BEC5\", \"#B0BEC5\", \"#B0BEC5\", \"#B0BEC5\", \"#B0BEC5\", \"#B0BEC5\", \"#B0BEC5\", \"#B0BEC5\", \"#B0BEC5\", \"#B0BEC5\", \"#B0BEC5\", \"#B0BEC5\", \"#B0BEC5\", \"#B0BEC5\", \"#B0BEC5\", \"#B0BEC5\", \"#B0BEC5\", \"#B0BEC5\", \"#B0BEC5\", \"#B0BEC5\", \"#B0BEC5\", \"#B0BEC5\", \"#B0BEC5\", \"#B0BEC5\", \"#B0BEC5\", \"#B0BEC5\", \"#B0BEC5\", \"#B0BEC5\", \"#B0BEC5\"]]}], \"label\": \"Topic 32\", \"method\": \"update\"}, {\"args\": [{\"marker.color\": [[\"#B0BEC5\", \"#B0BEC5\", \"#B0BEC5\", \"#B0BEC5\", \"#B0BEC5\", \"#B0BEC5\", \"#B0BEC5\", \"#B0BEC5\", \"#B0BEC5\", \"#B0BEC5\", \"#B0BEC5\", \"#B0BEC5\", \"#B0BEC5\", \"#B0BEC5\", \"#B0BEC5\", \"#B0BEC5\", \"#B0BEC5\", \"#B0BEC5\", \"#B0BEC5\", \"#B0BEC5\", \"#B0BEC5\", \"#B0BEC5\", \"#B0BEC5\", \"#B0BEC5\", \"#B0BEC5\", \"#B0BEC5\", \"#B0BEC5\", \"#B0BEC5\", \"#B0BEC5\", \"#B0BEC5\", \"#B0BEC5\", \"#B0BEC5\", \"#B0BEC5\", \"red\", \"#B0BEC5\", \"#B0BEC5\", \"#B0BEC5\", \"#B0BEC5\", \"#B0BEC5\", \"#B0BEC5\", \"#B0BEC5\", \"#B0BEC5\", \"#B0BEC5\", \"#B0BEC5\", \"#B0BEC5\", \"#B0BEC5\", \"#B0BEC5\", \"#B0BEC5\", \"#B0BEC5\", \"#B0BEC5\", \"#B0BEC5\", \"#B0BEC5\", \"#B0BEC5\", \"#B0BEC5\", \"#B0BEC5\", \"#B0BEC5\", \"#B0BEC5\", \"#B0BEC5\", \"#B0BEC5\", \"#B0BEC5\", \"#B0BEC5\", \"#B0BEC5\", \"#B0BEC5\", \"#B0BEC5\", \"#B0BEC5\", \"#B0BEC5\", \"#B0BEC5\", \"#B0BEC5\", \"#B0BEC5\", \"#B0BEC5\", \"#B0BEC5\", \"#B0BEC5\", \"#B0BEC5\", \"#B0BEC5\", \"#B0BEC5\", \"#B0BEC5\", \"#B0BEC5\", \"#B0BEC5\", \"#B0BEC5\"]]}], \"label\": \"Topic 33\", \"method\": \"update\"}, {\"args\": [{\"marker.color\": [[\"#B0BEC5\", \"#B0BEC5\", \"#B0BEC5\", \"#B0BEC5\", \"#B0BEC5\", \"#B0BEC5\", \"#B0BEC5\", \"#B0BEC5\", \"#B0BEC5\", \"#B0BEC5\", \"#B0BEC5\", \"#B0BEC5\", \"#B0BEC5\", \"#B0BEC5\", \"#B0BEC5\", \"#B0BEC5\", \"#B0BEC5\", \"#B0BEC5\", \"#B0BEC5\", \"#B0BEC5\", \"#B0BEC5\", \"#B0BEC5\", \"#B0BEC5\", \"#B0BEC5\", \"#B0BEC5\", \"#B0BEC5\", \"#B0BEC5\", \"#B0BEC5\", \"#B0BEC5\", \"#B0BEC5\", \"#B0BEC5\", \"#B0BEC5\", \"#B0BEC5\", \"#B0BEC5\", \"red\", \"#B0BEC5\", \"#B0BEC5\", \"#B0BEC5\", \"#B0BEC5\", \"#B0BEC5\", \"#B0BEC5\", \"#B0BEC5\", \"#B0BEC5\", \"#B0BEC5\", \"#B0BEC5\", \"#B0BEC5\", \"#B0BEC5\", \"#B0BEC5\", \"#B0BEC5\", \"#B0BEC5\", \"#B0BEC5\", \"#B0BEC5\", \"#B0BEC5\", \"#B0BEC5\", \"#B0BEC5\", \"#B0BEC5\", \"#B0BEC5\", \"#B0BEC5\", \"#B0BEC5\", \"#B0BEC5\", \"#B0BEC5\", \"#B0BEC5\", \"#B0BEC5\", \"#B0BEC5\", \"#B0BEC5\", \"#B0BEC5\", \"#B0BEC5\", \"#B0BEC5\", \"#B0BEC5\", \"#B0BEC5\", \"#B0BEC5\", \"#B0BEC5\", \"#B0BEC5\", \"#B0BEC5\", \"#B0BEC5\", \"#B0BEC5\", \"#B0BEC5\", \"#B0BEC5\", \"#B0BEC5\"]]}], \"label\": \"Topic 34\", \"method\": \"update\"}, {\"args\": [{\"marker.color\": [[\"#B0BEC5\", \"#B0BEC5\", \"#B0BEC5\", \"#B0BEC5\", \"#B0BEC5\", \"#B0BEC5\", \"#B0BEC5\", \"#B0BEC5\", \"#B0BEC5\", \"#B0BEC5\", \"#B0BEC5\", \"#B0BEC5\", \"#B0BEC5\", \"#B0BEC5\", \"#B0BEC5\", \"#B0BEC5\", \"#B0BEC5\", \"#B0BEC5\", \"#B0BEC5\", \"#B0BEC5\", \"#B0BEC5\", \"#B0BEC5\", \"#B0BEC5\", \"#B0BEC5\", \"#B0BEC5\", \"#B0BEC5\", \"#B0BEC5\", \"#B0BEC5\", \"#B0BEC5\", \"#B0BEC5\", \"#B0BEC5\", \"#B0BEC5\", \"#B0BEC5\", \"#B0BEC5\", \"#B0BEC5\", \"red\", \"#B0BEC5\", \"#B0BEC5\", \"#B0BEC5\", \"#B0BEC5\", \"#B0BEC5\", \"#B0BEC5\", \"#B0BEC5\", \"#B0BEC5\", \"#B0BEC5\", \"#B0BEC5\", \"#B0BEC5\", \"#B0BEC5\", \"#B0BEC5\", \"#B0BEC5\", \"#B0BEC5\", \"#B0BEC5\", \"#B0BEC5\", \"#B0BEC5\", \"#B0BEC5\", \"#B0BEC5\", \"#B0BEC5\", \"#B0BEC5\", \"#B0BEC5\", \"#B0BEC5\", \"#B0BEC5\", \"#B0BEC5\", \"#B0BEC5\", \"#B0BEC5\", \"#B0BEC5\", \"#B0BEC5\", \"#B0BEC5\", \"#B0BEC5\", \"#B0BEC5\", \"#B0BEC5\", \"#B0BEC5\", \"#B0BEC5\", \"#B0BEC5\", \"#B0BEC5\", \"#B0BEC5\", \"#B0BEC5\", \"#B0BEC5\", \"#B0BEC5\", \"#B0BEC5\"]]}], \"label\": \"Topic 35\", \"method\": \"update\"}, {\"args\": [{\"marker.color\": [[\"#B0BEC5\", \"#B0BEC5\", \"#B0BEC5\", \"#B0BEC5\", \"#B0BEC5\", \"#B0BEC5\", \"#B0BEC5\", \"#B0BEC5\", \"#B0BEC5\", \"#B0BEC5\", \"#B0BEC5\", \"#B0BEC5\", \"#B0BEC5\", \"#B0BEC5\", \"#B0BEC5\", \"#B0BEC5\", \"#B0BEC5\", \"#B0BEC5\", \"#B0BEC5\", \"#B0BEC5\", \"#B0BEC5\", \"#B0BEC5\", \"#B0BEC5\", \"#B0BEC5\", \"#B0BEC5\", \"#B0BEC5\", \"#B0BEC5\", \"#B0BEC5\", \"#B0BEC5\", \"#B0BEC5\", \"#B0BEC5\", \"#B0BEC5\", \"#B0BEC5\", \"#B0BEC5\", \"#B0BEC5\", \"#B0BEC5\", \"red\", \"#B0BEC5\", \"#B0BEC5\", \"#B0BEC5\", \"#B0BEC5\", \"#B0BEC5\", \"#B0BEC5\", \"#B0BEC5\", \"#B0BEC5\", \"#B0BEC5\", \"#B0BEC5\", \"#B0BEC5\", \"#B0BEC5\", \"#B0BEC5\", \"#B0BEC5\", \"#B0BEC5\", \"#B0BEC5\", \"#B0BEC5\", \"#B0BEC5\", \"#B0BEC5\", \"#B0BEC5\", \"#B0BEC5\", \"#B0BEC5\", \"#B0BEC5\", \"#B0BEC5\", \"#B0BEC5\", \"#B0BEC5\", \"#B0BEC5\", \"#B0BEC5\", \"#B0BEC5\", \"#B0BEC5\", \"#B0BEC5\", \"#B0BEC5\", \"#B0BEC5\", \"#B0BEC5\", \"#B0BEC5\", \"#B0BEC5\", \"#B0BEC5\", \"#B0BEC5\", \"#B0BEC5\", \"#B0BEC5\", \"#B0BEC5\", \"#B0BEC5\"]]}], \"label\": \"Topic 36\", \"method\": \"update\"}, {\"args\": [{\"marker.color\": [[\"#B0BEC5\", \"#B0BEC5\", \"#B0BEC5\", \"#B0BEC5\", \"#B0BEC5\", \"#B0BEC5\", \"#B0BEC5\", \"#B0BEC5\", \"#B0BEC5\", \"#B0BEC5\", \"#B0BEC5\", \"#B0BEC5\", \"#B0BEC5\", \"#B0BEC5\", \"#B0BEC5\", \"#B0BEC5\", \"#B0BEC5\", \"#B0BEC5\", \"#B0BEC5\", \"#B0BEC5\", \"#B0BEC5\", \"#B0BEC5\", \"#B0BEC5\", \"#B0BEC5\", \"#B0BEC5\", \"#B0BEC5\", \"#B0BEC5\", \"#B0BEC5\", \"#B0BEC5\", \"#B0BEC5\", \"#B0BEC5\", \"#B0BEC5\", \"#B0BEC5\", \"#B0BEC5\", \"#B0BEC5\", \"#B0BEC5\", \"#B0BEC5\", \"red\", \"#B0BEC5\", \"#B0BEC5\", \"#B0BEC5\", \"#B0BEC5\", \"#B0BEC5\", \"#B0BEC5\", \"#B0BEC5\", \"#B0BEC5\", \"#B0BEC5\", \"#B0BEC5\", \"#B0BEC5\", \"#B0BEC5\", \"#B0BEC5\", \"#B0BEC5\", \"#B0BEC5\", \"#B0BEC5\", \"#B0BEC5\", \"#B0BEC5\", \"#B0BEC5\", \"#B0BEC5\", \"#B0BEC5\", \"#B0BEC5\", \"#B0BEC5\", \"#B0BEC5\", \"#B0BEC5\", \"#B0BEC5\", \"#B0BEC5\", \"#B0BEC5\", \"#B0BEC5\", \"#B0BEC5\", \"#B0BEC5\", \"#B0BEC5\", \"#B0BEC5\", \"#B0BEC5\", \"#B0BEC5\", \"#B0BEC5\", \"#B0BEC5\", \"#B0BEC5\", \"#B0BEC5\", \"#B0BEC5\", \"#B0BEC5\"]]}], \"label\": \"Topic 37\", \"method\": \"update\"}, {\"args\": [{\"marker.color\": [[\"#B0BEC5\", \"#B0BEC5\", \"#B0BEC5\", \"#B0BEC5\", \"#B0BEC5\", \"#B0BEC5\", \"#B0BEC5\", \"#B0BEC5\", \"#B0BEC5\", \"#B0BEC5\", \"#B0BEC5\", \"#B0BEC5\", \"#B0BEC5\", \"#B0BEC5\", \"#B0BEC5\", \"#B0BEC5\", \"#B0BEC5\", \"#B0BEC5\", \"#B0BEC5\", \"#B0BEC5\", \"#B0BEC5\", \"#B0BEC5\", \"#B0BEC5\", \"#B0BEC5\", \"#B0BEC5\", \"#B0BEC5\", \"#B0BEC5\", \"#B0BEC5\", \"#B0BEC5\", \"#B0BEC5\", \"#B0BEC5\", \"#B0BEC5\", \"#B0BEC5\", \"#B0BEC5\", \"#B0BEC5\", \"#B0BEC5\", \"#B0BEC5\", \"#B0BEC5\", \"red\", \"#B0BEC5\", \"#B0BEC5\", \"#B0BEC5\", \"#B0BEC5\", \"#B0BEC5\", \"#B0BEC5\", \"#B0BEC5\", \"#B0BEC5\", \"#B0BEC5\", \"#B0BEC5\", \"#B0BEC5\", \"#B0BEC5\", \"#B0BEC5\", \"#B0BEC5\", \"#B0BEC5\", \"#B0BEC5\", \"#B0BEC5\", \"#B0BEC5\", \"#B0BEC5\", \"#B0BEC5\", \"#B0BEC5\", \"#B0BEC5\", \"#B0BEC5\", \"#B0BEC5\", \"#B0BEC5\", \"#B0BEC5\", \"#B0BEC5\", \"#B0BEC5\", \"#B0BEC5\", \"#B0BEC5\", \"#B0BEC5\", \"#B0BEC5\", \"#B0BEC5\", \"#B0BEC5\", \"#B0BEC5\", \"#B0BEC5\", \"#B0BEC5\", \"#B0BEC5\", \"#B0BEC5\", \"#B0BEC5\"]]}], \"label\": \"Topic 38\", \"method\": \"update\"}, {\"args\": [{\"marker.color\": [[\"#B0BEC5\", \"#B0BEC5\", \"#B0BEC5\", \"#B0BEC5\", \"#B0BEC5\", \"#B0BEC5\", \"#B0BEC5\", \"#B0BEC5\", \"#B0BEC5\", \"#B0BEC5\", \"#B0BEC5\", \"#B0BEC5\", \"#B0BEC5\", \"#B0BEC5\", \"#B0BEC5\", \"#B0BEC5\", \"#B0BEC5\", \"#B0BEC5\", \"#B0BEC5\", \"#B0BEC5\", \"#B0BEC5\", \"#B0BEC5\", \"#B0BEC5\", \"#B0BEC5\", \"#B0BEC5\", \"#B0BEC5\", \"#B0BEC5\", \"#B0BEC5\", \"#B0BEC5\", \"#B0BEC5\", \"#B0BEC5\", \"#B0BEC5\", \"#B0BEC5\", \"#B0BEC5\", \"#B0BEC5\", \"#B0BEC5\", \"#B0BEC5\", \"#B0BEC5\", \"#B0BEC5\", \"red\", \"#B0BEC5\", \"#B0BEC5\", \"#B0BEC5\", \"#B0BEC5\", \"#B0BEC5\", \"#B0BEC5\", \"#B0BEC5\", \"#B0BEC5\", \"#B0BEC5\", \"#B0BEC5\", \"#B0BEC5\", \"#B0BEC5\", \"#B0BEC5\", \"#B0BEC5\", \"#B0BEC5\", \"#B0BEC5\", \"#B0BEC5\", \"#B0BEC5\", \"#B0BEC5\", \"#B0BEC5\", \"#B0BEC5\", \"#B0BEC5\", \"#B0BEC5\", \"#B0BEC5\", \"#B0BEC5\", \"#B0BEC5\", \"#B0BEC5\", \"#B0BEC5\", \"#B0BEC5\", \"#B0BEC5\", \"#B0BEC5\", \"#B0BEC5\", \"#B0BEC5\", \"#B0BEC5\", \"#B0BEC5\", \"#B0BEC5\", \"#B0BEC5\", \"#B0BEC5\", \"#B0BEC5\"]]}], \"label\": \"Topic 39\", \"method\": \"update\"}, {\"args\": [{\"marker.color\": [[\"#B0BEC5\", \"#B0BEC5\", \"#B0BEC5\", \"#B0BEC5\", \"#B0BEC5\", \"#B0BEC5\", \"#B0BEC5\", \"#B0BEC5\", \"#B0BEC5\", \"#B0BEC5\", \"#B0BEC5\", \"#B0BEC5\", \"#B0BEC5\", \"#B0BEC5\", \"#B0BEC5\", \"#B0BEC5\", \"#B0BEC5\", \"#B0BEC5\", \"#B0BEC5\", \"#B0BEC5\", \"#B0BEC5\", \"#B0BEC5\", \"#B0BEC5\", \"#B0BEC5\", \"#B0BEC5\", \"#B0BEC5\", \"#B0BEC5\", \"#B0BEC5\", \"#B0BEC5\", \"#B0BEC5\", \"#B0BEC5\", \"#B0BEC5\", \"#B0BEC5\", \"#B0BEC5\", \"#B0BEC5\", \"#B0BEC5\", \"#B0BEC5\", \"#B0BEC5\", \"#B0BEC5\", \"#B0BEC5\", \"red\", \"#B0BEC5\", \"#B0BEC5\", \"#B0BEC5\", \"#B0BEC5\", \"#B0BEC5\", \"#B0BEC5\", \"#B0BEC5\", \"#B0BEC5\", \"#B0BEC5\", \"#B0BEC5\", \"#B0BEC5\", \"#B0BEC5\", \"#B0BEC5\", \"#B0BEC5\", \"#B0BEC5\", \"#B0BEC5\", \"#B0BEC5\", \"#B0BEC5\", \"#B0BEC5\", \"#B0BEC5\", \"#B0BEC5\", \"#B0BEC5\", \"#B0BEC5\", \"#B0BEC5\", \"#B0BEC5\", \"#B0BEC5\", \"#B0BEC5\", \"#B0BEC5\", \"#B0BEC5\", \"#B0BEC5\", \"#B0BEC5\", \"#B0BEC5\", \"#B0BEC5\", \"#B0BEC5\", \"#B0BEC5\", \"#B0BEC5\", \"#B0BEC5\", \"#B0BEC5\"]]}], \"label\": \"Topic 40\", \"method\": \"update\"}, {\"args\": [{\"marker.color\": [[\"#B0BEC5\", \"#B0BEC5\", \"#B0BEC5\", \"#B0BEC5\", \"#B0BEC5\", \"#B0BEC5\", \"#B0BEC5\", \"#B0BEC5\", \"#B0BEC5\", \"#B0BEC5\", \"#B0BEC5\", \"#B0BEC5\", \"#B0BEC5\", \"#B0BEC5\", \"#B0BEC5\", \"#B0BEC5\", \"#B0BEC5\", \"#B0BEC5\", \"#B0BEC5\", \"#B0BEC5\", \"#B0BEC5\", \"#B0BEC5\", \"#B0BEC5\", \"#B0BEC5\", \"#B0BEC5\", \"#B0BEC5\", \"#B0BEC5\", \"#B0BEC5\", \"#B0BEC5\", \"#B0BEC5\", \"#B0BEC5\", \"#B0BEC5\", \"#B0BEC5\", \"#B0BEC5\", \"#B0BEC5\", \"#B0BEC5\", \"#B0BEC5\", \"#B0BEC5\", \"#B0BEC5\", \"#B0BEC5\", \"#B0BEC5\", \"red\", \"#B0BEC5\", \"#B0BEC5\", \"#B0BEC5\", \"#B0BEC5\", \"#B0BEC5\", \"#B0BEC5\", \"#B0BEC5\", \"#B0BEC5\", \"#B0BEC5\", \"#B0BEC5\", \"#B0BEC5\", \"#B0BEC5\", \"#B0BEC5\", \"#B0BEC5\", \"#B0BEC5\", \"#B0BEC5\", \"#B0BEC5\", \"#B0BEC5\", \"#B0BEC5\", \"#B0BEC5\", \"#B0BEC5\", \"#B0BEC5\", \"#B0BEC5\", \"#B0BEC5\", \"#B0BEC5\", \"#B0BEC5\", \"#B0BEC5\", \"#B0BEC5\", \"#B0BEC5\", \"#B0BEC5\", \"#B0BEC5\", \"#B0BEC5\", \"#B0BEC5\", \"#B0BEC5\", \"#B0BEC5\", \"#B0BEC5\", \"#B0BEC5\"]]}], \"label\": \"Topic 41\", \"method\": \"update\"}, {\"args\": [{\"marker.color\": [[\"#B0BEC5\", \"#B0BEC5\", \"#B0BEC5\", \"#B0BEC5\", \"#B0BEC5\", \"#B0BEC5\", \"#B0BEC5\", \"#B0BEC5\", \"#B0BEC5\", \"#B0BEC5\", \"#B0BEC5\", \"#B0BEC5\", \"#B0BEC5\", \"#B0BEC5\", \"#B0BEC5\", \"#B0BEC5\", \"#B0BEC5\", \"#B0BEC5\", \"#B0BEC5\", \"#B0BEC5\", \"#B0BEC5\", \"#B0BEC5\", \"#B0BEC5\", \"#B0BEC5\", \"#B0BEC5\", \"#B0BEC5\", \"#B0BEC5\", \"#B0BEC5\", \"#B0BEC5\", \"#B0BEC5\", \"#B0BEC5\", \"#B0BEC5\", \"#B0BEC5\", \"#B0BEC5\", \"#B0BEC5\", \"#B0BEC5\", \"#B0BEC5\", \"#B0BEC5\", \"#B0BEC5\", \"#B0BEC5\", \"#B0BEC5\", \"#B0BEC5\", \"red\", \"#B0BEC5\", \"#B0BEC5\", \"#B0BEC5\", \"#B0BEC5\", \"#B0BEC5\", \"#B0BEC5\", \"#B0BEC5\", \"#B0BEC5\", \"#B0BEC5\", \"#B0BEC5\", \"#B0BEC5\", \"#B0BEC5\", \"#B0BEC5\", \"#B0BEC5\", \"#B0BEC5\", \"#B0BEC5\", \"#B0BEC5\", \"#B0BEC5\", \"#B0BEC5\", \"#B0BEC5\", \"#B0BEC5\", \"#B0BEC5\", \"#B0BEC5\", \"#B0BEC5\", \"#B0BEC5\", \"#B0BEC5\", \"#B0BEC5\", \"#B0BEC5\", \"#B0BEC5\", \"#B0BEC5\", \"#B0BEC5\", \"#B0BEC5\", \"#B0BEC5\", \"#B0BEC5\", \"#B0BEC5\", \"#B0BEC5\"]]}], \"label\": \"Topic 42\", \"method\": \"update\"}, {\"args\": [{\"marker.color\": [[\"#B0BEC5\", \"#B0BEC5\", \"#B0BEC5\", \"#B0BEC5\", \"#B0BEC5\", \"#B0BEC5\", \"#B0BEC5\", \"#B0BEC5\", \"#B0BEC5\", \"#B0BEC5\", \"#B0BEC5\", \"#B0BEC5\", \"#B0BEC5\", \"#B0BEC5\", \"#B0BEC5\", \"#B0BEC5\", \"#B0BEC5\", \"#B0BEC5\", \"#B0BEC5\", \"#B0BEC5\", \"#B0BEC5\", \"#B0BEC5\", \"#B0BEC5\", \"#B0BEC5\", \"#B0BEC5\", \"#B0BEC5\", \"#B0BEC5\", \"#B0BEC5\", \"#B0BEC5\", \"#B0BEC5\", \"#B0BEC5\", \"#B0BEC5\", \"#B0BEC5\", \"#B0BEC5\", \"#B0BEC5\", \"#B0BEC5\", \"#B0BEC5\", \"#B0BEC5\", \"#B0BEC5\", \"#B0BEC5\", \"#B0BEC5\", \"#B0BEC5\", \"#B0BEC5\", \"red\", \"#B0BEC5\", \"#B0BEC5\", \"#B0BEC5\", \"#B0BEC5\", \"#B0BEC5\", \"#B0BEC5\", \"#B0BEC5\", \"#B0BEC5\", \"#B0BEC5\", \"#B0BEC5\", \"#B0BEC5\", \"#B0BEC5\", \"#B0BEC5\", \"#B0BEC5\", \"#B0BEC5\", \"#B0BEC5\", \"#B0BEC5\", \"#B0BEC5\", \"#B0BEC5\", \"#B0BEC5\", \"#B0BEC5\", \"#B0BEC5\", \"#B0BEC5\", \"#B0BEC5\", \"#B0BEC5\", \"#B0BEC5\", \"#B0BEC5\", \"#B0BEC5\", \"#B0BEC5\", \"#B0BEC5\", \"#B0BEC5\", \"#B0BEC5\", \"#B0BEC5\", \"#B0BEC5\", \"#B0BEC5\"]]}], \"label\": \"Topic 43\", \"method\": \"update\"}, {\"args\": [{\"marker.color\": [[\"#B0BEC5\", \"#B0BEC5\", \"#B0BEC5\", \"#B0BEC5\", \"#B0BEC5\", \"#B0BEC5\", \"#B0BEC5\", \"#B0BEC5\", \"#B0BEC5\", \"#B0BEC5\", \"#B0BEC5\", \"#B0BEC5\", \"#B0BEC5\", \"#B0BEC5\", \"#B0BEC5\", \"#B0BEC5\", \"#B0BEC5\", \"#B0BEC5\", \"#B0BEC5\", \"#B0BEC5\", \"#B0BEC5\", \"#B0BEC5\", \"#B0BEC5\", \"#B0BEC5\", \"#B0BEC5\", \"#B0BEC5\", \"#B0BEC5\", \"#B0BEC5\", \"#B0BEC5\", \"#B0BEC5\", \"#B0BEC5\", \"#B0BEC5\", \"#B0BEC5\", \"#B0BEC5\", \"#B0BEC5\", \"#B0BEC5\", \"#B0BEC5\", \"#B0BEC5\", \"#B0BEC5\", \"#B0BEC5\", \"#B0BEC5\", \"#B0BEC5\", \"#B0BEC5\", \"#B0BEC5\", \"red\", \"#B0BEC5\", \"#B0BEC5\", \"#B0BEC5\", \"#B0BEC5\", \"#B0BEC5\", \"#B0BEC5\", \"#B0BEC5\", \"#B0BEC5\", \"#B0BEC5\", \"#B0BEC5\", \"#B0BEC5\", \"#B0BEC5\", \"#B0BEC5\", \"#B0BEC5\", \"#B0BEC5\", \"#B0BEC5\", \"#B0BEC5\", \"#B0BEC5\", \"#B0BEC5\", \"#B0BEC5\", \"#B0BEC5\", \"#B0BEC5\", \"#B0BEC5\", \"#B0BEC5\", \"#B0BEC5\", \"#B0BEC5\", \"#B0BEC5\", \"#B0BEC5\", \"#B0BEC5\", \"#B0BEC5\", \"#B0BEC5\", \"#B0BEC5\", \"#B0BEC5\", \"#B0BEC5\"]]}], \"label\": \"Topic 44\", \"method\": \"update\"}, {\"args\": [{\"marker.color\": [[\"#B0BEC5\", \"#B0BEC5\", \"#B0BEC5\", \"#B0BEC5\", \"#B0BEC5\", \"#B0BEC5\", \"#B0BEC5\", \"#B0BEC5\", \"#B0BEC5\", \"#B0BEC5\", \"#B0BEC5\", \"#B0BEC5\", \"#B0BEC5\", \"#B0BEC5\", \"#B0BEC5\", \"#B0BEC5\", \"#B0BEC5\", \"#B0BEC5\", \"#B0BEC5\", \"#B0BEC5\", \"#B0BEC5\", \"#B0BEC5\", \"#B0BEC5\", \"#B0BEC5\", \"#B0BEC5\", \"#B0BEC5\", \"#B0BEC5\", \"#B0BEC5\", \"#B0BEC5\", \"#B0BEC5\", \"#B0BEC5\", \"#B0BEC5\", \"#B0BEC5\", \"#B0BEC5\", \"#B0BEC5\", \"#B0BEC5\", \"#B0BEC5\", \"#B0BEC5\", \"#B0BEC5\", \"#B0BEC5\", \"#B0BEC5\", \"#B0BEC5\", \"#B0BEC5\", \"#B0BEC5\", \"#B0BEC5\", \"red\", \"#B0BEC5\", \"#B0BEC5\", \"#B0BEC5\", \"#B0BEC5\", \"#B0BEC5\", \"#B0BEC5\", \"#B0BEC5\", \"#B0BEC5\", \"#B0BEC5\", \"#B0BEC5\", \"#B0BEC5\", \"#B0BEC5\", \"#B0BEC5\", \"#B0BEC5\", \"#B0BEC5\", \"#B0BEC5\", \"#B0BEC5\", \"#B0BEC5\", \"#B0BEC5\", \"#B0BEC5\", \"#B0BEC5\", \"#B0BEC5\", \"#B0BEC5\", \"#B0BEC5\", \"#B0BEC5\", \"#B0BEC5\", \"#B0BEC5\", \"#B0BEC5\", \"#B0BEC5\", \"#B0BEC5\", \"#B0BEC5\", \"#B0BEC5\", \"#B0BEC5\"]]}], \"label\": \"Topic 45\", \"method\": \"update\"}, {\"args\": [{\"marker.color\": [[\"#B0BEC5\", \"#B0BEC5\", \"#B0BEC5\", \"#B0BEC5\", \"#B0BEC5\", \"#B0BEC5\", \"#B0BEC5\", \"#B0BEC5\", \"#B0BEC5\", \"#B0BEC5\", \"#B0BEC5\", \"#B0BEC5\", \"#B0BEC5\", \"#B0BEC5\", \"#B0BEC5\", \"#B0BEC5\", \"#B0BEC5\", \"#B0BEC5\", \"#B0BEC5\", \"#B0BEC5\", \"#B0BEC5\", \"#B0BEC5\", \"#B0BEC5\", \"#B0BEC5\", \"#B0BEC5\", \"#B0BEC5\", \"#B0BEC5\", \"#B0BEC5\", \"#B0BEC5\", \"#B0BEC5\", \"#B0BEC5\", \"#B0BEC5\", \"#B0BEC5\", \"#B0BEC5\", \"#B0BEC5\", \"#B0BEC5\", \"#B0BEC5\", \"#B0BEC5\", \"#B0BEC5\", \"#B0BEC5\", \"#B0BEC5\", \"#B0BEC5\", \"#B0BEC5\", \"#B0BEC5\", \"#B0BEC5\", \"#B0BEC5\", \"red\", \"#B0BEC5\", \"#B0BEC5\", \"#B0BEC5\", \"#B0BEC5\", \"#B0BEC5\", \"#B0BEC5\", \"#B0BEC5\", \"#B0BEC5\", \"#B0BEC5\", \"#B0BEC5\", \"#B0BEC5\", \"#B0BEC5\", \"#B0BEC5\", \"#B0BEC5\", \"#B0BEC5\", \"#B0BEC5\", \"#B0BEC5\", \"#B0BEC5\", \"#B0BEC5\", \"#B0BEC5\", \"#B0BEC5\", \"#B0BEC5\", \"#B0BEC5\", \"#B0BEC5\", \"#B0BEC5\", \"#B0BEC5\", \"#B0BEC5\", \"#B0BEC5\", \"#B0BEC5\", \"#B0BEC5\", \"#B0BEC5\", \"#B0BEC5\"]]}], \"label\": \"Topic 46\", \"method\": \"update\"}, {\"args\": [{\"marker.color\": [[\"#B0BEC5\", \"#B0BEC5\", \"#B0BEC5\", \"#B0BEC5\", \"#B0BEC5\", \"#B0BEC5\", \"#B0BEC5\", \"#B0BEC5\", \"#B0BEC5\", \"#B0BEC5\", \"#B0BEC5\", \"#B0BEC5\", \"#B0BEC5\", \"#B0BEC5\", \"#B0BEC5\", \"#B0BEC5\", \"#B0BEC5\", \"#B0BEC5\", \"#B0BEC5\", \"#B0BEC5\", \"#B0BEC5\", \"#B0BEC5\", \"#B0BEC5\", \"#B0BEC5\", \"#B0BEC5\", \"#B0BEC5\", \"#B0BEC5\", \"#B0BEC5\", \"#B0BEC5\", \"#B0BEC5\", \"#B0BEC5\", \"#B0BEC5\", \"#B0BEC5\", \"#B0BEC5\", \"#B0BEC5\", \"#B0BEC5\", \"#B0BEC5\", \"#B0BEC5\", \"#B0BEC5\", \"#B0BEC5\", \"#B0BEC5\", \"#B0BEC5\", \"#B0BEC5\", \"#B0BEC5\", \"#B0BEC5\", \"#B0BEC5\", \"#B0BEC5\", \"red\", \"#B0BEC5\", \"#B0BEC5\", \"#B0BEC5\", \"#B0BEC5\", \"#B0BEC5\", \"#B0BEC5\", \"#B0BEC5\", \"#B0BEC5\", \"#B0BEC5\", \"#B0BEC5\", \"#B0BEC5\", \"#B0BEC5\", \"#B0BEC5\", \"#B0BEC5\", \"#B0BEC5\", \"#B0BEC5\", \"#B0BEC5\", \"#B0BEC5\", \"#B0BEC5\", \"#B0BEC5\", \"#B0BEC5\", \"#B0BEC5\", \"#B0BEC5\", \"#B0BEC5\", \"#B0BEC5\", \"#B0BEC5\", \"#B0BEC5\", \"#B0BEC5\", \"#B0BEC5\", \"#B0BEC5\", \"#B0BEC5\"]]}], \"label\": \"Topic 47\", \"method\": \"update\"}, {\"args\": [{\"marker.color\": [[\"#B0BEC5\", \"#B0BEC5\", \"#B0BEC5\", \"#B0BEC5\", \"#B0BEC5\", \"#B0BEC5\", \"#B0BEC5\", \"#B0BEC5\", \"#B0BEC5\", \"#B0BEC5\", \"#B0BEC5\", \"#B0BEC5\", \"#B0BEC5\", \"#B0BEC5\", \"#B0BEC5\", \"#B0BEC5\", \"#B0BEC5\", \"#B0BEC5\", \"#B0BEC5\", \"#B0BEC5\", \"#B0BEC5\", \"#B0BEC5\", \"#B0BEC5\", \"#B0BEC5\", \"#B0BEC5\", \"#B0BEC5\", \"#B0BEC5\", \"#B0BEC5\", \"#B0BEC5\", \"#B0BEC5\", \"#B0BEC5\", \"#B0BEC5\", \"#B0BEC5\", \"#B0BEC5\", \"#B0BEC5\", \"#B0BEC5\", \"#B0BEC5\", \"#B0BEC5\", \"#B0BEC5\", \"#B0BEC5\", \"#B0BEC5\", \"#B0BEC5\", \"#B0BEC5\", \"#B0BEC5\", \"#B0BEC5\", \"#B0BEC5\", \"#B0BEC5\", \"#B0BEC5\", \"red\", \"#B0BEC5\", \"#B0BEC5\", \"#B0BEC5\", \"#B0BEC5\", \"#B0BEC5\", \"#B0BEC5\", \"#B0BEC5\", \"#B0BEC5\", \"#B0BEC5\", \"#B0BEC5\", \"#B0BEC5\", \"#B0BEC5\", \"#B0BEC5\", \"#B0BEC5\", \"#B0BEC5\", \"#B0BEC5\", \"#B0BEC5\", \"#B0BEC5\", \"#B0BEC5\", \"#B0BEC5\", \"#B0BEC5\", \"#B0BEC5\", \"#B0BEC5\", \"#B0BEC5\", \"#B0BEC5\", \"#B0BEC5\", \"#B0BEC5\", \"#B0BEC5\", \"#B0BEC5\", \"#B0BEC5\"]]}], \"label\": \"Topic 48\", \"method\": \"update\"}, {\"args\": [{\"marker.color\": [[\"#B0BEC5\", \"#B0BEC5\", \"#B0BEC5\", \"#B0BEC5\", \"#B0BEC5\", \"#B0BEC5\", \"#B0BEC5\", \"#B0BEC5\", \"#B0BEC5\", \"#B0BEC5\", \"#B0BEC5\", \"#B0BEC5\", \"#B0BEC5\", \"#B0BEC5\", \"#B0BEC5\", \"#B0BEC5\", \"#B0BEC5\", \"#B0BEC5\", \"#B0BEC5\", \"#B0BEC5\", \"#B0BEC5\", \"#B0BEC5\", \"#B0BEC5\", \"#B0BEC5\", \"#B0BEC5\", \"#B0BEC5\", \"#B0BEC5\", \"#B0BEC5\", \"#B0BEC5\", \"#B0BEC5\", \"#B0BEC5\", \"#B0BEC5\", \"#B0BEC5\", \"#B0BEC5\", \"#B0BEC5\", \"#B0BEC5\", \"#B0BEC5\", \"#B0BEC5\", \"#B0BEC5\", \"#B0BEC5\", \"#B0BEC5\", \"#B0BEC5\", \"#B0BEC5\", \"#B0BEC5\", \"#B0BEC5\", \"#B0BEC5\", \"#B0BEC5\", \"#B0BEC5\", \"#B0BEC5\", \"red\", \"#B0BEC5\", \"#B0BEC5\", \"#B0BEC5\", \"#B0BEC5\", \"#B0BEC5\", \"#B0BEC5\", \"#B0BEC5\", \"#B0BEC5\", \"#B0BEC5\", \"#B0BEC5\", \"#B0BEC5\", \"#B0BEC5\", \"#B0BEC5\", \"#B0BEC5\", \"#B0BEC5\", \"#B0BEC5\", \"#B0BEC5\", \"#B0BEC5\", \"#B0BEC5\", \"#B0BEC5\", \"#B0BEC5\", \"#B0BEC5\", \"#B0BEC5\", \"#B0BEC5\", \"#B0BEC5\", \"#B0BEC5\", \"#B0BEC5\", \"#B0BEC5\", \"#B0BEC5\"]]}], \"label\": \"Topic 49\", \"method\": \"update\"}, {\"args\": [{\"marker.color\": [[\"#B0BEC5\", \"#B0BEC5\", \"#B0BEC5\", \"#B0BEC5\", \"#B0BEC5\", \"#B0BEC5\", \"#B0BEC5\", \"#B0BEC5\", \"#B0BEC5\", \"#B0BEC5\", \"#B0BEC5\", \"#B0BEC5\", \"#B0BEC5\", \"#B0BEC5\", \"#B0BEC5\", \"#B0BEC5\", \"#B0BEC5\", \"#B0BEC5\", \"#B0BEC5\", \"#B0BEC5\", \"#B0BEC5\", \"#B0BEC5\", \"#B0BEC5\", \"#B0BEC5\", \"#B0BEC5\", \"#B0BEC5\", \"#B0BEC5\", \"#B0BEC5\", \"#B0BEC5\", \"#B0BEC5\", \"#B0BEC5\", \"#B0BEC5\", \"#B0BEC5\", \"#B0BEC5\", \"#B0BEC5\", \"#B0BEC5\", \"#B0BEC5\", \"#B0BEC5\", \"#B0BEC5\", \"#B0BEC5\", \"#B0BEC5\", \"#B0BEC5\", \"#B0BEC5\", \"#B0BEC5\", \"#B0BEC5\", \"#B0BEC5\", \"#B0BEC5\", \"#B0BEC5\", \"#B0BEC5\", \"#B0BEC5\", \"red\", \"#B0BEC5\", \"#B0BEC5\", \"#B0BEC5\", \"#B0BEC5\", \"#B0BEC5\", \"#B0BEC5\", \"#B0BEC5\", \"#B0BEC5\", \"#B0BEC5\", \"#B0BEC5\", \"#B0BEC5\", \"#B0BEC5\", \"#B0BEC5\", \"#B0BEC5\", \"#B0BEC5\", \"#B0BEC5\", \"#B0BEC5\", \"#B0BEC5\", \"#B0BEC5\", \"#B0BEC5\", \"#B0BEC5\", \"#B0BEC5\", \"#B0BEC5\", \"#B0BEC5\", \"#B0BEC5\", \"#B0BEC5\", \"#B0BEC5\", \"#B0BEC5\"]]}], \"label\": \"Topic 50\", \"method\": \"update\"}, {\"args\": [{\"marker.color\": [[\"#B0BEC5\", \"#B0BEC5\", \"#B0BEC5\", \"#B0BEC5\", \"#B0BEC5\", \"#B0BEC5\", \"#B0BEC5\", \"#B0BEC5\", \"#B0BEC5\", \"#B0BEC5\", \"#B0BEC5\", \"#B0BEC5\", \"#B0BEC5\", \"#B0BEC5\", \"#B0BEC5\", \"#B0BEC5\", \"#B0BEC5\", \"#B0BEC5\", \"#B0BEC5\", \"#B0BEC5\", \"#B0BEC5\", \"#B0BEC5\", \"#B0BEC5\", \"#B0BEC5\", \"#B0BEC5\", \"#B0BEC5\", \"#B0BEC5\", \"#B0BEC5\", \"#B0BEC5\", \"#B0BEC5\", \"#B0BEC5\", \"#B0BEC5\", \"#B0BEC5\", \"#B0BEC5\", \"#B0BEC5\", \"#B0BEC5\", \"#B0BEC5\", \"#B0BEC5\", \"#B0BEC5\", \"#B0BEC5\", \"#B0BEC5\", \"#B0BEC5\", \"#B0BEC5\", \"#B0BEC5\", \"#B0BEC5\", \"#B0BEC5\", \"#B0BEC5\", \"#B0BEC5\", \"#B0BEC5\", \"#B0BEC5\", \"#B0BEC5\", \"red\", \"#B0BEC5\", \"#B0BEC5\", \"#B0BEC5\", \"#B0BEC5\", \"#B0BEC5\", \"#B0BEC5\", \"#B0BEC5\", \"#B0BEC5\", \"#B0BEC5\", \"#B0BEC5\", \"#B0BEC5\", \"#B0BEC5\", \"#B0BEC5\", \"#B0BEC5\", \"#B0BEC5\", \"#B0BEC5\", \"#B0BEC5\", \"#B0BEC5\", \"#B0BEC5\", \"#B0BEC5\", \"#B0BEC5\", \"#B0BEC5\", \"#B0BEC5\", \"#B0BEC5\", \"#B0BEC5\", \"#B0BEC5\", \"#B0BEC5\"]]}], \"label\": \"Topic 51\", \"method\": \"update\"}, {\"args\": [{\"marker.color\": [[\"#B0BEC5\", \"#B0BEC5\", \"#B0BEC5\", \"#B0BEC5\", \"#B0BEC5\", \"#B0BEC5\", \"#B0BEC5\", \"#B0BEC5\", \"#B0BEC5\", \"#B0BEC5\", \"#B0BEC5\", \"#B0BEC5\", \"#B0BEC5\", \"#B0BEC5\", \"#B0BEC5\", \"#B0BEC5\", \"#B0BEC5\", \"#B0BEC5\", \"#B0BEC5\", \"#B0BEC5\", \"#B0BEC5\", \"#B0BEC5\", \"#B0BEC5\", \"#B0BEC5\", \"#B0BEC5\", \"#B0BEC5\", \"#B0BEC5\", \"#B0BEC5\", \"#B0BEC5\", \"#B0BEC5\", \"#B0BEC5\", \"#B0BEC5\", \"#B0BEC5\", \"#B0BEC5\", \"#B0BEC5\", \"#B0BEC5\", \"#B0BEC5\", \"#B0BEC5\", \"#B0BEC5\", \"#B0BEC5\", \"#B0BEC5\", \"#B0BEC5\", \"#B0BEC5\", \"#B0BEC5\", \"#B0BEC5\", \"#B0BEC5\", \"#B0BEC5\", \"#B0BEC5\", \"#B0BEC5\", \"#B0BEC5\", \"#B0BEC5\", \"#B0BEC5\", \"red\", \"#B0BEC5\", \"#B0BEC5\", \"#B0BEC5\", \"#B0BEC5\", \"#B0BEC5\", \"#B0BEC5\", \"#B0BEC5\", \"#B0BEC5\", \"#B0BEC5\", \"#B0BEC5\", \"#B0BEC5\", \"#B0BEC5\", \"#B0BEC5\", \"#B0BEC5\", \"#B0BEC5\", \"#B0BEC5\", \"#B0BEC5\", \"#B0BEC5\", \"#B0BEC5\", \"#B0BEC5\", \"#B0BEC5\", \"#B0BEC5\", \"#B0BEC5\", \"#B0BEC5\", \"#B0BEC5\", \"#B0BEC5\"]]}], \"label\": \"Topic 52\", \"method\": \"update\"}, {\"args\": [{\"marker.color\": [[\"#B0BEC5\", \"#B0BEC5\", \"#B0BEC5\", \"#B0BEC5\", \"#B0BEC5\", \"#B0BEC5\", \"#B0BEC5\", \"#B0BEC5\", \"#B0BEC5\", \"#B0BEC5\", \"#B0BEC5\", \"#B0BEC5\", \"#B0BEC5\", \"#B0BEC5\", \"#B0BEC5\", \"#B0BEC5\", \"#B0BEC5\", \"#B0BEC5\", \"#B0BEC5\", \"#B0BEC5\", \"#B0BEC5\", \"#B0BEC5\", \"#B0BEC5\", \"#B0BEC5\", \"#B0BEC5\", \"#B0BEC5\", \"#B0BEC5\", \"#B0BEC5\", \"#B0BEC5\", \"#B0BEC5\", \"#B0BEC5\", \"#B0BEC5\", \"#B0BEC5\", \"#B0BEC5\", \"#B0BEC5\", \"#B0BEC5\", \"#B0BEC5\", \"#B0BEC5\", \"#B0BEC5\", \"#B0BEC5\", \"#B0BEC5\", \"#B0BEC5\", \"#B0BEC5\", \"#B0BEC5\", \"#B0BEC5\", \"#B0BEC5\", \"#B0BEC5\", \"#B0BEC5\", \"#B0BEC5\", \"#B0BEC5\", \"#B0BEC5\", \"#B0BEC5\", \"#B0BEC5\", \"red\", \"#B0BEC5\", \"#B0BEC5\", \"#B0BEC5\", \"#B0BEC5\", \"#B0BEC5\", \"#B0BEC5\", \"#B0BEC5\", \"#B0BEC5\", \"#B0BEC5\", \"#B0BEC5\", \"#B0BEC5\", \"#B0BEC5\", \"#B0BEC5\", \"#B0BEC5\", \"#B0BEC5\", \"#B0BEC5\", \"#B0BEC5\", \"#B0BEC5\", \"#B0BEC5\", \"#B0BEC5\", \"#B0BEC5\", \"#B0BEC5\", \"#B0BEC5\", \"#B0BEC5\", \"#B0BEC5\"]]}], \"label\": \"Topic 53\", \"method\": \"update\"}, {\"args\": [{\"marker.color\": [[\"#B0BEC5\", \"#B0BEC5\", \"#B0BEC5\", \"#B0BEC5\", \"#B0BEC5\", \"#B0BEC5\", \"#B0BEC5\", \"#B0BEC5\", \"#B0BEC5\", \"#B0BEC5\", \"#B0BEC5\", \"#B0BEC5\", \"#B0BEC5\", \"#B0BEC5\", \"#B0BEC5\", \"#B0BEC5\", \"#B0BEC5\", \"#B0BEC5\", \"#B0BEC5\", \"#B0BEC5\", \"#B0BEC5\", \"#B0BEC5\", \"#B0BEC5\", \"#B0BEC5\", \"#B0BEC5\", \"#B0BEC5\", \"#B0BEC5\", \"#B0BEC5\", \"#B0BEC5\", \"#B0BEC5\", \"#B0BEC5\", \"#B0BEC5\", \"#B0BEC5\", \"#B0BEC5\", \"#B0BEC5\", \"#B0BEC5\", \"#B0BEC5\", \"#B0BEC5\", \"#B0BEC5\", \"#B0BEC5\", \"#B0BEC5\", \"#B0BEC5\", \"#B0BEC5\", \"#B0BEC5\", \"#B0BEC5\", \"#B0BEC5\", \"#B0BEC5\", \"#B0BEC5\", \"#B0BEC5\", \"#B0BEC5\", \"#B0BEC5\", \"#B0BEC5\", \"#B0BEC5\", \"#B0BEC5\", \"red\", \"#B0BEC5\", \"#B0BEC5\", \"#B0BEC5\", \"#B0BEC5\", \"#B0BEC5\", \"#B0BEC5\", \"#B0BEC5\", \"#B0BEC5\", \"#B0BEC5\", \"#B0BEC5\", \"#B0BEC5\", \"#B0BEC5\", \"#B0BEC5\", \"#B0BEC5\", \"#B0BEC5\", \"#B0BEC5\", \"#B0BEC5\", \"#B0BEC5\", \"#B0BEC5\", \"#B0BEC5\", \"#B0BEC5\", \"#B0BEC5\", \"#B0BEC5\", \"#B0BEC5\"]]}], \"label\": \"Topic 54\", \"method\": \"update\"}, {\"args\": [{\"marker.color\": [[\"#B0BEC5\", \"#B0BEC5\", \"#B0BEC5\", \"#B0BEC5\", \"#B0BEC5\", \"#B0BEC5\", \"#B0BEC5\", \"#B0BEC5\", \"#B0BEC5\", \"#B0BEC5\", \"#B0BEC5\", \"#B0BEC5\", \"#B0BEC5\", \"#B0BEC5\", \"#B0BEC5\", \"#B0BEC5\", \"#B0BEC5\", \"#B0BEC5\", \"#B0BEC5\", \"#B0BEC5\", \"#B0BEC5\", \"#B0BEC5\", \"#B0BEC5\", \"#B0BEC5\", \"#B0BEC5\", \"#B0BEC5\", \"#B0BEC5\", \"#B0BEC5\", \"#B0BEC5\", \"#B0BEC5\", \"#B0BEC5\", \"#B0BEC5\", \"#B0BEC5\", \"#B0BEC5\", \"#B0BEC5\", \"#B0BEC5\", \"#B0BEC5\", \"#B0BEC5\", \"#B0BEC5\", \"#B0BEC5\", \"#B0BEC5\", \"#B0BEC5\", \"#B0BEC5\", \"#B0BEC5\", \"#B0BEC5\", \"#B0BEC5\", \"#B0BEC5\", \"#B0BEC5\", \"#B0BEC5\", \"#B0BEC5\", \"#B0BEC5\", \"#B0BEC5\", \"#B0BEC5\", \"#B0BEC5\", \"#B0BEC5\", \"red\", \"#B0BEC5\", \"#B0BEC5\", \"#B0BEC5\", \"#B0BEC5\", \"#B0BEC5\", \"#B0BEC5\", \"#B0BEC5\", \"#B0BEC5\", \"#B0BEC5\", \"#B0BEC5\", \"#B0BEC5\", \"#B0BEC5\", \"#B0BEC5\", \"#B0BEC5\", \"#B0BEC5\", \"#B0BEC5\", \"#B0BEC5\", \"#B0BEC5\", \"#B0BEC5\", \"#B0BEC5\", \"#B0BEC5\", \"#B0BEC5\", \"#B0BEC5\"]]}], \"label\": \"Topic 55\", \"method\": \"update\"}, {\"args\": [{\"marker.color\": [[\"#B0BEC5\", \"#B0BEC5\", \"#B0BEC5\", \"#B0BEC5\", \"#B0BEC5\", \"#B0BEC5\", \"#B0BEC5\", \"#B0BEC5\", \"#B0BEC5\", \"#B0BEC5\", \"#B0BEC5\", \"#B0BEC5\", \"#B0BEC5\", \"#B0BEC5\", \"#B0BEC5\", \"#B0BEC5\", \"#B0BEC5\", \"#B0BEC5\", \"#B0BEC5\", \"#B0BEC5\", \"#B0BEC5\", \"#B0BEC5\", \"#B0BEC5\", \"#B0BEC5\", \"#B0BEC5\", \"#B0BEC5\", \"#B0BEC5\", \"#B0BEC5\", \"#B0BEC5\", \"#B0BEC5\", \"#B0BEC5\", \"#B0BEC5\", \"#B0BEC5\", \"#B0BEC5\", \"#B0BEC5\", \"#B0BEC5\", \"#B0BEC5\", \"#B0BEC5\", \"#B0BEC5\", \"#B0BEC5\", \"#B0BEC5\", \"#B0BEC5\", \"#B0BEC5\", \"#B0BEC5\", \"#B0BEC5\", \"#B0BEC5\", \"#B0BEC5\", \"#B0BEC5\", \"#B0BEC5\", \"#B0BEC5\", \"#B0BEC5\", \"#B0BEC5\", \"#B0BEC5\", \"#B0BEC5\", \"#B0BEC5\", \"#B0BEC5\", \"red\", \"#B0BEC5\", \"#B0BEC5\", \"#B0BEC5\", \"#B0BEC5\", \"#B0BEC5\", \"#B0BEC5\", \"#B0BEC5\", \"#B0BEC5\", \"#B0BEC5\", \"#B0BEC5\", \"#B0BEC5\", \"#B0BEC5\", \"#B0BEC5\", \"#B0BEC5\", \"#B0BEC5\", \"#B0BEC5\", \"#B0BEC5\", \"#B0BEC5\", \"#B0BEC5\", \"#B0BEC5\", \"#B0BEC5\", \"#B0BEC5\"]]}], \"label\": \"Topic 56\", \"method\": \"update\"}, {\"args\": [{\"marker.color\": [[\"#B0BEC5\", \"#B0BEC5\", \"#B0BEC5\", \"#B0BEC5\", \"#B0BEC5\", \"#B0BEC5\", \"#B0BEC5\", \"#B0BEC5\", \"#B0BEC5\", \"#B0BEC5\", \"#B0BEC5\", \"#B0BEC5\", \"#B0BEC5\", \"#B0BEC5\", \"#B0BEC5\", \"#B0BEC5\", \"#B0BEC5\", \"#B0BEC5\", \"#B0BEC5\", \"#B0BEC5\", \"#B0BEC5\", \"#B0BEC5\", \"#B0BEC5\", \"#B0BEC5\", \"#B0BEC5\", \"#B0BEC5\", \"#B0BEC5\", \"#B0BEC5\", \"#B0BEC5\", \"#B0BEC5\", \"#B0BEC5\", \"#B0BEC5\", \"#B0BEC5\", \"#B0BEC5\", \"#B0BEC5\", \"#B0BEC5\", \"#B0BEC5\", \"#B0BEC5\", \"#B0BEC5\", \"#B0BEC5\", \"#B0BEC5\", \"#B0BEC5\", \"#B0BEC5\", \"#B0BEC5\", \"#B0BEC5\", \"#B0BEC5\", \"#B0BEC5\", \"#B0BEC5\", \"#B0BEC5\", \"#B0BEC5\", \"#B0BEC5\", \"#B0BEC5\", \"#B0BEC5\", \"#B0BEC5\", \"#B0BEC5\", \"#B0BEC5\", \"#B0BEC5\", \"red\", \"#B0BEC5\", \"#B0BEC5\", \"#B0BEC5\", \"#B0BEC5\", \"#B0BEC5\", \"#B0BEC5\", \"#B0BEC5\", \"#B0BEC5\", \"#B0BEC5\", \"#B0BEC5\", \"#B0BEC5\", \"#B0BEC5\", \"#B0BEC5\", \"#B0BEC5\", \"#B0BEC5\", \"#B0BEC5\", \"#B0BEC5\", \"#B0BEC5\", \"#B0BEC5\", \"#B0BEC5\", \"#B0BEC5\"]]}], \"label\": \"Topic 57\", \"method\": \"update\"}, {\"args\": [{\"marker.color\": [[\"#B0BEC5\", \"#B0BEC5\", \"#B0BEC5\", \"#B0BEC5\", \"#B0BEC5\", \"#B0BEC5\", \"#B0BEC5\", \"#B0BEC5\", \"#B0BEC5\", \"#B0BEC5\", \"#B0BEC5\", \"#B0BEC5\", \"#B0BEC5\", \"#B0BEC5\", \"#B0BEC5\", \"#B0BEC5\", \"#B0BEC5\", \"#B0BEC5\", \"#B0BEC5\", \"#B0BEC5\", \"#B0BEC5\", \"#B0BEC5\", \"#B0BEC5\", \"#B0BEC5\", \"#B0BEC5\", \"#B0BEC5\", \"#B0BEC5\", \"#B0BEC5\", \"#B0BEC5\", \"#B0BEC5\", \"#B0BEC5\", \"#B0BEC5\", \"#B0BEC5\", \"#B0BEC5\", \"#B0BEC5\", \"#B0BEC5\", \"#B0BEC5\", \"#B0BEC5\", \"#B0BEC5\", \"#B0BEC5\", \"#B0BEC5\", \"#B0BEC5\", \"#B0BEC5\", \"#B0BEC5\", \"#B0BEC5\", \"#B0BEC5\", \"#B0BEC5\", \"#B0BEC5\", \"#B0BEC5\", \"#B0BEC5\", \"#B0BEC5\", \"#B0BEC5\", \"#B0BEC5\", \"#B0BEC5\", \"#B0BEC5\", \"#B0BEC5\", \"#B0BEC5\", \"#B0BEC5\", \"red\", \"#B0BEC5\", \"#B0BEC5\", \"#B0BEC5\", \"#B0BEC5\", \"#B0BEC5\", \"#B0BEC5\", \"#B0BEC5\", \"#B0BEC5\", \"#B0BEC5\", \"#B0BEC5\", \"#B0BEC5\", \"#B0BEC5\", \"#B0BEC5\", \"#B0BEC5\", \"#B0BEC5\", \"#B0BEC5\", \"#B0BEC5\", \"#B0BEC5\", \"#B0BEC5\", \"#B0BEC5\"]]}], \"label\": \"Topic 58\", \"method\": \"update\"}, {\"args\": [{\"marker.color\": [[\"#B0BEC5\", \"#B0BEC5\", \"#B0BEC5\", \"#B0BEC5\", \"#B0BEC5\", \"#B0BEC5\", \"#B0BEC5\", \"#B0BEC5\", \"#B0BEC5\", \"#B0BEC5\", \"#B0BEC5\", \"#B0BEC5\", \"#B0BEC5\", \"#B0BEC5\", \"#B0BEC5\", \"#B0BEC5\", \"#B0BEC5\", \"#B0BEC5\", \"#B0BEC5\", \"#B0BEC5\", \"#B0BEC5\", \"#B0BEC5\", \"#B0BEC5\", \"#B0BEC5\", \"#B0BEC5\", \"#B0BEC5\", \"#B0BEC5\", \"#B0BEC5\", \"#B0BEC5\", \"#B0BEC5\", \"#B0BEC5\", \"#B0BEC5\", \"#B0BEC5\", \"#B0BEC5\", \"#B0BEC5\", \"#B0BEC5\", \"#B0BEC5\", \"#B0BEC5\", \"#B0BEC5\", \"#B0BEC5\", \"#B0BEC5\", \"#B0BEC5\", \"#B0BEC5\", \"#B0BEC5\", \"#B0BEC5\", \"#B0BEC5\", \"#B0BEC5\", \"#B0BEC5\", \"#B0BEC5\", \"#B0BEC5\", \"#B0BEC5\", \"#B0BEC5\", \"#B0BEC5\", \"#B0BEC5\", \"#B0BEC5\", \"#B0BEC5\", \"#B0BEC5\", \"#B0BEC5\", \"#B0BEC5\", \"red\", \"#B0BEC5\", \"#B0BEC5\", \"#B0BEC5\", \"#B0BEC5\", \"#B0BEC5\", \"#B0BEC5\", \"#B0BEC5\", \"#B0BEC5\", \"#B0BEC5\", \"#B0BEC5\", \"#B0BEC5\", \"#B0BEC5\", \"#B0BEC5\", \"#B0BEC5\", \"#B0BEC5\", \"#B0BEC5\", \"#B0BEC5\", \"#B0BEC5\", \"#B0BEC5\"]]}], \"label\": \"Topic 59\", \"method\": \"update\"}, {\"args\": [{\"marker.color\": [[\"#B0BEC5\", \"#B0BEC5\", \"#B0BEC5\", \"#B0BEC5\", \"#B0BEC5\", \"#B0BEC5\", \"#B0BEC5\", \"#B0BEC5\", \"#B0BEC5\", \"#B0BEC5\", \"#B0BEC5\", \"#B0BEC5\", \"#B0BEC5\", \"#B0BEC5\", \"#B0BEC5\", \"#B0BEC5\", \"#B0BEC5\", \"#B0BEC5\", \"#B0BEC5\", \"#B0BEC5\", \"#B0BEC5\", \"#B0BEC5\", \"#B0BEC5\", \"#B0BEC5\", \"#B0BEC5\", \"#B0BEC5\", \"#B0BEC5\", \"#B0BEC5\", \"#B0BEC5\", \"#B0BEC5\", \"#B0BEC5\", \"#B0BEC5\", \"#B0BEC5\", \"#B0BEC5\", \"#B0BEC5\", \"#B0BEC5\", \"#B0BEC5\", \"#B0BEC5\", \"#B0BEC5\", \"#B0BEC5\", \"#B0BEC5\", \"#B0BEC5\", \"#B0BEC5\", \"#B0BEC5\", \"#B0BEC5\", \"#B0BEC5\", \"#B0BEC5\", \"#B0BEC5\", \"#B0BEC5\", \"#B0BEC5\", \"#B0BEC5\", \"#B0BEC5\", \"#B0BEC5\", \"#B0BEC5\", \"#B0BEC5\", \"#B0BEC5\", \"#B0BEC5\", \"#B0BEC5\", \"#B0BEC5\", \"#B0BEC5\", \"red\", \"#B0BEC5\", \"#B0BEC5\", \"#B0BEC5\", \"#B0BEC5\", \"#B0BEC5\", \"#B0BEC5\", \"#B0BEC5\", \"#B0BEC5\", \"#B0BEC5\", \"#B0BEC5\", \"#B0BEC5\", \"#B0BEC5\", \"#B0BEC5\", \"#B0BEC5\", \"#B0BEC5\", \"#B0BEC5\", \"#B0BEC5\", \"#B0BEC5\"]]}], \"label\": \"Topic 60\", \"method\": \"update\"}, {\"args\": [{\"marker.color\": [[\"#B0BEC5\", \"#B0BEC5\", \"#B0BEC5\", \"#B0BEC5\", \"#B0BEC5\", \"#B0BEC5\", \"#B0BEC5\", \"#B0BEC5\", \"#B0BEC5\", \"#B0BEC5\", \"#B0BEC5\", \"#B0BEC5\", \"#B0BEC5\", \"#B0BEC5\", \"#B0BEC5\", \"#B0BEC5\", \"#B0BEC5\", \"#B0BEC5\", \"#B0BEC5\", \"#B0BEC5\", \"#B0BEC5\", \"#B0BEC5\", \"#B0BEC5\", \"#B0BEC5\", \"#B0BEC5\", \"#B0BEC5\", \"#B0BEC5\", \"#B0BEC5\", \"#B0BEC5\", \"#B0BEC5\", \"#B0BEC5\", \"#B0BEC5\", \"#B0BEC5\", \"#B0BEC5\", \"#B0BEC5\", \"#B0BEC5\", \"#B0BEC5\", \"#B0BEC5\", \"#B0BEC5\", \"#B0BEC5\", \"#B0BEC5\", \"#B0BEC5\", \"#B0BEC5\", \"#B0BEC5\", \"#B0BEC5\", \"#B0BEC5\", \"#B0BEC5\", \"#B0BEC5\", \"#B0BEC5\", \"#B0BEC5\", \"#B0BEC5\", \"#B0BEC5\", \"#B0BEC5\", \"#B0BEC5\", \"#B0BEC5\", \"#B0BEC5\", \"#B0BEC5\", \"#B0BEC5\", \"#B0BEC5\", \"#B0BEC5\", \"#B0BEC5\", \"red\", \"#B0BEC5\", \"#B0BEC5\", \"#B0BEC5\", \"#B0BEC5\", \"#B0BEC5\", \"#B0BEC5\", \"#B0BEC5\", \"#B0BEC5\", \"#B0BEC5\", \"#B0BEC5\", \"#B0BEC5\", \"#B0BEC5\", \"#B0BEC5\", \"#B0BEC5\", \"#B0BEC5\", \"#B0BEC5\", \"#B0BEC5\"]]}], \"label\": \"Topic 61\", \"method\": \"update\"}, {\"args\": [{\"marker.color\": [[\"#B0BEC5\", \"#B0BEC5\", \"#B0BEC5\", \"#B0BEC5\", \"#B0BEC5\", \"#B0BEC5\", \"#B0BEC5\", \"#B0BEC5\", \"#B0BEC5\", \"#B0BEC5\", \"#B0BEC5\", \"#B0BEC5\", \"#B0BEC5\", \"#B0BEC5\", \"#B0BEC5\", \"#B0BEC5\", \"#B0BEC5\", \"#B0BEC5\", \"#B0BEC5\", \"#B0BEC5\", \"#B0BEC5\", \"#B0BEC5\", \"#B0BEC5\", \"#B0BEC5\", \"#B0BEC5\", \"#B0BEC5\", \"#B0BEC5\", \"#B0BEC5\", \"#B0BEC5\", \"#B0BEC5\", \"#B0BEC5\", \"#B0BEC5\", \"#B0BEC5\", \"#B0BEC5\", \"#B0BEC5\", \"#B0BEC5\", \"#B0BEC5\", \"#B0BEC5\", \"#B0BEC5\", \"#B0BEC5\", \"#B0BEC5\", \"#B0BEC5\", \"#B0BEC5\", \"#B0BEC5\", \"#B0BEC5\", \"#B0BEC5\", \"#B0BEC5\", \"#B0BEC5\", \"#B0BEC5\", \"#B0BEC5\", \"#B0BEC5\", \"#B0BEC5\", \"#B0BEC5\", \"#B0BEC5\", \"#B0BEC5\", \"#B0BEC5\", \"#B0BEC5\", \"#B0BEC5\", \"#B0BEC5\", \"#B0BEC5\", \"#B0BEC5\", \"#B0BEC5\", \"red\", \"#B0BEC5\", \"#B0BEC5\", \"#B0BEC5\", \"#B0BEC5\", \"#B0BEC5\", \"#B0BEC5\", \"#B0BEC5\", \"#B0BEC5\", \"#B0BEC5\", \"#B0BEC5\", \"#B0BEC5\", \"#B0BEC5\", \"#B0BEC5\", \"#B0BEC5\", \"#B0BEC5\", \"#B0BEC5\"]]}], \"label\": \"Topic 62\", \"method\": \"update\"}, {\"args\": [{\"marker.color\": [[\"#B0BEC5\", \"#B0BEC5\", \"#B0BEC5\", \"#B0BEC5\", \"#B0BEC5\", \"#B0BEC5\", \"#B0BEC5\", \"#B0BEC5\", \"#B0BEC5\", \"#B0BEC5\", \"#B0BEC5\", \"#B0BEC5\", \"#B0BEC5\", \"#B0BEC5\", \"#B0BEC5\", \"#B0BEC5\", \"#B0BEC5\", \"#B0BEC5\", \"#B0BEC5\", \"#B0BEC5\", \"#B0BEC5\", \"#B0BEC5\", \"#B0BEC5\", \"#B0BEC5\", \"#B0BEC5\", \"#B0BEC5\", \"#B0BEC5\", \"#B0BEC5\", \"#B0BEC5\", \"#B0BEC5\", \"#B0BEC5\", \"#B0BEC5\", \"#B0BEC5\", \"#B0BEC5\", \"#B0BEC5\", \"#B0BEC5\", \"#B0BEC5\", \"#B0BEC5\", \"#B0BEC5\", \"#B0BEC5\", \"#B0BEC5\", \"#B0BEC5\", \"#B0BEC5\", \"#B0BEC5\", \"#B0BEC5\", \"#B0BEC5\", \"#B0BEC5\", \"#B0BEC5\", \"#B0BEC5\", \"#B0BEC5\", \"#B0BEC5\", \"#B0BEC5\", \"#B0BEC5\", \"#B0BEC5\", \"#B0BEC5\", \"#B0BEC5\", \"#B0BEC5\", \"#B0BEC5\", \"#B0BEC5\", \"#B0BEC5\", \"#B0BEC5\", \"#B0BEC5\", \"#B0BEC5\", \"red\", \"#B0BEC5\", \"#B0BEC5\", \"#B0BEC5\", \"#B0BEC5\", \"#B0BEC5\", \"#B0BEC5\", \"#B0BEC5\", \"#B0BEC5\", \"#B0BEC5\", \"#B0BEC5\", \"#B0BEC5\", \"#B0BEC5\", \"#B0BEC5\", \"#B0BEC5\", \"#B0BEC5\"]]}], \"label\": \"Topic 63\", \"method\": \"update\"}, {\"args\": [{\"marker.color\": [[\"#B0BEC5\", \"#B0BEC5\", \"#B0BEC5\", \"#B0BEC5\", \"#B0BEC5\", \"#B0BEC5\", \"#B0BEC5\", \"#B0BEC5\", \"#B0BEC5\", \"#B0BEC5\", \"#B0BEC5\", \"#B0BEC5\", \"#B0BEC5\", \"#B0BEC5\", \"#B0BEC5\", \"#B0BEC5\", \"#B0BEC5\", \"#B0BEC5\", \"#B0BEC5\", \"#B0BEC5\", \"#B0BEC5\", \"#B0BEC5\", \"#B0BEC5\", \"#B0BEC5\", \"#B0BEC5\", \"#B0BEC5\", \"#B0BEC5\", \"#B0BEC5\", \"#B0BEC5\", \"#B0BEC5\", \"#B0BEC5\", \"#B0BEC5\", \"#B0BEC5\", \"#B0BEC5\", \"#B0BEC5\", \"#B0BEC5\", \"#B0BEC5\", \"#B0BEC5\", \"#B0BEC5\", \"#B0BEC5\", \"#B0BEC5\", \"#B0BEC5\", \"#B0BEC5\", \"#B0BEC5\", \"#B0BEC5\", \"#B0BEC5\", \"#B0BEC5\", \"#B0BEC5\", \"#B0BEC5\", \"#B0BEC5\", \"#B0BEC5\", \"#B0BEC5\", \"#B0BEC5\", \"#B0BEC5\", \"#B0BEC5\", \"#B0BEC5\", \"#B0BEC5\", \"#B0BEC5\", \"#B0BEC5\", \"#B0BEC5\", \"#B0BEC5\", \"#B0BEC5\", \"#B0BEC5\", \"#B0BEC5\", \"red\", \"#B0BEC5\", \"#B0BEC5\", \"#B0BEC5\", \"#B0BEC5\", \"#B0BEC5\", \"#B0BEC5\", \"#B0BEC5\", \"#B0BEC5\", \"#B0BEC5\", \"#B0BEC5\", \"#B0BEC5\", \"#B0BEC5\", \"#B0BEC5\", \"#B0BEC5\"]]}], \"label\": \"Topic 64\", \"method\": \"update\"}, {\"args\": [{\"marker.color\": [[\"#B0BEC5\", \"#B0BEC5\", \"#B0BEC5\", \"#B0BEC5\", \"#B0BEC5\", \"#B0BEC5\", \"#B0BEC5\", \"#B0BEC5\", \"#B0BEC5\", \"#B0BEC5\", \"#B0BEC5\", \"#B0BEC5\", \"#B0BEC5\", \"#B0BEC5\", \"#B0BEC5\", \"#B0BEC5\", \"#B0BEC5\", \"#B0BEC5\", \"#B0BEC5\", \"#B0BEC5\", \"#B0BEC5\", \"#B0BEC5\", \"#B0BEC5\", \"#B0BEC5\", \"#B0BEC5\", \"#B0BEC5\", \"#B0BEC5\", \"#B0BEC5\", \"#B0BEC5\", \"#B0BEC5\", \"#B0BEC5\", \"#B0BEC5\", \"#B0BEC5\", \"#B0BEC5\", \"#B0BEC5\", \"#B0BEC5\", \"#B0BEC5\", \"#B0BEC5\", \"#B0BEC5\", \"#B0BEC5\", \"#B0BEC5\", \"#B0BEC5\", \"#B0BEC5\", \"#B0BEC5\", \"#B0BEC5\", \"#B0BEC5\", \"#B0BEC5\", \"#B0BEC5\", \"#B0BEC5\", \"#B0BEC5\", \"#B0BEC5\", \"#B0BEC5\", \"#B0BEC5\", \"#B0BEC5\", \"#B0BEC5\", \"#B0BEC5\", \"#B0BEC5\", \"#B0BEC5\", \"#B0BEC5\", \"#B0BEC5\", \"#B0BEC5\", \"#B0BEC5\", \"#B0BEC5\", \"#B0BEC5\", \"#B0BEC5\", \"red\", \"#B0BEC5\", \"#B0BEC5\", \"#B0BEC5\", \"#B0BEC5\", \"#B0BEC5\", \"#B0BEC5\", \"#B0BEC5\", \"#B0BEC5\", \"#B0BEC5\", \"#B0BEC5\", \"#B0BEC5\", \"#B0BEC5\", \"#B0BEC5\"]]}], \"label\": \"Topic 65\", \"method\": \"update\"}, {\"args\": [{\"marker.color\": [[\"#B0BEC5\", \"#B0BEC5\", \"#B0BEC5\", \"#B0BEC5\", \"#B0BEC5\", \"#B0BEC5\", \"#B0BEC5\", \"#B0BEC5\", \"#B0BEC5\", \"#B0BEC5\", \"#B0BEC5\", \"#B0BEC5\", \"#B0BEC5\", \"#B0BEC5\", \"#B0BEC5\", \"#B0BEC5\", \"#B0BEC5\", \"#B0BEC5\", \"#B0BEC5\", \"#B0BEC5\", \"#B0BEC5\", \"#B0BEC5\", \"#B0BEC5\", \"#B0BEC5\", \"#B0BEC5\", \"#B0BEC5\", \"#B0BEC5\", \"#B0BEC5\", \"#B0BEC5\", \"#B0BEC5\", \"#B0BEC5\", \"#B0BEC5\", \"#B0BEC5\", \"#B0BEC5\", \"#B0BEC5\", \"#B0BEC5\", \"#B0BEC5\", \"#B0BEC5\", \"#B0BEC5\", \"#B0BEC5\", \"#B0BEC5\", \"#B0BEC5\", \"#B0BEC5\", \"#B0BEC5\", \"#B0BEC5\", \"#B0BEC5\", \"#B0BEC5\", \"#B0BEC5\", \"#B0BEC5\", \"#B0BEC5\", \"#B0BEC5\", \"#B0BEC5\", \"#B0BEC5\", \"#B0BEC5\", \"#B0BEC5\", \"#B0BEC5\", \"#B0BEC5\", \"#B0BEC5\", \"#B0BEC5\", \"#B0BEC5\", \"#B0BEC5\", \"#B0BEC5\", \"#B0BEC5\", \"#B0BEC5\", \"#B0BEC5\", \"#B0BEC5\", \"red\", \"#B0BEC5\", \"#B0BEC5\", \"#B0BEC5\", \"#B0BEC5\", \"#B0BEC5\", \"#B0BEC5\", \"#B0BEC5\", \"#B0BEC5\", \"#B0BEC5\", \"#B0BEC5\", \"#B0BEC5\", \"#B0BEC5\"]]}], \"label\": \"Topic 66\", \"method\": \"update\"}, {\"args\": [{\"marker.color\": [[\"#B0BEC5\", \"#B0BEC5\", \"#B0BEC5\", \"#B0BEC5\", \"#B0BEC5\", \"#B0BEC5\", \"#B0BEC5\", \"#B0BEC5\", \"#B0BEC5\", \"#B0BEC5\", \"#B0BEC5\", \"#B0BEC5\", \"#B0BEC5\", \"#B0BEC5\", \"#B0BEC5\", \"#B0BEC5\", \"#B0BEC5\", \"#B0BEC5\", \"#B0BEC5\", \"#B0BEC5\", \"#B0BEC5\", \"#B0BEC5\", \"#B0BEC5\", \"#B0BEC5\", \"#B0BEC5\", \"#B0BEC5\", \"#B0BEC5\", \"#B0BEC5\", \"#B0BEC5\", \"#B0BEC5\", \"#B0BEC5\", \"#B0BEC5\", \"#B0BEC5\", \"#B0BEC5\", \"#B0BEC5\", \"#B0BEC5\", \"#B0BEC5\", \"#B0BEC5\", \"#B0BEC5\", \"#B0BEC5\", \"#B0BEC5\", \"#B0BEC5\", \"#B0BEC5\", \"#B0BEC5\", \"#B0BEC5\", \"#B0BEC5\", \"#B0BEC5\", \"#B0BEC5\", \"#B0BEC5\", \"#B0BEC5\", \"#B0BEC5\", \"#B0BEC5\", \"#B0BEC5\", \"#B0BEC5\", \"#B0BEC5\", \"#B0BEC5\", \"#B0BEC5\", \"#B0BEC5\", \"#B0BEC5\", \"#B0BEC5\", \"#B0BEC5\", \"#B0BEC5\", \"#B0BEC5\", \"#B0BEC5\", \"#B0BEC5\", \"#B0BEC5\", \"#B0BEC5\", \"red\", \"#B0BEC5\", \"#B0BEC5\", \"#B0BEC5\", \"#B0BEC5\", \"#B0BEC5\", \"#B0BEC5\", \"#B0BEC5\", \"#B0BEC5\", \"#B0BEC5\", \"#B0BEC5\", \"#B0BEC5\"]]}], \"label\": \"Topic 67\", \"method\": \"update\"}, {\"args\": [{\"marker.color\": [[\"#B0BEC5\", \"#B0BEC5\", \"#B0BEC5\", \"#B0BEC5\", \"#B0BEC5\", \"#B0BEC5\", \"#B0BEC5\", \"#B0BEC5\", \"#B0BEC5\", \"#B0BEC5\", \"#B0BEC5\", \"#B0BEC5\", \"#B0BEC5\", \"#B0BEC5\", \"#B0BEC5\", \"#B0BEC5\", \"#B0BEC5\", \"#B0BEC5\", \"#B0BEC5\", \"#B0BEC5\", \"#B0BEC5\", \"#B0BEC5\", \"#B0BEC5\", \"#B0BEC5\", \"#B0BEC5\", \"#B0BEC5\", \"#B0BEC5\", \"#B0BEC5\", \"#B0BEC5\", \"#B0BEC5\", \"#B0BEC5\", \"#B0BEC5\", \"#B0BEC5\", \"#B0BEC5\", \"#B0BEC5\", \"#B0BEC5\", \"#B0BEC5\", \"#B0BEC5\", \"#B0BEC5\", \"#B0BEC5\", \"#B0BEC5\", \"#B0BEC5\", \"#B0BEC5\", \"#B0BEC5\", \"#B0BEC5\", \"#B0BEC5\", \"#B0BEC5\", \"#B0BEC5\", \"#B0BEC5\", \"#B0BEC5\", \"#B0BEC5\", \"#B0BEC5\", \"#B0BEC5\", \"#B0BEC5\", \"#B0BEC5\", \"#B0BEC5\", \"#B0BEC5\", \"#B0BEC5\", \"#B0BEC5\", \"#B0BEC5\", \"#B0BEC5\", \"#B0BEC5\", \"#B0BEC5\", \"#B0BEC5\", \"#B0BEC5\", \"#B0BEC5\", \"#B0BEC5\", \"#B0BEC5\", \"red\", \"#B0BEC5\", \"#B0BEC5\", \"#B0BEC5\", \"#B0BEC5\", \"#B0BEC5\", \"#B0BEC5\", \"#B0BEC5\", \"#B0BEC5\", \"#B0BEC5\", \"#B0BEC5\"]]}], \"label\": \"Topic 68\", \"method\": \"update\"}, {\"args\": [{\"marker.color\": [[\"#B0BEC5\", \"#B0BEC5\", \"#B0BEC5\", \"#B0BEC5\", \"#B0BEC5\", \"#B0BEC5\", \"#B0BEC5\", \"#B0BEC5\", \"#B0BEC5\", \"#B0BEC5\", \"#B0BEC5\", \"#B0BEC5\", \"#B0BEC5\", \"#B0BEC5\", \"#B0BEC5\", \"#B0BEC5\", \"#B0BEC5\", \"#B0BEC5\", \"#B0BEC5\", \"#B0BEC5\", \"#B0BEC5\", \"#B0BEC5\", \"#B0BEC5\", \"#B0BEC5\", \"#B0BEC5\", \"#B0BEC5\", \"#B0BEC5\", \"#B0BEC5\", \"#B0BEC5\", \"#B0BEC5\", \"#B0BEC5\", \"#B0BEC5\", \"#B0BEC5\", \"#B0BEC5\", \"#B0BEC5\", \"#B0BEC5\", \"#B0BEC5\", \"#B0BEC5\", \"#B0BEC5\", \"#B0BEC5\", \"#B0BEC5\", \"#B0BEC5\", \"#B0BEC5\", \"#B0BEC5\", \"#B0BEC5\", \"#B0BEC5\", \"#B0BEC5\", \"#B0BEC5\", \"#B0BEC5\", \"#B0BEC5\", \"#B0BEC5\", \"#B0BEC5\", \"#B0BEC5\", \"#B0BEC5\", \"#B0BEC5\", \"#B0BEC5\", \"#B0BEC5\", \"#B0BEC5\", \"#B0BEC5\", \"#B0BEC5\", \"#B0BEC5\", \"#B0BEC5\", \"#B0BEC5\", \"#B0BEC5\", \"#B0BEC5\", \"#B0BEC5\", \"#B0BEC5\", \"#B0BEC5\", \"#B0BEC5\", \"red\", \"#B0BEC5\", \"#B0BEC5\", \"#B0BEC5\", \"#B0BEC5\", \"#B0BEC5\", \"#B0BEC5\", \"#B0BEC5\", \"#B0BEC5\", \"#B0BEC5\"]]}], \"label\": \"Topic 69\", \"method\": \"update\"}, {\"args\": [{\"marker.color\": [[\"#B0BEC5\", \"#B0BEC5\", \"#B0BEC5\", \"#B0BEC5\", \"#B0BEC5\", \"#B0BEC5\", \"#B0BEC5\", \"#B0BEC5\", \"#B0BEC5\", \"#B0BEC5\", \"#B0BEC5\", \"#B0BEC5\", \"#B0BEC5\", \"#B0BEC5\", \"#B0BEC5\", \"#B0BEC5\", \"#B0BEC5\", \"#B0BEC5\", \"#B0BEC5\", \"#B0BEC5\", \"#B0BEC5\", \"#B0BEC5\", \"#B0BEC5\", \"#B0BEC5\", \"#B0BEC5\", \"#B0BEC5\", \"#B0BEC5\", \"#B0BEC5\", \"#B0BEC5\", \"#B0BEC5\", \"#B0BEC5\", \"#B0BEC5\", \"#B0BEC5\", \"#B0BEC5\", \"#B0BEC5\", \"#B0BEC5\", \"#B0BEC5\", \"#B0BEC5\", \"#B0BEC5\", \"#B0BEC5\", \"#B0BEC5\", \"#B0BEC5\", \"#B0BEC5\", \"#B0BEC5\", \"#B0BEC5\", \"#B0BEC5\", \"#B0BEC5\", \"#B0BEC5\", \"#B0BEC5\", \"#B0BEC5\", \"#B0BEC5\", \"#B0BEC5\", \"#B0BEC5\", \"#B0BEC5\", \"#B0BEC5\", \"#B0BEC5\", \"#B0BEC5\", \"#B0BEC5\", \"#B0BEC5\", \"#B0BEC5\", \"#B0BEC5\", \"#B0BEC5\", \"#B0BEC5\", \"#B0BEC5\", \"#B0BEC5\", \"#B0BEC5\", \"#B0BEC5\", \"#B0BEC5\", \"#B0BEC5\", \"#B0BEC5\", \"red\", \"#B0BEC5\", \"#B0BEC5\", \"#B0BEC5\", \"#B0BEC5\", \"#B0BEC5\", \"#B0BEC5\", \"#B0BEC5\", \"#B0BEC5\"]]}], \"label\": \"Topic 70\", \"method\": \"update\"}, {\"args\": [{\"marker.color\": [[\"#B0BEC5\", \"#B0BEC5\", \"#B0BEC5\", \"#B0BEC5\", \"#B0BEC5\", \"#B0BEC5\", \"#B0BEC5\", \"#B0BEC5\", \"#B0BEC5\", \"#B0BEC5\", \"#B0BEC5\", \"#B0BEC5\", \"#B0BEC5\", \"#B0BEC5\", \"#B0BEC5\", \"#B0BEC5\", \"#B0BEC5\", \"#B0BEC5\", \"#B0BEC5\", \"#B0BEC5\", \"#B0BEC5\", \"#B0BEC5\", \"#B0BEC5\", \"#B0BEC5\", \"#B0BEC5\", \"#B0BEC5\", \"#B0BEC5\", \"#B0BEC5\", \"#B0BEC5\", \"#B0BEC5\", \"#B0BEC5\", \"#B0BEC5\", \"#B0BEC5\", \"#B0BEC5\", \"#B0BEC5\", \"#B0BEC5\", \"#B0BEC5\", \"#B0BEC5\", \"#B0BEC5\", \"#B0BEC5\", \"#B0BEC5\", \"#B0BEC5\", \"#B0BEC5\", \"#B0BEC5\", \"#B0BEC5\", \"#B0BEC5\", \"#B0BEC5\", \"#B0BEC5\", \"#B0BEC5\", \"#B0BEC5\", \"#B0BEC5\", \"#B0BEC5\", \"#B0BEC5\", \"#B0BEC5\", \"#B0BEC5\", \"#B0BEC5\", \"#B0BEC5\", \"#B0BEC5\", \"#B0BEC5\", \"#B0BEC5\", \"#B0BEC5\", \"#B0BEC5\", \"#B0BEC5\", \"#B0BEC5\", \"#B0BEC5\", \"#B0BEC5\", \"#B0BEC5\", \"#B0BEC5\", \"#B0BEC5\", \"#B0BEC5\", \"#B0BEC5\", \"red\", \"#B0BEC5\", \"#B0BEC5\", \"#B0BEC5\", \"#B0BEC5\", \"#B0BEC5\", \"#B0BEC5\", \"#B0BEC5\"]]}], \"label\": \"Topic 71\", \"method\": \"update\"}, {\"args\": [{\"marker.color\": [[\"#B0BEC5\", \"#B0BEC5\", \"#B0BEC5\", \"#B0BEC5\", \"#B0BEC5\", \"#B0BEC5\", \"#B0BEC5\", \"#B0BEC5\", \"#B0BEC5\", \"#B0BEC5\", \"#B0BEC5\", \"#B0BEC5\", \"#B0BEC5\", \"#B0BEC5\", \"#B0BEC5\", \"#B0BEC5\", \"#B0BEC5\", \"#B0BEC5\", \"#B0BEC5\", \"#B0BEC5\", \"#B0BEC5\", \"#B0BEC5\", \"#B0BEC5\", \"#B0BEC5\", \"#B0BEC5\", \"#B0BEC5\", \"#B0BEC5\", \"#B0BEC5\", \"#B0BEC5\", \"#B0BEC5\", \"#B0BEC5\", \"#B0BEC5\", \"#B0BEC5\", \"#B0BEC5\", \"#B0BEC5\", \"#B0BEC5\", \"#B0BEC5\", \"#B0BEC5\", \"#B0BEC5\", \"#B0BEC5\", \"#B0BEC5\", \"#B0BEC5\", \"#B0BEC5\", \"#B0BEC5\", \"#B0BEC5\", \"#B0BEC5\", \"#B0BEC5\", \"#B0BEC5\", \"#B0BEC5\", \"#B0BEC5\", \"#B0BEC5\", \"#B0BEC5\", \"#B0BEC5\", \"#B0BEC5\", \"#B0BEC5\", \"#B0BEC5\", \"#B0BEC5\", \"#B0BEC5\", \"#B0BEC5\", \"#B0BEC5\", \"#B0BEC5\", \"#B0BEC5\", \"#B0BEC5\", \"#B0BEC5\", \"#B0BEC5\", \"#B0BEC5\", \"#B0BEC5\", \"#B0BEC5\", \"#B0BEC5\", \"#B0BEC5\", \"#B0BEC5\", \"#B0BEC5\", \"red\", \"#B0BEC5\", \"#B0BEC5\", \"#B0BEC5\", \"#B0BEC5\", \"#B0BEC5\", \"#B0BEC5\"]]}], \"label\": \"Topic 72\", \"method\": \"update\"}, {\"args\": [{\"marker.color\": [[\"#B0BEC5\", \"#B0BEC5\", \"#B0BEC5\", \"#B0BEC5\", \"#B0BEC5\", \"#B0BEC5\", \"#B0BEC5\", \"#B0BEC5\", \"#B0BEC5\", \"#B0BEC5\", \"#B0BEC5\", \"#B0BEC5\", \"#B0BEC5\", \"#B0BEC5\", \"#B0BEC5\", \"#B0BEC5\", \"#B0BEC5\", \"#B0BEC5\", \"#B0BEC5\", \"#B0BEC5\", \"#B0BEC5\", \"#B0BEC5\", \"#B0BEC5\", \"#B0BEC5\", \"#B0BEC5\", \"#B0BEC5\", \"#B0BEC5\", \"#B0BEC5\", \"#B0BEC5\", \"#B0BEC5\", \"#B0BEC5\", \"#B0BEC5\", \"#B0BEC5\", \"#B0BEC5\", \"#B0BEC5\", \"#B0BEC5\", \"#B0BEC5\", \"#B0BEC5\", \"#B0BEC5\", \"#B0BEC5\", \"#B0BEC5\", \"#B0BEC5\", \"#B0BEC5\", \"#B0BEC5\", \"#B0BEC5\", \"#B0BEC5\", \"#B0BEC5\", \"#B0BEC5\", \"#B0BEC5\", \"#B0BEC5\", \"#B0BEC5\", \"#B0BEC5\", \"#B0BEC5\", \"#B0BEC5\", \"#B0BEC5\", \"#B0BEC5\", \"#B0BEC5\", \"#B0BEC5\", \"#B0BEC5\", \"#B0BEC5\", \"#B0BEC5\", \"#B0BEC5\", \"#B0BEC5\", \"#B0BEC5\", \"#B0BEC5\", \"#B0BEC5\", \"#B0BEC5\", \"#B0BEC5\", \"#B0BEC5\", \"#B0BEC5\", \"#B0BEC5\", \"#B0BEC5\", \"#B0BEC5\", \"red\", \"#B0BEC5\", \"#B0BEC5\", \"#B0BEC5\", \"#B0BEC5\", \"#B0BEC5\"]]}], \"label\": \"Topic 73\", \"method\": \"update\"}, {\"args\": [{\"marker.color\": [[\"#B0BEC5\", \"#B0BEC5\", \"#B0BEC5\", \"#B0BEC5\", \"#B0BEC5\", \"#B0BEC5\", \"#B0BEC5\", \"#B0BEC5\", \"#B0BEC5\", \"#B0BEC5\", \"#B0BEC5\", \"#B0BEC5\", \"#B0BEC5\", \"#B0BEC5\", \"#B0BEC5\", \"#B0BEC5\", \"#B0BEC5\", \"#B0BEC5\", \"#B0BEC5\", \"#B0BEC5\", \"#B0BEC5\", \"#B0BEC5\", \"#B0BEC5\", \"#B0BEC5\", \"#B0BEC5\", \"#B0BEC5\", \"#B0BEC5\", \"#B0BEC5\", \"#B0BEC5\", \"#B0BEC5\", \"#B0BEC5\", \"#B0BEC5\", \"#B0BEC5\", \"#B0BEC5\", \"#B0BEC5\", \"#B0BEC5\", \"#B0BEC5\", \"#B0BEC5\", \"#B0BEC5\", \"#B0BEC5\", \"#B0BEC5\", \"#B0BEC5\", \"#B0BEC5\", \"#B0BEC5\", \"#B0BEC5\", \"#B0BEC5\", \"#B0BEC5\", \"#B0BEC5\", \"#B0BEC5\", \"#B0BEC5\", \"#B0BEC5\", \"#B0BEC5\", \"#B0BEC5\", \"#B0BEC5\", \"#B0BEC5\", \"#B0BEC5\", \"#B0BEC5\", \"#B0BEC5\", \"#B0BEC5\", \"#B0BEC5\", \"#B0BEC5\", \"#B0BEC5\", \"#B0BEC5\", \"#B0BEC5\", \"#B0BEC5\", \"#B0BEC5\", \"#B0BEC5\", \"#B0BEC5\", \"#B0BEC5\", \"#B0BEC5\", \"#B0BEC5\", \"#B0BEC5\", \"#B0BEC5\", \"#B0BEC5\", \"red\", \"#B0BEC5\", \"#B0BEC5\", \"#B0BEC5\", \"#B0BEC5\"]]}], \"label\": \"Topic 74\", \"method\": \"update\"}, {\"args\": [{\"marker.color\": [[\"#B0BEC5\", \"#B0BEC5\", \"#B0BEC5\", \"#B0BEC5\", \"#B0BEC5\", \"#B0BEC5\", \"#B0BEC5\", \"#B0BEC5\", \"#B0BEC5\", \"#B0BEC5\", \"#B0BEC5\", \"#B0BEC5\", \"#B0BEC5\", \"#B0BEC5\", \"#B0BEC5\", \"#B0BEC5\", \"#B0BEC5\", \"#B0BEC5\", \"#B0BEC5\", \"#B0BEC5\", \"#B0BEC5\", \"#B0BEC5\", \"#B0BEC5\", \"#B0BEC5\", \"#B0BEC5\", \"#B0BEC5\", \"#B0BEC5\", \"#B0BEC5\", \"#B0BEC5\", \"#B0BEC5\", \"#B0BEC5\", \"#B0BEC5\", \"#B0BEC5\", \"#B0BEC5\", \"#B0BEC5\", \"#B0BEC5\", \"#B0BEC5\", \"#B0BEC5\", \"#B0BEC5\", \"#B0BEC5\", \"#B0BEC5\", \"#B0BEC5\", \"#B0BEC5\", \"#B0BEC5\", \"#B0BEC5\", \"#B0BEC5\", \"#B0BEC5\", \"#B0BEC5\", \"#B0BEC5\", \"#B0BEC5\", \"#B0BEC5\", \"#B0BEC5\", \"#B0BEC5\", \"#B0BEC5\", \"#B0BEC5\", \"#B0BEC5\", \"#B0BEC5\", \"#B0BEC5\", \"#B0BEC5\", \"#B0BEC5\", \"#B0BEC5\", \"#B0BEC5\", \"#B0BEC5\", \"#B0BEC5\", \"#B0BEC5\", \"#B0BEC5\", \"#B0BEC5\", \"#B0BEC5\", \"#B0BEC5\", \"#B0BEC5\", \"#B0BEC5\", \"#B0BEC5\", \"#B0BEC5\", \"#B0BEC5\", \"#B0BEC5\", \"red\", \"#B0BEC5\", \"#B0BEC5\", \"#B0BEC5\"]]}], \"label\": \"Topic 75\", \"method\": \"update\"}, {\"args\": [{\"marker.color\": [[\"#B0BEC5\", \"#B0BEC5\", \"#B0BEC5\", \"#B0BEC5\", \"#B0BEC5\", \"#B0BEC5\", \"#B0BEC5\", \"#B0BEC5\", \"#B0BEC5\", \"#B0BEC5\", \"#B0BEC5\", \"#B0BEC5\", \"#B0BEC5\", \"#B0BEC5\", \"#B0BEC5\", \"#B0BEC5\", \"#B0BEC5\", \"#B0BEC5\", \"#B0BEC5\", \"#B0BEC5\", \"#B0BEC5\", \"#B0BEC5\", \"#B0BEC5\", \"#B0BEC5\", \"#B0BEC5\", \"#B0BEC5\", \"#B0BEC5\", \"#B0BEC5\", \"#B0BEC5\", \"#B0BEC5\", \"#B0BEC5\", \"#B0BEC5\", \"#B0BEC5\", \"#B0BEC5\", \"#B0BEC5\", \"#B0BEC5\", \"#B0BEC5\", \"#B0BEC5\", \"#B0BEC5\", \"#B0BEC5\", \"#B0BEC5\", \"#B0BEC5\", \"#B0BEC5\", \"#B0BEC5\", \"#B0BEC5\", \"#B0BEC5\", \"#B0BEC5\", \"#B0BEC5\", \"#B0BEC5\", \"#B0BEC5\", \"#B0BEC5\", \"#B0BEC5\", \"#B0BEC5\", \"#B0BEC5\", \"#B0BEC5\", \"#B0BEC5\", \"#B0BEC5\", \"#B0BEC5\", \"#B0BEC5\", \"#B0BEC5\", \"#B0BEC5\", \"#B0BEC5\", \"#B0BEC5\", \"#B0BEC5\", \"#B0BEC5\", \"#B0BEC5\", \"#B0BEC5\", \"#B0BEC5\", \"#B0BEC5\", \"#B0BEC5\", \"#B0BEC5\", \"#B0BEC5\", \"#B0BEC5\", \"#B0BEC5\", \"#B0BEC5\", \"#B0BEC5\", \"red\", \"#B0BEC5\", \"#B0BEC5\"]]}], \"label\": \"Topic 76\", \"method\": \"update\"}, {\"args\": [{\"marker.color\": [[\"#B0BEC5\", \"#B0BEC5\", \"#B0BEC5\", \"#B0BEC5\", \"#B0BEC5\", \"#B0BEC5\", \"#B0BEC5\", \"#B0BEC5\", \"#B0BEC5\", \"#B0BEC5\", \"#B0BEC5\", \"#B0BEC5\", \"#B0BEC5\", \"#B0BEC5\", \"#B0BEC5\", \"#B0BEC5\", \"#B0BEC5\", \"#B0BEC5\", \"#B0BEC5\", \"#B0BEC5\", \"#B0BEC5\", \"#B0BEC5\", \"#B0BEC5\", \"#B0BEC5\", \"#B0BEC5\", \"#B0BEC5\", \"#B0BEC5\", \"#B0BEC5\", \"#B0BEC5\", \"#B0BEC5\", \"#B0BEC5\", \"#B0BEC5\", \"#B0BEC5\", \"#B0BEC5\", \"#B0BEC5\", \"#B0BEC5\", \"#B0BEC5\", \"#B0BEC5\", \"#B0BEC5\", \"#B0BEC5\", \"#B0BEC5\", \"#B0BEC5\", \"#B0BEC5\", \"#B0BEC5\", \"#B0BEC5\", \"#B0BEC5\", \"#B0BEC5\", \"#B0BEC5\", \"#B0BEC5\", \"#B0BEC5\", \"#B0BEC5\", \"#B0BEC5\", \"#B0BEC5\", \"#B0BEC5\", \"#B0BEC5\", \"#B0BEC5\", \"#B0BEC5\", \"#B0BEC5\", \"#B0BEC5\", \"#B0BEC5\", \"#B0BEC5\", \"#B0BEC5\", \"#B0BEC5\", \"#B0BEC5\", \"#B0BEC5\", \"#B0BEC5\", \"#B0BEC5\", \"#B0BEC5\", \"#B0BEC5\", \"#B0BEC5\", \"#B0BEC5\", \"#B0BEC5\", \"#B0BEC5\", \"#B0BEC5\", \"#B0BEC5\", \"#B0BEC5\", \"#B0BEC5\", \"red\", \"#B0BEC5\"]]}], \"label\": \"Topic 77\", \"method\": \"update\"}, {\"args\": [{\"marker.color\": [[\"#B0BEC5\", \"#B0BEC5\", \"#B0BEC5\", \"#B0BEC5\", \"#B0BEC5\", \"#B0BEC5\", \"#B0BEC5\", \"#B0BEC5\", \"#B0BEC5\", \"#B0BEC5\", \"#B0BEC5\", \"#B0BEC5\", \"#B0BEC5\", \"#B0BEC5\", \"#B0BEC5\", \"#B0BEC5\", \"#B0BEC5\", \"#B0BEC5\", \"#B0BEC5\", \"#B0BEC5\", \"#B0BEC5\", \"#B0BEC5\", \"#B0BEC5\", \"#B0BEC5\", \"#B0BEC5\", \"#B0BEC5\", \"#B0BEC5\", \"#B0BEC5\", \"#B0BEC5\", \"#B0BEC5\", \"#B0BEC5\", \"#B0BEC5\", \"#B0BEC5\", \"#B0BEC5\", \"#B0BEC5\", \"#B0BEC5\", \"#B0BEC5\", \"#B0BEC5\", \"#B0BEC5\", \"#B0BEC5\", \"#B0BEC5\", \"#B0BEC5\", \"#B0BEC5\", \"#B0BEC5\", \"#B0BEC5\", \"#B0BEC5\", \"#B0BEC5\", \"#B0BEC5\", \"#B0BEC5\", \"#B0BEC5\", \"#B0BEC5\", \"#B0BEC5\", \"#B0BEC5\", \"#B0BEC5\", \"#B0BEC5\", \"#B0BEC5\", \"#B0BEC5\", \"#B0BEC5\", \"#B0BEC5\", \"#B0BEC5\", \"#B0BEC5\", \"#B0BEC5\", \"#B0BEC5\", \"#B0BEC5\", \"#B0BEC5\", \"#B0BEC5\", \"#B0BEC5\", \"#B0BEC5\", \"#B0BEC5\", \"#B0BEC5\", \"#B0BEC5\", \"#B0BEC5\", \"#B0BEC5\", \"#B0BEC5\", \"#B0BEC5\", \"#B0BEC5\", \"#B0BEC5\", \"#B0BEC5\", \"red\"]]}], \"label\": \"Topic 78\", \"method\": \"update\"}]}], \"template\": {\"data\": {\"bar\": [{\"error_x\": {\"color\": \"rgb(36,36,36)\"}, \"error_y\": {\"color\": \"rgb(36,36,36)\"}, \"marker\": {\"line\": {\"color\": \"white\", \"width\": 0.5}}, \"type\": \"bar\"}], \"barpolar\": [{\"marker\": {\"line\": {\"color\": \"white\", \"width\": 0.5}}, \"type\": \"barpolar\"}], \"carpet\": [{\"aaxis\": {\"endlinecolor\": \"rgb(36,36,36)\", \"gridcolor\": \"white\", \"linecolor\": \"white\", \"minorgridcolor\": \"white\", \"startlinecolor\": \"rgb(36,36,36)\"}, \"baxis\": {\"endlinecolor\": \"rgb(36,36,36)\", \"gridcolor\": \"white\", \"linecolor\": \"white\", \"minorgridcolor\": \"white\", \"startlinecolor\": \"rgb(36,36,36)\"}, \"type\": \"carpet\"}], \"choropleth\": [{\"colorbar\": {\"outlinewidth\": 1, \"tickcolor\": \"rgb(36,36,36)\", \"ticks\": \"outside\"}, \"type\": \"choropleth\"}], \"contour\": [{\"colorbar\": {\"outlinewidth\": 1, \"tickcolor\": \"rgb(36,36,36)\", \"ticks\": \"outside\"}, \"colorscale\": [[0.0, \"#440154\"], [0.1111111111111111, \"#482878\"], [0.2222222222222222, \"#3e4989\"], [0.3333333333333333, \"#31688e\"], [0.4444444444444444, \"#26828e\"], [0.5555555555555556, \"#1f9e89\"], [0.6666666666666666, \"#35b779\"], [0.7777777777777778, \"#6ece58\"], [0.8888888888888888, \"#b5de2b\"], [1.0, \"#fde725\"]], \"type\": \"contour\"}], \"contourcarpet\": [{\"colorbar\": {\"outlinewidth\": 1, \"tickcolor\": \"rgb(36,36,36)\", \"ticks\": \"outside\"}, \"type\": \"contourcarpet\"}], \"heatmap\": [{\"colorbar\": {\"outlinewidth\": 1, \"tickcolor\": \"rgb(36,36,36)\", \"ticks\": \"outside\"}, \"colorscale\": [[0.0, \"#440154\"], [0.1111111111111111, \"#482878\"], [0.2222222222222222, \"#3e4989\"], [0.3333333333333333, \"#31688e\"], [0.4444444444444444, \"#26828e\"], [0.5555555555555556, \"#1f9e89\"], [0.6666666666666666, \"#35b779\"], [0.7777777777777778, \"#6ece58\"], [0.8888888888888888, \"#b5de2b\"], [1.0, \"#fde725\"]], \"type\": \"heatmap\"}], \"heatmapgl\": [{\"colorbar\": {\"outlinewidth\": 1, \"tickcolor\": \"rgb(36,36,36)\", \"ticks\": \"outside\"}, \"colorscale\": [[0.0, \"#440154\"], [0.1111111111111111, \"#482878\"], [0.2222222222222222, \"#3e4989\"], [0.3333333333333333, \"#31688e\"], [0.4444444444444444, \"#26828e\"], [0.5555555555555556, \"#1f9e89\"], [0.6666666666666666, \"#35b779\"], [0.7777777777777778, \"#6ece58\"], [0.8888888888888888, \"#b5de2b\"], [1.0, \"#fde725\"]], \"type\": \"heatmapgl\"}], \"histogram\": [{\"marker\": {\"line\": {\"color\": \"white\", \"width\": 0.6}}, \"type\": \"histogram\"}], \"histogram2d\": [{\"colorbar\": {\"outlinewidth\": 1, \"tickcolor\": \"rgb(36,36,36)\", \"ticks\": \"outside\"}, \"colorscale\": [[0.0, \"#440154\"], [0.1111111111111111, \"#482878\"], [0.2222222222222222, \"#3e4989\"], [0.3333333333333333, \"#31688e\"], [0.4444444444444444, \"#26828e\"], [0.5555555555555556, \"#1f9e89\"], [0.6666666666666666, \"#35b779\"], [0.7777777777777778, \"#6ece58\"], [0.8888888888888888, \"#b5de2b\"], [1.0, \"#fde725\"]], \"type\": \"histogram2d\"}], \"histogram2dcontour\": [{\"colorbar\": {\"outlinewidth\": 1, \"tickcolor\": \"rgb(36,36,36)\", \"ticks\": \"outside\"}, \"colorscale\": [[0.0, \"#440154\"], [0.1111111111111111, \"#482878\"], [0.2222222222222222, \"#3e4989\"], [0.3333333333333333, \"#31688e\"], [0.4444444444444444, \"#26828e\"], [0.5555555555555556, \"#1f9e89\"], [0.6666666666666666, \"#35b779\"], [0.7777777777777778, \"#6ece58\"], [0.8888888888888888, \"#b5de2b\"], [1.0, \"#fde725\"]], \"type\": \"histogram2dcontour\"}], \"mesh3d\": [{\"colorbar\": {\"outlinewidth\": 1, \"tickcolor\": \"rgb(36,36,36)\", \"ticks\": \"outside\"}, \"type\": \"mesh3d\"}], \"parcoords\": [{\"line\": {\"colorbar\": {\"outlinewidth\": 1, \"tickcolor\": \"rgb(36,36,36)\", \"ticks\": \"outside\"}}, \"type\": \"parcoords\"}], \"pie\": [{\"automargin\": true, \"type\": \"pie\"}], \"scatter\": [{\"marker\": {\"colorbar\": {\"outlinewidth\": 1, \"tickcolor\": \"rgb(36,36,36)\", \"ticks\": \"outside\"}}, \"type\": \"scatter\"}], \"scatter3d\": [{\"line\": {\"colorbar\": {\"outlinewidth\": 1, \"tickcolor\": \"rgb(36,36,36)\", \"ticks\": \"outside\"}}, \"marker\": {\"colorbar\": {\"outlinewidth\": 1, \"tickcolor\": \"rgb(36,36,36)\", \"ticks\": \"outside\"}}, \"type\": \"scatter3d\"}], \"scattercarpet\": [{\"marker\": {\"colorbar\": {\"outlinewidth\": 1, \"tickcolor\": \"rgb(36,36,36)\", \"ticks\": \"outside\"}}, \"type\": \"scattercarpet\"}], \"scattergeo\": [{\"marker\": {\"colorbar\": {\"outlinewidth\": 1, \"tickcolor\": \"rgb(36,36,36)\", \"ticks\": \"outside\"}}, \"type\": \"scattergeo\"}], \"scattergl\": [{\"marker\": {\"colorbar\": {\"outlinewidth\": 1, \"tickcolor\": \"rgb(36,36,36)\", \"ticks\": \"outside\"}}, \"type\": \"scattergl\"}], \"scattermapbox\": [{\"marker\": {\"colorbar\": {\"outlinewidth\": 1, \"tickcolor\": \"rgb(36,36,36)\", \"ticks\": \"outside\"}}, \"type\": \"scattermapbox\"}], \"scatterpolar\": [{\"marker\": {\"colorbar\": {\"outlinewidth\": 1, \"tickcolor\": \"rgb(36,36,36)\", \"ticks\": \"outside\"}}, \"type\": \"scatterpolar\"}], \"scatterpolargl\": [{\"marker\": {\"colorbar\": {\"outlinewidth\": 1, \"tickcolor\": \"rgb(36,36,36)\", \"ticks\": \"outside\"}}, \"type\": \"scatterpolargl\"}], \"scatterternary\": [{\"marker\": {\"colorbar\": {\"outlinewidth\": 1, \"tickcolor\": \"rgb(36,36,36)\", \"ticks\": \"outside\"}}, \"type\": \"scatterternary\"}], \"surface\": [{\"colorbar\": {\"outlinewidth\": 1, \"tickcolor\": \"rgb(36,36,36)\", \"ticks\": \"outside\"}, \"colorscale\": [[0.0, \"#440154\"], [0.1111111111111111, \"#482878\"], [0.2222222222222222, \"#3e4989\"], [0.3333333333333333, \"#31688e\"], [0.4444444444444444, \"#26828e\"], [0.5555555555555556, \"#1f9e89\"], [0.6666666666666666, \"#35b779\"], [0.7777777777777778, \"#6ece58\"], [0.8888888888888888, \"#b5de2b\"], [1.0, \"#fde725\"]], \"type\": \"surface\"}], \"table\": [{\"cells\": {\"fill\": {\"color\": \"rgb(237,237,237)\"}, \"line\": {\"color\": \"white\"}}, \"header\": {\"fill\": {\"color\": \"rgb(217,217,217)\"}, \"line\": {\"color\": \"white\"}}, \"type\": \"table\"}]}, \"layout\": {\"annotationdefaults\": {\"arrowhead\": 0, \"arrowwidth\": 1}, \"autotypenumbers\": \"strict\", \"coloraxis\": {\"colorbar\": {\"outlinewidth\": 1, \"tickcolor\": \"rgb(36,36,36)\", \"ticks\": \"outside\"}}, \"colorscale\": {\"diverging\": [[0.0, \"rgb(103,0,31)\"], [0.1, \"rgb(178,24,43)\"], [0.2, \"rgb(214,96,77)\"], [0.3, \"rgb(244,165,130)\"], [0.4, \"rgb(253,219,199)\"], [0.5, \"rgb(247,247,247)\"], [0.6, \"rgb(209,229,240)\"], [0.7, \"rgb(146,197,222)\"], [0.8, \"rgb(67,147,195)\"], [0.9, \"rgb(33,102,172)\"], [1.0, \"rgb(5,48,97)\"]], \"sequential\": [[0.0, \"#440154\"], [0.1111111111111111, \"#482878\"], [0.2222222222222222, \"#3e4989\"], [0.3333333333333333, \"#31688e\"], [0.4444444444444444, \"#26828e\"], [0.5555555555555556, \"#1f9e89\"], [0.6666666666666666, \"#35b779\"], [0.7777777777777778, \"#6ece58\"], [0.8888888888888888, \"#b5de2b\"], [1.0, \"#fde725\"]], \"sequentialminus\": [[0.0, \"#440154\"], [0.1111111111111111, \"#482878\"], [0.2222222222222222, \"#3e4989\"], [0.3333333333333333, \"#31688e\"], [0.4444444444444444, \"#26828e\"], [0.5555555555555556, \"#1f9e89\"], [0.6666666666666666, \"#35b779\"], [0.7777777777777778, \"#6ece58\"], [0.8888888888888888, \"#b5de2b\"], [1.0, \"#fde725\"]]}, \"colorway\": [\"#1F77B4\", \"#FF7F0E\", \"#2CA02C\", \"#D62728\", \"#9467BD\", \"#8C564B\", \"#E377C2\", \"#7F7F7F\", \"#BCBD22\", \"#17BECF\"], \"font\": {\"color\": \"rgb(36,36,36)\"}, \"geo\": {\"bgcolor\": \"white\", \"lakecolor\": \"white\", \"landcolor\": \"white\", \"showlakes\": true, \"showland\": true, \"subunitcolor\": \"white\"}, \"hoverlabel\": {\"align\": \"left\"}, \"hovermode\": \"closest\", \"mapbox\": {\"style\": \"light\"}, \"paper_bgcolor\": \"white\", \"plot_bgcolor\": \"white\", \"polar\": {\"angularaxis\": {\"gridcolor\": \"rgb(232,232,232)\", \"linecolor\": \"rgb(36,36,36)\", \"showgrid\": false, \"showline\": true, \"ticks\": \"outside\"}, \"bgcolor\": \"white\", \"radialaxis\": {\"gridcolor\": \"rgb(232,232,232)\", \"linecolor\": \"rgb(36,36,36)\", \"showgrid\": false, \"showline\": true, \"ticks\": \"outside\"}}, \"scene\": {\"xaxis\": {\"backgroundcolor\": \"white\", \"gridcolor\": \"rgb(232,232,232)\", \"gridwidth\": 2, \"linecolor\": \"rgb(36,36,36)\", \"showbackground\": true, \"showgrid\": false, \"showline\": true, \"ticks\": \"outside\", \"zeroline\": false, \"zerolinecolor\": \"rgb(36,36,36)\"}, \"yaxis\": {\"backgroundcolor\": \"white\", \"gridcolor\": \"rgb(232,232,232)\", \"gridwidth\": 2, \"linecolor\": \"rgb(36,36,36)\", \"showbackground\": true, \"showgrid\": false, \"showline\": true, \"ticks\": \"outside\", \"zeroline\": false, \"zerolinecolor\": \"rgb(36,36,36)\"}, \"zaxis\": {\"backgroundcolor\": \"white\", \"gridcolor\": \"rgb(232,232,232)\", \"gridwidth\": 2, \"linecolor\": \"rgb(36,36,36)\", \"showbackground\": true, \"showgrid\": false, \"showline\": true, \"ticks\": \"outside\", \"zeroline\": false, \"zerolinecolor\": \"rgb(36,36,36)\"}}, \"shapedefaults\": {\"fillcolor\": \"black\", \"line\": {\"width\": 0}, \"opacity\": 0.3}, \"ternary\": {\"aaxis\": {\"gridcolor\": \"rgb(232,232,232)\", \"linecolor\": \"rgb(36,36,36)\", \"showgrid\": false, \"showline\": true, \"ticks\": \"outside\"}, \"baxis\": {\"gridcolor\": \"rgb(232,232,232)\", \"linecolor\": \"rgb(36,36,36)\", \"showgrid\": false, \"showline\": true, \"ticks\": \"outside\"}, \"bgcolor\": \"white\", \"caxis\": {\"gridcolor\": \"rgb(232,232,232)\", \"linecolor\": \"rgb(36,36,36)\", \"showgrid\": false, \"showline\": true, \"ticks\": \"outside\"}}, \"title\": {\"x\": 0.05}, \"xaxis\": {\"automargin\": true, \"gridcolor\": \"rgb(232,232,232)\", \"linecolor\": \"rgb(36,36,36)\", \"showgrid\": false, \"showline\": true, \"ticks\": \"outside\", \"title\": {\"standoff\": 15}, \"zeroline\": false, \"zerolinecolor\": \"rgb(36,36,36)\"}, \"yaxis\": {\"automargin\": true, \"gridcolor\": \"rgb(232,232,232)\", \"linecolor\": \"rgb(36,36,36)\", \"showgrid\": false, \"showline\": true, \"ticks\": \"outside\", \"title\": {\"standoff\": 15}, \"zeroline\": false, \"zerolinecolor\": \"rgb(36,36,36)\"}}}, \"title\": {\"font\": {\"color\": \"Black\", \"size\": 22}, \"text\": \"<b>Intertopic Distance Map\", \"x\": 0.5, \"xanchor\": \"center\", \"y\": 0.95, \"yanchor\": \"top\"}, \"width\": 650, \"xaxis\": {\"anchor\": \"y\", \"domain\": [0.0, 1.0], \"range\": [-9.045461511611938, 25.662228679656984], \"title\": {\"text\": \"\"}, \"visible\": false}, \"yaxis\": {\"anchor\": \"x\", \"domain\": [0.0, 1.0], \"range\": [-7.5835237264633175, 22.25707378387451], \"title\": {\"text\": \"\"}, \"visible\": false}},                        {\"responsive\": true}                    ).then(function(){\n",
              "                            \n",
              "var gd = document.getElementById('fce4f2cd-a8b1-4a02-9e13-ca258e0fb655');\n",
              "var x = new MutationObserver(function (mutations, observer) {{\n",
              "        var display = window.getComputedStyle(gd).display;\n",
              "        if (!display || display === 'none') {{\n",
              "            console.log([gd, 'removed!']);\n",
              "            Plotly.purge(gd);\n",
              "            observer.disconnect();\n",
              "        }}\n",
              "}});\n",
              "\n",
              "// Listen for the removal of the full notebook cells\n",
              "var notebookContainer = gd.closest('#notebook-container');\n",
              "if (notebookContainer) {{\n",
              "    x.observe(notebookContainer, {childList: true});\n",
              "}}\n",
              "\n",
              "// Listen for the clearing of the current output cell\n",
              "var outputEl = gd.closest('.output');\n",
              "if (outputEl) {{\n",
              "    x.observe(outputEl, {childList: true});\n",
              "}}\n",
              "\n",
              "                        })                };                            </script>        </div>\n",
              "</body>\n",
              "</html>"
            ]
          },
          "metadata": {
            "tags": []
          }
        }
      ]
    },
    {
      "cell_type": "code",
      "metadata": {
        "id": "LygkT_eXuNLT"
      },
      "source": [
        "new_topic = \"Buddha\""
      ],
      "execution_count": null,
      "outputs": []
    },
    {
      "cell_type": "code",
      "metadata": {
        "id": "hDKAGj9tuO4O",
        "colab": {
          "base_uri": "https://localhost:8080/"
        },
        "outputId": "cd6be61d-ec12-4be7-9888-9ae45fff6571"
      },
      "source": [
        "# Find_Topic function returns the five most similar topics to the input text in the decreasing order\n",
        "topic_model.find_topics(new_topic)"
      ],
      "execution_count": null,
      "outputs": [
        {
          "output_type": "execute_result",
          "data": {
            "text/plain": [
              "([33, 29, 2, 11, 41],\n",
              " [0.584072385477862,\n",
              "  0.5226176759084455,\n",
              "  0.4970888199122748,\n",
              "  0.4221634323497815,\n",
              "  0.40561592312562517])"
            ]
          },
          "metadata": {
            "tags": []
          },
          "execution_count": 58
        }
      ]
    },
    {
      "cell_type": "code",
      "metadata": {
        "id": "NVGaGCJ5uRIc",
        "colab": {
          "base_uri": "https://localhost:8080/"
        },
        "outputId": "f5528e16-e3fd-4805-f9b3-14a680aa7bcc"
      },
      "source": [
        "topic_model.find_topics(new_topic)[1][0]"
      ],
      "execution_count": null,
      "outputs": [
        {
          "output_type": "execute_result",
          "data": {
            "text/plain": [
              "0.584072385477862"
            ]
          },
          "metadata": {
            "tags": []
          },
          "execution_count": 59
        }
      ]
    },
    {
      "cell_type": "code",
      "metadata": {
        "id": "7UmOaQ3uuTDB",
        "colab": {
          "base_uri": "https://localhost:8080/"
        },
        "outputId": "f37d4d92-24e6-490e-c3b8-b21dc065668a"
      },
      "source": [
        "#Get_Topic returns the contents of each topic \n",
        "topic_model.get_topic(2)"
      ],
      "execution_count": null,
      "outputs": [
        {
          "output_type": "execute_result",
          "data": {
            "text/plain": [
              "[('theory', 0.012754515376263709),\n",
              " ('freud', 0.010104844070118663),\n",
              " ('philosophy', 0.009643796563063713),\n",
              " ('psychology', 0.009035949904585675),\n",
              " ('god', 0.00706204068012038),\n",
              " ('idea', 0.006888886711036174),\n",
              " ('philosopher', 0.006735035493149166),\n",
              " ('believe', 0.006730779210320902),\n",
              " ('nature', 0.006407348579323045),\n",
              " ('religion', 0.0062281969954573625)]"
            ]
          },
          "metadata": {
            "tags": []
          },
          "execution_count": 60
        }
      ]
    },
    {
      "cell_type": "code",
      "metadata": {
        "id": "MqTumKO33MEi"
      },
      "source": [
        "# Analysis of the distribution of top similarity measure for each question in the training set (To find out the appropriate threshold)\n",
        "similarities = []\n",
        "for question in df_clean[\"question\"].values:\n",
        "    similarities.append(topic_model.find_topics(question)[1][0])"
      ],
      "execution_count": null,
      "outputs": []
    },
    {
      "cell_type": "code",
      "metadata": {
        "colab": {
          "base_uri": "https://localhost:8080/",
          "height": 516
        },
        "id": "uSqm44v63OFW",
        "outputId": "491a40c5-12e7-45dd-beb6-eac9b2c01c80"
      },
      "source": [
        "plt.figure(figsize=(15,8))\n",
        "distribution = pd.DataFrame(similarities,columns=['similarity'])\n",
        "distribution.similarity.plot.density(color=\"green\")\n",
        "plt.title(\"Distriution of top similarity measures of each question\")"
      ],
      "execution_count": null,
      "outputs": [
        {
          "output_type": "execute_result",
          "data": {
            "text/plain": [
              "Text(0.5, 1.0, 'Distriution of top similarity measures of each question')"
            ]
          },
          "metadata": {
            "tags": []
          },
          "execution_count": 68
        },
        {
          "output_type": "display_data",
          "data": {
            "image/png": "[encoded data removed]",
            "text/plain": [
              "<Figure size 1080x576 with 1 Axes>"
            ]
          },
          "metadata": {
            "tags": [],
            "needs_background": "light"
          }
        }
      ]
    },
    {
      "cell_type": "code",
      "metadata": {
        "colab": {
          "base_uri": "https://localhost:8080/",
          "height": 500
        },
        "id": "oN3GZAGE3P8I",
        "outputId": "c7d47bc3-c998-426e-c695-1d7da42e9a7f"
      },
      "source": [
        "plt.figure(figsize=(15,8))\n",
        "distribution.similarity.plot()"
      ],
      "execution_count": null,
      "outputs": [
        {
          "output_type": "execute_result",
          "data": {
            "text/plain": [
              "<matplotlib.axes._subplots.AxesSubplot at 0x7fd8b02eacd0>"
            ]
          },
          "metadata": {
            "tags": []
          },
          "execution_count": 69
        },
        {
          "output_type": "display_data",
          "data": {
            "image/png": "[encoded data removed]",
            "text/plain": [
              "<Figure size 1080x576 with 1 Axes>"
            ]
          },
          "metadata": {
            "tags": [],
            "needs_background": "light"
          }
        }
      ]
    },
    {
      "cell_type": "code",
      "metadata": {
        "colab": {
          "base_uri": "https://localhost:8080/"
        },
        "id": "2B-PN_Xy3R2h",
        "outputId": "43c16f7b-61da-469c-ffc6-e0aebf952481"
      },
      "source": [
        "# Maximim similarity value for a question\n",
        "print(max(similarities))\n",
        "# Least similarity value for a question\n",
        "print(min(similarities))\n",
        "# Mean similarity value for a question\n",
        "print(sum(similarities)/len(similarities))"
      ],
      "execution_count": null,
      "outputs": [
        {
          "output_type": "stream",
          "text": [
            "0.856197931931736\n",
            "0.09219891998605081\n",
            "0.4170226690047247\n"
          ],
          "name": "stdout"
        }
      ]
    },
    {
      "cell_type": "markdown",
      "metadata": {
        "id": "smkKV-HAOzk9"
      },
      "source": [
        "We vary the threshold in the follwing cell to check how many rows are being dropped for that particular threshold"
      ]
    },
    {
      "cell_type": "code",
      "metadata": {
        "colab": {
          "base_uri": "https://localhost:8080/"
        },
        "id": "VmCYTskh3UEn",
        "outputId": "0062b724-dd0d-448a-f736-93c6e77f7c5e"
      },
      "source": [
        "c = 0\n",
        "for i in range(len(train)):\n",
        "    if similarities[i] >= 0.34:\n",
        "        c += 1\n",
        "    else:\n",
        "        if i<20:\n",
        "            print(i)\n",
        "print(\"\\nCount dropped: \",len(train) - c)"
      ],
      "execution_count": null,
      "outputs": [
        {
          "output_type": "stream",
          "text": [
            "2\n",
            "4\n",
            "5\n",
            "9\n",
            "12\n",
            "14\n",
            "15\n",
            "16\n",
            "17\n",
            "\n",
            "Count dropped:  3335\n"
          ],
          "name": "stdout"
        }
      ]
    },
    {
      "cell_type": "code",
      "metadata": {
        "colab": {
          "base_uri": "https://localhost:8080/",
          "height": 88
        },
        "id": "MvWwzAYl3VoI",
        "outputId": "b516766c-9237-4b8e-e2da-863c8f2d119e"
      },
      "source": [
        "# Example of a dropped question\n",
        "df_clean.iloc[16,1]"
      ],
      "execution_count": null,
      "outputs": [
        {
          "output_type": "execute_result",
          "data": {
            "application/vnd.google.colaboratory.intrinsic+json": {
              "type": "string"
            },
            "text/plain": [
              "\"Lester Willis Young ( August 27 , 1909 - March 15 , 1959 ) , nickname ` ` Pres '' ` ` Prez '' , american jazz tenor saxophonist occasional clarinetist . come prominence member Count Basie orchestra , young influential player instrument . in contrast hard - drive peer , Young play relaxed , cool tone sophisticated harmony , critic call ` ` free - float style , wheel diving like gull , banking low , funky riff please dancer listener alike '' . know hip , introverted style , invent popularize hipster jargon come associate music .\""
            ]
          },
          "metadata": {
            "tags": []
          },
          "execution_count": 83
        }
      ]
    },
    {
      "cell_type": "code",
      "metadata": {
        "colab": {
          "base_uri": "https://localhost:8080/",
          "height": 35
        },
        "id": "LqpAqptW-kQ3",
        "outputId": "9d276285-414c-46c3-a7ab-de5e98d72c4b"
      },
      "source": [
        "df_clean.iloc[16, 4]"
      ],
      "execution_count": null,
      "outputs": [
        {
          "output_type": "execute_result",
          "data": {
            "application/vnd.google.colaboratory.intrinsic+json": {
              "type": "string"
            },
            "text/plain": [
              "'when join ?'"
            ]
          },
          "metadata": {
            "tags": []
          },
          "execution_count": 84
        }
      ]
    },
    {
      "cell_type": "code",
      "metadata": {
        "id": "ooYMi92uuc-9",
        "colab": {
          "base_uri": "https://localhost:8080/",
          "height": 834
        },
        "outputId": "af9800ef-f325-45a7-c420-b1d77347d5df"
      },
      "source": [
        "# Heatmap on the correlation between each of the clustered topics\n",
        "plt.figure(figsize=(200,200))\n",
        "topic_model.visualize_heatmap()"
      ],
      "execution_count": null,
      "outputs": [
        {
          "output_type": "display_data",
          "data": {
            "text/html": [
              "<html>\n",
              "<head><meta charset=\"utf-8\" /></head>\n",
              "<body>\n",
              "    <div>            <script src=\"https://cdnjs.cloudflare.com/ajax/libs/mathjax/2.7.5/MathJax.js?config=TeX-AMS-MML_SVG\"></script><script type=\"text/javascript\">if (window.MathJax) {MathJax.Hub.Config({SVG: {font: \"STIX-Web\"}});}</script>                <script type=\"text/javascript\">window.PlotlyConfig = {MathJaxConfig: 'local'};</script>\n",
              "        <script src=\"https://cdn.plot.ly/plotly-latest.min.js\"></script>                <div id=\"c5a15194-fc40-4ee4-a0eb-e71f3aea8822\" class=\"plotly-graph-div\" style=\"height:800px; width:800px;\"></div>            <script type=\"text/javascript\">                                    window.PLOTLYENV=window.PLOTLYENV || {};                                    if (document.getElementById(\"c5a15194-fc40-4ee4-a0eb-e71f3aea8822\")) {                    Plotly.newPlot(                        \"c5a15194-fc40-4ee4-a0eb-e71f3aea8822\",                        [{\"coloraxis\": \"coloraxis\", \"hovertemplate\": \"x: %{x}<br>y: %{y}<br>Similarity Score: %{z}<extra></extra>\", \"name\": \"0\", \"type\": \"heatmap\", \"x\": [\"-1_band_album_release\", \"0_television_comedy_show\", \"1_single_album_song\", \"2_theory_freud_philosophy\", \"3_school_family_father\", \"4_baseball_sox_bat\", \"5_football_nfl_touchdown\", \"6_wrestling_wwf_wwe\", \"7_comics_batman_character\", \"8_release_album_band\", \"9_republican_election_senate\", \"10_marry_divorce_marriage\", \"11_kapoor_indian_actress\", \"12_band_rock_guitar\", \"13_orchestra_composer_symph...\", \"14_nba_game_basketball\", \"15_tennis_tournament_wimble...\", \"16_cricket_australia_odi\", \"17_jazz_ellington_mingus\", \"18_painting_art_hoffmann\", \"19_music_father_musician\", \"20_russian_soviet_chechen\", \"21_band_butler_album\", \"22_marine_pilot_army\", \"23_cup_goal_cardiff\", \"24_maldini_milan_italy\", \"25_neruda_dali_spanish\", \"26_sound_song_music\", \"27_novel_book_capote\", \"28_japanese_japan_oricon\", \"29_muhammad_sharif_pakistan\", \"30_album_band_record\", \"31_nhl_hockey_sakic\", \"32_indigenous_maya_mexico\", \"33_hindu_sri_malayalam\", \"34_metal_band_punk\", \"35_hitler_rubinstein_steiner\", \"36_driver_car_prix\", \"37_death_winehouse_funeral\", \"38_black_civil_obama\", \"39_portuguese_spanish_exped...\", \"40_rouvas_rivera_sugababes\", \"41_chinese_china_zhang\", \"42_brennan_cia_intelligence\", \"43_album_rock_band\", \"44_band_concert_album\", \"45_tyson_fight_knockout\", \"46_mccartney_lennon_beatles\", \"47_tribe_native_plains\", \"48_labour_cameron_conservat...\", \"49_arrest_kunstler_probation\", \"50_iaaf_olympics_olympic\", \"51_king_peerage_elizabeth\", \"52_richmond_collingwood_pre...\", \"53_election_bjp_nkrumah\", \"54_cricket_test_wicket\", \"55_bacharach_joplin_music\", \"56_ronettes_keibler_nedra\", \"57_teach_university_harvard\", \"58_caesar_rome_claudius\", \"59_race_rider_marquez\", \"60_comicstrip_spiegelman_co...\", \"61_rothstein_investor_firm\", \"62_iorga_university_maiorescu\", \"63_nilsson_mangum_jesperson\", \"64_carson_hendrix_mother\", \"65_custer_army_confederate\", \"66_sean_billboard_album\", \"67_basketball_nba_ncaa\", \"68_song_lyric_dylan\", \"69_horse_secretariat_crown\", \"70_salonga_kardashian_kim\", \"71_merckx_race_cycling\", \"72_socialism_unitarian_social\", \"73_escobar_drug_cocaine\", \"74_knotts_jackass_stunt\", \"75_attorney_giuliani_firm\", \"76_alaska_forest_anchorage\", \"77_israel_israeli_lebanon\", \"78_evans_osborne_museum\"], \"xaxis\": \"x\", \"y\": [\"-1_band_album_release\", \"0_television_comedy_show\", \"1_single_album_song\", \"2_theory_freud_philosophy\", \"3_school_family_father\", \"4_baseball_sox_bat\", \"5_football_nfl_touchdown\", \"6_wrestling_wwf_wwe\", \"7_comics_batman_character\", \"8_release_album_band\", \"9_republican_election_senate\", \"10_marry_divorce_marriage\", \"11_kapoor_indian_actress\", \"12_band_rock_guitar\", \"13_orchestra_composer_symph...\", \"14_nba_game_basketball\", \"15_tennis_tournament_wimble...\", \"16_cricket_australia_odi\", \"17_jazz_ellington_mingus\", \"18_painting_art_hoffmann\", \"19_music_father_musician\", \"20_russian_soviet_chechen\", \"21_band_butler_album\", \"22_marine_pilot_army\", \"23_cup_goal_cardiff\", \"24_maldini_milan_italy\", \"25_neruda_dali_spanish\", \"26_sound_song_music\", \"27_novel_book_capote\", \"28_japanese_japan_oricon\", \"29_muhammad_sharif_pakistan\", \"30_album_band_record\", \"31_nhl_hockey_sakic\", \"32_indigenous_maya_mexico\", \"33_hindu_sri_malayalam\", \"34_metal_band_punk\", \"35_hitler_rubinstein_steiner\", \"36_driver_car_prix\", \"37_death_winehouse_funeral\", \"38_black_civil_obama\", \"39_portuguese_spanish_exped...\", \"40_rouvas_rivera_sugababes\", \"41_chinese_china_zhang\", \"42_brennan_cia_intelligence\", \"43_album_rock_band\", \"44_band_concert_album\", \"45_tyson_fight_knockout\", \"46_mccartney_lennon_beatles\", \"47_tribe_native_plains\", \"48_labour_cameron_conservat...\", \"49_arrest_kunstler_probation\", \"50_iaaf_olympics_olympic\", \"51_king_peerage_elizabeth\", \"52_richmond_collingwood_pre...\", \"53_election_bjp_nkrumah\", \"54_cricket_test_wicket\", \"55_bacharach_joplin_music\", \"56_ronettes_keibler_nedra\", \"57_teach_university_harvard\", \"58_caesar_rome_claudius\", \"59_race_rider_marquez\", \"60_comicstrip_spiegelman_co...\", \"61_rothstein_investor_firm\", \"62_iorga_university_maiorescu\", \"63_nilsson_mangum_jesperson\", \"64_carson_hendrix_mother\", \"65_custer_army_confederate\", \"66_sean_billboard_album\", \"67_basketball_nba_ncaa\", \"68_song_lyric_dylan\", \"69_horse_secretariat_crown\", \"70_salonga_kardashian_kim\", \"71_merckx_race_cycling\", \"72_socialism_unitarian_social\", \"73_escobar_drug_cocaine\", \"74_knotts_jackass_stunt\", \"75_attorney_giuliani_firm\", \"76_alaska_forest_anchorage\", \"77_israel_israeli_lebanon\", \"78_evans_osborne_museum\"], \"yaxis\": \"y\", \"z\": [[1.0, 0.5123616648533735, 0.8270767664598118, 0.27044564028893464, 0.3434353691382399, 0.3028246462736683, 0.3137151735620354, 0.3508280410737288, 0.3447482781507919, 0.9357270542099567, 0.2018277614943786, 0.23636518907196852, 0.2992674239686205, 0.8596599990806484, 0.5617322399519502, 0.3494161718918589, 0.3425713497293985, 0.24597782315209166, 0.7487061320346828, 0.3138390044265418, 0.7727770141865749, 0.14336826616559112, 0.8363427623276879, 0.3558639135222207, 0.30997502287536793, 0.2598617372339604, 0.3121967305257317, 0.7976360541498235, 0.4836597565511469, 0.48082188034394535, 0.23861812578940478, 0.9336516524853371, 0.3041035838795045, 0.2623143905234664, 0.24041275801863404, 0.7604924644618556, 0.22046360414175148, 0.27242854072453565, 0.30719645634616166, 0.3904016130916176, 0.2701464023631386, 0.3983971213778792, 0.17651015245525015, 0.23888727903448392, 0.886244034282291, 0.8559315219928904, 0.28063017113270444, 0.5427069899252455, 0.3181618545045337, 0.19911699298092217, 0.306282953271829, 0.33594254570584026, 0.24469182679149315, 0.26429597950619377, 0.2595342650726048, 0.2195776356719417, 0.6830442561565426, 0.6279890488540656, 0.2874097144695626, 0.18867515211667368, 0.3208895917301648, 0.3725303697005776, 0.2253764992171362, 0.2710248624456644, 0.6759660216288388, 0.28457021290606194, 0.3711689848842463, 0.6880338456913662, 0.3436963550293636, 0.7616805961437444, 0.34618198614611145, 0.30643691869666045, 0.3187452222685997, 0.2667065868195286, 0.3974824644825001, 0.4532951442246577, 0.31044358844170095, 0.24099455573262693, 0.16732771373654748, 0.32505005341927595], [0.5123616648533735, 0.9999999999999998, 0.47736923279705606, 0.3410903217088597, 0.38242642036188934, 0.2862751908675729, 0.43162396046031315, 0.3843445880504036, 0.6468241088981163, 0.5221815724320606, 0.37577024382472357, 0.30753764543829654, 0.4206495552470467, 0.41730134943596064, 0.39459542500935746, 0.4087156079193369, 0.3285490423142475, 0.2744872978953318, 0.4471578527671193, 0.3873115110994648, 0.5176846895187193, 0.19541908771493433, 0.476267716728236, 0.23391686839934894, 0.33587517218983226, 0.3334377156828149, 0.3473190343860961, 0.4907854060491017, 0.6098760859782102, 0.4422689963193539, 0.2622685919794694, 0.4428672494856044, 0.3453097049391105, 0.1758622312426822, 0.2174455014362164, 0.3694827059238903, 0.2535864179148112, 0.254544284621661, 0.3621502844620501, 0.33772388785317387, 0.27638593225759084, 0.3362178530688275, 0.20293701484388868, 0.40431249553373466, 0.536722225447605, 0.5064184703916274, 0.3459533502025474, 0.4041083077702533, 0.2617232317813607, 0.35294002168181493, 0.3771512748331503, 0.2758895230808607, 0.42688227534559997, 0.3556121609982409, 0.3533519072384856, 0.29002952180395103, 0.49874409775343886, 0.6067103962040388, 0.3892513230872669, 0.3608472427799329, 0.3288989100630394, 0.6414317300834135, 0.37653992330698416, 0.29941052230507315, 0.4935720641622705, 0.42787534594263477, 0.22374578285251445, 0.600350398807915, 0.3586052599318801, 0.5004841835768508, 0.3524104175789293, 0.47216314355079514, 0.3170282050974226, 0.34353421252935595, 0.2533299558255916, 0.5677835308465066, 0.3575266654574379, 0.21690526427278922, 0.22720692955727925, 0.48673515931547234], [0.8270767664598118, 0.47736923279705606, 0.9999999999999998, 0.3027314380731936, 0.3526618615614463, 0.33973069683940016, 0.3325868835768776, 0.38089226787871355, 0.3740556993348118, 0.790555567373396, 0.20290939377751316, 0.3147337528054343, 0.33950489893147623, 0.67117787983759, 0.44585816406327705, 0.40390455591196256, 0.48222962705358385, 0.297882094229468, 0.6168957966482043, 0.31663010521397666, 0.6670338250736374, 0.12494419559335762, 0.7041148596541862, 0.28834319625506116, 0.3871948910468612, 0.30220919051057976, 0.31640803612733137, 0.7029675445643256, 0.49858895425471905, 0.47986581564619873, 0.250954442668865, 0.8139413597567386, 0.36604784736596685, 0.2098247477219647, 0.25298226426548914, 0.6552976696217692, 0.24390268611850902, 0.39207408247141734, 0.2385821408813431, 0.3807994332244251, 0.30283216505038246, 0.4143876863407391, 0.19599096024841278, 0.2642430867919877, 0.8132707683688756, 0.7180013102311871, 0.3277030548129241, 0.5337827018335461, 0.283889899529689, 0.19088870541611452, 0.32723600151467724, 0.46700994300334076, 0.24167499052532726, 0.30753149032747046, 0.249381880794692, 0.3076266752222304, 0.5481260116575385, 0.6194440303585469, 0.31952202580125794, 0.22077365926307818, 0.41960009889224875, 0.3752385038767132, 0.25612673798363295, 0.3271527558792963, 0.6264036558439997, 0.3265920473384414, 0.3132386595893707, 0.708260976992372, 0.40440741194765933, 0.6981569796395347, 0.4079763091549207, 0.32347775667435136, 0.382996926027634, 0.24529433522681024, 0.37063165074563453, 0.46137925103279853, 0.3003762110782868, 0.2657896075890471, 0.14947144306222426, 0.3619135526003079], [0.27044564028893464, 0.3410903217088597, 0.3027314380731936, 1.0000000000000004, 0.3907752651928017, 0.14620860586761905, 0.21536362652798505, 0.22386567856944775, 0.4155930119620077, 0.23366994440237726, 0.27761638104972464, 0.28916220218494837, 0.29251183523518176, 0.23362249724524775, 0.2918247397934379, 0.17029606343735296, 0.2624052375087983, 0.22063871364496382, 0.3090595259314264, 0.47073785371386484, 0.3863780323013577, 0.34348386628692645, 0.2551479664557561, 0.22219942190716918, 0.23555766112879462, 0.23355041724054626, 0.43488670185848866, 0.3065224498881892, 0.5245559530879121, 0.27071185967782696, 0.3955730789407502, 0.2440456808034654, 0.1857111694754942, 0.3790352767706221, 0.4339037076853331, 0.30304299332015455, 0.4994479129213922, 0.16580870008985063, 0.300410967528426, 0.4015878936869659, 0.3353034876559356, 0.33052419967899194, 0.3365379799679311, 0.4633218125374172, 0.35847407303433865, 0.2692672967102283, 0.2504948344284085, 0.2455667260512041, 0.35515208134187337, 0.39549139300998093, 0.25391027543404676, 0.26277824822369805, 0.3523385774852804, 0.17831954085894763, 0.29703175180842967, 0.23557444268507935, 0.4160603193339583, 0.31588285010284645, 0.49200828200122193, 0.4348842726055221, 0.32000345945391995, 0.3899384795853549, 0.43693129677595777, 0.4340738180464925, 0.33456046235616155, 0.2779964797036446, 0.25395204219017037, 0.386203512776906, 0.14574419811498768, 0.29744418778808346, 0.27617592046866246, 0.31621399475697387, 0.2707080265340914, 0.6587355017845697, 0.29006786246083827, 0.36911890318639873, 0.325791881957778, 0.29793039357100237, 0.3238376698191717, 0.5300866794456389], [0.3434353691382399, 0.38242642036188934, 0.3526618615614463, 0.3907752651928017, 1.0000000000000004, 0.23400909869665243, 0.2900005498179338, 0.20500283575748363, 0.30698568188236686, 0.3458964286726729, 0.26083949849869775, 0.5491344361506096, 0.413870463095294, 0.22555941167005195, 0.22208497642786293, 0.2726651385651788, 0.21740512808606796, 0.24950501645553835, 0.2830044565687106, 0.3086831984255695, 0.4688090518455559, 0.16310698948061153, 0.311228205666116, 0.21875489207527826, 0.28606729062802316, 0.24130355446502355, 0.42641671518713664, 0.2779591534592356, 0.4210079179260531, 0.3187737885223523, 0.34358883640964366, 0.2734605005465048, 0.25955889347384875, 0.36915720761428306, 0.3333359047570062, 0.2231884633778646, 0.33137378756373437, 0.16443426771497516, 0.39830149363371714, 0.4090629001750064, 0.2776125097000457, 0.32926515789324995, 0.3060976683534846, 0.3071688030636252, 0.3340486588028754, 0.27983865790535056, 0.2002306401246367, 0.2741381888921339, 0.37865694193688154, 0.34887832030081695, 0.3563206464046488, 0.2205033588272704, 0.398837831206201, 0.32521910130382004, 0.33907769043609365, 0.24761445256713693, 0.2770568851944972, 0.4182008030992102, 0.5217676793057715, 0.3348183984759456, 0.2348561547895721, 0.2927018744237876, 0.40965004587376963, 0.39409751650304237, 0.3294129256984306, 0.3571922670682457, 0.24797069216622813, 0.37153025156015224, 0.24638990014764686, 0.3160403986109678, 0.2974094098579906, 0.4031603402484727, 0.2168161485679857, 0.4683851529727593, 0.24027379684940015, 0.3616786748169044, 0.3609498331944426, 0.2660211650864791, 0.2414440117780289, 0.48271965082182056], [0.3028246462736683, 0.2862751908675729, 0.33973069683940016, 0.14620860586761905, 0.23400909869665243, 1.0000000000000002, 0.5344182345612288, 0.35745128308615404, 0.3419060966609089, 0.33907249079739643, 0.1891925629521814, 0.08592209693887884, 0.1816899574587496, 0.21903484013749303, 0.22218678546527568, 0.5295927192609624, 0.4608834335949613, 0.5979004196772751, 0.28483803992200807, 0.1656205458981748, 0.25206089452772285, 0.03690750874369644, 0.33223143477238026, 0.3149681970845801, 0.5202949142498569, 0.34506920358445836, 0.20033919666429217, 0.26672468410602435, 0.3152089295289451, 0.28164267728384595, 0.18963865299395583, 0.2913907053430035, 0.5827841515559923, 0.1897943156278677, 0.10395841587393989, 0.20169322628101477, 0.2754711989798624, 0.34752026435838707, 0.2642768940788183, 0.22405497152468207, 0.3354014933643259, 0.39322322122134623, 0.20250537375055, 0.20513757677108194, 0.33324251236946156, 0.2849454271913585, 0.3980983473536174, 0.3285411450824842, 0.3129684554357779, 0.20964010333772576, 0.1481286879198691, 0.41996810697280157, 0.30004977326520266, 0.49263696305914517, 0.2126691495262752, 0.6240197366369755, 0.17145578652693655, 0.2678756798085181, 0.2131845591902365, 0.21131240564703724, 0.41312600821134815, 0.36813902762897105, 0.3061435935939961, 0.1807085382867849, 0.4008430946448889, 0.2579198676821153, 0.24186628436718027, 0.37645548477855556, 0.45503501231028, 0.24044335188589314, 0.4138115707232406, 0.16167169102308265, 0.388407596642674, 0.16703461274621823, 0.19434167976675587, 0.35009179079692265, 0.25876419079790464, 0.25132201150580075, 0.1017845723687529, 0.3618886684971926], [0.3137151735620354, 0.43162396046031315, 0.3325868835768776, 0.21536362652798505, 0.2900005498179338, 0.5344182345612288, 1.0000000000000004, 0.3997758878004877, 0.3074416323404916, 0.3069044913817639, 0.3786254505886577, 0.12972672539288813, 0.20995406780194334, 0.2851584259067077, 0.29261658933268475, 0.6614220311150232, 0.4430661762321844, 0.49837653183842157, 0.37141977732742104, 0.2203856826442949, 0.33577953468029387, 0.13639607475633697, 0.38606369658687845, 0.3832606515966302, 0.695591818753874, 0.40734419142677447, 0.2641516544410105, 0.3144826791844116, 0.3218459989192098, 0.2591488583958843, 0.2058138533346256, 0.27218332658568445, 0.6281967647883001, 0.1415292040479878, 0.11434233235560536, 0.2367969948104635, 0.3134176862632495, 0.37090924025889793, 0.22087517576173066, 0.2265554727897372, 0.31591408973419033, 0.3880105255961226, 0.1587424528729081, 0.2906365597028078, 0.33725462375122817, 0.2916514708728376, 0.43798092731095817, 0.2900245411278492, 0.28781029828335913, 0.3017382743306469, 0.1946607038154335, 0.436066168100069, 0.3107016892297302, 0.48735906807603424, 0.32967854511779865, 0.4878773230084924, 0.2775966014340971, 0.3343538752271509, 0.3082231760264787, 0.23010732489753144, 0.35833528151157035, 0.2970018611624262, 0.3654048673577831, 0.2561748885389325, 0.371674414192559, 0.4363227863052146, 0.3183551400370387, 0.41019495021003854, 0.6199320828920577, 0.31536593536508706, 0.3944245589580756, 0.19350816464551052, 0.3478242983396399, 0.2423548810930507, 0.1593222475790087, 0.4300676702795818, 0.32197738425817063, 0.28717098363270616, 0.20944874621572498, 0.3453459672734942], [0.3508280410737288, 0.3843445880504036, 0.38089226787871355, 0.22386567856944775, 0.20500283575748363, 0.35745128308615404, 0.3997758878004877, 1.0000000000000007, 0.5934615443090931, 0.36874870622369715, 0.25847144656125226, 0.24441465305169835, 0.2746416698974884, 0.2713507838699415, 0.1414153191811128, 0.4226942417478451, 0.5268859874013282, 0.4443360145871249, 0.31817295859560546, 0.2221343837851214, 0.26770159361875356, 0.1920136851863346, 0.33940859969311143, 0.30885986904098156, 0.2921145223828664, 0.32346772708736227, 0.29423082948705037, 0.248920407892529, 0.2687717572152706, 0.3746098722605477, 0.25136583769631615, 0.3205686201909508, 0.3783906700160569, 0.23024590660108535, 0.25162348414936553, 0.3296893395551585, 0.25709102846071963, 0.33149666164532915, 0.2192445737876874, 0.32941587319707644, 0.2658548128035732, 0.35534136356758983, 0.2880706480449219, 0.29942851662982534, 0.34339681237105985, 0.3416029956415901, 0.723058616247273, 0.18381377336858984, 0.3132158029088498, 0.17724818927264235, 0.36614206173571817, 0.5018961034183105, 0.23373366740639304, 0.4333847931532391, 0.2036582556317381, 0.4272248801711544, 0.22762101194865772, 0.3722472849968418, 0.27740294758797196, 0.28923155409867235, 0.4083645005926127, 0.4781034466270666, 0.3477596935978145, 0.24916220787154264, 0.35409000088480813, 0.30101066985343783, 0.3667025085849092, 0.4607077654819459, 0.4227039020310569, 0.3315096468978984, 0.49904382478490894, 0.30182405112543603, 0.4142139812293265, 0.20953699844859439, 0.35175248364968326, 0.4242483020654272, 0.17815210035012585, 0.10927553277851931, 0.11516780438678507, 0.3490597425377416], [0.3447482781507919, 0.6468241088981163, 0.3740556993348118, 0.4155930119620077, 0.30698568188236686, 0.3419060966609089, 0.3074416323404916, 0.5934615443090931, 1.0, 0.3463348842273827, 0.282623781894829, 0.25104930156235766, 0.32002885987771623, 0.28213930618933153, 0.1199076901785749, 0.41569592027550295, 0.3831548758641185, 0.4141519658227947, 0.26051316024196947, 0.45577472848616096, 0.31578116089287345, 0.2704337696355307, 0.3431267056858586, 0.28057989853827053, 0.3014206452226912, 0.24208034009701962, 0.3716676153469256, 0.2833763547277985, 0.570410563819961, 0.3682997626051363, 0.2778534391799717, 0.33392254179739367, 0.3709912217123199, 0.2478181964871783, 0.2490090803531134, 0.3202180757757723, 0.3301849409413432, 0.2327707488389266, 0.3474952084202293, 0.43388087196348857, 0.2921455756156088, 0.3404295751122216, 0.2985329240001069, 0.40783474648237705, 0.42379214804442866, 0.3398772194137164, 0.5368809303343737, 0.3526182462739993, 0.2974259479386445, 0.3282225426724178, 0.2855174666368638, 0.3315866655618904, 0.44633539960724716, 0.4457159692884175, 0.2836761086242608, 0.4034697785053869, 0.2767423488515831, 0.4780866030511542, 0.3087711603450316, 0.3692916833260621, 0.3014426238978215, 0.7549058527218347, 0.4106219426979594, 0.279368648096337, 0.47390464039962144, 0.3581287004489396, 0.3088131954287736, 0.4765380416412859, 0.3638235997994807, 0.3659424977313934, 0.40079799573026387, 0.448984546898221, 0.37762069216231037, 0.3204038466084891, 0.21488391921426359, 0.5245665273575333, 0.2371361478642732, 0.17604718487305268, 0.2265433202002704, 0.5211775012212865], [0.9357270542099567, 0.5221815724320606, 0.790555567373396, 0.23366994440237726, 0.3458964286726729, 0.33907249079739643, 0.3069044913817639, 0.36874870622369715, 0.3463348842273827, 0.9999999999999996, 0.22393482565028702, 0.24779302591626, 0.29845885057688126, 0.7831156341869983, 0.49475811389052116, 0.35915969465649666, 0.3971814151259748, 0.29246450622264286, 0.6977053336028212, 0.31277761678784927, 0.6894065083502108, 0.12048085998496283, 0.799119931460573, 0.38025915000463956, 0.3297099778645197, 0.2959418967029141, 0.29951889246460467, 0.6947339200922751, 0.48665402532914576, 0.46743691289186484, 0.2153661518333792, 0.8877070515146968, 0.3143484023399042, 0.23229979686389204, 0.1984391106278959, 0.6900222184490696, 0.22219010524372979, 0.3078229252950764, 0.3223988695813551, 0.3606566275880453, 0.3181437794706027, 0.39814041738996675, 0.19182715847126272, 0.25790113212433774, 0.8953817822823456, 0.8330161132028797, 0.28293204715895093, 0.5407074873655775, 0.3002201604481681, 0.2218519582916838, 0.3190530450981014, 0.3577114743736835, 0.2895184280196008, 0.29190323342651925, 0.2748253470167348, 0.26364634890310046, 0.6052741290465232, 0.5608196622957746, 0.304114213141139, 0.21974039530737738, 0.39091792665795044, 0.40846256405448933, 0.2575903227311651, 0.30218885185781474, 0.6381903376628165, 0.3179667236951856, 0.36607835877813094, 0.6945073761429599, 0.3556912175457487, 0.6885080308338081, 0.3820279617139264, 0.30995998273642744, 0.3800925337510077, 0.25521182333131903, 0.39126420681660284, 0.4020909543207474, 0.3218959785987077, 0.25149105353890355, 0.161570204782867, 0.37155233645426133], [0.2018277614943786, 0.37577024382472357, 0.20290939377751316, 0.27761638104972464, 0.26083949849869775, 0.1891925629521814, 0.3786254505886577, 0.25847144656125226, 0.282623781894829, 0.22393482565028702, 0.9999999999999998, 0.1978334599622084, 0.2611746008333648, 0.11738580365963598, 0.07594636091438936, 0.2312702268066625, 0.19640312005717447, 0.22771142302627595, 0.17417691798949692, 0.20333315060320045, 0.20917659156969526, 0.27344931216759294, 0.20501119367194223, 0.33993724900522193, 0.24919473424922065, 0.1652647562249644, 0.32820085034216273, 0.2337426175814341, 0.25573764967250284, 0.16889390416005756, 0.3649061354495977, 0.11777777385305845, 0.19049679009875947, 0.25547921731381873, 0.25745523354132926, 0.07020990116018072, 0.287867741809178, 0.22701929989606892, 0.20907372710025118, 0.4099163171876297, 0.26277549001350564, 0.31601481120870534, 0.1855696429803744, 0.5043915238906533, 0.217202587238444, 0.15996731552615975, 0.293616626255394, 0.20463686275466475, 0.3281829751610139, 0.6409482180202571, 0.3034919227437707, 0.21922181820633735, 0.3855859925861843, 0.21194346819455206, 0.7970542193511907, 0.20697134289361332, 0.18288845676822418, 0.24482821967424037, 0.3016813554234773, 0.30555001321048747, 0.30828344430527266, 0.28413115712741804, 0.35538801857236224, 0.31932202284351946, 0.19228331478675076, 0.3820069121085343, 0.39207551370783045, 0.3555694176741152, 0.2581420347178914, 0.21719538904931487, 0.35726759769970984, 0.28011274787330775, 0.24442061637549606, 0.5221428785670548, 0.1320583984193968, 0.283288130314429, 0.39577508049547483, 0.26678497068456797, 0.2611858478431352, 0.4048545096399298], [0.23636518907196852, 0.30753764543829654, 0.3147337528054343, 0.28916220218494837, 0.5491344361506096, 0.08592209693887884, 0.12972672539288813, 0.24441465305169835, 0.25104930156235766, 0.24779302591626, 0.1978334599622084, 1.0, 0.35821703706944846, 0.1581341896582329, 0.11562038153268223, 0.1220261031576967, 0.1840432944123113, 0.15964443804856213, 0.19274088024776329, 0.18182259179612037, 0.3270531330383455, 0.07466143845229845, 0.22444727962484562, 0.1263989358171681, 0.15383176004813784, 0.14545399096522507, 0.3247708811649141, 0.20204828772461014, 0.35555764092566333, 0.2772467171208498, 0.282537243693869, 0.21508796128691005, 0.07387489286250057, 0.2223910276406411, 0.2719477961997654, 0.15659335055798457, 0.16545375770853316, 0.09265089302185538, 0.30886567246527696, 0.23776321450023233, 0.22403675364812276, 0.22260040224815833, 0.18195681008472717, 0.2300872126433011, 0.24572246253242885, 0.30180200075292934, 0.20690946913522545, 0.2489824148116762, 0.23236651371735517, 0.2594637760159646, 0.25260146081485224, 0.055257208934750404, 0.3593124152791997, 0.14089543670112187, 0.18777911156861032, 0.13743165370699295, 0.17861489796762015, 0.3835770258507729, 0.2304872221608237, 0.19442611695871498, 0.15016541002338818, 0.2318653463549879, 0.303995413812125, 0.25162434321660804, 0.2139208385733649, 0.2181171810506749, 0.12654639730042902, 0.25202189781794554, 0.12659583064116606, 0.24064013807039947, 0.19809748060450555, 0.3730668203919631, 0.1555102782058547, 0.31599970088380364, 0.13202112805126798, 0.269479980583108, 0.25732267322354835, 0.08591071893710878, 0.21337760082504648, 0.2860581671801069], [0.2992674239686205, 0.4206495552470467, 0.33950489893147623, 0.29251183523518176, 0.413870463095294, 0.1816899574587496, 0.20995406780194334, 0.2746416698974884, 0.32002885987771623, 0.29845885057688126, 0.2611746008333648, 0.35821703706944846, 1.0000000000000002, 0.2064635941766751, 0.20247035455423681, 0.2823984654654137, 0.3638559442766268, 0.4753032909341801, 0.22613607538916763, 0.3084903749808814, 0.35247362464252185, 0.2849033106454416, 0.27398818525813035, 0.24483766198085366, 0.3036747287695857, 0.3687347340777884, 0.5526223625825668, 0.2805072927965554, 0.44387054836659035, 0.5974854548098525, 0.6096304398397647, 0.24390641255247641, 0.2655311516581838, 0.4591741925397951, 0.765442169316954, 0.25063337102021743, 0.27188202804049527, 0.1511500064124287, 0.2782420508459725, 0.3610136917546119, 0.31707062717912105, 0.45924151726647994, 0.4702013442078272, 0.41641945318519447, 0.2814406230176919, 0.29444031480755006, 0.338208105171905, 0.36516948810945343, 0.4359068829504822, 0.39646283396073867, 0.37150513217230985, 0.19739953250622, 0.34668772738104925, 0.3261919204852838, 0.5286245159522787, 0.45047845730456515, 0.31139278627815414, 0.34658516579224385, 0.35409697566074616, 0.3433760748173271, 0.24043027879619913, 0.3088113767406265, 0.3365568013389615, 0.4848758005615986, 0.2984147348844385, 0.20863745248265947, 0.21335342042494934, 0.35929394658403346, 0.2648605779093704, 0.37774776079856287, 0.26440502845570396, 0.5470872350295668, 0.17368808421821028, 0.3510577492037984, 0.2712495006655502, 0.28277925577847624, 0.354902466597512, 0.19570520819812867, 0.4112466097873946, 0.420513335205164], [0.8596599990806484, 0.41730134943596064, 0.67117787983759, 0.23362249724524775, 0.22555941167005195, 0.21903484013749303, 0.2851584259067077, 0.2713507838699415, 0.28213930618933153, 0.7831156341869983, 0.11738580365963598, 0.1581341896582329, 0.2064635941766751, 1.0, 0.5490947307663248, 0.31485256091884195, 0.2600835054056331, 0.1986118032592607, 0.8029972903115494, 0.28183581200675856, 0.7860326534328694, 0.09059169181793808, 0.917479340439283, 0.29904485012342186, 0.23103625272880876, 0.17646591784289778, 0.26983635238018805, 0.7819348548636896, 0.37741700226919095, 0.3820738515071813, 0.19260823657450393, 0.903335829210212, 0.19938654772812991, 0.19587054800973716, 0.18587238926728863, 0.8747011581408096, 0.1658062800039406, 0.19258672336270222, 0.21401035693782153, 0.31920165005550893, 0.22690489868613523, 0.2944767459302114, 0.15971253928930002, 0.11661815845021169, 0.7808083440620677, 0.8559465764025389, 0.2511637887927035, 0.5851473677883497, 0.2284823321170727, 0.16299902860026605, 0.17011987846783808, 0.17501353292422384, 0.2220320705306672, 0.20058634354126287, 0.17442394895932722, 0.18242133024849322, 0.7074552192003214, 0.5721416437059196, 0.15538121529237112, 0.1286121935126151, 0.20075391678442375, 0.28163954174557104, 0.1337750651789686, 0.14867549950838466, 0.6985421464154258, 0.2267776968810647, 0.31266262669052824, 0.6089333179149117, 0.26665716908304216, 0.7371465592750672, 0.23046200702010466, 0.23391028037414646, 0.2525498353234651, 0.17458000178882221, 0.34172529774269045, 0.4568662570508202, 0.19008563081230412, 0.1231360726996843, 0.17092835410349722, 0.19196763338411443], [0.5617322399519502, 0.39459542500935746, 0.44585816406327705, 0.2918247397934379, 0.22208497642786293, 0.22218678546527568, 0.29261658933268475, 0.1414153191811128, 0.1199076901785749, 0.49475811389052116, 0.07594636091438936, 0.11562038153268223, 0.20247035455423681, 0.5490947307663248, 1.0000000000000004, 0.1163256729722718, 0.2715270314881679, 0.1628786428677788, 0.6788889157717684, 0.4194126125372919, 0.6823490912013108, 0.2609531434950987, 0.5376657460339921, 0.3576343941661665, 0.24150819576168442, 0.41164111135459347, 0.31682314207701456, 0.5809498612094628, 0.3715783311585896, 0.46395410733657316, 0.18468184912502, 0.5504747248940466, 0.22313254578348818, 0.22143720077510937, 0.2197294079147208, 0.5263240576868818, 0.399822176518026, 0.29312133800777945, 0.22995408589165506, 0.19922097197040706, 0.30909664321515296, 0.32058169886613086, 0.15093517772033832, 0.13129880704950758, 0.5261528335423583, 0.5675537365503522, 0.08824234721166233, 0.3212374269974031, 0.14935674968355048, 0.17730864224101345, 0.28685075640360114, 0.32558646056574725, 0.209602016211612, 0.14278607533336815, 0.17209242104419992, 0.15691105984496587, 0.7628170847054276, 0.47472934763687646, 0.3542618035330598, 0.4010846777201868, 0.22956239760728897, 0.25789321159204515, 0.18240473729392176, 0.3793022007780804, 0.5596315986214626, 0.13028062247191508, 0.24797709348265712, 0.37016994327404273, 0.1376393649133344, 0.4576780987418263, 0.2608879374790752, 0.18535850469062137, 0.19607635082784047, 0.21547873092490286, 0.18563368118863977, 0.2789293974008446, 0.3106794931366921, 0.22136276923339532, 0.1772537067875635, 0.33822106815353414], [0.3494161718918589, 0.4087156079193369, 0.40390455591196256, 0.17029606343735296, 0.2726651385651788, 0.5295927192609624, 0.6614220311150232, 0.4226942417478451, 0.41569592027550295, 0.35915969465649666, 0.2312702268066625, 0.1220261031576967, 0.2823984654654137, 0.31485256091884195, 0.1163256729722718, 1.0000000000000004, 0.5801696709333716, 0.5383691679848259, 0.3649452009668924, 0.2056765884684308, 0.29366435963209303, 0.08574576709861274, 0.43169539062481604, 0.19140738245635214, 0.5514433434262003, 0.35650010630425094, 0.2139367237741968, 0.26156009027601973, 0.352905299579013, 0.26556897893744696, 0.26608215971446203, 0.3511358029930918, 0.6954792304903821, 0.12327354849007488, 0.12914839568402064, 0.29835607841390605, 0.22390494432599378, 0.23554484865749536, 0.25960614087675626, 0.3036148116211448, 0.25558107728614105, 0.322949810709543, 0.21246270960795355, 0.27392932015953975, 0.3653022437019353, 0.3062629777419504, 0.5495521464169261, 0.2899365195477035, 0.2943820157419814, 0.18513636289943042, 0.23426280773347827, 0.4819231036817436, 0.3543376665666899, 0.5277220700219742, 0.2370427652364962, 0.5586621018189769, 0.2204344258255724, 0.34413007987880456, 0.2787736858660504, 0.1489261498177657, 0.3192618598142083, 0.3921216698654275, 0.3403389919192714, 0.2637931106064072, 0.4342828895069115, 0.3205229968003223, 0.2847424817805683, 0.4038222355572344, 0.9183928050834855, 0.29871953255102546, 0.33855768231116173, 0.28707908696420237, 0.3263026511017041, 0.1972863576150928, 0.21828405547783936, 0.34670986074097365, 0.28072863061271425, 0.15725928165851377, 0.2398126731398977, 0.2928822097849535], [0.3425713497293985, 0.3285490423142475, 0.48222962705358385, 0.2624052375087983, 0.21740512808606796, 0.4608834335949613, 0.4430661762321844, 0.5268859874013282, 0.3831548758641185, 0.3971814151259748, 0.19640312005717447, 0.1840432944123113, 0.3638559442766268, 0.2600835054056331, 0.2715270314881679, 0.5801696709333716, 1.0, 0.5860293236043589, 0.3192844389334157, 0.24702969323858348, 0.2945579992828055, 0.15696842159431235, 0.37266519217027977, 0.32384141165167435, 0.48806946378143234, 0.5016268411413001, 0.3354500069072734, 0.23719810998661345, 0.3811516666223632, 0.35617806725881884, 0.3050787099246801, 0.3473228166888701, 0.5410999941817293, 0.152566384074588, 0.26302869942308366, 0.3422902946882005, 0.2927139191940845, 0.42053459131866955, 0.3223621410242058, 0.21522783736026582, 0.4127654696039217, 0.3902945170978704, 0.2963021564291818, 0.2818986936967528, 0.4020395728492586, 0.39191757093611, 0.5739210618504499, 0.4149901310368883, 0.26706417517135445, 0.2249373844201593, 0.27029672546176564, 0.6331547930822574, 0.39856098334312734, 0.4831359403959465, 0.24173484592892402, 0.6492047565777864, 0.23643225607531393, 0.31839897338957035, 0.3969047971607621, 0.368745546790952, 0.5007960670117764, 0.37586264444864825, 0.4021649261910731, 0.43605463856541926, 0.44240015984738257, 0.22974230788050942, 0.2686022192127417, 0.37593364112281813, 0.578903866527571, 0.2506638020536864, 0.5377645546641897, 0.33585630121068755, 0.47585869195851427, 0.20483871167143927, 0.2708359700001867, 0.3828164654418368, 0.28002125109296844, 0.2658983219302616, 0.20008583436318944, 0.3979082801705215], [0.24597782315209166, 0.2744872978953318, 0.297882094229468, 0.22063871364496382, 0.24950501645553835, 0.5979004196772751, 0.49837653183842157, 0.4443360145871249, 0.4141519658227947, 0.29246450622264286, 0.22771142302627595, 0.15964443804856213, 0.4753032909341801, 0.1986118032592607, 0.1628786428677788, 0.5383691679848259, 0.5860293236043589, 0.9999999999999998, 0.29351880109667905, 0.20504342523801078, 0.22526621547537595, 0.22816519692380158, 0.32895902530478893, 0.3659947208718523, 0.5912949094577198, 0.36723192166719976, 0.4149676657590911, 0.2437968413709411, 0.33542000066588834, 0.3765089604671079, 0.3496322875864819, 0.23735579671650198, 0.5987744190060299, 0.3461089535794821, 0.4588884744854937, 0.2037955821626743, 0.30713034723316357, 0.26572654865898526, 0.24419633478249575, 0.29222297826266797, 0.41387250197054504, 0.381350820655057, 0.40857288214826104, 0.2853380300657586, 0.2896390452699077, 0.2286687645546151, 0.5007389911774743, 0.33860555904988154, 0.44956265305560933, 0.43853457216923264, 0.17597985734272134, 0.42294831380482034, 0.338978136160404, 0.6265992077116861, 0.38401357238847267, 0.9257326507754763, 0.22320578974311484, 0.2213418738225604, 0.29110403976720456, 0.29977554009252594, 0.360717568470879, 0.39364165602163503, 0.36455994243598144, 0.39169385998654205, 0.4581679518201245, 0.26237521207843123, 0.27788852477210657, 0.29825068060833765, 0.4961702139260691, 0.2805231090644261, 0.33663809569061415, 0.21224651663118013, 0.3825922885824964, 0.30488727210349703, 0.18708816649281573, 0.34649066281590457, 0.17901728201495926, 0.28575223825128354, 0.3968028352618836, 0.39642827381582746], [0.7487061320346828, 0.4471578527671193, 0.6168957966482043, 0.3090595259314264, 0.2830044565687106, 0.28483803992200807, 0.37141977732742104, 0.31817295859560546, 0.26051316024196947, 0.6977053336028212, 0.17417691798949692, 0.19274088024776329, 0.22613607538916763, 0.8029972903115494, 0.6788889157717684, 0.3649452009668924, 0.3192844389334157, 0.29351880109667905, 1.0, 0.36682549001233655, 0.8131111867026215, 0.18719356169301027, 0.8104160934452335, 0.3117962085035494, 0.2351160731659372, 0.23445898836607942, 0.3317906397767023, 0.747243720045599, 0.42486398897971966, 0.3990741542891951, 0.21917614248861383, 0.8031183383773921, 0.28428033774145073, 0.21956670109265083, 0.23963811268617546, 0.6904161970367381, 0.3695560597884645, 0.24926501481956825, 0.2863953288878252, 0.39347829277143825, 0.2659341810870462, 0.37591689434182063, 0.26606961841506804, 0.231078732940893, 0.6786859741976983, 0.7387583388218132, 0.30746629486540367, 0.4645674555924635, 0.21608239940944424, 0.20620850955293665, 0.2865166543460479, 0.31988701553517496, 0.27275369186644266, 0.27796610912234043, 0.18227373874867797, 0.2916101418272159, 0.8751051375331831, 0.5661061438390291, 0.3046649550603461, 0.21375287527922404, 0.27423930755917286, 0.3773610217523813, 0.22536993810064881, 0.2989368132892888, 0.7135114869378107, 0.325391016880884, 0.3285508573438163, 0.6297049430268284, 0.33570184261488406, 0.7152314181356683, 0.25618540097285497, 0.25210773543187176, 0.32383012524866317, 0.2195700844322846, 0.3101498274378455, 0.440813195465889, 0.270808271791455, 0.1861180409203821, 0.25665862055778144, 0.34430891138529407], [0.3138390044265418, 0.3873115110994648, 0.31663010521397666, 0.47073785371386484, 0.3086831984255695, 0.1656205458981748, 0.2203856826442949, 0.2221343837851214, 0.45577472848616096, 0.31277761678784927, 0.20333315060320045, 0.18182259179612037, 0.3084903749808814, 0.28183581200675856, 0.4194126125372919, 0.2056765884684308, 0.24702969323858348, 0.20504342523801078, 0.36682549001233655, 1.0, 0.40068777358447344, 0.30633605502432115, 0.3293655130994124, 0.14989937245390583, 0.2477737285397344, 0.30338043841592555, 0.43709733232436565, 0.2992195082112763, 0.5388383750940408, 0.30064903355795103, 0.22100814623924292, 0.319310638990593, 0.23109354766736895, 0.3478523858069028, 0.29318728189327237, 0.357508442868074, 0.4299277047535148, 0.21093490104775275, 0.32631401704239626, 0.39648826015106564, 0.33301109041025884, 0.37147208269812604, 0.2974038179783003, 0.28907427313429285, 0.3776708108368876, 0.3031436473798107, 0.22894109340190416, 0.22891230924356926, 0.27505875991569023, 0.2078228283457359, 0.28437584552033796, 0.3430886005429958, 0.32273079610654676, 0.21664469262385855, 0.2332328359619316, 0.2123645799413586, 0.4914569723182862, 0.40204909967308916, 0.4086250524546491, 0.40358391535599913, 0.3388768203764744, 0.5563752572335308, 0.3608617030694139, 0.42608333273181265, 0.32719612711152357, 0.13464506096030793, 0.2679541471194973, 0.4192088239299974, 0.14046768792257236, 0.3528534102827163, 0.3164051767610147, 0.30208431132991564, 0.3185719042900833, 0.3407450738446383, 0.18290262405758417, 0.30651294243656707, 0.33433926906435485, 0.25741777587549003, 0.20472787290104508, 0.5567527489881989], [0.7727770141865749, 0.5176846895187193, 0.6670338250736374, 0.3863780323013577, 0.4688090518455559, 0.25206089452772285, 0.33577953468029387, 0.26770159361875356, 0.31578116089287345, 0.6894065083502108, 0.20917659156969526, 0.3270531330383455, 0.35247362464252185, 0.7860326534328694, 0.6823490912013108, 0.29366435963209303, 0.2945579992828055, 0.22526621547537595, 0.8131111867026215, 0.40068777358447344, 1.0, 0.18989546756306458, 0.7893845514185407, 0.3247199005733592, 0.2636462086291568, 0.27565954406613685, 0.3699039079185907, 0.8413439962021285, 0.5404476140545322, 0.5280558470320901, 0.3312500345802703, 0.7805527839983706, 0.2671832288234584, 0.2780048182680691, 0.33882145493349997, 0.6659802672130031, 0.3247377664487459, 0.23477242598862058, 0.3870104843290274, 0.3901272911952205, 0.34182300699099677, 0.3819445603154167, 0.2632713133914875, 0.23529446857196046, 0.6868401790963246, 0.7256003320812685, 0.2512588808428057, 0.5590546207291546, 0.23667983881969024, 0.31933496125831223, 0.30454151845801714, 0.25477574177553497, 0.409497292426135, 0.21298868632871648, 0.26891588050737336, 0.2363627264985445, 0.8076818396305738, 0.675413096219341, 0.3564195447554134, 0.31658428860311205, 0.20513361376019568, 0.3888353908336951, 0.2826896142841534, 0.3199492349393983, 0.695702823496503, 0.3479030669231508, 0.27068338622184723, 0.6528368885557859, 0.26156354224620554, 0.8055036383906368, 0.33332338178770554, 0.3723655514103655, 0.20353446320061466, 0.30867508054744663, 0.3261295902072784, 0.47600090142921725, 0.38240085282673814, 0.16650756063420513, 0.23584713267853008, 0.4267351741274961], [0.14336826616559112, 0.19541908771493433, 0.12494419559335762, 0.34348386628692645, 0.16310698948061153, 0.03690750874369644, 0.13639607475633697, 0.1920136851863346, 0.2704337696355307, 0.12048085998496283, 0.27344931216759294, 0.07466143845229845, 0.2849033106454416, 0.09059169181793808, 0.2609531434950987, 0.08574576709861274, 0.15696842159431235, 0.22816519692380158, 0.18719356169301027, 0.30633605502432115, 0.18989546756306458, 1.0000000000000007, 0.1311365144548568, 0.26236530736351027, 0.26894734577983487, 0.4370378074918251, 0.4815711346655514, 0.1658976866402832, 0.23869462678852688, 0.35594072610796706, 0.49394188771971426, 0.08969550401997886, 0.29063957426442133, 0.4395920906983455, 0.3770899963382501, 0.16683019077034783, 0.6087540645029862, 0.17306642859758903, 0.18831035516906894, 0.4413293747601977, 0.473645587438986, 0.32993141362042344, 0.46169088813573916, 0.3886233440204337, 0.21749370800244033, 0.11055954795365233, 0.28904439069234805, 0.07834106427626732, 0.40006428954571915, 0.3383021728335527, 0.26159494868570693, 0.18515091841544654, 0.21385445515946327, 0.200462567309536, 0.38693900627433386, 0.18849532978890593, 0.3190018933131803, 0.1645796246387442, 0.2329374646372765, 0.5278694570395609, 0.12390148616806358, 0.2786496427084678, 0.24869524394482823, 0.466288412958098, 0.3260342668136684, 0.10044041335468284, 0.38362502177374513, 0.20210603172075597, 0.056658082679252667, 0.09301635098673151, 0.20090212032646654, 0.3778796372812311, 0.09697124154224111, 0.4033154230733121, 0.16502642281141838, 0.24224898838557163, 0.2278455285723789, 0.2609660857113797, 0.4261066955384818, 0.29031380986410976], [0.8363427623276879, 0.476267716728236, 0.7041148596541862, 0.2551479664557561, 0.311228205666116, 0.33223143477238026, 0.38606369658687845, 0.33940859969311143, 0.3431267056858586, 0.799119931460573, 0.20501119367194223, 0.22444727962484562, 0.27398818525813035, 0.917479340439283, 0.5376657460339921, 0.43169539062481604, 0.37266519217027977, 0.32895902530478893, 0.8104160934452335, 0.3293655130994124, 0.7893845514185407, 0.1311365144548568, 1.0, 0.35149192298303616, 0.34118504461378185, 0.2324263960111404, 0.29048870895991474, 0.7648767157080267, 0.4600583167010309, 0.39141755272636763, 0.26713948535883936, 0.884519921515083, 0.31418121442164126, 0.18338276717484703, 0.21480921647808354, 0.8079532432978378, 0.2650313001366526, 0.2714066003703829, 0.3099508028252801, 0.37331911481302926, 0.2988256332954182, 0.29832068971342385, 0.20239349915547705, 0.24075773220959232, 0.7850198748251029, 0.8202687274021367, 0.36471582466641084, 0.6676253959859257, 0.28182166511665996, 0.3043408823188918, 0.22448928582020145, 0.24408383458870297, 0.34402033869256887, 0.30962868868545723, 0.2520392254312469, 0.3265707438769949, 0.6774396789999197, 0.6099641723126625, 0.22588654104765565, 0.18098372879905011, 0.24092344138434663, 0.3623945721960228, 0.2843263049638903, 0.2713323820065411, 0.736869398736528, 0.3120236038639813, 0.38760643860612176, 0.706787537643574, 0.386401091906733, 0.7622735458189611, 0.35989069578749183, 0.2828372547898725, 0.2911856991796842, 0.22824949730324584, 0.3086023489058099, 0.4937454468595058, 0.2691748805875153, 0.1466630464649251, 0.16139168763460815, 0.3046212498836477], [0.3558639135222207, 0.23391686839934894, 0.28834319625506116, 0.22219942190716918, 0.21875489207527826, 0.3149681970845801, 0.3832606515966302, 0.30885986904098156, 0.28057989853827053, 0.38025915000463956, 0.33993724900522193, 0.1263989358171681, 0.24483766198085366, 0.29904485012342186, 0.3576343941661665, 0.19140738245635214, 0.32384141165167435, 0.3659947208718523, 0.3117962085035494, 0.14989937245390583, 0.3247199005733592, 0.26236530736351027, 0.35149192298303616, 0.9999999999999997, 0.3619538507420229, 0.28394093504326184, 0.29223192621247984, 0.3159748573618421, 0.2823604076547582, 0.3673236213729461, 0.31000296093789026, 0.3173494588802869, 0.2637369528354065, 0.24531103447997954, 0.22343533758763356, 0.27398545856198203, 0.3519551109704129, 0.2629765758017598, 0.23338942617699787, 0.3111014115128672, 0.52288618555604, 0.33580263961166695, 0.24971044833171405, 0.5062471639280139, 0.369862118743774, 0.3283179107486963, 0.3355337416505389, 0.37446507331020584, 0.36576113076190886, 0.4747877579492785, 0.3376212330619654, 0.3223002116550239, 0.39646949830417055, 0.28081481911181244, 0.318582173390137, 0.351007423727022, 0.23760735938887764, 0.22307160004374005, 0.3492733344147065, 0.3809819169402587, 0.28219611840591735, 0.22414286652016968, 0.3181367182765926, 0.3676200173563505, 0.370240313129009, 0.26994461204473036, 0.6424114699636831, 0.2608479112981616, 0.25352383552238755, 0.25709165913786186, 0.43869792165362237, 0.15882208681803256, 0.24678238052144408, 0.306131362852811, 0.18419663713359669, 0.3446535301353688, 0.34393978166649763, 0.322225575622455, 0.2794604355233085, 0.422278845414769], [0.30997502287536793, 0.33587517218983226, 0.3871948910468612, 0.23555766112879462, 0.28606729062802316, 0.5202949142498569, 0.695591818753874, 0.2921145223828664, 0.3014206452226912, 0.3297099778645197, 0.24919473424922065, 0.15383176004813784, 0.3036747287695857, 0.23103625272880876, 0.24150819576168442, 0.5514433434262003, 0.48806946378143234, 0.5912949094577198, 0.2351160731659372, 0.2477737285397344, 0.2636462086291568, 0.26894734577983487, 0.34118504461378185, 0.3619538507420229, 1.0000000000000004, 0.6168474260243876, 0.3446100173664758, 0.2950164625134858, 0.34585427757875026, 0.36167351238660805, 0.2058186673813504, 0.26706015005338046, 0.6418020890142246, 0.2232625671567208, 0.17888431554297765, 0.2654082657672622, 0.3527047063529368, 0.40185231958255274, 0.2734948900163551, 0.29795943665986047, 0.44585357310934737, 0.32253468135983754, 0.24222163636889274, 0.28669513236660177, 0.3679928411027028, 0.28912967378469795, 0.3527188882616467, 0.32812826800017525, 0.33733655909581967, 0.4158081239268884, 0.19655885295689562, 0.47714273670612545, 0.37054756974843917, 0.5745760239222504, 0.34689084051038677, 0.5322153836723593, 0.19517458284281664, 0.346395370406985, 0.3257428319103982, 0.32047101954986923, 0.3908858040322034, 0.2909617620097835, 0.3665679477240401, 0.4419380721745251, 0.37737346348015033, 0.3269419004711896, 0.3350990622131088, 0.34800106584498225, 0.5360319024722566, 0.2775421098789307, 0.4465126073603907, 0.18530680238816882, 0.3515670603684554, 0.3531858060549848, 0.18070962088355252, 0.3212889937777792, 0.3229612532415884, 0.31074604906565734, 0.3059423809082737, 0.4537597437258767], [0.2598617372339604, 0.3334377156828149, 0.30220919051057976, 0.23355041724054626, 0.24130355446502355, 0.34506920358445836, 0.40734419142677447, 0.32346772708736227, 0.24208034009701962, 0.2959418967029141, 0.1652647562249644, 0.14545399096522507, 0.3687347340777884, 0.17646591784289778, 0.41164111135459347, 0.35650010630425094, 0.5016268411413001, 0.36723192166719976, 0.23445898836607942, 0.30338043841592555, 0.27565954406613685, 0.4370378074918251, 0.2324263960111404, 0.28394093504326184, 0.6168474260243876, 1.0000000000000004, 0.5826401976869505, 0.2237044290760555, 0.27981397443688627, 0.49555552063971947, 0.21668077012230472, 0.20636290683047268, 0.43628084951536267, 0.3419738578524309, 0.2340173819582652, 0.25869322858004684, 0.46263339987436203, 0.3664212070668236, 0.2550592442638898, 0.27470927575394644, 0.6387411892209447, 0.5143476862890206, 0.3875708155562023, 0.2368607888474371, 0.3496342213556881, 0.293838519185292, 0.2661327982115323, 0.2708590058634252, 0.27281004003667975, 0.24826736821782291, 0.2463523393487904, 0.43129607143100984, 0.28698524890748833, 0.3693329420539021, 0.32498721126786967, 0.33960576482865956, 0.28640278816156994, 0.33914168449615856, 0.3283622966268247, 0.6024783815207494, 0.3773286978796604, 0.3454850397439434, 0.34930805229479517, 0.5629915036641653, 0.3511581814032539, 0.18808672383674216, 0.17153047250207387, 0.24809109716178168, 0.36222124790607313, 0.2059608237336998, 0.37064876532141233, 0.40546880905666294, 0.2952122176015682, 0.29661381423360056, 0.2595356589152346, 0.1907927963832984, 0.3758075937911034, 0.25624803870543855, 0.3148973498250104, 0.38062669449901165], [0.3121967305257317, 0.3473190343860961, 0.31640803612733137, 0.43488670185848866, 0.42641671518713664, 0.20033919666429217, 0.2641516544410105, 0.29423082948705037, 0.3716676153469256, 0.29951889246460467, 0.32820085034216273, 0.3247708811649141, 0.5526223625825668, 0.26983635238018805, 0.31682314207701456, 0.2139367237741968, 0.3354500069072734, 0.4149676657590911, 0.3317906397767023, 0.43709733232436565, 0.3699039079185907, 0.4815711346655514, 0.29048870895991474, 0.29223192621247984, 0.3446100173664758, 0.5826401976869505, 1.0000000000000004, 0.3030314690695834, 0.4483059655783185, 0.504416136725939, 0.42686514330076203, 0.25666110781994445, 0.20767461318778857, 0.7123459372643699, 0.6197810524555063, 0.30535422296832826, 0.4826111675185171, 0.22765290302212565, 0.3413700200818095, 0.5051196175127223, 0.7099794315659089, 0.7691324056444313, 0.4885034859683248, 0.29188315678976007, 0.40464322516890633, 0.3452174257435845, 0.2682393075606165, 0.26981393651472646, 0.5841270874974651, 0.36284626386551727, 0.3533763440498337, 0.2226535099939604, 0.3937444677463056, 0.3230186200080678, 0.4861327014895687, 0.3480421616792166, 0.4456328359591353, 0.39618388079369515, 0.37149226139170477, 0.5882655893000396, 0.3583432335667067, 0.3463734384774339, 0.40759834820779584, 0.5848254894132658, 0.4268258945877573, 0.20188756641431232, 0.3451205436698544, 0.3638813725273575, 0.1706802632276081, 0.32804610394871125, 0.2765442424821903, 0.5267320996114686, 0.2885947061408349, 0.4836302421594368, 0.36836100707632696, 0.34584580464613285, 0.3932849098781488, 0.4544801296900989, 0.42526087195884743, 0.4651402212657365], [0.7976360541498235, 0.4907854060491017, 0.7029675445643256, 0.3065224498881892, 0.2779591534592356, 0.26672468410602435, 0.3144826791844116, 0.248920407892529, 0.2833763547277985, 0.6947339200922751, 0.2337426175814341, 0.20204828772461014, 0.2805072927965554, 0.7819348548636896, 0.5809498612094628, 0.26156009027601973, 0.23719810998661345, 0.2437968413709411, 0.747243720045599, 0.2992195082112763, 0.8413439962021285, 0.1658976866402832, 0.7648767157080267, 0.3159748573618421, 0.2950164625134858, 0.2237044290760555, 0.3030314690695834, 1.0, 0.44283080653144924, 0.4916696952966807, 0.23748752297535752, 0.7740226019360124, 0.24419843509930333, 0.23853972342007027, 0.28708988670465996, 0.6445216481157333, 0.23198989635030437, 0.27468797619338536, 0.29449991763404215, 0.33403872579868177, 0.3087773652660897, 0.35398107379812604, 0.176821694307283, 0.2509748695006381, 0.6847970562915499, 0.6749360859839453, 0.22489544492955008, 0.4802265960189748, 0.25314553400935924, 0.27042955241249933, 0.24903232475795425, 0.22891601899714253, 0.224438053044327, 0.21867318757655121, 0.28053269407996134, 0.21291572043476983, 0.7257532614439792, 0.6749345544247674, 0.25396553991790255, 0.14654343812723844, 0.22652991178027232, 0.3352532645159034, 0.17178787817648905, 0.2792314634672645, 0.6516334585843557, 0.26501737791147856, 0.24514648638458741, 0.6631002718944503, 0.2509228931019772, 0.8382750352850519, 0.27914386813168246, 0.3132038371577446, 0.2331812011827754, 0.22701888330700948, 0.3158621416895775, 0.46542646586819064, 0.25865049177665517, 0.22777467881051155, 0.17839677269916437, 0.2759921553468454], [0.4836597565511469, 0.6098760859782102, 0.49858895425471905, 0.5245559530879121, 0.4210079179260531, 0.3152089295289451, 0.3218459989192098, 0.2687717572152706, 0.570410563819961, 0.48665402532914576, 0.25573764967250284, 0.35555764092566333, 0.44387054836659035, 0.37741700226919095, 0.3715783311585896, 0.352905299579013, 0.3811516666223632, 0.33542000066588834, 0.42486398897971966, 0.5388383750940408, 0.5404476140545322, 0.23869462678852688, 0.4600583167010309, 0.2823604076547582, 0.34585427757875026, 0.27981397443688627, 0.4483059655783185, 0.44283080653144924, 1.0000000000000002, 0.4516740244356981, 0.2942782603334405, 0.4879110066557609, 0.3113261434168874, 0.3596227715044846, 0.3521967177933457, 0.4076488722031444, 0.4530216906751445, 0.14211388732783456, 0.45961399760423916, 0.3153607449574625, 0.37958386210850864, 0.4253101086928832, 0.21211348387003842, 0.3930156131073793, 0.5248397304703167, 0.424566968726137, 0.3458677258605101, 0.4189043874020819, 0.35386561761361957, 0.3587205523908593, 0.3045008780518659, 0.255963766175481, 0.5407806590204328, 0.29644210184793196, 0.31567709044222625, 0.3453058916619871, 0.519312418162257, 0.5105666848403129, 0.5099770589545851, 0.36100410115246073, 0.2837265414110982, 0.70440043203456, 0.5419079908485994, 0.4469296325981763, 0.49329372577233677, 0.2612048846243703, 0.2877421466335724, 0.5074844773330863, 0.31612658294647866, 0.4974451703997933, 0.3275177503303955, 0.41840284213018236, 0.31381380688216975, 0.47251075776188606, 0.2924681811372097, 0.5264053379149444, 0.4290088025794066, 0.276385438484798, 0.24487997552025642, 0.589603485105209], [0.48082188034394535, 0.4422689963193539, 0.47986581564619873, 0.27071185967782696, 0.3187737885223523, 0.28164267728384595, 0.2591488583958843, 0.3746098722605477, 0.3682997626051363, 0.46743691289186484, 0.16889390416005756, 0.2772467171208498, 0.5974854548098525, 0.3820738515071813, 0.46395410733657316, 0.26556897893744696, 0.35617806725881884, 0.3765089604671079, 0.3990741542891951, 0.30064903355795103, 0.5280558470320901, 0.35594072610796706, 0.39141755272636763, 0.3673236213729461, 0.36167351238660805, 0.49555552063971947, 0.504416136725939, 0.4916696952966807, 0.4516740244356981, 1.0, 0.40356480774736836, 0.4048946931751174, 0.3472399414093624, 0.45273900652730814, 0.52838595384365, 0.3809033048132596, 0.4235794223088178, 0.1908205859160241, 0.26623210667415015, 0.29814206388537356, 0.48501981008176503, 0.5419598260609337, 0.538447286133908, 0.2553776690463663, 0.4677944381765483, 0.4654389910785265, 0.2337913982164315, 0.34393613098113685, 0.35581939491550996, 0.25776391701393075, 0.35044569922727875, 0.3403060591494974, 0.2608060579504614, 0.2058766401467794, 0.37082042916261027, 0.33073334010126587, 0.47229405817137377, 0.52776135846173, 0.3300458176776029, 0.33293212242066567, 0.30726043140083986, 0.3785634351050032, 0.26305077351750483, 0.4386191831445167, 0.559265175405115, 0.09106517795362488, 0.221352205975671, 0.43461465640652197, 0.31223894966853905, 0.46926577122328367, 0.28664731469217253, 0.509848448915703, 0.2688347107624862, 0.286658877373497, 0.23919824994662595, 0.388123557939716, 0.3540368076505972, 0.28239458096839737, 0.3885593670977505, 0.3997911960363958], [0.23861812578940478, 0.2622685919794694, 0.250954442668865, 0.3955730789407502, 0.34358883640964366, 0.18963865299395583, 0.2058138533346256, 0.25136583769631615, 0.2778534391799717, 0.2153661518333792, 0.3649061354495977, 0.282537243693869, 0.6096304398397647, 0.19260823657450393, 0.18468184912502, 0.26608215971446203, 0.3050787099246801, 0.3496322875864819, 0.21917614248861383, 0.22100814623924292, 0.3312500345802703, 0.49394188771971426, 0.26713948535883936, 0.31000296093789026, 0.2058186673813504, 0.21668077012230472, 0.42686514330076203, 0.23748752297535752, 0.2942782603334405, 0.40356480774736836, 1.0, 0.20185460331508914, 0.21564908432679952, 0.41812012890664974, 0.5721177493293041, 0.23001080145447034, 0.3753214322011932, 0.1097973646557771, 0.32968523282165807, 0.43331774300038295, 0.35964216062130516, 0.41838869200452034, 0.4652001335237891, 0.5268643066128774, 0.2728027368297241, 0.25155629250781003, 0.39947454666350335, 0.3466304152868473, 0.43608788935738885, 0.4474377628782241, 0.34255613688771125, 0.1578475621723802, 0.39105144318890117, 0.2497046054325925, 0.5150898246209878, 0.3443533598217907, 0.25490221144495456, 0.22193631301714914, 0.24541765570525453, 0.4100765218380308, 0.22913248991934498, 0.21932578661272317, 0.3250102638399074, 0.43006435059112924, 0.3684051881578516, 0.14534137160388938, 0.3609433081205199, 0.38648791756288947, 0.2054507354230835, 0.20903124731303563, 0.32696308490466197, 0.45901578116621733, 0.18410650617916557, 0.4187447259969499, 0.32561591232120524, 0.3340407377372577, 0.34363301897039067, 0.12724995169529646, 0.5497310721314151, 0.3962469918151898], [0.9336516524853371, 0.4428672494856044, 0.8139413597567386, 0.2440456808034654, 0.2734605005465048, 0.2913907053430035, 0.27218332658568445, 0.3205686201909508, 0.33392254179739367, 0.8877070515146968, 0.11777777385305845, 0.21508796128691005, 0.24390641255247641, 0.903335829210212, 0.5504747248940466, 0.3511358029930918, 0.3473228166888701, 0.23735579671650198, 0.8031183383773921, 0.319310638990593, 0.7805527839983706, 0.08969550401997886, 0.884519921515083, 0.3173494588802869, 0.26706015005338046, 0.20636290683047268, 0.25666110781994445, 0.7740226019360124, 0.4879110066557609, 0.4048946931751174, 0.20185460331508914, 0.9999999999999998, 0.25129240354714777, 0.18159054708178662, 0.16985326772481052, 0.8343401651418265, 0.24506274573675438, 0.26017620833203836, 0.2707209390407011, 0.3413650863155018, 0.2314689524255838, 0.330465815171189, 0.13474509647525937, 0.2022353802527264, 0.8673563128778191, 0.8630341057849651, 0.28449497175695565, 0.6049135624755517, 0.2225540825922941, 0.16205084515849474, 0.25202238714943404, 0.3080982052189132, 0.26123403469676404, 0.24381341343887586, 0.16736218949528076, 0.23692938934404498, 0.7142809497593893, 0.5715985381725132, 0.22426942207519973, 0.13950368078807307, 0.27235524284409135, 0.36623672772695504, 0.2060113074186531, 0.21232978768932873, 0.712210396381281, 0.2581613887845951, 0.32886578969772406, 0.6692420762053293, 0.3260352415722493, 0.7579130402638514, 0.29162242760711626, 0.24613635505062148, 0.33213864307094976, 0.18422411944052589, 0.3663043775568308, 0.438734054216369, 0.27144930254156724, 0.1676602775062252, 0.15024619978440212, 0.31966174646625434], [0.3041035838795045, 0.3453097049391105, 0.36604784736596685, 0.1857111694754942, 0.25955889347384875, 0.5827841515559923, 0.6281967647883001, 0.3783906700160569, 0.3709912217123199, 0.3143484023399042, 0.19049679009875947, 0.07387489286250057, 0.2655311516581838, 0.19938654772812991, 0.22313254578348818, 0.6954792304903821, 0.5410999941817293, 0.5987744190060299, 0.28428033774145073, 0.23109354766736895, 0.2671832288234584, 0.29063957426442133, 0.31418121442164126, 0.2637369528354065, 0.6418020890142246, 0.43628084951536267, 0.20767461318778857, 0.24419843509930333, 0.3113261434168874, 0.3472399414093624, 0.21564908432679952, 0.25129240354714777, 1.0, 0.1126228191109212, 0.14816898643961351, 0.17765908818950266, 0.27710517861414874, 0.37589412397120114, 0.19545386968126766, 0.24707891173643562, 0.30151122007706976, 0.2979024233083585, 0.2637085273216721, 0.279927818279525, 0.3226232990623002, 0.22001894359741997, 0.4723736065982108, 0.2933120081698525, 0.29448571458722417, 0.2388685156176515, 0.21320997211282228, 0.5730814627366603, 0.23514567323764846, 0.5672319169430324, 0.2969438017351236, 0.5936605808356836, 0.2388936568495098, 0.3045090984140033, 0.2504510424229599, 0.23636307363443781, 0.3956878142208434, 0.38567390626274023, 0.360195973023451, 0.26576094385356475, 0.47930465605582523, 0.3328924976323706, 0.2669660592186945, 0.40723549376548307, 0.6281350152401723, 0.2642119346884464, 0.40190845518702745, 0.30414819580000585, 0.34257372483816884, 0.19645683928898622, 0.19356255070529477, 0.382202312304432, 0.3260694563374206, 0.3067356943524378, 0.18884069111339433, 0.27794715293571365], [0.2623143905234664, 0.1758622312426822, 0.2098247477219647, 0.3790352767706221, 0.36915720761428306, 0.1897943156278677, 0.1415292040479878, 0.23024590660108535, 0.2478181964871783, 0.23229979686389204, 0.25547921731381873, 0.2223910276406411, 0.4591741925397951, 0.19587054800973716, 0.22143720077510937, 0.12327354849007488, 0.152566384074588, 0.3461089535794821, 0.21956670109265083, 0.3478523858069028, 0.2780048182680691, 0.4395920906983455, 0.18338276717484703, 0.24531103447997954, 0.2232625671567208, 0.3419738578524309, 0.7123459372643699, 0.23853972342007027, 0.3596227715044846, 0.45273900652730814, 0.41812012890664974, 0.18159054708178662, 0.1126228191109212, 1.0, 0.6476350276163638, 0.2164298778486875, 0.34040883566111535, 0.08011101838994748, 0.28023717358213485, 0.4893862989999015, 0.5306457258885489, 0.6190505552919614, 0.42870631601633447, 0.2001281603905868, 0.2694461008140602, 0.17877706603063986, 0.18165113716942088, 0.07248348899457273, 0.8086589004775693, 0.2768737331762765, 0.23047431290744996, 0.1815133098929446, 0.3049148509019229, 0.2758124850623932, 0.41576110057787125, 0.2130925226850503, 0.30906556302982, 0.2860311517498359, 0.3191880338455922, 0.47096982315507296, 0.29047219790432915, 0.2031342793011724, 0.2411234907012011, 0.5097033383234849, 0.24080449619399769, 0.08850606753162155, 0.36822692860404516, 0.25259758373959484, 0.14377511310210064, 0.19251225915090858, 0.26374237142885626, 0.36112569624002266, 0.20927556839720834, 0.5149132849116502, 0.2660048787566661, 0.20625369348592565, 0.2525726793490873, 0.5074016507355648, 0.45394828246087926, 0.39348140491801853], [0.24041275801863404, 0.2174455014362164, 0.25298226426548914, 0.4339037076853331, 0.3333359047570062, 0.10395841587393989, 0.11434233235560536, 0.25162348414936553, 0.2490090803531134, 0.1984391106278959, 0.25745523354132926, 0.2719477961997654, 0.765442169316954, 0.18587238926728863, 0.2197294079147208, 0.12914839568402064, 0.26302869942308366, 0.4588884744854937, 0.23963811268617546, 0.29318728189327237, 0.33882145493349997, 0.3770899963382501, 0.21480921647808354, 0.22343533758763356, 0.17888431554297765, 0.2340173819582652, 0.6197810524555063, 0.28708988670465996, 0.3521967177933457, 0.52838595384365, 0.5721177493293041, 0.16985326772481052, 0.14816898643961351, 0.6476350276163638, 1.0000000000000004, 0.19417271983517537, 0.2915235966167382, 0.07036890519083051, 0.2584290086652222, 0.35962491336796226, 0.35569144083412, 0.47111890831735315, 0.4769840964736567, 0.3150831932375575, 0.23709978544156418, 0.1815144914012266, 0.2871107335668412, 0.18310503384381355, 0.5756396833666477, 0.3441939197190779, 0.2652065826141435, 0.14104406485156065, 0.2769395053506256, 0.21355351413297252, 0.4801432050637918, 0.39391415033669247, 0.3584684088021094, 0.31903446417909975, 0.35891812291198116, 0.36276302222650314, 0.24280062371544453, 0.1966845191064731, 0.2515528288054334, 0.5272338509759702, 0.25817675759887493, 0.1558115337886667, 0.30876440895769147, 0.27784051327472375, 0.1454650685184514, 0.30138015606184854, 0.24880320288307448, 0.4172149276164281, 0.15915575715902452, 0.411815618607071, 0.26494392570634084, 0.20315372169259582, 0.21181314858677522, 0.3457104950787373, 0.4312849703996776, 0.3707793189052432], [0.7604924644618556, 0.3694827059238903, 0.6552976696217692, 0.30304299332015455, 0.2231884633778646, 0.20169322628101477, 0.2367969948104635, 0.3296893395551585, 0.3202180757757723, 0.6900222184490696, 0.07020990116018072, 0.15659335055798457, 0.25063337102021743, 0.8747011581408096, 0.5263240576868818, 0.29835607841390605, 0.3422902946882005, 0.2037955821626743, 0.6904161970367381, 0.357508442868074, 0.6659802672130031, 0.16683019077034783, 0.8079532432978378, 0.27398545856198203, 0.2654082657672622, 0.25869322858004684, 0.30535422296832826, 0.6445216481157333, 0.4076488722031444, 0.3809033048132596, 0.23001080145447034, 0.8343401651418265, 0.17765908818950266, 0.2164298778486875, 0.19417271983517537, 0.9999999999999991, 0.27970570749433393, 0.24605236750037357, 0.20361492920366098, 0.37100541687334887, 0.23506791159770024, 0.28195549946052545, 0.17764581169032384, 0.18554449207849708, 0.7246692979103703, 0.7631605614107296, 0.32571483113370864, 0.5313464626268296, 0.2541810480702734, 0.17544823400777287, 0.19906121467967766, 0.23959296066247573, 0.19672751984780773, 0.2598140412380932, 0.15407253110123767, 0.21826746926739155, 0.6275241480072702, 0.4565109763250674, 0.21000759816119824, 0.12971511910602676, 0.2346819300770203, 0.3110920599107115, 0.24117229855037453, 0.22858046994437342, 0.667841029248563, 0.1501580215126695, 0.3077088884452165, 0.552514124962443, 0.24555044860479838, 0.6021690452109061, 0.21075397370882284, 0.2116307801194848, 0.29925271167470435, 0.2500858172055178, 0.40250187372083573, 0.46082249716881785, 0.21891522031761607, 0.1073130788789908, 0.1640272450705263, 0.2356804816443368], [0.22046360414175148, 0.2535864179148112, 0.24390268611850902, 0.4994479129213922, 0.33137378756373437, 0.2754711989798624, 0.3134176862632495, 0.25709102846071963, 0.3301849409413432, 0.22219010524372979, 0.287867741809178, 0.16545375770853316, 0.27188202804049527, 0.1658062800039406, 0.399822176518026, 0.22390494432599378, 0.2927139191940845, 0.30713034723316357, 0.3695560597884645, 0.4299277047535148, 0.3247377664487459, 0.6087540645029862, 0.2650313001366526, 0.3519551109704129, 0.3527047063529368, 0.46263339987436203, 0.4826111675185171, 0.23198989635030437, 0.4530216906751445, 0.4235794223088178, 0.3753214322011932, 0.24506274573675438, 0.27710517861414874, 0.34040883566111535, 0.2915235966167382, 0.27970570749433393, 0.9999999999999999, 0.2014974314529878, 0.3301846346158586, 0.3737593151822404, 0.43644702991337525, 0.39603304562686026, 0.30007988869747176, 0.41760131643536197, 0.3295185097632861, 0.2667146860557585, 0.33335294138693733, 0.275992081594293, 0.3121916269678724, 0.33571387696962607, 0.29468534137641667, 0.28977371360893145, 0.3555971102010993, 0.20699839181822877, 0.30359655275844344, 0.3262996542466141, 0.45319564246988187, 0.2505907745935778, 0.43255656324519387, 0.42599748741487614, 0.3108525914634764, 0.43780275531482327, 0.5061990461052918, 0.5061702323751625, 0.45621466721869436, 0.1357371228493412, 0.35316447541942975, 0.337657186610567, 0.20363946780154765, 0.21248628494193325, 0.15252024904690314, 0.31379374585195063, 0.3439313778176091, 0.4887586950003574, 0.14553075223222886, 0.35498549047477945, 0.362119360027337, 0.31756869505774166, 0.4693147685385701, 0.5463257713910247], [0.27242854072453565, 0.254544284621661, 0.39207408247141734, 0.16580870008985063, 0.16443426771497516, 0.34752026435838707, 0.37090924025889793, 0.33149666164532915, 0.2327707488389266, 0.3078229252950764, 0.22701929989606892, 0.09265089302185538, 0.1511500064124287, 0.19258672336270222, 0.29312133800777945, 0.23554484865749536, 0.42053459131866955, 0.26572654865898526, 0.24926501481956825, 0.21093490104775275, 0.23477242598862058, 0.17306642859758903, 0.2714066003703829, 0.2629765758017598, 0.40185231958255274, 0.3664212070668236, 0.22765290302212565, 0.27468797619338536, 0.14211388732783456, 0.1908205859160241, 0.1097973646557771, 0.26017620833203836, 0.37589412397120114, 0.08011101838994748, 0.07036890519083051, 0.24605236750037357, 0.2014974314529878, 0.9999999999999998, 0.1563663386660356, 0.2722383666566824, 0.30188235502365796, 0.295971518627675, 0.11869148840979873, 0.13813269906856432, 0.3037880208149852, 0.23565903375536978, 0.35315109618009555, 0.2109457298135304, 0.137871154581462, 0.21791584900261812, 0.19656531895966972, 0.5664042727228571, 0.16158526658574895, 0.38903897254974795, 0.262456767029288, 0.27437756690486814, 0.2126441367223833, 0.27707336447272846, 0.13171185531351598, 0.26246992675691266, 0.6242398023251219, 0.19867815258540672, 0.232153686839642, 0.22987505772040345, 0.29910594462139584, 0.3017551142208161, 0.2275235372731414, 0.40945034942427594, 0.20307153530008426, 0.24131692571919014, 0.4994018977830873, 0.200305657230142, 0.613742532570363, 0.10383859226116593, 0.20723110693042496, 0.2779288517703388, 0.269351385060563, 0.22915827786945064, 0.043615609578311065, 0.23409273890155952], [0.30719645634616166, 0.3621502844620501, 0.2385821408813431, 0.300410967528426, 0.39830149363371714, 0.2642768940788183, 0.22087517576173066, 0.2192445737876874, 0.3474952084202293, 0.3223988695813551, 0.20907372710025118, 0.30886567246527696, 0.2782420508459725, 0.21401035693782153, 0.22995408589165506, 0.25960614087675626, 0.3223621410242058, 0.24419633478249575, 0.2863953288878252, 0.32631401704239626, 0.3870104843290274, 0.18831035516906894, 0.3099508028252801, 0.23338942617699787, 0.2734948900163551, 0.2550592442638898, 0.3413700200818095, 0.29449991763404215, 0.45961399760423916, 0.26623210667415015, 0.32968523282165807, 0.2707209390407011, 0.19545386968126766, 0.28023717358213485, 0.2584290086652222, 0.20361492920366098, 0.3301846346158586, 0.1563663386660356, 1.0, 0.2943234005578498, 0.3276471639103089, 0.26918656304671806, 0.1487881807918943, 0.2898344105598826, 0.3033739003413462, 0.2788434683949278, 0.31716454105062475, 0.267284760199038, 0.28804756821746447, 0.3138750608528822, 0.30075653856226836, 0.14732740640811604, 0.49653447872832723, 0.2912199792953212, 0.23590852053434141, 0.22264389623729863, 0.29879793812292493, 0.3237067059563211, 0.2677363171755736, 0.34329727787126296, 0.1888251939583325, 0.3251230473474458, 0.43001829617123655, 0.40337569966318165, 0.2872942889379275, 0.1861706199651774, 0.27723166157987766, 0.32377704623683984, 0.27449651503212924, 0.27950701984581977, 0.35368010009657164, 0.3364254149912237, 0.214077133842269, 0.3365374362493616, 0.2033661135945895, 0.3415251707574396, 0.3161459275080784, 0.2177895446847053, 0.28799065381300937, 0.4531111178509747], [0.3904016130916176, 0.33772388785317387, 0.3807994332244251, 0.4015878936869659, 0.4090629001750064, 0.22405497152468207, 0.2265554727897372, 0.32941587319707644, 0.43388087196348857, 0.3606566275880453, 0.4099163171876297, 0.23776321450023233, 0.3610136917546119, 0.31920165005550893, 0.19922097197040706, 0.3036148116211448, 0.21522783736026582, 0.29222297826266797, 0.39347829277143825, 0.39648826015106564, 0.3901272911952205, 0.4413293747601977, 0.37331911481302926, 0.3111014115128672, 0.29795943665986047, 0.27470927575394644, 0.5051196175127223, 0.33403872579868177, 0.3153607449574625, 0.29814206388537356, 0.43331774300038295, 0.3413650863155018, 0.24707891173643562, 0.4893862989999015, 0.35962491336796226, 0.37100541687334887, 0.3737593151822404, 0.2722383666566824, 0.2943234005578498, 1.0, 0.3889742189888994, 0.47908437217049704, 0.3924538897157883, 0.4414893429552471, 0.38097782581564316, 0.3191658992040183, 0.402541952683543, 0.259511567282136, 0.4666256762894643, 0.4629825368958009, 0.5378182723511179, 0.36657818292552663, 0.3630956887203226, 0.4348390368204578, 0.4756109704018184, 0.2804870846399877, 0.3971736871110893, 0.3900999564699372, 0.3644554898616177, 0.4274622949463869, 0.35912462602318707, 0.3802701601074515, 0.26746521523727435, 0.4088106774254988, 0.38990742234653036, 0.34287192335928823, 0.5637314593562082, 0.46583553999014604, 0.2688701215492659, 0.35236462608001307, 0.37939379061070216, 0.36627293694689506, 0.32441692434843, 0.49498227878112694, 0.3328556248086969, 0.30676718589645713, 0.38456514529597097, 0.2838665942000344, 0.3391461121441245, 0.49571137946862176], [0.2701464023631386, 0.27638593225759084, 0.30283216505038246, 0.3353034876559356, 0.2776125097000457, 0.3354014933643259, 0.31591408973419033, 0.2658548128035732, 0.2921455756156088, 0.3181437794706027, 0.26277549001350564, 0.22403675364812276, 0.31707062717912105, 0.22690489868613523, 0.30909664321515296, 0.25558107728614105, 0.4127654696039217, 0.41387250197054504, 0.2659341810870462, 0.33301109041025884, 0.34182300699099677, 0.473645587438986, 0.2988256332954182, 0.52288618555604, 0.44585357310934737, 0.6387411892209447, 0.7099794315659089, 0.3087773652660897, 0.37958386210850864, 0.48501981008176503, 0.35964216062130516, 0.2314689524255838, 0.30151122007706976, 0.5306457258885489, 0.35569144083412, 0.23506791159770024, 0.43644702991337525, 0.30188235502365796, 0.3276471639103089, 0.3889742189888994, 0.9999999999999996, 0.6691126471269887, 0.454802893457071, 0.31988528655002096, 0.3770711769917613, 0.2646681585859266, 0.24244128320958655, 0.3099854383075257, 0.4614214168628209, 0.3746015663398451, 0.2788846846420239, 0.3101001607966083, 0.4381407169415649, 0.3458313955086495, 0.3497303065010995, 0.36709939168811634, 0.29976453228238154, 0.34985722230250593, 0.29997937875035685, 0.6004317523024301, 0.40644168672779124, 0.32729381575566396, 0.34309117318471044, 0.5266457822561794, 0.37411027816704523, 0.23030329182879533, 0.3790387728410949, 0.336356498517386, 0.23567009275362932, 0.2643663075717392, 0.42179953469878295, 0.4060006544457394, 0.2758241289440039, 0.387337139987582, 0.3204590611497836, 0.329199987317007, 0.3439298797078609, 0.4309038774392474, 0.267144979714243, 0.4050327628671104], [0.3983971213778792, 0.3362178530688275, 0.4143876863407391, 0.33052419967899194, 0.32926515789324995, 0.39322322122134623, 0.3880105255961226, 0.35534136356758983, 0.3404295751122216, 0.39814041738996675, 0.31601481120870534, 0.22260040224815833, 0.45924151726647994, 0.2944767459302114, 0.32058169886613086, 0.322949810709543, 0.3902945170978704, 0.381350820655057, 0.37591689434182063, 0.37147208269812604, 0.3819445603154167, 0.32993141362042344, 0.29832068971342385, 0.33580263961166695, 0.32253468135983754, 0.5143476862890206, 0.7691324056444313, 0.35398107379812604, 0.4253101086928832, 0.5419598260609337, 0.41838869200452034, 0.330465815171189, 0.2979024233083585, 0.6190505552919614, 0.47111890831735315, 0.28195549946052545, 0.39603304562686026, 0.295971518627675, 0.26918656304671806, 0.47908437217049704, 0.6691126471269887, 1.0000000000000004, 0.4178063517607856, 0.296372931229585, 0.440504356822056, 0.35620406380432934, 0.33723281251317017, 0.26149135439213905, 0.4651075084354468, 0.22782284395682467, 0.3782485526644813, 0.3483636217206019, 0.28642642173583743, 0.3152165834725205, 0.45164436052828993, 0.3429054343309109, 0.41403453392165107, 0.3891063073426141, 0.3416446483090068, 0.4368802392150568, 0.46496654701284823, 0.38301274539656543, 0.33760873444434963, 0.45473040783774454, 0.43443215349719394, 0.23178033086275177, 0.318418448893536, 0.4680220497945446, 0.2778423110703413, 0.3635808659152967, 0.3400819156639781, 0.5618952104521769, 0.3769342864559662, 0.36085550029242114, 0.4720943654008291, 0.31679135604322517, 0.42399416284567404, 0.43405439571334087, 0.30288614519164675, 0.3948147004600199], [0.17651015245525015, 0.20293701484388868, 0.19599096024841278, 0.3365379799679311, 0.3060976683534846, 0.20250537375055, 0.1587424528729081, 0.2880706480449219, 0.2985329240001069, 0.19182715847126272, 0.1855696429803744, 0.18195681008472717, 0.4702013442078272, 0.15971253928930002, 0.15093517772033832, 0.21246270960795355, 0.2963021564291818, 0.40857288214826104, 0.26606961841506804, 0.2974038179783003, 0.2632713133914875, 0.46169088813573916, 0.20239349915547705, 0.24971044833171405, 0.24222163636889274, 0.3875708155562023, 0.4885034859683248, 0.176821694307283, 0.21211348387003842, 0.538447286133908, 0.4652001335237891, 0.13474509647525937, 0.2637085273216721, 0.42870631601633447, 0.4769840964736567, 0.17764581169032384, 0.30007988869747176, 0.11869148840979873, 0.1487881807918943, 0.3924538897157883, 0.454802893457071, 0.4178063517607856, 0.9999999999999992, 0.3170896821998698, 0.2306735793338184, 0.21086045910378565, 0.24702598738346382, 0.20866520130218438, 0.3728533130276992, 0.3649898447862151, 0.2567442945557837, 0.2660803773837164, 0.2105812193380549, 0.3784181902270958, 0.34638832648347684, 0.3964971148995351, 0.2404130402018121, 0.23898232176021073, 0.343571508774417, 0.3808660176720591, 0.23336937084372228, 0.2970232398660042, 0.26166925595498386, 0.3722944707375304, 0.30855200930855364, 0.28314597106675493, 0.17414922804426566, 0.2861107341368384, 0.17711604486260635, 0.21703489854060715, 0.23963254866082867, 0.3500995401535022, 0.21608263007463208, 0.34997903055410584, 0.26156621526277, 0.27186933655881923, 0.23538175223067623, 0.17343863195153658, 0.45926673951322033, 0.3766244637776478], [0.23888727903448392, 0.40431249553373466, 0.2642430867919877, 0.4633218125374172, 0.3071688030636252, 0.20513757677108194, 0.2906365597028078, 0.29942851662982534, 0.40783474648237705, 0.25790113212433774, 0.5043915238906533, 0.2300872126433011, 0.41641945318519447, 0.11661815845021169, 0.13129880704950758, 0.27392932015953975, 0.2818986936967528, 0.2853380300657586, 0.231078732940893, 0.28907427313429285, 0.23529446857196046, 0.3886233440204337, 0.24075773220959232, 0.5062471639280139, 0.28669513236660177, 0.2368607888474371, 0.29188315678976007, 0.2509748695006381, 0.3930156131073793, 0.2553776690463663, 0.5268643066128774, 0.2022353802527264, 0.279927818279525, 0.2001281603905868, 0.3150831932375575, 0.18554449207849708, 0.41760131643536197, 0.13813269906856432, 0.2898344105598826, 0.4414893429552471, 0.31988528655002096, 0.296372931229585, 0.3170896821998698, 0.9999999999999999, 0.28605327452547774, 0.1864356966541562, 0.4229783395969113, 0.3528762096499855, 0.3533369697374513, 0.5858486415877266, 0.5027185385613888, 0.221444680679002, 0.3834743404281093, 0.29171042753671184, 0.448693159490943, 0.33007918487506915, 0.22160762591835276, 0.21504165385403842, 0.4501288825929387, 0.3149015601000801, 0.25953473854171905, 0.4543122010956572, 0.4901380143495016, 0.5176680960022371, 0.28892119244857545, 0.42661252653770504, 0.45676672715000055, 0.4743786030620101, 0.25446544069877336, 0.2419677797868588, 0.3783023771230046, 0.3899854511181109, 0.1896336521616075, 0.491004684405616, 0.27399921448376624, 0.40748058383992203, 0.417624312675684, 0.26626804365287116, 0.3491191011992093, 0.5741562229674463], [0.886244034282291, 0.536722225447605, 0.8132707683688756, 0.35847407303433865, 0.3340486588028754, 0.33324251236946156, 0.33725462375122817, 0.34339681237105985, 0.42379214804442866, 0.8953817822823456, 0.217202587238444, 0.24572246253242885, 0.2814406230176919, 0.7808083440620677, 0.5261528335423583, 0.3653022437019353, 0.4020395728492586, 0.2896390452699077, 0.6786859741976983, 0.3776708108368876, 0.6868401790963246, 0.21749370800244033, 0.7850198748251029, 0.369862118743774, 0.3679928411027028, 0.3496342213556881, 0.40464322516890633, 0.6847970562915499, 0.5248397304703167, 0.4677944381765483, 0.2728027368297241, 0.8673563128778191, 0.3226232990623002, 0.2694461008140602, 0.23709978544156418, 0.7246692979103703, 0.3295185097632861, 0.3037880208149852, 0.3033739003413462, 0.38097782581564316, 0.3770711769917613, 0.440504356822056, 0.2306735793338184, 0.28605327452547774, 1.0, 0.8468696749415112, 0.2949232023526349, 0.5656367161423637, 0.34837122954526045, 0.21262017729150898, 0.26214851211463724, 0.3662788514905748, 0.31262492689391363, 0.2539049588000132, 0.27357794626668297, 0.2589689935827377, 0.6531653606895528, 0.6096978783428649, 0.3098877426263005, 0.2932732679541427, 0.41056120313411365, 0.4242247854471538, 0.27036985370570726, 0.3625328108688244, 0.6935875501690538, 0.32099914656985284, 0.3807947926911196, 0.7133385384291079, 0.34698803007317625, 0.6808163432700551, 0.36241819814787135, 0.327360649112994, 0.402734356657855, 0.27514633561614943, 0.37384414095708846, 0.45725991692534873, 0.2947565645102187, 0.307252812392033, 0.23066421924639652, 0.4206761297162788], [0.8559315219928904, 0.5064184703916274, 0.7180013102311871, 0.2692672967102283, 0.27983865790535056, 0.2849454271913585, 0.2916514708728376, 0.3416029956415901, 0.3398772194137164, 0.8330161132028797, 0.15996731552615975, 0.30180200075292934, 0.29444031480755006, 0.8559465764025389, 0.5675537365503522, 0.3062629777419504, 0.39191757093611, 0.2286687645546151, 0.7387583388218132, 0.3031436473798107, 0.7256003320812685, 0.11055954795365233, 0.8202687274021367, 0.3283179107486963, 0.28912967378469795, 0.293838519185292, 0.3452174257435845, 0.6749360859839453, 0.424566968726137, 0.4654389910785265, 0.25155629250781003, 0.8630341057849651, 0.22001894359741997, 0.17877706603063986, 0.1815144914012266, 0.7631605614107296, 0.2667146860557585, 0.23565903375536978, 0.2788434683949278, 0.3191658992040183, 0.2646681585859266, 0.35620406380432934, 0.21086045910378565, 0.1864356966541562, 0.8468696749415112, 1.0, 0.28080891162949717, 0.6656150814407686, 0.21214199442902304, 0.18645054124870333, 0.25950118702175606, 0.2765224160276316, 0.32414727952157263, 0.20003937199080868, 0.16909848951330742, 0.24252366451542506, 0.6717820495460239, 0.5934688362317444, 0.25502205702974895, 0.23755129189317897, 0.2550361586899828, 0.33982117769086845, 0.19696354917750108, 0.22683921830777362, 0.7007427498826646, 0.2703657116363196, 0.3117519643979879, 0.6094204011676819, 0.28122027159566665, 0.6858223210827952, 0.28200489753491403, 0.29738162397094375, 0.2843967929051186, 0.20016115762354672, 0.3188981730262507, 0.46347665597921417, 0.26757040008325433, 0.1360027401861056, 0.21786303835086193, 0.34651995689450243], [0.28063017113270444, 0.3459533502025474, 0.3277030548129241, 0.2504948344284085, 0.2002306401246367, 0.3980983473536174, 0.43798092731095817, 0.723058616247273, 0.5368809303343737, 0.28293204715895093, 0.293616626255394, 0.20690946913522545, 0.338208105171905, 0.2511637887927035, 0.08824234721166233, 0.5495521464169261, 0.5739210618504499, 0.5007389911774743, 0.30746629486540367, 0.22894109340190416, 0.2512588808428057, 0.28904439069234805, 0.36471582466641084, 0.3355337416505389, 0.3527188882616467, 0.2661327982115323, 0.2682393075606165, 0.22489544492955008, 0.3458677258605101, 0.2337913982164315, 0.39947454666350335, 0.28449497175695565, 0.4723736065982108, 0.18165113716942088, 0.2871107335668412, 0.32571483113370864, 0.33335294138693733, 0.35315109618009555, 0.31716454105062475, 0.402541952683543, 0.24244128320958655, 0.33723281251317017, 0.24702598738346382, 0.4229783395969113, 0.2949232023526349, 0.28080891162949717, 0.9999999999999999, 0.2833144597007033, 0.36548977036003394, 0.26489811563645305, 0.2946344992811691, 0.4511128489618475, 0.36105925810964706, 0.500732428216214, 0.319087027495616, 0.5329247529430585, 0.23716284754847672, 0.23762764902297642, 0.2823594451646386, 0.28268445075897713, 0.4299637083728872, 0.41950476115786695, 0.371632283240659, 0.28922105413571364, 0.37362948445235583, 0.350132487269765, 0.495817602340976, 0.4690899680970457, 0.48225162249162346, 0.29139392597889424, 0.5095570006444176, 0.33008302128109834, 0.4404580956255848, 0.2160878341413948, 0.38915463564416153, 0.4422104149604741, 0.16819991218739433, 0.09852179107469443, 0.24997434644247174, 0.3505850909246872], [0.5427069899252455, 0.4041083077702533, 0.5337827018335461, 0.2455667260512041, 0.2741381888921339, 0.3285411450824842, 0.2900245411278492, 0.18381377336858984, 0.3526182462739993, 0.5407074873655775, 0.20463686275466475, 0.2489824148116762, 0.36516948810945343, 0.5851473677883497, 0.3212374269974031, 0.2899365195477035, 0.4149901310368883, 0.33860555904988154, 0.4645674555924635, 0.22891230924356926, 0.5590546207291546, 0.07834106427626732, 0.6676253959859257, 0.37446507331020584, 0.32812826800017525, 0.2708590058634252, 0.26981393651472646, 0.4802265960189748, 0.4189043874020819, 0.34393613098113685, 0.3466304152868473, 0.6049135624755517, 0.2933120081698525, 0.07248348899457273, 0.18310503384381355, 0.5313464626268296, 0.275992081594293, 0.2109457298135304, 0.267284760199038, 0.259511567282136, 0.3099854383075257, 0.26149135439213905, 0.20866520130218438, 0.3528762096499855, 0.5656367161423637, 0.6656150814407686, 0.2833144597007033, 1.0000000000000002, 0.16561890017225364, 0.4187774182600705, 0.12648082831085575, 0.2108508427533222, 0.4408775049304402, 0.29011712757783886, 0.23692018678691928, 0.4025819282203664, 0.4329898077152985, 0.42829945083567317, 0.22723111642905663, 0.27076142021214367, 0.19946504186832476, 0.3571396656432127, 0.27445860509835246, 0.18134429105980013, 0.5981862842048438, 0.288028834533352, 0.31379537319489154, 0.5482173862107946, 0.2198000168255786, 0.5816495409936321, 0.2942047131671922, 0.2774530144218762, 0.22204711273811817, 0.2352894259868325, 0.19423039940780262, 0.4325203168998194, 0.2578369617567781, 0.1197125322711742, 0.23509386705397767, 0.44640778930182584], [0.3181618545045337, 0.2617232317813607, 0.283889899529689, 0.35515208134187337, 0.37865694193688154, 0.3129684554357779, 0.28781029828335913, 0.3132158029088498, 0.2974259479386445, 0.3002201604481681, 0.3281829751610139, 0.23236651371735517, 0.4359068829504822, 0.2284823321170727, 0.14935674968355048, 0.2943820157419814, 0.26706417517135445, 0.44956265305560933, 0.21608239940944424, 0.27505875991569023, 0.23667983881969024, 0.40006428954571915, 0.28182166511665996, 0.36576113076190886, 0.33733655909581967, 0.27281004003667975, 0.5841270874974651, 0.25314553400935924, 0.35386561761361957, 0.35581939491550996, 0.43608788935738885, 0.2225540825922941, 0.29448571458722417, 0.8086589004775693, 0.5756396833666477, 0.2541810480702734, 0.3121916269678724, 0.137871154581462, 0.28804756821746447, 0.4666256762894643, 0.4614214168628209, 0.4651075084354468, 0.3728533130276992, 0.3533369697374513, 0.34837122954526045, 0.21214199442902304, 0.36548977036003394, 0.16561890017225364, 1.0000000000000009, 0.3467698604707441, 0.24677296455209508, 0.21286830064108989, 0.36623276892026635, 0.42052318272473777, 0.42208668153357454, 0.36061693326091304, 0.24943458885804876, 0.2705020654378991, 0.33910687441720266, 0.42317155543517715, 0.35662071547392754, 0.19964437779647445, 0.35690808992500545, 0.4829108400502972, 0.2845279178807325, 0.21078253739872865, 0.5812894657287778, 0.3222031080048031, 0.319588831344269, 0.2260421123386195, 0.3630646175840847, 0.2649731181600254, 0.2476451025635099, 0.48603442347087367, 0.24945061213730438, 0.31454704641798537, 0.30946520857305926, 0.605856453219742, 0.42956256872128035, 0.4174320736904771], [0.19911699298092217, 0.35294002168181493, 0.19088870541611452, 0.39549139300998093, 0.34887832030081695, 0.20964010333772576, 0.3017382743306469, 0.17724818927264235, 0.3282225426724178, 0.2218519582916838, 0.6409482180202571, 0.2594637760159646, 0.39646283396073867, 0.16299902860026605, 0.17730864224101345, 0.18513636289943042, 0.2249373844201593, 0.43853457216923264, 0.20620850955293665, 0.2078228283457359, 0.31933496125831223, 0.3383021728335527, 0.3043408823188918, 0.4747877579492785, 0.4158081239268884, 0.24826736821782291, 0.36284626386551727, 0.27042955241249933, 0.3587205523908593, 0.25776391701393075, 0.4474377628782241, 0.16205084515849474, 0.2388685156176515, 0.2768737331762765, 0.3441939197190779, 0.17544823400777287, 0.33571387696962607, 0.21791584900261812, 0.3138750608528822, 0.4629825368958009, 0.3746015663398451, 0.22782284395682467, 0.3649898447862151, 0.5858486415877266, 0.21262017729150898, 0.18645054124870333, 0.26489811563645305, 0.4187774182600705, 0.3467698604707441, 1.0000000000000002, 0.32862548085229826, 0.2072258822735315, 0.5741505308079355, 0.4277077316906948, 0.6735508441291094, 0.40653785325089786, 0.2367028720666613, 0.23293139613707334, 0.37685913501221135, 0.37279233575229664, 0.21830584973207826, 0.3543763809233475, 0.4768207717302251, 0.41347129203826594, 0.2991625534701181, 0.3953674837981951, 0.37368471525750946, 0.34933133813963535, 0.18516492442849525, 0.24624046604825317, 0.39998656902667873, 0.28632812018420417, 0.19981997087808948, 0.6305398222164696, 0.12281070525770282, 0.3382561801816242, 0.4804775531897538, 0.23881882294402398, 0.3567768795992251, 0.5904387041415815], [0.306282953271829, 0.3771512748331503, 0.32723600151467724, 0.25391027543404676, 0.3563206464046488, 0.1481286879198691, 0.1946607038154335, 0.36614206173571817, 0.2855174666368638, 0.3190530450981014, 0.3034919227437707, 0.25260146081485224, 0.37150513217230985, 0.17011987846783808, 0.28685075640360114, 0.23426280773347827, 0.27029672546176564, 0.17597985734272134, 0.2865166543460479, 0.28437584552033796, 0.30454151845801714, 0.26159494868570693, 0.22448928582020145, 0.3376212330619654, 0.19655885295689562, 0.2463523393487904, 0.3533763440498337, 0.24903232475795425, 0.3045008780518659, 0.35044569922727875, 0.34255613688771125, 0.25202238714943404, 0.21320997211282228, 0.23047431290744996, 0.2652065826141435, 0.19906121467967766, 0.29468534137641667, 0.19656531895966972, 0.30075653856226836, 0.5378182723511179, 0.2788846846420239, 0.3782485526644813, 0.2567442945557837, 0.5027185385613888, 0.26214851211463724, 0.25950118702175606, 0.2946344992811691, 0.12648082831085575, 0.24677296455209508, 0.32862548085229826, 0.9999999999999998, 0.30137967480290795, 0.3199596117527609, 0.21920220598359408, 0.28431513352746934, 0.20504512539997308, 0.29664685072969266, 0.3703431115031063, 0.37440150134516414, 0.3404759908066124, 0.27072824204995194, 0.27653758194421973, 0.3182301557037157, 0.3810056068646588, 0.284686583912362, 0.19074212472491506, 0.39452999997633875, 0.3377962516842607, 0.24333015399921462, 0.2738977486172569, 0.346392846158033, 0.29777528346314514, 0.23057006157181031, 0.3035858769389075, 0.4623947298947193, 0.29455411989482955, 0.5313831132550694, 0.24458968329273062, 0.16920264470093047, 0.45025742154598536], [0.33594254570584026, 0.2758895230808607, 0.46700994300334076, 0.26277824822369805, 0.2205033588272704, 0.41996810697280157, 0.436066168100069, 0.5018961034183105, 0.3315866655618904, 0.3577114743736835, 0.21922181820633735, 0.055257208934750404, 0.19739953250622, 0.17501353292422384, 0.32558646056574725, 0.4819231036817436, 0.6331547930822574, 0.42294831380482034, 0.31988701553517496, 0.3430886005429958, 0.25477574177553497, 0.18515091841544654, 0.24408383458870297, 0.3223002116550239, 0.47714273670612545, 0.43129607143100984, 0.2226535099939604, 0.22891601899714253, 0.255963766175481, 0.3403060591494974, 0.1578475621723802, 0.3080982052189132, 0.5730814627366603, 0.1815133098929446, 0.14104406485156065, 0.23959296066247573, 0.28977371360893145, 0.5664042727228571, 0.14732740640811604, 0.36657818292552663, 0.3101001607966083, 0.3483636217206019, 0.2660803773837164, 0.221444680679002, 0.3662788514905748, 0.2765224160276316, 0.4511128489618475, 0.2108508427533222, 0.21286830064108989, 0.2072258822735315, 0.30137967480290795, 1.0000000000000002, 0.22056843892884925, 0.4333308035276542, 0.2521239692126087, 0.4321095919822007, 0.31297750858068774, 0.37232363215007547, 0.3548733617947184, 0.3411494675542311, 0.6820525051707993, 0.3528932001300459, 0.22155111282525003, 0.3219259737255511, 0.3424422260629443, 0.2666811852687986, 0.3269799426188571, 0.38988441062108914, 0.47600676902149686, 0.2620389724770911, 0.5636414528144589, 0.20815903413320397, 0.5943117038123378, 0.23962172275734997, 0.22698425777941528, 0.3458604766404554, 0.25384883631342825, 0.24120389017740707, 0.17004188851032875, 0.414419486630054], [0.24469182679149315, 0.42688227534559997, 0.24167499052532726, 0.3523385774852804, 0.398837831206201, 0.30004977326520266, 0.3107016892297302, 0.23373366740639304, 0.44633539960724716, 0.2895184280196008, 0.3855859925861843, 0.3593124152791997, 0.34668772738104925, 0.2220320705306672, 0.209602016211612, 0.3543376665666899, 0.39856098334312734, 0.338978136160404, 0.27275369186644266, 0.32273079610654676, 0.409497292426135, 0.21385445515946327, 0.34402033869256887, 0.39646949830417055, 0.37054756974843917, 0.28698524890748833, 0.3937444677463056, 0.224438053044327, 0.5407806590204328, 0.2608060579504614, 0.39105144318890117, 0.26123403469676404, 0.23514567323764846, 0.3049148509019229, 0.2769395053506256, 0.19672751984780773, 0.3555971102010993, 0.16158526658574895, 0.49653447872832723, 0.3630956887203226, 0.4381407169415649, 0.28642642173583743, 0.2105812193380549, 0.3834743404281093, 0.31262492689391363, 0.32414727952157263, 0.36105925810964706, 0.4408775049304402, 0.36623276892026635, 0.5741505308079355, 0.3199596117527609, 0.22056843892884925, 1.0000000000000007, 0.328470001253067, 0.3669014241370054, 0.3574237790339375, 0.29202155014576453, 0.40575280261111635, 0.3447372912682575, 0.5751170455549318, 0.25798758673376887, 0.3872386644995306, 0.49217809030083026, 0.42939354178951994, 0.304050416225345, 0.2246858743529151, 0.4198238809162357, 0.3180761345780313, 0.3334370472230136, 0.2768864778917566, 0.5301774102146368, 0.3419415826990786, 0.20115490505283998, 0.4339895073034047, 0.1672840886981274, 0.39272567284650073, 0.4728267634664343, 0.191209698400094, 0.29417857956393817, 0.6696399129015878], [0.26429597950619377, 0.3556121609982409, 0.30753149032747046, 0.17831954085894763, 0.32521910130382004, 0.49263696305914517, 0.48735906807603424, 0.4333847931532391, 0.4457159692884175, 0.29190323342651925, 0.21194346819455206, 0.14089543670112187, 0.3261919204852838, 0.20058634354126287, 0.14278607533336815, 0.5277220700219742, 0.4831359403959465, 0.6265992077116861, 0.27796610912234043, 0.21664469262385855, 0.21298868632871648, 0.200462567309536, 0.30962868868545723, 0.28081481911181244, 0.5745760239222504, 0.3693329420539021, 0.3230186200080678, 0.21867318757655121, 0.29644210184793196, 0.2058766401467794, 0.2497046054325925, 0.24381341343887586, 0.5672319169430324, 0.2758124850623932, 0.21355351413297252, 0.2598140412380932, 0.20699839181822877, 0.38903897254974795, 0.2912199792953212, 0.4348390368204578, 0.3458313955086495, 0.3152165834725205, 0.3784181902270958, 0.29171042753671184, 0.2539049588000132, 0.20003937199080868, 0.500732428216214, 0.29011712757783886, 0.42052318272473777, 0.4277077316906948, 0.21920220598359408, 0.4333308035276542, 0.328470001253067, 1.0000000000000002, 0.3344157230460437, 0.5642644012436999, 0.2026709894834985, 0.24180619416331273, 0.3631970148165856, 0.25542564215807223, 0.3618677670818802, 0.43295832121155164, 0.4172958732927147, 0.32213039068781674, 0.3769867290029354, 0.48844006551876723, 0.31194972970117507, 0.3921251207109947, 0.49981290642842147, 0.18792366375663497, 0.42623269115742324, 0.2567780318547015, 0.3542527880133713, 0.30644637882536707, 0.22270258359746667, 0.37361644286962437, 0.3250481752546061, 0.39757744370115317, 0.21722435753450478, 0.44278043718224225], [0.2595342650726048, 0.3533519072384856, 0.249381880794692, 0.29703175180842967, 0.33907769043609365, 0.2126691495262752, 0.32967854511779865, 0.2036582556317381, 0.2836761086242608, 0.2748253470167348, 0.7970542193511907, 0.18777911156861032, 0.5286245159522787, 0.17442394895932722, 0.17209242104419992, 0.2370427652364962, 0.24173484592892402, 0.38401357238847267, 0.18227373874867797, 0.2332328359619316, 0.26891588050737336, 0.38693900627433386, 0.2520392254312469, 0.318582173390137, 0.34689084051038677, 0.32498721126786967, 0.4861327014895687, 0.28053269407996134, 0.31567709044222625, 0.37082042916261027, 0.5150898246209878, 0.16736218949528076, 0.2969438017351236, 0.41576110057787125, 0.4801432050637918, 0.15407253110123767, 0.30359655275844344, 0.262456767029288, 0.23590852053434141, 0.4756109704018184, 0.3497303065010995, 0.45164436052828993, 0.34638832648347684, 0.448693159490943, 0.27357794626668297, 0.16909848951330742, 0.319087027495616, 0.23692018678691928, 0.42208668153357454, 0.6735508441291094, 0.28431513352746934, 0.2521239692126087, 0.3669014241370054, 0.3344157230460437, 0.9999999999999998, 0.32924200688002353, 0.26344416400831994, 0.28489503844598274, 0.28350636715519406, 0.37874439018902434, 0.3624500231453889, 0.2931449121780911, 0.3655732887458773, 0.46858398770345144, 0.2976080593795202, 0.28368173402750596, 0.35334262765934216, 0.38460744608325664, 0.2298754012561986, 0.26839603131294437, 0.37097881273531247, 0.44580945041693243, 0.2896762210983425, 0.5213541097213459, 0.24447610787201882, 0.2660890448005435, 0.41380736376454424, 0.291600469443491, 0.3524617985838401, 0.4055543516456045], [0.2195776356719417, 0.29002952180395103, 0.3076266752222304, 0.23557444268507935, 0.24761445256713693, 0.6240197366369755, 0.4878773230084924, 0.4272248801711544, 0.4034697785053869, 0.26364634890310046, 0.20697134289361332, 0.13743165370699295, 0.45047845730456515, 0.18242133024849322, 0.15691105984496587, 0.5586621018189769, 0.6492047565777864, 0.9257326507754763, 0.2916101418272159, 0.2123645799413586, 0.2363627264985445, 0.18849532978890593, 0.3265707438769949, 0.351007423727022, 0.5322153836723593, 0.33960576482865956, 0.3480421616792166, 0.21291572043476983, 0.3453058916619871, 0.33073334010126587, 0.3443533598217907, 0.23692938934404498, 0.5936605808356836, 0.2130925226850503, 0.39391415033669247, 0.21826746926739155, 0.3262996542466141, 0.27437756690486814, 0.22264389623729863, 0.2804870846399877, 0.36709939168811634, 0.3429054343309109, 0.3964971148995351, 0.33007918487506915, 0.2589689935827377, 0.24252366451542506, 0.5329247529430585, 0.4025819282203664, 0.36061693326091304, 0.40653785325089786, 0.20504512539997308, 0.4321095919822007, 0.3574237790339375, 0.5642644012436999, 0.32924200688002353, 1.0, 0.21757650559109953, 0.1983809704321211, 0.3143319804039265, 0.29160641775245794, 0.3811340804539899, 0.39613920430018734, 0.3721526544042356, 0.35001973247404994, 0.4692389852363569, 0.28067219104487046, 0.26305588093635457, 0.30866905525433164, 0.4932065115719485, 0.28004786233887735, 0.3479197820874799, 0.20059473993962446, 0.39934763206653673, 0.26363747405424476, 0.19331066380045137, 0.3536367866754411, 0.20443686764949998, 0.20107510358907765, 0.3132471195514815, 0.3866757670843409], [0.6830442561565426, 0.49874409775343886, 0.5481260116575385, 0.4160603193339583, 0.2770568851944972, 0.17145578652693655, 0.2775966014340971, 0.22762101194865772, 0.2767423488515831, 0.6052741290465232, 0.18288845676822418, 0.17861489796762015, 0.31139278627815414, 0.7074552192003214, 0.7628170847054276, 0.2204344258255724, 0.23643225607531393, 0.22320578974311484, 0.8751051375331831, 0.4914569723182862, 0.8076818396305738, 0.3190018933131803, 0.6774396789999197, 0.23760735938887764, 0.19517458284281664, 0.28640278816156994, 0.4456328359591353, 0.7257532614439792, 0.519312418162257, 0.47229405817137377, 0.25490221144495456, 0.7142809497593893, 0.2388936568495098, 0.30906556302982, 0.3584684088021094, 0.6275241480072702, 0.45319564246988187, 0.2126441367223833, 0.29879793812292493, 0.3971736871110893, 0.29976453228238154, 0.41403453392165107, 0.2404130402018121, 0.22160762591835276, 0.6531653606895528, 0.6717820495460239, 0.23716284754847672, 0.4329898077152985, 0.24943458885804876, 0.2367028720666613, 0.29664685072969266, 0.31297750858068774, 0.29202155014576453, 0.2026709894834985, 0.26344416400831994, 0.21757650559109953, 1.0, 0.5821392118451745, 0.3458236078621772, 0.32690869060721633, 0.2763222056886705, 0.4118189399919715, 0.20463774928727535, 0.3525812101438597, 0.6834638246035677, 0.25869571747991404, 0.32240531026153263, 0.582772428882803, 0.18878740593816024, 0.7060975288110762, 0.22029102439137233, 0.32281862183197696, 0.2808182387715484, 0.28982132111819703, 0.2887720803641638, 0.4094461466878475, 0.304857014112798, 0.25617777166660965, 0.27210391528013567, 0.4158520126859966], [0.6279890488540656, 0.6067103962040388, 0.6194440303585469, 0.31588285010284645, 0.4182008030992102, 0.2678756798085181, 0.3343538752271509, 0.3722472849968418, 0.4780866030511542, 0.5608196622957746, 0.24482821967424037, 0.3835770258507729, 0.34658516579224385, 0.5721416437059196, 0.47472934763687646, 0.34413007987880456, 0.31839897338957035, 0.2213418738225604, 0.5661061438390291, 0.40204909967308916, 0.675413096219341, 0.1645796246387442, 0.6099641723126625, 0.22307160004374005, 0.346395370406985, 0.33914168449615856, 0.39618388079369515, 0.6749345544247674, 0.5105666848403129, 0.52776135846173, 0.22193631301714914, 0.5715985381725132, 0.3045090984140033, 0.2860311517498359, 0.31903446417909975, 0.4565109763250674, 0.2505907745935778, 0.27707336447272846, 0.3237067059563211, 0.3900999564699372, 0.34985722230250593, 0.3891063073426141, 0.23898232176021073, 0.21504165385403842, 0.6096978783428649, 0.5934688362317444, 0.23762764902297642, 0.42829945083567317, 0.2705020654378991, 0.23293139613707334, 0.3703431115031063, 0.37232363215007547, 0.40575280261111635, 0.24180619416331273, 0.28489503844598274, 0.1983809704321211, 0.5821392118451745, 1.0000000000000004, 0.303863362934511, 0.3357412151484856, 0.35516607186399574, 0.4820035134542169, 0.319081733818937, 0.3793485453372976, 0.5776806361099718, 0.27254224137550576, 0.2657516198998775, 0.585979793068947, 0.34963137216199713, 0.7051164216571058, 0.4260111155843325, 0.453294668413872, 0.3357574099368542, 0.26542003414897836, 0.2600338055185982, 0.5004424092380245, 0.32038314329786927, 0.20635397103011205, 0.18453812244151574, 0.435342749273163], [0.2874097144695626, 0.3892513230872669, 0.31952202580125794, 0.49200828200122193, 0.5217676793057715, 0.2131845591902365, 0.3082231760264787, 0.27740294758797196, 0.3087711603450316, 0.304114213141139, 0.3016813554234773, 0.2304872221608237, 0.35409697566074616, 0.15538121529237112, 0.3542618035330598, 0.2787736858660504, 0.3969047971607621, 0.29110403976720456, 0.3046649550603461, 0.4086250524546491, 0.3564195447554134, 0.2329374646372765, 0.22588654104765565, 0.3492733344147065, 0.3257428319103982, 0.3283622966268247, 0.37149226139170477, 0.25396553991790255, 0.5099770589545851, 0.3300458176776029, 0.24541765570525453, 0.22426942207519973, 0.2504510424229599, 0.3191880338455922, 0.35891812291198116, 0.21000759816119824, 0.43255656324519387, 0.13171185531351598, 0.2677363171755736, 0.3644554898616177, 0.29997937875035685, 0.3416446483090068, 0.343571508774417, 0.4501288825929387, 0.3098877426263005, 0.25502205702974895, 0.2823594451646386, 0.22723111642905663, 0.33910687441720266, 0.37685913501221135, 0.37440150134516414, 0.3548733617947184, 0.3447372912682575, 0.3631970148165856, 0.28350636715519406, 0.3143319804039265, 0.3458236078621772, 0.303863362934511, 1.0000000000000004, 0.3356082680332588, 0.25598907618408206, 0.43992633132855036, 0.4344009710155047, 0.639686514249653, 0.31025965952692036, 0.3881327517943636, 0.3173127962402389, 0.35912799430749864, 0.33707697377006274, 0.2199569993411259, 0.3462545468420359, 0.2999350741075599, 0.22304994634087688, 0.5758614281686905, 0.2668742106837214, 0.27254504174174676, 0.40410381985768495, 0.3801627999478173, 0.25770245132345365, 0.6437853253782546], [0.18867515211667368, 0.3608472427799329, 0.22077365926307818, 0.4348842726055221, 0.3348183984759456, 0.21131240564703724, 0.23010732489753144, 0.28923155409867235, 0.3692916833260621, 0.21974039530737738, 0.30555001321048747, 0.19442611695871498, 0.3433760748173271, 0.1286121935126151, 0.4010846777201868, 0.1489261498177657, 0.368745546790952, 0.29977554009252594, 0.21375287527922404, 0.40358391535599913, 0.31658428860311205, 0.5278694570395609, 0.18098372879905011, 0.3809819169402587, 0.32047101954986923, 0.6024783815207494, 0.5882655893000396, 0.14654343812723844, 0.36100410115246073, 0.33293212242066567, 0.4100765218380308, 0.13950368078807307, 0.23636307363443781, 0.47096982315507296, 0.36276302222650314, 0.12971511910602676, 0.42599748741487614, 0.26246992675691266, 0.34329727787126296, 0.4274622949463869, 0.6004317523024301, 0.4368802392150568, 0.3808660176720591, 0.3149015601000801, 0.2932732679541427, 0.23755129189317897, 0.28268445075897713, 0.27076142021214367, 0.42317155543517715, 0.37279233575229664, 0.3404759908066124, 0.3411494675542311, 0.5751170455549318, 0.25542564215807223, 0.37874439018902434, 0.29160641775245794, 0.32690869060721633, 0.3357412151484856, 0.3356082680332588, 1.0000000000000002, 0.3334580551540669, 0.3356792722126896, 0.31485849058060533, 0.5072346921543569, 0.28627164807633576, 0.221682613462691, 0.434811496966908, 0.19761853931716597, 0.13862287435124998, 0.21283348004192476, 0.5185885284817929, 0.3358261741517925, 0.21411812319986528, 0.4332438150709539, 0.19540502278203054, 0.27185317988360974, 0.342201332396496, 0.21985983370361556, 0.3416843203209212, 0.5587119940070596], [0.3208895917301648, 0.3288989100630394, 0.41960009889224875, 0.32000345945391995, 0.2348561547895721, 0.41312600821134815, 0.35833528151157035, 0.4083645005926127, 0.3014426238978215, 0.39091792665795044, 0.30828344430527266, 0.15016541002338818, 0.24043027879619913, 0.20075391678442375, 0.22956239760728897, 0.3192618598142083, 0.5007960670117764, 0.360717568470879, 0.27423930755917286, 0.3388768203764744, 0.20513361376019568, 0.12390148616806358, 0.24092344138434663, 0.28219611840591735, 0.3908858040322034, 0.3773286978796604, 0.3583432335667067, 0.22652991178027232, 0.2837265414110982, 0.30726043140083986, 0.22913248991934498, 0.27235524284409135, 0.3956878142208434, 0.29047219790432915, 0.24280062371544453, 0.2346819300770203, 0.3108525914634764, 0.6242398023251219, 0.1888251939583325, 0.35912462602318707, 0.40644168672779124, 0.46496654701284823, 0.23336937084372228, 0.25953473854171905, 0.41056120313411365, 0.2550361586899828, 0.4299637083728872, 0.19946504186832476, 0.35662071547392754, 0.21830584973207826, 0.27072824204995194, 0.6820525051707993, 0.25798758673376887, 0.3618677670818802, 0.3624500231453889, 0.3811340804539899, 0.2763222056886705, 0.35516607186399574, 0.25598907618408206, 0.3334580551540669, 0.9999999999999993, 0.31645487400122563, 0.25052914796587455, 0.2982668751799843, 0.27577703846798984, 0.24256960373297454, 0.3365361039492777, 0.50741287584035, 0.2936072967556549, 0.23461203474744569, 0.5434851672862827, 0.2727913250626361, 0.8569639513561214, 0.26973571859076156, 0.3453367830903581, 0.3687578758687894, 0.2431318268585848, 0.3422289047628694, 0.19238193843061047, 0.38201289553213813], [0.3725303697005776, 0.6414317300834135, 0.3752385038767132, 0.3899384795853549, 0.2927018744237876, 0.36813902762897105, 0.2970018611624262, 0.4781034466270666, 0.7549058527218347, 0.40846256405448933, 0.28413115712741804, 0.2318653463549879, 0.3088113767406265, 0.28163954174557104, 0.25789321159204515, 0.3921216698654275, 0.37586264444864825, 0.39364165602163503, 0.3773610217523813, 0.5563752572335308, 0.3888353908336951, 0.2786496427084678, 0.3623945721960228, 0.22414286652016968, 0.2909617620097835, 0.3454850397439434, 0.3463734384774339, 0.3352532645159034, 0.70440043203456, 0.3785634351050032, 0.21932578661272317, 0.36623672772695504, 0.38567390626274023, 0.2031342793011724, 0.1966845191064731, 0.3110920599107115, 0.43780275531482327, 0.19867815258540672, 0.3251230473474458, 0.3802701601074515, 0.32729381575566396, 0.38301274539656543, 0.2970232398660042, 0.4543122010956572, 0.4242247854471538, 0.33982117769086845, 0.41950476115786695, 0.3571396656432127, 0.19964437779647445, 0.3543763809233475, 0.27653758194421973, 0.3528932001300459, 0.3872386644995306, 0.43295832121155164, 0.2931449121780911, 0.39613920430018734, 0.4118189399919715, 0.4820035134542169, 0.43992633132855036, 0.3356792722126896, 0.31645487400122563, 1.0, 0.5366288689912746, 0.37898967362657154, 0.5156107269837911, 0.36152176910534156, 0.2010342650198459, 0.5426454192428825, 0.32656191698662096, 0.3626396849255885, 0.3152935653709497, 0.47141207340320707, 0.37502046723887417, 0.35948240974651174, 0.23280001483591756, 0.47954144589061, 0.36965923733907724, 0.16054422829017856, 0.2235186979606017, 0.579030240310771], [0.2253764992171362, 0.37653992330698416, 0.25612673798363295, 0.43693129677595777, 0.40965004587376963, 0.3061435935939961, 0.3654048673577831, 0.3477596935978145, 0.4106219426979594, 0.2575903227311651, 0.35538801857236224, 0.303995413812125, 0.3365568013389615, 0.1337750651789686, 0.18240473729392176, 0.3403389919192714, 0.4021649261910731, 0.36455994243598144, 0.22536993810064881, 0.3608617030694139, 0.2826896142841534, 0.24869524394482823, 0.2843263049638903, 0.3181367182765926, 0.3665679477240401, 0.34930805229479517, 0.40759834820779584, 0.17178787817648905, 0.5419079908485994, 0.26305077351750483, 0.3250102638399074, 0.2060113074186531, 0.360195973023451, 0.2411234907012011, 0.2515528288054334, 0.24117229855037453, 0.5061990461052918, 0.232153686839642, 0.43001829617123655, 0.26746521523727435, 0.34309117318471044, 0.33760873444434963, 0.26166925595498386, 0.4901380143495016, 0.27036985370570726, 0.19696354917750108, 0.371632283240659, 0.27445860509835246, 0.35690808992500545, 0.4768207717302251, 0.3182301557037157, 0.22155111282525003, 0.49217809030083026, 0.4172958732927147, 0.3655732887458773, 0.3721526544042356, 0.20463774928727535, 0.319081733818937, 0.4344009710155047, 0.31485849058060533, 0.25052914796587455, 0.5366288689912746, 1.0000000000000007, 0.5323915734238904, 0.3753402849743182, 0.2920527630634996, 0.2652535542576672, 0.37912394776057656, 0.311040726537148, 0.1851318344007647, 0.3617359941882358, 0.4048962053249863, 0.24819870005190187, 0.48925620078116894, 0.24571717158082287, 0.41883701234253284, 0.6679870072282433, 0.31681352087488435, 0.26196310063490613, 0.5311533231578224], [0.2710248624456644, 0.29941052230507315, 0.3271527558792963, 0.4340738180464925, 0.39409751650304237, 0.1807085382867849, 0.2561748885389325, 0.24916220787154264, 0.279368648096337, 0.30218885185781474, 0.31932202284351946, 0.25162434321660804, 0.4848758005615986, 0.14867549950838466, 0.3793022007780804, 0.2637931106064072, 0.43605463856541926, 0.39169385998654205, 0.2989368132892888, 0.42608333273181265, 0.3199492349393983, 0.466288412958098, 0.2713323820065411, 0.3676200173563505, 0.4419380721745251, 0.5629915036641653, 0.5848254894132658, 0.2792314634672645, 0.4469296325981763, 0.4386191831445167, 0.43006435059112924, 0.21232978768932873, 0.26576094385356475, 0.5097033383234849, 0.5272338509759702, 0.22858046994437342, 0.5061702323751625, 0.22987505772040345, 0.40337569966318165, 0.4088106774254988, 0.5266457822561794, 0.45473040783774454, 0.3722944707375304, 0.5176680960022371, 0.3625328108688244, 0.22683921830777362, 0.28922105413571364, 0.18134429105980013, 0.4829108400502972, 0.41347129203826594, 0.3810056068646588, 0.3219259737255511, 0.42939354178951994, 0.32213039068781674, 0.46858398770345144, 0.35001973247404994, 0.3525812101438597, 0.3793485453372976, 0.639686514249653, 0.5072346921543569, 0.2982668751799843, 0.37898967362657154, 0.5323915734238904, 0.9999999999999993, 0.3614586947584403, 0.20788400567058066, 0.37136445696506704, 0.3520576061935624, 0.3068012140578105, 0.200740589425146, 0.4382929775288126, 0.4563661570483204, 0.23159065574001997, 0.5444905612284807, 0.23753275803487242, 0.21270525354891023, 0.45873897468136926, 0.40985221856655796, 0.39559049753540637, 0.595189825082671], [0.6759660216288388, 0.4935720641622705, 0.6264036558439997, 0.33456046235616155, 0.3294129256984306, 0.4008430946448889, 0.371674414192559, 0.35409000088480813, 0.47390464039962144, 0.6381903376628165, 0.19228331478675076, 0.2139208385733649, 0.2984147348844385, 0.6985421464154258, 0.5596315986214626, 0.4342828895069115, 0.44240015984738257, 0.4581679518201245, 0.7135114869378107, 0.32719612711152357, 0.695702823496503, 0.3260342668136684, 0.736869398736528, 0.370240313129009, 0.37737346348015033, 0.3511581814032539, 0.4268258945877573, 0.6516334585843557, 0.49329372577233677, 0.559265175405115, 0.3684051881578516, 0.712210396381281, 0.47930465605582523, 0.24080449619399769, 0.25817675759887493, 0.667841029248563, 0.45621466721869436, 0.29910594462139584, 0.2872942889379275, 0.38990742234653036, 0.37411027816704523, 0.43443215349719394, 0.30855200930855364, 0.28892119244857545, 0.6935875501690538, 0.7007427498826646, 0.37362948445235583, 0.5981862842048438, 0.2845279178807325, 0.2991625534701181, 0.284686583912362, 0.3424422260629443, 0.304050416225345, 0.3769867290029354, 0.2976080593795202, 0.4692389852363569, 0.6834638246035677, 0.5776806361099718, 0.31025965952692036, 0.28627164807633576, 0.27577703846798984, 0.5156107269837911, 0.3753402849743182, 0.3614586947584403, 1.0, 0.2981104504008445, 0.3124233987668221, 0.6055408525939387, 0.39369311672327395, 0.6107175000792053, 0.2745157747073865, 0.4020390370117801, 0.36632379436949325, 0.231334095410193, 0.3255100294454517, 0.5252485100431508, 0.3780137303555845, 0.27116241968535, 0.2925825263429178, 0.41574399079205904], [0.28457021290606194, 0.42787534594263477, 0.3265920473384414, 0.2779964797036446, 0.3571922670682457, 0.2579198676821153, 0.4363227863052146, 0.30101066985343783, 0.3581287004489396, 0.3179667236951856, 0.3820069121085343, 0.2181171810506749, 0.20863745248265947, 0.2267776968810647, 0.13028062247191508, 0.3205229968003223, 0.22974230788050942, 0.26237521207843123, 0.325391016880884, 0.13464506096030793, 0.3479030669231508, 0.10044041335468284, 0.3120236038639813, 0.26994461204473036, 0.3269419004711896, 0.18808672383674216, 0.20188756641431232, 0.26501737791147856, 0.2612048846243703, 0.09106517795362488, 0.14534137160388938, 0.2581613887845951, 0.3328924976323706, 0.08850606753162155, 0.1558115337886667, 0.1501580215126695, 0.1357371228493412, 0.3017551142208161, 0.1861706199651774, 0.34287192335928823, 0.23030329182879533, 0.23178033086275177, 0.28314597106675493, 0.42661252653770504, 0.32099914656985284, 0.2703657116363196, 0.350132487269765, 0.288028834533352, 0.21078253739872865, 0.3953674837981951, 0.19074212472491506, 0.2666811852687986, 0.2246858743529151, 0.48844006551876723, 0.28368173402750596, 0.28067219104487046, 0.25869571747991404, 0.27254224137550576, 0.3881327517943636, 0.221682613462691, 0.24256960373297454, 0.36152176910534156, 0.2920527630634996, 0.20788400567058066, 0.2981104504008445, 1.0, 0.20724915931299054, 0.47585716859741795, 0.3185091060566604, 0.31245345114350737, 0.28924604367800283, 0.22872655722698815, 0.18668270077353766, 0.2656354201534843, 0.16169140658639017, 0.2693970415311264, 0.21051094691244782, 0.2606303773575264, 0.16354700939246392, 0.3512998517358559], [0.3711689848842463, 0.22374578285251445, 0.3132386595893707, 0.25395204219017037, 0.24797069216622813, 0.24186628436718027, 0.3183551400370387, 0.3667025085849092, 0.3088131954287736, 0.36607835877813094, 0.39207551370783045, 0.12654639730042902, 0.21335342042494934, 0.31266262669052824, 0.24797709348265712, 0.2847424817805683, 0.2686022192127417, 0.27788852477210657, 0.3285508573438163, 0.2679541471194973, 0.27068338622184723, 0.38362502177374513, 0.38760643860612176, 0.6424114699636831, 0.3350990622131088, 0.17153047250207387, 0.3451205436698544, 0.24514648638458741, 0.2877421466335724, 0.221352205975671, 0.3609433081205199, 0.32886578969772406, 0.2669660592186945, 0.36822692860404516, 0.30876440895769147, 0.3077088884452165, 0.35316447541942975, 0.2275235372731414, 0.27723166157987766, 0.5637314593562082, 0.3790387728410949, 0.318418448893536, 0.17414922804426566, 0.45676672715000055, 0.3807947926911196, 0.3117519643979879, 0.495817602340976, 0.31379537319489154, 0.5812894657287778, 0.37368471525750946, 0.39452999997633875, 0.3269799426188571, 0.4198238809162357, 0.31194972970117507, 0.35334262765934216, 0.26305588093635457, 0.32240531026153263, 0.2657516198998775, 0.3173127962402389, 0.434811496966908, 0.3365361039492777, 0.2010342650198459, 0.2652535542576672, 0.37136445696506704, 0.3124233987668221, 0.20724915931299054, 1.0000000000000009, 0.32976139211902755, 0.29800768116381515, 0.29576766045935243, 0.513556220921874, 0.11783629219008053, 0.25793463575316206, 0.37979920454142, 0.17910520230119206, 0.33216603200773986, 0.3049006983889837, 0.3907252136679638, 0.26145748883242254, 0.46983181721594863], [0.6880338456913662, 0.600350398807915, 0.708260976992372, 0.386203512776906, 0.37153025156015224, 0.37645548477855556, 0.41019495021003854, 0.4607077654819459, 0.4765380416412859, 0.6945073761429599, 0.3555694176741152, 0.25202189781794554, 0.35929394658403346, 0.6089333179149117, 0.37016994327404273, 0.4038222355572344, 0.37593364112281813, 0.29825068060833765, 0.6297049430268284, 0.4192088239299974, 0.6528368885557859, 0.20210603172075597, 0.706787537643574, 0.2608479112981616, 0.34800106584498225, 0.24809109716178168, 0.3638813725273575, 0.6631002718944503, 0.5074844773330863, 0.43461465640652197, 0.38648791756288947, 0.6692420762053293, 0.40723549376548307, 0.25259758373959484, 0.27784051327472375, 0.552514124962443, 0.337657186610567, 0.40945034942427594, 0.32377704623683984, 0.46583553999014604, 0.336356498517386, 0.4680220497945446, 0.2861107341368384, 0.4743786030620101, 0.7133385384291079, 0.6094204011676819, 0.4690899680970457, 0.5482173862107946, 0.3222031080048031, 0.34933133813963535, 0.3377962516842607, 0.38988441062108914, 0.3180761345780313, 0.3921251207109947, 0.38460744608325664, 0.30866905525433164, 0.582772428882803, 0.585979793068947, 0.35912799430749864, 0.19761853931716597, 0.50741287584035, 0.5426454192428825, 0.37912394776057656, 0.3520576061935624, 0.6055408525939387, 0.47585716859741795, 0.32976139211902755, 0.9999999999999998, 0.3386219925967732, 0.6643992039843106, 0.5011456306998521, 0.4563506353112483, 0.47368559571279534, 0.35009105276550767, 0.4286641612107105, 0.5403943200142376, 0.34470182299095864, 0.277536962761551, 0.1997166243359277, 0.45360596676870646], [0.3436963550293636, 0.3586052599318801, 0.40440741194765933, 0.14574419811498768, 0.24638990014764686, 0.45503501231028, 0.6199320828920577, 0.4227039020310569, 0.3638235997994807, 0.3556912175457487, 0.2581420347178914, 0.12659583064116606, 0.2648605779093704, 0.26665716908304216, 0.1376393649133344, 0.9183928050834855, 0.578903866527571, 0.4961702139260691, 0.33570184261488406, 0.14046768792257236, 0.26156354224620554, 0.056658082679252667, 0.386401091906733, 0.25352383552238755, 0.5360319024722566, 0.36222124790607313, 0.1706802632276081, 0.2509228931019772, 0.31612658294647866, 0.31223894966853905, 0.2054507354230835, 0.3260352415722493, 0.6281350152401723, 0.14377511310210064, 0.1454650685184514, 0.24555044860479838, 0.20363946780154765, 0.20307153530008426, 0.27449651503212924, 0.2688701215492659, 0.23567009275362932, 0.2778423110703413, 0.17711604486260635, 0.25446544069877336, 0.34698803007317625, 0.28122027159566665, 0.48225162249162346, 0.2198000168255786, 0.319588831344269, 0.18516492442849525, 0.24333015399921462, 0.47600676902149686, 0.3334370472230136, 0.49981290642842147, 0.2298754012561986, 0.4932065115719485, 0.18878740593816024, 0.34963137216199713, 0.33707697377006274, 0.13862287435124998, 0.2936072967556549, 0.32656191698662096, 0.311040726537148, 0.3068012140578105, 0.39369311672327395, 0.3185091060566604, 0.29800768116381515, 0.3386219925967732, 1.0000000000000004, 0.2704945860620954, 0.3727213213276771, 0.236078705780741, 0.28341614749994704, 0.19458318042049316, 0.15188162048731974, 0.2549073026132014, 0.2778031695580275, 0.2228332637652431, 0.25732630109202853, 0.27726797376336887], [0.7616805961437444, 0.5004841835768508, 0.6981569796395347, 0.29744418778808346, 0.3160403986109678, 0.24044335188589314, 0.31536593536508706, 0.3315096468978984, 0.3659424977313934, 0.6885080308338081, 0.21719538904931487, 0.24064013807039947, 0.37774776079856287, 0.7371465592750672, 0.4576780987418263, 0.29871953255102546, 0.2506638020536864, 0.2805231090644261, 0.7152314181356683, 0.3528534102827163, 0.8055036383906368, 0.09301635098673151, 0.7622735458189611, 0.25709165913786186, 0.2775421098789307, 0.2059608237336998, 0.32804610394871125, 0.8382750352850519, 0.4974451703997933, 0.46926577122328367, 0.20903124731303563, 0.7579130402638514, 0.2642119346884464, 0.19251225915090858, 0.30138015606184854, 0.6021690452109061, 0.21248628494193325, 0.24131692571919014, 0.27950701984581977, 0.35236462608001307, 0.2643663075717392, 0.3635808659152967, 0.21703489854060715, 0.2419677797868588, 0.6808163432700551, 0.6858223210827952, 0.29139392597889424, 0.5816495409936321, 0.2260421123386195, 0.24624046604825317, 0.2738977486172569, 0.2620389724770911, 0.2768864778917566, 0.18792366375663497, 0.26839603131294437, 0.28004786233887735, 0.7060975288110762, 0.7051164216571058, 0.2199569993411259, 0.21283348004192476, 0.23461203474744569, 0.3626396849255885, 0.1851318344007647, 0.200740589425146, 0.6107175000792053, 0.31245345114350737, 0.29576766045935243, 0.6643992039843106, 0.2704945860620954, 0.9999999999999999, 0.27736710495858763, 0.3025178800291545, 0.22496055551888097, 0.1987051883996861, 0.34921921605277517, 0.4713278846119196, 0.22268883144366214, 0.11654201782050794, 0.1521324967133743, 0.32344388269035207], [0.34618198614611145, 0.3524104175789293, 0.4079763091549207, 0.27617592046866246, 0.2974094098579906, 0.4138115707232406, 0.3944245589580756, 0.49904382478490894, 0.40079799573026387, 0.3820279617139264, 0.35726759769970984, 0.19809748060450555, 0.26440502845570396, 0.23046200702010466, 0.2608879374790752, 0.33855768231116173, 0.5377645546641897, 0.33663809569061415, 0.25618540097285497, 0.3164051767610147, 0.33332338178770554, 0.20090212032646654, 0.35989069578749183, 0.43869792165362237, 0.4465126073603907, 0.37064876532141233, 0.2765442424821903, 0.27914386813168246, 0.3275177503303955, 0.28664731469217253, 0.32696308490466197, 0.29162242760711626, 0.40190845518702745, 0.26374237142885626, 0.24880320288307448, 0.21075397370882284, 0.15252024904690314, 0.4994018977830873, 0.35368010009657164, 0.37939379061070216, 0.42179953469878295, 0.3400819156639781, 0.23963254866082867, 0.3783023771230046, 0.36241819814787135, 0.28200489753491403, 0.5095570006444176, 0.2942047131671922, 0.3630646175840847, 0.39998656902667873, 0.346392846158033, 0.5636414528144589, 0.5301774102146368, 0.42623269115742324, 0.37097881273531247, 0.3479197820874799, 0.22029102439137233, 0.4260111155843325, 0.3462545468420359, 0.5185885284817929, 0.5434851672862827, 0.3152935653709497, 0.3617359941882358, 0.4382929775288126, 0.2745157747073865, 0.28924604367800283, 0.513556220921874, 0.5011456306998521, 0.3727213213276771, 0.27736710495858763, 1.0000000000000002, 0.32251427520822773, 0.4634590808480759, 0.35212105702693297, 0.2745572464890321, 0.3737818088422909, 0.3743895629526369, 0.21054369692012595, 0.08173731224449482, 0.49027824813087006], [0.30643691869666045, 0.47216314355079514, 0.32347775667435136, 0.31621399475697387, 0.4031603402484727, 0.16167169102308265, 0.19350816464551052, 0.30182405112543603, 0.448984546898221, 0.30995998273642744, 0.28011274787330775, 0.3730668203919631, 0.5470872350295668, 0.23391028037414646, 0.18535850469062137, 0.28707908696420237, 0.33585630121068755, 0.21224651663118013, 0.25210773543187176, 0.30208431132991564, 0.3723655514103655, 0.3778796372812311, 0.2828372547898725, 0.15882208681803256, 0.18530680238816882, 0.40546880905666294, 0.5267320996114686, 0.3132038371577446, 0.41840284213018236, 0.509848448915703, 0.45901578116621733, 0.24613635505062148, 0.30414819580000585, 0.36112569624002266, 0.4172149276164281, 0.2116307801194848, 0.31379374585195063, 0.200305657230142, 0.3364254149912237, 0.36627293694689506, 0.4060006544457394, 0.5618952104521769, 0.3500995401535022, 0.3899854511181109, 0.327360649112994, 0.29738162397094375, 0.33008302128109834, 0.2774530144218762, 0.2649731181600254, 0.28632812018420417, 0.29777528346314514, 0.20815903413320397, 0.3419415826990786, 0.2567780318547015, 0.44580945041693243, 0.20059473993962446, 0.32281862183197696, 0.453294668413872, 0.2999350741075599, 0.3358261741517925, 0.2727913250626361, 0.47141207340320707, 0.4048962053249863, 0.4563661570483204, 0.4020390370117801, 0.22872655722698815, 0.11783629219008053, 0.4563506353112483, 0.236078705780741, 0.3025178800291545, 0.32251427520822773, 1.0000000000000002, 0.2642882889671, 0.30103953644413456, 0.26315771579615466, 0.38868215672174516, 0.3566040760888354, 0.1741037480370244, 0.21752333315599953, 0.319203906110249], [0.3187452222685997, 0.3170282050974226, 0.382996926027634, 0.2707080265340914, 0.2168161485679857, 0.388407596642674, 0.3478242983396399, 0.4142139812293265, 0.37762069216231037, 0.3800925337510077, 0.24442061637549606, 0.1555102782058547, 0.17368808421821028, 0.2525498353234651, 0.19607635082784047, 0.3263026511017041, 0.47585869195851427, 0.3825922885824964, 0.32383012524866317, 0.3185719042900833, 0.20353446320061466, 0.09697124154224111, 0.2911856991796842, 0.24678238052144408, 0.3515670603684554, 0.2952122176015682, 0.2885947061408349, 0.2331812011827754, 0.31381380688216975, 0.2688347107624862, 0.18410650617916557, 0.33213864307094976, 0.34257372483816884, 0.20927556839720834, 0.15915575715902452, 0.29925271167470435, 0.3439313778176091, 0.613742532570363, 0.214077133842269, 0.32441692434843, 0.2758241289440039, 0.3769342864559662, 0.21608263007463208, 0.1896336521616075, 0.402734356657855, 0.2843967929051186, 0.4404580956255848, 0.22204711273811817, 0.2476451025635099, 0.19981997087808948, 0.23057006157181031, 0.5943117038123378, 0.20115490505283998, 0.3542527880133713, 0.2896762210983425, 0.39934763206653673, 0.2808182387715484, 0.3357574099368542, 0.22304994634087688, 0.21411812319986528, 0.8569639513561214, 0.37502046723887417, 0.24819870005190187, 0.23159065574001997, 0.36632379436949325, 0.18668270077353766, 0.25793463575316206, 0.47368559571279534, 0.28341614749994704, 0.22496055551888097, 0.4634590808480759, 0.2642882889671, 0.9999999999999996, 0.23789796395288873, 0.3198427468661741, 0.40520928939670475, 0.1999162129844069, 0.22824660428321009, 0.23641687345244453, 0.3586426886993841], [0.2667065868195286, 0.34353421252935595, 0.24529433522681024, 0.6587355017845697, 0.4683851529727593, 0.16703461274621823, 0.2423548810930507, 0.20953699844859439, 0.3204038466084891, 0.25521182333131903, 0.5221428785670548, 0.31599970088380364, 0.3510577492037984, 0.17458000178882221, 0.21547873092490286, 0.1972863576150928, 0.20483871167143927, 0.30488727210349703, 0.2195700844322846, 0.3407450738446383, 0.30867508054744663, 0.4033154230733121, 0.22824949730324584, 0.306131362852811, 0.3531858060549848, 0.29661381423360056, 0.4836302421594368, 0.22701888330700948, 0.47251075776188606, 0.286658877373497, 0.4187447259969499, 0.18422411944052589, 0.19645683928898622, 0.5149132849116502, 0.411815618607071, 0.2500858172055178, 0.4887586950003574, 0.10383859226116593, 0.3365374362493616, 0.49498227878112694, 0.387337139987582, 0.36085550029242114, 0.34997903055410584, 0.491004684405616, 0.27514633561614943, 0.20016115762354672, 0.2160878341413948, 0.2352894259868325, 0.48603442347087367, 0.6305398222164696, 0.3035858769389075, 0.23962172275734997, 0.4339895073034047, 0.30644637882536707, 0.5213541097213459, 0.26363747405424476, 0.28982132111819703, 0.26542003414897836, 0.5758614281686905, 0.4332438150709539, 0.26973571859076156, 0.35948240974651174, 0.48925620078116894, 0.5444905612284807, 0.231334095410193, 0.2656354201534843, 0.37979920454142, 0.35009105276550767, 0.19458318042049316, 0.1987051883996861, 0.35212105702693297, 0.30103953644413456, 0.23789796395288873, 1.0, 0.27725603173325825, 0.3415380439287439, 0.3996912952928511, 0.30241632574378613, 0.44436197612377537, 0.5686613361585], [0.3974824644825001, 0.2533299558255916, 0.37063165074563453, 0.29006786246083827, 0.24027379684940015, 0.19434167976675587, 0.1593222475790087, 0.35175248364968326, 0.21488391921426359, 0.39126420681660284, 0.1320583984193968, 0.13202112805126798, 0.2712495006655502, 0.34172529774269045, 0.18563368118863977, 0.21828405547783936, 0.2708359700001867, 0.18708816649281573, 0.3101498274378455, 0.18290262405758417, 0.3261295902072784, 0.16502642281141838, 0.3086023489058099, 0.18419663713359669, 0.18070962088355252, 0.2595356589152346, 0.36836100707632696, 0.3158621416895775, 0.2924681811372097, 0.23919824994662595, 0.32561591232120524, 0.3663043775568308, 0.19356255070529477, 0.2660048787566661, 0.26494392570634084, 0.40250187372083573, 0.14553075223222886, 0.20723110693042496, 0.2033661135945895, 0.3328556248086969, 0.3204590611497836, 0.4720943654008291, 0.26156621526277, 0.27399921448376624, 0.37384414095708846, 0.3188981730262507, 0.38915463564416153, 0.19423039940780262, 0.24945061213730438, 0.12281070525770282, 0.4623947298947193, 0.22698425777941528, 0.1672840886981274, 0.22270258359746667, 0.24447610787201882, 0.19331066380045137, 0.2887720803641638, 0.2600338055185982, 0.2668742106837214, 0.19540502278203054, 0.3453367830903581, 0.23280001483591756, 0.24571717158082287, 0.23753275803487242, 0.3255100294454517, 0.16169140658639017, 0.17910520230119206, 0.4286641612107105, 0.15188162048731974, 0.34921921605277517, 0.2745572464890321, 0.26315771579615466, 0.3198427468661741, 0.27725603173325825, 1.0, 0.31115327092042705, 0.2777141515366223, 0.15574147685061657, 0.15789364413677465, 0.231983833980372], [0.4532951442246577, 0.5677835308465066, 0.46137925103279853, 0.36911890318639873, 0.3616786748169044, 0.35009179079692265, 0.4300676702795818, 0.4242483020654272, 0.5245665273575333, 0.4020909543207474, 0.283288130314429, 0.269479980583108, 0.28277925577847624, 0.4568662570508202, 0.2789293974008446, 0.34670986074097365, 0.3828164654418368, 0.34649066281590457, 0.440813195465889, 0.30651294243656707, 0.47600090142921725, 0.24224898838557163, 0.4937454468595058, 0.3446535301353688, 0.3212889937777792, 0.1907927963832984, 0.34584580464613285, 0.46542646586819064, 0.5264053379149444, 0.388123557939716, 0.3340407377372577, 0.438734054216369, 0.382202312304432, 0.20625369348592565, 0.20315372169259582, 0.46082249716881785, 0.35498549047477945, 0.2779288517703388, 0.3415251707574396, 0.30676718589645713, 0.329199987317007, 0.31679135604322517, 0.27186933655881923, 0.40748058383992203, 0.45725991692534873, 0.46347665597921417, 0.4422104149604741, 0.4325203168998194, 0.31454704641798537, 0.3382561801816242, 0.29455411989482955, 0.3458604766404554, 0.39272567284650073, 0.37361644286962437, 0.2660890448005435, 0.3536367866754411, 0.4094461466878475, 0.5004424092380245, 0.27254504174174676, 0.27185317988360974, 0.3687578758687894, 0.47954144589061, 0.41883701234253284, 0.21270525354891023, 0.5252485100431508, 0.2693970415311264, 0.33216603200773986, 0.5403943200142376, 0.2549073026132014, 0.4713278846119196, 0.3737818088422909, 0.38868215672174516, 0.40520928939670475, 0.3415380439287439, 0.31115327092042705, 1.0, 0.2838651476187755, 0.2413560045528979, 0.2377430699489947, 0.40961844115245016], [0.31044358844170095, 0.3575266654574379, 0.3003762110782868, 0.325791881957778, 0.3609498331944426, 0.25876419079790464, 0.32197738425817063, 0.17815210035012585, 0.2371361478642732, 0.3218959785987077, 0.39577508049547483, 0.25732267322354835, 0.354902466597512, 0.19008563081230412, 0.3106794931366921, 0.28072863061271425, 0.28002125109296844, 0.17901728201495926, 0.270808271791455, 0.33433926906435485, 0.38240085282673814, 0.2278455285723789, 0.2691748805875153, 0.34393978166649763, 0.3229612532415884, 0.3758075937911034, 0.3932849098781488, 0.25865049177665517, 0.4290088025794066, 0.3540368076505972, 0.34363301897039067, 0.27144930254156724, 0.3260694563374206, 0.2525726793490873, 0.21181314858677522, 0.21891522031761607, 0.362119360027337, 0.269351385060563, 0.3161459275080784, 0.38456514529597097, 0.3439298797078609, 0.42399416284567404, 0.23538175223067623, 0.417624312675684, 0.2947565645102187, 0.26757040008325433, 0.16819991218739433, 0.2578369617567781, 0.30946520857305926, 0.4804775531897538, 0.5313831132550694, 0.25384883631342825, 0.4728267634664343, 0.3250481752546061, 0.41380736376454424, 0.20443686764949998, 0.304857014112798, 0.32038314329786927, 0.40410381985768495, 0.342201332396496, 0.2431318268585848, 0.36965923733907724, 0.6679870072282433, 0.45873897468136926, 0.3780137303555845, 0.21051094691244782, 0.3049006983889837, 0.34470182299095864, 0.2778031695580275, 0.22268883144366214, 0.3743895629526369, 0.3566040760888354, 0.1999162129844069, 0.3996912952928511, 0.2777141515366223, 0.2838651476187755, 1.0, 0.3893280484802294, 0.2241574808656448, 0.5223266160128921], [0.24099455573262693, 0.21690526427278922, 0.2657896075890471, 0.29793039357100237, 0.2660211650864791, 0.25132201150580075, 0.28717098363270616, 0.10927553277851931, 0.17604718487305268, 0.25149105353890355, 0.26678497068456797, 0.08591071893710878, 0.19570520819812867, 0.1231360726996843, 0.22136276923339532, 0.15725928165851377, 0.2658983219302616, 0.28575223825128354, 0.1861180409203821, 0.25741777587549003, 0.16650756063420513, 0.2609660857113797, 0.1466630464649251, 0.322225575622455, 0.31074604906565734, 0.25624803870543855, 0.4544801296900989, 0.22777467881051155, 0.276385438484798, 0.28239458096839737, 0.12724995169529646, 0.1676602775062252, 0.3067356943524378, 0.5074016507355648, 0.3457104950787373, 0.1073130788789908, 0.31756869505774166, 0.22915827786945064, 0.2177895446847053, 0.2838665942000344, 0.4309038774392474, 0.43405439571334087, 0.17343863195153658, 0.26626804365287116, 0.307252812392033, 0.1360027401861056, 0.09852179107469443, 0.1197125322711742, 0.605856453219742, 0.23881882294402398, 0.24458968329273062, 0.24120389017740707, 0.191209698400094, 0.39757744370115317, 0.291600469443491, 0.20107510358907765, 0.25617777166660965, 0.20635397103011205, 0.3801627999478173, 0.21985983370361556, 0.3422289047628694, 0.16054422829017856, 0.31681352087488435, 0.40985221856655796, 0.27116241968535, 0.2606303773575264, 0.3907252136679638, 0.277536962761551, 0.2228332637652431, 0.11654201782050794, 0.21054369692012595, 0.1741037480370244, 0.22824660428321009, 0.30241632574378613, 0.15574147685061657, 0.2413560045528979, 0.3893280484802294, 1.0000000000000004, 0.22681813256935657, 0.4054923083197882], [0.16732771373654748, 0.22720692955727925, 0.14947144306222426, 0.3238376698191717, 0.2414440117780289, 0.1017845723687529, 0.20944874621572498, 0.11516780438678507, 0.2265433202002704, 0.161570204782867, 0.2611858478431352, 0.21337760082504648, 0.4112466097873946, 0.17092835410349722, 0.1772537067875635, 0.2398126731398977, 0.20008583436318944, 0.3968028352618836, 0.25665862055778144, 0.20472787290104508, 0.23584713267853008, 0.4261066955384818, 0.16139168763460815, 0.2794604355233085, 0.3059423809082737, 0.3148973498250104, 0.42526087195884743, 0.17839677269916437, 0.24487997552025642, 0.3885593670977505, 0.5497310721314151, 0.15024619978440212, 0.18884069111339433, 0.45394828246087926, 0.4312849703996776, 0.1640272450705263, 0.4693147685385701, 0.043615609578311065, 0.28799065381300937, 0.3391461121441245, 0.267144979714243, 0.30288614519164675, 0.45926673951322033, 0.3491191011992093, 0.23066421924639652, 0.21786303835086193, 0.24997434644247174, 0.23509386705397767, 0.42956256872128035, 0.3567768795992251, 0.16920264470093047, 0.17004188851032875, 0.29417857956393817, 0.21722435753450478, 0.3524617985838401, 0.3132471195514815, 0.27210391528013567, 0.18453812244151574, 0.25770245132345365, 0.3416843203209212, 0.19238193843061047, 0.2235186979606017, 0.26196310063490613, 0.39559049753540637, 0.2925825263429178, 0.16354700939246392, 0.26145748883242254, 0.1997166243359277, 0.25732630109202853, 0.1521324967133743, 0.08173731224449482, 0.21752333315599953, 0.23641687345244453, 0.44436197612377537, 0.15789364413677465, 0.2377430699489947, 0.2241574808656448, 0.22681813256935657, 0.9999999999999996, 0.3905991327910413], [0.32505005341927595, 0.48673515931547234, 0.3619135526003079, 0.5300866794456389, 0.48271965082182056, 0.3618886684971926, 0.3453459672734942, 0.3490597425377416, 0.5211775012212865, 0.37155233645426133, 0.4048545096399298, 0.2860581671801069, 0.420513335205164, 0.19196763338411443, 0.33822106815353414, 0.2928822097849535, 0.3979082801705215, 0.39642827381582746, 0.34430891138529407, 0.5567527489881989, 0.4267351741274961, 0.29031380986410976, 0.3046212498836477, 0.422278845414769, 0.4537597437258767, 0.38062669449901165, 0.4651402212657365, 0.2759921553468454, 0.589603485105209, 0.3997911960363958, 0.3962469918151898, 0.31966174646625434, 0.27794715293571365, 0.39348140491801853, 0.3707793189052432, 0.2356804816443368, 0.5463257713910247, 0.23409273890155952, 0.4531111178509747, 0.49571137946862176, 0.4050327628671104, 0.3948147004600199, 0.3766244637776478, 0.5741562229674463, 0.4206761297162788, 0.34651995689450243, 0.3505850909246872, 0.44640778930182584, 0.4174320736904771, 0.5904387041415815, 0.45025742154598536, 0.414419486630054, 0.6696399129015878, 0.44278043718224225, 0.4055543516456045, 0.3866757670843409, 0.4158520126859966, 0.435342749273163, 0.6437853253782546, 0.5587119940070596, 0.38201289553213813, 0.579030240310771, 0.5311533231578224, 0.595189825082671, 0.41574399079205904, 0.3512998517358559, 0.46983181721594863, 0.45360596676870646, 0.27726797376336887, 0.32344388269035207, 0.49027824813087006, 0.319203906110249, 0.3586426886993841, 0.5686613361585, 0.231983833980372, 0.40961844115245016, 0.5223266160128921, 0.4054923083197882, 0.3905991327910413, 1.0000000000000002]]}],                        {\"coloraxis\": {\"colorbar\": {\"title\": {\"text\": \"Similarity Score\"}}, \"colorscale\": [[0.0, \"rgb(247,252,240)\"], [0.125, \"rgb(224,243,219)\"], [0.25, \"rgb(204,235,197)\"], [0.375, \"rgb(168,221,181)\"], [0.5, \"rgb(123,204,196)\"], [0.625, \"rgb(78,179,211)\"], [0.75, \"rgb(43,140,190)\"], [0.875, \"rgb(8,104,172)\"], [1.0, \"rgb(8,64,129)\"]]}, \"height\": 800, \"hoverlabel\": {\"bgcolor\": \"white\", \"font\": {\"family\": \"Rockwell\", \"size\": 16}}, \"legend\": {\"title\": {\"text\": \"Trend\"}}, \"margin\": {\"t\": 60}, \"showlegend\": true, \"template\": {\"data\": {\"bar\": [{\"error_x\": {\"color\": \"#2a3f5f\"}, \"error_y\": {\"color\": \"#2a3f5f\"}, \"marker\": {\"line\": {\"color\": \"#E5ECF6\", \"width\": 0.5}}, \"type\": \"bar\"}], \"barpolar\": [{\"marker\": {\"line\": {\"color\": \"#E5ECF6\", \"width\": 0.5}}, \"type\": \"barpolar\"}], \"carpet\": [{\"aaxis\": {\"endlinecolor\": \"#2a3f5f\", \"gridcolor\": \"white\", \"linecolor\": \"white\", \"minorgridcolor\": \"white\", \"startlinecolor\": \"#2a3f5f\"}, \"baxis\": {\"endlinecolor\": \"#2a3f5f\", \"gridcolor\": \"white\", \"linecolor\": \"white\", \"minorgridcolor\": \"white\", \"startlinecolor\": \"#2a3f5f\"}, \"type\": \"carpet\"}], \"choropleth\": [{\"colorbar\": {\"outlinewidth\": 0, \"ticks\": \"\"}, \"type\": \"choropleth\"}], \"contour\": [{\"colorbar\": {\"outlinewidth\": 0, \"ticks\": \"\"}, \"colorscale\": [[0.0, \"#0d0887\"], [0.1111111111111111, \"#46039f\"], [0.2222222222222222, \"#7201a8\"], [0.3333333333333333, \"#9c179e\"], [0.4444444444444444, \"#bd3786\"], [0.5555555555555556, \"#d8576b\"], [0.6666666666666666, \"#ed7953\"], [0.7777777777777778, \"#fb9f3a\"], [0.8888888888888888, \"#fdca26\"], [1.0, \"#f0f921\"]], \"type\": \"contour\"}], \"contourcarpet\": [{\"colorbar\": {\"outlinewidth\": 0, \"ticks\": \"\"}, \"type\": \"contourcarpet\"}], \"heatmap\": [{\"colorbar\": {\"outlinewidth\": 0, \"ticks\": \"\"}, \"colorscale\": [[0.0, \"#0d0887\"], [0.1111111111111111, \"#46039f\"], [0.2222222222222222, \"#7201a8\"], [0.3333333333333333, \"#9c179e\"], [0.4444444444444444, \"#bd3786\"], [0.5555555555555556, \"#d8576b\"], [0.6666666666666666, \"#ed7953\"], [0.7777777777777778, \"#fb9f3a\"], [0.8888888888888888, \"#fdca26\"], [1.0, \"#f0f921\"]], \"type\": \"heatmap\"}], \"heatmapgl\": [{\"colorbar\": {\"outlinewidth\": 0, \"ticks\": \"\"}, \"colorscale\": [[0.0, \"#0d0887\"], [0.1111111111111111, \"#46039f\"], [0.2222222222222222, \"#7201a8\"], [0.3333333333333333, \"#9c179e\"], [0.4444444444444444, \"#bd3786\"], [0.5555555555555556, \"#d8576b\"], [0.6666666666666666, \"#ed7953\"], [0.7777777777777778, \"#fb9f3a\"], [0.8888888888888888, \"#fdca26\"], [1.0, \"#f0f921\"]], \"type\": \"heatmapgl\"}], \"histogram\": [{\"marker\": {\"colorbar\": {\"outlinewidth\": 0, \"ticks\": \"\"}}, \"type\": \"histogram\"}], \"histogram2d\": [{\"colorbar\": {\"outlinewidth\": 0, \"ticks\": \"\"}, \"colorscale\": [[0.0, \"#0d0887\"], [0.1111111111111111, \"#46039f\"], [0.2222222222222222, \"#7201a8\"], [0.3333333333333333, \"#9c179e\"], [0.4444444444444444, \"#bd3786\"], [0.5555555555555556, \"#d8576b\"], [0.6666666666666666, \"#ed7953\"], [0.7777777777777778, \"#fb9f3a\"], [0.8888888888888888, \"#fdca26\"], [1.0, \"#f0f921\"]], \"type\": \"histogram2d\"}], \"histogram2dcontour\": [{\"colorbar\": {\"outlinewidth\": 0, \"ticks\": \"\"}, \"colorscale\": [[0.0, \"#0d0887\"], [0.1111111111111111, \"#46039f\"], [0.2222222222222222, \"#7201a8\"], [0.3333333333333333, \"#9c179e\"], [0.4444444444444444, \"#bd3786\"], [0.5555555555555556, \"#d8576b\"], [0.6666666666666666, \"#ed7953\"], [0.7777777777777778, \"#fb9f3a\"], [0.8888888888888888, \"#fdca26\"], [1.0, \"#f0f921\"]], \"type\": \"histogram2dcontour\"}], \"mesh3d\": [{\"colorbar\": {\"outlinewidth\": 0, \"ticks\": \"\"}, \"type\": \"mesh3d\"}], \"parcoords\": [{\"line\": {\"colorbar\": {\"outlinewidth\": 0, \"ticks\": \"\"}}, \"type\": \"parcoords\"}], \"pie\": [{\"automargin\": true, \"type\": \"pie\"}], \"scatter\": [{\"marker\": {\"colorbar\": {\"outlinewidth\": 0, \"ticks\": \"\"}}, \"type\": \"scatter\"}], \"scatter3d\": [{\"line\": {\"colorbar\": {\"outlinewidth\": 0, \"ticks\": \"\"}}, \"marker\": {\"colorbar\": {\"outlinewidth\": 0, \"ticks\": \"\"}}, \"type\": \"scatter3d\"}], \"scattercarpet\": [{\"marker\": {\"colorbar\": {\"outlinewidth\": 0, \"ticks\": \"\"}}, \"type\": \"scattercarpet\"}], \"scattergeo\": [{\"marker\": {\"colorbar\": {\"outlinewidth\": 0, \"ticks\": \"\"}}, \"type\": \"scattergeo\"}], \"scattergl\": [{\"marker\": {\"colorbar\": {\"outlinewidth\": 0, \"ticks\": \"\"}}, \"type\": \"scattergl\"}], \"scattermapbox\": [{\"marker\": {\"colorbar\": {\"outlinewidth\": 0, \"ticks\": \"\"}}, \"type\": \"scattermapbox\"}], \"scatterpolar\": [{\"marker\": {\"colorbar\": {\"outlinewidth\": 0, \"ticks\": \"\"}}, \"type\": \"scatterpolar\"}], \"scatterpolargl\": [{\"marker\": {\"colorbar\": {\"outlinewidth\": 0, \"ticks\": \"\"}}, \"type\": \"scatterpolargl\"}], \"scatterternary\": [{\"marker\": {\"colorbar\": {\"outlinewidth\": 0, \"ticks\": \"\"}}, \"type\": \"scatterternary\"}], \"surface\": [{\"colorbar\": {\"outlinewidth\": 0, \"ticks\": \"\"}, \"colorscale\": [[0.0, \"#0d0887\"], [0.1111111111111111, \"#46039f\"], [0.2222222222222222, \"#7201a8\"], [0.3333333333333333, \"#9c179e\"], [0.4444444444444444, \"#bd3786\"], [0.5555555555555556, \"#d8576b\"], [0.6666666666666666, \"#ed7953\"], [0.7777777777777778, \"#fb9f3a\"], [0.8888888888888888, \"#fdca26\"], [1.0, \"#f0f921\"]], \"type\": \"surface\"}], \"table\": [{\"cells\": {\"fill\": {\"color\": \"#EBF0F8\"}, \"line\": {\"color\": \"white\"}}, \"header\": {\"fill\": {\"color\": \"#C8D4E3\"}, \"line\": {\"color\": \"white\"}}, \"type\": \"table\"}]}, \"layout\": {\"annotationdefaults\": {\"arrowcolor\": \"#2a3f5f\", \"arrowhead\": 0, \"arrowwidth\": 1}, \"autotypenumbers\": \"strict\", \"coloraxis\": {\"colorbar\": {\"outlinewidth\": 0, \"ticks\": \"\"}}, \"colorscale\": {\"diverging\": [[0, \"#8e0152\"], [0.1, \"#c51b7d\"], [0.2, \"#de77ae\"], [0.3, \"#f1b6da\"], [0.4, \"#fde0ef\"], [0.5, \"#f7f7f7\"], [0.6, \"#e6f5d0\"], [0.7, \"#b8e186\"], [0.8, \"#7fbc41\"], [0.9, \"#4d9221\"], [1, \"#276419\"]], \"sequential\": [[0.0, \"#0d0887\"], [0.1111111111111111, \"#46039f\"], [0.2222222222222222, \"#7201a8\"], [0.3333333333333333, \"#9c179e\"], [0.4444444444444444, \"#bd3786\"], [0.5555555555555556, \"#d8576b\"], [0.6666666666666666, \"#ed7953\"], [0.7777777777777778, \"#fb9f3a\"], [0.8888888888888888, \"#fdca26\"], [1.0, \"#f0f921\"]], \"sequentialminus\": [[0.0, \"#0d0887\"], [0.1111111111111111, \"#46039f\"], [0.2222222222222222, \"#7201a8\"], [0.3333333333333333, \"#9c179e\"], [0.4444444444444444, \"#bd3786\"], [0.5555555555555556, \"#d8576b\"], [0.6666666666666666, \"#ed7953\"], [0.7777777777777778, \"#fb9f3a\"], [0.8888888888888888, \"#fdca26\"], [1.0, \"#f0f921\"]]}, \"colorway\": [\"#636efa\", \"#EF553B\", \"#00cc96\", \"#ab63fa\", \"#FFA15A\", \"#19d3f3\", \"#FF6692\", \"#B6E880\", \"#FF97FF\", \"#FECB52\"], \"font\": {\"color\": \"#2a3f5f\"}, \"geo\": {\"bgcolor\": \"white\", \"lakecolor\": \"white\", \"landcolor\": \"#E5ECF6\", \"showlakes\": true, \"showland\": true, \"subunitcolor\": \"white\"}, \"hoverlabel\": {\"align\": \"left\"}, \"hovermode\": \"closest\", \"mapbox\": {\"style\": \"light\"}, \"paper_bgcolor\": \"white\", \"plot_bgcolor\": \"#E5ECF6\", \"polar\": {\"angularaxis\": {\"gridcolor\": \"white\", \"linecolor\": \"white\", \"ticks\": \"\"}, \"bgcolor\": \"#E5ECF6\", \"radialaxis\": {\"gridcolor\": \"white\", \"linecolor\": \"white\", \"ticks\": \"\"}}, \"scene\": {\"xaxis\": {\"backgroundcolor\": \"#E5ECF6\", \"gridcolor\": \"white\", \"gridwidth\": 2, \"linecolor\": \"white\", \"showbackground\": true, \"ticks\": \"\", \"zerolinecolor\": \"white\"}, \"yaxis\": {\"backgroundcolor\": \"#E5ECF6\", \"gridcolor\": \"white\", \"gridwidth\": 2, \"linecolor\": \"white\", \"showbackground\": true, \"ticks\": \"\", \"zerolinecolor\": \"white\"}, \"zaxis\": {\"backgroundcolor\": \"#E5ECF6\", \"gridcolor\": \"white\", \"gridwidth\": 2, \"linecolor\": \"white\", \"showbackground\": true, \"ticks\": \"\", \"zerolinecolor\": \"white\"}}, \"shapedefaults\": {\"line\": {\"color\": \"#2a3f5f\"}}, \"ternary\": {\"aaxis\": {\"gridcolor\": \"white\", \"linecolor\": \"white\", \"ticks\": \"\"}, \"baxis\": {\"gridcolor\": \"white\", \"linecolor\": \"white\", \"ticks\": \"\"}, \"bgcolor\": \"#E5ECF6\", \"caxis\": {\"gridcolor\": \"white\", \"linecolor\": \"white\", \"ticks\": \"\"}}, \"title\": {\"x\": 0.05}, \"xaxis\": {\"automargin\": true, \"gridcolor\": \"white\", \"linecolor\": \"white\", \"ticks\": \"\", \"title\": {\"standoff\": 15}, \"zerolinecolor\": \"white\", \"zerolinewidth\": 2}, \"yaxis\": {\"automargin\": true, \"gridcolor\": \"white\", \"linecolor\": \"white\", \"ticks\": \"\", \"title\": {\"standoff\": 15}, \"zerolinecolor\": \"white\", \"zerolinewidth\": 2}}}, \"title\": {\"font\": {\"color\": \"Black\", \"size\": 22}, \"text\": \"<b>Similarity Matrix\", \"x\": 0.55, \"xanchor\": \"center\", \"y\": 0.95, \"yanchor\": \"top\"}, \"width\": 800, \"xaxis\": {\"anchor\": \"y\", \"constrain\": \"domain\", \"domain\": [0.0, 1.0], \"scaleanchor\": \"y\"}, \"yaxis\": {\"anchor\": \"x\", \"autorange\": \"reversed\", \"constrain\": \"domain\", \"domain\": [0.0, 1.0]}},                        {\"responsive\": true}                    ).then(function(){\n",
              "                            \n",
              "var gd = document.getElementById('c5a15194-fc40-4ee4-a0eb-e71f3aea8822');\n",
              "var x = new MutationObserver(function (mutations, observer) {{\n",
              "        var display = window.getComputedStyle(gd).display;\n",
              "        if (!display || display === 'none') {{\n",
              "            console.log([gd, 'removed!']);\n",
              "            Plotly.purge(gd);\n",
              "            observer.disconnect();\n",
              "        }}\n",
              "}});\n",
              "\n",
              "// Listen for the removal of the full notebook cells\n",
              "var notebookContainer = gd.closest('#notebook-container');\n",
              "if (notebookContainer) {{\n",
              "    x.observe(notebookContainer, {childList: true});\n",
              "}}\n",
              "\n",
              "// Listen for the clearing of the current output cell\n",
              "var outputEl = gd.closest('.output');\n",
              "if (outputEl) {{\n",
              "    x.observe(outputEl, {childList: true});\n",
              "}}\n",
              "\n",
              "                        })                };                            </script>        </div>\n",
              "</body>\n",
              "</html>"
            ]
          },
          "metadata": {
            "tags": []
          }
        },
        {
          "output_type": "display_data",
          "data": {
            "text/plain": [
              "<Figure size 14400x14400 with 0 Axes>"
            ]
          },
          "metadata": {
            "tags": []
          }
        }
      ]
    },
    {
      "cell_type": "code",
      "metadata": {
        "id": "aVIe_Ag4ugYr",
        "colab": {
          "base_uri": "https://localhost:8080/",
          "height": 617
        },
        "outputId": "809b7837-631a-4247-c7b1-b4c4051d7a89"
      },
      "source": [
        "# Agglomerative Clustering on the topics clustered based on unique contexts\n",
        "topic_model.visualize_hierarchy()"
      ],
      "execution_count": null,
      "outputs": [
        {
          "output_type": "display_data",
          "data": {
            "text/html": [
              "<html>\n",
              "<head><meta charset=\"utf-8\" /></head>\n",
              "<body>\n",
              "    <div>            <script src=\"https://cdnjs.cloudflare.com/ajax/libs/mathjax/2.7.5/MathJax.js?config=TeX-AMS-MML_SVG\"></script><script type=\"text/javascript\">if (window.MathJax) {MathJax.Hub.Config({SVG: {font: \"STIX-Web\"}});}</script>                <script type=\"text/javascript\">window.PlotlyConfig = {MathJaxConfig: 'local'};</script>\n",
              "        <script src=\"https://cdn.plot.ly/plotly-latest.min.js\"></script>                <div id=\"5c5dfb77-6716-4723-a7e6-64966ab9a2ee\" class=\"plotly-graph-div\" style=\"height:600px; width:1000px;\"></div>            <script type=\"text/javascript\">                                    window.PLOTLYENV=window.PLOTLYENV || {};                                    if (document.getElementById(\"5c5dfb77-6716-4723-a7e6-64966ab9a2ee\")) {                    Plotly.newPlot(                        \"5c5dfb77-6716-4723-a7e6-64966ab9a2ee\",                        [{\"hoverinfo\": \"text\", \"marker\": {\"color\": \"rgb(61,153,112)\"}, \"mode\": \"lines\", \"type\": \"scatter\", \"x\": [0.0, 0.3387158210855238, 0.3387158210855238, 0.0], \"xaxis\": \"x\", \"y\": [-25.0, -25.0, -35.0, -35.0], \"yaxis\": \"y\"}, {\"hoverinfo\": \"text\", \"marker\": {\"color\": \"rgb(61,153,112)\"}, \"mode\": \"lines\", \"type\": \"scatter\", \"x\": [0.0, 0.469136441999649, 0.469136441999649, 0.3387158210855238], \"xaxis\": \"x\", \"y\": [-15.0, -15.0, -30.0, -30.0], \"yaxis\": \"y\"}, {\"hoverinfo\": \"text\", \"marker\": {\"color\": \"rgb(61,153,112)\"}, \"mode\": \"lines\", \"type\": \"scatter\", \"x\": [0.0, 0.6355237235786518, 0.6355237235786518, 0.469136441999649], \"xaxis\": \"x\", \"y\": [-5.0, -5.0, -22.5, -22.5], \"yaxis\": \"y\"}, {\"hoverinfo\": \"text\", \"marker\": {\"color\": \"rgb(255,65,54)\"}, \"mode\": \"lines\", \"type\": \"scatter\", \"x\": [0.0, 0.4418299399622844, 0.4418299399622844, 0.0], \"xaxis\": \"x\", \"y\": [-55.0, -55.0, -65.0, -65.0], \"yaxis\": \"y\"}, {\"hoverinfo\": \"text\", \"marker\": {\"color\": \"rgb(255,65,54)\"}, \"mode\": \"lines\", \"type\": \"scatter\", \"x\": [0.0, 0.5516699203567532, 0.5516699203567532, 0.4418299399622844], \"xaxis\": \"x\", \"y\": [-45.0, -45.0, -60.0, -60.0], \"yaxis\": \"y\"}, {\"hoverinfo\": \"text\", \"marker\": {\"color\": \"rgb(255,65,54)\"}, \"mode\": \"lines\", \"type\": \"scatter\", \"x\": [0.0, 0.5536903894716991, 0.5536903894716991, 0.0], \"xaxis\": \"x\", \"y\": [-75.0, -75.0, -85.0, -85.0], \"yaxis\": \"y\"}, {\"hoverinfo\": \"text\", \"marker\": {\"color\": \"rgb(255,65,54)\"}, \"mode\": \"lines\", \"type\": \"scatter\", \"x\": [0.5516699203567532, 0.7945350551409494, 0.7945350551409494, 0.5536903894716991], \"xaxis\": \"x\", \"y\": [-52.5, -52.5, -80.0, -80.0], \"yaxis\": \"y\"}, {\"hoverinfo\": \"text\", \"marker\": {\"color\": \"rgb(0,116,217)\"}, \"mode\": \"lines\", \"type\": \"scatter\", \"x\": [0.6355237235786518, 1.3039124644619875, 1.3039124644619875, 0.7945350551409494], \"xaxis\": \"x\", \"y\": [-13.75, -13.75, -66.25, -66.25], \"yaxis\": \"y\"}, {\"hoverinfo\": \"text\", \"marker\": {\"color\": \"rgb(35,205,205)\"}, \"mode\": \"lines\", \"type\": \"scatter\", \"x\": [0.0, 0.9507463799059429, 0.9507463799059429, 0.0], \"xaxis\": \"x\", \"y\": [-115.0, -115.0, -125.0, -125.0], \"yaxis\": \"y\"}, {\"hoverinfo\": \"text\", \"marker\": {\"color\": \"rgb(0,116,217)\"}, \"mode\": \"lines\", \"type\": \"scatter\", \"x\": [0.0, 1.0375094282752482, 1.0375094282752482, 0.9507463799059429], \"xaxis\": \"x\", \"y\": [-105.0, -105.0, -120.0, -120.0], \"yaxis\": \"y\"}, {\"hoverinfo\": \"text\", \"marker\": {\"color\": \"rgb(0,116,217)\"}, \"mode\": \"lines\", \"type\": \"scatter\", \"x\": [0.0, 1.4027494354435603, 1.4027494354435603, 1.0375094282752482], \"xaxis\": \"x\", \"y\": [-95.0, -95.0, -112.5, -112.5], \"yaxis\": \"y\"}, {\"hoverinfo\": \"text\", \"marker\": {\"color\": \"rgb(133,20,75)\"}, \"mode\": \"lines\", \"type\": \"scatter\", \"x\": [0.0, 0.44373708813407003, 0.44373708813407003, 0.0], \"xaxis\": \"x\", \"y\": [-145.0, -145.0, -155.0, -155.0], \"yaxis\": \"y\"}, {\"hoverinfo\": \"text\", \"marker\": {\"color\": \"rgb(133,20,75)\"}, \"mode\": \"lines\", \"type\": \"scatter\", \"x\": [0.0, 0.6265564461992346, 0.6265564461992346, 0.0], \"xaxis\": \"x\", \"y\": [-175.0, -175.0, -185.0, -185.0], \"yaxis\": \"y\"}, {\"hoverinfo\": \"text\", \"marker\": {\"color\": \"rgb(133,20,75)\"}, \"mode\": \"lines\", \"type\": \"scatter\", \"x\": [0.0, 0.687772224158397, 0.687772224158397, 0.6265564461992346], \"xaxis\": \"x\", \"y\": [-165.0, -165.0, -180.0, -180.0], \"yaxis\": \"y\"}, {\"hoverinfo\": \"text\", \"marker\": {\"color\": \"rgb(133,20,75)\"}, \"mode\": \"lines\", \"type\": \"scatter\", \"x\": [0.44373708813407003, 0.9051762859980295, 0.9051762859980295, 0.687772224158397], \"xaxis\": \"x\", \"y\": [-150.0, -150.0, -172.5, -172.5], \"yaxis\": \"y\"}, {\"hoverinfo\": \"text\", \"marker\": {\"color\": \"rgb(0,116,217)\"}, \"mode\": \"lines\", \"type\": \"scatter\", \"x\": [0.0, 1.5066857322763294, 1.5066857322763294, 0.9051762859980295], \"xaxis\": \"x\", \"y\": [-135.0, -135.0, -161.25, -161.25], \"yaxis\": \"y\"}, {\"hoverinfo\": \"text\", \"marker\": {\"color\": \"rgb(0,116,217)\"}, \"mode\": \"lines\", \"type\": \"scatter\", \"x\": [1.4027494354435603, 1.7556256248129134, 1.7556256248129134, 1.5066857322763294], \"xaxis\": \"x\", \"y\": [-103.75, -103.75, -148.125, -148.125], \"yaxis\": \"y\"}, {\"hoverinfo\": \"text\", \"marker\": {\"color\": \"rgb(0,116,217)\"}, \"mode\": \"lines\", \"type\": \"scatter\", \"x\": [1.3039124644619875, 1.9688071555841538, 1.9688071555841538, 1.7556256248129134], \"xaxis\": \"x\", \"y\": [-40.0, -40.0, -125.9375, -125.9375], \"yaxis\": \"y\"}, {\"hoverinfo\": \"text\", \"marker\": {\"color\": \"rgb(255,220,0)\"}, \"mode\": \"lines\", \"type\": \"scatter\", \"x\": [0.0, 0.3289665244482317, 0.3289665244482317, 0.0], \"xaxis\": \"x\", \"y\": [-195.0, -195.0, -205.0, -205.0], \"yaxis\": \"y\"}, {\"hoverinfo\": \"text\", \"marker\": {\"color\": \"rgb(40,35,35)\"}, \"mode\": \"lines\", \"type\": \"scatter\", \"x\": [0.0, 0.3602799478148934, 0.3602799478148934, 0.0], \"xaxis\": \"x\", \"y\": [-215.0, -215.0, -225.0, -225.0], \"yaxis\": \"y\"}, {\"hoverinfo\": \"text\", \"marker\": {\"color\": \"rgb(61,153,112)\"}, \"mode\": \"lines\", \"type\": \"scatter\", \"x\": [0.0, 0.7657521862001783, 0.7657521862001783, 0.0], \"xaxis\": \"x\", \"y\": [-265.0, -265.0, -275.0, -275.0], \"yaxis\": \"y\"}, {\"hoverinfo\": \"text\", \"marker\": {\"color\": \"rgb(61,153,112)\"}, \"mode\": \"lines\", \"type\": \"scatter\", \"x\": [0.0, 0.818919763251534, 0.818919763251534, 0.7657521862001783], \"xaxis\": \"x\", \"y\": [-255.0, -255.0, -270.0, -270.0], \"yaxis\": \"y\"}, {\"hoverinfo\": \"text\", \"marker\": {\"color\": \"rgb(61,153,112)\"}, \"mode\": \"lines\", \"type\": \"scatter\", \"x\": [0.0, 0.9975583428550662, 0.9975583428550662, 0.818919763251534], \"xaxis\": \"x\", \"y\": [-245.0, -245.0, -262.5, -262.5], \"yaxis\": \"y\"}, {\"hoverinfo\": \"text\", \"marker\": {\"color\": \"rgb(0,116,217)\"}, \"mode\": \"lines\", \"type\": \"scatter\", \"x\": [0.0, 1.0443068414888914, 1.0443068414888914, 0.9975583428550662], \"xaxis\": \"x\", \"y\": [-235.0, -235.0, -253.75, -253.75], \"yaxis\": \"y\"}, {\"hoverinfo\": \"text\", \"marker\": {\"color\": \"rgb(0,116,217)\"}, \"mode\": \"lines\", \"type\": \"scatter\", \"x\": [0.3602799478148934, 1.3159466853806812, 1.3159466853806812, 1.0443068414888914], \"xaxis\": \"x\", \"y\": [-220.0, -220.0, -244.375, -244.375], \"yaxis\": \"y\"}, {\"hoverinfo\": \"text\", \"marker\": {\"color\": \"rgb(0,116,217)\"}, \"mode\": \"lines\", \"type\": \"scatter\", \"x\": [0.3289665244482317, 1.6060941889449551, 1.6060941889449551, 1.3159466853806812], \"xaxis\": \"x\", \"y\": [-200.0, -200.0, -232.1875, -232.1875], \"yaxis\": \"y\"}, {\"hoverinfo\": \"text\", \"marker\": {\"color\": \"rgb(255,65,54)\"}, \"mode\": \"lines\", \"type\": \"scatter\", \"x\": [0.0, 0.4987737635708448, 0.4987737635708448, 0.0], \"xaxis\": \"x\", \"y\": [-305.0, -305.0, -315.0, -315.0], \"yaxis\": \"y\"}, {\"hoverinfo\": \"text\", \"marker\": {\"color\": \"rgb(255,65,54)\"}, \"mode\": \"lines\", \"type\": \"scatter\", \"x\": [0.0, 0.9293780245373697, 0.9293780245373697, 0.4987737635708448], \"xaxis\": \"x\", \"y\": [-295.0, -295.0, -310.0, -310.0], \"yaxis\": \"y\"}, {\"hoverinfo\": \"text\", \"marker\": {\"color\": \"rgb(0,116,217)\"}, \"mode\": \"lines\", \"type\": \"scatter\", \"x\": [0.0, 1.0990599036250175, 1.0990599036250175, 0.9293780245373697], \"xaxis\": \"x\", \"y\": [-285.0, -285.0, -302.5, -302.5], \"yaxis\": \"y\"}, {\"hoverinfo\": \"text\", \"marker\": {\"color\": \"rgb(35,205,205)\"}, \"mode\": \"lines\", \"type\": \"scatter\", \"x\": [0.0, 0.6917158846555698, 0.6917158846555698, 0.0], \"xaxis\": \"x\", \"y\": [-325.0, -325.0, -335.0, -335.0], \"yaxis\": \"y\"}, {\"hoverinfo\": \"text\", \"marker\": {\"color\": \"rgb(0,116,217)\"}, \"mode\": \"lines\", \"type\": \"scatter\", \"x\": [0.0, 1.115671760752355, 1.115671760752355, 0.0], \"xaxis\": \"x\", \"y\": [-345.0, -345.0, -355.0, -355.0], \"yaxis\": \"y\"}, {\"hoverinfo\": \"text\", \"marker\": {\"color\": \"rgb(0,116,217)\"}, \"mode\": \"lines\", \"type\": \"scatter\", \"x\": [0.6917158846555698, 1.2500554080309756, 1.2500554080309756, 1.115671760752355], \"xaxis\": \"x\", \"y\": [-330.0, -330.0, -350.0, -350.0], \"yaxis\": \"y\"}, {\"hoverinfo\": \"text\", \"marker\": {\"color\": \"rgb(0,116,217)\"}, \"mode\": \"lines\", \"type\": \"scatter\", \"x\": [1.0990599036250175, 1.912213770176145, 1.912213770176145, 1.2500554080309756], \"xaxis\": \"x\", \"y\": [-293.75, -293.75, -340.0, -340.0], \"yaxis\": \"y\"}, {\"hoverinfo\": \"text\", \"marker\": {\"color\": \"rgb(0,116,217)\"}, \"mode\": \"lines\", \"type\": \"scatter\", \"x\": [1.6060941889449551, 2.6871581220804903, 2.6871581220804903, 1.912213770176145], \"xaxis\": \"x\", \"y\": [-216.09375, -216.09375, -316.875, -316.875], \"yaxis\": \"y\"}, {\"hoverinfo\": \"text\", \"marker\": {\"color\": \"rgb(0,116,217)\"}, \"mode\": \"lines\", \"type\": \"scatter\", \"x\": [0.0, 1.0111283946719511, 1.0111283946719511, 0.0], \"xaxis\": \"x\", \"y\": [-375.0, -375.0, -385.0, -385.0], \"yaxis\": \"y\"}, {\"hoverinfo\": \"text\", \"marker\": {\"color\": \"rgb(0,116,217)\"}, \"mode\": \"lines\", \"type\": \"scatter\", \"x\": [0.0, 1.157373010618578, 1.157373010618578, 1.0111283946719511], \"xaxis\": \"x\", \"y\": [-365.0, -365.0, -380.0, -380.0], \"yaxis\": \"y\"}, {\"hoverinfo\": \"text\", \"marker\": {\"color\": \"rgb(133,20,75)\"}, \"mode\": \"lines\", \"type\": \"scatter\", \"x\": [0.0, 0.8111077744130468, 0.8111077744130468, 0.0], \"xaxis\": \"x\", \"y\": [-405.0, -405.0, -415.0, -415.0], \"yaxis\": \"y\"}, {\"hoverinfo\": \"text\", \"marker\": {\"color\": \"rgb(0,116,217)\"}, \"mode\": \"lines\", \"type\": \"scatter\", \"x\": [0.0, 1.3467657005571496, 1.3467657005571496, 0.8111077744130468], \"xaxis\": \"x\", \"y\": [-395.0, -395.0, -410.0, -410.0], \"yaxis\": \"y\"}, {\"hoverinfo\": \"text\", \"marker\": {\"color\": \"rgb(0,116,217)\"}, \"mode\": \"lines\", \"type\": \"scatter\", \"x\": [1.157373010618578, 1.822242439305986, 1.822242439305986, 1.3467657005571496], \"xaxis\": \"x\", \"y\": [-372.5, -372.5, -402.5, -402.5], \"yaxis\": \"y\"}, {\"hoverinfo\": \"text\", \"marker\": {\"color\": \"rgb(255,220,0)\"}, \"mode\": \"lines\", \"type\": \"scatter\", \"x\": [0.0, 0.7558698286810557, 0.7558698286810557, 0.0], \"xaxis\": \"x\", \"y\": [-435.0, -435.0, -445.0, -445.0], \"yaxis\": \"y\"}, {\"hoverinfo\": \"text\", \"marker\": {\"color\": \"rgb(255,220,0)\"}, \"mode\": \"lines\", \"type\": \"scatter\", \"x\": [0.0, 0.893117842866969, 0.893117842866969, 0.7558698286810557], \"xaxis\": \"x\", \"y\": [-425.0, -425.0, -440.0, -440.0], \"yaxis\": \"y\"}, {\"hoverinfo\": \"text\", \"marker\": {\"color\": \"rgb(0,116,217)\"}, \"mode\": \"lines\", \"type\": \"scatter\", \"x\": [0.0, 1.1332554832085624, 1.1332554832085624, 0.0], \"xaxis\": \"x\", \"y\": [-455.0, -455.0, -465.0, -465.0], \"yaxis\": \"y\"}, {\"hoverinfo\": \"text\", \"marker\": {\"color\": \"rgb(0,116,217)\"}, \"mode\": \"lines\", \"type\": \"scatter\", \"x\": [0.893117842866969, 1.4125400612941288, 1.4125400612941288, 1.1332554832085624], \"xaxis\": \"x\", \"y\": [-432.5, -432.5, -460.0, -460.0], \"yaxis\": \"y\"}, {\"hoverinfo\": \"text\", \"marker\": {\"color\": \"rgb(40,35,35)\"}, \"mode\": \"lines\", \"type\": \"scatter\", \"x\": [0.0, 0.808403745874882, 0.808403745874882, 0.0], \"xaxis\": \"x\", \"y\": [-485.0, -485.0, -495.0, -495.0], \"yaxis\": \"y\"}, {\"hoverinfo\": \"text\", \"marker\": {\"color\": \"rgb(40,35,35)\"}, \"mode\": \"lines\", \"type\": \"scatter\", \"x\": [0.0, 0.9930981026021314, 0.9930981026021314, 0.808403745874882], \"xaxis\": \"x\", \"y\": [-475.0, -475.0, -490.0, -490.0], \"yaxis\": \"y\"}, {\"hoverinfo\": \"text\", \"marker\": {\"color\": \"rgb(0,116,217)\"}, \"mode\": \"lines\", \"type\": \"scatter\", \"x\": [0.0, 1.1865078419092319, 1.1865078419092319, 0.0], \"xaxis\": \"x\", \"y\": [-505.0, -505.0, -515.0, -515.0], \"yaxis\": \"y\"}, {\"hoverinfo\": \"text\", \"marker\": {\"color\": \"rgb(0,116,217)\"}, \"mode\": \"lines\", \"type\": \"scatter\", \"x\": [0.9930981026021314, 1.5935739394220862, 1.5935739394220862, 1.1865078419092319], \"xaxis\": \"x\", \"y\": [-482.5, -482.5, -510.0, -510.0], \"yaxis\": \"y\"}, {\"hoverinfo\": \"text\", \"marker\": {\"color\": \"rgb(0,116,217)\"}, \"mode\": \"lines\", \"type\": \"scatter\", \"x\": [1.4125400612941288, 2.1399095343126393, 2.1399095343126393, 1.5935739394220862], \"xaxis\": \"x\", \"y\": [-446.25, -446.25, -496.25, -496.25], \"yaxis\": \"y\"}, {\"hoverinfo\": \"text\", \"marker\": {\"color\": \"rgb(0,116,217)\"}, \"mode\": \"lines\", \"type\": \"scatter\", \"x\": [1.822242439305986, 2.2838226294239865, 2.2838226294239865, 2.1399095343126393], \"xaxis\": \"x\", \"y\": [-387.5, -387.5, -471.25, -471.25], \"yaxis\": \"y\"}, {\"hoverinfo\": \"text\", \"marker\": {\"color\": \"rgb(61,153,112)\"}, \"mode\": \"lines\", \"type\": \"scatter\", \"x\": [0.0, 0.6317310681950049, 0.6317310681950049, 0.0], \"xaxis\": \"x\", \"y\": [-525.0, -525.0, -535.0, -535.0], \"yaxis\": \"y\"}, {\"hoverinfo\": \"text\", \"marker\": {\"color\": \"rgb(255,65,54)\"}, \"mode\": \"lines\", \"type\": \"scatter\", \"x\": [0.0, 0.8761165954407569, 0.8761165954407569, 0.0], \"xaxis\": \"x\", \"y\": [-555.0, -555.0, -565.0, -565.0], \"yaxis\": \"y\"}, {\"hoverinfo\": \"text\", \"marker\": {\"color\": \"rgb(0,116,217)\"}, \"mode\": \"lines\", \"type\": \"scatter\", \"x\": [0.0, 1.0139640576110318, 1.0139640576110318, 0.8761165954407569], \"xaxis\": \"x\", \"y\": [-545.0, -545.0, -560.0, -560.0], \"yaxis\": \"y\"}, {\"hoverinfo\": \"text\", \"marker\": {\"color\": \"rgb(0,116,217)\"}, \"mode\": \"lines\", \"type\": \"scatter\", \"x\": [0.6317310681950049, 1.2225876110315832, 1.2225876110315832, 1.0139640576110318], \"xaxis\": \"x\", \"y\": [-530.0, -530.0, -552.5, -552.5], \"yaxis\": \"y\"}, {\"hoverinfo\": \"text\", \"marker\": {\"color\": \"rgb(0,116,217)\"}, \"mode\": \"lines\", \"type\": \"scatter\", \"x\": [0.0, 1.0632436336659838, 1.0632436336659838, 0.0], \"xaxis\": \"x\", \"y\": [-595.0, -595.0, -605.0, -605.0], \"yaxis\": \"y\"}, {\"hoverinfo\": \"text\", \"marker\": {\"color\": \"rgb(0,116,217)\"}, \"mode\": \"lines\", \"type\": \"scatter\", \"x\": [0.0, 1.2751271032406057, 1.2751271032406057, 1.0632436336659838], \"xaxis\": \"x\", \"y\": [-585.0, -585.0, -600.0, -600.0], \"yaxis\": \"y\"}, {\"hoverinfo\": \"text\", \"marker\": {\"color\": \"rgb(0,116,217)\"}, \"mode\": \"lines\", \"type\": \"scatter\", \"x\": [0.0, 1.6063021932308352, 1.6063021932308352, 1.2751271032406057], \"xaxis\": \"x\", \"y\": [-575.0, -575.0, -592.5, -592.5], \"yaxis\": \"y\"}, {\"hoverinfo\": \"text\", \"marker\": {\"color\": \"rgb(35,205,205)\"}, \"mode\": \"lines\", \"type\": \"scatter\", \"x\": [0.0, 0.8140519826550316, 0.8140519826550316, 0.0], \"xaxis\": \"x\", \"y\": [-615.0, -615.0, -625.0, -625.0], \"yaxis\": \"y\"}, {\"hoverinfo\": \"text\", \"marker\": {\"color\": \"rgb(0,116,217)\"}, \"mode\": \"lines\", \"type\": \"scatter\", \"x\": [0.0, 1.1509898328493289, 1.1509898328493289, 0.0], \"xaxis\": \"x\", \"y\": [-645.0, -645.0, -655.0, -655.0], \"yaxis\": \"y\"}, {\"hoverinfo\": \"text\", \"marker\": {\"color\": \"rgb(0,116,217)\"}, \"mode\": \"lines\", \"type\": \"scatter\", \"x\": [0.0, 1.4339819809511398, 1.4339819809511398, 1.1509898328493289], \"xaxis\": \"x\", \"y\": [-635.0, -635.0, -650.0, -650.0], \"yaxis\": \"y\"}, {\"hoverinfo\": \"text\", \"marker\": {\"color\": \"rgb(0,116,217)\"}, \"mode\": \"lines\", \"type\": \"scatter\", \"x\": [0.8140519826550316, 1.6997159103954422, 1.6997159103954422, 1.4339819809511398], \"xaxis\": \"x\", \"y\": [-620.0, -620.0, -642.5, -642.5], \"yaxis\": \"y\"}, {\"hoverinfo\": \"text\", \"marker\": {\"color\": \"rgb(0,116,217)\"}, \"mode\": \"lines\", \"type\": \"scatter\", \"x\": [1.6063021932308352, 2.095891606436709, 2.095891606436709, 1.6997159103954422], \"xaxis\": \"x\", \"y\": [-583.75, -583.75, -631.25, -631.25], \"yaxis\": \"y\"}, {\"hoverinfo\": \"text\", \"marker\": {\"color\": \"rgb(133,20,75)\"}, \"mode\": \"lines\", \"type\": \"scatter\", \"x\": [0.0, 0.8276404710785015, 0.8276404710785015, 0.0], \"xaxis\": \"x\", \"y\": [-665.0, -665.0, -675.0, -675.0], \"yaxis\": \"y\"}, {\"hoverinfo\": \"text\", \"marker\": {\"color\": \"rgb(255,220,0)\"}, \"mode\": \"lines\", \"type\": \"scatter\", \"x\": [0.0, 0.9092278175772754, 0.9092278175772754, 0.0], \"xaxis\": \"x\", \"y\": [-685.0, -685.0, -695.0, -695.0], \"yaxis\": \"y\"}, {\"hoverinfo\": \"text\", \"marker\": {\"color\": \"rgb(0,116,217)\"}, \"mode\": \"lines\", \"type\": \"scatter\", \"x\": [0.8276404710785015, 1.1725485230575208, 1.1725485230575208, 0.9092278175772754], \"xaxis\": \"x\", \"y\": [-670.0, -670.0, -690.0, -690.0], \"yaxis\": \"y\"}, {\"hoverinfo\": \"text\", \"marker\": {\"color\": \"rgb(40,35,35)\"}, \"mode\": \"lines\", \"type\": \"scatter\", \"x\": [0.0, 0.8575364930503845, 0.8575364930503845, 0.0], \"xaxis\": \"x\", \"y\": [-705.0, -705.0, -715.0, -715.0], \"yaxis\": \"y\"}, {\"hoverinfo\": \"text\", \"marker\": {\"color\": \"rgb(0,116,217)\"}, \"mode\": \"lines\", \"type\": \"scatter\", \"x\": [0.0, 1.0279239039203045, 1.0279239039203045, 0.0], \"xaxis\": \"x\", \"y\": [-725.0, -725.0, -735.0, -735.0], \"yaxis\": \"y\"}, {\"hoverinfo\": \"text\", \"marker\": {\"color\": \"rgb(0,116,217)\"}, \"mode\": \"lines\", \"type\": \"scatter\", \"x\": [0.8575364930503845, 1.3200610300994209, 1.3200610300994209, 1.0279239039203045], \"xaxis\": \"x\", \"y\": [-710.0, -710.0, -730.0, -730.0], \"yaxis\": \"y\"}, {\"hoverinfo\": \"text\", \"marker\": {\"color\": \"rgb(0,116,217)\"}, \"mode\": \"lines\", \"type\": \"scatter\", \"x\": [0.0, 1.1595962453463775, 1.1595962453463775, 0.0], \"xaxis\": \"x\", \"y\": [-745.0, -745.0, -755.0, -755.0], \"yaxis\": \"y\"}, {\"hoverinfo\": \"text\", \"marker\": {\"color\": \"rgb(61,153,112)\"}, \"mode\": \"lines\", \"type\": \"scatter\", \"x\": [0.0, 0.854356008045913, 0.854356008045913, 0.0], \"xaxis\": \"x\", \"y\": [-765.0, -765.0, -775.0, -775.0], \"yaxis\": \"y\"}, {\"hoverinfo\": \"text\", \"marker\": {\"color\": \"rgb(255,65,54)\"}, \"mode\": \"lines\", \"type\": \"scatter\", \"x\": [0.0, 0.97136332286099, 0.97136332286099, 0.0], \"xaxis\": \"x\", \"y\": [-785.0, -785.0, -795.0, -795.0], \"yaxis\": \"y\"}, {\"hoverinfo\": \"text\", \"marker\": {\"color\": \"rgb(0,116,217)\"}, \"mode\": \"lines\", \"type\": \"scatter\", \"x\": [0.854356008045913, 1.2047228477400838, 1.2047228477400838, 0.97136332286099], \"xaxis\": \"x\", \"y\": [-770.0, -770.0, -790.0, -790.0], \"yaxis\": \"y\"}, {\"hoverinfo\": \"text\", \"marker\": {\"color\": \"rgb(0,116,217)\"}, \"mode\": \"lines\", \"type\": \"scatter\", \"x\": [1.1595962453463775, 1.3672539087682627, 1.3672539087682627, 1.2047228477400838], \"xaxis\": \"x\", \"y\": [-750.0, -750.0, -780.0, -780.0], \"yaxis\": \"y\"}, {\"hoverinfo\": \"text\", \"marker\": {\"color\": \"rgb(0,116,217)\"}, \"mode\": \"lines\", \"type\": \"scatter\", \"x\": [1.3200610300994209, 1.66800318834176, 1.66800318834176, 1.3672539087682627], \"xaxis\": \"x\", \"y\": [-720.0, -720.0, -765.0, -765.0], \"yaxis\": \"y\"}, {\"hoverinfo\": \"text\", \"marker\": {\"color\": \"rgb(0,116,217)\"}, \"mode\": \"lines\", \"type\": \"scatter\", \"x\": [1.1725485230575208, 2.2692225484550326, 2.2692225484550326, 1.66800318834176], \"xaxis\": \"x\", \"y\": [-680.0, -680.0, -742.5, -742.5], \"yaxis\": \"y\"}, {\"hoverinfo\": \"text\", \"marker\": {\"color\": \"rgb(0,116,217)\"}, \"mode\": \"lines\", \"type\": \"scatter\", \"x\": [2.095891606436709, 2.5527738465914673, 2.5527738465914673, 2.2692225484550326], \"xaxis\": \"x\", \"y\": [-607.5, -607.5, -711.25, -711.25], \"yaxis\": \"y\"}, {\"hoverinfo\": \"text\", \"marker\": {\"color\": \"rgb(0,116,217)\"}, \"mode\": \"lines\", \"type\": \"scatter\", \"x\": [1.2225876110315832, 3.192342648827002, 3.192342648827002, 2.5527738465914673], \"xaxis\": \"x\", \"y\": [-541.25, -541.25, -659.375, -659.375], \"yaxis\": \"y\"}, {\"hoverinfo\": \"text\", \"marker\": {\"color\": \"rgb(0,116,217)\"}, \"mode\": \"lines\", \"type\": \"scatter\", \"x\": [2.2838226294239865, 3.7081301591332445, 3.7081301591332445, 3.192342648827002], \"xaxis\": \"x\", \"y\": [-429.375, -429.375, -600.3125, -600.3125], \"yaxis\": \"y\"}, {\"hoverinfo\": \"text\", \"marker\": {\"color\": \"rgb(0,116,217)\"}, \"mode\": \"lines\", \"type\": \"scatter\", \"x\": [2.6871581220804903, 6.000967683604643, 6.000967683604643, 3.7081301591332445], \"xaxis\": \"x\", \"y\": [-266.484375, -266.484375, -514.84375, -514.84375], \"yaxis\": \"y\"}, {\"hoverinfo\": \"text\", \"marker\": {\"color\": \"rgb(0,116,217)\"}, \"mode\": \"lines\", \"type\": \"scatter\", \"x\": [1.9688071555841538, 10.248844108630179, 10.248844108630179, 6.000967683604643], \"xaxis\": \"x\", \"y\": [-82.96875, -82.96875, -390.6640625, -390.6640625], \"yaxis\": \"y\"}],                        {\"autosize\": false, \"height\": 600, \"hoverlabel\": {\"bgcolor\": \"white\", \"font\": {\"family\": \"Rockwell\", \"size\": 16}}, \"hovermode\": \"closest\", \"plot_bgcolor\": \"#ECEFF1\", \"showlegend\": false, \"template\": {\"data\": {\"bar\": [{\"error_x\": {\"color\": \"#2a3f5f\"}, \"error_y\": {\"color\": \"#2a3f5f\"}, \"marker\": {\"line\": {\"color\": \"white\", \"width\": 0.5}}, \"type\": \"bar\"}], \"barpolar\": [{\"marker\": {\"line\": {\"color\": \"white\", \"width\": 0.5}}, \"type\": \"barpolar\"}], \"carpet\": [{\"aaxis\": {\"endlinecolor\": \"#2a3f5f\", \"gridcolor\": \"#C8D4E3\", \"linecolor\": \"#C8D4E3\", \"minorgridcolor\": \"#C8D4E3\", \"startlinecolor\": \"#2a3f5f\"}, \"baxis\": {\"endlinecolor\": \"#2a3f5f\", \"gridcolor\": \"#C8D4E3\", \"linecolor\": \"#C8D4E3\", \"minorgridcolor\": \"#C8D4E3\", \"startlinecolor\": \"#2a3f5f\"}, \"type\": \"carpet\"}], \"choropleth\": [{\"colorbar\": {\"outlinewidth\": 0, \"ticks\": \"\"}, \"type\": \"choropleth\"}], \"contour\": [{\"colorbar\": {\"outlinewidth\": 0, \"ticks\": \"\"}, \"colorscale\": [[0.0, \"#0d0887\"], [0.1111111111111111, \"#46039f\"], [0.2222222222222222, \"#7201a8\"], [0.3333333333333333, \"#9c179e\"], [0.4444444444444444, \"#bd3786\"], [0.5555555555555556, \"#d8576b\"], [0.6666666666666666, \"#ed7953\"], [0.7777777777777778, \"#fb9f3a\"], [0.8888888888888888, \"#fdca26\"], [1.0, \"#f0f921\"]], \"type\": \"contour\"}], \"contourcarpet\": [{\"colorbar\": {\"outlinewidth\": 0, \"ticks\": \"\"}, \"type\": \"contourcarpet\"}], \"heatmap\": [{\"colorbar\": {\"outlinewidth\": 0, \"ticks\": \"\"}, \"colorscale\": [[0.0, \"#0d0887\"], [0.1111111111111111, \"#46039f\"], [0.2222222222222222, \"#7201a8\"], [0.3333333333333333, \"#9c179e\"], [0.4444444444444444, \"#bd3786\"], [0.5555555555555556, \"#d8576b\"], [0.6666666666666666, \"#ed7953\"], [0.7777777777777778, \"#fb9f3a\"], [0.8888888888888888, \"#fdca26\"], [1.0, \"#f0f921\"]], \"type\": \"heatmap\"}], \"heatmapgl\": [{\"colorbar\": {\"outlinewidth\": 0, \"ticks\": \"\"}, \"colorscale\": [[0.0, \"#0d0887\"], [0.1111111111111111, \"#46039f\"], [0.2222222222222222, \"#7201a8\"], [0.3333333333333333, \"#9c179e\"], [0.4444444444444444, \"#bd3786\"], [0.5555555555555556, \"#d8576b\"], [0.6666666666666666, \"#ed7953\"], [0.7777777777777778, \"#fb9f3a\"], [0.8888888888888888, \"#fdca26\"], [1.0, \"#f0f921\"]], \"type\": \"heatmapgl\"}], \"histogram\": [{\"marker\": {\"colorbar\": {\"outlinewidth\": 0, \"ticks\": \"\"}}, \"type\": \"histogram\"}], \"histogram2d\": [{\"colorbar\": {\"outlinewidth\": 0, \"ticks\": \"\"}, \"colorscale\": [[0.0, \"#0d0887\"], [0.1111111111111111, \"#46039f\"], [0.2222222222222222, \"#7201a8\"], [0.3333333333333333, \"#9c179e\"], [0.4444444444444444, \"#bd3786\"], [0.5555555555555556, \"#d8576b\"], [0.6666666666666666, \"#ed7953\"], [0.7777777777777778, \"#fb9f3a\"], [0.8888888888888888, \"#fdca26\"], [1.0, \"#f0f921\"]], \"type\": \"histogram2d\"}], \"histogram2dcontour\": [{\"colorbar\": {\"outlinewidth\": 0, \"ticks\": \"\"}, \"colorscale\": [[0.0, \"#0d0887\"], [0.1111111111111111, \"#46039f\"], [0.2222222222222222, \"#7201a8\"], [0.3333333333333333, \"#9c179e\"], [0.4444444444444444, \"#bd3786\"], [0.5555555555555556, \"#d8576b\"], [0.6666666666666666, \"#ed7953\"], [0.7777777777777778, \"#fb9f3a\"], [0.8888888888888888, \"#fdca26\"], [1.0, \"#f0f921\"]], \"type\": \"histogram2dcontour\"}], \"mesh3d\": [{\"colorbar\": {\"outlinewidth\": 0, \"ticks\": \"\"}, \"type\": \"mesh3d\"}], \"parcoords\": [{\"line\": {\"colorbar\": {\"outlinewidth\": 0, \"ticks\": \"\"}}, \"type\": \"parcoords\"}], \"pie\": [{\"automargin\": true, \"type\": \"pie\"}], \"scatter\": [{\"marker\": {\"colorbar\": {\"outlinewidth\": 0, \"ticks\": \"\"}}, \"type\": \"scatter\"}], \"scatter3d\": [{\"line\": {\"colorbar\": {\"outlinewidth\": 0, \"ticks\": \"\"}}, \"marker\": {\"colorbar\": {\"outlinewidth\": 0, \"ticks\": \"\"}}, \"type\": \"scatter3d\"}], \"scattercarpet\": [{\"marker\": {\"colorbar\": {\"outlinewidth\": 0, \"ticks\": \"\"}}, \"type\": \"scattercarpet\"}], \"scattergeo\": [{\"marker\": {\"colorbar\": {\"outlinewidth\": 0, \"ticks\": \"\"}}, \"type\": \"scattergeo\"}], \"scattergl\": [{\"marker\": {\"colorbar\": {\"outlinewidth\": 0, \"ticks\": \"\"}}, \"type\": \"scattergl\"}], \"scattermapbox\": [{\"marker\": {\"colorbar\": {\"outlinewidth\": 0, \"ticks\": \"\"}}, \"type\": \"scattermapbox\"}], \"scatterpolar\": [{\"marker\": {\"colorbar\": {\"outlinewidth\": 0, \"ticks\": \"\"}}, \"type\": \"scatterpolar\"}], \"scatterpolargl\": [{\"marker\": {\"colorbar\": {\"outlinewidth\": 0, \"ticks\": \"\"}}, \"type\": \"scatterpolargl\"}], \"scatterternary\": [{\"marker\": {\"colorbar\": {\"outlinewidth\": 0, \"ticks\": \"\"}}, \"type\": \"scatterternary\"}], \"surface\": [{\"colorbar\": {\"outlinewidth\": 0, \"ticks\": \"\"}, \"colorscale\": [[0.0, \"#0d0887\"], [0.1111111111111111, \"#46039f\"], [0.2222222222222222, \"#7201a8\"], [0.3333333333333333, \"#9c179e\"], [0.4444444444444444, \"#bd3786\"], [0.5555555555555556, \"#d8576b\"], [0.6666666666666666, \"#ed7953\"], [0.7777777777777778, \"#fb9f3a\"], [0.8888888888888888, \"#fdca26\"], [1.0, \"#f0f921\"]], \"type\": \"surface\"}], \"table\": [{\"cells\": {\"fill\": {\"color\": \"#EBF0F8\"}, \"line\": {\"color\": \"white\"}}, \"header\": {\"fill\": {\"color\": \"#C8D4E3\"}, \"line\": {\"color\": \"white\"}}, \"type\": \"table\"}]}, \"layout\": {\"annotationdefaults\": {\"arrowcolor\": \"#2a3f5f\", \"arrowhead\": 0, \"arrowwidth\": 1}, \"autotypenumbers\": \"strict\", \"coloraxis\": {\"colorbar\": {\"outlinewidth\": 0, \"ticks\": \"\"}}, \"colorscale\": {\"diverging\": [[0, \"#8e0152\"], [0.1, \"#c51b7d\"], [0.2, \"#de77ae\"], [0.3, \"#f1b6da\"], [0.4, \"#fde0ef\"], [0.5, \"#f7f7f7\"], [0.6, \"#e6f5d0\"], [0.7, \"#b8e186\"], [0.8, \"#7fbc41\"], [0.9, \"#4d9221\"], [1, \"#276419\"]], \"sequential\": [[0.0, \"#0d0887\"], [0.1111111111111111, \"#46039f\"], [0.2222222222222222, \"#7201a8\"], [0.3333333333333333, \"#9c179e\"], [0.4444444444444444, \"#bd3786\"], [0.5555555555555556, \"#d8576b\"], [0.6666666666666666, \"#ed7953\"], [0.7777777777777778, \"#fb9f3a\"], [0.8888888888888888, \"#fdca26\"], [1.0, \"#f0f921\"]], \"sequentialminus\": [[0.0, \"#0d0887\"], [0.1111111111111111, \"#46039f\"], [0.2222222222222222, \"#7201a8\"], [0.3333333333333333, \"#9c179e\"], [0.4444444444444444, \"#bd3786\"], [0.5555555555555556, \"#d8576b\"], [0.6666666666666666, \"#ed7953\"], [0.7777777777777778, \"#fb9f3a\"], [0.8888888888888888, \"#fdca26\"], [1.0, \"#f0f921\"]]}, \"colorway\": [\"#636efa\", \"#EF553B\", \"#00cc96\", \"#ab63fa\", \"#FFA15A\", \"#19d3f3\", \"#FF6692\", \"#B6E880\", \"#FF97FF\", \"#FECB52\"], \"font\": {\"color\": \"#2a3f5f\"}, \"geo\": {\"bgcolor\": \"white\", \"lakecolor\": \"white\", \"landcolor\": \"white\", \"showlakes\": true, \"showland\": true, \"subunitcolor\": \"#C8D4E3\"}, \"hoverlabel\": {\"align\": \"left\"}, \"hovermode\": \"closest\", \"mapbox\": {\"style\": \"light\"}, \"paper_bgcolor\": \"white\", \"plot_bgcolor\": \"white\", \"polar\": {\"angularaxis\": {\"gridcolor\": \"#EBF0F8\", \"linecolor\": \"#EBF0F8\", \"ticks\": \"\"}, \"bgcolor\": \"white\", \"radialaxis\": {\"gridcolor\": \"#EBF0F8\", \"linecolor\": \"#EBF0F8\", \"ticks\": \"\"}}, \"scene\": {\"xaxis\": {\"backgroundcolor\": \"white\", \"gridcolor\": \"#DFE8F3\", \"gridwidth\": 2, \"linecolor\": \"#EBF0F8\", \"showbackground\": true, \"ticks\": \"\", \"zerolinecolor\": \"#EBF0F8\"}, \"yaxis\": {\"backgroundcolor\": \"white\", \"gridcolor\": \"#DFE8F3\", \"gridwidth\": 2, \"linecolor\": \"#EBF0F8\", \"showbackground\": true, \"ticks\": \"\", \"zerolinecolor\": \"#EBF0F8\"}, \"zaxis\": {\"backgroundcolor\": \"white\", \"gridcolor\": \"#DFE8F3\", \"gridwidth\": 2, \"linecolor\": \"#EBF0F8\", \"showbackground\": true, \"ticks\": \"\", \"zerolinecolor\": \"#EBF0F8\"}}, \"shapedefaults\": {\"line\": {\"color\": \"#2a3f5f\"}}, \"ternary\": {\"aaxis\": {\"gridcolor\": \"#DFE8F3\", \"linecolor\": \"#A2B1C6\", \"ticks\": \"\"}, \"baxis\": {\"gridcolor\": \"#DFE8F3\", \"linecolor\": \"#A2B1C6\", \"ticks\": \"\"}, \"bgcolor\": \"white\", \"caxis\": {\"gridcolor\": \"#DFE8F3\", \"linecolor\": \"#A2B1C6\", \"ticks\": \"\"}}, \"title\": {\"x\": 0.05}, \"xaxis\": {\"automargin\": true, \"gridcolor\": \"#EBF0F8\", \"linecolor\": \"#EBF0F8\", \"ticks\": \"\", \"title\": {\"standoff\": 15}, \"zerolinecolor\": \"#EBF0F8\", \"zerolinewidth\": 2}, \"yaxis\": {\"automargin\": true, \"gridcolor\": \"#EBF0F8\", \"linecolor\": \"#EBF0F8\", \"ticks\": \"\", \"title\": {\"standoff\": 15}, \"zerolinecolor\": \"#EBF0F8\", \"zerolinewidth\": 2}}}, \"title\": {\"font\": {\"color\": \"Black\", \"size\": 22}, \"text\": \"<b>Hierarchical Clustering\", \"x\": 0.5, \"xanchor\": \"center\", \"y\": 0.95, \"yanchor\": \"top\"}, \"width\": 1000, \"xaxis\": {\"mirror\": \"allticks\", \"rangemode\": \"tozero\", \"showgrid\": false, \"showline\": true, \"showticklabels\": true, \"ticks\": \"outside\", \"type\": \"linear\", \"zeroline\": false}, \"yaxis\": {\"mirror\": \"allticks\", \"rangemode\": \"tozero\", \"showgrid\": false, \"showline\": true, \"showticklabels\": true, \"tickmode\": \"array\", \"ticks\": \"outside\", \"ticktext\": [\"1_single_album_song\", \"43_album_rock_band\", \"-1_band_album_release\", \"8_release_album_band\", \"21_band_butler_album\", \"30_album_band_record\", \"44_band_concert_album\", \"12_band_rock_guitar\", \"34_metal_band_punk\", \"46_mccartney_lennon_beatles\", \"56_ronettes_keibler_nedra\", \"63_nilsson_mangum_jesperson\", \"66_sean_billboard_album\", \"13_orchestra_composer_symph...\", \"26_sound_song_music\", \"68_song_lyric_dylan\", \"19_music_father_musician\", \"17_jazz_ellington_mingus\", \"55_bacharach_joplin_music\", \"16_cricket_australia_odi\", \"54_cricket_test_wicket\", \"14_nba_game_basketball\", \"67_basketball_nba_ncaa\", \"52_richmond_collingwood_pre...\", \"4_baseball_sox_bat\", \"31_nhl_hockey_sakic\", \"5_football_nfl_touchdown\", \"23_cup_goal_cardiff\", \"36_driver_car_prix\", \"50_iaaf_olympics_olympic\", \"59_race_rider_marquez\", \"71_merckx_race_cycling\", \"6_wrestling_wwf_wwe\", \"45_tyson_fight_knockout\", \"15_tennis_tournament_wimble...\", \"69_horse_secretariat_crown\", \"20_russian_soviet_chechen\", \"41_chinese_china_zhang\", \"77_israel_israeli_lebanon\", \"76_alaska_forest_anchorage\", \"32_indigenous_maya_mexico\", \"47_tribe_native_plains\", \"39_portuguese_spanish_exped...\", \"25_neruda_dali_spanish\", \"40_rouvas_rivera_sugababes\", \"24_maldini_milan_italy\", \"58_caesar_rome_claudius\", \"29_muhammad_sharif_pakistan\", \"11_kapoor_indian_actress\", \"33_hindu_sri_malayalam\", \"28_japanese_japan_oricon\", \"70_salonga_kardashian_kim\", \"7_comics_batman_character\", \"60_comicstrip_spiegelman_co...\", \"27_novel_book_capote\", \"0_television_comedy_show\", \"74_knotts_jackass_stunt\", \"64_carson_hendrix_mother\", \"10_marry_divorce_marriage\", \"3_school_family_father\", \"37_death_winehouse_funeral\", \"22_marine_pilot_army\", \"65_custer_army_confederate\", \"73_escobar_drug_cocaine\", \"38_black_civil_obama\", \"49_arrest_kunstler_probation\", \"9_republican_election_senate\", \"53_election_bjp_nkrumah\", \"42_brennan_cia_intelligence\", \"48_labour_cameron_conservat...\", \"61_rothstein_investor_firm\", \"75_attorney_giuliani_firm\", \"51_king_peerage_elizabeth\", \"78_evans_osborne_museum\", \"18_painting_art_hoffmann\", \"35_hitler_rubinstein_steiner\", \"2_theory_freud_philosophy\", \"72_socialism_unitarian_social\", \"57_teach_university_harvard\", \"62_iorga_university_maiorescu\"], \"tickvals\": [-5.0, -15.0, -25.0, -35.0, -45.0, -55.0, -65.0, -75.0, -85.0, -95.0, -105.0, -115.0, -125.0, -135.0, -145.0, -155.0, -165.0, -175.0, -185.0, -195.0, -205.0, -215.0, -225.0, -235.0, -245.0, -255.0, -265.0, -275.0, -285.0, -295.0, -305.0, -315.0, -325.0, -335.0, -345.0, -355.0, -365.0, -375.0, -385.0, -395.0, -405.0, -415.0, -425.0, -435.0, -445.0, -455.0, -465.0, -475.0, -485.0, -495.0, -505.0, -515.0, -525.0, -535.0, -545.0, -555.0, -565.0, -575.0, -585.0, -595.0, -605.0, -615.0, -625.0, -635.0, -645.0, -655.0, -665.0, -675.0, -685.0, -695.0, -705.0, -715.0, -725.0, -735.0, -745.0, -755.0, -765.0, -775.0, -785.0, -795.0], \"type\": \"linear\", \"zeroline\": false}},                        {\"responsive\": true}                    ).then(function(){\n",
              "                            \n",
              "var gd = document.getElementById('5c5dfb77-6716-4723-a7e6-64966ab9a2ee');\n",
              "var x = new MutationObserver(function (mutations, observer) {{\n",
              "        var display = window.getComputedStyle(gd).display;\n",
              "        if (!display || display === 'none') {{\n",
              "            console.log([gd, 'removed!']);\n",
              "            Plotly.purge(gd);\n",
              "            observer.disconnect();\n",
              "        }}\n",
              "}});\n",
              "\n",
              "// Listen for the removal of the full notebook cells\n",
              "var notebookContainer = gd.closest('#notebook-container');\n",
              "if (notebookContainer) {{\n",
              "    x.observe(notebookContainer, {childList: true});\n",
              "}}\n",
              "\n",
              "// Listen for the clearing of the current output cell\n",
              "var outputEl = gd.closest('.output');\n",
              "if (outputEl) {{\n",
              "    x.observe(outputEl, {childList: true});\n",
              "}}\n",
              "\n",
              "                        })                };                            </script>        </div>\n",
              "</body>\n",
              "</html>"
            ]
          },
          "metadata": {
            "tags": []
          }
        }
      ]
    },
    {
      "cell_type": "code",
      "metadata": {
        "id": "4VJReJNzumhm",
        "colab": {
          "base_uri": "https://localhost:8080/"
        },
        "outputId": "ffb63617-1c54-4dcc-fec1-d9ea0704ce73"
      },
      "source": [
        "topic_model.get_params()\n"
      ],
      "execution_count": null,
      "outputs": [
        {
          "output_type": "execute_result",
          "data": {
            "text/plain": [
              "{'calculate_probabilities': True,\n",
              " 'embedding_model': <bertopic.backend._sentencetransformers.SentenceTransformerBackend at 0x7fd89c5bca50>,\n",
              " 'hdbscan_model': HDBSCAN(algorithm='best', allow_single_cluster=False, alpha=1.0,\n",
              "         approx_min_span_tree=True, cluster_selection_epsilon=0.0,\n",
              "         cluster_selection_method='eom', core_dist_n_jobs=4,\n",
              "         gen_min_span_tree=False, leaf_size=40,\n",
              "         match_reference_implementation=False, memory=Memory(location=None),\n",
              "         metric='euclidean', min_cluster_size=10, min_samples=None, p=None,\n",
              "         prediction_data=True),\n",
              " 'language': 'english',\n",
              " 'low_memory': False,\n",
              " 'min_topic_size': 10,\n",
              " 'n_gram_range': (1, 1),\n",
              " 'nr_topics': None,\n",
              " 'top_n_words': 10,\n",
              " 'umap_model': UMAP(a=None, angular_rp_forest=True, b=None, dens_frac=0.0, dens_lambda=0.0,\n",
              "      dens_var_shift=0.1, densmap=False, disconnection_distance=None,\n",
              "      force_approximation_algorithm=False, init='spectral', learning_rate=1.0,\n",
              "      local_connectivity=1.0, low_memory=False, metric='cosine',\n",
              "      metric_kwds=None, min_dist=0.0, n_components=5, n_epochs=None, n_jobs=-1,\n",
              "      n_neighbors=15, negative_sample_rate=5, output_dens=False,\n",
              "      output_metric='euclidean', output_metric_kwds=None, random_state=None,\n",
              "      repulsion_strength=1.0, set_op_mix_ratio=1.0, spread=1.0,\n",
              "      target_metric='categorical', target_metric_kwds=None, ...),\n",
              " 'vectorizer_model': CountVectorizer(analyzer='word', binary=False, decode_error='strict',\n",
              "                 dtype=<class 'numpy.int64'>, encoding='utf-8', input='content',\n",
              "                 lowercase=True, max_df=1.0, max_features=None, min_df=1,\n",
              "                 ngram_range=(1, 1), preprocessor=None, stop_words=None,\n",
              "                 strip_accents=None, token_pattern='(?u)\\\\b\\\\w\\\\w+\\\\b',\n",
              "                 tokenizer=None, vocabulary=None),\n",
              " 'verbose': False}"
            ]
          },
          "metadata": {
            "tags": []
          },
          "execution_count": 63
        }
      ]
    },
    {
      "cell_type": "code",
      "metadata": {
        "id": "pKEHEXJYuoUa"
      },
      "source": [
        "# topic_model.save(\"./topic_model\")"
      ],
      "execution_count": null,
      "outputs": []
    },
    {
      "cell_type": "code",
      "metadata": {
        "id": "v3ThDaDwuxf6"
      },
      "source": [
        "def topic_filterizer(question):\n",
        "  if topic_model.find_topics(question)[1][0] >= 0.5:\n",
        "    return True\n",
        "  else:\n",
        "    return False\n",
        "\n",
        "new_train = df[df[\"question\"].apply(topic_filterizer) == True].head()"
      ],
      "execution_count": null,
      "outputs": []
    },
    {
      "cell_type": "code",
      "metadata": {
        "id": "kQhXD3aGu8vr",
        "colab": {
          "base_uri": "https://localhost:8080/",
          "height": 1000
        },
        "outputId": "bade25a7-2065-41b8-bd8e-2fb65c52f42d"
      },
      "source": [
        "df[df[\"question\"].apply(topic_filterizer) == True]"
      ],
      "execution_count": null,
      "outputs": [
        {
          "output_type": "execute_result",
          "data": {
            "text/html": [
              "<div>\n",
              "<style scoped>\n",
              "    .dataframe tbody tr th:only-of-type {\n",
              "        vertical-align: middle;\n",
              "    }\n",
              "\n",
              "    .dataframe tbody tr th {\n",
              "        vertical-align: top;\n",
              "    }\n",
              "\n",
              "    .dataframe thead th {\n",
              "        text-align: right;\n",
              "    }\n",
              "</style>\n",
              "<table border=\"1\" class=\"dataframe\">\n",
              "  <thead>\n",
              "    <tr style=\"text-align: right;\">\n",
              "      <th></th>\n",
              "      <th>wiki_page</th>\n",
              "      <th>background</th>\n",
              "      <th>section_title</th>\n",
              "      <th>context</th>\n",
              "      <th>question</th>\n",
              "      <th>answer</th>\n",
              "      <th>answerable</th>\n",
              "      <th>context_length</th>\n",
              "      <th>answer_length</th>\n",
              "      <th>question_length</th>\n",
              "      <th>background_length</th>\n",
              "      <th>question_type</th>\n",
              "    </tr>\n",
              "  </thead>\n",
              "  <tbody>\n",
              "    <tr>\n",
              "      <th>24</th>\n",
              "      <td>Aesop Rock</td>\n",
              "      <td>Ian Matthias Bavitz (born June 5, 1976), bette...</td>\n",
              "      <td>2005-2007: Fast Cars EP, None Shall Pass, Nike...</td>\n",
              "      <td>In February 2005, Aesop Rock released a new EP...</td>\n",
              "      <td>When was Fast Cars released?</td>\n",
              "      <td>In February 2005,</td>\n",
              "      <td>1</td>\n",
              "      <td>2100</td>\n",
              "      <td>17</td>\n",
              "      <td>28</td>\n",
              "      <td>459</td>\n",
              "      <td>when</td>\n",
              "    </tr>\n",
              "    <tr>\n",
              "      <th>34</th>\n",
              "      <td>Therapy?</td>\n",
              "      <td>Therapy? are an alternative metal band from No...</td>\n",
              "      <td>The success (1993-1995)</td>\n",
              "      <td>If there was one true \"breakthrough\" year in t...</td>\n",
              "      <td>Did they release any albums in 1993?</td>\n",
              "      <td>The release of the Shortsharpshock EP catapult...</td>\n",
              "      <td>1</td>\n",
              "      <td>1851</td>\n",
              "      <td>56</td>\n",
              "      <td>36</td>\n",
              "      <td>360</td>\n",
              "      <td>did</td>\n",
              "    </tr>\n",
              "    <tr>\n",
              "      <th>36</th>\n",
              "      <td>Ben Carson</td>\n",
              "      <td>Benjamin Solomon Carson Sr. (born September 18...</td>\n",
              "      <td>High school</td>\n",
              "      <td>By ninth grade, the family's financial situati...</td>\n",
              "      <td>Where did Carson attend high school</td>\n",
              "      <td>Southwestern High School</td>\n",
              "      <td>1</td>\n",
              "      <td>2413</td>\n",
              "      <td>24</td>\n",
              "      <td>35</td>\n",
              "      <td>547</td>\n",
              "      <td>where</td>\n",
              "    </tr>\n",
              "    <tr>\n",
              "      <th>49</th>\n",
              "      <td>Andrés Galarraga</td>\n",
              "      <td>Andres Jose Padovani Galarraga (Spanish: [an'd...</td>\n",
              "      <td>National League batting champion (1993)</td>\n",
              "      <td>By joining the Rockies, he was given new life ...</td>\n",
              "      <td>when did he become national league batting cha...</td>\n",
              "      <td>He led National League batters in batting aver...</td>\n",
              "      <td>1</td>\n",
              "      <td>2943</td>\n",
              "      <td>146</td>\n",
              "      <td>52</td>\n",
              "      <td>561</td>\n",
              "      <td>when</td>\n",
              "    </tr>\n",
              "    <tr>\n",
              "      <th>50</th>\n",
              "      <td>Andrés Galarraga</td>\n",
              "      <td>Andres Jose Padovani Galarraga (Spanish: [an'd...</td>\n",
              "      <td>Atlanta Braves (1998-2000)</td>\n",
              "      <td>During his first season in Atlanta in 1998, Ga...</td>\n",
              "      <td>What position did he play with the Braves?</td>\n",
              "      <td>CANNOTANSWER</td>\n",
              "      <td>0</td>\n",
              "      <td>1878</td>\n",
              "      <td>12</td>\n",
              "      <td>42</td>\n",
              "      <td>561</td>\n",
              "      <td>what</td>\n",
              "    </tr>\n",
              "    <tr>\n",
              "      <th>...</th>\n",
              "      <td>...</td>\n",
              "      <td>...</td>\n",
              "      <td>...</td>\n",
              "      <td>...</td>\n",
              "      <td>...</td>\n",
              "      <td>...</td>\n",
              "      <td>...</td>\n",
              "      <td>...</td>\n",
              "      <td>...</td>\n",
              "      <td>...</td>\n",
              "      <td>...</td>\n",
              "      <td>...</td>\n",
              "    </tr>\n",
              "    <tr>\n",
              "      <th>11526</th>\n",
              "      <td>Stephen Hillenburg</td>\n",
              "      <td>Stephen McDannell Hillenburg (born August 21, ...</td>\n",
              "      <td>Personal life</td>\n",
              "      <td>Hillenburg's wife, Karen, is a chef who teache...</td>\n",
              "      <td>Does he have children?</td>\n",
              "      <td>He would jam with his son who is a drummer whi...</td>\n",
              "      <td>1</td>\n",
              "      <td>1961</td>\n",
              "      <td>116</td>\n",
              "      <td>22</td>\n",
              "      <td>583</td>\n",
              "      <td>does</td>\n",
              "    </tr>\n",
              "    <tr>\n",
              "      <th>11529</th>\n",
              "      <td>Styx (band)</td>\n",
              "      <td>Styx  is an American rock band from Chicago th...</td>\n",
              "      <td>Solo careers</td>\n",
              "      <td>Dennis DeYoung and Tommy Shaw released a strin...</td>\n",
              "      <td>Was the band successful with their solo careers?</td>\n",
              "      <td>Both Shaw and DeYoung generated a moderate amo...</td>\n",
              "      <td>1</td>\n",
              "      <td>2396</td>\n",
              "      <td>91</td>\n",
              "      <td>48</td>\n",
              "      <td>543</td>\n",
              "      <td>others</td>\n",
              "    </tr>\n",
              "    <tr>\n",
              "      <th>11530</th>\n",
              "      <td>Memoirs of a Geisha (film)</td>\n",
              "      <td>Memoirs of a Geisha is a 2005 American epic dr...</td>\n",
              "      <td>Chinese responses</td>\n",
              "      <td>The film received some hostile responses in Ma...</td>\n",
              "      <td>How did China respond to the film?</td>\n",
              "      <td>The film received some hostile responses in Ma...</td>\n",
              "      <td>1</td>\n",
              "      <td>1889</td>\n",
              "      <td>59</td>\n",
              "      <td>34</td>\n",
              "      <td>655</td>\n",
              "      <td>how</td>\n",
              "    </tr>\n",
              "    <tr>\n",
              "      <th>11534</th>\n",
              "      <td>Frederick II, Holy Roman Emperor</td>\n",
              "      <td>Frederick II (26 December 1194 - 13 December 1...</td>\n",
              "      <td>Evaluation</td>\n",
              "      <td>Historians rate Frederick II as a highly signi...</td>\n",
              "      <td>where was he a monarch of</td>\n",
              "      <td>European</td>\n",
              "      <td>1</td>\n",
              "      <td>2406</td>\n",
              "      <td>8</td>\n",
              "      <td>25</td>\n",
              "      <td>427</td>\n",
              "      <td>where</td>\n",
              "    </tr>\n",
              "    <tr>\n",
              "      <th>11549</th>\n",
              "      <td>Modern Sounds in Country and Western Music</td>\n",
              "      <td>Modern Sounds in Country and Western Music is ...</td>\n",
              "      <td>Recording</td>\n",
              "      <td>Modern Sounds in Country and Western Music was...</td>\n",
              "      <td>What was recording like</td>\n",
              "      <td>The recording sessions for the album took plac...</td>\n",
              "      <td>1</td>\n",
              "      <td>2208</td>\n",
              "      <td>87</td>\n",
              "      <td>23</td>\n",
              "      <td>532</td>\n",
              "      <td>what</td>\n",
              "    </tr>\n",
              "  </tbody>\n",
              "</table>\n",
              "<p>1770 rows × 12 columns</p>\n",
              "</div>"
            ],
            "text/plain": [
              "                                        wiki_page  ... question_type\n",
              "24                                     Aesop Rock  ...          when\n",
              "34                                       Therapy?  ...           did\n",
              "36                                     Ben Carson  ...         where\n",
              "49                               Andrés Galarraga  ...          when\n",
              "50                               Andrés Galarraga  ...          what\n",
              "...                                           ...  ...           ...\n",
              "11526                          Stephen Hillenburg  ...          does\n",
              "11529                                 Styx (band)  ...        others\n",
              "11530                  Memoirs of a Geisha (film)  ...           how\n",
              "11534            Frederick II, Holy Roman Emperor  ...         where\n",
              "11549  Modern Sounds in Country and Western Music  ...          what\n",
              "\n",
              "[1770 rows x 12 columns]"
            ]
          },
          "metadata": {
            "tags": []
          },
          "execution_count": 96
        }
      ]
    },
    {
      "cell_type": "code",
      "metadata": {
        "id": "9wD87xsUvDHK",
        "colab": {
          "base_uri": "https://localhost:8080/"
        },
        "outputId": "b41ba73c-8a6c-4512-a1ee-0fa382036514"
      },
      "source": [
        "c = 0\n",
        "for i in range(300):\n",
        "  if topic_model.find_topics(unanswerable.iloc[i,1])[1][0] >= 0.3:\n",
        "    c += 1\n",
        "  else:\n",
        "    # print(i)\n",
        "    pass\n",
        "print(\"Count: \",c)"
      ],
      "execution_count": null,
      "outputs": [
        {
          "output_type": "stream",
          "text": [
            "Count:  280\n"
          ],
          "name": "stdout"
        }
      ]
    },
    {
      "cell_type": "code",
      "metadata": {
        "colab": {
          "base_uri": "https://localhost:8080/",
          "height": 184
        },
        "id": "b1-HaioLJ-1U",
        "outputId": "74de6ab7-b696-4083-81fe-12abb7a47292"
      },
      "source": [
        "df[:1]"
      ],
      "execution_count": null,
      "outputs": [
        {
          "output_type": "execute_result",
          "data": {
            "text/html": [
              "<div>\n",
              "<style scoped>\n",
              "    .dataframe tbody tr th:only-of-type {\n",
              "        vertical-align: middle;\n",
              "    }\n",
              "\n",
              "    .dataframe tbody tr th {\n",
              "        vertical-align: top;\n",
              "    }\n",
              "\n",
              "    .dataframe thead th {\n",
              "        text-align: right;\n",
              "    }\n",
              "</style>\n",
              "<table border=\"1\" class=\"dataframe\">\n",
              "  <thead>\n",
              "    <tr style=\"text-align: right;\">\n",
              "      <th></th>\n",
              "      <th>wiki_page</th>\n",
              "      <th>background</th>\n",
              "      <th>section_title</th>\n",
              "      <th>context</th>\n",
              "      <th>question</th>\n",
              "      <th>answer</th>\n",
              "      <th>answerable</th>\n",
              "      <th>context_length</th>\n",
              "      <th>answer_length</th>\n",
              "      <th>question_length</th>\n",
              "      <th>background_length</th>\n",
              "      <th>question_type</th>\n",
              "    </tr>\n",
              "  </thead>\n",
              "  <tbody>\n",
              "    <tr>\n",
              "      <th>0</th>\n",
              "      <td>Malayali</td>\n",
              "      <td>The Malayali people or Keralite people (also s...</td>\n",
              "      <td>Geographic distribution and population</td>\n",
              "      <td>According to the Indian census of 2001, there ...</td>\n",
              "      <td>Where is Malayali located?</td>\n",
              "      <td>30,803,747 speakers of Malayalam in Kerala, ma...</td>\n",
              "      <td>1</td>\n",
              "      <td>2036</td>\n",
              "      <td>111</td>\n",
              "      <td>26</td>\n",
              "      <td>580</td>\n",
              "      <td>where</td>\n",
              "    </tr>\n",
              "  </tbody>\n",
              "</table>\n",
              "</div>"
            ],
            "text/plain": [
              "  wiki_page  ... question_type\n",
              "0  Malayali  ...         where\n",
              "\n",
              "[1 rows x 12 columns]"
            ]
          },
          "metadata": {
            "tags": []
          },
          "execution_count": 71
        }
      ]
    },
    {
      "cell_type": "markdown",
      "metadata": {
        "id": "avNmPAzpvKes"
      },
      "source": [
        "###### Checking if a question returned as not related to any context (since similarity < threshold) is actually an ambiguous question\n"
      ]
    },
    {
      "cell_type": "code",
      "metadata": {
        "id": "lXgOw4oXvE7i",
        "colab": {
          "base_uri": "https://localhost:8080/"
        },
        "outputId": "6648d82c-a146-44ef-ac95-99cf4054d9f8"
      },
      "source": [
        "# Similarity of the topic most similar to that question\n",
        "topic_model.find_topics(unanswerable.iloc[75,4])"
      ],
      "execution_count": null,
      "outputs": [
        {
          "output_type": "execute_result",
          "data": {
            "text/plain": [
              "([70, 42, 38, 9, 56],\n",
              " [0.378092163853305,\n",
              "  0.23614543353224543,\n",
              "  0.23287028565890944,\n",
              "  0.23075956439646783,\n",
              "  0.21636676911907543])"
            ]
          },
          "metadata": {
            "tags": []
          },
          "execution_count": 85
        }
      ]
    },
    {
      "cell_type": "code",
      "metadata": {
        "id": "5ABRBxn_vIB4",
        "colab": {
          "base_uri": "https://localhost:8080/"
        },
        "outputId": "65b0778c-df2a-4d35-9a3b-50a30297029e"
      },
      "source": [
        "topic_model.find_topics(unanswerable.iloc[75,3])"
      ],
      "execution_count": null,
      "outputs": [
        {
          "output_type": "execute_result",
          "data": {
            "text/plain": [
              "([2, 62, 57, 18, 27],\n",
              " [0.2913337489394302,\n",
              "  0.2816552421735782,\n",
              "  0.278961363832444,\n",
              "  0.2607984936647449,\n",
              "  0.2279509116720838])"
            ]
          },
          "metadata": {
            "tags": []
          },
          "execution_count": 86
        }
      ]
    },
    {
      "cell_type": "code",
      "metadata": {
        "id": "iWwspyfMvSp3",
        "colab": {
          "base_uri": "https://localhost:8080/"
        },
        "outputId": "d2e23a83-9c54-4a17-9d34-d152bcafeb17"
      },
      "source": [
        "topic_model.find_topics(unanswerable.iloc[75,2])"
      ],
      "execution_count": null,
      "outputs": [
        {
          "output_type": "execute_result",
          "data": {
            "text/plain": [
              "([72, 48, 62, 16, 32],\n",
              " [0.4291322502413048,\n",
              "  0.3101993848756571,\n",
              "  0.27896306004734095,\n",
              "  0.2482211432546808,\n",
              "  0.24675568634151163])"
            ]
          },
          "metadata": {
            "tags": []
          },
          "execution_count": 87
        }
      ]
    },
    {
      "cell_type": "code",
      "metadata": {
        "id": "KBxY63WfvTOq",
        "colab": {
          "base_uri": "https://localhost:8080/",
          "height": 35
        },
        "outputId": "03883eb7-f108-41f9-fb56-6c6937626b02"
      },
      "source": [
        "# Question under analysis\n",
        "unanswerable.iloc[75,4]"
      ],
      "execution_count": null,
      "outputs": [
        {
          "output_type": "execute_result",
          "data": {
            "application/vnd.google.colaboratory.intrinsic+json": {
              "type": "string"
            },
            "text/plain": [
              "'did she ever receive backlash'"
            ]
          },
          "metadata": {
            "tags": []
          },
          "execution_count": 88
        }
      ]
    },
    {
      "cell_type": "code",
      "metadata": {
        "id": "rghNnJVRvWb9",
        "colab": {
          "base_uri": "https://localhost:8080/",
          "height": 35
        },
        "outputId": "e2671745-9772-4471-c110-0e13e3958732"
      },
      "source": [
        "# Answer to that question\n",
        "unanswerable.iloc[75,5]"
      ],
      "execution_count": null,
      "outputs": [
        {
          "output_type": "execute_result",
          "data": {
            "application/vnd.google.colaboratory.intrinsic+json": {
              "type": "string"
            },
            "text/plain": [
              "'CANNOTANSWER'"
            ]
          },
          "metadata": {
            "tags": []
          },
          "execution_count": 89
        }
      ]
    },
    {
      "cell_type": "markdown",
      "metadata": {
        "id": "nzZqBVI1JUMb"
      },
      "source": [
        "Now, doing it for answerable ques"
      ]
    },
    {
      "cell_type": "code",
      "metadata": {
        "colab": {
          "base_uri": "https://localhost:8080/"
        },
        "id": "3YY4xH3hJjjq",
        "outputId": "fcb74aff-3eb8-4181-e974-13bac1f3b774"
      },
      "source": [
        "# Similarity of the topic most similar to that question\n",
        "topic_model.find_topics(answerable.iloc[75,4])"
      ],
      "execution_count": null,
      "outputs": [
        {
          "output_type": "execute_result",
          "data": {
            "text/plain": [
              "([15, 67, 31, 5, 14],\n",
              " [0.4421538694576965,\n",
              "  0.4328267139975613,\n",
              "  0.4301794714424208,\n",
              "  0.41805322736294814,\n",
              "  0.4142775276227654])"
            ]
          },
          "metadata": {
            "tags": []
          },
          "execution_count": 90
        }
      ]
    },
    {
      "cell_type": "code",
      "metadata": {
        "colab": {
          "base_uri": "https://localhost:8080/"
        },
        "id": "gxTzRLx1JlFU",
        "outputId": "9a50037e-89b4-4d40-c7a7-340de260bd45"
      },
      "source": [
        "topic_model.find_topics(answerable.iloc[75,3])"
      ],
      "execution_count": null,
      "outputs": [
        {
          "output_type": "execute_result",
          "data": {
            "text/plain": [
              "([15, 50, 71, 59, 69],\n",
              " [0.533416522681444,\n",
              "  0.284968567340785,\n",
              "  0.27718542506730814,\n",
              "  0.25983402849656057,\n",
              "  0.2559404607707897])"
            ]
          },
          "metadata": {
            "tags": []
          },
          "execution_count": 91
        }
      ]
    },
    {
      "cell_type": "code",
      "metadata": {
        "colab": {
          "base_uri": "https://localhost:8080/"
        },
        "id": "O_Ljg5-aJono",
        "outputId": "834a6e56-5c8b-402c-9480-cbd79a173e59"
      },
      "source": [
        "topic_model.find_topics(answerable.iloc[75,2])"
      ],
      "execution_count": null,
      "outputs": [
        {
          "output_type": "execute_result",
          "data": {
            "text/plain": [
              "([15, 67, 52, 50, 5],\n",
              " [0.4119748486113536,\n",
              "  0.3863769415224782,\n",
              "  0.36813002222793545,\n",
              "  0.3283669607276488,\n",
              "  0.32561387863551755])"
            ]
          },
          "metadata": {
            "tags": []
          },
          "execution_count": 92
        }
      ]
    },
    {
      "cell_type": "code",
      "metadata": {
        "colab": {
          "base_uri": "https://localhost:8080/",
          "height": 35
        },
        "id": "ZQwY78dVJriF",
        "outputId": "71a31d5a-9812-4e60-aad9-110d349e65af"
      },
      "source": [
        "# Question under analysis\n",
        "answerable.iloc[75,4]"
      ],
      "execution_count": null,
      "outputs": [
        {
          "output_type": "execute_result",
          "data": {
            "application/vnd.google.colaboratory.intrinsic+json": {
              "type": "string"
            },
            "text/plain": [
              "'When did he get his first championship?'"
            ]
          },
          "metadata": {
            "tags": []
          },
          "execution_count": 93
        }
      ]
    },
    {
      "cell_type": "code",
      "metadata": {
        "colab": {
          "base_uri": "https://localhost:8080/",
          "height": 35
        },
        "id": "dMvG4zwwJuzu",
        "outputId": "38dcb132-e617-4647-de0d-bec7fc2c0345"
      },
      "source": [
        "# Answer to that question\n",
        "answerable.iloc[75,5]"
      ],
      "execution_count": null,
      "outputs": [
        {
          "output_type": "execute_result",
          "data": {
            "application/vnd.google.colaboratory.intrinsic+json": {
              "type": "string"
            },
            "text/plain": [
              "'In November 2004,'"
            ]
          },
          "metadata": {
            "tags": []
          },
          "execution_count": 94
        }
      ]
    },
    {
      "cell_type": "code",
      "metadata": {
        "id": "yndM06zt_Lqm"
      },
      "source": [
        ""
      ],
      "execution_count": null,
      "outputs": []
    }
  ]
}